{
 "cells": [
  {
   "cell_type": "markdown",
   "id": "7ae9dc35-ed06-4e63-bb10-c9bb06a8b0e8",
   "metadata": {},
   "source": [
    "## text2mos straight eval"
   ]
  },
  {
   "cell_type": "markdown",
   "id": "676822f7-4588-41db-bd6d-7f5077e74009",
   "metadata": {},
   "source": [
    "<span style=\"font-size: 200%; color: red;\">First! check the changing \"your config.yaml\" </span>"
   ]
  },
  {
   "cell_type": "markdown",
   "id": "88c3010d-3fd8-4092-9a4d-3c16649ff1e4",
   "metadata": {},
   "source": [
    "## [seq] import"
   ]
  },
  {
   "cell_type": "code",
   "execution_count": 1,
   "id": "2b85b686-4806-43f8-8cb0-58cc34a4ce64",
   "metadata": {},
   "outputs": [],
   "source": [
    "import os\n",
    "import json\n",
    "import yaml\n",
    "import sys\n",
    "import time\n",
    "import copy\n",
    "import IPython.display as ipd\n",
    "import pprint\n",
    "from pathlib import Path\n",
    "from tqdm import tqdm\n",
    "\n",
    "\n",
    "import numpy as np\n",
    "import torch\n",
    "import torchaudio\n",
    "from librosa.filters import mel as librosa_mel_fn\n",
    "#import matplotlib\n",
    "#matplotlib.use(\"Agg\")\n",
    "import matplotlib.pyplot as plt\n",
    "from scipy.io.wavfile import write\n",
    "\n",
    "\n",
    "import toybox"
   ]
  },
  {
   "cell_type": "code",
   "execution_count": 2,
   "id": "b90f2a7b-29c0-43f6-a69c-d1a0f5c6dce2",
   "metadata": {},
   "outputs": [],
   "source": [
    "def plot_audio(audio, samplerate, title='time-domain waveform'):\n",
    "    \"\"\"\n",
    "    usage:\n",
    "        # audio is [channel, time(num_frames)] ex.torch.Size([1, 68608])\n",
    "        # audio[0,:]: list of 1ch audio data\n",
    "        # audio.shape[1]: int value of 1ch audio data length\n",
    "        audio, sample_rate = torchaudio.load(str(iwav_path))\n",
    "        %matplotlib inline\n",
    "        plot_audio(audio, sample_rate)\n",
    "    \"\"\"\n",
    "    # transform to mono\n",
    "    channel = 0\n",
    "    audio = audio[channel,:].view(1,-1)\n",
    "    # to numpy\n",
    "    audio = audio.to('cpu').detach().numpy().copy()\n",
    "    time = np.linspace(0., audio.shape[1]/samplerate, audio.shape[1])\n",
    "    \n",
    "    fig, ax = plt.subplots(figsize=(12,9))\n",
    "    \n",
    "    ax.plot(time, audio[0, :])\n",
    "    ax.set_title(title, fontsize=20, y=-0.12)\n",
    "    ax.tick_params(direction='in')\n",
    "    #ax.set_xlim(0, 3)\n",
    "    ax.set_xlabel('Time')\n",
    "    ax.set_ylabel('Amp')\n",
    "    #ax.legend()\n",
    "    plt.tight_layout()\n",
    "    fig.canvas.draw()\n",
    "    plt.show()\n",
    "    #fig.savefig('figure.png')\n",
    "    plt.close(fig)\n",
    "    return fig\n",
    "\n",
    "def plot_mel(tensors:list, titles:list[str]):\n",
    "    \"\"\"\n",
    "    usage:\n",
    "        mel = mel_process(...)\n",
    "        fig_mel = plot_mel([mel_groundtruth[0], mel_prediction[0]],\n",
    "                            ['groundtruth', 'inferenced(model)'])\n",
    "\n",
    "    \"\"\"\n",
    "    xlim = max([t.shape[1] for t in tensors])\n",
    "    fig, axs = plt.subplots(nrows=len(tensors),\n",
    "                            ncols=1,\n",
    "                            figsize=(12, 9),\n",
    "                            constrained_layout=True)\n",
    "\n",
    "    if len(tensors) == 1:\n",
    "        axs = [axs]\n",
    "    \n",
    "    for i in range(len(tensors)):\n",
    "        im = axs[i].imshow(tensors[i],\n",
    "                           aspect=\"auto\",\n",
    "                           origin=\"lower\",\n",
    "                           interpolation='none')\n",
    "        #plt.colorbar(im, ax=axs[i])\n",
    "        fig.colorbar(im, ax=axs[i])\n",
    "        axs[i].set_title(titles[i])\n",
    "        axs[i].set_xlim([0, xlim])\n",
    "    fig.canvas.draw()\n",
    "    #plt.show()\n",
    "    #plt.close()\n",
    "    plt.close(fig)  # fig.close() \n",
    "    return fig\n",
    "\n",
    "def convert_phn_to_id(phonemes, phn2id):\n",
    "    \"\"\"\n",
    "    phonemes: phonemes separated by ' '\n",
    "    phn2id: phn2id dict\n",
    "    \"\"\"\n",
    "    return [phn2id[x] for x in ['<bos>'] + phonemes.split(' ') + ['<eos>']]\n",
    "\n",
    "\n",
    "def text2phnid(text, phn2id, language='en', add_blank=True):\n",
    "    if language == 'en':\n",
    "        from text import G2pEn\n",
    "        word2phn = G2pEn()\n",
    "        phonemes = word2phn(text)\n",
    "        if add_blank:\n",
    "            phonemes = ' <blank> '.join(phonemes)\n",
    "        return phonemes, convert_phn_to_id(phonemes, phn2id)\n",
    "    else:\n",
    "        raise ValueError(\n",
    "            'Language should be en (for English)!')"
   ]
  },
  {
   "cell_type": "code",
   "execution_count": 3,
   "id": "57417274-b3ca-41db-b801-0b38abe502d3",
   "metadata": {},
   "outputs": [
    {
     "name": "stdout",
     "output_type": "stream",
     "text": [
      "target_epoch: 500\n"
     ]
    }
   ],
   "source": [
    "# \n",
    "# ckpt_file_dir: logs4model/<model_name>/<runtime_name>/ckpt/\n",
    "#500_397001,500_397003\n",
    "info_models_e500 = [\n",
    "    {\n",
    "        \"model_name\": \"gradtts\",\n",
    "        \"config_path\": \"configs/config_gt_k3.yaml\",\n",
    "        \"runtime_name\": \"run_gt_k3\",\n",
    "        \"ckpt_filename\": \"gradtts_480_381121.pt.pt\"\n",
    "    },\n",
    "    {\n",
    "        \"model_name\": \"gradseptts\",\n",
    "        \"config_path\": \"configs/config_sgt_k3.yaml\",\n",
    "        \"runtime_name\": \"run_sgt_k3\",\n",
    "        \"ckpt_filename\": \"gradseptts_480_381121.pt\"\n",
    "    },\n",
    "    {\n",
    "        \"model_name\": \"gradtfktts\",\n",
    "        \"config_path\": \"configs/config_tfk_k3.yaml\",\n",
    "        \"runtime_name\": \"run_tfk_k3\",\n",
    "        \"ckpt_filename\": \"gradtfktts_480_381121.pt\"\n",
    "    },\n",
    "    {\n",
    "        \"model_name\": \"gradtfk5tts\",\n",
    "        \"config_path\": \"configs/config_tfk_k5.yaml\",\n",
    "        \"runtime_name\": \"run_tfk_k5\",\n",
    "        \"ckpt_filename\": \"gradtfk5tts_480_381121.pt\"\n",
    "    },\n",
    "    {\n",
    "        \"model_name\": \"gradtimektts\",\n",
    "        \"config_path\": \"configs/config_timek_k3.yaml\",\n",
    "        \"runtime_name\": \"run_timek_k3\",\n",
    "        \"ckpt_filename\": \"gradtimektts_480_381121.pt\"\n",
    "    },\n",
    "    {\n",
    "        \"model_name\": \"gradfreqktts\",\n",
    "        \"config_path\": \"configs/config_freqk_k3.yaml\",\n",
    "        \"runtime_name\": \"run_freqk_k3\",\n",
    "        \"ckpt_filename\": \"gradfreqktts_480_381121.pt\"\n",
    "    },\n",
    "    {\n",
    "        \"model_name\": \"gradtfkfultts\",\n",
    "        \"config_path\": \"configs/config_tfkfulmask_k3.yaml\",\n",
    "        \"runtime_name\": \"run_tfkfulmask_k3\",\n",
    "        \"ckpt_filename\":\"gradtfkfulttsmask_500_396308.pt\"\n",
    "    }\n",
    "]\n",
    "\n",
    "# logs4model/gradtfkfultts/run_tfkfulmask_k3/ckpt/\n",
    "\"\"\"\n",
    "    {\n",
    "        \"model_name\": \"gradtfkfultts\",\n",
    "        \"config_path\": \"configs/config_tfkful_k3.yaml\",\n",
    "        \"runtime_name\": \"run_tfkful_k3\",\n",
    "        \"ckpt_filename\": \"gradtfkfultts_480_381123.pt\"\n",
    "    }\n",
    "]\n",
    "\"\"\"\n",
    "\n",
    "info_models_e1000 = [\n",
    "    {\n",
    "        \"model_name\": \"gradtts\",\n",
    "        \"config_path\": \"configs/config_gt_k3.yaml\",\n",
    "        \"runtime_name\": \"run_gt_k3\",\n",
    "        \"ckpt_filename\": \"gradtts_1000_794002.pt\"\n",
    "    },\n",
    "    {\n",
    "        \"model_name\": \"gradseptts\",\n",
    "        \"config_path\": \"configs/config_sgt_k3.yaml\",\n",
    "        \"runtime_name\": \"run_sgt_k3\",\n",
    "        \"ckpt_filename\": \"gradseptts_1000_794002.pt\"\n",
    "    },\n",
    "    {\n",
    "        \"model_name\": \"gradtfktts\",\n",
    "        \"config_path\": \"configs/config_tfk_k3.yaml\",\n",
    "        \"runtime_name\": \"run_tfk_k3\",\n",
    "        \"ckpt_filename\": \"gradtfktts_1000_794002.pt\"\n",
    "    },\n",
    "    {\n",
    "        \"model_name\": \"gradtfk5tts\",\n",
    "        \"config_path\": \"configs/config_tfk_k5.yaml\",\n",
    "        \"runtime_name\": \"run_tfk_k5\",\n",
    "        \"ckpt_filename\": \"gradtfk5tts_1000_794002.pt\"\n",
    "    },\n",
    "    {\n",
    "        \"model_name\": \"gradtimektts\",\n",
    "        \"config_path\": \"configs/config_timek_k3.yaml\",\n",
    "        \"runtime_name\": \"run_timek_k3\",\n",
    "        \"ckpt_filename\": \"gradtimektts_1000_794002.pt\"\n",
    "    },\n",
    "    {\n",
    "        \"model_name\": \"gradfreqktts\",\n",
    "        \"config_path\": \"configs/config_freqk_k3.yaml\",\n",
    "        \"runtime_name\": \"run_freqk_k3\",\n",
    "        \"ckpt_filename\": \"gradfreqktts_1000_794002.pt\"\n",
    "    }\n",
    "]\n",
    "\n",
    "\n",
    "\n",
    "target_epoch = 500\n",
    "print(f'target_epoch: {target_epoch}')\n",
    "if target_epoch == 500:\n",
    "    info_models = copy.deepcopy(info_models_e500)\n",
    "elif target_epoch == 1000:\n",
    "    info_models = copy.deepcopy(info_models_e1000)\n",
    "else:\n",
    "    print('Do not supported')"
   ]
  },
  {
   "cell_type": "markdown",
   "id": "804a2d17-d921-4ca8-9599-47659075ace2",
   "metadata": {},
   "source": [
    "you can choose\n",
    "\n",
    "- <span style=\"font-size: 200%; color: red;\">inference section</span>\n",
    "- <span style=\"font-size: 200%; color: red;\">json analysis section</span>\n",
    "\n",
    "if you choose <span style=\"color: red;\">inference section</span>,\n",
    "you keep go ahead below process.\n",
    "\n",
    "but you choose <span style=\"color: red;\">json analysis section</span>,\n",
    "you need to <span style=\"color: blue;\">jump to the end this page</span>."
   ]
  },
  {
   "cell_type": "markdown",
   "id": "52fba750-d859-4ea0-8b07-d2af7da5e829",
   "metadata": {},
   "source": [
    "## [seq] check configuration"
   ]
  },
  {
   "cell_type": "code",
   "execution_count": 6,
   "id": "46f1bd93-99d4-4d12-9c35-404aa6d71e14",
   "metadata": {},
   "outputs": [],
   "source": [
    "# First, please check changing <model_name>\n",
    "config_yaml = 'configs/config_exp_mid.yaml'\n",
    "config = toybox.load_yaml_and_expand_var('configs/config_exp_mid.yaml')"
   ]
  },
  {
   "cell_type": "code",
   "execution_count": 7,
   "id": "96ad072d-8f0a-4d43-b350-eb733ed819b3",
   "metadata": {},
   "outputs": [
    {
     "name": "stdout",
     "output_type": "stream",
     "text": [
      "model_name: gradtfkfultts\n",
      "runtime_name: run_tfkfulmask_k3\n",
      "ckpt_path: logs4model/gradtfkfultts/run_tfkfulmask_k3/ckpt/gradtfkfulttsmask_500_396308.pt\n"
     ]
    }
   ],
   "source": [
    "# for model\n",
    "model_name = config['model_name']\n",
    "if model_name == 'gradtts':\n",
    "    choise_idx = 0\n",
    "elif model_name == 'gradseptts':\n",
    "    choise_idx = 1\n",
    "elif model_name == 'gradtfktts':\n",
    "    choise_idx = 2\n",
    "elif model_name == 'gradtfk5tts':\n",
    "    choise_idx = 3\n",
    "elif model_name == 'gradtimektts':\n",
    "    choise_idx = 4\n",
    "elif model_name == 'gradfreqktts':\n",
    "    choise_idx = 5\n",
    "elif model_name == 'gradtfkfultts':\n",
    "    choise_idx = 6\n",
    "else:\n",
    "    os._exit(os.EX_OK)\n",
    "    print('Alart: carefully chose model ')\n",
    "print(f'model_name: {model_name}')\n",
    "\n",
    "# for runtime to load model\n",
    "runtime_name = config['runtime_name']\n",
    "print(f'runtime_name: {runtime_name}')\n",
    "config_path4model = info_models[choise_idx][\"config_path\"]\n",
    "runtime_name4model = info_models[choise_idx][\"runtime_name\"]\n",
    "ckpt_dir = f'logs4model/{model_name}/{runtime_name4model}/ckpt'\n",
    "ckpt_path = ckpt_dir + \"/\" + info_models[choise_idx][\"ckpt_filename\"]\n",
    "print(f\"ckpt_path: {ckpt_path}\")"
   ]
  },
  {
   "cell_type": "code",
   "execution_count": 8,
   "id": "e9851867-fd21-43ed-b4b8-e0b0296874c0",
   "metadata": {},
   "outputs": [
    {
     "name": "stdout",
     "output_type": "stream",
     "text": [
      "80 1024 22050 256 1024 0 8000 1234\n"
     ]
    }
   ],
   "source": [
    "# for audio params\n",
    "n_mels: int = config['n_mels'] # 80\n",
    "n_fft: int = config['n_fft'] # 1024\n",
    "sample_rate: int = config['sample_rate'] # 22050\n",
    "hop_size: int = config['hop_size'] # 256\n",
    "win_size: int = config['win_size'] # 1024\n",
    "f_min: int = config['f_min'] # 0\n",
    "f_max: int = config['f_max'] # 8000\n",
    "random_seed: int = config['random_seed'] # 1234\n",
    "print(n_mels, n_fft, sample_rate, hop_size, win_size, f_min, f_max, random_seed)"
   ]
  },
  {
   "cell_type": "code",
   "execution_count": 9,
   "id": "2acc1808-3450-44a8-bf1b-52e0d3fc0027",
   "metadata": {},
   "outputs": [
    {
     "name": "stdout",
     "output_type": "stream",
     "text": [
      "phn2id_path: ./configs/phn2id.json\n"
     ]
    }
   ],
   "source": [
    "print(f\"phn2id_path: {config['phn2id_path']}\")\n",
    "with open(config['phn2id_path']) as f:\n",
    "    phn2id = json.load(f)\n",
    "\n",
    "vocab_size = len(phn2id) + 1"
   ]
  },
  {
   "cell_type": "code",
   "execution_count": 10,
   "id": "acdb351d-0d61-4edd-96ff-7b27b07e98db",
   "metadata": {},
   "outputs": [
    {
     "name": "stdout",
     "output_type": "stream",
     "text": [
      "hifigan_randomseed: 1234\n"
     ]
    }
   ],
   "source": [
    "# for hifigan\n",
    "# setting file paths\n",
    "# from https://github.com/huawei-noah/Speech-Backbones/tree/main/Grad-TTS/hifi-gan\n",
    "# https://drive.google.com/drive/folders/1-eEYTB5Av9jNql0WGBlRoi-WH2J7bp5Y?usp=sharing\n",
    "HiFiGAN_CONFIG = './hifigan/official_pretrained/LJ_V2/config.json'\n",
    "HiFiGAN_ckpt = './hifigan/official_pretrained/LJ_V2/generator_v2'\n",
    "\n",
    "from hifigan import models, env\n",
    "\n",
    "with open(HiFiGAN_CONFIG) as f:\n",
    "    hifigan_hparams = env.AttrDict(json.load(f))\n",
    "\n",
    "hifigan_randomseed = hifigan_hparams.seed\n",
    "print(f'hifigan_randomseed: {hifigan_randomseed}')"
   ]
  },
  {
   "cell_type": "markdown",
   "id": "4cd71729-1b21-4393-a10f-f4b20f71354c",
   "metadata": {},
   "source": [
    "## [seq] device setting"
   ]
  },
  {
   "cell_type": "code",
   "execution_count": 11,
   "id": "9e9808b4-2d46-441a-8800-d40415df13a8",
   "metadata": {},
   "outputs": [
    {
     "name": "stdout",
     "output_type": "stream",
     "text": [
      "all cpu at using device: 52\n",
      "Number of available CPU: 4\n"
     ]
    },
    {
     "ename": "RuntimeError",
     "evalue": "Found no NVIDIA driver on your system. Please check that you have an NVIDIA GPU and installed a driver from http://www.nvidia.com/Download/index.aspx",
     "output_type": "error",
     "traceback": [
      "\u001b[0;31m---------------------------------------------------------------------------\u001b[0m",
      "\u001b[0;31mRuntimeError\u001b[0m                              Traceback (most recent call last)",
      "Cell \u001b[0;32mIn[11], line 5\u001b[0m\n\u001b[1;32m      3\u001b[0m \u001b[38;5;28mprint\u001b[39m(\u001b[38;5;124mf\u001b[39m\u001b[38;5;124m\"\u001b[39m\u001b[38;5;124mall cpu at using device: \u001b[39m\u001b[38;5;132;01m{\u001b[39;00mos\u001b[38;5;241m.\u001b[39mcpu_count()\u001b[38;5;132;01m}\u001b[39;00m\u001b[38;5;124m\"\u001b[39m)\n\u001b[1;32m      4\u001b[0m \u001b[38;5;28mprint\u001b[39m(\u001b[38;5;124mf\u001b[39m\u001b[38;5;124m\"\u001b[39m\u001b[38;5;124mNumber of available CPU: \u001b[39m\u001b[38;5;132;01m{\u001b[39;00m\u001b[38;5;28mlen\u001b[39m(os\u001b[38;5;241m.\u001b[39msched_getaffinity(\u001b[38;5;241m0\u001b[39m))\u001b[38;5;132;01m}\u001b[39;00m\u001b[38;5;124m\"\u001b[39m) \u001b[38;5;66;03m# Number of available CPUs can also be obtained. ,use systemcall at linux.\u001b[39;00m\n\u001b[0;32m----> 5\u001b[0m \u001b[38;5;28mprint\u001b[39m(\u001b[38;5;124mf\u001b[39m\u001b[38;5;124m\"\u001b[39m\u001b[38;5;124mGPU_name: \u001b[39m\u001b[38;5;132;01m{\u001b[39;00m\u001b[43mtorch\u001b[49m\u001b[38;5;241;43m.\u001b[39;49m\u001b[43mcuda\u001b[49m\u001b[38;5;241;43m.\u001b[39;49m\u001b[43mget_device_name\u001b[49m\u001b[43m(\u001b[49m\u001b[43m)\u001b[49m\u001b[38;5;132;01m}\u001b[39;00m\u001b[38;5;130;01m\\n\u001b[39;00m\u001b[38;5;124mGPU avail: \u001b[39m\u001b[38;5;132;01m{\u001b[39;00mtorch\u001b[38;5;241m.\u001b[39mcuda\u001b[38;5;241m.\u001b[39mis_available()\u001b[38;5;132;01m}\u001b[39;00m\u001b[38;5;130;01m\\n\u001b[39;00m\u001b[38;5;124m\"\u001b[39m)\n",
      "File \u001b[0;32m~/aoi/.venv/lib/python3.10/site-packages/torch/cuda/__init__.py:414\u001b[0m, in \u001b[0;36mget_device_name\u001b[0;34m(device)\u001b[0m\n\u001b[1;32m    402\u001b[0m \u001b[38;5;28;01mdef\u001b[39;00m \u001b[38;5;21mget_device_name\u001b[39m(device: Optional[_device_t] \u001b[38;5;241m=\u001b[39m \u001b[38;5;28;01mNone\u001b[39;00m) \u001b[38;5;241m-\u001b[39m\u001b[38;5;241m>\u001b[39m \u001b[38;5;28mstr\u001b[39m:\n\u001b[1;32m    403\u001b[0m \u001b[38;5;250m    \u001b[39m\u001b[38;5;124mr\u001b[39m\u001b[38;5;124;03m\"\"\"Get the name of a device.\u001b[39;00m\n\u001b[1;32m    404\u001b[0m \n\u001b[1;32m    405\u001b[0m \u001b[38;5;124;03m    Args:\u001b[39;00m\n\u001b[0;32m   (...)\u001b[0m\n\u001b[1;32m    412\u001b[0m \u001b[38;5;124;03m        str: the name of the device\u001b[39;00m\n\u001b[1;32m    413\u001b[0m \u001b[38;5;124;03m    \"\"\"\u001b[39;00m\n\u001b[0;32m--> 414\u001b[0m     \u001b[38;5;28;01mreturn\u001b[39;00m \u001b[43mget_device_properties\u001b[49m\u001b[43m(\u001b[49m\u001b[43mdevice\u001b[49m\u001b[43m)\u001b[49m\u001b[38;5;241m.\u001b[39mname\n",
      "File \u001b[0;32m~/aoi/.venv/lib/python3.10/site-packages/torch/cuda/__init__.py:444\u001b[0m, in \u001b[0;36mget_device_properties\u001b[0;34m(device)\u001b[0m\n\u001b[1;32m    434\u001b[0m \u001b[38;5;28;01mdef\u001b[39;00m \u001b[38;5;21mget_device_properties\u001b[39m(device: _device_t) \u001b[38;5;241m-\u001b[39m\u001b[38;5;241m>\u001b[39m _CudaDeviceProperties:\n\u001b[1;32m    435\u001b[0m \u001b[38;5;250m    \u001b[39m\u001b[38;5;124mr\u001b[39m\u001b[38;5;124;03m\"\"\"Get the properties of a device.\u001b[39;00m\n\u001b[1;32m    436\u001b[0m \n\u001b[1;32m    437\u001b[0m \u001b[38;5;124;03m    Args:\u001b[39;00m\n\u001b[0;32m   (...)\u001b[0m\n\u001b[1;32m    442\u001b[0m \u001b[38;5;124;03m        _CudaDeviceProperties: the properties of the device\u001b[39;00m\n\u001b[1;32m    443\u001b[0m \u001b[38;5;124;03m    \"\"\"\u001b[39;00m\n\u001b[0;32m--> 444\u001b[0m     \u001b[43m_lazy_init\u001b[49m\u001b[43m(\u001b[49m\u001b[43m)\u001b[49m  \u001b[38;5;66;03m# will define _get_device_properties\u001b[39;00m\n\u001b[1;32m    445\u001b[0m     device \u001b[38;5;241m=\u001b[39m _get_device_index(device, optional\u001b[38;5;241m=\u001b[39m\u001b[38;5;28;01mTrue\u001b[39;00m)\n\u001b[1;32m    446\u001b[0m     \u001b[38;5;28;01mif\u001b[39;00m device \u001b[38;5;241m<\u001b[39m \u001b[38;5;241m0\u001b[39m \u001b[38;5;129;01mor\u001b[39;00m device \u001b[38;5;241m>\u001b[39m\u001b[38;5;241m=\u001b[39m device_count():\n",
      "File \u001b[0;32m~/aoi/.venv/lib/python3.10/site-packages/torch/cuda/__init__.py:293\u001b[0m, in \u001b[0;36m_lazy_init\u001b[0;34m()\u001b[0m\n\u001b[1;32m    291\u001b[0m \u001b[38;5;28;01mif\u001b[39;00m \u001b[38;5;124m\"\u001b[39m\u001b[38;5;124mCUDA_MODULE_LOADING\u001b[39m\u001b[38;5;124m\"\u001b[39m \u001b[38;5;129;01mnot\u001b[39;00m \u001b[38;5;129;01min\u001b[39;00m os\u001b[38;5;241m.\u001b[39menviron:\n\u001b[1;32m    292\u001b[0m     os\u001b[38;5;241m.\u001b[39menviron[\u001b[38;5;124m\"\u001b[39m\u001b[38;5;124mCUDA_MODULE_LOADING\u001b[39m\u001b[38;5;124m\"\u001b[39m] \u001b[38;5;241m=\u001b[39m \u001b[38;5;124m\"\u001b[39m\u001b[38;5;124mLAZY\u001b[39m\u001b[38;5;124m\"\u001b[39m\n\u001b[0;32m--> 293\u001b[0m \u001b[43mtorch\u001b[49m\u001b[38;5;241;43m.\u001b[39;49m\u001b[43m_C\u001b[49m\u001b[38;5;241;43m.\u001b[39;49m\u001b[43m_cuda_init\u001b[49m\u001b[43m(\u001b[49m\u001b[43m)\u001b[49m\n\u001b[1;32m    294\u001b[0m \u001b[38;5;66;03m# Some of the queued calls may reentrantly call _lazy_init();\u001b[39;00m\n\u001b[1;32m    295\u001b[0m \u001b[38;5;66;03m# we need to just return without initializing in that case.\u001b[39;00m\n\u001b[1;32m    296\u001b[0m \u001b[38;5;66;03m# However, we must not let any *other* threads in!\u001b[39;00m\n\u001b[1;32m    297\u001b[0m _tls\u001b[38;5;241m.\u001b[39mis_initializing \u001b[38;5;241m=\u001b[39m \u001b[38;5;28;01mTrue\u001b[39;00m\n",
      "\u001b[0;31mRuntimeError\u001b[0m: Found no NVIDIA driver on your system. Please check that you have an NVIDIA GPU and installed a driver from http://www.nvidia.com/Download/index.aspx"
     ]
    }
   ],
   "source": [
    "import os\n",
    "\n",
    "print(f\"all cpu at using device: {os.cpu_count()}\")\n",
    "print(f\"Number of available CPU: {len(os.sched_getaffinity(0))}\") # Number of available CPUs can also be obtained. ,use systemcall at linux.\n",
    "print(f\"GPU_name: {torch.cuda.get_device_name()}\\nGPU avail: {torch.cuda.is_available()}\\n\")"
   ]
  },
  {
   "cell_type": "code",
   "execution_count": 12,
   "id": "c46cb389-5dcc-4422-a823-d7927450f2ee",
   "metadata": {},
   "outputs": [
    {
     "name": "stdout",
     "output_type": "stream",
     "text": [
      "Not avail cuda\n",
      "use cpu\n",
      "device: cpu\n",
      "device: 1234\n",
      "check for target_epoch: 500\n"
     ]
    }
   ],
   "source": [
    "DEVICE = 'cpu' # 'cuda' or 'cpu'\n",
    "flag_avail_cuda = torch.cuda.is_available()\n",
    "if flag_avail_cuda == True:\n",
    "    print('avail cuda')\n",
    "    print('use cuda')\n",
    "elif flag_avail_cuda == False and DEVICE=='cpu':\n",
    "    print('Not avail cuda')\n",
    "    print('use cpu')\n",
    "else:\n",
    "    os._exit(os.EX_OK)\n",
    "\n",
    "device = torch.device(DEVICE)\n",
    "print(f'device: {device}')\n",
    "\n",
    "# setting random_seed ==============\n",
    "print(f'device: {random_seed}')\n",
    "toybox.set_seed(random_seed)\n",
    "\n",
    "# reprint target epoch for ckpt\n",
    "print(f'check for target_epoch: {target_epoch}')"
   ]
  },
  {
   "cell_type": "code",
   "execution_count": 13,
   "id": "cc707e28-03b5-4f50-bbb2-501d798e85d8",
   "metadata": {},
   "outputs": [
    {
     "name": "stdout",
     "output_type": "stream",
     "text": [
      "cpu\n"
     ]
    }
   ],
   "source": [
    "print(str(torch.get_default_device()))"
   ]
  },
  {
   "cell_type": "markdown",
   "id": "2a7175f4-60a0-4d37-afa9-b7bdc167bbfe",
   "metadata": {},
   "source": [
    "## [seq] setting path"
   ]
  },
  {
   "cell_type": "code",
   "execution_count": 14,
   "id": "d3880aa0-55de-422a-acdd-8dbf486286e3",
   "metadata": {},
   "outputs": [
    {
     "name": "stdout",
     "output_type": "stream",
     "text": [
      "RESULT_DIR_PATH: result4eval/run_tfkfulmask_k3/gradtfkfultts/cpu/e500\n"
     ]
    }
   ],
   "source": [
    "# for test_dataset\n",
    "# RESULT_DIR_PATH = RESULT_DIR_PATH\n",
    "# RESULT_MEL_DIR_PATH = IMEL_DIR_PATH\n",
    "# RESULT_WAV_DIR_PATH = IWAV_DIR_PATH\n",
    "# RESULT_JSON_DIR_PATH = RESULT_JSON_PATH\n",
    "test_ds_path = Path(config['test_datalist_path'])\n",
    "\n",
    "# text2mel\n",
    "#RESULT_DIR_PATH = Path(f'./result4eval/{runtime_name}/{model_name}/{DEVICE}')\n",
    "#RESULT_MEL_DIR_PATH = RESULT_DIR_PATH / 'mel'\n",
    "#print(RESULT_MEL_DIR_PATH)\n",
    "\n",
    "# mel2wav\n",
    "#IMEL_DIR_PATH = Path(f'./result4eval/{runtime_name}/{model_name}/{DEVICE}/mel')\n",
    "#RESULT_DIR_PATH = Path(f'./result4eval/{runtime_name}/{model_name}/{DEVICE}')\n",
    "#RESULT_WAV_DIR_PATH = RESULT_DIR_PATH / 'wav'\n",
    "\n",
    "# for utmos\n",
    "#IWAV_DIR_PATH = Path(f'./result4eval/{runtime_name}/{model_name}/{DEVICE}/wav')\n",
    "#RESULT_DIR_PATH = Path(f'./result4eval/{runtime_name}/{model_name}/{DEVICE}')\n",
    "#RESULT_JSON_DIR_PATH = RESULT_DIR_PATH / RESULTS_JSON_NAME\n",
    "\n",
    "if model_name == 'groundtruth':\n",
    "    # for mel2wav\n",
    "    #IMEL_DIR_PATH = Path('./result4eval/infer4PBL/groundtruth/cuda/mel/')\n",
    "    RESULT_MEL_DIR_PATH = Path('./result4eval/infer4PBL/groundtruth/cuda/mel/')\n",
    "    # for utmos\n",
    "    #/result4eval/infer4PBL/groundtruth/cuda/\n",
    "    #IWAV_DIR_PATH = Path('./result4eval/infer4PBL/groundtruth/cuda/wav/')\n",
    "    RESULT_WAV_DIR_PATH = Path('./result4eval/infer4PBL/groundtruth/cuda/wav/')\n",
    "    RESULT_DIR_PATH = Path(f'./result4eval/{runtime_name}/{model_name}')\n",
    "\n",
    "# style for mid\n",
    "#RESULTS_JSON_NAME = 'eval4mid.json'\n",
    "#RESULT_DIR_PATH = Path(f'./result4eval/{runtime_name}/{model_name}/{DEVICE}')\n",
    "#RESULT_MEL_DIR_PATH = RESULT_DIR_PATH / 'mel'\n",
    "#RESULT_WAV_DIR_PATH = RESULT_DIR_PATH / 'wav'\n",
    "#RESULT_JSON_PATH = RESULT_DIR_PATH / RESULTS_JSON_NAME\n",
    "\n",
    "RESULTS_JSON_NAME = 'eval4mid.json'\n",
    "RESULT_DIR_PATH = Path(f'./result4eval/{runtime_name}/{model_name}/{DEVICE}/{\"e\"+str(target_epoch)}')\n",
    "RESULT_MEL_DIR_PATH = RESULT_DIR_PATH / 'mel'\n",
    "RESULT_WAV_DIR_PATH = RESULT_DIR_PATH / 'wav'\n",
    "RESULT_JSON_PATH = RESULT_DIR_PATH / RESULTS_JSON_NAME\n",
    "RESULTS_JSON_NAME = 'eval4mid.json'\n",
    "print(f'RESULT_DIR_PATH: {RESULT_DIR_PATH}')"
   ]
  },
  {
   "cell_type": "code",
   "execution_count": 16,
   "id": "31e3b4c3-0960-41e9-948e-65722acbe5db",
   "metadata": {},
   "outputs": [
    {
     "name": "stdout",
     "output_type": "stream",
     "text": [
      "test_ds_path-----------------------------------------\n",
      "Exists configs/test_dataset.json\n",
      "loaded configs/test_dataset.json\n",
      "RESULT_DIR_PATH-------------------------------------------\n",
      "Exists result4eval/run_tfkfulmask_k3/gradtfkfultts/cpu/e500\n",
      "RESULT_MEL_DIR_PATH-------------------------------------------\n",
      "Exists result4eval/run_tfkfulmask_k3/gradtfkfultts/cpu/e500/mel\n",
      "RESULT_WAV_DIR_PATH-------------------------------------------\n",
      "Exists result4eval/run_tfkfulmask_k3/gradtfkfultts/cpu/e500/wav\n",
      "RESULT_JSON_PATH-------------------------------------------\n",
      "No exist result4eval/run_tfkfulmask_k3/gradtfkfultts/cpu/e500/eval4mid.json\n"
     ]
    }
   ],
   "source": [
    "# check path\n",
    "\n",
    "# for text2mel\n",
    "print('test_ds_path-----------------------------------------')\n",
    "if test_ds_path.exists():\n",
    "    print(f'Exists {str(test_ds_path)}')\n",
    "    with open(config['test_datalist_path']) as j:\n",
    "        test_ds_list = json.load(j)\n",
    "    print(f'loaded {test_ds_path}')\n",
    "else:\n",
    "    print(f'No exist {test_ds_path}')\n",
    "\n",
    "print('RESULT_DIR_PATH-------------------------------------------')\n",
    "if RESULT_DIR_PATH.exists():\n",
    "    print(f'Exists {RESULT_DIR_PATH}')\n",
    "else:\n",
    "    RESULT_DIR_PATH.mkdir(parents=True)\n",
    "    print(f'No exist {RESULT_DIR_PATH}')\n",
    "\n",
    "print('RESULT_MEL_DIR_PATH-------------------------------------------')\n",
    "if RESULT_MEL_DIR_PATH.exists():\n",
    "    print(f'Exists {RESULT_MEL_DIR_PATH}')\n",
    "else:\n",
    "    RESULT_MEL_DIR_PATH.mkdir(parents=True)\n",
    "    print(f'No exist {RESULT_MEL_DIR_PATH}')\n",
    "\n",
    "print('RESULT_WAV_DIR_PATH-------------------------------------------')\n",
    "if RESULT_WAV_DIR_PATH.exists():\n",
    "    print(f'Exists {RESULT_WAV_DIR_PATH}')\n",
    "else:\n",
    "    RESULT_WAV_DIR_PATH.mkdir(parents=True)\n",
    "    print(f'No exist {RESULT_WAV_DIR_PATH}')\n",
    "\n",
    "print('RESULT_JSON_PATH-------------------------------------------')\n",
    "if RESULT_JSON_PATH.exists():\n",
    "    print(f'Exists {RESULT_JSON_PATH}')\n",
    "else:\n",
    "    #RESULT_DIR_PATH.mkdir(parents=True)\n",
    "    print(f'No exist {RESULT_JSON_PATH}')"
   ]
  },
  {
   "cell_type": "markdown",
   "id": "5ceee4e3-1b1e-4327-96c4-ba9f76d70355",
   "metadata": {},
   "source": [
    "## [seq] load Model"
   ]
  },
  {
   "cell_type": "code",
   "execution_count": 17,
   "id": "8f010038-ebc0-4d7c-af4f-5a8ecb067a88",
   "metadata": {},
   "outputs": [
    {
     "name": "stdout",
     "output_type": "stream",
     "text": [
      "gradtfkfultts\n",
      "[seq] loading Model\n",
      "loading diffusion-TTS ===================================\n",
      "loading  logs4model/gradtfkfultts/run_tfkfulmask_k3/ckpt/gradtfkfulttsmask_500_396308.pt\n",
      "[seq] Initializing diffusion-TTS...\n",
      "Number of encoder + duration predictor parameters: 3.549137m\n",
      "Number of decoder parameters: 2.056663m\n",
      "Total parameters: 5.6058m\n",
      "loading HiFi-GAN ===================================\n",
      "[seq] loading HiFiGAN\n"
     ]
    },
    {
     "name": "stderr",
     "output_type": "stream",
     "text": [
      "/work/sora-sa/aoi/.venv/lib/python3.10/site-packages/torch/nn/utils/weight_norm.py:28: UserWarning: torch.nn.utils.weight_norm is deprecated in favor of torch.nn.utils.parametrizations.weight_norm.\n",
      "  warnings.warn(\"torch.nn.utils.weight_norm is deprecated in favor of torch.nn.utils.parametrizations.weight_norm.\")\n"
     ]
    },
    {
     "name": "stdout",
     "output_type": "stream",
     "text": [
      "Removing weight norm...\n",
      "loading UTMOS ===================================\n"
     ]
    },
    {
     "name": "stderr",
     "output_type": "stream",
     "text": [
      "Using cache found in /work/sora-sa/.cache/torch/hub/tarepan_SpeechMOS_v1.2.0\n"
     ]
    }
   ],
   "source": [
    "# import models\n",
    "from gradtts import GradTTS\n",
    "from gradseptts import GradSepTTS\n",
    "from gradtfktts import GradTFKTTS\n",
    "from gradtfk5tts import GradTFKTTS as GradTFK5TTS\n",
    "from gradtimektts import GradTimeKTTS\n",
    "from gradfreqktts import GradFreqKTTS\n",
    "from gradtfkfultts import GradTFKFULTTS\n",
    "\n",
    "print(model_name)\n",
    "print(\"[seq] loading Model\")\n",
    "\n",
    "print(\"loading diffusion-TTS ===================================\")\n",
    "N_STEP = 50\n",
    "TEMP = 1.5\n",
    "\n",
    "print('loading ', ckpt_path)\n",
    "_, _, state_dict = torch.load(ckpt_path,\n",
    "                            map_location=device)\n",
    "\n",
    "#with open(config_path4model) as f:\n",
    "#    config = yaml.load(f, yaml.SafeLoader)\n",
    "config4model = toybox.load_yaml_and_expand_var(config_path4model)\n",
    "\n",
    "print(\"[seq] Initializing diffusion-TTS...\")\n",
    "if model_name == \"gradtts\":\n",
    "    model = GradTTS.build_model(config4model, vocab_size)\n",
    "elif model_name == \"gradseptts\":\n",
    "    model = GradSepTTS.build_model(config4model, vocab_size)\n",
    "elif model_name == \"gradtfktts\":\n",
    "    model = GradTFKTTS.build_model(config4model, vocab_size)\n",
    "elif model_name == \"gradtfk5tts\":\n",
    "    model = GradTFK5TTS.build_model(config4model, vocab_size)\n",
    "elif model_name == \"gradtfkfultts\":\n",
    "    model = GradTFKFULTTS.build_model(config4model, vocab_size)\n",
    "elif model_name == \"gradtimektts\":\n",
    "    model = GradTimeKTTS.build_model(config4model, vocab_size)\n",
    "elif model_name == \"gradfreqktts\":\n",
    "    model = GradFreqKTTS.build_model(config4model, vocab_size)\n",
    "else:\n",
    "    raise ValueError(f\"Error: '{model_name}' is not supported\")\n",
    "\n",
    "model = model.to(device)\n",
    "model.load_state_dict(state_dict)\n",
    "print(f'Number of encoder + duration predictor parameters: {model.encoder.nparams/1e6}m')\n",
    "print(f'Number of decoder parameters: {model.decoder.nparams/1e6}m')\n",
    "print(f'Total parameters: {model.nparams/1e6}m')\n",
    "\n",
    "print(\"loading HiFi-GAN ===================================\")\n",
    "\"\"\"\n",
    "#setting file paths\n",
    "# from https://github.com/huawei-noah/Speech-Backbones/tree/main/Grad-TTS/hifi-gan\n",
    "# https://drive.google.com/drive/folders/1-eEYTB5Av9jNql0WGBlRoi-WH2J7bp5Y?usp=sharing\n",
    "HiFiGAN_CONFIG = './hifigan/official_pretrained/LJ_V2/config.json'\n",
    "HiFiGAN_ckpt = './hifigan/official_pretrained/LJ_V2/generator_v2'\n",
    "\n",
    "from hifigan import models, env\n",
    "\n",
    "with open(HiFiGAN_CONFIG) as f:\n",
    "    hifigan_hparams = env.AttrDict(json.load(f))\n",
    "\n",
    "hifigan_randomseed = hifigan_hparams.seed\n",
    "print(f'hifigan_randomseed: {hifigan_randomseed}')\n",
    "\"\"\"\n",
    "# generator ===================\n",
    "print(\"[seq] loading HiFiGAN\")\n",
    "vocoder = models.Generator(hifigan_hparams)\n",
    "\n",
    "vocoder.load_state_dict(torch.load(\n",
    "    HiFiGAN_ckpt, map_location=device)['generator'])\n",
    "vocoder = vocoder.eval().to(device)\n",
    "vocoder.remove_weight_norm()\n",
    "\n",
    "print(\"loading UTMOS ===================================\")\n",
    "predictor_utmos = torch.hub.load(\"tarepan/SpeechMOS:v1.2.0\", \"utmos22_strong\", trust_repo=True)\n",
    "\n"
   ]
  },
  {
   "cell_type": "code",
   "execution_count": 18,
   "id": "8420b549-57fc-4bdf-88a6-11afe8a57f80",
   "metadata": {},
   "outputs": [
    {
     "data": {
      "text/plain": [
       "\"\\nttext = test_ds_list[0]['text']\\ntphonemes, tphnid = text2phnid(ttext, phn2id, 'en')\\nprint(tphonemes)\\nprint(len(tphonemes))\\nprint(len(tphnid))\\n\\ntphnid_len = torch.tensor(len(tphnid), dtype=torch.long).unsqueeze(0).to(device)\\ntphnid = torch.tensor(tphnid).unsqueeze(0).to(device)\\nprint(tphnid_len)\\nprint(tphnid)\\n\""
      ]
     },
     "execution_count": 18,
     "metadata": {},
     "output_type": "execute_result"
    }
   ],
   "source": [
    "\"\"\"\n",
    "ttext = test_ds_list[0]['text']\n",
    "tphonemes, tphnid = text2phnid(ttext, phn2id, 'en')\n",
    "print(tphonemes)\n",
    "print(len(tphonemes))\n",
    "print(len(tphnid))\n",
    "\n",
    "tphnid_len = torch.tensor(len(tphnid), dtype=torch.long).unsqueeze(0).to(device)\n",
    "tphnid = torch.tensor(tphnid).unsqueeze(0).to(device)\n",
    "print(tphnid_len)\n",
    "print(tphnid)\n",
    "\"\"\""
   ]
  },
  {
   "cell_type": "markdown",
   "id": "3b4bebc0-0462-41f1-aa23-e52ff6b82ab7",
   "metadata": {},
   "source": [
    "## [seq] infer"
   ]
  },
  {
   "cell_type": "code",
   "execution_count": 19,
   "id": "29d272ec-5fce-41b3-8c5f-c4b6bfe03ae3",
   "metadata": {},
   "outputs": [
    {
     "name": "stdout",
     "output_type": "stream",
     "text": [
      "infer_data_num: 101\n",
      "RESULT_DIR_PATH: result4eval/run_tfkfulmask_k3/gradtfkfultts/cpu/e500\n",
      "RESULT_MEL_DIR_PATH: result4eval/run_tfkfulmask_k3/gradtfkfultts/cpu/e500/mel\n",
      "RESULT_WAV_DIR_PATH: result4eval/run_tfkfulmask_k3/gradtfkfultts/cpu/e500/wav\n",
      "RESULT_JSON_PATH: result4eval/run_tfkfulmask_k3/gradtfkfultts/cpu/e500/eval4mid.json\n"
     ]
    }
   ],
   "source": [
    "infer_data_num: int = 101 #len(test_ds_list) is 200\n",
    "print(f'infer_data_num: {infer_data_num}')\n",
    "print(f'RESULT_DIR_PATH: {RESULT_DIR_PATH}')\n",
    "print(f'RESULT_MEL_DIR_PATH: {RESULT_MEL_DIR_PATH}')\n",
    "print(f'RESULT_WAV_DIR_PATH: {RESULT_WAV_DIR_PATH}')\n",
    "print(f'RESULT_JSON_PATH: {RESULT_JSON_PATH}')"
   ]
  },
  {
   "cell_type": "code",
   "execution_count": 20,
   "id": "aa79315a-62ff-4c42-8a17-df44196d988c",
   "metadata": {},
   "outputs": [],
   "source": [
    "#a_num = range(90,101)\n",
    "#print(range(infer_data_num)[-1])\n",
    "#print(a_num[-1])"
   ]
  },
  {
   "cell_type": "code",
   "execution_count": 21,
   "id": "d69a9dc8-692f-4238-a901-6703f30f2b38",
   "metadata": {},
   "outputs": [
    {
     "name": "stderr",
     "output_type": "stream",
     "text": [
      "  0%|                                                                                                     | 0/101 [00:00<?, ?it/s]"
     ]
    },
    {
     "name": "stdout",
     "output_type": "stream",
     "text": [
      "test_ds_index_0: LJ045-0049\n",
      "[seq]text2mel\n",
      "phonemes_len: 1127\n",
      "phnid_len: 215\n",
      "gradtfkfultts dt: 22.235576699487865\n",
      "gradtfkfultts RTF: 2.919531644338959\n",
      "[seq]mel2wav\n",
      "[seq]wav2utmos\n"
     ]
    },
    {
     "name": "stderr",
     "output_type": "stream",
     "text": [
      "  1%|▉                                                                                          | 1/101 [00:42<1:10:08, 42.08s/it]"
     ]
    },
    {
     "name": "stdout",
     "output_type": "stream",
     "text": [
      "utmos: 3.0999863147735596\n",
      "test_ds_index_1: LJ017-0027\n",
      "[seq]text2mel\n",
      "phonemes_len: 411\n",
      "phnid_len: 79\n",
      "gradtfkfultts dt: 7.859424853697419\n",
      "gradtfkfultts RTF: 2.5739709782561206\n",
      "[seq]mel2wav\n",
      "[seq]wav2utmos\n"
     ]
    },
    {
     "name": "stderr",
     "output_type": "stream",
     "text": [
      "  2%|█▊                                                                                           | 2/101 [00:52<39:03, 23.67s/it]"
     ]
    },
    {
     "name": "stdout",
     "output_type": "stream",
     "text": [
      "utmos: 3.902704954147339\n",
      "test_ds_index_2: LJ023-0031\n",
      "[seq]text2mel\n",
      "phonemes_len: 223\n",
      "phnid_len: 45\n",
      "gradtfkfultts dt: 4.456846786662936\n",
      "gradtfkfultts RTF: 2.7033855536399027\n",
      "[seq]mel2wav\n"
     ]
    },
    {
     "name": "stderr",
     "output_type": "stream",
     "text": [
      "  3%|██▊                                                                                          | 3/101 [00:59<25:35, 15.66s/it]"
     ]
    },
    {
     "name": "stdout",
     "output_type": "stream",
     "text": [
      "[seq]wav2utmos\n",
      "utmos: 3.1458921432495117\n",
      "test_ds_index_3: LJ032-0046\n",
      "[seq]text2mel\n",
      "phonemes_len: 650\n",
      "phnid_len: 125\n",
      "gradtfkfultts dt: 11.059734380804002\n",
      "gradtfkfultts RTF: 2.075394395907614\n",
      "[seq]mel2wav\n",
      "[seq]wav2utmos\n"
     ]
    },
    {
     "name": "stderr",
     "output_type": "stream",
     "text": [
      "  4%|███▋                                                                                         | 4/101 [01:13<24:51, 15.38s/it]"
     ]
    },
    {
     "name": "stdout",
     "output_type": "stream",
     "text": [
      "utmos: 3.5897765159606934\n",
      "test_ds_index_4: LJ030-0026\n",
      "[seq]text2mel\n",
      "phonemes_len: 1025\n",
      "phnid_len: 195\n",
      "gradtfkfultts dt: 15.682630959898233\n",
      "gradtfkfultts RTF: 2.225352738015831\n",
      "[seq]mel2wav\n",
      "[seq]wav2utmos\n"
     ]
    },
    {
     "name": "stderr",
     "output_type": "stream",
     "text": [
      "  5%|████▌                                                                                        | 5/101 [01:34<27:51, 17.41s/it]"
     ]
    },
    {
     "name": "stdout",
     "output_type": "stream",
     "text": [
      "utmos: 2.734996795654297\n",
      "test_ds_index_5: LJ020-0041\n",
      "[seq]text2mel\n",
      "phonemes_len: 1154\n",
      "phnid_len: 219\n",
      "gradtfkfultts dt: 20.763847924768925\n",
      "gradtfkfultts RTF: 2.334789321256705\n",
      "[seq]mel2wav\n",
      "[seq]wav2utmos\n"
     ]
    },
    {
     "name": "stderr",
     "output_type": "stream",
     "text": [
      "  6%|█████▌                                                                                       | 6/101 [02:02<32:49, 20.73s/it]"
     ]
    },
    {
     "name": "stdout",
     "output_type": "stream",
     "text": [
      "utmos: 3.271646022796631\n",
      "test_ds_index_6: LJ001-0070\n",
      "[seq]text2mel\n",
      "phonemes_len: 1137\n",
      "phnid_len: 215\n",
      "gradtfkfultts dt: 18.73468187265098\n",
      "gradtfkfultts RTF: 2.1924875556850485\n",
      "[seq]mel2wav\n",
      "[seq]wav2utmos\n"
     ]
    },
    {
     "name": "stderr",
     "output_type": "stream",
     "text": [
      "  7%|██████▍                                                                                      | 7/101 [02:27<34:38, 22.11s/it]"
     ]
    },
    {
     "name": "stdout",
     "output_type": "stream",
     "text": [
      "utmos: 4.015120983123779\n",
      "test_ds_index_7: LJ019-0334\n",
      "[seq]text2mel\n",
      "phonemes_len: 611\n",
      "phnid_len: 117\n",
      "gradtfkfultts dt: 8.748563108034432\n",
      "gradtfkfultts RTF: 2.159135661400421\n",
      "[seq]mel2wav\n",
      "[seq]wav2utmos\n"
     ]
    },
    {
     "name": "stderr",
     "output_type": "stream",
     "text": [
      "  8%|███████▎                                                                                     | 8/101 [02:39<29:20, 18.93s/it]"
     ]
    },
    {
     "name": "stdout",
     "output_type": "stream",
     "text": [
      "utmos: 3.443108558654785\n",
      "test_ds_index_8: LJ022-0152\n",
      "[seq]text2mel\n",
      "phonemes_len: 387\n",
      "phnid_len: 75\n",
      "gradtfkfultts dt: 7.2682701563462615\n",
      "gradtfkfultts RTF: 2.227888080341346\n",
      "[seq]mel2wav\n",
      "[seq]wav2utmos\n"
     ]
    },
    {
     "name": "stderr",
     "output_type": "stream",
     "text": [
      "  9%|████████▎                                                                                    | 9/101 [02:49<24:45, 16.15s/it]"
     ]
    },
    {
     "name": "stdout",
     "output_type": "stream",
     "text": [
      "utmos: 2.9242942333221436\n",
      "test_ds_index_9: LJ050-0154\n",
      "[seq]text2mel\n",
      "phonemes_len: 896\n",
      "phnid_len: 171\n",
      "gradtfkfultts dt: 14.607130303047597\n",
      "gradtfkfultts RTF: 2.1109953281131997\n",
      "[seq]mel2wav\n",
      "[seq]wav2utmos\n"
     ]
    },
    {
     "name": "stderr",
     "output_type": "stream",
     "text": [
      " 10%|█████████                                                                                   | 10/101 [03:08<26:05, 17.20s/it]"
     ]
    },
    {
     "name": "stdout",
     "output_type": "stream",
     "text": [
      "utmos: 3.092604398727417\n",
      "test_ds_index_10: LJ016-0045\n",
      "[seq]text2mel\n",
      "phonemes_len: 1237\n",
      "phnid_len: 235\n",
      "gradtfkfultts dt: 23.715348546393216\n",
      "gradtfkfultts RTF: 2.437553305153502\n",
      "[seq]mel2wav\n",
      "[seq]wav2utmos\n"
     ]
    },
    {
     "name": "stderr",
     "output_type": "stream",
     "text": [
      " 11%|██████████                                                                                  | 11/101 [03:39<32:02, 21.37s/it]"
     ]
    },
    {
     "name": "stdout",
     "output_type": "stream",
     "text": [
      "utmos: 3.841552495956421\n",
      "test_ds_index_11: LJ036-0100\n",
      "[seq]text2mel\n",
      "phonemes_len: 802\n",
      "phnid_len: 153\n",
      "gradtfkfultts dt: 14.49691683985293\n",
      "gradtfkfultts RTF: 2.32525180632243\n",
      "[seq]mel2wav\n",
      "[seq]wav2utmos\n"
     ]
    },
    {
     "name": "stderr",
     "output_type": "stream",
     "text": [
      " 12%|██████████▉                                                                                 | 12/101 [03:58<30:40, 20.68s/it]"
     ]
    },
    {
     "name": "stdout",
     "output_type": "stream",
     "text": [
      "utmos: 3.8899331092834473\n",
      "test_ds_index_12: LJ046-0016\n",
      "[seq]text2mel\n",
      "phonemes_len: 884\n",
      "phnid_len: 167\n",
      "gradtfkfultts dt: 12.339276042766869\n",
      "gradtfkfultts RTF: 2.063721455878409\n",
      "[seq]mel2wav\n",
      "[seq]wav2utmos\n"
     ]
    },
    {
     "name": "stderr",
     "output_type": "stream",
     "text": [
      " 13%|███████████▊                                                                                | 13/101 [04:15<28:44, 19.59s/it]"
     ]
    },
    {
     "name": "stdout",
     "output_type": "stream",
     "text": [
      "utmos: 3.6445813179016113\n",
      "test_ds_index_13: LJ048-0085\n",
      "[seq]text2mel\n",
      "phonemes_len: 1181\n",
      "phnid_len: 223\n",
      "gradtfkfultts dt: 18.278586951084435\n",
      "gradtfkfultts RTF: 2.0852796061227847\n",
      "[seq]mel2wav\n",
      "[seq]wav2utmos\n"
     ]
    },
    {
     "name": "stderr",
     "output_type": "stream",
     "text": [
      " 14%|████████████▊                                                                               | 14/101 [04:40<30:36, 21.11s/it]"
     ]
    },
    {
     "name": "stdout",
     "output_type": "stream",
     "text": [
      "utmos: 3.8661506175994873\n",
      "test_ds_index_14: LJ050-0197\n",
      "[seq]text2mel\n",
      "phonemes_len: 282\n",
      "phnid_len: 55\n",
      "gradtfkfultts dt: 5.4214661521837115\n",
      "gradtfkfultts RTF: 2.497145067171851\n",
      "[seq]mel2wav\n"
     ]
    },
    {
     "name": "stderr",
     "output_type": "stream",
     "text": [
      " 15%|█████████████▋                                                                              | 15/101 [04:47<24:23, 17.01s/it]"
     ]
    },
    {
     "name": "stdout",
     "output_type": "stream",
     "text": [
      "[seq]wav2utmos\n",
      "utmos: 4.241243362426758\n",
      "test_ds_index_15: LJ050-0178\n",
      "[seq]text2mel\n",
      "phonemes_len: 709\n",
      "phnid_len: 135\n",
      "gradtfkfultts dt: 11.231637702323496\n",
      "gradtfkfultts RTF: 2.0939665460652823\n",
      "[seq]mel2wav\n",
      "[seq]wav2utmos\n"
     ]
    },
    {
     "name": "stderr",
     "output_type": "stream",
     "text": [
      " 16%|██████████████▌                                                                             | 16/101 [05:03<23:26, 16.54s/it]"
     ]
    },
    {
     "name": "stdout",
     "output_type": "stream",
     "text": [
      "utmos: 3.31962251663208\n",
      "test_ds_index_16: LJ043-0079\n",
      "[seq]text2mel\n",
      "phonemes_len: 1445\n",
      "phnid_len: 273\n",
      "gradtfkfultts dt: 27.84575880598277\n",
      "gradtfkfultts RTF: 2.7100943753174436\n",
      "[seq]mel2wav\n",
      "[seq]wav2utmos\n"
     ]
    },
    {
     "name": "stderr",
     "output_type": "stream",
     "text": [
      " 17%|███████████████▍                                                                            | 17/101 [05:38<30:58, 22.12s/it]"
     ]
    },
    {
     "name": "stdout",
     "output_type": "stream",
     "text": [
      "utmos: 3.6991138458251953\n",
      "test_ds_index_17: LJ050-0207\n",
      "[seq]text2mel\n",
      "phonemes_len: 737\n",
      "phnid_len: 141\n",
      "gradtfkfultts dt: 12.418150250799954\n",
      "gradtfkfultts RTF: 2.1918241949774186\n",
      "[seq]mel2wav\n",
      "[seq]wav2utmos\n"
     ]
    },
    {
     "name": "stderr",
     "output_type": "stream",
     "text": [
      " 18%|████████████████▍                                                                           | 18/101 [05:54<28:15, 20.43s/it]"
     ]
    },
    {
     "name": "stdout",
     "output_type": "stream",
     "text": [
      "utmos: 3.410460948944092\n",
      "test_ds_index_18: LJ034-0005\n",
      "[seq]text2mel\n",
      "phonemes_len: 1442\n",
      "phnid_len: 273\n",
      "gradtfkfultts dt: 30.8676890572533\n",
      "gradtfkfultts RTF: 2.94431990462536\n",
      "[seq]mel2wav\n",
      "[seq]wav2utmos\n"
     ]
    },
    {
     "name": "stderr",
     "output_type": "stream",
     "text": [
      " 19%|█████████████████▎                                                                          | 19/101 [06:33<35:18, 25.84s/it]"
     ]
    },
    {
     "name": "stdout",
     "output_type": "stream",
     "text": [
      "utmos: 3.4737370014190674\n",
      "test_ds_index_19: LJ031-0151\n",
      "[seq]text2mel\n",
      "phonemes_len: 1203\n",
      "phnid_len: 227\n",
      "gradtfkfultts dt: 19.6567889675498\n",
      "gradtfkfultts RTF: 2.2848778927045013\n",
      "[seq]mel2wav\n",
      "[seq]wav2utmos\n"
     ]
    },
    {
     "name": "stderr",
     "output_type": "stream",
     "text": [
      " 20%|██████████████████▏                                                                         | 20/101 [06:58<34:43, 25.72s/it]"
     ]
    },
    {
     "name": "stdout",
     "output_type": "stream",
     "text": [
      "utmos: 3.2792251110076904\n",
      "test_ds_index_20: LJ023-0021\n",
      "[seq]text2mel\n",
      "phonemes_len: 564\n",
      "phnid_len: 109\n",
      "gradtfkfultts dt: 8.960067794658244\n",
      "gradtfkfultts RTF: 2.16785348130502\n",
      "[seq]mel2wav\n",
      "[seq]wav2utmos\n"
     ]
    },
    {
     "name": "stderr",
     "output_type": "stream",
     "text": [
      " 21%|███████████████████▏                                                                        | 21/101 [07:11<28:54, 21.68s/it]"
     ]
    },
    {
     "name": "stdout",
     "output_type": "stream",
     "text": [
      "utmos: 3.8977208137512207\n",
      "test_ds_index_21: LJ015-0301\n",
      "[seq]text2mel\n",
      "phonemes_len: 780\n",
      "phnid_len: 149\n",
      "gradtfkfultts dt: 13.267137363553047\n",
      "gradtfkfultts RTF: 2.062700099181695\n",
      "[seq]mel2wav\n",
      "[seq]wav2utmos\n"
     ]
    },
    {
     "name": "stderr",
     "output_type": "stream",
     "text": [
      " 22%|████████████████████                                                                        | 22/101 [07:29<27:07, 20.60s/it]"
     ]
    },
    {
     "name": "stdout",
     "output_type": "stream",
     "text": [
      "utmos: 3.279144287109375\n",
      "test_ds_index_22: LJ021-0153\n",
      "[seq]text2mel\n",
      "phonemes_len: 320\n",
      "phnid_len: 63\n",
      "gradtfkfultts dt: 5.972881907597184\n",
      "gradtfkfultts RTF: 2.3817644325542155\n",
      "[seq]mel2wav\n"
     ]
    },
    {
     "name": "stderr",
     "output_type": "stream",
     "text": [
      " 23%|████████████████████▉                                                                       | 23/101 [07:37<21:59, 16.92s/it]"
     ]
    },
    {
     "name": "stdout",
     "output_type": "stream",
     "text": [
      "[seq]wav2utmos\n",
      "utmos: 2.633690357208252\n",
      "test_ds_index_23: LJ014-0037\n",
      "[seq]text2mel\n",
      "phonemes_len: 365\n",
      "phnid_len: 71\n",
      "gradtfkfultts dt: 7.521081945858896\n",
      "gradtfkfultts RTF: 2.2415638098262956\n",
      "[seq]mel2wav\n",
      "[seq]wav2utmos\n"
     ]
    },
    {
     "name": "stderr",
     "output_type": "stream",
     "text": [
      " 24%|█████████████████████▊                                                                      | 24/101 [07:47<19:10, 14.95s/it]"
     ]
    },
    {
     "name": "stdout",
     "output_type": "stream",
     "text": [
      "utmos: 2.7266695499420166\n",
      "test_ds_index_24: LJ004-0200\n",
      "[seq]text2mel\n",
      "phonemes_len: 1097\n",
      "phnid_len: 207\n",
      "gradtfkfultts dt: 18.076144695281982\n",
      "gradtfkfultts RTF: 2.0621843467040963\n",
      "[seq]mel2wav\n",
      "[seq]wav2utmos\n"
     ]
    },
    {
     "name": "stderr",
     "output_type": "stream",
     "text": [
      " 25%|██████████████████████▊                                                                     | 25/101 [08:07<20:39, 16.31s/it]"
     ]
    },
    {
     "name": "stdout",
     "output_type": "stream",
     "text": [
      "utmos: 2.9963247776031494\n",
      "test_ds_index_25: LJ049-0010\n",
      "[seq]text2mel\n",
      "phonemes_len: 471\n",
      "phnid_len: 91\n",
      "gradtfkfultts dt: 8.351549501530826\n",
      "gradtfkfultts RTF: 2.2982186814690833\n",
      "[seq]mel2wav\n",
      "[seq]wav2utmos\n"
     ]
    },
    {
     "name": "stderr",
     "output_type": "stream",
     "text": [
      " 26%|███████████████████████▋                                                                    | 26/101 [08:18<18:36, 14.89s/it]"
     ]
    },
    {
     "name": "stdout",
     "output_type": "stream",
     "text": [
      "utmos: 3.275547504425049\n",
      "test_ds_index_26: LJ008-0291\n",
      "[seq]text2mel\n",
      "phonemes_len: 365\n",
      "phnid_len: 71\n",
      "gradtfkfultts dt: 6.4692652598023415\n",
      "gradtfkfultts RTF: 2.3610847950649103\n",
      "[seq]mel2wav\n",
      "[seq]wav2utmos\n"
     ]
    },
    {
     "name": "stderr",
     "output_type": "stream",
     "text": [
      " 27%|████████████████████████▌                                                                   | 27/101 [08:27<16:10, 13.11s/it]"
     ]
    },
    {
     "name": "stdout",
     "output_type": "stream",
     "text": [
      "utmos: 3.485034704208374\n",
      "test_ds_index_27: LJ048-0221\n",
      "[seq]text2mel\n",
      "phonemes_len: 602\n",
      "phnid_len: 115\n",
      "gradtfkfultts dt: 10.370465253479779\n",
      "gradtfkfultts RTF: 2.1420559693422994\n",
      "[seq]mel2wav\n",
      "[seq]wav2utmos\n"
     ]
    },
    {
     "name": "stderr",
     "output_type": "stream",
     "text": [
      " 28%|█████████████████████████▌                                                                  | 28/101 [08:41<16:18, 13.40s/it]"
     ]
    },
    {
     "name": "stdout",
     "output_type": "stream",
     "text": [
      "utmos: 3.202763080596924\n",
      "test_ds_index_28: LJ004-0157\n",
      "[seq]text2mel\n",
      "phonemes_len: 637\n",
      "phnid_len: 121\n",
      "gradtfkfultts dt: 10.619389531202614\n",
      "gradtfkfultts RTF: 2.127157877571018\n",
      "[seq]mel2wav\n",
      "[seq]wav2utmos\n"
     ]
    },
    {
     "name": "stderr",
     "output_type": "stream",
     "text": [
      " 29%|██████████████████████████▍                                                                 | 29/101 [08:56<16:32, 13.79s/it]"
     ]
    },
    {
     "name": "stdout",
     "output_type": "stream",
     "text": [
      "utmos: 3.3666017055511475\n",
      "test_ds_index_29: LJ013-0175\n",
      "[seq]text2mel\n",
      "phonemes_len: 681\n",
      "phnid_len: 131\n",
      "gradtfkfultts dt: 10.879989729262888\n",
      "gradtfkfultts RTF: 2.134679078251768\n",
      "[seq]mel2wav\n",
      "[seq]wav2utmos\n"
     ]
    },
    {
     "name": "stderr",
     "output_type": "stream",
     "text": [
      " 30%|███████████████████████████▎                                                                | 30/101 [09:11<16:42, 14.12s/it]"
     ]
    },
    {
     "name": "stdout",
     "output_type": "stream",
     "text": [
      "utmos: 3.5262491703033447\n",
      "test_ds_index_30: LJ021-0100\n",
      "[seq]text2mel\n",
      "phonemes_len: 752\n",
      "phnid_len: 143\n",
      "gradtfkfultts dt: 12.837263561785221\n",
      "gradtfkfultts RTF: 2.1428480918223425\n",
      "[seq]mel2wav\n",
      "[seq]wav2utmos\n"
     ]
    },
    {
     "name": "stderr",
     "output_type": "stream",
     "text": [
      " 31%|████████████████████████████▏                                                               | 31/101 [09:28<17:28, 14.98s/it]"
     ]
    },
    {
     "name": "stdout",
     "output_type": "stream",
     "text": [
      "utmos: 3.288264036178589\n",
      "test_ds_index_31: LJ018-0132\n",
      "[seq]text2mel\n",
      "phonemes_len: 687\n",
      "phnid_len: 131\n",
      "gradtfkfultts dt: 12.066165769472718\n",
      "gradtfkfultts RTF: 2.0995814016483068\n",
      "[seq]mel2wav\n",
      "[seq]wav2utmos\n"
     ]
    },
    {
     "name": "stderr",
     "output_type": "stream",
     "text": [
      " 32%|█████████████████████████████▏                                                              | 32/101 [09:45<17:47, 15.48s/it]"
     ]
    },
    {
     "name": "stdout",
     "output_type": "stream",
     "text": [
      "utmos: 3.7690274715423584\n",
      "test_ds_index_32: LJ023-0059\n",
      "[seq]text2mel\n",
      "phonemes_len: 1184\n",
      "phnid_len: 225\n",
      "gradtfkfultts dt: 18.87679046485573\n",
      "gradtfkfultts RTF: 2.153524574451929\n",
      "[seq]mel2wav\n",
      "[seq]wav2utmos\n"
     ]
    },
    {
     "name": "stderr",
     "output_type": "stream",
     "text": [
      " 33%|██████████████████████████████                                                              | 33/101 [10:05<19:11, 16.94s/it]"
     ]
    },
    {
     "name": "stdout",
     "output_type": "stream",
     "text": [
      "utmos: 3.0512521266937256\n",
      "test_ds_index_33: LJ003-0027\n",
      "[seq]text2mel\n",
      "phonemes_len: 964\n",
      "phnid_len: 183\n",
      "gradtfkfultts dt: 15.97326840274036\n",
      "gradtfkfultts RTF: 2.2554467743367375\n",
      "[seq]mel2wav\n",
      "[seq]wav2utmos\n"
     ]
    },
    {
     "name": "stderr",
     "output_type": "stream",
     "text": [
      " 34%|██████████████████████████████▉                                                             | 34/101 [10:26<20:23, 18.26s/it]"
     ]
    },
    {
     "name": "stdout",
     "output_type": "stream",
     "text": [
      "utmos: 3.4452295303344727\n",
      "test_ds_index_34: LJ018-0133\n",
      "[seq]text2mel\n",
      "phonemes_len: 674\n",
      "phnid_len: 129\n",
      "gradtfkfultts dt: 11.075541735626757\n",
      "gradtfkfultts RTF: 2.143747325057672\n",
      "[seq]mel2wav\n",
      "[seq]wav2utmos\n"
     ]
    },
    {
     "name": "stderr",
     "output_type": "stream",
     "text": [
      " 35%|███████████████████████████████▉                                                            | 35/101 [10:41<19:00, 17.27s/it]"
     ]
    },
    {
     "name": "stdout",
     "output_type": "stream",
     "text": [
      "utmos: 3.835557699203491\n",
      "test_ds_index_35: LJ033-0060\n",
      "[seq]text2mel\n",
      "phonemes_len: 596\n",
      "phnid_len: 115\n",
      "gradtfkfultts dt: 10.427914343774319\n",
      "gradtfkfultts RTF: 2.1233701913436738\n",
      "[seq]mel2wav\n",
      "[seq]wav2utmos\n"
     ]
    },
    {
     "name": "stderr",
     "output_type": "stream",
     "text": [
      " 36%|████████████████████████████████▊                                                           | 36/101 [10:55<17:36, 16.26s/it]"
     ]
    },
    {
     "name": "stdout",
     "output_type": "stream",
     "text": [
      "utmos: 3.475552558898926\n",
      "test_ds_index_36: LJ003-0299\n",
      "[seq]text2mel\n",
      "phonemes_len: 881\n",
      "phnid_len: 167\n",
      "gradtfkfultts dt: 15.535880943760276\n",
      "gradtfkfultts RTF: 2.245216644884609\n",
      "[seq]mel2wav\n",
      "[seq]wav2utmos\n"
     ]
    },
    {
     "name": "stderr",
     "output_type": "stream",
     "text": [
      " 37%|█████████████████████████████████▋                                                          | 37/101 [11:12<17:31, 16.44s/it]"
     ]
    },
    {
     "name": "stdout",
     "output_type": "stream",
     "text": [
      "utmos: 2.778435230255127\n",
      "test_ds_index_37: LJ011-0060\n",
      "[seq]text2mel\n",
      "phonemes_len: 1083\n",
      "phnid_len: 205\n",
      "gradtfkfultts dt: 16.975360076874495\n",
      "gradtfkfultts RTF: 2.1953986585907153\n",
      "[seq]mel2wav\n",
      "[seq]wav2utmos\n"
     ]
    },
    {
     "name": "stderr",
     "output_type": "stream",
     "text": [
      " 38%|██████████████████████████████████▌                                                         | 38/101 [11:35<19:12, 18.29s/it]"
     ]
    },
    {
     "name": "stdout",
     "output_type": "stream",
     "text": [
      "utmos: 3.158228874206543\n",
      "test_ds_index_38: LJ013-0240\n",
      "[seq]text2mel\n",
      "phonemes_len: 768\n",
      "phnid_len: 147\n",
      "gradtfkfultts dt: 12.319122682325542\n",
      "gradtfkfultts RTF: 2.139275572905732\n",
      "[seq]mel2wav\n",
      "[seq]wav2utmos\n"
     ]
    },
    {
     "name": "stderr",
     "output_type": "stream",
     "text": [
      " 39%|███████████████████████████████████▌                                                        | 39/101 [11:52<18:27, 17.86s/it]"
     ]
    },
    {
     "name": "stdout",
     "output_type": "stream",
     "text": [
      "utmos: 3.373983383178711\n",
      "test_ds_index_39: LJ047-0076\n",
      "[seq]text2mel\n",
      "phonemes_len: 1287\n",
      "phnid_len: 245\n",
      "gradtfkfultts dt: 29.278895157389343\n",
      "gradtfkfultts RTF: 2.8953772523519796\n",
      "[seq]mel2wav\n",
      "[seq]wav2utmos\n"
     ]
    },
    {
     "name": "stderr",
     "output_type": "stream",
     "text": [
      " 40%|████████████████████████████████████▍                                                       | 40/101 [12:28<23:49, 23.44s/it]"
     ]
    },
    {
     "name": "stdout",
     "output_type": "stream",
     "text": [
      "utmos: 3.568474531173706\n",
      "test_ds_index_40: LJ041-0133\n",
      "[seq]text2mel\n",
      "phonemes_len: 1018\n",
      "phnid_len: 193\n",
      "gradtfkfultts dt: 18.260501062497497\n",
      "gradtfkfultts RTF: 2.16047845353317\n",
      "[seq]mel2wav\n",
      "[seq]wav2utmos\n"
     ]
    },
    {
     "name": "stderr",
     "output_type": "stream",
     "text": [
      " 41%|█████████████████████████████████████▎                                                      | 41/101 [12:52<23:42, 23.70s/it]"
     ]
    },
    {
     "name": "stdout",
     "output_type": "stream",
     "text": [
      "utmos: 3.338887929916382\n",
      "test_ds_index_41: LJ038-0264\n",
      "[seq]text2mel\n",
      "phonemes_len: 1116\n",
      "phnid_len: 211\n",
      "gradtfkfultts dt: 17.440547910518944\n",
      "gradtfkfultts RTF: 2.1834352370261554\n",
      "[seq]mel2wav\n",
      "[seq]wav2utmos\n"
     ]
    },
    {
     "name": "stderr",
     "output_type": "stream",
     "text": [
      " 42%|██████████████████████████████████████▎                                                     | 42/101 [13:16<23:13, 23.62s/it]"
     ]
    },
    {
     "name": "stdout",
     "output_type": "stream",
     "text": [
      "utmos: 3.8065319061279297\n",
      "test_ds_index_42: LJ011-0016\n",
      "[seq]text2mel\n",
      "phonemes_len: 609\n",
      "phnid_len: 117\n",
      "gradtfkfultts dt: 9.799648409709334\n",
      "gradtfkfultts RTF: 2.192392932569915\n",
      "[seq]mel2wav\n",
      "[seq]wav2utmos\n"
     ]
    },
    {
     "name": "stderr",
     "output_type": "stream",
     "text": [
      " 43%|███████████████████████████████████████▏                                                    | 43/101 [13:29<19:42, 20.39s/it]"
     ]
    },
    {
     "name": "stdout",
     "output_type": "stream",
     "text": [
      "utmos: 4.085221290588379\n",
      "test_ds_index_43: LJ003-0185\n",
      "[seq]text2mel\n",
      "phonemes_len: 1105\n",
      "phnid_len: 209\n",
      "gradtfkfultts dt: 16.790057993493974\n",
      "gradtfkfultts RTF: 2.145660114269648\n",
      "[seq]mel2wav\n",
      "[seq]wav2utmos\n"
     ]
    },
    {
     "name": "stderr",
     "output_type": "stream",
     "text": [
      " 44%|████████████████████████████████████████                                                    | 44/101 [13:51<19:59, 21.04s/it]"
     ]
    },
    {
     "name": "stdout",
     "output_type": "stream",
     "text": [
      "utmos: 3.5681138038635254\n",
      "test_ds_index_44: LJ014-0063\n",
      "[seq]text2mel\n",
      "phonemes_len: 793\n",
      "phnid_len: 151\n",
      "gradtfkfultts dt: 12.17853984888643\n",
      "gradtfkfultts RTF: 2.0895854369081936\n",
      "[seq]mel2wav\n",
      "[seq]wav2utmos\n"
     ]
    },
    {
     "name": "stderr",
     "output_type": "stream",
     "text": [
      " 45%|████████████████████████████████████████▉                                                   | 45/101 [14:08<18:28, 19.79s/it]"
     ]
    },
    {
     "name": "stdout",
     "output_type": "stream",
     "text": [
      "utmos: 3.665069341659546\n",
      "test_ds_index_45: LJ005-0185\n",
      "[seq]text2mel\n",
      "phonemes_len: 588\n",
      "phnid_len: 113\n",
      "gradtfkfultts dt: 10.266278700903058\n",
      "gradtfkfultts RTF: 2.1359020734725283\n",
      "[seq]mel2wav\n",
      "[seq]wav2utmos\n"
     ]
    },
    {
     "name": "stderr",
     "output_type": "stream",
     "text": [
      " 46%|█████████████████████████████████████████▉                                                  | 46/101 [14:22<16:32, 18.05s/it]"
     ]
    },
    {
     "name": "stdout",
     "output_type": "stream",
     "text": [
      "utmos: 3.346945285797119\n",
      "test_ds_index_46: LJ014-0135\n",
      "[seq]text2mel\n",
      "phonemes_len: 826\n",
      "phnid_len: 157\n",
      "gradtfkfultts dt: 13.002026121132076\n",
      "gradtfkfultts RTF: 2.085476867805533\n",
      "[seq]mel2wav\n",
      "[seq]wav2utmos\n"
     ]
    },
    {
     "name": "stderr",
     "output_type": "stream",
     "text": [
      " 47%|██████████████████████████████████████████▊                                                 | 47/101 [14:36<15:13, 16.91s/it]"
     ]
    },
    {
     "name": "stdout",
     "output_type": "stream",
     "text": [
      "utmos: 3.020235300064087\n",
      "test_ds_index_47: LJ009-0046\n",
      "[seq]text2mel\n",
      "phonemes_len: 1011\n",
      "phnid_len: 193\n",
      "gradtfkfultts dt: 16.756892133504152\n",
      "gradtfkfultts RTF: 2.0767169039105586\n",
      "[seq]mel2wav\n",
      "[seq]wav2utmos\n"
     ]
    },
    {
     "name": "stderr",
     "output_type": "stream",
     "text": [
      " 48%|███████████████████████████████████████████▋                                                | 48/101 [14:59<16:31, 18.71s/it]"
     ]
    },
    {
     "name": "stdout",
     "output_type": "stream",
     "text": [
      "utmos: 3.9311671257019043\n",
      "test_ds_index_48: LJ037-0024\n",
      "[seq]text2mel\n",
      "phonemes_len: 1505\n",
      "phnid_len: 285\n",
      "gradtfkfultts dt: 26.13024435378611\n",
      "gradtfkfultts RTF: 2.420076814520261\n",
      "[seq]mel2wav\n",
      "[seq]wav2utmos\n"
     ]
    },
    {
     "name": "stderr",
     "output_type": "stream",
     "text": [
      " 49%|████████████████████████████████████████████▋                                               | 49/101 [15:33<20:07, 23.22s/it]"
     ]
    },
    {
     "name": "stdout",
     "output_type": "stream",
     "text": [
      "utmos: 3.2915730476379395\n",
      "test_ds_index_49: LJ002-0217\n",
      "[seq]text2mel\n",
      "phonemes_len: 1093\n",
      "phnid_len: 207\n",
      "gradtfkfultts dt: 16.659184618853033\n",
      "gradtfkfultts RTF: 2.221211184486923\n",
      "[seq]mel2wav\n",
      "[seq]wav2utmos\n"
     ]
    },
    {
     "name": "stderr",
     "output_type": "stream",
     "text": [
      " 50%|█████████████████████████████████████████████▌                                              | 50/101 [15:55<19:27, 22.89s/it]"
     ]
    },
    {
     "name": "stdout",
     "output_type": "stream",
     "text": [
      "utmos: 3.149360179901123\n",
      "test_ds_index_50: LJ044-0017\n",
      "[seq]text2mel\n",
      "phonemes_len: 782\n",
      "phnid_len: 149\n",
      "gradtfkfultts dt: 13.483509779907763\n",
      "gradtfkfultts RTF: 2.0963404687991183\n",
      "[seq]mel2wav\n",
      "[seq]wav2utmos\n"
     ]
    },
    {
     "name": "stderr",
     "output_type": "stream",
     "text": [
      " 50%|██████████████████████████████████████████████▍                                             | 51/101 [16:10<17:02, 20.45s/it]"
     ]
    },
    {
     "name": "stdout",
     "output_type": "stream",
     "text": [
      "utmos: 2.6667089462280273\n",
      "test_ds_index_51: LJ017-0074\n",
      "[seq]text2mel\n",
      "phonemes_len: 481\n",
      "phnid_len: 93\n",
      "gradtfkfultts dt: 8.881651354022324\n",
      "gradtfkfultts RTF: 2.2368468151063623\n",
      "[seq]mel2wav\n",
      "[seq]wav2utmos\n"
     ]
    },
    {
     "name": "stderr",
     "output_type": "stream",
     "text": [
      " 51%|███████████████████████████████████████████████▎                                            | 52/101 [16:22<14:37, 17.90s/it]"
     ]
    },
    {
     "name": "stdout",
     "output_type": "stream",
     "text": [
      "utmos: 3.4528586864471436\n",
      "test_ds_index_52: LJ033-0153\n",
      "[seq]text2mel\n",
      "phonemes_len: 714\n",
      "phnid_len: 137\n",
      "gradtfkfultts dt: 11.785239203833044\n",
      "gradtfkfultts RTF: 2.1191979094183733\n",
      "[seq]mel2wav\n",
      "[seq]wav2utmos\n"
     ]
    },
    {
     "name": "stderr",
     "output_type": "stream",
     "text": [
      " 52%|████████████████████████████████████████████████▎                                           | 53/101 [16:38<13:52, 17.35s/it]"
     ]
    },
    {
     "name": "stdout",
     "output_type": "stream",
     "text": [
      "utmos: 2.720731258392334\n",
      "test_ds_index_53: LJ032-0124\n",
      "[seq]text2mel\n",
      "phonemes_len: 1056\n",
      "phnid_len: 199\n",
      "gradtfkfultts dt: 18.2145540677011\n",
      "gradtfkfultts RTF: 2.24766586000632\n",
      "[seq]mel2wav\n",
      "[seq]wav2utmos\n"
     ]
    },
    {
     "name": "stderr",
     "output_type": "stream",
     "text": [
      " 53%|█████████████████████████████████████████████████▏                                          | 54/101 [17:02<15:11, 19.40s/it]"
     ]
    },
    {
     "name": "stdout",
     "output_type": "stream",
     "text": [
      "utmos: 3.4279897212982178\n",
      "test_ds_index_54: LJ018-0287\n",
      "[seq]text2mel\n",
      "phonemes_len: 567\n",
      "phnid_len: 109\n",
      "gradtfkfultts dt: 9.917067611590028\n",
      "gradtfkfultts RTF: 2.1846161768258483\n",
      "[seq]mel2wav\n",
      "[seq]wav2utmos\n"
     ]
    },
    {
     "name": "stderr",
     "output_type": "stream",
     "text": [
      " 54%|██████████████████████████████████████████████████                                          | 55/101 [17:16<13:32, 17.67s/it]"
     ]
    },
    {
     "name": "stdout",
     "output_type": "stream",
     "text": [
      "utmos: 2.846484661102295\n",
      "test_ds_index_55: LJ020-0038\n",
      "[seq]text2mel\n",
      "phonemes_len: 620\n",
      "phnid_len: 119\n",
      "gradtfkfultts dt: 10.672114712186158\n",
      "gradtfkfultts RTF: 2.152738303239395\n",
      "[seq]mel2wav\n",
      "[seq]wav2utmos\n"
     ]
    },
    {
     "name": "stderr",
     "output_type": "stream",
     "text": [
      " 55%|███████████████████████████████████████████████████                                         | 56/101 [17:30<12:31, 16.70s/it]"
     ]
    },
    {
     "name": "stdout",
     "output_type": "stream",
     "text": [
      "utmos: 3.068068742752075\n",
      "test_ds_index_56: LJ001-0007\n",
      "[seq]text2mel\n",
      "phonemes_len: 1016\n",
      "phnid_len: 193\n",
      "gradtfkfultts dt: 19.562993730418384\n",
      "gradtfkfultts RTF: 2.261766001235976\n",
      "[seq]mel2wav\n",
      "[seq]wav2utmos\n"
     ]
    },
    {
     "name": "stderr",
     "output_type": "stream",
     "text": [
      " 56%|███████████████████████████████████████████████████▉                                        | 57/101 [17:56<14:15, 19.44s/it]"
     ]
    },
    {
     "name": "stdout",
     "output_type": "stream",
     "text": [
      "utmos: 2.689732551574707\n",
      "test_ds_index_57: LJ003-0313\n",
      "[seq]text2mel\n",
      "phonemes_len: 1175\n",
      "phnid_len: 223\n",
      "gradtfkfultts dt: 19.33674688078463\n",
      "gradtfkfultts RTF: 2.2356085818021243\n",
      "[seq]mel2wav\n",
      "[seq]wav2utmos\n"
     ]
    },
    {
     "name": "stderr",
     "output_type": "stream",
     "text": [
      " 57%|████████████████████████████████████████████████████▊                                       | 58/101 [18:17<14:15, 19.88s/it]"
     ]
    },
    {
     "name": "stdout",
     "output_type": "stream",
     "text": [
      "utmos: 3.5600366592407227\n",
      "test_ds_index_58: LJ019-0265\n",
      "[seq]text2mel\n",
      "phonemes_len: 590\n",
      "phnid_len: 113\n",
      "gradtfkfultts dt: 11.356301086954772\n",
      "gradtfkfultts RTF: 2.1080822246039257\n",
      "[seq]mel2wav\n",
      "[seq]wav2utmos\n"
     ]
    },
    {
     "name": "stderr",
     "output_type": "stream",
     "text": [
      " 58%|█████████████████████████████████████████████████████▋                                      | 59/101 [18:32<12:59, 18.56s/it]"
     ]
    },
    {
     "name": "stdout",
     "output_type": "stream",
     "text": [
      "utmos: 3.5137383937835693\n",
      "test_ds_index_59: LJ038-0281\n",
      "[seq]text2mel\n",
      "phonemes_len: 1193\n",
      "phnid_len: 225\n",
      "gradtfkfultts dt: 20.55672716908157\n",
      "gradtfkfultts RTF: 2.308485954195774\n",
      "[seq]mel2wav\n",
      "[seq]wav2utmos\n"
     ]
    },
    {
     "name": "stderr",
     "output_type": "stream",
     "text": [
      " 59%|██████████████████████████████████████████████████████▋                                     | 60/101 [18:59<14:23, 21.06s/it]"
     ]
    },
    {
     "name": "stdout",
     "output_type": "stream",
     "text": [
      "utmos: 3.5842416286468506\n",
      "test_ds_index_60: LJ045-0235\n",
      "[seq]text2mel\n",
      "phonemes_len: 1185\n",
      "phnid_len: 223\n",
      "gradtfkfultts dt: 18.55254962667823\n",
      "gradtfkfultts RTF: 2.150717736731657\n",
      "[seq]mel2wav\n",
      "[seq]wav2utmos\n"
     ]
    },
    {
     "name": "stderr",
     "output_type": "stream",
     "text": [
      " 60%|███████████████████████████████████████████████████████▌                                    | 61/101 [19:24<14:42, 22.06s/it]"
     ]
    },
    {
     "name": "stdout",
     "output_type": "stream",
     "text": [
      "utmos: 3.5342090129852295\n",
      "test_ds_index_61: LJ038-0255\n",
      "[seq]text2mel\n",
      "phonemes_len: 240\n",
      "phnid_len: 47\n",
      "gradtfkfultts dt: 5.112157329916954\n",
      "gradtfkfultts RTF: 2.652557161254444\n",
      "[seq]mel2wav\n"
     ]
    },
    {
     "name": "stderr",
     "output_type": "stream",
     "text": [
      " 61%|████████████████████████████████████████████████████████▍                                   | 62/101 [19:30<11:21, 17.47s/it]"
     ]
    },
    {
     "name": "stdout",
     "output_type": "stream",
     "text": [
      "[seq]wav2utmos\n",
      "utmos: 3.1898610591888428\n",
      "test_ds_index_62: LJ028-0205\n",
      "[seq]text2mel\n",
      "phonemes_len: 899\n",
      "phnid_len: 171\n",
      "gradtfkfultts dt: 16.004083139821887\n",
      "gradtfkfultts RTF: 2.0760191149347738\n",
      "[seq]mel2wav\n",
      "[seq]wav2utmos\n"
     ]
    },
    {
     "name": "stderr",
     "output_type": "stream",
     "text": [
      " 62%|█████████████████████████████████████████████████████████▍                                  | 63/101 [19:52<11:51, 18.72s/it]"
     ]
    },
    {
     "name": "stdout",
     "output_type": "stream",
     "text": [
      "utmos: 2.7211413383483887\n",
      "test_ds_index_63: LJ014-0260\n",
      "[seq]text2mel\n",
      "phonemes_len: 1068\n",
      "phnid_len: 203\n",
      "gradtfkfultts dt: 18.688289468176663\n",
      "gradtfkfultts RTF: 2.0584078423378327\n",
      "[seq]mel2wav\n",
      "[seq]wav2utmos\n"
     ]
    },
    {
     "name": "stderr",
     "output_type": "stream",
     "text": [
      " 63%|██████████████████████████████████████████████████████████▎                                 | 64/101 [20:17<12:46, 20.70s/it]"
     ]
    },
    {
     "name": "stdout",
     "output_type": "stream",
     "text": [
      "utmos: 3.187817335128784\n",
      "test_ds_index_64: LJ033-0166\n",
      "[seq]text2mel\n",
      "phonemes_len: 967\n",
      "phnid_len: 183\n",
      "gradtfkfultts dt: 15.810818523168564\n",
      "gradtfkfultts RTF: 2.171978097811172\n",
      "[seq]mel2wav\n",
      "[seq]wav2utmos\n"
     ]
    },
    {
     "name": "stderr",
     "output_type": "stream",
     "text": [
      " 64%|███████████████████████████████████████████████████████████▏                                | 65/101 [20:38<12:23, 20.64s/it]"
     ]
    },
    {
     "name": "stdout",
     "output_type": "stream",
     "text": [
      "utmos: 3.4041857719421387\n",
      "test_ds_index_65: LJ037-0125\n",
      "[seq]text2mel\n",
      "phonemes_len: 1085\n",
      "phnid_len: 205\n",
      "gradtfkfultts dt: 17.42655210569501\n",
      "gradtfkfultts RTF: 2.044956328394153\n",
      "[seq]mel2wav\n",
      "[seq]wav2utmos\n"
     ]
    },
    {
     "name": "stderr",
     "output_type": "stream",
     "text": [
      " 65%|████████████████████████████████████████████████████████████                                | 66/101 [21:01<12:29, 21.42s/it]"
     ]
    },
    {
     "name": "stdout",
     "output_type": "stream",
     "text": [
      "utmos: 3.225071430206299\n",
      "test_ds_index_66: LJ013-0142\n",
      "[seq]text2mel\n",
      "phonemes_len: 740\n",
      "phnid_len: 143\n",
      "gradtfkfultts dt: 12.359278459101915\n",
      "gradtfkfultts RTF: 2.0996832626294166\n",
      "[seq]mel2wav\n",
      "[seq]wav2utmos\n"
     ]
    },
    {
     "name": "stderr",
     "output_type": "stream",
     "text": [
      " 66%|█████████████████████████████████████████████████████████████                               | 67/101 [21:17<11:14, 19.85s/it]"
     ]
    },
    {
     "name": "stdout",
     "output_type": "stream",
     "text": [
      "utmos: 3.173292636871338\n",
      "test_ds_index_67: LJ031-0199\n",
      "[seq]text2mel\n",
      "phonemes_len: 1439\n",
      "phnid_len: 273\n",
      "gradtfkfultts dt: 23.411131920292974\n",
      "gradtfkfultts RTF: 2.3204449207173297\n",
      "[seq]mel2wav\n",
      "[seq]wav2utmos\n"
     ]
    },
    {
     "name": "stderr",
     "output_type": "stream",
     "text": [
      " 67%|█████████████████████████████████████████████████████████████▉                              | 68/101 [21:48<12:44, 23.16s/it]"
     ]
    },
    {
     "name": "stdout",
     "output_type": "stream",
     "text": [
      "utmos: 3.8213415145874023\n",
      "test_ds_index_68: LJ004-0017\n",
      "[seq]text2mel\n",
      "phonemes_len: 619\n",
      "phnid_len: 119\n",
      "gradtfkfultts dt: 10.568554388359189\n",
      "gradtfkfultts RTF: 2.1071743368717457\n",
      "[seq]mel2wav\n",
      "[seq]wav2utmos\n"
     ]
    },
    {
     "name": "stderr",
     "output_type": "stream",
     "text": [
      " 68%|██████████████████████████████████████████████████████████████▊                             | 69/101 [22:03<10:57, 20.55s/it]"
     ]
    },
    {
     "name": "stdout",
     "output_type": "stream",
     "text": [
      "utmos: 2.9142839908599854\n",
      "test_ds_index_69: LJ024-0115\n",
      "[seq]text2mel\n",
      "phonemes_len: 1011\n",
      "phnid_len: 191\n",
      "gradtfkfultts dt: 16.77158183977008\n",
      "gradtfkfultts RTF: 2.063690734190459\n",
      "[seq]mel2wav\n",
      "[seq]wav2utmos\n"
     ]
    },
    {
     "name": "stderr",
     "output_type": "stream",
     "text": [
      " 69%|███████████████████████████████████████████████████████████████▊                            | 70/101 [22:25<10:56, 21.16s/it]"
     ]
    },
    {
     "name": "stdout",
     "output_type": "stream",
     "text": [
      "utmos: 2.9027106761932373\n",
      "test_ds_index_70: LJ017-0171\n",
      "[seq]text2mel\n",
      "phonemes_len: 620\n",
      "phnid_len: 119\n",
      "gradtfkfultts dt: 9.266595620661974\n",
      "gradtfkfultts RTF: 2.1689074540972797\n",
      "[seq]mel2wav\n",
      "[seq]wav2utmos\n"
     ]
    },
    {
     "name": "stderr",
     "output_type": "stream",
     "text": [
      " 70%|████████████████████████████████████████████████████████████████▋                           | 71/101 [22:38<09:20, 18.67s/it]"
     ]
    },
    {
     "name": "stdout",
     "output_type": "stream",
     "text": [
      "utmos: 3.985438823699951\n",
      "test_ds_index_71: LJ017-0040\n",
      "[seq]text2mel\n",
      "phonemes_len: 412\n",
      "phnid_len: 79\n",
      "gradtfkfultts dt: 8.487959979102015\n",
      "gradtfkfultts RTF: 2.2154298951136298\n",
      "[seq]mel2wav\n",
      "[seq]wav2utmos\n"
     ]
    },
    {
     "name": "stderr",
     "output_type": "stream",
     "text": [
      " 71%|█████████████████████████████████████████████████████████████████▌                          | 72/101 [22:50<07:59, 16.55s/it]"
     ]
    },
    {
     "name": "stdout",
     "output_type": "stream",
     "text": [
      "utmos: 3.4157493114471436\n",
      "test_ds_index_72: LJ005-0044\n",
      "[seq]text2mel\n",
      "phonemes_len: 796\n",
      "phnid_len: 151\n",
      "gradtfkfultts dt: 11.83420137502253\n",
      "gradtfkfultts RTF: 2.0973519508684317\n",
      "[seq]mel2wav\n",
      "[seq]wav2utmos\n"
     ]
    },
    {
     "name": "stderr",
     "output_type": "stream",
     "text": [
      " 72%|██████████████████████████████████████████████████████████████████▍                         | 73/101 [23:06<07:39, 16.41s/it]"
     ]
    },
    {
     "name": "stdout",
     "output_type": "stream",
     "text": [
      "utmos: 3.2632060050964355\n",
      "test_ds_index_73: LJ007-0169\n",
      "[seq]text2mel\n",
      "phonemes_len: 399\n",
      "phnid_len: 77\n",
      "gradtfkfultts dt: 6.9908887362107635\n",
      "gradtfkfultts RTF: 2.3338949950558283\n",
      "[seq]mel2wav\n"
     ]
    },
    {
     "name": "stderr",
     "output_type": "stream",
     "text": [
      " 73%|███████████████████████████████████████████████████████████████████▍                        | 74/101 [23:15<06:27, 14.34s/it]"
     ]
    },
    {
     "name": "stdout",
     "output_type": "stream",
     "text": [
      "[seq]wav2utmos\n",
      "utmos: 4.052618503570557\n",
      "test_ds_index_74: LJ015-0153\n",
      "[seq]text2mel\n",
      "phonemes_len: 1156\n",
      "phnid_len: 219\n",
      "gradtfkfultts dt: 18.09679610002786\n",
      "gradtfkfultts RTF: 2.064540324946266\n",
      "[seq]mel2wav\n",
      "[seq]wav2utmos\n"
     ]
    },
    {
     "name": "stderr",
     "output_type": "stream",
     "text": [
      " 74%|████████████████████████████████████████████████████████████████████▎                       | 75/101 [23:35<06:53, 15.90s/it]"
     ]
    },
    {
     "name": "stdout",
     "output_type": "stream",
     "text": [
      "utmos: 3.5796775817871094\n",
      "test_ds_index_75: LJ045-0043\n",
      "[seq]text2mel\n",
      "phonemes_len: 1166\n",
      "phnid_len: 221\n",
      "gradtfkfultts dt: 20.67538356781006\n",
      "gradtfkfultts RTF: 2.291929132833674\n",
      "[seq]mel2wav\n",
      "[seq]wav2utmos\n"
     ]
    },
    {
     "name": "stderr",
     "output_type": "stream",
     "text": [
      " 75%|█████████████████████████████████████████████████████████████████████▏                      | 76/101 [24:02<08:01, 19.25s/it]"
     ]
    },
    {
     "name": "stdout",
     "output_type": "stream",
     "text": [
      "utmos: 3.0026848316192627\n",
      "test_ds_index_76: LJ050-0010\n",
      "[seq]text2mel\n",
      "phonemes_len: 1046\n",
      "phnid_len: 197\n",
      "gradtfkfultts dt: 14.996941891498864\n",
      "gradtfkfultts RTF: 2.090176025912406\n",
      "[seq]mel2wav\n",
      "[seq]wav2utmos\n"
     ]
    },
    {
     "name": "stderr",
     "output_type": "stream",
     "text": [
      " 76%|██████████████████████████████████████████████████████████████████████▏                     | 77/101 [24:22<07:51, 19.64s/it]"
     ]
    },
    {
     "name": "stdout",
     "output_type": "stream",
     "text": [
      "utmos: 3.5812175273895264\n",
      "test_ds_index_77: LJ006-0126\n",
      "[seq]text2mel\n",
      "phonemes_len: 1061\n",
      "phnid_len: 201\n",
      "gradtfkfultts dt: 15.459552195854485\n",
      "gradtfkfultts RTF: 2.0612611619496866\n",
      "[seq]mel2wav\n",
      "[seq]wav2utmos\n"
     ]
    },
    {
     "name": "stderr",
     "output_type": "stream",
     "text": [
      " 77%|███████████████████████████████████████████████████████████████████████                     | 78/101 [24:39<07:12, 18.79s/it]"
     ]
    },
    {
     "name": "stdout",
     "output_type": "stream",
     "text": [
      "utmos: 3.6824216842651367\n",
      "test_ds_index_78: LJ018-0356\n",
      "[seq]text2mel\n",
      "phonemes_len: 979\n",
      "phnid_len: 185\n",
      "gradtfkfultts dt: 18.945736301131546\n",
      "gradtfkfultts RTF: 2.3146802163117832\n",
      "[seq]mel2wav\n",
      "[seq]wav2utmos\n"
     ]
    },
    {
     "name": "stderr",
     "output_type": "stream",
     "text": [
      " 78%|███████████████████████████████████████████████████████████████████████▉                    | 79/101 [25:04<07:33, 20.60s/it]"
     ]
    },
    {
     "name": "stdout",
     "output_type": "stream",
     "text": [
      "utmos: 3.0140280723571777\n",
      "test_ds_index_79: LJ040-0223\n",
      "[seq]text2mel\n",
      "phonemes_len: 1070\n",
      "phnid_len: 201\n",
      "gradtfkfultts dt: 17.72401320654899\n",
      "gradtfkfultts RTF: 2.2483344716748275\n",
      "[seq]mel2wav\n",
      "[seq]wav2utmos\n"
     ]
    },
    {
     "name": "stderr",
     "output_type": "stream",
     "text": [
      " 79%|████████████████████████████████████████████████████████████████████████▊                   | 80/101 [25:27<07:28, 21.35s/it]"
     ]
    },
    {
     "name": "stdout",
     "output_type": "stream",
     "text": [
      "utmos: 3.1201436519622803\n",
      "test_ds_index_80: LJ008-0281\n",
      "[seq]text2mel\n",
      "phonemes_len: 651\n",
      "phnid_len: 125\n",
      "gradtfkfultts dt: 11.264487527310848\n",
      "gradtfkfultts RTF: 2.091038776074254\n",
      "[seq]mel2wav\n",
      "[seq]wav2utmos\n"
     ]
    },
    {
     "name": "stderr",
     "output_type": "stream",
     "text": [
      " 80%|█████████████████████████████████████████████████████████████████████████▊                  | 81/101 [25:40<06:13, 18.69s/it]"
     ]
    },
    {
     "name": "stdout",
     "output_type": "stream",
     "text": [
      "utmos: 4.239401817321777\n",
      "test_ds_index_81: LJ008-0222\n",
      "[seq]text2mel\n",
      "phonemes_len: 515\n",
      "phnid_len: 99\n",
      "gradtfkfultts dt: 9.319150450639427\n",
      "gradtfkfultts RTF: 2.217360879624907\n",
      "[seq]mel2wav\n",
      "[seq]wav2utmos\n"
     ]
    },
    {
     "name": "stderr",
     "output_type": "stream",
     "text": [
      " 81%|██████████████████████████████████████████████████████████████████████████▋                 | 82/101 [25:52<05:20, 16.89s/it]"
     ]
    },
    {
     "name": "stdout",
     "output_type": "stream",
     "text": [
      "utmos: 3.073042869567871\n",
      "test_ds_index_82: LJ046-0123\n",
      "[seq]text2mel\n",
      "phonemes_len: 1130\n",
      "phnid_len: 213\n",
      "gradtfkfultts dt: 19.913827188313007\n",
      "gradtfkfultts RTF: 2.2930935071769607\n",
      "[seq]mel2wav\n",
      "[seq]wav2utmos\n"
     ]
    },
    {
     "name": "stderr",
     "output_type": "stream",
     "text": [
      " 82%|███████████████████████████████████████████████████████████████████████████▌                | 83/101 [26:19<05:54, 19.70s/it]"
     ]
    },
    {
     "name": "stdout",
     "output_type": "stream",
     "text": [
      "utmos: 3.2047650814056396\n",
      "test_ds_index_83: LJ030-0044\n",
      "[seq]text2mel\n",
      "phonemes_len: 965\n",
      "phnid_len: 185\n",
      "gradtfkfultts dt: 17.46389394905418\n",
      "gradtfkfultts RTF: 2.1863579985955934\n",
      "[seq]mel2wav\n",
      "[seq]wav2utmos\n"
     ]
    },
    {
     "name": "stderr",
     "output_type": "stream",
     "text": [
      " 83%|████████████████████████████████████████████████████████████████████████████▌               | 84/101 [26:38<05:31, 19.53s/it]"
     ]
    },
    {
     "name": "stdout",
     "output_type": "stream",
     "text": [
      "utmos: 3.601828098297119\n",
      "test_ds_index_84: LJ018-0051\n",
      "[seq]text2mel\n",
      "phonemes_len: 820\n",
      "phnid_len: 157\n",
      "gradtfkfultts dt: 13.974081612192094\n",
      "gradtfkfultts RTF: 2.130313188252459\n",
      "[seq]mel2wav\n",
      "[seq]wav2utmos\n"
     ]
    },
    {
     "name": "stderr",
     "output_type": "stream",
     "text": [
      " 84%|█████████████████████████████████████████████████████████████████████████████▍              | 85/101 [26:57<05:09, 19.34s/it]"
     ]
    },
    {
     "name": "stdout",
     "output_type": "stream",
     "text": [
      "utmos: 2.849276542663574\n",
      "test_ds_index_85: LJ042-0231\n",
      "[seq]text2mel\n",
      "phonemes_len: 574\n",
      "phnid_len: 111\n",
      "gradtfkfultts dt: 9.911272810772061\n",
      "gradtfkfultts RTF: 2.205906466787023\n",
      "[seq]mel2wav\n",
      "[seq]wav2utmos\n"
     ]
    },
    {
     "name": "stderr",
     "output_type": "stream",
     "text": [
      " 85%|██████████████████████████████████████████████████████████████████████████████▎             | 86/101 [27:10<04:23, 17.57s/it]"
     ]
    },
    {
     "name": "stdout",
     "output_type": "stream",
     "text": [
      "utmos: 3.962049961090088\n",
      "test_ds_index_86: LJ011-0121\n",
      "[seq]text2mel\n",
      "phonemes_len: 1123\n",
      "phnid_len: 213\n",
      "gradtfkfultts dt: 18.841360627673566\n",
      "gradtfkfultts RTF: 2.190093633182577\n",
      "[seq]mel2wav\n",
      "[seq]wav2utmos\n"
     ]
    },
    {
     "name": "stderr",
     "output_type": "stream",
     "text": [
      " 86%|███████████████████████████████████████████████████████████████████████████████▏            | 87/101 [27:31<04:18, 18.45s/it]"
     ]
    },
    {
     "name": "stdout",
     "output_type": "stream",
     "text": [
      "utmos: 3.0234718322753906\n",
      "test_ds_index_87: LJ016-0186\n",
      "[seq]text2mel\n",
      "phonemes_len: 848\n",
      "phnid_len: 161\n",
      "gradtfkfultts dt: 12.898097599856555\n",
      "gradtfkfultts RTF: 2.1080634196871815\n",
      "[seq]mel2wav\n",
      "[seq]wav2utmos\n"
     ]
    },
    {
     "name": "stderr",
     "output_type": "stream",
     "text": [
      " 87%|████████████████████████████████████████████████████████████████████████████████▏           | 88/101 [27:48<03:55, 18.09s/it]"
     ]
    },
    {
     "name": "stdout",
     "output_type": "stream",
     "text": [
      "utmos: 3.370422601699829\n",
      "test_ds_index_88: LJ011-0164\n",
      "[seq]text2mel\n",
      "phonemes_len: 1007\n",
      "phnid_len: 191\n",
      "gradtfkfultts dt: 19.330244716256857\n",
      "gradtfkfultts RTF: 2.240872602590131\n",
      "[seq]mel2wav\n",
      "[seq]wav2utmos\n"
     ]
    },
    {
     "name": "stderr",
     "output_type": "stream",
     "text": [
      " 88%|█████████████████████████████████████████████████████████████████████████████████           | 89/101 [28:09<03:46, 18.89s/it]"
     ]
    },
    {
     "name": "stdout",
     "output_type": "stream",
     "text": [
      "utmos: 4.130599021911621\n",
      "test_ds_index_89: LJ026-0039\n",
      "[seq]text2mel\n",
      "phonemes_len: 1150\n",
      "phnid_len: 219\n",
      "gradtfkfultts dt: 18.732779383659363\n",
      "gradtfkfultts RTF: 2.291913315705394\n",
      "[seq]mel2wav\n",
      "[seq]wav2utmos\n"
     ]
    },
    {
     "name": "stderr",
     "output_type": "stream",
     "text": [
      " 89%|█████████████████████████████████████████████████████████████████████████████████▉          | 90/101 [28:33<03:47, 20.68s/it]"
     ]
    },
    {
     "name": "stdout",
     "output_type": "stream",
     "text": [
      "utmos: 2.8122923374176025\n",
      "test_ds_index_90: LJ003-0105\n",
      "[seq]text2mel\n",
      "phonemes_len: 971\n",
      "phnid_len: 185\n",
      "gradtfkfultts dt: 16.098446179181337\n",
      "gradtfkfultts RTF: 2.0945686499890748\n",
      "[seq]mel2wav\n",
      "[seq]wav2utmos\n"
     ]
    },
    {
     "name": "stderr",
     "output_type": "stream",
     "text": [
      " 90%|██████████████████████████████████████████████████████████████████████████████████▉         | 91/101 [28:55<03:30, 21.03s/it]"
     ]
    },
    {
     "name": "stdout",
     "output_type": "stream",
     "text": [
      "utmos: 3.964573621749878\n",
      "test_ds_index_91: LJ039-0104\n",
      "[seq]text2mel\n",
      "phonemes_len: 383\n",
      "phnid_len: 75\n",
      "gradtfkfultts dt: 8.512548158876598\n",
      "gradtfkfultts RTF: 2.2422315427086796\n",
      "[seq]mel2wav\n",
      "[seq]wav2utmos\n"
     ]
    },
    {
     "name": "stderr",
     "output_type": "stream",
     "text": [
      " 91%|███████████████████████████████████████████████████████████████████████████████████▊        | 92/101 [29:06<02:42, 18.10s/it]"
     ]
    },
    {
     "name": "stdout",
     "output_type": "stream",
     "text": [
      "utmos: 3.9262304306030273\n",
      "test_ds_index_92: LJ002-0038\n",
      "[seq]text2mel\n",
      "phonemes_len: 642\n",
      "phnid_len: 123\n",
      "gradtfkfultts dt: 13.041138895787299\n",
      "gradtfkfultts RTF: 2.115386009976091\n",
      "[seq]mel2wav\n",
      "[seq]wav2utmos\n"
     ]
    },
    {
     "name": "stderr",
     "output_type": "stream",
     "text": [
      " 92%|████████████████████████████████████████████████████████████████████████████████████▋       | 93/101 [29:24<02:23, 17.93s/it]"
     ]
    },
    {
     "name": "stdout",
     "output_type": "stream",
     "text": [
      "utmos: 3.6702463626861572\n",
      "test_ds_index_93: LJ046-0194\n",
      "[seq]text2mel\n",
      "phonemes_len: 1259\n",
      "phnid_len: 239\n",
      "gradtfkfultts dt: 20.714876702055335\n",
      "gradtfkfultts RTF: 2.2330795881586365\n",
      "[seq]mel2wav\n",
      "[seq]wav2utmos\n"
     ]
    },
    {
     "name": "stderr",
     "output_type": "stream",
     "text": [
      " 93%|█████████████████████████████████████████████████████████████████████████████████████▌      | 94/101 [29:51<02:23, 20.53s/it]"
     ]
    },
    {
     "name": "stdout",
     "output_type": "stream",
     "text": [
      "utmos: 3.764674663543701\n",
      "test_ds_index_94: LJ008-0115\n",
      "[seq]text2mel\n",
      "phonemes_len: 845\n",
      "phnid_len: 161\n",
      "gradtfkfultts dt: 15.251690426841378\n",
      "gradtfkfultts RTF: 2.1967742338514604\n",
      "[seq]mel2wav\n",
      "[seq]wav2utmos\n"
     ]
    },
    {
     "name": "stderr",
     "output_type": "stream",
     "text": [
      " 94%|██████████████████████████████████████████████████████████████████████████████████████▌     | 95/101 [30:11<02:02, 20.48s/it]"
     ]
    },
    {
     "name": "stdout",
     "output_type": "stream",
     "text": [
      "utmos: 3.5172877311706543\n",
      "test_ds_index_95: LJ016-0104\n",
      "[seq]text2mel\n",
      "phonemes_len: 521\n",
      "phnid_len: 101\n",
      "gradtfkfultts dt: 8.87633551005274\n",
      "gradtfkfultts RTF: 2.2032960869581113\n",
      "[seq]mel2wav\n",
      "[seq]wav2utmos\n"
     ]
    },
    {
     "name": "stderr",
     "output_type": "stream",
     "text": [
      " 95%|███████████████████████████████████████████████████████████████████████████████████████▍    | 96/101 [30:23<01:30, 18.04s/it]"
     ]
    },
    {
     "name": "stdout",
     "output_type": "stream",
     "text": [
      "utmos: 3.053208351135254\n",
      "test_ds_index_96: LJ019-0301\n",
      "[seq]text2mel\n",
      "phonemes_len: 1122\n",
      "phnid_len: 213\n",
      "gradtfkfultts dt: 17.293665893375874\n",
      "gradtfkfultts RTF: 2.086207397523514\n",
      "[seq]mel2wav\n",
      "[seq]wav2utmos\n"
     ]
    },
    {
     "name": "stderr",
     "output_type": "stream",
     "text": [
      " 96%|████████████████████████████████████████████████████████████████████████████████████████▎   | 97/101 [30:47<01:18, 19.60s/it]"
     ]
    },
    {
     "name": "stdout",
     "output_type": "stream",
     "text": [
      "utmos: 3.3363757133483887\n",
      "test_ds_index_97: LJ028-0012\n",
      "[seq]text2mel\n",
      "phonemes_len: 1165\n",
      "phnid_len: 219\n",
      "gradtfkfultts dt: 21.906518695876002\n",
      "gradtfkfultts RTF: 2.367465580125009\n",
      "[seq]mel2wav\n",
      "[seq]wav2utmos\n"
     ]
    },
    {
     "name": "stderr",
     "output_type": "stream",
     "text": [
      " 97%|█████████████████████████████████████████████████████████████████████████████████████████▎  | 98/101 [31:15<01:07, 22.34s/it]"
     ]
    },
    {
     "name": "stdout",
     "output_type": "stream",
     "text": [
      "utmos: 2.9106523990631104\n",
      "test_ds_index_98: LJ018-0059\n",
      "[seq]text2mel\n",
      "phonemes_len: 1004\n",
      "phnid_len: 191\n",
      "gradtfkfultts dt: 17.267871035262942\n",
      "gradtfkfultts RTF: 2.13390286679266\n",
      "[seq]mel2wav\n",
      "[seq]wav2utmos\n"
     ]
    },
    {
     "name": "stderr",
     "output_type": "stream",
     "text": [
      " 98%|██████████████████████████████████████████████████████████████████████████████████████████▏ | 99/101 [31:38<00:45, 22.56s/it]"
     ]
    },
    {
     "name": "stdout",
     "output_type": "stream",
     "text": [
      "utmos: 3.257174491882324\n",
      "test_ds_index_99: LJ029-0081\n",
      "[seq]text2mel\n",
      "phonemes_len: 1427\n",
      "phnid_len: 269\n",
      "gradtfkfultts dt: 27.369109156541526\n",
      "gradtfkfultts RTF: 2.39814684361386\n",
      "[seq]mel2wav\n",
      "[seq]wav2utmos\n"
     ]
    },
    {
     "name": "stderr",
     "output_type": "stream",
     "text": [
      " 99%|██████████████████████████████████████████████████████████████████████████████████████████ | 100/101 [32:14<00:26, 26.54s/it]"
     ]
    },
    {
     "name": "stdout",
     "output_type": "stream",
     "text": [
      "utmos: 3.9679741859436035\n",
      "test_ds_index_100: LJ017-0230\n",
      "[seq]text2mel\n",
      "phonemes_len: 1085\n",
      "phnid_len: 207\n",
      "gradtfkfultts dt: 17.960323691368103\n",
      "gradtfkfultts RTF: 2.184990385519656\n",
      "[seq]mel2wav\n",
      "[seq]wav2utmos\n"
     ]
    },
    {
     "name": "stderr",
     "output_type": "stream",
     "text": [
      "100%|███████████████████████████████████████████████████████████████████████████████████████████| 101/101 [32:38<00:00, 19.39s/it]"
     ]
    },
    {
     "name": "stdout",
     "output_type": "stream",
     "text": [
      "utmos: 3.4414823055267334\n"
     ]
    },
    {
     "name": "stderr",
     "output_type": "stream",
     "text": [
      "\n"
     ]
    }
   ],
   "source": [
    "eval_list = []\n",
    "\n",
    "\n",
    "for i in tqdm(range(infer_data_num)):\n",
    "    test_ds_filename = test_ds_list[i]['name']\n",
    "    mel_npy_path = RESULT_MEL_DIR_PATH / f\"{test_ds_filename}.npy\"\n",
    "    synth_wav_path = RESULT_WAV_DIR_PATH / f\"{test_ds_filename}.wav\"\n",
    "    print(f'test_ds_index_{i}: {test_ds_filename}')\n",
    "    # [seq]text2mel =========================================================\n",
    "    # load txt\n",
    "    print('[seq]text2mel')\n",
    "    text = test_ds_list[i]['text']\n",
    "    phonemes, phnid = text2phnid(text, phn2id, 'en')\n",
    "    phonemes_len_int = len(phonemes)\n",
    "    phnid_len_int = len(phnid)\n",
    "    print(f'phonemes_len: {phonemes_len_int}')\n",
    "    print(f'phnid_len: {phnid_len_int}')\n",
    "    phnid_len = torch.tensor(len(phnid), dtype=torch.long).unsqueeze(0).to(device)\n",
    "    phnid = torch.tensor(phnid).unsqueeze(0).to(device)\n",
    "\n",
    "    # [seq] synth speech\n",
    "    # process text to mel\n",
    "    # mel is [n_mels, n_frame]\n",
    "    start_time = time.perf_counter()\n",
    "    _, mel_prediction, _ = model.forward(phnid,\n",
    "                                        phnid_len,\n",
    "                                        n_timesteps=N_STEP,\n",
    "                                        temperature=TEMP,\n",
    "                                        solver='original')\n",
    "    end_time = time.perf_counter()\n",
    "\n",
    "    dt = end_time - start_time\n",
    "    dt4mel = dt * 22050 / ( mel_prediction.shape[-1] * 256)\n",
    "    print(f'{model_name} dt: {dt}')\n",
    "    print(f'{model_name} RTF: {dt4mel}')\n",
    "    \n",
    "    # for save mel\n",
    "    mel4save = mel_prediction.unsqueeze(0) # [batch, channel(freq), n_frame(time)] ex.[1, 80, 619]\n",
    "    # save\n",
    "    #mel_npy_path =  RESULT_MEL_DIR_PATH / f\"{test_ds_filename}.npy\"\n",
    "    #print(f'test_ds_index_{i}: {mel_npy_path}')\n",
    "    np.save(mel_npy_path, mel4save.cpu().detach().numpy().copy())\n",
    "\n",
    "    # [seq]mel2wav =========================================================\n",
    "    print('[seq]mel2wav')\n",
    "    x = np.load(mel_npy_path) # [1, n_mel, n_frame]\n",
    "    x2audio = torch.FloatTensor(x).to(device)\n",
    "    x2audio = x2audio.squeeze().unsqueeze(0)\n",
    "    # x2audio is [1, n_mels, n_frames]\n",
    "    assert x2audio.shape[0] == 1\n",
    "    with torch.no_grad():\n",
    "        # vocoder.forward(x).cpu() is torch.Size([1, 1, 167168])\n",
    "        audio = (vocoder.forward(x2audio).cpu().squeeze().clamp(-1,1).numpy() * 32768).astype(np.int16)\n",
    "    write(\n",
    "        synth_wav_path,\n",
    "        hifigan_hparams.sampling_rate,\n",
    "        audio)\n",
    "\n",
    "    # [seq]wav2utmos =========================================================\n",
    "    print('[seq]wav2utmos')\n",
    "    #iwav_path = RESULT_WAV_DIR_PATH / f\"{filename}.wav\"\n",
    "    #wav, samplerate = torchaudio.load(iwav_path)\n",
    "    wav, samplerate = torchaudio.load(synth_wav_path)\n",
    "    score_utmos = predictor_utmos(wav, samplerate)\n",
    "    score_utmos_float = score_utmos.item()\n",
    "    print(f'utmos: {score_utmos_float}')\n",
    "    #eval_dict = {'name': filename, 'path': str(iwav_path), 'utmos': score_float}\n",
    "    #score_utmos_list.append(eval_dict)\n",
    "    \n",
    "    # path, テキスト文、phonimes, phonimes数, dt, RTF, utmos\n",
    "    eval_dict = {\n",
    "        'name': test_ds_filename,\n",
    "        'phonemes_len': phonemes_len_int,\n",
    "        'phnid_len': phnid_len_int,\n",
    "        'dt': dt,\n",
    "        'RTF4mel': dt4mel,\n",
    "        'utmos': score_utmos_float\n",
    "    }\n",
    "    eval_list.append(eval_dict)\n",
    "    "
   ]
  },
  {
   "cell_type": "code",
   "execution_count": 22,
   "id": "056c73a5-cdbc-4858-9621-e8b5e2367c36",
   "metadata": {},
   "outputs": [
    {
     "name": "stdout",
     "output_type": "stream",
     "text": [
      "Make result4eval/run_tfkfulmask_k3/gradtfkfultts/cpu/e500/eval4mid.json\n"
     ]
    }
   ],
   "source": [
    "#RESULT_JSON_PATH = RESULT_DIR_PATH / 'eval4mid.json'\n",
    "if RESULT_JSON_PATH.exists() == False:\n",
    "    with open(RESULT_JSON_PATH, 'w') as f:\n",
    "        for entry in eval_list:\n",
    "            f.write(json.dumps(entry) + '\\n')\n",
    "    print(f'Make {RESULT_JSON_PATH}')\n",
    "else:\n",
    "    print(f'Already Exists {RESULT_JSON_PATH}')"
   ]
  },
  {
   "cell_type": "code",
   "execution_count": 23,
   "id": "c31dbc89-a74c-4843-b9e2-94c8d4de4522",
   "metadata": {},
   "outputs": [
    {
     "data": {
      "text/plain": [
       "[{'name': 'LJ045-0049',\n",
       "  'phonemes_len': 1127,\n",
       "  'phnid_len': 215,\n",
       "  'dt': 22.235576699487865,\n",
       "  'RTF4mel': 2.919531644338959,\n",
       "  'utmos': 3.0999863147735596},\n",
       " {'name': 'LJ017-0027',\n",
       "  'phonemes_len': 411,\n",
       "  'phnid_len': 79,\n",
       "  'dt': 7.859424853697419,\n",
       "  'RTF4mel': 2.5739709782561206,\n",
       "  'utmos': 3.902704954147339},\n",
       " {'name': 'LJ023-0031',\n",
       "  'phonemes_len': 223,\n",
       "  'phnid_len': 45,\n",
       "  'dt': 4.456846786662936,\n",
       "  'RTF4mel': 2.7033855536399027,\n",
       "  'utmos': 3.1458921432495117},\n",
       " {'name': 'LJ032-0046',\n",
       "  'phonemes_len': 650,\n",
       "  'phnid_len': 125,\n",
       "  'dt': 11.059734380804002,\n",
       "  'RTF4mel': 2.075394395907614,\n",
       "  'utmos': 3.5897765159606934},\n",
       " {'name': 'LJ030-0026',\n",
       "  'phonemes_len': 1025,\n",
       "  'phnid_len': 195,\n",
       "  'dt': 15.682630959898233,\n",
       "  'RTF4mel': 2.225352738015831,\n",
       "  'utmos': 2.734996795654297},\n",
       " {'name': 'LJ020-0041',\n",
       "  'phonemes_len': 1154,\n",
       "  'phnid_len': 219,\n",
       "  'dt': 20.763847924768925,\n",
       "  'RTF4mel': 2.334789321256705,\n",
       "  'utmos': 3.271646022796631},\n",
       " {'name': 'LJ001-0070',\n",
       "  'phonemes_len': 1137,\n",
       "  'phnid_len': 215,\n",
       "  'dt': 18.73468187265098,\n",
       "  'RTF4mel': 2.1924875556850485,\n",
       "  'utmos': 4.015120983123779},\n",
       " {'name': 'LJ019-0334',\n",
       "  'phonemes_len': 611,\n",
       "  'phnid_len': 117,\n",
       "  'dt': 8.748563108034432,\n",
       "  'RTF4mel': 2.159135661400421,\n",
       "  'utmos': 3.443108558654785},\n",
       " {'name': 'LJ022-0152',\n",
       "  'phonemes_len': 387,\n",
       "  'phnid_len': 75,\n",
       "  'dt': 7.2682701563462615,\n",
       "  'RTF4mel': 2.227888080341346,\n",
       "  'utmos': 2.9242942333221436},\n",
       " {'name': 'LJ050-0154',\n",
       "  'phonemes_len': 896,\n",
       "  'phnid_len': 171,\n",
       "  'dt': 14.607130303047597,\n",
       "  'RTF4mel': 2.1109953281131997,\n",
       "  'utmos': 3.092604398727417},\n",
       " {'name': 'LJ016-0045',\n",
       "  'phonemes_len': 1237,\n",
       "  'phnid_len': 235,\n",
       "  'dt': 23.715348546393216,\n",
       "  'RTF4mel': 2.437553305153502,\n",
       "  'utmos': 3.841552495956421},\n",
       " {'name': 'LJ036-0100',\n",
       "  'phonemes_len': 802,\n",
       "  'phnid_len': 153,\n",
       "  'dt': 14.49691683985293,\n",
       "  'RTF4mel': 2.32525180632243,\n",
       "  'utmos': 3.8899331092834473},\n",
       " {'name': 'LJ046-0016',\n",
       "  'phonemes_len': 884,\n",
       "  'phnid_len': 167,\n",
       "  'dt': 12.339276042766869,\n",
       "  'RTF4mel': 2.063721455878409,\n",
       "  'utmos': 3.6445813179016113},\n",
       " {'name': 'LJ048-0085',\n",
       "  'phonemes_len': 1181,\n",
       "  'phnid_len': 223,\n",
       "  'dt': 18.278586951084435,\n",
       "  'RTF4mel': 2.0852796061227847,\n",
       "  'utmos': 3.8661506175994873},\n",
       " {'name': 'LJ050-0197',\n",
       "  'phonemes_len': 282,\n",
       "  'phnid_len': 55,\n",
       "  'dt': 5.4214661521837115,\n",
       "  'RTF4mel': 2.497145067171851,\n",
       "  'utmos': 4.241243362426758},\n",
       " {'name': 'LJ050-0178',\n",
       "  'phonemes_len': 709,\n",
       "  'phnid_len': 135,\n",
       "  'dt': 11.231637702323496,\n",
       "  'RTF4mel': 2.0939665460652823,\n",
       "  'utmos': 3.31962251663208},\n",
       " {'name': 'LJ043-0079',\n",
       "  'phonemes_len': 1445,\n",
       "  'phnid_len': 273,\n",
       "  'dt': 27.84575880598277,\n",
       "  'RTF4mel': 2.7100943753174436,\n",
       "  'utmos': 3.6991138458251953},\n",
       " {'name': 'LJ050-0207',\n",
       "  'phonemes_len': 737,\n",
       "  'phnid_len': 141,\n",
       "  'dt': 12.418150250799954,\n",
       "  'RTF4mel': 2.1918241949774186,\n",
       "  'utmos': 3.410460948944092},\n",
       " {'name': 'LJ034-0005',\n",
       "  'phonemes_len': 1442,\n",
       "  'phnid_len': 273,\n",
       "  'dt': 30.8676890572533,\n",
       "  'RTF4mel': 2.94431990462536,\n",
       "  'utmos': 3.4737370014190674},\n",
       " {'name': 'LJ031-0151',\n",
       "  'phonemes_len': 1203,\n",
       "  'phnid_len': 227,\n",
       "  'dt': 19.6567889675498,\n",
       "  'RTF4mel': 2.2848778927045013,\n",
       "  'utmos': 3.2792251110076904},\n",
       " {'name': 'LJ023-0021',\n",
       "  'phonemes_len': 564,\n",
       "  'phnid_len': 109,\n",
       "  'dt': 8.960067794658244,\n",
       "  'RTF4mel': 2.16785348130502,\n",
       "  'utmos': 3.8977208137512207},\n",
       " {'name': 'LJ015-0301',\n",
       "  'phonemes_len': 780,\n",
       "  'phnid_len': 149,\n",
       "  'dt': 13.267137363553047,\n",
       "  'RTF4mel': 2.062700099181695,\n",
       "  'utmos': 3.279144287109375},\n",
       " {'name': 'LJ021-0153',\n",
       "  'phonemes_len': 320,\n",
       "  'phnid_len': 63,\n",
       "  'dt': 5.972881907597184,\n",
       "  'RTF4mel': 2.3817644325542155,\n",
       "  'utmos': 2.633690357208252},\n",
       " {'name': 'LJ014-0037',\n",
       "  'phonemes_len': 365,\n",
       "  'phnid_len': 71,\n",
       "  'dt': 7.521081945858896,\n",
       "  'RTF4mel': 2.2415638098262956,\n",
       "  'utmos': 2.7266695499420166},\n",
       " {'name': 'LJ004-0200',\n",
       "  'phonemes_len': 1097,\n",
       "  'phnid_len': 207,\n",
       "  'dt': 18.076144695281982,\n",
       "  'RTF4mel': 2.0621843467040963,\n",
       "  'utmos': 2.9963247776031494},\n",
       " {'name': 'LJ049-0010',\n",
       "  'phonemes_len': 471,\n",
       "  'phnid_len': 91,\n",
       "  'dt': 8.351549501530826,\n",
       "  'RTF4mel': 2.2982186814690833,\n",
       "  'utmos': 3.275547504425049},\n",
       " {'name': 'LJ008-0291',\n",
       "  'phonemes_len': 365,\n",
       "  'phnid_len': 71,\n",
       "  'dt': 6.4692652598023415,\n",
       "  'RTF4mel': 2.3610847950649103,\n",
       "  'utmos': 3.485034704208374},\n",
       " {'name': 'LJ048-0221',\n",
       "  'phonemes_len': 602,\n",
       "  'phnid_len': 115,\n",
       "  'dt': 10.370465253479779,\n",
       "  'RTF4mel': 2.1420559693422994,\n",
       "  'utmos': 3.202763080596924},\n",
       " {'name': 'LJ004-0157',\n",
       "  'phonemes_len': 637,\n",
       "  'phnid_len': 121,\n",
       "  'dt': 10.619389531202614,\n",
       "  'RTF4mel': 2.127157877571018,\n",
       "  'utmos': 3.3666017055511475},\n",
       " {'name': 'LJ013-0175',\n",
       "  'phonemes_len': 681,\n",
       "  'phnid_len': 131,\n",
       "  'dt': 10.879989729262888,\n",
       "  'RTF4mel': 2.134679078251768,\n",
       "  'utmos': 3.5262491703033447},\n",
       " {'name': 'LJ021-0100',\n",
       "  'phonemes_len': 752,\n",
       "  'phnid_len': 143,\n",
       "  'dt': 12.837263561785221,\n",
       "  'RTF4mel': 2.1428480918223425,\n",
       "  'utmos': 3.288264036178589},\n",
       " {'name': 'LJ018-0132',\n",
       "  'phonemes_len': 687,\n",
       "  'phnid_len': 131,\n",
       "  'dt': 12.066165769472718,\n",
       "  'RTF4mel': 2.0995814016483068,\n",
       "  'utmos': 3.7690274715423584},\n",
       " {'name': 'LJ023-0059',\n",
       "  'phonemes_len': 1184,\n",
       "  'phnid_len': 225,\n",
       "  'dt': 18.87679046485573,\n",
       "  'RTF4mel': 2.153524574451929,\n",
       "  'utmos': 3.0512521266937256},\n",
       " {'name': 'LJ003-0027',\n",
       "  'phonemes_len': 964,\n",
       "  'phnid_len': 183,\n",
       "  'dt': 15.97326840274036,\n",
       "  'RTF4mel': 2.2554467743367375,\n",
       "  'utmos': 3.4452295303344727},\n",
       " {'name': 'LJ018-0133',\n",
       "  'phonemes_len': 674,\n",
       "  'phnid_len': 129,\n",
       "  'dt': 11.075541735626757,\n",
       "  'RTF4mel': 2.143747325057672,\n",
       "  'utmos': 3.835557699203491},\n",
       " {'name': 'LJ033-0060',\n",
       "  'phonemes_len': 596,\n",
       "  'phnid_len': 115,\n",
       "  'dt': 10.427914343774319,\n",
       "  'RTF4mel': 2.1233701913436738,\n",
       "  'utmos': 3.475552558898926},\n",
       " {'name': 'LJ003-0299',\n",
       "  'phonemes_len': 881,\n",
       "  'phnid_len': 167,\n",
       "  'dt': 15.535880943760276,\n",
       "  'RTF4mel': 2.245216644884609,\n",
       "  'utmos': 2.778435230255127},\n",
       " {'name': 'LJ011-0060',\n",
       "  'phonemes_len': 1083,\n",
       "  'phnid_len': 205,\n",
       "  'dt': 16.975360076874495,\n",
       "  'RTF4mel': 2.1953986585907153,\n",
       "  'utmos': 3.158228874206543},\n",
       " {'name': 'LJ013-0240',\n",
       "  'phonemes_len': 768,\n",
       "  'phnid_len': 147,\n",
       "  'dt': 12.319122682325542,\n",
       "  'RTF4mel': 2.139275572905732,\n",
       "  'utmos': 3.373983383178711},\n",
       " {'name': 'LJ047-0076',\n",
       "  'phonemes_len': 1287,\n",
       "  'phnid_len': 245,\n",
       "  'dt': 29.278895157389343,\n",
       "  'RTF4mel': 2.8953772523519796,\n",
       "  'utmos': 3.568474531173706},\n",
       " {'name': 'LJ041-0133',\n",
       "  'phonemes_len': 1018,\n",
       "  'phnid_len': 193,\n",
       "  'dt': 18.260501062497497,\n",
       "  'RTF4mel': 2.16047845353317,\n",
       "  'utmos': 3.338887929916382},\n",
       " {'name': 'LJ038-0264',\n",
       "  'phonemes_len': 1116,\n",
       "  'phnid_len': 211,\n",
       "  'dt': 17.440547910518944,\n",
       "  'RTF4mel': 2.1834352370261554,\n",
       "  'utmos': 3.8065319061279297},\n",
       " {'name': 'LJ011-0016',\n",
       "  'phonemes_len': 609,\n",
       "  'phnid_len': 117,\n",
       "  'dt': 9.799648409709334,\n",
       "  'RTF4mel': 2.192392932569915,\n",
       "  'utmos': 4.085221290588379},\n",
       " {'name': 'LJ003-0185',\n",
       "  'phonemes_len': 1105,\n",
       "  'phnid_len': 209,\n",
       "  'dt': 16.790057993493974,\n",
       "  'RTF4mel': 2.145660114269648,\n",
       "  'utmos': 3.5681138038635254},\n",
       " {'name': 'LJ014-0063',\n",
       "  'phonemes_len': 793,\n",
       "  'phnid_len': 151,\n",
       "  'dt': 12.17853984888643,\n",
       "  'RTF4mel': 2.0895854369081936,\n",
       "  'utmos': 3.665069341659546},\n",
       " {'name': 'LJ005-0185',\n",
       "  'phonemes_len': 588,\n",
       "  'phnid_len': 113,\n",
       "  'dt': 10.266278700903058,\n",
       "  'RTF4mel': 2.1359020734725283,\n",
       "  'utmos': 3.346945285797119},\n",
       " {'name': 'LJ014-0135',\n",
       "  'phonemes_len': 826,\n",
       "  'phnid_len': 157,\n",
       "  'dt': 13.002026121132076,\n",
       "  'RTF4mel': 2.085476867805533,\n",
       "  'utmos': 3.020235300064087},\n",
       " {'name': 'LJ009-0046',\n",
       "  'phonemes_len': 1011,\n",
       "  'phnid_len': 193,\n",
       "  'dt': 16.756892133504152,\n",
       "  'RTF4mel': 2.0767169039105586,\n",
       "  'utmos': 3.9311671257019043},\n",
       " {'name': 'LJ037-0024',\n",
       "  'phonemes_len': 1505,\n",
       "  'phnid_len': 285,\n",
       "  'dt': 26.13024435378611,\n",
       "  'RTF4mel': 2.420076814520261,\n",
       "  'utmos': 3.2915730476379395},\n",
       " {'name': 'LJ002-0217',\n",
       "  'phonemes_len': 1093,\n",
       "  'phnid_len': 207,\n",
       "  'dt': 16.659184618853033,\n",
       "  'RTF4mel': 2.221211184486923,\n",
       "  'utmos': 3.149360179901123},\n",
       " {'name': 'LJ044-0017',\n",
       "  'phonemes_len': 782,\n",
       "  'phnid_len': 149,\n",
       "  'dt': 13.483509779907763,\n",
       "  'RTF4mel': 2.0963404687991183,\n",
       "  'utmos': 2.6667089462280273},\n",
       " {'name': 'LJ017-0074',\n",
       "  'phonemes_len': 481,\n",
       "  'phnid_len': 93,\n",
       "  'dt': 8.881651354022324,\n",
       "  'RTF4mel': 2.2368468151063623,\n",
       "  'utmos': 3.4528586864471436},\n",
       " {'name': 'LJ033-0153',\n",
       "  'phonemes_len': 714,\n",
       "  'phnid_len': 137,\n",
       "  'dt': 11.785239203833044,\n",
       "  'RTF4mel': 2.1191979094183733,\n",
       "  'utmos': 2.720731258392334},\n",
       " {'name': 'LJ032-0124',\n",
       "  'phonemes_len': 1056,\n",
       "  'phnid_len': 199,\n",
       "  'dt': 18.2145540677011,\n",
       "  'RTF4mel': 2.24766586000632,\n",
       "  'utmos': 3.4279897212982178},\n",
       " {'name': 'LJ018-0287',\n",
       "  'phonemes_len': 567,\n",
       "  'phnid_len': 109,\n",
       "  'dt': 9.917067611590028,\n",
       "  'RTF4mel': 2.1846161768258483,\n",
       "  'utmos': 2.846484661102295},\n",
       " {'name': 'LJ020-0038',\n",
       "  'phonemes_len': 620,\n",
       "  'phnid_len': 119,\n",
       "  'dt': 10.672114712186158,\n",
       "  'RTF4mel': 2.152738303239395,\n",
       "  'utmos': 3.068068742752075},\n",
       " {'name': 'LJ001-0007',\n",
       "  'phonemes_len': 1016,\n",
       "  'phnid_len': 193,\n",
       "  'dt': 19.562993730418384,\n",
       "  'RTF4mel': 2.261766001235976,\n",
       "  'utmos': 2.689732551574707},\n",
       " {'name': 'LJ003-0313',\n",
       "  'phonemes_len': 1175,\n",
       "  'phnid_len': 223,\n",
       "  'dt': 19.33674688078463,\n",
       "  'RTF4mel': 2.2356085818021243,\n",
       "  'utmos': 3.5600366592407227},\n",
       " {'name': 'LJ019-0265',\n",
       "  'phonemes_len': 590,\n",
       "  'phnid_len': 113,\n",
       "  'dt': 11.356301086954772,\n",
       "  'RTF4mel': 2.1080822246039257,\n",
       "  'utmos': 3.5137383937835693},\n",
       " {'name': 'LJ038-0281',\n",
       "  'phonemes_len': 1193,\n",
       "  'phnid_len': 225,\n",
       "  'dt': 20.55672716908157,\n",
       "  'RTF4mel': 2.308485954195774,\n",
       "  'utmos': 3.5842416286468506},\n",
       " {'name': 'LJ045-0235',\n",
       "  'phonemes_len': 1185,\n",
       "  'phnid_len': 223,\n",
       "  'dt': 18.55254962667823,\n",
       "  'RTF4mel': 2.150717736731657,\n",
       "  'utmos': 3.5342090129852295},\n",
       " {'name': 'LJ038-0255',\n",
       "  'phonemes_len': 240,\n",
       "  'phnid_len': 47,\n",
       "  'dt': 5.112157329916954,\n",
       "  'RTF4mel': 2.652557161254444,\n",
       "  'utmos': 3.1898610591888428},\n",
       " {'name': 'LJ028-0205',\n",
       "  'phonemes_len': 899,\n",
       "  'phnid_len': 171,\n",
       "  'dt': 16.004083139821887,\n",
       "  'RTF4mel': 2.0760191149347738,\n",
       "  'utmos': 2.7211413383483887},\n",
       " {'name': 'LJ014-0260',\n",
       "  'phonemes_len': 1068,\n",
       "  'phnid_len': 203,\n",
       "  'dt': 18.688289468176663,\n",
       "  'RTF4mel': 2.0584078423378327,\n",
       "  'utmos': 3.187817335128784},\n",
       " {'name': 'LJ033-0166',\n",
       "  'phonemes_len': 967,\n",
       "  'phnid_len': 183,\n",
       "  'dt': 15.810818523168564,\n",
       "  'RTF4mel': 2.171978097811172,\n",
       "  'utmos': 3.4041857719421387},\n",
       " {'name': 'LJ037-0125',\n",
       "  'phonemes_len': 1085,\n",
       "  'phnid_len': 205,\n",
       "  'dt': 17.42655210569501,\n",
       "  'RTF4mel': 2.044956328394153,\n",
       "  'utmos': 3.225071430206299},\n",
       " {'name': 'LJ013-0142',\n",
       "  'phonemes_len': 740,\n",
       "  'phnid_len': 143,\n",
       "  'dt': 12.359278459101915,\n",
       "  'RTF4mel': 2.0996832626294166,\n",
       "  'utmos': 3.173292636871338},\n",
       " {'name': 'LJ031-0199',\n",
       "  'phonemes_len': 1439,\n",
       "  'phnid_len': 273,\n",
       "  'dt': 23.411131920292974,\n",
       "  'RTF4mel': 2.3204449207173297,\n",
       "  'utmos': 3.8213415145874023},\n",
       " {'name': 'LJ004-0017',\n",
       "  'phonemes_len': 619,\n",
       "  'phnid_len': 119,\n",
       "  'dt': 10.568554388359189,\n",
       "  'RTF4mel': 2.1071743368717457,\n",
       "  'utmos': 2.9142839908599854},\n",
       " {'name': 'LJ024-0115',\n",
       "  'phonemes_len': 1011,\n",
       "  'phnid_len': 191,\n",
       "  'dt': 16.77158183977008,\n",
       "  'RTF4mel': 2.063690734190459,\n",
       "  'utmos': 2.9027106761932373},\n",
       " {'name': 'LJ017-0171',\n",
       "  'phonemes_len': 620,\n",
       "  'phnid_len': 119,\n",
       "  'dt': 9.266595620661974,\n",
       "  'RTF4mel': 2.1689074540972797,\n",
       "  'utmos': 3.985438823699951},\n",
       " {'name': 'LJ017-0040',\n",
       "  'phonemes_len': 412,\n",
       "  'phnid_len': 79,\n",
       "  'dt': 8.487959979102015,\n",
       "  'RTF4mel': 2.2154298951136298,\n",
       "  'utmos': 3.4157493114471436},\n",
       " {'name': 'LJ005-0044',\n",
       "  'phonemes_len': 796,\n",
       "  'phnid_len': 151,\n",
       "  'dt': 11.83420137502253,\n",
       "  'RTF4mel': 2.0973519508684317,\n",
       "  'utmos': 3.2632060050964355},\n",
       " {'name': 'LJ007-0169',\n",
       "  'phonemes_len': 399,\n",
       "  'phnid_len': 77,\n",
       "  'dt': 6.9908887362107635,\n",
       "  'RTF4mel': 2.3338949950558283,\n",
       "  'utmos': 4.052618503570557},\n",
       " {'name': 'LJ015-0153',\n",
       "  'phonemes_len': 1156,\n",
       "  'phnid_len': 219,\n",
       "  'dt': 18.09679610002786,\n",
       "  'RTF4mel': 2.064540324946266,\n",
       "  'utmos': 3.5796775817871094},\n",
       " {'name': 'LJ045-0043',\n",
       "  'phonemes_len': 1166,\n",
       "  'phnid_len': 221,\n",
       "  'dt': 20.67538356781006,\n",
       "  'RTF4mel': 2.291929132833674,\n",
       "  'utmos': 3.0026848316192627},\n",
       " {'name': 'LJ050-0010',\n",
       "  'phonemes_len': 1046,\n",
       "  'phnid_len': 197,\n",
       "  'dt': 14.996941891498864,\n",
       "  'RTF4mel': 2.090176025912406,\n",
       "  'utmos': 3.5812175273895264},\n",
       " {'name': 'LJ006-0126',\n",
       "  'phonemes_len': 1061,\n",
       "  'phnid_len': 201,\n",
       "  'dt': 15.459552195854485,\n",
       "  'RTF4mel': 2.0612611619496866,\n",
       "  'utmos': 3.6824216842651367},\n",
       " {'name': 'LJ018-0356',\n",
       "  'phonemes_len': 979,\n",
       "  'phnid_len': 185,\n",
       "  'dt': 18.945736301131546,\n",
       "  'RTF4mel': 2.3146802163117832,\n",
       "  'utmos': 3.0140280723571777},\n",
       " {'name': 'LJ040-0223',\n",
       "  'phonemes_len': 1070,\n",
       "  'phnid_len': 201,\n",
       "  'dt': 17.72401320654899,\n",
       "  'RTF4mel': 2.2483344716748275,\n",
       "  'utmos': 3.1201436519622803},\n",
       " {'name': 'LJ008-0281',\n",
       "  'phonemes_len': 651,\n",
       "  'phnid_len': 125,\n",
       "  'dt': 11.264487527310848,\n",
       "  'RTF4mel': 2.091038776074254,\n",
       "  'utmos': 4.239401817321777},\n",
       " {'name': 'LJ008-0222',\n",
       "  'phonemes_len': 515,\n",
       "  'phnid_len': 99,\n",
       "  'dt': 9.319150450639427,\n",
       "  'RTF4mel': 2.217360879624907,\n",
       "  'utmos': 3.073042869567871},\n",
       " {'name': 'LJ046-0123',\n",
       "  'phonemes_len': 1130,\n",
       "  'phnid_len': 213,\n",
       "  'dt': 19.913827188313007,\n",
       "  'RTF4mel': 2.2930935071769607,\n",
       "  'utmos': 3.2047650814056396},\n",
       " {'name': 'LJ030-0044',\n",
       "  'phonemes_len': 965,\n",
       "  'phnid_len': 185,\n",
       "  'dt': 17.46389394905418,\n",
       "  'RTF4mel': 2.1863579985955934,\n",
       "  'utmos': 3.601828098297119},\n",
       " {'name': 'LJ018-0051',\n",
       "  'phonemes_len': 820,\n",
       "  'phnid_len': 157,\n",
       "  'dt': 13.974081612192094,\n",
       "  'RTF4mel': 2.130313188252459,\n",
       "  'utmos': 2.849276542663574},\n",
       " {'name': 'LJ042-0231',\n",
       "  'phonemes_len': 574,\n",
       "  'phnid_len': 111,\n",
       "  'dt': 9.911272810772061,\n",
       "  'RTF4mel': 2.205906466787023,\n",
       "  'utmos': 3.962049961090088},\n",
       " {'name': 'LJ011-0121',\n",
       "  'phonemes_len': 1123,\n",
       "  'phnid_len': 213,\n",
       "  'dt': 18.841360627673566,\n",
       "  'RTF4mel': 2.190093633182577,\n",
       "  'utmos': 3.0234718322753906},\n",
       " {'name': 'LJ016-0186',\n",
       "  'phonemes_len': 848,\n",
       "  'phnid_len': 161,\n",
       "  'dt': 12.898097599856555,\n",
       "  'RTF4mel': 2.1080634196871815,\n",
       "  'utmos': 3.370422601699829},\n",
       " {'name': 'LJ011-0164',\n",
       "  'phonemes_len': 1007,\n",
       "  'phnid_len': 191,\n",
       "  'dt': 19.330244716256857,\n",
       "  'RTF4mel': 2.240872602590131,\n",
       "  'utmos': 4.130599021911621},\n",
       " {'name': 'LJ026-0039',\n",
       "  'phonemes_len': 1150,\n",
       "  'phnid_len': 219,\n",
       "  'dt': 18.732779383659363,\n",
       "  'RTF4mel': 2.291913315705394,\n",
       "  'utmos': 2.8122923374176025},\n",
       " {'name': 'LJ003-0105',\n",
       "  'phonemes_len': 971,\n",
       "  'phnid_len': 185,\n",
       "  'dt': 16.098446179181337,\n",
       "  'RTF4mel': 2.0945686499890748,\n",
       "  'utmos': 3.964573621749878},\n",
       " {'name': 'LJ039-0104',\n",
       "  'phonemes_len': 383,\n",
       "  'phnid_len': 75,\n",
       "  'dt': 8.512548158876598,\n",
       "  'RTF4mel': 2.2422315427086796,\n",
       "  'utmos': 3.9262304306030273},\n",
       " {'name': 'LJ002-0038',\n",
       "  'phonemes_len': 642,\n",
       "  'phnid_len': 123,\n",
       "  'dt': 13.041138895787299,\n",
       "  'RTF4mel': 2.115386009976091,\n",
       "  'utmos': 3.6702463626861572},\n",
       " {'name': 'LJ046-0194',\n",
       "  'phonemes_len': 1259,\n",
       "  'phnid_len': 239,\n",
       "  'dt': 20.714876702055335,\n",
       "  'RTF4mel': 2.2330795881586365,\n",
       "  'utmos': 3.764674663543701},\n",
       " {'name': 'LJ008-0115',\n",
       "  'phonemes_len': 845,\n",
       "  'phnid_len': 161,\n",
       "  'dt': 15.251690426841378,\n",
       "  'RTF4mel': 2.1967742338514604,\n",
       "  'utmos': 3.5172877311706543},\n",
       " {'name': 'LJ016-0104',\n",
       "  'phonemes_len': 521,\n",
       "  'phnid_len': 101,\n",
       "  'dt': 8.87633551005274,\n",
       "  'RTF4mel': 2.2032960869581113,\n",
       "  'utmos': 3.053208351135254},\n",
       " {'name': 'LJ019-0301',\n",
       "  'phonemes_len': 1122,\n",
       "  'phnid_len': 213,\n",
       "  'dt': 17.293665893375874,\n",
       "  'RTF4mel': 2.086207397523514,\n",
       "  'utmos': 3.3363757133483887},\n",
       " {'name': 'LJ028-0012',\n",
       "  'phonemes_len': 1165,\n",
       "  'phnid_len': 219,\n",
       "  'dt': 21.906518695876002,\n",
       "  'RTF4mel': 2.367465580125009,\n",
       "  'utmos': 2.9106523990631104},\n",
       " {'name': 'LJ018-0059',\n",
       "  'phonemes_len': 1004,\n",
       "  'phnid_len': 191,\n",
       "  'dt': 17.267871035262942,\n",
       "  'RTF4mel': 2.13390286679266,\n",
       "  'utmos': 3.257174491882324},\n",
       " {'name': 'LJ029-0081',\n",
       "  'phonemes_len': 1427,\n",
       "  'phnid_len': 269,\n",
       "  'dt': 27.369109156541526,\n",
       "  'RTF4mel': 2.39814684361386,\n",
       "  'utmos': 3.9679741859436035},\n",
       " {'name': 'LJ017-0230',\n",
       "  'phonemes_len': 1085,\n",
       "  'phnid_len': 207,\n",
       "  'dt': 17.960323691368103,\n",
       "  'RTF4mel': 2.184990385519656,\n",
       "  'utmos': 3.4414823055267334}]"
      ]
     },
     "execution_count": 23,
     "metadata": {},
     "output_type": "execute_result"
    }
   ],
   "source": [
    "eval_list"
   ]
  },
  {
   "cell_type": "markdown",
   "id": "08aeb65e-6448-40c9-8575-d9e26693ce88",
   "metadata": {},
   "source": [
    "## recheck eval_json"
   ]
  },
  {
   "cell_type": "code",
   "execution_count": 60,
   "id": "e6a9aa1c-7a0f-4794-8dc4-1f4a5ab1c0e9",
   "metadata": {},
   "outputs": [
    {
     "name": "stdout",
     "output_type": "stream",
     "text": [
      "gradtfk5tts\n",
      "result4eval/run_tfk_k5/gradtfk5tts/cpu/e500\n",
      "eval_jsonl_path: result4eval/run_tfk_k5/gradtfk5tts/cpu/e500/eval4mid.json\n",
      "Exist result4eval/run_tfk_k5/gradtfk5tts/cpu/e500/eval4mid.json\n"
     ]
    }
   ],
   "source": [
    "target_model = 'gradtfk5tts'\n",
    "target_device = 'cpu'\n",
    "target_epoch_str = 'e500'\n",
    "\n",
    "print(target_model)\n",
    "print(RESULT_DIR_PATH)\n",
    "\n",
    "# /result4eval/infer4mid/gradtts/cpu/e500/eval4mid.json\n",
    "# result4eval/<runtime_name>/<model_name>/<device_name>/<target_epoch>/eval.json\n",
    "# or\n",
    "# result4eval/json4mid/<target_epoch>/eval4mid_<model_shortword>_<kernel_size>.json\n",
    "\"\"\"\n",
    "eval_info = {\n",
    "    'gradtts_cpu': 'result4eval/infer4mid/gradtts/cpu/eval4mid.json',\n",
    "    'gradseptts_cpu': 'result4eval/infer4mid/gradseptts/cpu/eval4mid.json',\n",
    "    'gradtfktts_cpu': 'result4eval/infer4mid/gradtfktts/cpu/eval4mid.json',\n",
    "    'gradtfk5tts_cpu': 'result4eval/infer4mid/gradtfk5tts/cpu/eval4mid.json',\n",
    "    'gradtimektts_cpu': 'result4eval/infer4mid/gradtimektts/cpu/eval4mid.json',\n",
    "    'gradfreqktts_cpu': 'result4eval/infer4mid/gradfreqktts/cpu/eval4mid.json',\n",
    "}\n",
    "\"\"\"\n",
    "\"\"\"\n",
    "eval_info = {\n",
    "    'cpu': {\n",
    "        'e500': {\n",
    "            'gradtts':f'{RESULT_DIR_PATH}/eval4mid.json',\n",
    "            'gradseptts': f'{RESULT_DIR_PATH}/eval4mid.json',\n",
    "            'gradtfktts': f'{RESULT_DIR_PATH}/eval4mid.json',\n",
    "            'gradtfk5tts': f'{RESULT_DIR_PATH}/eval4mid.json',\n",
    "            'gradtimektts': f'{RESULT_DIR_PATH}/eval4mid.json',\n",
    "            'gradfreqktts': f'{RESULT_DIR_PATH}/eval4mid.json',\n",
    "        },\n",
    "        'e1000':{\n",
    "            'gradtts': f'{RESULT_DIR_PATH}/eval4mid.json',\n",
    "            'gradseptts': f'{RESULT_DIR_PATH}/eval4mid.json',\n",
    "            'gradtfktts': f'{RESULT_DIR_PATH}/eval4mid.json',\n",
    "            'gradtfk5tts': f'{RESULT_DIR_PATH}/eval4mid.json',\n",
    "            'gradtimektts': f'{RESULT_DIR_PATH}/eval4mid.json',\n",
    "            'gradfreqktts': f'{RESULT_DIR_PATH}/eval4mid.json',\n",
    "        }\n",
    "    }\n",
    "}\n",
    "\"\"\"\n",
    "\n",
    "eval_jsonl_path = RESULT_DIR_PATH / 'eval4mid.json'\n",
    "print(f'eval_jsonl_path: {eval_jsonl_path}')\n",
    "\n",
    "if eval_jsonl_path.exists() == True:\n",
    "    print(f'Exist {eval_jsonl_path}')\n",
    "    import json\n",
    "    with open(eval_jsonl_path) as f:\n",
    "        eval_jsonl_list = [json.loads(l) for l in f]\n",
    "else:\n",
    "    print(f'No Exists {eval_jsonl_path}')"
   ]
  },
  {
   "cell_type": "code",
   "execution_count": 61,
   "id": "fc84e362-e28a-4064-bcad-4746106f026b",
   "metadata": {
    "scrolled": true
   },
   "outputs": [
    {
     "data": {
      "text/plain": [
       "[{'name': 'LJ045-0049',\n",
       "  'phonemes_len': 1127,\n",
       "  'phnid_len': 215,\n",
       "  'dt': 18.630400406196713,\n",
       "  'RTF4mel': 2.1684983580903587,\n",
       "  'utmos': 3.7940917015075684},\n",
       " {'name': 'LJ017-0027',\n",
       "  'phonemes_len': 411,\n",
       "  'phnid_len': 79,\n",
       "  'dt': 5.441780355758965,\n",
       "  'RTF4mel': 1.8526318065168783,\n",
       "  'utmos': 4.25128173828125},\n",
       " {'name': 'LJ023-0031',\n",
       "  'phonemes_len': 223,\n",
       "  'phnid_len': 45,\n",
       "  'dt': 4.267865874804556,\n",
       "  'RTF4mel': 1.9657930009074296,\n",
       "  'utmos': 4.103524684906006},\n",
       " {'name': 'LJ032-0046',\n",
       "  'phonemes_len': 650,\n",
       "  'phnid_len': 125,\n",
       "  'dt': 8.511940375901759,\n",
       "  'RTF4mel': 1.6549827639023154,\n",
       "  'utmos': 3.930527687072754},\n",
       " {'name': 'LJ030-0026',\n",
       "  'phonemes_len': 1025,\n",
       "  'phnid_len': 195,\n",
       "  'dt': 12.719644932076335,\n",
       "  'RTF4mel': 1.8824377869434814,\n",
       "  'utmos': 3.6048166751861572},\n",
       " {'name': 'LJ020-0041',\n",
       "  'phonemes_len': 1154,\n",
       "  'phnid_len': 219,\n",
       "  'dt': 15.45363965909928,\n",
       "  'RTF4mel': 1.7491004562414747,\n",
       "  'utmos': 3.749933958053589},\n",
       " {'name': 'LJ001-0070',\n",
       "  'phonemes_len': 1137,\n",
       "  'phnid_len': 215,\n",
       "  'dt': 15.431103941984475,\n",
       "  'RTF4mel': 1.7534622460461209,\n",
       "  'utmos': 3.7099075317382812},\n",
       " {'name': 'LJ019-0334',\n",
       "  'phonemes_len': 611,\n",
       "  'phnid_len': 117,\n",
       "  'dt': 7.140749234706163,\n",
       "  'RTF4mel': 1.7724864983932693,\n",
       "  'utmos': 3.711089611053467},\n",
       " {'name': 'LJ022-0152',\n",
       "  'phonemes_len': 387,\n",
       "  'phnid_len': 75,\n",
       "  'dt': 5.541841314174235,\n",
       "  'RTF4mel': 1.8718995247785215,\n",
       "  'utmos': 3.9787518978118896},\n",
       " {'name': 'LJ050-0154',\n",
       "  'phonemes_len': 896,\n",
       "  'phnid_len': 171,\n",
       "  'dt': 10.984729437157512,\n",
       "  'RTF4mel': 1.6063593225363642,\n",
       "  'utmos': 3.980283260345459},\n",
       " {'name': 'LJ016-0045',\n",
       "  'phonemes_len': 1237,\n",
       "  'phnid_len': 235,\n",
       "  'dt': 15.82704521715641,\n",
       "  'RTF4mel': 1.7960842135946704,\n",
       "  'utmos': 4.219866752624512},\n",
       " {'name': 'LJ036-0100',\n",
       "  'phonemes_len': 802,\n",
       "  'phnid_len': 153,\n",
       "  'dt': 9.96693316474557,\n",
       "  'RTF4mel': 1.679999971583291,\n",
       "  'utmos': 4.407536506652832},\n",
       " {'name': 'LJ046-0016',\n",
       "  'phonemes_len': 884,\n",
       "  'phnid_len': 167,\n",
       "  'dt': 9.813895941711962,\n",
       "  'RTF4mel': 1.6350066906034573,\n",
       "  'utmos': 3.7828214168548584},\n",
       " {'name': 'LJ048-0085',\n",
       "  'phonemes_len': 1181,\n",
       "  'phnid_len': 223,\n",
       "  'dt': 13.518867385573685,\n",
       "  'RTF4mel': 1.606093889288253,\n",
       "  'utmos': 4.379725933074951},\n",
       " {'name': 'LJ050-0197',\n",
       "  'phonemes_len': 282,\n",
       "  'phnid_len': 55,\n",
       "  'dt': 4.2537095453590155,\n",
       "  'RTF4mel': 2.002098178687805,\n",
       "  'utmos': 4.40185546875},\n",
       " {'name': 'LJ050-0178',\n",
       "  'phonemes_len': 709,\n",
       "  'phnid_len': 135,\n",
       "  'dt': 8.687996251508594,\n",
       "  'RTF4mel': 1.6629367825153167,\n",
       "  'utmos': 3.828385353088379},\n",
       " {'name': 'LJ043-0079',\n",
       "  'phonemes_len': 1445,\n",
       "  'phnid_len': 273,\n",
       "  'dt': 18.6075432067737,\n",
       "  'RTF4mel': 1.712307724481504,\n",
       "  'utmos': 4.058241844177246},\n",
       " {'name': 'LJ050-0207',\n",
       "  'phonemes_len': 737,\n",
       "  'phnid_len': 141,\n",
       "  'dt': 8.934786891564727,\n",
       "  'RTF4mel': 1.680302017595202,\n",
       "  'utmos': 3.915811061859131},\n",
       " {'name': 'LJ034-0005',\n",
       "  'phonemes_len': 1442,\n",
       "  'phnid_len': 273,\n",
       "  'dt': 18.090981637127697,\n",
       "  'RTF4mel': 1.7352195203693352,\n",
       "  'utmos': 3.2817208766937256},\n",
       " {'name': 'LJ031-0151',\n",
       "  'phonemes_len': 1203,\n",
       "  'phnid_len': 227,\n",
       "  'dt': 15.279776438139379,\n",
       "  'RTF4mel': 1.807816097511232,\n",
       "  'utmos': 3.917287588119507},\n",
       " {'name': 'LJ023-0021',\n",
       "  'phonemes_len': 564,\n",
       "  'phnid_len': 109,\n",
       "  'dt': 6.650785562582314,\n",
       "  'RTF4mel': 1.7254544151795466,\n",
       "  'utmos': 4.07334566116333},\n",
       " {'name': 'LJ015-0301',\n",
       "  'phonemes_len': 780,\n",
       "  'phnid_len': 149,\n",
       "  'dt': 10.169254032894969,\n",
       "  'RTF4mel': 1.637208319402264,\n",
       "  'utmos': 3.8392066955566406},\n",
       " {'name': 'LJ021-0153',\n",
       "  'phonemes_len': 320,\n",
       "  'phnid_len': 63,\n",
       "  'dt': 4.803191141225398,\n",
       "  'RTF4mel': 1.9514734055133405,\n",
       "  'utmos': 3.1623382568359375},\n",
       " {'name': 'LJ014-0037',\n",
       "  'phonemes_len': 365,\n",
       "  'phnid_len': 71,\n",
       "  'dt': 5.5618808176368475,\n",
       "  'RTF4mel': 1.8215225764747578,\n",
       "  'utmos': 3.949504852294922},\n",
       " {'name': 'LJ004-0200',\n",
       "  'phonemes_len': 1097,\n",
       "  'phnid_len': 207,\n",
       "  'dt': 13.777396550402045,\n",
       "  'RTF4mel': 1.6123449915950083,\n",
       "  'utmos': 4.261324882507324},\n",
       " {'name': 'LJ049-0010',\n",
       "  'phonemes_len': 471,\n",
       "  'phnid_len': 91,\n",
       "  'dt': 6.292918674647808,\n",
       "  'RTF4mel': 1.7655595579191796,\n",
       "  'utmos': 3.7812001705169678},\n",
       " {'name': 'LJ008-0291',\n",
       "  'phonemes_len': 365,\n",
       "  'phnid_len': 71,\n",
       "  'dt': 5.013017845340073,\n",
       "  'RTF4mel': 1.8773275049210023,\n",
       "  'utmos': 4.226135730743408},\n",
       " {'name': 'LJ048-0221',\n",
       "  'phonemes_len': 602,\n",
       "  'phnid_len': 115,\n",
       "  'dt': 7.87597787566483,\n",
       "  'RTF4mel': 1.6917210115181724,\n",
       "  'utmos': 3.539680004119873},\n",
       " {'name': 'LJ004-0157',\n",
       "  'phonemes_len': 637,\n",
       "  'phnid_len': 121,\n",
       "  'dt': 7.945491850376129,\n",
       "  'RTF4mel': 1.645114326367128,\n",
       "  'utmos': 4.011363506317139},\n",
       " {'name': 'LJ013-0175',\n",
       "  'phonemes_len': 681,\n",
       "  'phnid_len': 131,\n",
       "  'dt': 8.643053553067148,\n",
       "  'RTF4mel': 1.6617198908789987,\n",
       "  'utmos': 3.838446617126465},\n",
       " {'name': 'LJ021-0100',\n",
       "  'phonemes_len': 752,\n",
       "  'phnid_len': 143,\n",
       "  'dt': 9.361466459929943,\n",
       "  'RTF4mel': 1.6355566639314087,\n",
       "  'utmos': 3.609755039215088},\n",
       " {'name': 'LJ018-0132',\n",
       "  'phonemes_len': 687,\n",
       "  'phnid_len': 131,\n",
       "  'dt': 9.6385733243078,\n",
       "  'RTF4mel': 1.6472171208533837,\n",
       "  'utmos': 3.85725474357605},\n",
       " {'name': 'LJ023-0059',\n",
       "  'phonemes_len': 1184,\n",
       "  'phnid_len': 225,\n",
       "  'dt': 13.350066165439785,\n",
       "  'RTF4mel': 1.6059759020815907,\n",
       "  'utmos': 3.4043965339660645},\n",
       " {'name': 'LJ003-0027',\n",
       "  'phonemes_len': 964,\n",
       "  'phnid_len': 183,\n",
       "  'dt': 11.976386094465852,\n",
       "  'RTF4mel': 1.751374903059821,\n",
       "  'utmos': 4.03814697265625},\n",
       " {'name': 'LJ018-0133',\n",
       "  'phonemes_len': 674,\n",
       "  'phnid_len': 129,\n",
       "  'dt': 8.518618514761329,\n",
       "  'RTF4mel': 1.6562811993024062,\n",
       "  'utmos': 4.031007766723633},\n",
       " {'name': 'LJ033-0060',\n",
       "  'phonemes_len': 596,\n",
       "  'phnid_len': 115,\n",
       "  'dt': 7.739032790996134,\n",
       "  'RTF4mel': 1.6875561020714474,\n",
       "  'utmos': 3.529188632965088},\n",
       " {'name': 'LJ003-0299',\n",
       "  'phonemes_len': 881,\n",
       "  'phnid_len': 167,\n",
       "  'dt': 11.281369423493743,\n",
       "  'RTF4mel': 1.6008172607858644,\n",
       "  'utmos': 2.904111623764038},\n",
       " {'name': 'LJ011-0060',\n",
       "  'phonemes_len': 1083,\n",
       "  'phnid_len': 205,\n",
       "  'dt': 14.409266371279955,\n",
       "  'RTF4mel': 1.7358190749930233,\n",
       "  'utmos': 3.9119582176208496},\n",
       " {'name': 'LJ013-0240',\n",
       "  'phonemes_len': 768,\n",
       "  'phnid_len': 147,\n",
       "  'dt': 9.320516106672585,\n",
       "  'RTF4mel': 1.651856514854444,\n",
       "  'utmos': 4.264939308166504},\n",
       " {'name': 'LJ047-0076',\n",
       "  'phonemes_len': 1287,\n",
       "  'phnid_len': 245,\n",
       "  'dt': 17.534952918998897,\n",
       "  'RTF4mel': 1.7360170252511031,\n",
       "  'utmos': 3.861445426940918},\n",
       " {'name': 'LJ041-0133',\n",
       "  'phonemes_len': 1018,\n",
       "  'phnid_len': 193,\n",
       "  'dt': 12.66082212049514,\n",
       "  'RTF4mel': 1.608425100000679,\n",
       "  'utmos': 4.418397426605225},\n",
       " {'name': 'LJ038-0264',\n",
       "  'phonemes_len': 1116,\n",
       "  'phnid_len': 211,\n",
       "  'dt': 14.996830076910555,\n",
       "  'RTF4mel': 1.7502969554321104,\n",
       "  'utmos': 4.1153340339660645},\n",
       " {'name': 'LJ011-0016',\n",
       "  'phonemes_len': 609,\n",
       "  'phnid_len': 117,\n",
       "  'dt': 7.181766701862216,\n",
       "  'RTF4mel': 1.7135339743774007,\n",
       "  'utmos': 3.9388327598571777},\n",
       " {'name': 'LJ003-0185',\n",
       "  'phonemes_len': 1105,\n",
       "  'phnid_len': 209,\n",
       "  'dt': 12.802385390736163,\n",
       "  'RTF4mel': 1.6168701765586762,\n",
       "  'utmos': 4.1874918937683105},\n",
       " {'name': 'LJ014-0063',\n",
       "  'phonemes_len': 793,\n",
       "  'phnid_len': 151,\n",
       "  'dt': 10.013812127523124,\n",
       "  'RTF4mel': 1.6618840123124765,\n",
       "  'utmos': 4.042677402496338},\n",
       " {'name': 'LJ005-0185',\n",
       "  'phonemes_len': 588,\n",
       "  'phnid_len': 113,\n",
       "  'dt': 7.975307809188962,\n",
       "  'RTF4mel': 1.7130565889243357,\n",
       "  'utmos': 3.8509693145751953},\n",
       " {'name': 'LJ014-0135',\n",
       "  'phonemes_len': 826,\n",
       "  'phnid_len': 157,\n",
       "  'dt': 9.340078462846577,\n",
       "  'RTF4mel': 1.6285166537968674,\n",
       "  'utmos': 3.549145221710205},\n",
       " {'name': 'LJ009-0046',\n",
       "  'phonemes_len': 1011,\n",
       "  'phnid_len': 193,\n",
       "  'dt': 12.513133263215423,\n",
       "  'RTF4mel': 1.5967279424415513,\n",
       "  'utmos': 4.125268936157227},\n",
       " {'name': 'LJ037-0024',\n",
       "  'phonemes_len': 1505,\n",
       "  'phnid_len': 285,\n",
       "  'dt': 22.842772997915745,\n",
       "  'RTF4mel': 2.143259568202113,\n",
       "  'utmos': 3.6568610668182373},\n",
       " {'name': 'LJ002-0217',\n",
       "  'phonemes_len': 1093,\n",
       "  'phnid_len': 207,\n",
       "  'dt': 12.26899083238095,\n",
       "  'RTF4mel': 1.6434878490352836,\n",
       "  'utmos': 3.9412314891815186},\n",
       " {'name': 'LJ044-0017',\n",
       "  'phonemes_len': 782,\n",
       "  'phnid_len': 149,\n",
       "  'dt': 10.205751043744385,\n",
       "  'RTF4mel': 1.6159008107950632,\n",
       "  'utmos': 3.880934238433838},\n",
       " {'name': 'LJ017-0074',\n",
       "  'phonemes_len': 481,\n",
       "  'phnid_len': 93,\n",
       "  'dt': 6.371116045862436,\n",
       "  'RTF4mel': 1.7365890626392742,\n",
       "  'utmos': 4.206176280975342},\n",
       " {'name': 'LJ033-0153',\n",
       "  'phonemes_len': 714,\n",
       "  'phnid_len': 137,\n",
       "  'dt': 9.868926200084388,\n",
       "  'RTF4mel': 1.622210629710317,\n",
       "  'utmos': 3.411618709564209},\n",
       " {'name': 'LJ032-0124',\n",
       "  'phonemes_len': 1056,\n",
       "  'phnid_len': 199,\n",
       "  'dt': 13.745136790908873,\n",
       "  'RTF4mel': 1.7133245875516725,\n",
       "  'utmos': 4.0375542640686035},\n",
       " {'name': 'LJ018-0287',\n",
       "  'phonemes_len': 567,\n",
       "  'phnid_len': 109,\n",
       "  'dt': 6.993069261312485,\n",
       "  'RTF4mel': 1.6919458524835442,\n",
       "  'utmos': 3.926884651184082},\n",
       " {'name': 'LJ020-0038',\n",
       "  'phonemes_len': 620,\n",
       "  'phnid_len': 119,\n",
       "  'dt': 7.8449410032480955,\n",
       "  'RTF4mel': 1.7193558079041478,\n",
       "  'utmos': 3.6957056522369385},\n",
       " {'name': 'LJ001-0007',\n",
       "  'phonemes_len': 1016,\n",
       "  'phnid_len': 193,\n",
       "  'dt': 13.899390152655542,\n",
       "  'RTF4mel': 1.7502829910570559,\n",
       "  'utmos': 3.5297863483428955},\n",
       " {'name': 'LJ003-0313',\n",
       "  'phonemes_len': 1175,\n",
       "  'phnid_len': 223,\n",
       "  'dt': 17.297262153588235,\n",
       "  'RTF4mel': 1.8979131692208429,\n",
       "  'utmos': 4.119297504425049},\n",
       " {'name': 'LJ019-0265',\n",
       "  'phonemes_len': 590,\n",
       "  'phnid_len': 113,\n",
       "  'dt': 9.073441432788968,\n",
       "  'RTF4mel': 1.6281688117919657,\n",
       "  'utmos': 3.7659378051757812},\n",
       " {'name': 'LJ038-0281',\n",
       "  'phonemes_len': 1193,\n",
       "  'phnid_len': 225,\n",
       "  'dt': 14.336880562826991,\n",
       "  'RTF4mel': 1.7009309164640105,\n",
       "  'utmos': 3.851227045059204},\n",
       " {'name': 'LJ045-0235',\n",
       "  'phonemes_len': 1185,\n",
       "  'phnid_len': 223,\n",
       "  'dt': 16.013551546260715,\n",
       "  'RTF4mel': 1.8894414147851495,\n",
       "  'utmos': 4.303903579711914},\n",
       " {'name': 'LJ038-0255',\n",
       "  'phonemes_len': 240,\n",
       "  'phnid_len': 47,\n",
       "  'dt': 4.074234048835933,\n",
       "  'RTF4mel': 2.1268196206636443,\n",
       "  'utmos': 4.264137268066406},\n",
       " {'name': 'LJ028-0205',\n",
       "  'phonemes_len': 899,\n",
       "  'phnid_len': 171,\n",
       "  'dt': 10.670474370010197,\n",
       "  'RTF4mel': 1.618095014433352,\n",
       "  'utmos': 3.7222070693969727},\n",
       " {'name': 'LJ014-0260',\n",
       "  'phonemes_len': 1068,\n",
       "  'phnid_len': 203,\n",
       "  'dt': 14.897043590433896,\n",
       "  'RTF4mel': 1.8097662374882504,\n",
       "  'utmos': 4.039480209350586},\n",
       " {'name': 'LJ033-0166',\n",
       "  'phonemes_len': 967,\n",
       "  'phnid_len': 183,\n",
       "  'dt': 11.332497079856694,\n",
       "  'RTF4mel': 1.6187393799935226,\n",
       "  'utmos': 3.583163022994995},\n",
       " {'name': 'LJ037-0125',\n",
       "  'phonemes_len': 1085,\n",
       "  'phnid_len': 205,\n",
       "  'dt': 12.13524539861828,\n",
       "  'RTF4mel': 1.5933579520742014,\n",
       "  'utmos': 3.4946160316467285},\n",
       " {'name': 'LJ013-0142',\n",
       "  'phonemes_len': 740,\n",
       "  'phnid_len': 143,\n",
       "  'dt': 8.965969438664615,\n",
       "  'RTF4mel': 1.632693793956088,\n",
       "  'utmos': 4.051518440246582},\n",
       " {'name': 'LJ031-0199',\n",
       "  'phonemes_len': 1439,\n",
       "  'phnid_len': 273,\n",
       "  'dt': 17.696066619828343,\n",
       "  'RTF4mel': 1.7580299748018264,\n",
       "  'utmos': 3.7947452068328857},\n",
       " {'name': 'LJ004-0017',\n",
       "  'phonemes_len': 619,\n",
       "  'phnid_len': 119,\n",
       "  'dt': 8.693190751597285,\n",
       "  'RTF4mel': 1.725274122198302,\n",
       "  'utmos': 3.5392374992370605},\n",
       " {'name': 'LJ024-0115',\n",
       "  'phonemes_len': 1011,\n",
       "  'phnid_len': 191,\n",
       "  'dt': 12.02767440956086,\n",
       "  'RTF4mel': 1.6036802240398664,\n",
       "  'utmos': 3.97092342376709},\n",
       " {'name': 'LJ017-0171',\n",
       "  'phonemes_len': 620,\n",
       "  'phnid_len': 119,\n",
       "  'dt': 7.2703090403229,\n",
       "  'RTF4mel': 1.6924653118572628,\n",
       "  'utmos': 4.158392906188965},\n",
       " {'name': 'LJ017-0040',\n",
       "  'phonemes_len': 412,\n",
       "  'phnid_len': 79,\n",
       "  'dt': 6.214518224820495,\n",
       "  'RTF4mel': 1.7492612190728645,\n",
       "  'utmos': 4.1674723625183105},\n",
       " {'name': 'LJ005-0044',\n",
       "  'phonemes_len': 796,\n",
       "  'phnid_len': 151,\n",
       "  'dt': 9.519092017784715,\n",
       "  'RTF4mel': 1.6497105994730332,\n",
       "  'utmos': 4.038031101226807},\n",
       " {'name': 'LJ007-0169',\n",
       "  'phonemes_len': 399,\n",
       "  'phnid_len': 77,\n",
       "  'dt': 5.499639619141817,\n",
       "  'RTF4mel': 1.8723297554668519,\n",
       "  'utmos': 4.270167827606201},\n",
       " {'name': 'LJ015-0153',\n",
       "  'phonemes_len': 1156,\n",
       "  'phnid_len': 219,\n",
       "  'dt': 13.425151535309851,\n",
       "  'RTF4mel': 1.6060361944096258,\n",
       "  'utmos': 4.1828837394714355},\n",
       " {'name': 'LJ045-0043',\n",
       "  'phonemes_len': 1166,\n",
       "  'phnid_len': 221,\n",
       "  'dt': 14.668453813530505,\n",
       "  'RTF4mel': 1.7378750783847772,\n",
       "  'utmos': 3.708656072616577},\n",
       " {'name': 'LJ050-0010',\n",
       "  'phonemes_len': 1046,\n",
       "  'phnid_len': 197,\n",
       "  'dt': 11.352277477271855,\n",
       "  'RTF4mel': 1.608229584535904,\n",
       "  'utmos': 4.074641704559326},\n",
       " {'name': 'LJ006-0126',\n",
       "  'phonemes_len': 1061,\n",
       "  'phnid_len': 201,\n",
       "  'dt': 11.68035377562046,\n",
       "  'RTF4mel': 1.5818580529704154,\n",
       "  'utmos': 3.6870505809783936},\n",
       " {'name': 'LJ018-0356',\n",
       "  'phonemes_len': 979,\n",
       "  'phnid_len': 185,\n",
       "  'dt': 13.469671504572034,\n",
       "  'RTF4mel': 1.7446326167517232,\n",
       "  'utmos': 3.566265344619751},\n",
       " {'name': 'LJ040-0223',\n",
       "  'phonemes_len': 1070,\n",
       "  'phnid_len': 201,\n",
       "  'dt': 13.525902361609042,\n",
       "  'RTF4mel': 1.733666684532409,\n",
       "  'utmos': 4.132346153259277},\n",
       " {'name': 'LJ008-0281',\n",
       "  'phonemes_len': 651,\n",
       "  'phnid_len': 125,\n",
       "  'dt': 8.869321781210601,\n",
       "  'RTF4mel': 1.653548982647573,\n",
       "  'utmos': 3.8137130737304688},\n",
       " {'name': 'LJ008-0222',\n",
       "  'phonemes_len': 515,\n",
       "  'phnid_len': 99,\n",
       "  'dt': 7.369575912132859,\n",
       "  'RTF4mel': 1.688197607032596,\n",
       "  'utmos': 4.224302768707275},\n",
       " {'name': 'LJ046-0123',\n",
       "  'phonemes_len': 1130,\n",
       "  'phnid_len': 213,\n",
       "  'dt': 13.868767051957548,\n",
       "  'RTF4mel': 1.723745904895292,\n",
       "  'utmos': 3.9348690509796143},\n",
       " {'name': 'LJ030-0044',\n",
       "  'phonemes_len': 965,\n",
       "  'phnid_len': 185,\n",
       "  'dt': 13.496410256251693,\n",
       "  'RTF4mel': 1.7613390515527334,\n",
       "  'utmos': 4.067849159240723},\n",
       " {'name': 'LJ018-0051',\n",
       "  'phonemes_len': 820,\n",
       "  'phnid_len': 157,\n",
       "  'dt': 10.59403681755066,\n",
       "  'RTF4mel': 1.6960858491155903,\n",
       "  'utmos': 3.816298723220825},\n",
       " {'name': 'LJ042-0231',\n",
       "  'phonemes_len': 574,\n",
       "  'phnid_len': 111,\n",
       "  'dt': 7.725005409680307,\n",
       "  'RTF4mel': 1.7372753068237063,\n",
       "  'utmos': 4.170778274536133},\n",
       " {'name': 'LJ011-0121',\n",
       "  'phonemes_len': 1123,\n",
       "  'phnid_len': 213,\n",
       "  'dt': 15.686631155200303,\n",
       "  'RTF4mel': 1.91378705389168,\n",
       "  'utmos': 3.6822142601013184},\n",
       " {'name': 'LJ016-0186',\n",
       "  'phonemes_len': 848,\n",
       "  'phnid_len': 161,\n",
       "  'dt': 10.640024463646114,\n",
       "  'RTF4mel': 1.6307032600047042,\n",
       "  'utmos': 4.180722236633301},\n",
       " {'name': 'LJ011-0164',\n",
       "  'phonemes_len': 1007,\n",
       "  'phnid_len': 191,\n",
       "  'dt': 14.589815347455442,\n",
       "  'RTF4mel': 1.8480321025470616,\n",
       "  'utmos': 3.9867053031921387},\n",
       " {'name': 'LJ026-0039',\n",
       "  'phonemes_len': 1150,\n",
       "  'phnid_len': 219,\n",
       "  'dt': 13.454412010498345,\n",
       "  'RTF4mel': 1.6230621106414593,\n",
       "  'utmos': 3.4794058799743652},\n",
       " {'name': 'LJ003-0105',\n",
       "  'phonemes_len': 971,\n",
       "  'phnid_len': 185,\n",
       "  'dt': 12.936861149966717,\n",
       "  'RTF4mel': 1.73835918216633,\n",
       "  'utmos': 4.024852275848389},\n",
       " {'name': 'LJ039-0104',\n",
       "  'phonemes_len': 383,\n",
       "  'phnid_len': 75,\n",
       "  'dt': 6.27545090764761,\n",
       "  'RTF4mel': 1.7380136218050366,\n",
       "  'utmos': 4.042315483093262},\n",
       " {'name': 'LJ002-0038',\n",
       "  'phonemes_len': 642,\n",
       "  'phnid_len': 123,\n",
       "  'dt': 9.305091516114771,\n",
       "  'RTF4mel': 1.6390055273064505,\n",
       "  'utmos': 3.977177143096924},\n",
       " {'name': 'LJ046-0194',\n",
       "  'phonemes_len': 1259,\n",
       "  'phnid_len': 239,\n",
       "  'dt': 16.731512915343046,\n",
       "  'RTF4mel': 1.7489469232749648,\n",
       "  'utmos': 4.157623767852783},\n",
       " {'name': 'LJ008-0115',\n",
       "  'phonemes_len': 845,\n",
       "  'phnid_len': 161,\n",
       "  'dt': 10.252684086561203,\n",
       "  'RTF4mel': 1.663074418172335,\n",
       "  'utmos': 3.3884241580963135},\n",
       " {'name': 'LJ016-0104',\n",
       "  'phonemes_len': 521,\n",
       "  'phnid_len': 101,\n",
       "  'dt': 6.722047044895589,\n",
       "  'RTF4mel': 1.7439422220908762,\n",
       "  'utmos': 4.176431655883789},\n",
       " {'name': 'LJ019-0301',\n",
       "  'phonemes_len': 1122,\n",
       "  'phnid_len': 213,\n",
       "  'dt': 12.625609761103988,\n",
       "  'RTF4mel': 1.6182727354930648,\n",
       "  'utmos': 3.5089240074157715},\n",
       " {'name': 'LJ028-0012',\n",
       "  'phonemes_len': 1165,\n",
       "  'phnid_len': 219,\n",
       "  'dt': 15.38925595395267,\n",
       "  'RTF4mel': 1.8108195322354015,\n",
       "  'utmos': 3.64117693901062},\n",
       " {'name': 'LJ018-0059',\n",
       "  'phonemes_len': 1004,\n",
       "  'phnid_len': 191,\n",
       "  'dt': 13.806926989927888,\n",
       "  'RTF4mel': 1.7540257428092156,\n",
       "  'utmos': 3.7991106510162354},\n",
       " {'name': 'LJ029-0081',\n",
       "  'phonemes_len': 1427,\n",
       "  'phnid_len': 269,\n",
       "  'dt': 19.036052463576198,\n",
       "  'RTF4mel': 1.7387367312676265,\n",
       "  'utmos': 4.374366760253906},\n",
       " {'name': 'LJ017-0230',\n",
       "  'phonemes_len': 1085,\n",
       "  'phnid_len': 207,\n",
       "  'dt': 14.049044815823436,\n",
       "  'RTF4mel': 1.7691282791307266,\n",
       "  'utmos': 4.0468573570251465}]"
      ]
     },
     "execution_count": 61,
     "metadata": {},
     "output_type": "execute_result"
    }
   ],
   "source": [
    "eval_jsonl_list"
   ]
  },
  {
   "cell_type": "code",
   "execution_count": 7,
   "id": "7136a609-1e83-4340-a0c8-d2f85dfb2f45",
   "metadata": {},
   "outputs": [
    {
     "name": "stdout",
     "output_type": "stream",
     "text": [
      "Exist result4eval/run_tfkfulmask_k3/gradtfkfultts/cpu/e500/eval4mid.json\n"
     ]
    }
   ],
   "source": [
    "#'result4eval/run_tfkful_k3/gradtfkfultts/cpu/e500/eval4mid.json'\n",
    "#result4eval/run_tfkful_k3/gradtfkfultts_e500/cpu/e500/eval4mid.json\n",
    "#'result4eval/run_tfk_k5/gradtfk5tts/cpu/e500/eval4mid.json\n",
    "#toybox.load_json('result4eval/infer4colb/gradtfk5tts/cpu/e500_n50/eval4midb.json')\n",
    "a = toybox.load_json('result4eval/run_tfkfulmask_k3/gradtfkfultts/cpu/e500/eval4mid.json')\n",
    "#a = eval_list"
   ]
  },
  {
   "cell_type": "code",
   "execution_count": 8,
   "id": "a210369f-0982-4aba-961f-61bbb49116de",
   "metadata": {},
   "outputs": [
    {
     "name": "stdout",
     "output_type": "stream",
     "text": [
      "100\n",
      "dt ---------------------------\n",
      "dt mean: 14.75482539\n",
      "dt var: 29.438431780000002\n",
      "dt std: 5.425719471\n",
      "RTF ---------------------------\n",
      "RTF mean: 2.221159653\n",
      "RTF var: 0.02777350155\n",
      "RTF std: 0.1666538375\n",
      "utmos ---------------------------\n",
      "utmos mean: 3.39501344\n",
      "utmos var: 0.1545336726\n",
      "utmos std: 0.3931077112\n"
     ]
    }
   ],
   "source": [
    "dt_list = [a[n]['dt'] for n in range(len(a))]\n",
    "RTF4mel_list = [a[n]['RTF4mel'] for n in range(len(a))]\n",
    "utmos_list = [a[n]['utmos'] for n in range(len(a))]\n",
    "\n",
    "dt_nparr = np.array(dt_list[1:101])\n",
    "RTF4mel_nparr = np.array(RTF4mel_list[1:101])\n",
    "utmos_nparr = np.array(utmos_list[1:101])\n",
    "print(len(dt_nparr))\n",
    "\n",
    "significant_digits = 10\n",
    "\n",
    "# for culc difference time to infer text2mel\n",
    "dt_mean = toybox.round_significant_digits(np.mean(dt_nparr), significant_digits=significant_digits)\n",
    "dt_var = toybox.round_significant_digits(np.var(dt_nparr), significant_digits=significant_digits)\n",
    "dt_std = toybox.round_significant_digits(np.std(dt_nparr), significant_digits=significant_digits)\n",
    "print(f'dt ---------------------------')\n",
    "print(f'dt mean: {dt_mean}')\n",
    "print(f'dt var: {dt_var}')\n",
    "print(f'dt std: {dt_std}')\n",
    "\n",
    "# for culc RTF4mel to infer text2mel\n",
    "RTF4mel_mean = toybox.round_significant_digits(np.mean(RTF4mel_nparr), significant_digits=significant_digits)\n",
    "RTF4mel_var = toybox.round_significant_digits(np.var(RTF4mel_nparr), significant_digits=significant_digits)\n",
    "RTF4mel_std = toybox.round_significant_digits(np.std(RTF4mel_nparr), significant_digits=significant_digits)\n",
    "print(f'RTF ---------------------------')\n",
    "print(f'RTF mean: {RTF4mel_mean}')\n",
    "print(f'RTF var: {RTF4mel_var}')\n",
    "print(f'RTF std: {RTF4mel_std}')\n",
    "\n",
    "# for culc utmos to infer \n",
    "print(f'utmos ---------------------------')\n",
    "utmos_mean = toybox.round_significant_digits(np.mean(utmos_nparr), significant_digits=significant_digits)\n",
    "utmos_var = toybox.round_significant_digits(np.var(utmos_nparr), significant_digits=significant_digits)\n",
    "utmos_std = toybox.round_significant_digits(np.std(utmos_nparr), significant_digits=significant_digits)\n",
    "print(f'utmos mean: {utmos_mean}')\n",
    "print(f'utmos var: {utmos_var}')\n",
    "print(f'utmos std: {utmos_std}')"
   ]
  },
  {
   "cell_type": "markdown",
   "id": "5d2a19c7-188f-4cab-877e-7c787b5493af",
   "metadata": {},
   "source": [
    "## [seq] analysis json\n",
    "\n",
    "It is sequence of <span style=\"color: red;\">json analysis section</span> from below cells\n",
    "\n",
    "The 0th data seemed to have a slower inference time than usual, perhaps because the model took longer to load. Therefore, we try to use data from 1 to 101."
   ]
  },
  {
   "cell_type": "code",
   "execution_count": 23,
   "id": "a60b76fc-8566-40f1-b49d-59596dbeb46e",
   "metadata": {},
   "outputs": [
    {
     "name": "stdout",
     "output_type": "stream",
     "text": [
      "target_model: gradtts\n",
      "target_jsonl_path: result4eval/json4mid/e500\n",
      "Exist: result4eval/json4mid/e500/eval4mid_gt_k3.json\n",
      "load: configs/test_dataset.json\n"
     ]
    }
   ],
   "source": [
    "# for loading eval_jsonl of each models\n",
    "target_model = 'gradtfkfultts'\n",
    "target_device = 'cpu'\n",
    "target_epoch_str = 'e500'\n",
    "eval_json_dir = 'result'#'result4eval/json4mid' # or result4eval/infer4mid\n",
    "\n",
    "eval_json_dirpath = f'{eval_json_dir}/{target_epoch_str}'\n",
    "print(f'target_model: {target_model}')\n",
    "print(f'target_jsonl_path: {eval_json_dirpath}')\n",
    "\n",
    "\n",
    "# original eval4mid.json path: 'gradtts_cpu': 'result4eval/infer4mid/gradtts/cpu/eval4mid.json'\n",
    "# diff result4eval/infer4mid/gradtts/cpu/eval4mid.json result4eval/json4mid/eval4mid_gt_k3.json\n",
    "# no difference between upper files\n",
    "\n",
    "\"\"\"midtermstyle\n",
    "eval_info = {\n",
    "    'lj': f'result4eval/infer4PBL/groundtruth/evalljPBL.json',\n",
    "    'lj_via_hifigan': f'result4eval/infer4PBL/groundtruth/eval4PBL.json',\n",
    "    'gradtts_cpu': f'{eval_json_dirpath}/eval4mid_gt_k3.json',\n",
    "    'gradseptts_cpu': f'{eval_json_dirpath}/eval4mid_sgt_k3.json',\n",
    "    'gradtfktts_cpu': f'{eval_json_dirpath}/eval4mid_tfk_k3.json',\n",
    "    'gradtfk5tts_cpu': f'{eval_json_dirpath}/eval4mid_tfk_k5.json',\n",
    "    'gradtimektts_cpu': f'{eval_json_dirpath}/eval4mid_timek_k3.json',\n",
    "    'gradfreqktts_cpu': f'{eval_json_dirpath}/eval4mid_freqk_k3.json',\n",
    "}\n",
    "\n",
    "\"\"\"\n",
    "\n",
    "# result4eval/<runtime_name>/<model_name>/<device_name>/<target_epoch>/eval.json\n",
    "# or\n",
    "# result4eval/json4mid/<target_epoch>/eval4mid_<model_shortword>_<kernel_size>.json\n",
    "\n",
    "eval_info = {\n",
    "    'lj': f'result4eval/infer4PBL/groundtruth/evalljPBL.json',\n",
    "    'lj_via_hifigan': f'result4eval/infer4PBL/groundtruth/eval4PBL.json',\n",
    "    'cpu': {\n",
    "        'e500': {\n",
    "            'gradtts':f'{eval_json_dirpath}/eval4mid_gt_k3.json',\n",
    "            'gradseptts': f'{eval_json_dirpath}/eval4mid_sgt_k3.json',\n",
    "            'gradtfktts': f'{eval_json_dirpath}/eval4mid_tfk_k3.json',\n",
    "            'gradtfk5tts': f'{eval_json_dirpath}/eval4mid_tfk_k5.json',\n",
    "            'gradtimektts': f'{eval_json_dirpath}/eval4mid_timek_k3.json',\n",
    "            'gradfreqktts': f'{eval_json_dirpath}/eval4mid_freqk_k3.json',\n",
    "        },\n",
    "        'e1000':{\n",
    "            \n",
    "        }\n",
    "    }\n",
    "}\n",
    "\n",
    "#eval_jsonl_path = Path(eval_info[eval_target]) # midtermstyle\n",
    "eval_jsonl_path = Path(eval_info[target_device][target_epoch_str][target_model])\n",
    "\n",
    "\n",
    "if eval_jsonl_path.exists() == True:\n",
    "    print(f'Exist: {eval_jsonl_path}')\n",
    "    import json\n",
    "    with open(eval_jsonl_path) as f:\n",
    "        eval_jsonl_list = [json.loads(l) for l in f]\n",
    "else:\n",
    "    print(f'No Exists: {eval_jsonl_path}')\n",
    "\n",
    "\n",
    "# for loading test_dataset.json\n",
    "test_dataset_json_path = Path('configs/test_dataset.json')\n",
    "import json\n",
    "with open(test_dataset_json_path) as f:\n",
    "    test_dataset_list = [json.loads(l) for l in f]\n",
    "print(f'load: {test_dataset_json_path}')"
   ]
  },
  {
   "cell_type": "code",
   "execution_count": 24,
   "id": "0115b060-d043-4bfd-b815-727c9a3eb4cc",
   "metadata": {},
   "outputs": [],
   "source": [
    "def round_significant_digits(value, significant_digits=5):\n",
    "    if value == 0:\n",
    "        return 0\n",
    "\n",
    "    import math\n",
    "    scale = math.floor(-math.log10(abs(value)))  # Find the first nonzero after the decimal point\n",
    "    factor = 10 ** (scale + significant_digits - 1)  # Scale to hold 5 significant digits\n",
    "\n",
    "    rounded_value = round(value * factor,1) / factor  # Adjust and round off the scale\n",
    "    return rounded_value\n",
    "\n",
    "#input_value = 0.06238165879957992\n",
    "#input_value = 0.007710418871435095\n",
    "\n",
    "# Rounded to the nearest whole number to ensure significant figures\n",
    "#result = round_significant_digits(input_value, significant_digits=5)\n",
    "#print(result) "
   ]
  },
  {
   "cell_type": "code",
   "execution_count": 25,
   "id": "40447589-c29c-4896-b8cf-b7dc491c24dd",
   "metadata": {},
   "outputs": [],
   "source": [
    "# for culc phonemes length\n",
    "#text = test_ds_list[i]['text']\n",
    "#phonemes, phnid = text2phnid(text, phn2id, 'en')\n",
    "#phonemes_len_int = len(phonemes)\n",
    "#phnid_len_int = len(phnid)\n",
    "\n",
    "#test_dataset_list[0][0]"
   ]
  },
  {
   "cell_type": "code",
   "execution_count": 26,
   "id": "8e8191f7-d5ae-4e9b-89b2-70d4b1c18b37",
   "metadata": {},
   "outputs": [],
   "source": [
    "# The 0th data seemed to have a slower inference time than usual, \n",
    "# perhaps because the model took longer to load.\n",
    "# Therefore, we try to use data from 1 to 101\n",
    "\n",
    "#eval_jsonl_list[0]"
   ]
  },
  {
   "cell_type": "code",
   "execution_count": 27,
   "id": "38f9a7ba-de82-46bc-950f-d21569bb642a",
   "metadata": {},
   "outputs": [],
   "source": [
    "#counter_list = list(range(1,101))\n",
    "#print(f'counter_list_len: {len(counter_list)}')\n",
    "#print(f'counter_width: {counter_list[0]}-{counter_list[-1]}')\n",
    "#print(len(dt_nparr))"
   ]
  },
  {
   "cell_type": "code",
   "execution_count": 28,
   "id": "e9202b7d-7802-4d15-b721-a8cc25c66aa0",
   "metadata": {},
   "outputs": [],
   "source": [
    "# culc for evaluation Indicates\n",
    "dt_list = [eval_jsonl_list[n]['dt'] for n in range(len(eval_jsonl_list))]\n",
    "RTF4mel_list = [eval_jsonl_list[n]['RTF4mel'] for n in range(len(eval_jsonl_list))]\n",
    "utmos_list = [eval_jsonl_list[n]['utmos'] for n in range(len(eval_jsonl_list))]"
   ]
  },
  {
   "cell_type": "code",
   "execution_count": 29,
   "id": "458848be-dd23-43bb-944d-b36d811f8035",
   "metadata": {},
   "outputs": [
    {
     "name": "stdout",
     "output_type": "stream",
     "text": [
      "100\n"
     ]
    }
   ],
   "source": [
    "dt_nparr = np.array(dt_list[1:101])\n",
    "RTF4mel_nparr = np.array(RTF4mel_list[1:101])\n",
    "utmos_nparr = np.array(utmos_list[1:101])\n",
    "print(len(dt_nparr))"
   ]
  },
  {
   "cell_type": "code",
   "execution_count": 30,
   "id": "349d979a-c2f7-43c3-adbe-ba956aa61d68",
   "metadata": {},
   "outputs": [
    {
     "name": "stdout",
     "output_type": "stream",
     "text": [
      "gradfreqktts: dt ---------------------------\n",
      "dt mean: 14.776\n",
      "dt var: 24.908\n",
      "dt std: 4.9908\n",
      "gradfreqktts: RTF ---------------------------\n",
      "RTF mean: 2.2504\n",
      "RTF var: 0.0038915\n",
      "RTF std: 0.062382\n",
      "gradfreqktts: utmos ---------------------------\n",
      "utmos mean: 4.1955\n",
      "utmos var: 0.065222\n",
      "utmos std: 0.25539\n"
     ]
    }
   ],
   "source": [
    "significant_digits = 5\n",
    "\n",
    "# for culc difference time to infer text2mel\n",
    "dt_mean = round_significant_digits(np.mean(dt_nparr), significant_digits=significant_digits)\n",
    "dt_var = round_significant_digits(np.var(dt_nparr), significant_digits=significant_digits)\n",
    "dt_std = round_significant_digits(np.std(dt_nparr), significant_digits=significant_digits)\n",
    "print(f'{target_model}: dt ---------------------------')\n",
    "print(f'dt mean: {dt_mean}')\n",
    "print(f'dt var: {dt_var}')\n",
    "print(f'dt std: {dt_std}')\n",
    "\n",
    "# for culc RTF4mel to infer text2mel\n",
    "RTF4mel_mean = round_significant_digits(np.mean(RTF4mel_nparr), significant_digits=significant_digits)\n",
    "RTF4mel_var = round_significant_digits(np.var(RTF4mel_nparr), significant_digits=significant_digits)\n",
    "RTF4mel_std = round_significant_digits(np.std(RTF4mel_nparr), significant_digits=significant_digits)\n",
    "print(f'{target_model}: RTF ---------------------------')\n",
    "print(f'RTF mean: {RTF4mel_mean}')\n",
    "print(f'RTF var: {RTF4mel_var}')\n",
    "print(f'RTF std: {RTF4mel_std}')\n",
    "\n",
    "# for culc utmos to infer \n",
    "print(f'{target_model}: utmos ---------------------------')\n",
    "utmos_mean = round_significant_digits(np.mean(utmos_nparr), significant_digits=significant_digits)\n",
    "utmos_var = round_significant_digits(np.var(utmos_nparr), significant_digits=significant_digits)\n",
    "utmos_std = round_significant_digits(np.std(utmos_nparr), significant_digits=significant_digits)\n",
    "print(f'utmos mean: {utmos_mean}')\n",
    "print(f'utmos var: {utmos_var}')\n",
    "print(f'utmos std: {utmos_std}')"
   ]
  },
  {
   "cell_type": "code",
   "execution_count": null,
   "id": "41f136c2-7920-46d8-abef-3df6fa747448",
   "metadata": {},
   "outputs": [],
   "source": []
  }
 ],
 "metadata": {
  "kernelspec": {
   "display_name": "Python 3 (ipykernel)",
   "language": "python",
   "name": "python3"
  },
  "language_info": {
   "codemirror_mode": {
    "name": "ipython",
    "version": 3
   },
   "file_extension": ".py",
   "mimetype": "text/x-python",
   "name": "python",
   "nbconvert_exporter": "python",
   "pygments_lexer": "ipython3",
   "version": "3.10.16"
  }
 },
 "nbformat": 4,
 "nbformat_minor": 5
}

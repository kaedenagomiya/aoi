{
 "cells": [
  {
   "cell_type": "markdown",
   "id": "6d46fcf0-2777-415a-a289-7b93f4a5d9cb",
   "metadata": {},
   "source": [
    "<span style=\"font-size: 200%; color: red;\">First! check the changing \"your config.yaml\" </span>"
   ]
  },
  {
   "cell_type": "markdown",
   "id": "93e215ea-a135-448b-9523-c658106cb042",
   "metadata": {},
   "source": [
    "## [seq] import"
   ]
  },
  {
   "cell_type": "code",
   "execution_count": 1,
   "id": "cf3a2cde-aa64-4749-8d71-3cf03496d0e3",
   "metadata": {},
   "outputs": [],
   "source": [
    "import os\n",
    "import json\n",
    "import yaml\n",
    "import sys\n",
    "import time\n",
    "import copy\n",
    "import IPython.display as ipd\n",
    "import pprint\n",
    "from pathlib import Path\n",
    "from tqdm import tqdm\n",
    "\n",
    "\n",
    "import numpy as np\n",
    "import torch\n",
    "import torchaudio\n",
    "from librosa.filters import mel as librosa_mel_fn\n",
    "#import matplotlib\n",
    "#matplotlib.use(\"Agg\")\n",
    "import matplotlib.pyplot as plt\n",
    "from scipy.io.wavfile import write\n",
    "\n",
    "\n",
    "import toybox"
   ]
  },
  {
   "cell_type": "code",
   "execution_count": 2,
   "id": "c2ed86a9-be2c-4ccd-a74e-0281f0790743",
   "metadata": {},
   "outputs": [],
   "source": [
    "def plot_audio(audio, samplerate, title='time-domain waveform'):\n",
    "    \"\"\"\n",
    "    usage:\n",
    "        # audio is [channel, time(num_frames)] ex.torch.Size([1, 68608])\n",
    "        # audio[0,:]: list of 1ch audio data\n",
    "        # audio.shape[1]: int value of 1ch audio data length\n",
    "        audio, sample_rate = torchaudio.load(str(iwav_path))\n",
    "        %matplotlib inline\n",
    "        plot_audio(audio, sample_rate)\n",
    "    \"\"\"\n",
    "    # transform to mono\n",
    "    channel = 0\n",
    "    audio = audio[channel,:].view(1,-1)\n",
    "    # to numpy\n",
    "    audio = audio.to('cpu').detach().numpy().copy()\n",
    "    time = np.linspace(0., audio.shape[1]/samplerate, audio.shape[1])\n",
    "    \n",
    "    fig, ax = plt.subplots(figsize=(12,9))\n",
    "    \n",
    "    ax.plot(time, audio[0, :])\n",
    "    ax.set_title(title, fontsize=20, y=-0.12)\n",
    "    ax.tick_params(direction='in')\n",
    "    #ax.set_xlim(0, 3)\n",
    "    ax.set_xlabel('Time')\n",
    "    ax.set_ylabel('Amp')\n",
    "    #ax.legend()\n",
    "    plt.tight_layout()\n",
    "    fig.canvas.draw()\n",
    "    plt.show()\n",
    "    #fig.savefig('figure.png')\n",
    "    plt.close(fig)\n",
    "    return fig\n",
    "\n",
    "def plot_mel(tensors:list, titles:list[str]):\n",
    "    \"\"\"\n",
    "    usage:\n",
    "        mel = mel_process(...)\n",
    "        fig_mel = plot_mel([mel_groundtruth[0], mel_prediction[0]],\n",
    "                            ['groundtruth', 'inferenced(model)'])\n",
    "\n",
    "    \"\"\"\n",
    "    xlim = max([t.shape[1] for t in tensors])\n",
    "    fig, axs = plt.subplots(nrows=len(tensors),\n",
    "                            ncols=1,\n",
    "                            figsize=(12, 9),\n",
    "                            constrained_layout=True)\n",
    "\n",
    "    if len(tensors) == 1:\n",
    "        axs = [axs]\n",
    "    \n",
    "    for i in range(len(tensors)):\n",
    "        im = axs[i].imshow(tensors[i],\n",
    "                           aspect=\"auto\",\n",
    "                           origin=\"lower\",\n",
    "                           interpolation='none')\n",
    "        #plt.colorbar(im, ax=axs[i])\n",
    "        fig.colorbar(im, ax=axs[i])\n",
    "        axs[i].set_title(titles[i])\n",
    "        axs[i].set_xlim([0, xlim])\n",
    "    fig.canvas.draw()\n",
    "    #plt.show()\n",
    "    #plt.close()\n",
    "    plt.close(fig)  # fig.close() \n",
    "    return fig\n",
    "\n",
    "def convert_phn_to_id(phonemes, phn2id):\n",
    "    \"\"\"\n",
    "    phonemes: phonemes separated by ' '\n",
    "    phn2id: phn2id dict\n",
    "    \"\"\"\n",
    "    return [phn2id[x] for x in ['<bos>'] + phonemes.split(' ') + ['<eos>']]\n",
    "\n",
    "\n",
    "def text2phnid(text, phn2id, language='en', add_blank=True):\n",
    "    if language == 'en':\n",
    "        from text import G2pEn\n",
    "        word2phn = G2pEn()\n",
    "        phonemes = word2phn(text)\n",
    "        if add_blank:\n",
    "            phonemes = ' <blank> '.join(phonemes)\n",
    "        return phonemes, convert_phn_to_id(phonemes, phn2id)\n",
    "    else:\n",
    "        raise ValueError(\n",
    "            'Language should be en (for English)!')"
   ]
  },
  {
   "cell_type": "code",
   "execution_count": 3,
   "id": "ac3662ec-d439-49ae-b913-66223a3e308f",
   "metadata": {},
   "outputs": [
    {
     "name": "stdout",
     "output_type": "stream",
     "text": [
      "runtime_name: infer4colb\n",
      "ckpt_path: logs4model/gradtfk5tts/run_tfk_k5/ckpt/gradtfk5tts_500_397001.pt\n",
      "gradtfk5tts\n",
      "infer4colb\n",
      "80 1024 22050 256 1024 0 8000 1234\n",
      "phn2id_path: ./configs/phn2id.json\n"
     ]
    }
   ],
   "source": [
    "#ckpt_file_dir: logs4model/<model_name>/<runtime_name>/ckpt/\n",
    "#run_tfkfulmask_k3,run_tfkfulplus_k3 by gradtfkfultts\n",
    "model_name = 'gradtfk5tts' #  gradseptts, gradtfktts, gradtfk5tts, gradtimektts, gradfreqktts, gradtfkful_mask, gradtfkful_plus\n",
    "model_dir = 'run_tfk_k5'\n",
    "runtime_name = 'infer4colb'\n",
    "hifigan_versions = 'LJ_V1'\n",
    "config_path4model = 'configs/config_exp_mid.yaml'\n",
    "wav_dir_name = f'wav_{hifigan_versions}'\n",
    "test_ds_path = Path('configs/test_dataset.json') #Path(config['test_datalist_path'])\n",
    "#~/aoi/logs4model/gradtfk5tts/run_tfk_k5/ckpt/gradtfk5tts_500_397001.pt\n",
    "ckpt_filename= 'gradtfk5tts_500_397001.pt'\n",
    "# for runtime to load model\n",
    "print(f'runtime_name: {runtime_name}')\n",
    "ckpt_dir = f'logs4model/{model_name}/{model_dir}/ckpt'\n",
    "ckpt_path = Path(ckpt_dir + \"/\" + ckpt_filename)\n",
    "\n",
    "\n",
    "if ckpt_path.exists()==True:\n",
    "    print(f\"ckpt_path: {ckpt_path}\")\n",
    "else:\n",
    "    print(f\"Not find\")\n",
    "\n",
    "config = toybox.load_yaml_and_expand_var('configs/config_exp_mid.yaml')\n",
    "print(model_name)\n",
    "print(runtime_name)\n",
    "n_mels: int = config['n_mels'] # 80\n",
    "n_fft: int = config['n_fft'] # 1024\n",
    "sample_rate: int = config['sample_rate'] # 22050\n",
    "hop_size: int = config['hop_size'] # 256\n",
    "win_size: int = config['win_size'] # 1024\n",
    "f_min: int = config['f_min'] # 0\n",
    "f_max: int = config['f_max'] # 8000\n",
    "random_seed: int = 1234#config['random_seed'] # 42 or 1234\n",
    "print(n_mels, n_fft, sample_rate, hop_size, win_size, f_min, f_max, random_seed)\n",
    "\n",
    "print(f\"phn2id_path: {config['phn2id_path']}\")\n",
    "with open(config['phn2id_path']) as f:\n",
    "    phn2id = json.load(f)\n",
    "\n",
    "vocab_size = len(phn2id) + 1\n",
    "\n",
    "toybox.set_seed(random_seed)"
   ]
  },
  {
   "cell_type": "code",
   "execution_count": 4,
   "id": "454098bd-1e9d-4cf8-86f1-1fb16c9db186",
   "metadata": {},
   "outputs": [
    {
     "name": "stdout",
     "output_type": "stream",
     "text": [
      "all cpu at using device: 52\n",
      "Number of available CPU: 4\n",
      "device: cpu\n"
     ]
    }
   ],
   "source": [
    "#devicesetting\n",
    "import os\n",
    "\n",
    "print(f\"all cpu at using device: {os.cpu_count()}\")\n",
    "print(f\"Number of available CPU: {len(os.sched_getaffinity(0))}\") # Number of available CPUs can also be obtained. ,use systemcall at linux.\n",
    "#print(f\"GPU_name: {torch.cuda.get_device_name()}\\nGPU avail: {torch.cuda.is_available()}\\n\")\n",
    "\n",
    "DEVICE = 'cpu' #'cuda' or 'cpu'\n",
    "#DEVICE_HiFiGAN = 'cuda'\n",
    "#if torch.cuda.is_available():\n",
    "#    print('use cuda')\n",
    "#else:\n",
    "#    os._exit(os.EX_OK)\n",
    "#    print('use cpu')\n",
    "\n",
    "#device = torch.device(DEVICE_HiFiGAN)\n",
    "device = torch.device(DEVICE)\n",
    "print(f'device: {device}')"
   ]
  },
  {
   "cell_type": "code",
   "execution_count": 5,
   "id": "d2b1f5d2-69a6-4cf6-a8d4-cbe8918d09dc",
   "metadata": {},
   "outputs": [
    {
     "name": "stdout",
     "output_type": "stream",
     "text": [
      "result4eval/infer4colb/gradtfk5tts/cpu/e500_n50\n",
      "result4eval/infer4colb/gradtfk5tts/cpu/e500_n50/mel_LJ_V1\n",
      "result4eval/infer4colb/gradtfk5tts/cpu/e500_n50/wav_LJ_V1\n"
     ]
    }
   ],
   "source": [
    "RESULT_DIR_PATH = Path(f'./result4eval/{runtime_name}/{model_name}/{DEVICE}/e500_n50')\n",
    "RESULT_MEL_DIR_PATH = RESULT_DIR_PATH / 'mel_LJ_V1'\n",
    "RESULT_WAV_DIR_PATH = RESULT_DIR_PATH / wav_dir_name\n",
    "#RESULT_JSON_PATH = RESULT_DIR_PATH / f'eval4mid_{hifigan_versions}.json'\n",
    "#eval_jsonl_path = RESULT_DIR_PATH / 'eval4mid.json'\n",
    "RESULT_JSON_PATH = RESULT_DIR_PATH / f'eval4mid_{hifigan_versions}.json'\n",
    "\n",
    "print(RESULT_DIR_PATH)\n",
    "print(RESULT_MEL_DIR_PATH)\n",
    "print(RESULT_WAV_DIR_PATH)"
   ]
  },
  {
   "cell_type": "code",
   "execution_count": 6,
   "id": "0fdf17f6-9920-442f-bab9-3aa37620744f",
   "metadata": {},
   "outputs": [
    {
     "name": "stdout",
     "output_type": "stream",
     "text": [
      "test_ds_path-----------------------------------------\n",
      "Exists configs/test_dataset.json\n",
      "loaded configs/test_dataset.json\n",
      "RESULT_DIR_PATH-------------------------------------------\n",
      "Exists result4eval/infer4colb/gradtfk5tts/cpu/e500_n50\n",
      "RESULT_MEL_DIR_PATH-------------------------------------------\n",
      "No exist result4eval/infer4colb/gradtfk5tts/cpu/e500_n50/mel_LJ_V1\n",
      "RESULT_WAV_DIR_PATH-------------------------------------------\n",
      "No exist result4eval/infer4colb/gradtfk5tts/cpu/e500_n50/wav_LJ_V1\n",
      "RESULT_JSON_PATH-------------------------------------------\n",
      "Exists result4eval/infer4colb/gradtfk5tts/cpu/e500_n50/eval4mid_LJ_V1.json\n"
     ]
    }
   ],
   "source": [
    "# check path\n",
    "\n",
    "# for text2mel\n",
    "print('test_ds_path-----------------------------------------')\n",
    "if test_ds_path.exists():\n",
    "    print(f'Exists {str(test_ds_path)}')\n",
    "    with open(config['test_datalist_path']) as j:\n",
    "        test_ds_list = json.load(j)\n",
    "    print(f'loaded {test_ds_path}')\n",
    "else:\n",
    "    print(f'No exist {test_ds_path}')\n",
    "\n",
    "print('RESULT_DIR_PATH-------------------------------------------')\n",
    "if RESULT_DIR_PATH.exists():\n",
    "    print(f'Exists {RESULT_DIR_PATH}')\n",
    "else:\n",
    "    RESULT_DIR_PATH.mkdir(parents=True)\n",
    "    print(f'No exist {RESULT_DIR_PATH}')\n",
    "\n",
    "print('RESULT_MEL_DIR_PATH-------------------------------------------')\n",
    "if RESULT_MEL_DIR_PATH.exists():\n",
    "    print(f'Exists {RESULT_MEL_DIR_PATH}')\n",
    "else:\n",
    "    RESULT_MEL_DIR_PATH.mkdir(parents=True)\n",
    "    print(f'No exist {RESULT_MEL_DIR_PATH}')\n",
    "\n",
    "print('RESULT_WAV_DIR_PATH-------------------------------------------')\n",
    "if RESULT_WAV_DIR_PATH.exists():\n",
    "    print(f'Exists {RESULT_WAV_DIR_PATH}')\n",
    "else:\n",
    "    RESULT_WAV_DIR_PATH.mkdir(parents=True)\n",
    "    print(f'No exist {RESULT_WAV_DIR_PATH}')\n",
    "\n",
    "print('RESULT_JSON_PATH-------------------------------------------')\n",
    "if RESULT_JSON_PATH.exists():\n",
    "    print(f'Exists {RESULT_JSON_PATH}')\n",
    "else:\n",
    "    #RESULT_DIR_PATH.mkdir(parents=True)\n",
    "    print(f'No exist {RESULT_JSON_PATH}')"
   ]
  },
  {
   "cell_type": "markdown",
   "id": "aec6614c-628c-41ca-940f-52d55445a9f0",
   "metadata": {},
   "source": [
    "## [seq] load model "
   ]
  },
  {
   "cell_type": "code",
   "execution_count": 7,
   "id": "8ab64d56-0393-410d-8e9b-058736da18e6",
   "metadata": {},
   "outputs": [
    {
     "name": "stdout",
     "output_type": "stream",
     "text": [
      "gradtfk5tts\n",
      "[seq] loading Model\n",
      "loading diffusion-TTS ===================================\n",
      "loading  logs4model/gradtfk5tts/run_tfk_k5/ckpt/gradtfk5tts_500_397001.pt\n",
      "[seq] Initializing diffusion-TTS...\n",
      "Number of encoder + duration predictor parameters: 3.549137m\n",
      "Number of decoder parameters: 2.044639m\n",
      "Total parameters: 5.593776m\n",
      "loading HiFi-GAN ===================================\n",
      "hifigan_randomseed: 1234\n",
      "[seq] loading HiFiGAN\n"
     ]
    },
    {
     "name": "stderr",
     "output_type": "stream",
     "text": [
      "/work/sora-sa/aoi/.venv/lib/python3.10/site-packages/torch/nn/utils/weight_norm.py:28: UserWarning: torch.nn.utils.weight_norm is deprecated in favor of torch.nn.utils.parametrizations.weight_norm.\n",
      "  warnings.warn(\"torch.nn.utils.weight_norm is deprecated in favor of torch.nn.utils.parametrizations.weight_norm.\")\n"
     ]
    },
    {
     "name": "stdout",
     "output_type": "stream",
     "text": [
      "Removing weight norm...\n",
      "loading UTMOS ===================================\n"
     ]
    },
    {
     "name": "stderr",
     "output_type": "stream",
     "text": [
      "Using cache found in /work/sora-sa/.cache/torch/hub/tarepan_SpeechMOS_v1.2.0\n"
     ]
    }
   ],
   "source": [
    "# import models\n",
    "from gradtts import GradTTS\n",
    "from gradseptts import GradSepTTS\n",
    "from gradtfktts import GradTFKTTS\n",
    "from gradtfk5tts import GradTFKTTS as GradTFK5TTS\n",
    "from gradtimektts import GradTimeKTTS\n",
    "from gradfreqktts import GradFreqKTTS\n",
    "from gradtfkfultts import GradTFKFULTTS\n",
    "\n",
    "print(model_name)\n",
    "print(\"[seq] loading Model\")\n",
    "\n",
    "print(\"loading diffusion-TTS ===================================\")\n",
    "N_STEP = 50\n",
    "TEMP = 1.5\n",
    "\n",
    "print('loading ', ckpt_path)\n",
    "_, _, state_dict = torch.load(ckpt_path,\n",
    "                            map_location=device)\n",
    "\n",
    "#with open(config_path4model) as f:\n",
    "#    config = yaml.load(f, yaml.SafeLoader)\n",
    "config4model = toybox.load_yaml_and_expand_var(config_path4model)\n",
    "\n",
    "print(\"[seq] Initializing diffusion-TTS...\")\n",
    "if model_name == \"gradtts\":\n",
    "    model = GradTTS.build_model(config4model, vocab_size)\n",
    "elif model_name == \"gradseptts\":\n",
    "    model = GradSepTTS.build_model(config4model, vocab_size)\n",
    "elif model_name == \"gradtfktts\":\n",
    "    model = GradTFKTTS.build_model(config4model, vocab_size)\n",
    "elif model_name == \"gradtfk5tts\":\n",
    "    model = GradTFK5TTS.build_model(config4model, vocab_size)\n",
    "elif model_name == \"gradtfkfultts\":\n",
    "    model = GradTFKFULTTS.build_model(config4model, vocab_size)\n",
    "elif model_name == \"gradtimektts\":\n",
    "    model = GradTimeKTTS.build_model(config4model, vocab_size)\n",
    "elif model_name == \"gradfreqktts\":\n",
    "    model = GradFreqKTTS.build_model(config4model, vocab_size)\n",
    "else:\n",
    "    raise ValueError(f\"Error: '{model_name}' is not supported\")\n",
    "\n",
    "model = model.to(device)\n",
    "model.load_state_dict(state_dict)\n",
    "print(f'Number of encoder + duration predictor parameters: {model.encoder.nparams/1e6}m')\n",
    "print(f'Number of decoder parameters: {model.decoder.nparams/1e6}m')\n",
    "print(f'Total parameters: {model.nparams/1e6}m')\n",
    "\n",
    "print(\"loading HiFi-GAN ===================================\")\n",
    "#setting file paths\n",
    "# from https://github.com/huawei-noah/Speech-Backbones/tree/main/Grad-TTS/hifi-gan\n",
    "# https://drive.google.com/drive/folders/1-eEYTB5Av9jNql0WGBlRoi-WH2J7bp5Y?usp=sharing\n",
    "if hifigan_versions == 'LJ_V1':\n",
    "    HiFiGAN_CONFIG = f'./hifigan/official_pretrained/LJ_V1/config.json'\n",
    "    HiFiGAN_ckpt = './hifigan/official_pretrained/LJ_V1/generator_v1'\n",
    "elif hifigan_versions == 'LJ_V2':\n",
    "    HiFiGAN_CONFIG = './hifigan/official_pretrained/LJ_V2/config.json'\n",
    "    HiFiGAN_ckpt = './hifigan/official_pretrained/LJ_V2/generator_v2'\n",
    "else:\n",
    "    print('Dont supported.')\n",
    "\n",
    "\n",
    "from hifigan import models, env\n",
    "\n",
    "with open(HiFiGAN_CONFIG) as f:\n",
    "    hifigan_hparams = env.AttrDict(json.load(f))\n",
    "\n",
    "hifigan_randomseed = hifigan_hparams.seed\n",
    "print(f'hifigan_randomseed: {hifigan_randomseed}')\n",
    "\n",
    "# generator ===================\n",
    "print(\"[seq] loading HiFiGAN\")\n",
    "vocoder = models.Generator(hifigan_hparams)\n",
    "\n",
    "vocoder.load_state_dict(torch.load(\n",
    "    HiFiGAN_ckpt, map_location=device)['generator'])\n",
    "vocoder = vocoder.eval().to(device)\n",
    "vocoder.remove_weight_norm()\n",
    "\n",
    "print(\"loading UTMOS ===================================\")\n",
    "predictor_utmos = torch.hub.load(\"tarepan/SpeechMOS:v1.2.0\", \"utmos22_strong\", trust_repo=True)"
   ]
  },
  {
   "cell_type": "code",
   "execution_count": 8,
   "id": "977bdce4-ac95-4734-a35b-33e1399d1a55",
   "metadata": {},
   "outputs": [
    {
     "name": "stdout",
     "output_type": "stream",
     "text": [
      "infer_data_num: 101\n",
      "RESULT_DIR_PATH: result4eval/infer4colb/gradtfk5tts/cpu/e500_n50\n",
      "RESULT_MEL_DIR_PATH: result4eval/infer4colb/gradtfk5tts/cpu/e500_n50\n",
      "RESULT_WAV_DIR_PATH: result4eval/infer4colb/gradtfk5tts/cpu/e500_n50/wav_LJ_V1\n",
      "RESULT_JSON_PATH: result4eval/infer4colb/gradtfk5tts/cpu/e500_n50/eval4mid_LJ_V1.json\n"
     ]
    }
   ],
   "source": [
    "infer_data_num: int = 101 #len(test_ds_list) is 200\n",
    "print(f'infer_data_num: {infer_data_num}')\n",
    "print(f'RESULT_DIR_PATH: {RESULT_DIR_PATH}')\n",
    "print(f'RESULT_MEL_DIR_PATH: {RESULT_DIR_PATH}')\n",
    "print(f'RESULT_WAV_DIR_PATH: {RESULT_WAV_DIR_PATH}')\n",
    "print(f'RESULT_JSON_PATH: {RESULT_JSON_PATH}')"
   ]
  },
  {
   "cell_type": "markdown",
   "id": "ade53ee6-5d51-4e55-9669-f1d8eaaf7e5b",
   "metadata": {},
   "source": [
    "## [seq] infer"
   ]
  },
  {
   "cell_type": "code",
   "execution_count": 9,
   "id": "225ef50e-6901-4008-bfcd-2f22094a3994",
   "metadata": {},
   "outputs": [
    {
     "name": "stderr",
     "output_type": "stream",
     "text": [
      "  0%|                                                                                                                                                          | 0/101 [00:00<?, ?it/s]"
     ]
    },
    {
     "name": "stdout",
     "output_type": "stream",
     "text": [
      "test_ds_index_0: LJ045-0049\n",
      "[seq]text2mel\n",
      "phonemes_len: 1127\n",
      "phnid_len: 215\n",
      "gradtfk5tts dt: 18.204049011692405\n",
      "gradtfk5tts RTF: 2.165698812520597\n",
      "[seq]mel2wav\n",
      "[seq]wav2utmos\n"
     ]
    },
    {
     "name": "stderr",
     "output_type": "stream",
     "text": [
      "  1%|█▍                                                                                                                                                | 1/101 [00:26<44:32, 26.72s/it]"
     ]
    },
    {
     "name": "stdout",
     "output_type": "stream",
     "text": [
      "utmos: 4.020130634307861\n",
      "test_ds_index_1: LJ017-0027\n",
      "[seq]text2mel\n",
      "phonemes_len: 411\n",
      "phnid_len: 79\n",
      "gradtfk5tts dt: 6.0498573537915945\n",
      "gradtfk5tts RTF: 1.981335471885466\n",
      "[seq]mel2wav\n",
      "[seq]wav2utmos\n"
     ]
    },
    {
     "name": "stderr",
     "output_type": "stream",
     "text": [
      "  2%|██▉                                                                                                                                               | 2/101 [00:35<26:38, 16.15s/it]"
     ]
    },
    {
     "name": "stdout",
     "output_type": "stream",
     "text": [
      "utmos: 4.3763427734375\n",
      "test_ds_index_2: LJ023-0031\n",
      "[seq]text2mel\n",
      "phonemes_len: 223\n",
      "phnid_len: 45\n",
      "gradtfk5tts dt: 3.9734194856137037\n",
      "gradtfk5tts RTF: 1.966906870909262\n",
      "[seq]mel2wav\n"
     ]
    },
    {
     "name": "stderr",
     "output_type": "stream",
     "text": [
      "  3%|████▎                                                                                                                                             | 3/101 [00:41<18:40, 11.43s/it]"
     ]
    },
    {
     "name": "stdout",
     "output_type": "stream",
     "text": [
      "[seq]wav2utmos\n",
      "utmos: 4.2750444412231445\n",
      "test_ds_index_3: LJ032-0046\n",
      "[seq]text2mel\n",
      "phonemes_len: 650\n",
      "phnid_len: 125\n",
      "gradtfk5tts dt: 8.503336627967656\n",
      "gradtfk5tts RTF: 1.6312167024523838\n",
      "[seq]mel2wav\n",
      "[seq]wav2utmos\n"
     ]
    },
    {
     "name": "stderr",
     "output_type": "stream",
     "text": [
      "  4%|█████▊                                                                                                                                            | 4/101 [00:53<19:03, 11.79s/it]"
     ]
    },
    {
     "name": "stdout",
     "output_type": "stream",
     "text": [
      "utmos: 4.087663173675537\n",
      "test_ds_index_4: LJ030-0026\n",
      "[seq]text2mel\n",
      "phonemes_len: 1025\n",
      "phnid_len: 195\n",
      "gradtfk5tts dt: 12.444862617179751\n",
      "gradtfk5tts RTF: 1.8076071136489087\n",
      "[seq]mel2wav\n",
      "[seq]wav2utmos\n"
     ]
    },
    {
     "name": "stderr",
     "output_type": "stream",
     "text": [
      "  5%|███████▏                                                                                                                                          | 5/101 [01:10<21:54, 13.70s/it]"
     ]
    },
    {
     "name": "stdout",
     "output_type": "stream",
     "text": [
      "utmos: 4.032395362854004\n",
      "test_ds_index_5: LJ020-0041\n",
      "[seq]text2mel\n",
      "phonemes_len: 1154\n",
      "phnid_len: 219\n",
      "gradtfk5tts dt: 15.640930163674057\n",
      "gradtfk5tts RTF: 1.751882061265711\n",
      "[seq]mel2wav\n",
      "[seq]wav2utmos\n"
     ]
    },
    {
     "name": "stderr",
     "output_type": "stream",
     "text": [
      "  6%|████████▋                                                                                                                                         | 6/101 [01:32<25:56, 16.39s/it]"
     ]
    },
    {
     "name": "stdout",
     "output_type": "stream",
     "text": [
      "utmos: 4.092081546783447\n",
      "test_ds_index_6: LJ001-0070\n",
      "[seq]text2mel\n",
      "phonemes_len: 1137\n",
      "phnid_len: 215\n",
      "gradtfk5tts dt: 15.769096032716334\n",
      "gradtfk5tts RTF: 1.803767054290106\n",
      "[seq]mel2wav\n",
      "[seq]wav2utmos\n"
     ]
    },
    {
     "name": "stderr",
     "output_type": "stream",
     "text": [
      "  7%|██████████                                                                                                                                        | 7/101 [01:54<28:27, 18.17s/it]"
     ]
    },
    {
     "name": "stdout",
     "output_type": "stream",
     "text": [
      "utmos: 4.273282527923584\n",
      "test_ds_index_7: LJ019-0334\n",
      "[seq]text2mel\n",
      "phonemes_len: 611\n",
      "phnid_len: 117\n",
      "gradtfk5tts dt: 7.116166369058192\n",
      "gradtfk5tts RTF: 1.67012376998609\n",
      "[seq]mel2wav\n",
      "[seq]wav2utmos\n"
     ]
    },
    {
     "name": "stderr",
     "output_type": "stream",
     "text": [
      "  8%|███████████▌                                                                                                                                      | 8/101 [02:04<24:15, 15.66s/it]"
     ]
    },
    {
     "name": "stdout",
     "output_type": "stream",
     "text": [
      "utmos: 4.419826507568359\n",
      "test_ds_index_8: LJ022-0152\n",
      "[seq]text2mel\n",
      "phonemes_len: 387\n",
      "phnid_len: 75\n",
      "gradtfk5tts dt: 5.522836602292955\n",
      "gradtfk5tts RTF: 1.7553411421898013\n",
      "[seq]mel2wav\n"
     ]
    },
    {
     "name": "stderr",
     "output_type": "stream",
     "text": [
      "  9%|█████████████                                                                                                                                     | 9/101 [02:12<20:19, 13.26s/it]"
     ]
    },
    {
     "name": "stdout",
     "output_type": "stream",
     "text": [
      "[seq]wav2utmos\n",
      "utmos: 4.140111923217773\n",
      "test_ds_index_9: LJ050-0154\n",
      "[seq]text2mel\n",
      "phonemes_len: 896\n",
      "phnid_len: 171\n",
      "gradtfk5tts dt: 10.798972580581903\n",
      "gradtfk5tts RTF: 1.6232912399230406\n",
      "[seq]mel2wav\n",
      "[seq]wav2utmos\n"
     ]
    },
    {
     "name": "stderr",
     "output_type": "stream",
     "text": [
      " 10%|██████████████▎                                                                                                                                  | 10/101 [02:27<21:07, 13.93s/it]"
     ]
    },
    {
     "name": "stdout",
     "output_type": "stream",
     "text": [
      "utmos: 4.285102844238281\n",
      "test_ds_index_10: LJ016-0045\n",
      "[seq]text2mel\n",
      "phonemes_len: 1237\n",
      "phnid_len: 235\n",
      "gradtfk5tts dt: 16.45781345013529\n",
      "gradtfk5tts RTF: 1.815054750397543\n",
      "[seq]mel2wav\n",
      "[seq]wav2utmos\n"
     ]
    },
    {
     "name": "stderr",
     "output_type": "stream",
     "text": [
      " 11%|███████████████▊                                                                                                                                 | 11/101 [02:50<24:50, 16.56s/it]"
     ]
    },
    {
     "name": "stdout",
     "output_type": "stream",
     "text": [
      "utmos: 4.417806148529053\n",
      "test_ds_index_11: LJ036-0100\n",
      "[seq]text2mel\n",
      "phonemes_len: 802\n",
      "phnid_len: 153\n",
      "gradtfk5tts dt: 9.29722505621612\n",
      "gradtfk5tts RTF: 1.61776998492397\n",
      "[seq]mel2wav\n",
      "[seq]wav2utmos\n"
     ]
    },
    {
     "name": "stderr",
     "output_type": "stream",
     "text": [
      " 12%|█████████████████▏                                                                                                                               | 12/101 [03:03<23:03, 15.55s/it]"
     ]
    },
    {
     "name": "stdout",
     "output_type": "stream",
     "text": [
      "utmos: 4.399158954620361\n",
      "test_ds_index_12: LJ046-0016\n",
      "[seq]text2mel\n",
      "phonemes_len: 884\n",
      "phnid_len: 167\n",
      "gradtfk5tts dt: 9.811902531422675\n",
      "gradtfk5tts RTF: 1.6315188436434451\n",
      "[seq]mel2wav\n",
      "[seq]wav2utmos\n"
     ]
    },
    {
     "name": "stderr",
     "output_type": "stream",
     "text": [
      " 13%|██████████████████▋                                                                                                                              | 13/101 [03:17<22:10, 15.12s/it]"
     ]
    },
    {
     "name": "stdout",
     "output_type": "stream",
     "text": [
      "utmos: 4.0698723793029785\n",
      "test_ds_index_13: LJ048-0085\n",
      "[seq]text2mel\n",
      "phonemes_len: 1181\n",
      "phnid_len: 223\n",
      "gradtfk5tts dt: 14.66832981724292\n",
      "gradtfk5tts RTF: 1.7307184956667723\n",
      "[seq]mel2wav\n",
      "[seq]wav2utmos\n"
     ]
    },
    {
     "name": "stderr",
     "output_type": "stream",
     "text": [
      " 14%|████████████████████                                                                                                                             | 14/101 [03:38<24:16, 16.74s/it]"
     ]
    },
    {
     "name": "stdout",
     "output_type": "stream",
     "text": [
      "utmos: 4.379518508911133\n",
      "test_ds_index_14: LJ050-0197\n",
      "[seq]text2mel\n",
      "phonemes_len: 282\n",
      "phnid_len: 55\n",
      "gradtfk5tts dt: 4.353356514126062\n",
      "gradtfk5tts RTF: 2.005170269395047\n",
      "[seq]mel2wav\n"
     ]
    },
    {
     "name": "stderr",
     "output_type": "stream",
     "text": [
      " 15%|█████████████████████▌                                                                                                                           | 15/101 [03:44<19:30, 13.61s/it]"
     ]
    },
    {
     "name": "stdout",
     "output_type": "stream",
     "text": [
      "[seq]wav2utmos\n",
      "utmos: 4.386788368225098\n",
      "test_ds_index_15: LJ050-0178\n",
      "[seq]text2mel\n",
      "phonemes_len: 709\n",
      "phnid_len: 135\n",
      "gradtfk5tts dt: 8.449960780330002\n",
      "gradtfk5tts RTF: 1.6579017939055074\n",
      "[seq]mel2wav\n",
      "[seq]wav2utmos\n"
     ]
    },
    {
     "name": "stderr",
     "output_type": "stream",
     "text": [
      " 16%|██████████████████████▉                                                                                                                          | 16/101 [03:56<18:43, 13.21s/it]"
     ]
    },
    {
     "name": "stdout",
     "output_type": "stream",
     "text": [
      "utmos: 4.41018533706665\n",
      "test_ds_index_16: LJ043-0079\n",
      "[seq]text2mel\n",
      "phonemes_len: 1445\n",
      "phnid_len: 273\n",
      "gradtfk5tts dt: 22.128804153762758\n",
      "gradtfk5tts RTF: 2.0190848930352425\n",
      "[seq]mel2wav\n",
      "[seq]wav2utmos\n"
     ]
    },
    {
     "name": "stderr",
     "output_type": "stream",
     "text": [
      " 17%|████████████████████████▍                                                                                                                        | 17/101 [04:26<25:18, 18.08s/it]"
     ]
    },
    {
     "name": "stdout",
     "output_type": "stream",
     "text": [
      "utmos: 4.002967834472656\n",
      "test_ds_index_17: LJ050-0207\n",
      "[seq]text2mel\n",
      "phonemes_len: 737\n",
      "phnid_len: 141\n",
      "gradtfk5tts dt: 9.355369661934674\n",
      "gradtfk5tts RTF: 1.6752688169638412\n",
      "[seq]mel2wav\n",
      "[seq]wav2utmos\n"
     ]
    },
    {
     "name": "stderr",
     "output_type": "stream",
     "text": [
      " 18%|█████████████████████████▊                                                                                                                       | 18/101 [04:39<23:03, 16.67s/it]"
     ]
    },
    {
     "name": "stdout",
     "output_type": "stream",
     "text": [
      "utmos: 4.476344585418701\n",
      "test_ds_index_18: LJ034-0005\n",
      "[seq]text2mel\n",
      "phonemes_len: 1442\n",
      "phnid_len: 273\n",
      "gradtfk5tts dt: 17.611228240653872\n",
      "gradtfk5tts RTF: 1.7178987768368572\n",
      "[seq]mel2wav\n",
      "[seq]wav2utmos\n"
     ]
    },
    {
     "name": "stderr",
     "output_type": "stream",
     "text": [
      " 19%|███████████████████████████▎                                                                                                                     | 19/101 [05:04<26:00, 19.03s/it]"
     ]
    },
    {
     "name": "stdout",
     "output_type": "stream",
     "text": [
      "utmos: 3.590054512023926\n",
      "test_ds_index_19: LJ031-0151\n",
      "[seq]text2mel\n",
      "phonemes_len: 1203\n",
      "phnid_len: 227\n",
      "gradtfk5tts dt: 13.614811620675027\n",
      "gradtfk5tts RTF: 1.6020246127683377\n",
      "[seq]mel2wav\n",
      "[seq]wav2utmos\n"
     ]
    },
    {
     "name": "stderr",
     "output_type": "stream",
     "text": [
      " 20%|████████████████████████████▋                                                                                                                    | 20/101 [05:23<25:49, 19.14s/it]"
     ]
    },
    {
     "name": "stdout",
     "output_type": "stream",
     "text": [
      "utmos: 3.932727813720703\n",
      "test_ds_index_20: LJ023-0021\n",
      "[seq]text2mel\n",
      "phonemes_len: 564\n",
      "phnid_len: 109\n",
      "gradtfk5tts dt: 7.08059654943645\n",
      "gradtfk5tts RTF: 1.77805158886518\n",
      "[seq]mel2wav\n",
      "[seq]wav2utmos\n"
     ]
    },
    {
     "name": "stderr",
     "output_type": "stream",
     "text": [
      " 21%|██████████████████████████████▏                                                                                                                  | 21/101 [05:33<21:54, 16.43s/it]"
     ]
    },
    {
     "name": "stdout",
     "output_type": "stream",
     "text": [
      "utmos: 4.366967678070068\n",
      "test_ds_index_21: LJ015-0301\n",
      "[seq]text2mel\n",
      "phonemes_len: 780\n",
      "phnid_len: 149\n",
      "gradtfk5tts dt: 10.005746187642217\n",
      "gradtfk5tts RTF: 1.632240644512835\n",
      "[seq]mel2wav\n",
      "[seq]wav2utmos\n"
     ]
    },
    {
     "name": "stderr",
     "output_type": "stream",
     "text": [
      " 22%|███████████████████████████████▌                                                                                                                 | 22/101 [05:47<20:44, 15.76s/it]"
     ]
    },
    {
     "name": "stdout",
     "output_type": "stream",
     "text": [
      "utmos: 4.260054111480713\n",
      "test_ds_index_22: LJ021-0153\n",
      "[seq]text2mel\n",
      "phonemes_len: 320\n",
      "phnid_len: 63\n",
      "gradtfk5tts dt: 4.836178437806666\n",
      "gradtfk5tts RTF: 1.928489123148817\n",
      "[seq]mel2wav\n"
     ]
    },
    {
     "name": "stderr",
     "output_type": "stream",
     "text": [
      " 23%|█████████████████████████████████                                                                                                                | 23/101 [05:55<17:07, 13.17s/it]"
     ]
    },
    {
     "name": "stdout",
     "output_type": "stream",
     "text": [
      "[seq]wav2utmos\n",
      "utmos: 4.082495212554932\n",
      "test_ds_index_23: LJ014-0037\n",
      "[seq]text2mel\n",
      "phonemes_len: 365\n",
      "phnid_len: 71\n",
      "gradtfk5tts dt: 5.641663175076246\n",
      "gradtfk5tts RTF: 1.8268132197255527\n",
      "[seq]mel2wav\n"
     ]
    },
    {
     "name": "stderr",
     "output_type": "stream",
     "text": [
      " 24%|██████████████████████████████████▍                                                                                                              | 24/101 [06:03<14:56, 11.65s/it]"
     ]
    },
    {
     "name": "stdout",
     "output_type": "stream",
     "text": [
      "[seq]wav2utmos\n",
      "utmos: 3.585376262664795\n",
      "test_ds_index_24: LJ004-0200\n",
      "[seq]text2mel\n",
      "phonemes_len: 1097\n",
      "phnid_len: 207\n",
      "gradtfk5tts dt: 14.528892766684294\n",
      "gradtfk5tts RTF: 1.7142662965827733\n",
      "[seq]mel2wav\n",
      "[seq]wav2utmos\n"
     ]
    },
    {
     "name": "stderr",
     "output_type": "stream",
     "text": [
      " 25%|███████████████████████████████████▉                                                                                                             | 25/101 [06:20<16:52, 13.32s/it]"
     ]
    },
    {
     "name": "stdout",
     "output_type": "stream",
     "text": [
      "utmos: 4.356453895568848\n",
      "test_ds_index_25: LJ049-0010\n",
      "[seq]text2mel\n",
      "phonemes_len: 471\n",
      "phnid_len: 91\n",
      "gradtfk5tts dt: 6.215475244447589\n",
      "gradtfk5tts RTF: 1.7727031914847544\n",
      "[seq]mel2wav\n",
      "[seq]wav2utmos\n"
     ]
    },
    {
     "name": "stderr",
     "output_type": "stream",
     "text": [
      " 26%|█████████████████████████████████████▎                                                                                                           | 26/101 [06:29<15:03, 12.05s/it]"
     ]
    },
    {
     "name": "stdout",
     "output_type": "stream",
     "text": [
      "utmos: 4.102656841278076\n",
      "test_ds_index_26: LJ008-0291\n",
      "[seq]text2mel\n",
      "phonemes_len: 365\n",
      "phnid_len: 71\n",
      "gradtfk5tts dt: 5.010367488488555\n",
      "gradtfk5tts RTF: 1.852176152111934\n",
      "[seq]mel2wav\n"
     ]
    },
    {
     "name": "stderr",
     "output_type": "stream",
     "text": [
      " 27%|██████████████████████████████████████▊                                                                                                          | 27/101 [06:36<13:09, 10.67s/it]"
     ]
    },
    {
     "name": "stdout",
     "output_type": "stream",
     "text": [
      "[seq]wav2utmos\n",
      "utmos: 4.043349266052246\n",
      "test_ds_index_27: LJ048-0221\n",
      "[seq]text2mel\n",
      "phonemes_len: 602\n",
      "phnid_len: 115\n",
      "gradtfk5tts dt: 7.768719890154898\n",
      "gradtfk5tts RTF: 1.6854954500345904\n",
      "[seq]mel2wav\n",
      "[seq]wav2utmos\n"
     ]
    },
    {
     "name": "stderr",
     "output_type": "stream",
     "text": [
      " 28%|████████████████████████████████████████▏                                                                                                        | 28/101 [06:47<13:08, 10.79s/it]"
     ]
    },
    {
     "name": "stdout",
     "output_type": "stream",
     "text": [
      "utmos: 3.9701976776123047\n",
      "test_ds_index_28: LJ004-0157\n",
      "[seq]text2mel\n",
      "phonemes_len: 637\n",
      "phnid_len: 121\n",
      "gradtfk5tts dt: 8.265502794645727\n",
      "gradtfk5tts RTF: 1.6870402901171715\n",
      "[seq]mel2wav\n",
      "[seq]wav2utmos\n"
     ]
    },
    {
     "name": "stderr",
     "output_type": "stream",
     "text": [
      " 29%|█████████████████████████████████████████▋                                                                                                       | 29/101 [07:00<13:24, 11.18s/it]"
     ]
    },
    {
     "name": "stdout",
     "output_type": "stream",
     "text": [
      "utmos: 4.383975982666016\n",
      "test_ds_index_29: LJ013-0175\n",
      "[seq]text2mel\n",
      "phonemes_len: 681\n",
      "phnid_len: 131\n",
      "gradtfk5tts dt: 8.405464829877019\n",
      "gradtfk5tts RTF: 1.6454234685616855\n",
      "[seq]mel2wav\n",
      "[seq]wav2utmos\n"
     ]
    },
    {
     "name": "stderr",
     "output_type": "stream",
     "text": [
      " 30%|███████████████████████████████████████████                                                                                                      | 30/101 [07:12<13:33, 11.46s/it]"
     ]
    },
    {
     "name": "stdout",
     "output_type": "stream",
     "text": [
      "utmos: 4.3374714851379395\n",
      "test_ds_index_30: LJ021-0100\n",
      "[seq]text2mel\n",
      "phonemes_len: 752\n",
      "phnid_len: 143\n",
      "gradtfk5tts dt: 9.716659414581954\n",
      "gradtfk5tts RTF: 1.6474866210286363\n",
      "[seq]mel2wav\n",
      "[seq]wav2utmos\n"
     ]
    },
    {
     "name": "stderr",
     "output_type": "stream",
     "text": [
      " 31%|████████████████████████████████████████████▌                                                                                                    | 31/101 [07:25<14:11, 12.16s/it]"
     ]
    },
    {
     "name": "stdout",
     "output_type": "stream",
     "text": [
      "utmos: 3.1179280281066895\n",
      "test_ds_index_31: LJ018-0132\n",
      "[seq]text2mel\n",
      "phonemes_len: 687\n",
      "phnid_len: 131\n",
      "gradtfk5tts dt: 9.184533631429076\n",
      "gradtfk5tts RTF: 1.6515442863795924\n",
      "[seq]mel2wav\n",
      "[seq]wav2utmos\n"
     ]
    },
    {
     "name": "stderr",
     "output_type": "stream",
     "text": [
      " 32%|█████████████████████████████████████████████▉                                                                                                   | 32/101 [07:39<14:22, 12.50s/it]"
     ]
    },
    {
     "name": "stdout",
     "output_type": "stream",
     "text": [
      "utmos: 3.749347686767578\n",
      "test_ds_index_32: LJ023-0059\n",
      "[seq]text2mel\n",
      "phonemes_len: 1184\n",
      "phnid_len: 225\n",
      "gradtfk5tts dt: 14.10395510867238\n",
      "gradtfk5tts RTF: 1.6284360869754628\n",
      "[seq]mel2wav\n",
      "[seq]wav2utmos\n"
     ]
    },
    {
     "name": "stderr",
     "output_type": "stream",
     "text": [
      " 33%|███████████████████████████████████████████████▍                                                                                                 | 33/101 [07:59<16:38, 14.69s/it]"
     ]
    },
    {
     "name": "stdout",
     "output_type": "stream",
     "text": [
      "utmos: 3.689878463745117\n",
      "test_ds_index_33: LJ003-0027\n",
      "[seq]text2mel\n",
      "phonemes_len: 964\n",
      "phnid_len: 183\n",
      "gradtfk5tts dt: 11.247079495340586\n",
      "gradtfk5tts RTF: 1.6503280908769427\n",
      "[seq]mel2wav\n",
      "[seq]wav2utmos\n"
     ]
    },
    {
     "name": "stderr",
     "output_type": "stream",
     "text": [
      " 34%|████████████████████████████████████████████████▊                                                                                                | 34/101 [08:15<16:51, 15.09s/it]"
     ]
    },
    {
     "name": "stdout",
     "output_type": "stream",
     "text": [
      "utmos: 3.8000941276550293\n",
      "test_ds_index_34: LJ018-0133\n",
      "[seq]text2mel\n",
      "phonemes_len: 674\n",
      "phnid_len: 129\n",
      "gradtfk5tts dt: 8.596480740234256\n",
      "gradtfk5tts RTF: 1.6752015017159692\n",
      "[seq]mel2wav\n",
      "[seq]wav2utmos\n"
     ]
    },
    {
     "name": "stderr",
     "output_type": "stream",
     "text": [
      " 35%|██████████████████████████████████████████████████▏                                                                                              | 35/101 [08:27<15:39, 14.24s/it]"
     ]
    },
    {
     "name": "stdout",
     "output_type": "stream",
     "text": [
      "utmos: 4.390878677368164\n",
      "test_ds_index_35: LJ033-0060\n",
      "[seq]text2mel\n",
      "phonemes_len: 596\n",
      "phnid_len: 115\n",
      "gradtfk5tts dt: 7.788042035885155\n",
      "gradtfk5tts RTF: 1.7025532091853155\n",
      "[seq]mel2wav\n",
      "[seq]wav2utmos\n"
     ]
    },
    {
     "name": "stderr",
     "output_type": "stream",
     "text": [
      " 36%|███████████████████████████████████████████████████▋                                                                                             | 36/101 [08:38<14:28, 13.36s/it]"
     ]
    },
    {
     "name": "stdout",
     "output_type": "stream",
     "text": [
      "utmos: 4.04732084274292\n",
      "test_ds_index_36: LJ003-0299\n",
      "[seq]text2mel\n",
      "phonemes_len: 881\n",
      "phnid_len: 167\n",
      "gradtfk5tts dt: 11.625033477321267\n",
      "gradtfk5tts RTF: 1.641470211161206\n",
      "[seq]mel2wav\n",
      "[seq]wav2utmos\n"
     ]
    },
    {
     "name": "stderr",
     "output_type": "stream",
     "text": [
      " 37%|█████████████████████████████████████████████████████                                                                                            | 37/101 [08:55<15:13, 14.28s/it]"
     ]
    },
    {
     "name": "stdout",
     "output_type": "stream",
     "text": [
      "utmos: 4.181947708129883\n",
      "test_ds_index_37: LJ011-0060\n",
      "[seq]text2mel\n",
      "phonemes_len: 1083\n",
      "phnid_len: 205\n",
      "gradtfk5tts dt: 12.895217238925397\n",
      "gradtfk5tts RTF: 1.6262098515184904\n",
      "[seq]mel2wav\n",
      "[seq]wav2utmos\n"
     ]
    },
    {
     "name": "stderr",
     "output_type": "stream",
     "text": [
      " 38%|██████████████████████████████████████████████████████▌                                                                                          | 38/101 [09:13<16:16, 15.50s/it]"
     ]
    },
    {
     "name": "stdout",
     "output_type": "stream",
     "text": [
      "utmos: 4.257242679595947\n",
      "test_ds_index_38: LJ013-0240\n",
      "[seq]text2mel\n",
      "phonemes_len: 768\n",
      "phnid_len: 147\n",
      "gradtfk5tts dt: 9.12598229572177\n",
      "gradtfk5tts RTF: 1.6724394084164314\n",
      "[seq]mel2wav\n",
      "[seq]wav2utmos\n"
     ]
    },
    {
     "name": "stderr",
     "output_type": "stream",
     "text": [
      " 39%|███████████████████████████████████████████████████████▉                                                                                         | 39/101 [09:26<15:16, 14.78s/it]"
     ]
    },
    {
     "name": "stdout",
     "output_type": "stream",
     "text": [
      "utmos: 4.26240348815918\n",
      "test_ds_index_39: LJ047-0076\n",
      "[seq]text2mel\n",
      "phonemes_len: 1287\n",
      "phnid_len: 245\n",
      "gradtfk5tts dt: 17.662135793827474\n",
      "gradtfk5tts RTF: 1.7689411984642796\n",
      "[seq]mel2wav\n",
      "[seq]wav2utmos\n"
     ]
    },
    {
     "name": "stderr",
     "output_type": "stream",
     "text": [
      " 40%|█████████████████████████████████████████████████████████▍                                                                                       | 40/101 [09:50<17:57, 17.66s/it]"
     ]
    },
    {
     "name": "stdout",
     "output_type": "stream",
     "text": [
      "utmos: 4.3642578125\n",
      "test_ds_index_40: LJ041-0133\n",
      "[seq]text2mel\n",
      "phonemes_len: 1018\n",
      "phnid_len: 193\n",
      "gradtfk5tts dt: 12.548585112206638\n",
      "gradtfk5tts RTF: 1.6180313302544698\n",
      "[seq]mel2wav\n",
      "[seq]wav2utmos\n"
     ]
    },
    {
     "name": "stderr",
     "output_type": "stream",
     "text": [
      " 41%|██████████████████████████████████████████████████████████▊                                                                                      | 41/101 [10:08<17:44, 17.75s/it]"
     ]
    },
    {
     "name": "stdout",
     "output_type": "stream",
     "text": [
      "utmos: 4.12418794631958\n",
      "test_ds_index_41: LJ038-0264\n",
      "[seq]text2mel\n",
      "phonemes_len: 1116\n",
      "phnid_len: 211\n",
      "gradtfk5tts dt: 13.648945421911776\n",
      "gradtfk5tts RTF: 1.6215476646182903\n",
      "[seq]mel2wav\n",
      "[seq]wav2utmos\n"
     ]
    },
    {
     "name": "stderr",
     "output_type": "stream",
     "text": [
      " 42%|████████████████████████████████████████████████████████████▎                                                                                    | 42/101 [10:27<17:52, 18.18s/it]"
     ]
    },
    {
     "name": "stdout",
     "output_type": "stream",
     "text": [
      "utmos: 3.9864602088928223\n",
      "test_ds_index_42: LJ011-0016\n",
      "[seq]text2mel\n",
      "phonemes_len: 609\n",
      "phnid_len: 117\n",
      "gradtfk5tts dt: 7.287036772817373\n",
      "gradtfk5tts RTF: 1.705578728352402\n",
      "[seq]mel2wav\n",
      "[seq]wav2utmos\n"
     ]
    },
    {
     "name": "stderr",
     "output_type": "stream",
     "text": [
      " 43%|█████████████████████████████████████████████████████████████▋                                                                                   | 43/101 [10:38<15:22, 15.91s/it]"
     ]
    },
    {
     "name": "stdout",
     "output_type": "stream",
     "text": [
      "utmos: 4.4351301193237305\n",
      "test_ds_index_43: LJ003-0185\n",
      "[seq]text2mel\n",
      "phonemes_len: 1105\n",
      "phnid_len: 209\n",
      "gradtfk5tts dt: 12.84432527422905\n",
      "gradtfk5tts RTF: 1.6080201461252643\n",
      "[seq]mel2wav\n",
      "[seq]wav2utmos\n"
     ]
    },
    {
     "name": "stderr",
     "output_type": "stream",
     "text": [
      " 44%|███████████████████████████████████████████████████████████████▏                                                                                 | 44/101 [10:56<15:44, 16.57s/it]"
     ]
    },
    {
     "name": "stdout",
     "output_type": "stream",
     "text": [
      "utmos: 4.428409576416016\n",
      "test_ds_index_44: LJ014-0063\n",
      "[seq]text2mel\n",
      "phonemes_len: 793\n",
      "phnid_len: 151\n",
      "gradtfk5tts dt: 9.54791250359267\n",
      "gradtfk5tts RTF: 1.6349673110106422\n",
      "[seq]mel2wav\n",
      "[seq]wav2utmos\n"
     ]
    },
    {
     "name": "stderr",
     "output_type": "stream",
     "text": [
      " 45%|████████████████████████████████████████████████████████████████▌                                                                                | 45/101 [11:10<14:43, 15.79s/it]"
     ]
    },
    {
     "name": "stdout",
     "output_type": "stream",
     "text": [
      "utmos: 4.418869972229004\n",
      "test_ds_index_45: LJ005-0185\n",
      "[seq]text2mel\n",
      "phonemes_len: 588\n",
      "phnid_len: 113\n",
      "gradtfk5tts dt: 7.816385887563229\n",
      "gradtfk5tts RTF: 1.6705888339482124\n",
      "[seq]mel2wav\n",
      "[seq]wav2utmos\n"
     ]
    },
    {
     "name": "stderr",
     "output_type": "stream",
     "text": [
      " 46%|██████████████████████████████████████████████████████████████████                                                                               | 46/101 [11:21<13:13, 14.43s/it]"
     ]
    },
    {
     "name": "stdout",
     "output_type": "stream",
     "text": [
      "utmos: 4.436697006225586\n",
      "test_ds_index_46: LJ014-0135\n",
      "[seq]text2mel\n",
      "phonemes_len: 826\n",
      "phnid_len: 157\n",
      "gradtfk5tts dt: 9.54873242136091\n",
      "gradtfk5tts RTF: 1.641635088346807\n",
      "[seq]mel2wav\n",
      "[seq]wav2utmos\n"
     ]
    },
    {
     "name": "stderr",
     "output_type": "stream",
     "text": [
      " 47%|███████████████████████████████████████████████████████████████████▍                                                                             | 47/101 [11:35<12:48, 14.23s/it]"
     ]
    },
    {
     "name": "stdout",
     "output_type": "stream",
     "text": [
      "utmos: 4.115898132324219\n",
      "test_ds_index_47: LJ009-0046\n",
      "[seq]text2mel\n",
      "phonemes_len: 1011\n",
      "phnid_len: 193\n",
      "gradtfk5tts dt: 12.49320343695581\n",
      "gradtfk5tts RTF: 1.6133054710040036\n",
      "[seq]mel2wav\n",
      "[seq]wav2utmos\n"
     ]
    },
    {
     "name": "stderr",
     "output_type": "stream",
     "text": [
      " 48%|████████████████████████████████████████████████████████████████████▉                                                                            | 48/101 [11:53<13:30, 15.29s/it]"
     ]
    },
    {
     "name": "stdout",
     "output_type": "stream",
     "text": [
      "utmos: 4.342774391174316\n",
      "test_ds_index_48: LJ037-0024\n",
      "[seq]text2mel\n",
      "phonemes_len: 1505\n",
      "phnid_len: 285\n",
      "gradtfk5tts dt: 18.65577405691147\n",
      "gradtfk5tts RTF: 1.7504077220983876\n",
      "[seq]mel2wav\n",
      "[seq]wav2utmos\n"
     ]
    },
    {
     "name": "stderr",
     "output_type": "stream",
     "text": [
      " 49%|██████████████████████████████████████████████████████████████████████▎                                                                          | 49/101 [12:19<15:58, 18.44s/it]"
     ]
    },
    {
     "name": "stdout",
     "output_type": "stream",
     "text": [
      "utmos: 4.388545036315918\n",
      "test_ds_index_49: LJ002-0217\n",
      "[seq]text2mel\n",
      "phonemes_len: 1093\n",
      "phnid_len: 207\n",
      "gradtfk5tts dt: 12.274767408147454\n",
      "gradtfk5tts RTF: 1.6116771945839568\n",
      "[seq]mel2wav\n",
      "[seq]wav2utmos\n"
     ]
    },
    {
     "name": "stderr",
     "output_type": "stream",
     "text": [
      " 50%|███████████████████████████████████████████████████████████████████████▊                                                                         | 50/101 [12:36<15:27, 18.19s/it]"
     ]
    },
    {
     "name": "stdout",
     "output_type": "stream",
     "text": [
      "utmos: 3.9998700618743896\n",
      "test_ds_index_50: LJ044-0017\n",
      "[seq]text2mel\n",
      "phonemes_len: 782\n",
      "phnid_len: 149\n",
      "gradtfk5tts dt: 10.219252285547554\n",
      "gradtfk5tts RTF: 1.6300239648171555\n",
      "[seq]mel2wav\n",
      "[seq]wav2utmos\n"
     ]
    },
    {
     "name": "stderr",
     "output_type": "stream",
     "text": [
      " 50%|█████████████████████████████████████████████████████████████████████████▏                                                                       | 51/101 [12:51<14:14, 17.08s/it]"
     ]
    },
    {
     "name": "stdout",
     "output_type": "stream",
     "text": [
      "utmos: 4.19450044631958\n",
      "test_ds_index_51: LJ017-0074\n",
      "[seq]text2mel\n",
      "phonemes_len: 481\n",
      "phnid_len: 93\n",
      "gradtfk5tts dt: 6.595776392146945\n",
      "gradtfk5tts RTF: 1.7215538523536948\n",
      "[seq]mel2wav\n",
      "[seq]wav2utmos\n"
     ]
    },
    {
     "name": "stderr",
     "output_type": "stream",
     "text": [
      " 51%|██████████████████████████████████████████████████████████████████████████▋                                                                      | 52/101 [13:00<12:04, 14.79s/it]"
     ]
    },
    {
     "name": "stdout",
     "output_type": "stream",
     "text": [
      "utmos: 4.400047302246094\n",
      "test_ds_index_52: LJ033-0153\n",
      "[seq]text2mel\n",
      "phonemes_len: 714\n",
      "phnid_len: 137\n",
      "gradtfk5tts dt: 9.357323511503637\n",
      "gradtfk5tts RTF: 1.6549745205712205\n",
      "[seq]mel2wav\n",
      "[seq]wav2utmos\n"
     ]
    },
    {
     "name": "stderr",
     "output_type": "stream",
     "text": [
      " 52%|████████████████████████████████████████████████████████████████████████████                                                                     | 53/101 [13:14<11:31, 14.41s/it]"
     ]
    },
    {
     "name": "stdout",
     "output_type": "stream",
     "text": [
      "utmos: 4.19612455368042\n",
      "test_ds_index_53: LJ032-0124\n",
      "[seq]text2mel\n",
      "phonemes_len: 1056\n",
      "phnid_len: 199\n",
      "gradtfk5tts dt: 13.317642216570675\n",
      "gradtfk5tts RTF: 1.6133417439971398\n",
      "[seq]mel2wav\n",
      "[seq]wav2utmos\n"
     ]
    },
    {
     "name": "stderr",
     "output_type": "stream",
     "text": [
      " 53%|█████████████████████████████████████████████████████████████████████████████▌                                                                   | 54/101 [13:33<12:19, 15.72s/it]"
     ]
    },
    {
     "name": "stdout",
     "output_type": "stream",
     "text": [
      "utmos: 4.343605995178223\n",
      "test_ds_index_54: LJ018-0287\n",
      "[seq]text2mel\n",
      "phonemes_len: 567\n",
      "phnid_len: 109\n",
      "gradtfk5tts dt: 7.12151360604912\n",
      "gradtfk5tts RTF: 1.6668369460489885\n",
      "[seq]mel2wav\n",
      "[seq]wav2utmos\n"
     ]
    },
    {
     "name": "stderr",
     "output_type": "stream",
     "text": [
      " 54%|██████████████████████████████████████████████████████████████████████████████▉                                                                  | 55/101 [13:41<10:28, 13.67s/it]"
     ]
    },
    {
     "name": "stdout",
     "output_type": "stream",
     "text": [
      "utmos: 4.381563186645508\n",
      "test_ds_index_55: LJ020-0038\n",
      "[seq]text2mel\n",
      "phonemes_len: 620\n",
      "phnid_len: 119\n",
      "gradtfk5tts dt: 7.6453019650653005\n",
      "gradtfk5tts RTF: 1.65871879260164\n",
      "[seq]mel2wav\n",
      "[seq]wav2utmos\n"
     ]
    },
    {
     "name": "stderr",
     "output_type": "stream",
     "text": [
      " 55%|████████████████████████████████████████████████████████████████████████████████▍                                                                | 56/101 [13:51<09:20, 12.44s/it]"
     ]
    },
    {
     "name": "stdout",
     "output_type": "stream",
     "text": [
      "utmos: 3.9917092323303223\n",
      "test_ds_index_56: LJ001-0007\n",
      "[seq]text2mel\n",
      "phonemes_len: 1016\n",
      "phnid_len: 193\n",
      "gradtfk5tts dt: 13.22627237252891\n",
      "gradtfk5tts RTF: 1.6159092742368266\n",
      "[seq]mel2wav\n",
      "[seq]wav2utmos\n"
     ]
    },
    {
     "name": "stderr",
     "output_type": "stream",
     "text": [
      " 56%|█████████████████████████████████████████████████████████████████████████████████▊                                                               | 57/101 [14:10<10:29, 14.30s/it]"
     ]
    },
    {
     "name": "stdout",
     "output_type": "stream",
     "text": [
      "utmos: 3.3469934463500977\n",
      "test_ds_index_57: LJ003-0313\n",
      "[seq]text2mel\n",
      "phonemes_len: 1175\n",
      "phnid_len: 223\n",
      "gradtfk5tts dt: 15.072748289443552\n",
      "gradtfk5tts RTF: 1.7287059950390642\n",
      "[seq]mel2wav\n",
      "[seq]wav2utmos\n"
     ]
    },
    {
     "name": "stderr",
     "output_type": "stream",
     "text": [
      " 57%|███████████████████████████████████████████████████████████████████████████████████▎                                                             | 58/101 [14:31<11:40, 16.29s/it]"
     ]
    },
    {
     "name": "stdout",
     "output_type": "stream",
     "text": [
      "utmos: 4.3468708992004395\n",
      "test_ds_index_58: LJ019-0265\n",
      "[seq]text2mel\n",
      "phonemes_len: 590\n",
      "phnid_len: 113\n",
      "gradtfk5tts dt: 8.775131031870842\n",
      "gradtfk5tts RTF: 1.657514727699699\n",
      "[seq]mel2wav\n",
      "[seq]wav2utmos\n"
     ]
    },
    {
     "name": "stderr",
     "output_type": "stream",
     "text": [
      " 58%|████████████████████████████████████████████████████████████████████████████████████▋                                                            | 59/101 [14:43<10:39, 15.23s/it]"
     ]
    },
    {
     "name": "stdout",
     "output_type": "stream",
     "text": [
      "utmos: 3.8264949321746826\n",
      "test_ds_index_59: LJ038-0281\n",
      "[seq]text2mel\n",
      "phonemes_len: 1193\n",
      "phnid_len: 225\n",
      "gradtfk5tts dt: 14.592796127311885\n",
      "gradtfk5tts RTF: 1.7312927998408825\n",
      "[seq]mel2wav\n",
      "[seq]wav2utmos\n"
     ]
    },
    {
     "name": "stderr",
     "output_type": "stream",
     "text": [
      " 59%|██████████████████████████████████████████████████████████████████████████████████████▏                                                          | 60/101 [15:04<11:27, 16.77s/it]"
     ]
    },
    {
     "name": "stdout",
     "output_type": "stream",
     "text": [
      "utmos: 4.375202655792236\n",
      "test_ds_index_60: LJ045-0235\n",
      "[seq]text2mel\n",
      "phonemes_len: 1185\n",
      "phnid_len: 223\n",
      "gradtfk5tts dt: 14.725278238765895\n",
      "gradtfk5tts RTF: 1.72796952254762\n",
      "[seq]mel2wav\n",
      "[seq]wav2utmos\n"
     ]
    },
    {
     "name": "stderr",
     "output_type": "stream",
     "text": [
      " 60%|███████████████████████████████████████████████████████████████████████████████████████▌                                                         | 61/101 [15:24<11:57, 17.94s/it]"
     ]
    },
    {
     "name": "stdout",
     "output_type": "stream",
     "text": [
      "utmos: 4.4139790534973145\n",
      "test_ds_index_61: LJ038-0255\n",
      "[seq]text2mel\n",
      "phonemes_len: 240\n",
      "phnid_len: 47\n",
      "gradtfk5tts dt: 4.061228713952005\n",
      "gradtfk5tts RTF: 2.021994516407192\n",
      "[seq]mel2wav\n"
     ]
    },
    {
     "name": "stderr",
     "output_type": "stream",
     "text": [
      " 61%|█████████████████████████████████████████████████████████████████████████████████████████                                                        | 62/101 [15:30<09:19, 14.35s/it]"
     ]
    },
    {
     "name": "stdout",
     "output_type": "stream",
     "text": [
      "[seq]wav2utmos\n",
      "utmos: 3.5223584175109863\n",
      "test_ds_index_62: LJ028-0205\n",
      "[seq]text2mel\n",
      "phonemes_len: 899\n",
      "phnid_len: 171\n",
      "gradtfk5tts dt: 11.08000769186765\n",
      "gradtfk5tts RTF: 1.6202924024145908\n",
      "[seq]mel2wav\n",
      "[seq]wav2utmos\n"
     ]
    },
    {
     "name": "stderr",
     "output_type": "stream",
     "text": [
      " 62%|██████████████████████████████████████████████████████████████████████████████████████████▍                                                      | 63/101 [15:46<09:23, 14.82s/it]"
     ]
    },
    {
     "name": "stdout",
     "output_type": "stream",
     "text": [
      "utmos: 4.084481239318848\n",
      "test_ds_index_63: LJ014-0260\n",
      "[seq]text2mel\n",
      "phonemes_len: 1068\n",
      "phnid_len: 203\n",
      "gradtfk5tts dt: 14.956518476828933\n",
      "gradtfk5tts RTF: 1.832499291063289\n",
      "[seq]mel2wav\n",
      "[seq]wav2utmos\n"
     ]
    },
    {
     "name": "stderr",
     "output_type": "stream",
     "text": [
      " 63%|███████████████████████████████████████████████████████████████████████████████████████████▉                                                     | 64/101 [16:07<10:09, 16.48s/it]"
     ]
    },
    {
     "name": "stdout",
     "output_type": "stream",
     "text": [
      "utmos: 4.37827730178833\n",
      "test_ds_index_64: LJ033-0166\n",
      "[seq]text2mel\n",
      "phonemes_len: 967\n",
      "phnid_len: 183\n",
      "gradtfk5tts dt: 11.777347585186362\n",
      "gradtfk5tts RTF: 1.6178884709763712\n",
      "[seq]mel2wav\n",
      "[seq]wav2utmos\n"
     ]
    },
    {
     "name": "stderr",
     "output_type": "stream",
     "text": [
      " 64%|█████████████████████████████████████████████████████████████████████████████████████████████▎                                                   | 65/101 [16:23<09:56, 16.57s/it]"
     ]
    },
    {
     "name": "stdout",
     "output_type": "stream",
     "text": [
      "utmos: 3.9016008377075195\n",
      "test_ds_index_65: LJ037-0125\n",
      "[seq]text2mel\n",
      "phonemes_len: 1085\n",
      "phnid_len: 205\n",
      "gradtfk5tts dt: 12.755455991253257\n",
      "gradtfk5tts RTF: 1.601549998901776\n",
      "[seq]mel2wav\n",
      "[seq]wav2utmos\n"
     ]
    },
    {
     "name": "stderr",
     "output_type": "stream",
     "text": [
      " 65%|██████████████████████████████████████████████████████████████████████████████████████████████▊                                                  | 66/101 [16:42<09:55, 17.01s/it]"
     ]
    },
    {
     "name": "stdout",
     "output_type": "stream",
     "text": [
      "utmos: 4.20513391494751\n",
      "test_ds_index_66: LJ013-0142\n",
      "[seq]text2mel\n",
      "phonemes_len: 740\n",
      "phnid_len: 143\n",
      "gradtfk5tts dt: 9.411455696448684\n",
      "gradtfk5tts RTF: 1.6376467653621645\n",
      "[seq]mel2wav\n",
      "[seq]wav2utmos\n"
     ]
    },
    {
     "name": "stderr",
     "output_type": "stream",
     "text": [
      " 66%|████████████████████████████████████████████████████████████████████████████████████████████████▏                                                | 67/101 [16:53<08:42, 15.37s/it]"
     ]
    },
    {
     "name": "stdout",
     "output_type": "stream",
     "text": [
      "utmos: 4.254004001617432\n",
      "test_ds_index_67: LJ031-0199\n",
      "[seq]text2mel\n",
      "phonemes_len: 1439\n",
      "phnid_len: 273\n",
      "gradtfk5tts dt: 16.904389871284366\n",
      "gradtfk5tts RTF: 1.7190349978869368\n",
      "[seq]mel2wav\n",
      "[seq]wav2utmos\n"
     ]
    },
    {
     "name": "stderr",
     "output_type": "stream",
     "text": [
      " 67%|█████████████████████████████████████████████████████████████████████████████████████████████████▌                                               | 68/101 [17:17<09:48, 17.83s/it]"
     ]
    },
    {
     "name": "stdout",
     "output_type": "stream",
     "text": [
      "utmos: 4.376668930053711\n",
      "test_ds_index_68: LJ004-0017\n",
      "[seq]text2mel\n",
      "phonemes_len: 619\n",
      "phnid_len: 119\n",
      "gradtfk5tts dt: 8.501616106368601\n",
      "gradtfk5tts RTF: 1.668036688010995\n",
      "[seq]mel2wav\n",
      "[seq]wav2utmos\n"
     ]
    },
    {
     "name": "stderr",
     "output_type": "stream",
     "text": [
      " 68%|███████████████████████████████████████████████████████████████████████████████████████████████████                                              | 69/101 [17:27<08:19, 15.62s/it]"
     ]
    },
    {
     "name": "stdout",
     "output_type": "stream",
     "text": [
      "utmos: 4.0664849281311035\n",
      "test_ds_index_69: LJ024-0115\n",
      "[seq]text2mel\n",
      "phonemes_len: 1011\n",
      "phnid_len: 191\n",
      "gradtfk5tts dt: 12.476086680777371\n",
      "gradtfk5tts RTF: 1.608683285642432\n",
      "[seq]mel2wav\n",
      "[seq]wav2utmos\n"
     ]
    },
    {
     "name": "stderr",
     "output_type": "stream",
     "text": [
      " 69%|████████████████████████████████████████████████████████████████████████████████████████████████████▍                                            | 70/101 [17:42<07:57, 15.41s/it]"
     ]
    },
    {
     "name": "stdout",
     "output_type": "stream",
     "text": [
      "utmos: 3.9488306045532227\n",
      "test_ds_index_70: LJ017-0171\n",
      "[seq]text2mel\n",
      "phonemes_len: 620\n",
      "phnid_len: 119\n",
      "gradtfk5tts dt: 7.371526814065874\n",
      "gradtfk5tts RTF: 1.7068019809533823\n",
      "[seq]mel2wav\n",
      "[seq]wav2utmos\n"
     ]
    },
    {
     "name": "stderr",
     "output_type": "stream",
     "text": [
      " 70%|█████████████████████████████████████████████████████████████████████████████████████████████████████▉                                           | 71/101 [17:53<06:59, 13.97s/it]"
     ]
    },
    {
     "name": "stdout",
     "output_type": "stream",
     "text": [
      "utmos: 3.8708739280700684\n",
      "test_ds_index_71: LJ017-0040\n",
      "[seq]text2mel\n",
      "phonemes_len: 412\n",
      "phnid_len: 79\n",
      "gradtfk5tts dt: 6.578960847109556\n",
      "gradtfk5tts RTF: 1.7489642008917547\n",
      "[seq]mel2wav\n",
      "[seq]wav2utmos\n"
     ]
    },
    {
     "name": "stderr",
     "output_type": "stream",
     "text": [
      " 71%|███████████████████████████████████████████████████████████████████████████████████████████████████████▎                                         | 72/101 [18:02<06:06, 12.65s/it]"
     ]
    },
    {
     "name": "stdout",
     "output_type": "stream",
     "text": [
      "utmos: 4.33411979675293\n",
      "test_ds_index_72: LJ005-0044\n",
      "[seq]text2mel\n",
      "phonemes_len: 796\n",
      "phnid_len: 151\n",
      "gradtfk5tts dt: 9.571519335731864\n",
      "gradtfk5tts RTF: 1.6859343155106692\n",
      "[seq]mel2wav\n",
      "[seq]wav2utmos\n"
     ]
    },
    {
     "name": "stderr",
     "output_type": "stream",
     "text": [
      " 72%|████████████████████████████████████████████████████████████████████████████████████████████████████████▊                                        | 73/101 [18:16<06:01, 12.91s/it]"
     ]
    },
    {
     "name": "stdout",
     "output_type": "stream",
     "text": [
      "utmos: 4.385761260986328\n",
      "test_ds_index_73: LJ007-0169\n",
      "[seq]text2mel\n",
      "phonemes_len: 399\n",
      "phnid_len: 77\n",
      "gradtfk5tts dt: 5.3296765042468905\n",
      "gradtfk5tts RTF: 1.8585426195382708\n",
      "[seq]mel2wav\n"
     ]
    },
    {
     "name": "stderr",
     "output_type": "stream",
     "text": [
      " 73%|██████████████████████████████████████████████████████████████████████████████████████████████████████████▏                                      | 74/101 [18:24<05:08, 11.41s/it]"
     ]
    },
    {
     "name": "stdout",
     "output_type": "stream",
     "text": [
      "[seq]wav2utmos\n",
      "utmos: 4.4238972663879395\n",
      "test_ds_index_74: LJ015-0153\n",
      "[seq]text2mel\n",
      "phonemes_len: 1156\n",
      "phnid_len: 219\n",
      "gradtfk5tts dt: 13.73683741223067\n",
      "gradtfk5tts RTF: 1.6163831163533464\n",
      "[seq]mel2wav\n",
      "[seq]wav2utmos\n"
     ]
    },
    {
     "name": "stderr",
     "output_type": "stream",
     "text": [
      " 74%|███████████████████████████████████████████████████████████████████████████████████████████████████████████▋                                     | 75/101 [18:40<05:33, 12.84s/it]"
     ]
    },
    {
     "name": "stdout",
     "output_type": "stream",
     "text": [
      "utmos: 4.400643348693848\n",
      "test_ds_index_75: LJ045-0043\n",
      "[seq]text2mel\n",
      "phonemes_len: 1166\n",
      "phnid_len: 221\n",
      "gradtfk5tts dt: 13.498578226193786\n",
      "gradtfk5tts RTF: 1.6398737762670408\n",
      "[seq]mel2wav\n",
      "[seq]wav2utmos\n"
     ]
    },
    {
     "name": "stderr",
     "output_type": "stream",
     "text": [
      " 75%|█████████████████████████████████████████████████████████████████████████████████████████████████████████████                                    | 76/101 [18:59<06:08, 14.73s/it]"
     ]
    },
    {
     "name": "stdout",
     "output_type": "stream",
     "text": [
      "utmos: 3.956836223602295\n",
      "test_ds_index_76: LJ050-0010\n",
      "[seq]text2mel\n",
      "phonemes_len: 1046\n",
      "phnid_len: 197\n",
      "gradtfk5tts dt: 11.867003886960447\n",
      "gradtfk5tts RTF: 1.6459555889409587\n",
      "[seq]mel2wav\n",
      "[seq]wav2utmos\n"
     ]
    },
    {
     "name": "stderr",
     "output_type": "stream",
     "text": [
      " 76%|██████████████████████████████████████████████████████████████████████████████████████████████████████████████▌                                  | 77/101 [19:16<06:07, 15.33s/it]"
     ]
    },
    {
     "name": "stdout",
     "output_type": "stream",
     "text": [
      "utmos: 3.3796465396881104\n",
      "test_ds_index_77: LJ006-0126\n",
      "[seq]text2mel\n",
      "phonemes_len: 1061\n",
      "phnid_len: 201\n",
      "gradtfk5tts dt: 12.220774352550507\n",
      "gradtfk5tts RTF: 1.611959672148609\n",
      "[seq]mel2wav\n",
      "[seq]wav2utmos\n"
     ]
    },
    {
     "name": "stderr",
     "output_type": "stream",
     "text": [
      " 77%|███████████████████████████████████████████████████████████████████████████████████████████████████████████████▉                                 | 78/101 [19:33<06:06, 15.92s/it]"
     ]
    },
    {
     "name": "stdout",
     "output_type": "stream",
     "text": [
      "utmos: 4.364470481872559\n",
      "test_ds_index_78: LJ018-0356\n",
      "[seq]text2mel\n",
      "phonemes_len: 979\n",
      "phnid_len: 185\n",
      "gradtfk5tts dt: 12.408914651721716\n",
      "gradtfk5tts RTF: 1.6169662920200445\n",
      "[seq]mel2wav\n",
      "[seq]wav2utmos\n"
     ]
    },
    {
     "name": "stderr",
     "output_type": "stream",
     "text": [
      " 78%|█████████████████████████████████████████████████████████████████████████████████████████████████████████████████▍                               | 79/101 [19:51<06:02, 16.48s/it]"
     ]
    },
    {
     "name": "stdout",
     "output_type": "stream",
     "text": [
      "utmos: 3.4449803829193115\n",
      "test_ds_index_79: LJ040-0223\n",
      "[seq]text2mel\n",
      "phonemes_len: 1070\n",
      "phnid_len: 201\n",
      "gradtfk5tts dt: 14.088872083462775\n",
      "gradtfk5tts RTF: 1.736071784694397\n",
      "[seq]mel2wav\n",
      "[seq]wav2utmos\n"
     ]
    },
    {
     "name": "stderr",
     "output_type": "stream",
     "text": [
      " 79%|██████████████████████████████████████████████████████████████████████████████████████████████████████████████████▊                              | 80/101 [20:10<06:05, 17.42s/it]"
     ]
    },
    {
     "name": "stdout",
     "output_type": "stream",
     "text": [
      "utmos: 4.455361843109131\n",
      "test_ds_index_80: LJ008-0281\n",
      "[seq]text2mel\n",
      "phonemes_len: 651\n",
      "phnid_len: 125\n",
      "gradtfk5tts dt: 8.761208430863917\n",
      "gradtfk5tts RTF: 1.665844421741768\n",
      "[seq]mel2wav\n",
      "[seq]wav2utmos\n"
     ]
    },
    {
     "name": "stderr",
     "output_type": "stream",
     "text": [
      " 80%|████████████████████████████████████████████████████████████████████████████████████████████████████████████████████▎                            | 81/101 [20:23<05:19, 15.99s/it]"
     ]
    },
    {
     "name": "stdout",
     "output_type": "stream",
     "text": [
      "utmos: 3.934906244277954\n",
      "test_ds_index_81: LJ008-0222\n",
      "[seq]text2mel\n",
      "phonemes_len: 515\n",
      "phnid_len: 99\n",
      "gradtfk5tts dt: 7.051969449967146\n",
      "gradtfk5tts RTF: 1.7255851204254213\n",
      "[seq]mel2wav\n",
      "[seq]wav2utmos\n"
     ]
    },
    {
     "name": "stderr",
     "output_type": "stream",
     "text": [
      " 81%|█████████████████████████████████████████████████████████████████████████████████████████████████████████████████████▋                           | 82/101 [20:33<04:30, 14.23s/it]"
     ]
    },
    {
     "name": "stdout",
     "output_type": "stream",
     "text": [
      "utmos: 4.414393424987793\n",
      "test_ds_index_82: LJ046-0123\n",
      "[seq]text2mel\n",
      "phonemes_len: 1130\n",
      "phnid_len: 213\n",
      "gradtfk5tts dt: 14.987715037539601\n",
      "gradtfk5tts RTF: 1.8207814515258518\n",
      "[seq]mel2wav\n",
      "[seq]wav2utmos\n"
     ]
    },
    {
     "name": "stderr",
     "output_type": "stream",
     "text": [
      " 82%|███████████████████████████████████████████████████████████████████████████████████████████████████████████████████████▏                         | 83/101 [20:51<04:36, 15.34s/it]"
     ]
    },
    {
     "name": "stdout",
     "output_type": "stream",
     "text": [
      "utmos: 3.7065839767456055\n",
      "test_ds_index_83: LJ030-0044\n",
      "[seq]text2mel\n",
      "phonemes_len: 965\n",
      "phnid_len: 185\n",
      "gradtfk5tts dt: 13.535769511945546\n",
      "gradtfk5tts RTF: 1.774541700784813\n",
      "[seq]mel2wav\n",
      "[seq]wav2utmos\n"
     ]
    },
    {
     "name": "stderr",
     "output_type": "stream",
     "text": [
      " 83%|████████████████████████████████████████████████████████████████████████████████████████████████████████████████████████▌                        | 84/101 [21:10<04:37, 16.32s/it]"
     ]
    },
    {
     "name": "stdout",
     "output_type": "stream",
     "text": [
      "utmos: 4.429839611053467\n",
      "test_ds_index_84: LJ018-0051\n",
      "[seq]text2mel\n",
      "phonemes_len: 820\n",
      "phnid_len: 157\n",
      "gradtfk5tts dt: 10.55325423553586\n",
      "gradtfk5tts RTF: 1.6496941349078786\n",
      "[seq]mel2wav\n",
      "[seq]wav2utmos\n"
     ]
    },
    {
     "name": "stderr",
     "output_type": "stream",
     "text": [
      " 84%|██████████████████████████████████████████████████████████████████████████████████████████████████████████████████████████                       | 85/101 [21:25<04:16, 16.01s/it]"
     ]
    },
    {
     "name": "stdout",
     "output_type": "stream",
     "text": [
      "utmos: 3.6578121185302734\n",
      "test_ds_index_85: LJ042-0231\n",
      "[seq]text2mel\n",
      "phonemes_len: 574\n",
      "phnid_len: 111\n",
      "gradtfk5tts dt: 7.682793917134404\n",
      "gradtfk5tts RTF: 1.7277823706022928\n",
      "[seq]mel2wav\n",
      "[seq]wav2utmos\n"
     ]
    },
    {
     "name": "stderr",
     "output_type": "stream",
     "text": [
      " 85%|███████████████████████████████████████████████████████████████████████████████████████████████████████████████████████████▍                     | 86/101 [21:36<03:37, 14.51s/it]"
     ]
    },
    {
     "name": "stdout",
     "output_type": "stream",
     "text": [
      "utmos: 4.389186382293701\n",
      "test_ds_index_86: LJ011-0121\n",
      "[seq]text2mel\n",
      "phonemes_len: 1123\n",
      "phnid_len: 213\n",
      "gradtfk5tts dt: 14.476134680211544\n",
      "gradtfk5tts RTF: 1.7174520580377526\n",
      "[seq]mel2wav\n",
      "[seq]wav2utmos\n"
     ]
    },
    {
     "name": "stderr",
     "output_type": "stream",
     "text": [
      " 86%|████████████████████████████████████████████████████████████████████████████████████████████████████████████████████████████▉                    | 87/101 [21:53<03:33, 15.27s/it]"
     ]
    },
    {
     "name": "stdout",
     "output_type": "stream",
     "text": [
      "utmos: 4.165977478027344\n",
      "test_ds_index_87: LJ016-0186\n",
      "[seq]text2mel\n",
      "phonemes_len: 848\n",
      "phnid_len: 161\n",
      "gradtfk5tts dt: 10.828251303173602\n",
      "gradtfk5tts RTF: 1.6566034444034325\n",
      "[seq]mel2wav\n",
      "[seq]wav2utmos\n"
     ]
    },
    {
     "name": "stderr",
     "output_type": "stream",
     "text": [
      " 87%|██████████████████████████████████████████████████████████████████████████████████████████████████████████████████████████████▎                  | 88/101 [22:08<03:19, 15.34s/it]"
     ]
    },
    {
     "name": "stdout",
     "output_type": "stream",
     "text": [
      "utmos: 4.430983066558838\n",
      "test_ds_index_88: LJ011-0164\n",
      "[seq]text2mel\n",
      "phonemes_len: 1007\n",
      "phnid_len: 191\n",
      "gradtfk5tts dt: 12.792317127808928\n",
      "gradtfk5tts RTF: 1.610874638318867\n",
      "[seq]mel2wav\n",
      "[seq]wav2utmos\n"
     ]
    },
    {
     "name": "stderr",
     "output_type": "stream",
     "text": [
      " 88%|███████████████████████████████████████████████████████████████████████████████████████████████████████████████████████████████▊                 | 89/101 [22:27<03:14, 16.19s/it]"
     ]
    },
    {
     "name": "stdout",
     "output_type": "stream",
     "text": [
      "utmos: 3.8106303215026855\n",
      "test_ds_index_89: LJ026-0039\n",
      "[seq]text2mel\n",
      "phonemes_len: 1150\n",
      "phnid_len: 219\n",
      "gradtfk5tts dt: 13.764843406155705\n",
      "gradtfk5tts RTF: 1.6353167947507183\n",
      "[seq]mel2wav\n",
      "[seq]wav2utmos\n"
     ]
    },
    {
     "name": "stderr",
     "output_type": "stream",
     "text": [
      " 89%|█████████████████████████████████████████████████████████████████████████████████████████████████████████████████████████████████▏               | 90/101 [22:43<02:58, 16.23s/it]"
     ]
    },
    {
     "name": "stdout",
     "output_type": "stream",
     "text": [
      "utmos: 3.62725830078125\n",
      "test_ds_index_90: LJ003-0105\n",
      "[seq]text2mel\n",
      "phonemes_len: 971\n",
      "phnid_len: 185\n",
      "gradtfk5tts dt: 12.456740371882915\n",
      "gradtfk5tts RTF: 1.6085968258059542\n",
      "[seq]mel2wav\n",
      "[seq]wav2utmos\n"
     ]
    },
    {
     "name": "stderr",
     "output_type": "stream",
     "text": [
      " 90%|██████████████████████████████████████████████████████████████████████████████████████████████████████████████████████████████████▋              | 91/101 [22:58<02:38, 15.87s/it]"
     ]
    },
    {
     "name": "stdout",
     "output_type": "stream",
     "text": [
      "utmos: 4.40883731842041\n",
      "test_ds_index_91: LJ039-0104\n",
      "[seq]text2mel\n",
      "phonemes_len: 383\n",
      "phnid_len: 75\n",
      "gradtfk5tts dt: 6.525944961234927\n",
      "gradtfk5tts RTF: 1.7402414666605812\n",
      "[seq]mel2wav\n",
      "[seq]wav2utmos\n"
     ]
    },
    {
     "name": "stderr",
     "output_type": "stream",
     "text": [
      " 91%|████████████████████████████████████████████████████████████████████████████████████████████████████████████████████████████████████             | 92/101 [23:07<02:05, 13.93s/it]"
     ]
    },
    {
     "name": "stdout",
     "output_type": "stream",
     "text": [
      "utmos: 3.6669578552246094\n",
      "test_ds_index_92: LJ002-0038\n",
      "[seq]text2mel\n",
      "phonemes_len: 642\n",
      "phnid_len: 123\n",
      "gradtfk5tts dt: 9.152987749315798\n",
      "gradtfk5tts RTF: 1.6632332861320984\n",
      "[seq]mel2wav\n",
      "[seq]wav2utmos\n"
     ]
    },
    {
     "name": "stderr",
     "output_type": "stream",
     "text": [
      " 92%|█████████████████████████████████████████████████████████████████████████████████████████████████████████████████████████████████████▌           | 93/101 [23:20<01:49, 13.63s/it]"
     ]
    },
    {
     "name": "stdout",
     "output_type": "stream",
     "text": [
      "utmos: 4.228143692016602\n",
      "test_ds_index_93: LJ046-0194\n",
      "[seq]text2mel\n",
      "phonemes_len: 1259\n",
      "phnid_len: 239\n",
      "gradtfk5tts dt: 15.94194093439728\n",
      "gradtfk5tts RTF: 1.746977365634244\n",
      "[seq]mel2wav\n",
      "[seq]wav2utmos\n"
     ]
    },
    {
     "name": "stderr",
     "output_type": "stream",
     "text": [
      " 93%|██████████████████████████████████████████████████████████████████████████████████████████████████████████████████████████████████████▉          | 94/101 [23:42<01:53, 16.17s/it]"
     ]
    },
    {
     "name": "stdout",
     "output_type": "stream",
     "text": [
      "utmos: 4.181455612182617\n",
      "test_ds_index_94: LJ008-0115\n",
      "[seq]text2mel\n",
      "phonemes_len: 845\n",
      "phnid_len: 161\n",
      "gradtfk5tts dt: 9.890202133916318\n",
      "gradtfk5tts RTF: 1.650912647263012\n",
      "[seq]mel2wav\n",
      "[seq]wav2utmos\n"
     ]
    },
    {
     "name": "stderr",
     "output_type": "stream",
     "text": [
      " 94%|████████████████████████████████████████████████████████████████████████████████████████████████████████████████████████████████████████▍        | 95/101 [23:57<01:33, 15.54s/it]"
     ]
    },
    {
     "name": "stdout",
     "output_type": "stream",
     "text": [
      "utmos: 4.366379737854004\n",
      "test_ds_index_95: LJ016-0104\n",
      "[seq]text2mel\n",
      "phonemes_len: 521\n",
      "phnid_len: 101\n",
      "gradtfk5tts dt: 6.670721271075308\n",
      "gradtfk5tts RTF: 1.7202634265906922\n",
      "[seq]mel2wav\n",
      "[seq]wav2utmos\n"
     ]
    },
    {
     "name": "stderr",
     "output_type": "stream",
     "text": [
      " 95%|█████████████████████████████████████████████████████████████████████████████████████████████████████████████████████████████████████████▊       | 96/101 [24:06<01:09, 13.82s/it]"
     ]
    },
    {
     "name": "stdout",
     "output_type": "stream",
     "text": [
      "utmos: 4.37525749206543\n",
      "test_ds_index_96: LJ019-0301\n",
      "[seq]text2mel\n",
      "phonemes_len: 1122\n",
      "phnid_len: 213\n",
      "gradtfk5tts dt: 12.69476520176977\n",
      "gradtfk5tts RTF: 1.6127372136512688\n",
      "[seq]mel2wav\n",
      "[seq]wav2utmos\n"
     ]
    },
    {
     "name": "stderr",
     "output_type": "stream",
     "text": [
      " 96%|███████████████████████████████████████████████████████████████████████████████████████████████████████████████████████████████████████████▎     | 97/101 [24:24<01:00, 15.05s/it]"
     ]
    },
    {
     "name": "stdout",
     "output_type": "stream",
     "text": [
      "utmos: 3.924506425857544\n",
      "test_ds_index_97: LJ028-0012\n",
      "[seq]text2mel\n",
      "phonemes_len: 1165\n",
      "phnid_len: 219\n",
      "gradtfk5tts dt: 14.043797022663057\n",
      "gradtfk5tts RTF: 1.614995641843919\n",
      "[seq]mel2wav\n",
      "[seq]wav2utmos\n"
     ]
    },
    {
     "name": "stderr",
     "output_type": "stream",
     "text": [
      " 97%|████████████████████████████████████████████████████████████████████████████████████████████████████████████████████████████████████████████▋    | 98/101 [24:44<00:49, 16.50s/it]"
     ]
    },
    {
     "name": "stdout",
     "output_type": "stream",
     "text": [
      "utmos: 4.210549354553223\n",
      "test_ds_index_98: LJ018-0059\n",
      "[seq]text2mel\n",
      "phonemes_len: 1004\n",
      "phnid_len: 191\n",
      "gradtfk5tts dt: 14.011151043698192\n",
      "gradtfk5tts RTF: 1.7540986130174936\n",
      "[seq]mel2wav\n",
      "[seq]wav2utmos\n"
     ]
    },
    {
     "name": "stderr",
     "output_type": "stream",
     "text": [
      " 98%|██████████████████████████████████████████████████████████████████████████████████████████████████████████████████████████████████████████████▏  | 99/101 [25:01<00:33, 16.56s/it]"
     ]
    },
    {
     "name": "stdout",
     "output_type": "stream",
     "text": [
      "utmos: 4.085937976837158\n",
      "test_ds_index_99: LJ029-0081\n",
      "[seq]text2mel\n",
      "phonemes_len: 1427\n",
      "phnid_len: 269\n",
      "gradtfk5tts dt: 21.1776631642133\n",
      "gradtfk5tts RTF: 1.9040623074231116\n",
      "[seq]mel2wav\n",
      "[seq]wav2utmos\n"
     ]
    },
    {
     "name": "stderr",
     "output_type": "stream",
     "text": [
      " 99%|██████████████████████████████████████████████████████████████████████████████████████████████████████████████████████████████████████████████▌ | 100/101 [25:30<00:20, 20.24s/it]"
     ]
    },
    {
     "name": "stdout",
     "output_type": "stream",
     "text": [
      "utmos: 4.281447410583496\n",
      "test_ds_index_100: LJ017-0230\n",
      "[seq]text2mel\n",
      "phonemes_len: 1085\n",
      "phnid_len: 207\n",
      "gradtfk5tts dt: 13.309624452143908\n",
      "gradtfk5tts RTF: 1.6377076962598949\n",
      "[seq]mel2wav\n",
      "[seq]wav2utmos\n"
     ]
    },
    {
     "name": "stderr",
     "output_type": "stream",
     "text": [
      "100%|████████████████████████████████████████████████████████████████████████████████████████████████████████████████████████████████████████████████| 101/101 [25:48<00:00, 15.34s/it]"
     ]
    },
    {
     "name": "stdout",
     "output_type": "stream",
     "text": [
      "utmos: 3.5967650413513184\n"
     ]
    },
    {
     "name": "stderr",
     "output_type": "stream",
     "text": [
      "\n"
     ]
    }
   ],
   "source": [
    "eval_list = []\n",
    "\n",
    "\n",
    "for i in tqdm(range(infer_data_num)):\n",
    "    test_ds_filename = test_ds_list[i]['name']\n",
    "    mel_npy_path = RESULT_MEL_DIR_PATH / f\"{test_ds_filename}.npy\"\n",
    "    synth_wav_path = RESULT_WAV_DIR_PATH / f\"{test_ds_filename}.wav\"\n",
    "    print(f'test_ds_index_{i}: {test_ds_filename}')\n",
    "    # [seq]text2mel =========================================================\n",
    "    # load txt\n",
    "    print('[seq]text2mel')\n",
    "    text = test_ds_list[i]['text']\n",
    "    phonemes, phnid = text2phnid(text, phn2id, 'en')\n",
    "    phonemes_len_int = len(phonemes)\n",
    "    phnid_len_int = len(phnid)\n",
    "    print(f'phonemes_len: {phonemes_len_int}')\n",
    "    print(f'phnid_len: {phnid_len_int}')\n",
    "    phnid_len = torch.tensor(len(phnid), dtype=torch.long).unsqueeze(0).to(device)\n",
    "    phnid = torch.tensor(phnid).unsqueeze(0).to(device)\n",
    "\n",
    "    # [seq] synth speech\n",
    "    # process text to mel\n",
    "    # mel is [n_mels, n_frame]\n",
    "    start_time = time.perf_counter()\n",
    "    _, mel_prediction, _ = model.forward(phnid,\n",
    "                                        phnid_len,\n",
    "                                        n_timesteps=N_STEP,\n",
    "                                        temperature=TEMP,\n",
    "                                        solver='original')\n",
    "    end_time = time.perf_counter()\n",
    "\n",
    "    dt = end_time - start_time\n",
    "    dt4mel = dt * 22050 / ( mel_prediction.shape[-1] * 256)\n",
    "    print(f'{model_name} dt: {dt}')\n",
    "    print(f'{model_name} RTF: {dt4mel}')\n",
    "    \n",
    "    # for save mel\n",
    "    mel4save = mel_prediction.unsqueeze(0) # [batch, channel(freq), n_frame(time)] ex.[1, 80, 619]\n",
    "    # save\n",
    "    #mel_npy_path =  RESULT_MEL_DIR_PATH / f\"{test_ds_filename}.npy\"\n",
    "    #print(f'test_ds_index_{i}: {mel_npy_path}')\n",
    "    np.save(mel_npy_path, mel4save.cpu().detach().numpy().copy())\n",
    "\n",
    "    # [seq]mel2wav =========================================================\n",
    "    print('[seq]mel2wav')\n",
    "    x = np.load(mel_npy_path) # [1, n_mel, n_frame]\n",
    "    x2audio = torch.FloatTensor(x).to(device)\n",
    "    x2audio = x2audio.squeeze().unsqueeze(0)\n",
    "    # x2audio is [1, n_mels, n_frames]\n",
    "    assert x2audio.shape[0] == 1\n",
    "    with torch.no_grad():\n",
    "        # vocoder.forward(x).cpu() is torch.Size([1, 1, 167168])\n",
    "        audio = (vocoder.forward(x2audio).cpu().squeeze().clamp(-1,1).numpy() * 32768).astype(np.int16)\n",
    "    write(\n",
    "        synth_wav_path,\n",
    "        hifigan_hparams.sampling_rate,\n",
    "        audio)\n",
    "\n",
    "    # [seq]wav2utmos =========================================================\n",
    "    print('[seq]wav2utmos')\n",
    "    #iwav_path = RESULT_WAV_DIR_PATH / f\"{filename}.wav\"\n",
    "    #wav, samplerate = torchaudio.load(iwav_path)\n",
    "    wav, samplerate = torchaudio.load(synth_wav_path)\n",
    "    score_utmos = predictor_utmos(wav, samplerate)\n",
    "    score_utmos_float = score_utmos.item()\n",
    "    print(f'utmos: {score_utmos_float}')\n",
    "    #eval_dict = {'name': filename, 'path': str(iwav_path), 'utmos': score_float}\n",
    "    #score_utmos_list.append(eval_dict)\n",
    "    \n",
    "    # path, テキスト文、phonimes, phonimes数, dt, RTF, utmos\n",
    "    eval_dict = {\n",
    "        'name': test_ds_filename,\n",
    "        'wav_path': synth_wav_path\n",
    "        'phonemes_len': phonemes_len_int,\n",
    "        'phnid_len': phnid_len_int,\n",
    "        'dt': dt,\n",
    "        'RTF4mel': dt4mel,\n",
    "        'utmos': score_utmos_float\n",
    "    }\n",
    "    eval_list.append(eval_dict)\n",
    "    "
   ]
  },
  {
   "cell_type": "code",
   "execution_count": 10,
   "id": "86c6bcd5-e6c0-4984-acc1-899c95355dbb",
   "metadata": {},
   "outputs": [
    {
     "name": "stdout",
     "output_type": "stream",
     "text": [
      "Already Exists result4eval/infer4colb/gradtfk5tts/cpu/e500_n50/eval4mid_LJ_V1.json\n"
     ]
    }
   ],
   "source": [
    "#RESULT_JSON_PATH = RESULT_DIR_PATH / 'eval4mid.json'\n",
    "if RESULT_JSON_PATH.exists() == False:\n",
    "    with open(RESULT_JSON_PATH, 'w') as f:\n",
    "        for entry in eval_list:\n",
    "            f.write(json.dumps(entry) + '\\n')\n",
    "    print(f'Make {RESULT_JSON_PATH}')\n",
    "else:\n",
    "    print(f'Already Exists {RESULT_JSON_PATH}')"
   ]
  },
  {
   "cell_type": "code",
   "execution_count": null,
   "id": "110e7afa-1d50-4db0-a29a-5ca4e68f4f02",
   "metadata": {},
   "outputs": [],
   "source": [
    "# recheck"
   ]
  },
  {
   "cell_type": "code",
   "execution_count": 11,
   "id": "fe1b7e3e-42f8-40e8-993b-d50037003bae",
   "metadata": {},
   "outputs": [
    {
     "name": "stdout",
     "output_type": "stream",
     "text": [
      "Exist result4eval/infer4colb/gradtfk5tts/cpu/e500_n50/eval4mid_LJ_V1.json\n"
     ]
    }
   ],
   "source": [
    "a = toybox.load_json('result4eval/infer4colb/gradtfk5tts/cpu/e500_n50/eval4mid_LJ_V1.json')"
   ]
  },
  {
   "cell_type": "code",
   "execution_count": 12,
   "id": "f18ad986-d941-4487-a58c-3dcdfba67067",
   "metadata": {},
   "outputs": [
    {
     "name": "stdout",
     "output_type": "stream",
     "text": [
      "100\n",
      "dt ---------------------------\n",
      "dt mean: 10.763684\n",
      "dt var: 13.17348\n",
      "dt std: 3.629529\n",
      "RTF ---------------------------\n",
      "RTF mean: 1.6718893000000001\n",
      "RTF var: 0.0087506937\n",
      "RTF std: 0.093545142\n",
      "utmos ---------------------------\n",
      "utmos mean: 4.1353975\n",
      "utmos var: 0.089310245\n",
      "utmos std: 0.2988482\n"
     ]
    }
   ],
   "source": [
    "dt_list = [a[n]['dt'] for n in range(len(a))]\n",
    "RTF4mel_list = [a[n]['RTF4mel'] for n in range(len(a))]\n",
    "utmos_list = [a[n]['utmos'] for n in range(len(a))]\n",
    "\n",
    "dt_nparr = np.array(dt_list[1:101])\n",
    "RTF4mel_nparr = np.array(RTF4mel_list[1:101])\n",
    "utmos_nparr = np.array(utmos_list[1:101])\n",
    "print(len(dt_nparr))\n",
    "\n",
    "significant_digits = 8\n",
    "\n",
    "# for culc difference time to infer text2mel\n",
    "dt_mean = toybox.round_significant_digits(np.mean(dt_nparr), significant_digits=significant_digits)\n",
    "dt_var = toybox.round_significant_digits(np.var(dt_nparr), significant_digits=significant_digits)\n",
    "dt_std = toybox.round_significant_digits(np.std(dt_nparr), significant_digits=significant_digits)\n",
    "print(f'dt ---------------------------')\n",
    "print(f'dt mean: {dt_mean}')\n",
    "print(f'dt var: {dt_var}')\n",
    "print(f'dt std: {dt_std}')\n",
    "\n",
    "# for culc RTF4mel to infer text2mel\n",
    "RTF4mel_mean = toybox.round_significant_digits(np.mean(RTF4mel_nparr), significant_digits=significant_digits)\n",
    "RTF4mel_var = toybox.round_significant_digits(np.var(RTF4mel_nparr), significant_digits=significant_digits)\n",
    "RTF4mel_std = toybox.round_significant_digits(np.std(RTF4mel_nparr), significant_digits=significant_digits)\n",
    "print(f'RTF ---------------------------')\n",
    "print(f'RTF mean: {RTF4mel_mean}')\n",
    "print(f'RTF var: {RTF4mel_var}')\n",
    "print(f'RTF std: {RTF4mel_std}')\n",
    "\n",
    "# for culc utmos to infer \n",
    "print(f'utmos ---------------------------')\n",
    "utmos_mean = toybox.round_significant_digits(np.mean(utmos_nparr), significant_digits=significant_digits)\n",
    "utmos_var = toybox.round_significant_digits(np.var(utmos_nparr), significant_digits=significant_digits)\n",
    "utmos_std = toybox.round_significant_digits(np.std(utmos_nparr), significant_digits=significant_digits)\n",
    "print(f'utmos mean: {utmos_mean}')\n",
    "print(f'utmos var: {utmos_var}')\n",
    "print(f'utmos std: {utmos_std}')"
   ]
  },
  {
   "cell_type": "code",
   "execution_count": null,
   "id": "673844fa-d641-40e4-b2aa-e19550f69113",
   "metadata": {},
   "outputs": [],
   "source": []
  }
 ],
 "metadata": {
  "kernelspec": {
   "display_name": "Python 3 (ipykernel)",
   "language": "python",
   "name": "python3"
  },
  "language_info": {
   "codemirror_mode": {
    "name": "ipython",
    "version": 3
   },
   "file_extension": ".py",
   "mimetype": "text/x-python",
   "name": "python",
   "nbconvert_exporter": "python",
   "pygments_lexer": "ipython3",
   "version": "3.10.16"
  }
 },
 "nbformat": 4,
 "nbformat_minor": 5
}

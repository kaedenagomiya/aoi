{
 "cells": [
  {
   "cell_type": "markdown",
   "id": "eb991c6a-0a40-4898-82d8-e379fef3751b",
   "metadata": {},
   "source": [
    "# text2mel"
   ]
  },
  {
   "cell_type": "markdown",
   "id": "a08faded-e931-4e5a-a2d3-e101c56c6634",
   "metadata": {},
   "source": [
    "## [seq] import"
   ]
  },
  {
   "cell_type": "code",
   "execution_count": 1,
   "id": "02d5525e-f924-415b-b6e3-17d9be45fa12",
   "metadata": {},
   "outputs": [],
   "source": [
    "import json\n",
    "import yaml\n",
    "import sys\n",
    "import time\n",
    "import IPython.display as ipd\n",
    "import pprint\n",
    "from pathlib import Path\n",
    "from tqdm import tqdm\n",
    "\n",
    "import numpy as np\n",
    "import torch\n",
    "import torchaudio\n",
    "from librosa.filters import mel as librosa_mel_fn\n",
    "#import matplotlib\n",
    "#matplotlib.use(\"Agg\")\n",
    "import matplotlib.pyplot as plt\n",
    "from scipy.io.wavfile import write\n",
    "\n",
    "\n",
    "import toybox"
   ]
  },
  {
   "cell_type": "code",
   "execution_count": 2,
   "id": "b5722ee7-94a3-4642-b066-dae83f79fdf1",
   "metadata": {},
   "outputs": [],
   "source": [
    "def plot_audio(audio, samplerate, title='time-domain waveform'):\n",
    "    \"\"\"\n",
    "    usage:\n",
    "        # audio is [channel, time(num_frames)] ex.torch.Size([1, 68608])\n",
    "        # audio[0,:]: list of 1ch audio data\n",
    "        # audio.shape[1]: int value of 1ch audio data length\n",
    "        audio, sample_rate = torchaudio.load(str(iwav_path))\n",
    "        %matplotlib inline\n",
    "        plot_audio(audio, sample_rate)\n",
    "    \"\"\"\n",
    "    # transform to mono\n",
    "    channel = 0\n",
    "    audio = audio[channel,:].view(1,-1)\n",
    "    # to numpy\n",
    "    audio = audio.to('cpu').detach().numpy().copy()\n",
    "    time = np.linspace(0., audio.shape[1]/samplerate, audio.shape[1])\n",
    "    \n",
    "    fig, ax = plt.subplots(figsize=(12,9))\n",
    "    \n",
    "    ax.plot(time, audio[0, :])\n",
    "    ax.set_title(title, fontsize=20, y=-0.12)\n",
    "    ax.tick_params(direction='in')\n",
    "    #ax.set_xlim(0, 3)\n",
    "    ax.set_xlabel('Time')\n",
    "    ax.set_ylabel('Amp')\n",
    "    #ax.legend()\n",
    "    plt.tight_layout()\n",
    "    fig.canvas.draw()\n",
    "    plt.show()\n",
    "    #fig.savefig('figure.png')\n",
    "    plt.close(fig)\n",
    "    return fig\n",
    "\n",
    "def plot_mel(tensors:list, titles:list[str]):\n",
    "    \"\"\"\n",
    "    usage:\n",
    "        mel = mel_process(...)\n",
    "        fig_mel = plot_mel([mel_groundtruth[0], mel_prediction[0]],\n",
    "                            ['groundtruth', 'inferenced(model)'])\n",
    "\n",
    "    \"\"\"\n",
    "    xlim = max([t.shape[1] for t in tensors])\n",
    "    fig, axs = plt.subplots(nrows=len(tensors),\n",
    "                            ncols=1,\n",
    "                            figsize=(12, 9),\n",
    "                            constrained_layout=True)\n",
    "\n",
    "    if len(tensors) == 1:\n",
    "        axs = [axs]\n",
    "    \n",
    "    for i in range(len(tensors)):\n",
    "        im = axs[i].imshow(tensors[i],\n",
    "                           aspect=\"auto\",\n",
    "                           origin=\"lower\",\n",
    "                           interpolation='none')\n",
    "        #plt.colorbar(im, ax=axs[i])\n",
    "        fig.colorbar(im, ax=axs[i])\n",
    "        axs[i].set_title(titles[i])\n",
    "        axs[i].set_xlim([0, xlim])\n",
    "    fig.canvas.draw()\n",
    "    #plt.show()\n",
    "    #plt.close()\n",
    "    plt.close(fig)  # fig.close() \n",
    "    return fig"
   ]
  },
  {
   "cell_type": "code",
   "execution_count": 3,
   "id": "a8c52fc6-8b70-44b9-8808-531a8ebc4b53",
   "metadata": {},
   "outputs": [],
   "source": [
    "def convert_phn_to_id(phonemes, phn2id):\n",
    "    \"\"\"\n",
    "    phonemes: phonemes separated by ' '\n",
    "    phn2id: phn2id dict\n",
    "    \"\"\"\n",
    "    return [phn2id[x] for x in ['<bos>'] + phonemes.split(' ') + ['<eos>']]\n",
    "\n",
    "\n",
    "def text2phnid(text, phn2id, language='en', add_blank=True):\n",
    "    if language == 'en':\n",
    "        from text import G2pEn\n",
    "        word2phn = G2pEn()\n",
    "        phonemes = word2phn(text)\n",
    "        if add_blank:\n",
    "            phonemes = ' <blank> '.join(phonemes)\n",
    "        return phonemes, convert_phn_to_id(phonemes, phn2id)\n",
    "    else:\n",
    "        raise ValueError(\n",
    "            'Language should be en (for English)!')"
   ]
  },
  {
   "cell_type": "code",
   "execution_count": 4,
   "id": "48fefe87-405b-482f-b406-ffecfd6c82b0",
   "metadata": {},
   "outputs": [],
   "source": [
    "info_models = [\n",
    "    {\n",
    "        \"model_name\": \"gradtts\",\n",
    "        \"config_path\": \"configs/config_batch_gt_testrun.yaml\",\n",
    "        \"runtime_name\": \"run_test_batch_24h_maybee480\",\n",
    "        \"ckpt_filename\": \"gradtts_1000_794006.pt\"\n",
    "    },\n",
    "    {\n",
    "        \"model_name\": \"gradseptts\",\n",
    "        \"config_path\": \"configs/config_sgt_k3.yaml\",\n",
    "        \"runtime_name\": \"run_test_sgt_k3\",\n",
    "        \"ckpt_filename\": \"gradseptts_1000_794003.pt\"\n",
    "    },\n",
    "    {\n",
    "        \"model_name\": \"gradtfktts\",\n",
    "        \"config_path\": \"configs/config_tfk_k3.yaml\",\n",
    "        \"runtime_name\": \"run_test_tfk_k3\",\n",
    "        \"ckpt_filename\": \"gradtfktts_1000_794002.pt\"\n",
    "    },\n",
    "]"
   ]
  },
  {
   "cell_type": "markdown",
   "id": "73dea462-39b4-4a40-9e21-ba61308a9cad",
   "metadata": {},
   "source": [
    "## [seq] check configuration"
   ]
  },
  {
   "cell_type": "code",
   "execution_count": 5,
   "id": "a926f04a-0f3a-44a3-b9be-dd1b2454fabc",
   "metadata": {},
   "outputs": [],
   "source": [
    "config = toybox.load_yaml_and_expand_var('configs/config_exp_PBL.yaml')"
   ]
  },
  {
   "cell_type": "code",
   "execution_count": 6,
   "id": "809434f2-fd59-4822-a880-f666b15baab4",
   "metadata": {},
   "outputs": [
    {
     "name": "stdout",
     "output_type": "stream",
     "text": [
      "gradseptts\n"
     ]
    }
   ],
   "source": [
    "model_name = config['model_name']\n",
    "if model_name == 'gradtts':\n",
    "    choise_idx = 0\n",
    "elif model_name == 'gradseptts':\n",
    "    choise_idx = 1\n",
    "elif model_name == 'gradtfktts':\n",
    "    choise_idx = 2\n",
    "else:\n",
    "    os._exit(os.EX_OK)\n",
    "    print('Alart: carefully chose model ')\n",
    "\n",
    "print(model_name)"
   ]
  },
  {
   "cell_type": "code",
   "execution_count": 7,
   "id": "3db2bfa0-e4bb-4290-a35a-7621f0c6d460",
   "metadata": {},
   "outputs": [
    {
     "name": "stdout",
     "output_type": "stream",
     "text": [
      "infer4PBL\n"
     ]
    }
   ],
   "source": [
    "runtime_name = config['runtime_name']\n",
    "print(runtime_name)"
   ]
  },
  {
   "cell_type": "code",
   "execution_count": 8,
   "id": "88729452-1a0f-42f3-abd0-f4e0a323ffb7",
   "metadata": {},
   "outputs": [
    {
     "name": "stdout",
     "output_type": "stream",
     "text": [
      "ckpt_path: logs4model/gradseptts/run_test_sgt_k3/ckpt/gradseptts_1000_794003.pt\n"
     ]
    }
   ],
   "source": [
    "config_path4model = info_models[choise_idx][\"config_path\"]\n",
    "runtime_name4model = info_models[choise_idx][\"runtime_name\"]\n",
    "ckpt_dir = f'logs4model/{model_name}/{runtime_name4model}/ckpt'\n",
    "ckpt_path = ckpt_dir + \"/\" + info_models[choise_idx][\"ckpt_filename\"]\n",
    "print(f\"ckpt_path: {ckpt_path}\")"
   ]
  },
  {
   "cell_type": "code",
   "execution_count": 9,
   "id": "6e18d094-20bd-41b8-8df9-e941d5cfc275",
   "metadata": {},
   "outputs": [],
   "source": [
    "n_mels: int = config['n_mels'] # 80\n",
    "n_fft: int = config['n_fft'] # 1024\n",
    "sample_rate: int = config['sample_rate'] # 22050\n",
    "hop_size: int = config['hop_size'] # 256\n",
    "win_size: int = config['win_size'] # 1024\n",
    "f_min: int = config['f_min'] # 0\n",
    "f_max: int = config['f_max'] # 8000\n",
    "random_seed: int = config['random_seed'] # 42 or 1234"
   ]
  },
  {
   "cell_type": "code",
   "execution_count": 10,
   "id": "54b7fe76-c940-41f1-a3c2-e177465413b5",
   "metadata": {},
   "outputs": [
    {
     "name": "stdout",
     "output_type": "stream",
     "text": [
      "80 1024 22050 256 1024 0 8000 42\n"
     ]
    }
   ],
   "source": [
    "print(n_mels, n_fft, sample_rate, hop_size, win_size, f_min, f_max, random_seed)"
   ]
  },
  {
   "cell_type": "code",
   "execution_count": 11,
   "id": "a5e8d002-1937-4e36-85d0-6319dca57183",
   "metadata": {},
   "outputs": [
    {
     "name": "stdout",
     "output_type": "stream",
     "text": [
      "phn2id_path: ./configs/phn2id.json\n"
     ]
    }
   ],
   "source": [
    "print(f\"phn2id_path: {config['phn2id_path']}\")\n",
    "with open(config['phn2id_path']) as f:\n",
    "    phn2id = json.load(f)\n",
    "\n",
    "vocab_size = len(phn2id) + 1"
   ]
  },
  {
   "cell_type": "markdown",
   "id": "6116fc34-e339-48c3-a06f-26b5aa93db91",
   "metadata": {},
   "source": [
    "## [seq] device setting"
   ]
  },
  {
   "cell_type": "code",
   "execution_count": 12,
   "id": "68cfe7f4-60cf-4d7e-976d-c69e9ab65661",
   "metadata": {},
   "outputs": [
    {
     "name": "stdout",
     "output_type": "stream",
     "text": [
      "all cpu at using device: 52\n",
      "Number of available CPU: 4\n",
      "GPU_name: NVIDIA A100-PCIE-40GB\n",
      "GPU avail: True\n",
      "\n"
     ]
    }
   ],
   "source": [
    "import os\n",
    "\n",
    "print(f\"all cpu at using device: {os.cpu_count()}\")\n",
    "print(f\"Number of available CPU: {len(os.sched_getaffinity(0))}\") # Number of available CPUs can also be obtained. ,use systemcall at linux.\n",
    "print(f\"GPU_name: {torch.cuda.get_device_name()}\\nGPU avail: {torch.cuda.is_available()}\\n\")"
   ]
  },
  {
   "cell_type": "code",
   "execution_count": 13,
   "id": "88676558-cc32-425c-bbef-abd566eb9be1",
   "metadata": {},
   "outputs": [
    {
     "name": "stdout",
     "output_type": "stream",
     "text": [
      "avail cuda\n",
      "device: cpu\n"
     ]
    }
   ],
   "source": [
    "DEVICE = 'cpu' # 'cuda' or 'cpu'\n",
    "if torch.cuda.is_available():\n",
    "    print('avail cuda')\n",
    "else:\n",
    "    os._exit(os.EX_OK)\n",
    "    print('use cpu')\n",
    "\n",
    "device = torch.device(DEVICE)\n",
    "print(f'device: {device}')"
   ]
  },
  {
   "cell_type": "code",
   "execution_count": 14,
   "id": "3ff21918-51d9-4205-a540-2c09827b7aa9",
   "metadata": {},
   "outputs": [],
   "source": [
    "toybox.set_seed(random_seed)"
   ]
  },
  {
   "cell_type": "markdown",
   "id": "8dfddc3f-4dd1-4b2e-8b21-0dd33f449b37",
   "metadata": {},
   "source": [
    "## [seq] setting path"
   ]
  },
  {
   "cell_type": "code",
   "execution_count": 15,
   "id": "fb21f3a1-b372-447e-8d8f-7acb1c7e6232",
   "metadata": {},
   "outputs": [
    {
     "name": "stdout",
     "output_type": "stream",
     "text": [
      "result4eval/infer4PBL/gradseptts/cpu/mel\n"
     ]
    }
   ],
   "source": [
    "test_ds_path = Path(config['test_datalist_path'])\n",
    "\n",
    "RESULT_DIR_PATH = Path(f'./result4eval/{runtime_name}/{model_name}/{DEVICE}')\n",
    "RESULT_MEL_DIR_PATH = RESULT_DIR_PATH / 'mel'\n",
    "print(RESULT_MEL_DIR_PATH)"
   ]
  },
  {
   "cell_type": "code",
   "execution_count": 17,
   "id": "58bd2d28-db03-4287-956d-ed5fed4d77ac",
   "metadata": {},
   "outputs": [
    {
     "name": "stdout",
     "output_type": "stream",
     "text": [
      "-------------------------------------------\n",
      "Exists configs/test_dataset.json\n",
      "loaded configs/test_dataset.json\n",
      "-------------------------------------------\n",
      "Exists result4eval/infer4PBL/gradseptts/cpu\n",
      "-------------------------------------------\n",
      "Exists result4eval/infer4PBL/gradseptts/cpu/mel\n"
     ]
    }
   ],
   "source": [
    "print('-------------------------------------------')\n",
    "if test_ds_path.exists():\n",
    "    print(f'Exists {str(test_ds_path)}')\n",
    "    with open(config['test_datalist_path']) as j:\n",
    "        test_ds_list = json.load(j)\n",
    "    print(f'loaded {test_ds_path}')\n",
    "else:\n",
    "    print(f'No exist {test_ds_path}')\n",
    "\n",
    "print('-------------------------------------------')\n",
    "if RESULT_DIR_PATH.exists():\n",
    "    print(f'Exists {RESULT_DIR_PATH}')\n",
    "else:\n",
    "    RESULT_DIR_PATH.mkdir(parents=True)\n",
    "    print(f'No exist {RESULT_DIR_PATH}')\n",
    "\n",
    "print('-------------------------------------------')\n",
    "if RESULT_MEL_DIR_PATH.exists():\n",
    "    print(f'Exists {RESULT_MEL_DIR_PATH}')\n",
    "else:\n",
    "    RESULT_MEL_DIR_PATH.mkdir(parents=True)\n",
    "    print(f'Make {RESULT_MEL_DIR_PATH}')"
   ]
  },
  {
   "cell_type": "markdown",
   "id": "45ace167-71ec-453f-848f-dbda054a9396",
   "metadata": {},
   "source": [
    "## [seq] load Model"
   ]
  },
  {
   "cell_type": "code",
   "execution_count": 18,
   "id": "30a70fba-7abd-4619-a135-f9d9e1ac4638",
   "metadata": {},
   "outputs": [
    {
     "name": "stdout",
     "output_type": "stream",
     "text": [
      "gradseptts\n",
      "[seq] loading diffusion TTS\n",
      "loading  logs4model/gradseptts/run_test_sgt_k3/ckpt/gradseptts_1000_794003.pt\n"
     ]
    }
   ],
   "source": [
    "print(model_name)\n",
    "print(\"[seq] loading diffusion TTS\")\n",
    "N_STEP = 50\n",
    "TEMP = 1.5\n",
    "\n",
    "print('loading ', ckpt_path)\n",
    "_, _, state_dict = torch.load(ckpt_path,\n",
    "                            map_location=device)\n",
    "\n",
    "#with open(config_path4model) as f:\n",
    "#    config = yaml.load(f, yaml.SafeLoader)\n",
    "config4model = toybox.load_yaml_and_expand_var(config_path4model)\n",
    "\n"
   ]
  },
  {
   "cell_type": "code",
   "execution_count": 19,
   "id": "b831ee18-4def-42b3-a5f3-417e08787310",
   "metadata": {},
   "outputs": [
    {
     "name": "stdout",
     "output_type": "stream",
     "text": [
      "[seq] Initializing model...\n",
      "Number of encoder + duration predictor parameters: 3.549137m\n",
      "Number of decoder parameters: 2.036827m\n",
      "Total parameters: 5.585964m\n"
     ]
    }
   ],
   "source": [
    "# for model =======================================================\n",
    "print(\"[seq] Initializing model...\")\n",
    "if model_name == \"gradtts\":\n",
    "    from gradtts import GradTTS\n",
    "    model = GradTTS.build_model(config4model, vocab_size)\n",
    "elif model_name == \"gradseptts\":\n",
    "    from gradseptts import GradSepTTS\n",
    "    model = GradSepTTS.build_model(config4model, vocab_size)\n",
    "elif model_name == \"gradtfktts\":\n",
    "    from gradtfktts import GradTFKTTS\n",
    "    model = GradTFKTTS.build_model(config4model, vocab_size)\n",
    "else:\n",
    "    raise ValueError(f\"Error: '{model_name}' is not supported\")\n",
    "\n",
    "model = model.to(device)\n",
    "model.load_state_dict(state_dict)\n",
    "\n",
    "print(f'Number of encoder + duration predictor parameters: {model.encoder.nparams/1e6}m')\n",
    "print(f'Number of decoder parameters: {model.decoder.nparams/1e6}m')\n",
    "print(f'Total parameters: {model.nparams/1e6}m')"
   ]
  },
  {
   "cell_type": "markdown",
   "id": "498b0d4f-eb35-40d8-9a33-aacaf8e6f0a8",
   "metadata": {},
   "source": [
    "## [seq] test text2mel"
   ]
  },
  {
   "cell_type": "code",
   "execution_count": 31,
   "id": "c0f0c1a6",
   "metadata": {},
   "outputs": [
    {
     "name": "stdout",
     "output_type": "stream",
     "text": [
      "tensor([[ 3, 68,  2, 64,  2,  1,  2, 95,  2, 88,  2, 41,  2,  1,  2, 82,  2, 53,\n",
      "          2,  1,  2, 42,  2, 21,  2, 84,  2,  1,  2, 60,  2, 84,  2,  1,  2, 95,\n",
      "          2, 88,  2, 41,  2,  1,  2, 39,  2, 64,  2,  1,  2, 39,  2, 45,  2, 84,\n",
      "          2, 48,  2,  1,  2, 55,  2, 29,  2, 81,  2,  1,  2, 69,  2, 64,  2,  1,\n",
      "          2, 60,  2, 55,  2,  1,  2, 37,  2,  1,  2, 95,  2, 45,  2, 70,  2, 84,\n",
      "          2,  1,  2, 84,  2, 92,  2,  1,  2, 81,  2, 25,  2, 83,  2, 24,  2,  1,\n",
      "          2, 10,  2,  1,  2, 37,  2,  1,  2, 41,  2, 60,  2, 41,  2,  1,  2, 70,\n",
      "          2, 17,  2, 84,  2,  1,  2, 70,  2, 74,  2,  1,  2, 95,  2, 37,  2,  1,\n",
      "          2, 10,  2,  1,  2, 37,  2,  1,  2, 41,  2, 60,  2, 41,  2,  1,  2, 70,\n",
      "          2, 17,  2, 84,  2,  1,  2, 70,  2, 74,  2,  1,  2, 95,  2, 25,  2, 84,\n",
      "          2,  1,  2, 57,  2, 64,  2,  1,  2, 57,  2, 21,  2, 41,  2,  1,  2, 59,\n",
      "          2, 70,  2,  1,  2, 69,  2, 37,  2, 70,  2, 41,  2,  1,  2, 10,  4]])\n"
     ]
    }
   ],
   "source": [
    "# load txt\n",
    "text = test_ds_list[0]['text']\n",
    "phonemes, phnid = text2phnid(text, phn2id, 'en')\n",
    "phnid_len = torch.tensor(len(phnid), dtype=torch.long).unsqueeze(0).to(device)\n",
    "phnid = torch.tensor(phnid).unsqueeze(0).to(device)\n",
    "print(phnid)"
   ]
  },
  {
   "cell_type": "code",
   "execution_count": 32,
   "id": "0706f06b-c804-48a6-9c8c-691e4e0f5a4b",
   "metadata": {},
   "outputs": [],
   "source": [
    "# [seq] synth speech\n",
    "start_time = time.perf_counter()\n",
    "\n",
    "_, mel_prediction, _ = model.forward(phnid,\n",
    "                                    phnid_len,\n",
    "                                    n_timesteps=N_STEP,\n",
    "                                    temperature=TEMP,\n",
    "                                    solver='original') # mel_prediction is torch.Size([1, 80, 691])\n",
    "\n",
    "end_time = time.perf_counter()"
   ]
  },
  {
   "cell_type": "code",
   "execution_count": 33,
   "id": "9791ecd5-0e96-4b71-8784-e72beb4c3ad2",
   "metadata": {},
   "outputs": [
    {
     "name": "stdout",
     "output_type": "stream",
     "text": [
      "gradseptts RTF: 11.032444195821881\n",
      "gradseptts RTF: 1.4894286008392468\n"
     ]
    }
   ],
   "source": [
    "dt = end_time - start_time\n",
    "print(f'{model_name} RTF: {dt}')\n",
    "#print(f'{model_name} RTF: {dt /(len(wav) / text2speech.fs)}') # waveform\n",
    "print(f'{model_name} RTF: {dt * 22050 / ( mel_prediction.shape[-1] * 256)}')\n",
    "#print(f'{model_name} RTF with fs: {dt * 22050 / (mel_prediction.shape[-1])}')"
   ]
  },
  {
   "cell_type": "code",
   "execution_count": 34,
   "id": "a5632902-8915-4a62-b135-4ed895717ec1",
   "metadata": {},
   "outputs": [
    {
     "name": "stdout",
     "output_type": "stream",
     "text": [
      "torch.Size([1, 80, 638])\n",
      "cpu\n"
     ]
    }
   ],
   "source": [
    "print(mel_prediction.shape)\n",
    "print(mel_prediction.device)"
   ]
  },
  {
   "cell_type": "code",
   "execution_count": 24,
   "id": "ffc611db-c842-4764-942e-2a9632873e6b",
   "metadata": {},
   "outputs": [
    {
     "ename": "NameError",
     "evalue": "name 'mel4plot' is not defined",
     "output_type": "error",
     "traceback": [
      "\u001b[0;31m---------------------------------------------------------------------------\u001b[0m",
      "\u001b[0;31mNameError\u001b[0m                                 Traceback (most recent call last)",
      "Cell \u001b[0;32mIn[24], line 1\u001b[0m\n\u001b[0;32m----> 1\u001b[0m \u001b[38;5;28;01mdel\u001b[39;00m mel4plot\n",
      "\u001b[0;31mNameError\u001b[0m: name 'mel4plot' is not defined"
     ]
    }
   ],
   "source": [
    "del mel4plot"
   ]
  },
  {
   "cell_type": "code",
   "execution_count": 35,
   "id": "06870338-2331-4dc8-b5db-75d3e57f7fdd",
   "metadata": {},
   "outputs": [
    {
     "data": {
      "text/plain": [
       "torch.Size([80, 638])"
      ]
     },
     "execution_count": 35,
     "metadata": {},
     "output_type": "execute_result"
    }
   ],
   "source": [
    "mel4plot = mel_prediction.cpu().squeeze(0)\n",
    "mel4plot.shape\n"
   ]
  },
  {
   "cell_type": "code",
   "execution_count": 36,
   "id": "8ad9b7be-82b0-454c-b1fa-93ec17fde0a9",
   "metadata": {},
   "outputs": [
    {
     "data": {
      "image/png": "[encoded data removed]",
      "text/plain": [
       "<Figure size 1200x900 with 2 Axes>"
      ]
     },
     "execution_count": 36,
     "metadata": {},
     "output_type": "execute_result"
    }
   ],
   "source": [
    "plot_mel([mel4plot], ['testmelplot'])"
   ]
  },
  {
   "cell_type": "markdown",
   "id": "1bfa1622-10e0-4e65-992b-f92f7bccdfcd",
   "metadata": {},
   "source": [
    "## [seq] save text2mel"
   ]
  },
  {
   "cell_type": "code",
   "execution_count": 37,
   "id": "f1c92d57-9c25-4029-99d0-eac00afe2471",
   "metadata": {},
   "outputs": [
    {
     "name": "stdout",
     "output_type": "stream",
     "text": [
      "100\n",
      "RESULT_MEL_DIR_PATH: result4eval/infer4PBL/gradseptts/cpu/mel\n"
     ]
    }
   ],
   "source": [
    "infer_data_num: int = 100 #len(test_ds_list) is 200\n",
    "print(infer_data_num)\n",
    "print(f'RESULT_MEL_DIR_PATH: {RESULT_MEL_DIR_PATH}')"
   ]
  },
  {
   "cell_type": "code",
   "execution_count": 38,
   "id": "3c8fe5ae-c080-4a22-bf85-5bb36b0dbd57",
   "metadata": {
    "scrolled": true
   },
   "outputs": [
    {
     "name": "stderr",
     "output_type": "stream",
     "text": [
      "  1%|▉                                                                                            | 1/100 [00:12<21:00, 12.73s/it]"
     ]
    },
    {
     "name": "stdout",
     "output_type": "stream",
     "text": [
      "gradseptts RTF: 12.163677336648107\n",
      "gradseptts RTF: 1.6218138380000167\n",
      "test_ds_index_0: result4eval/infer4PBL/gradseptts/cpu/mel/LJ045-0049.npy\n"
     ]
    },
    {
     "name": "stderr",
     "output_type": "stream",
     "text": [
      "  2%|█▊                                                                                           | 2/100 [00:17<12:41,  7.77s/it]"
     ]
    },
    {
     "name": "stdout",
     "output_type": "stream",
     "text": [
      "gradseptts RTF: 3.749924457632005\n",
      "gradseptts RTF: 1.2868188852525166\n",
      "test_ds_index_1: result4eval/infer4PBL/gradseptts/cpu/mel/LJ017-0027.npy\n"
     ]
    },
    {
     "name": "stderr",
     "output_type": "stream",
     "text": [
      "  3%|██▊                                                                                          | 3/100 [00:20<09:09,  5.66s/it]"
     ]
    },
    {
     "name": "stdout",
     "output_type": "stream",
     "text": [
      "gradseptts RTF: 2.45782152377069\n",
      "gradseptts RTF: 1.365800519131646\n",
      "test_ds_index_2: result4eval/infer4PBL/gradseptts/cpu/mel/LJ023-0031.npy\n"
     ]
    },
    {
     "name": "stderr",
     "output_type": "stream",
     "text": [
      "  4%|███▋                                                                                         | 4/100 [00:27<09:55,  6.20s/it]"
     ]
    },
    {
     "name": "stdout",
     "output_type": "stream",
     "text": [
      "gradseptts RTF: 6.521397286094725\n",
      "gradseptts RTF: 1.1951197652791614\n",
      "test_ds_index_3: result4eval/infer4PBL/gradseptts/cpu/mel/LJ032-0046.npy\n"
     ]
    },
    {
     "name": "stderr",
     "output_type": "stream",
     "text": [
      "  5%|████▋                                                                                        | 5/100 [00:35<11:13,  7.09s/it]"
     ]
    },
    {
     "name": "stdout",
     "output_type": "stream",
     "text": [
      "gradseptts RTF: 7.9592208145186305\n",
      "gradseptts RTF: 1.1521849984252612\n",
      "test_ds_index_4: result4eval/infer4PBL/gradseptts/cpu/mel/LJ030-0026.npy\n"
     ]
    },
    {
     "name": "stderr",
     "output_type": "stream",
     "text": [
      "  6%|█████▌                                                                                       | 6/100 [00:47<13:35,  8.68s/it]"
     ]
    },
    {
     "name": "stdout",
     "output_type": "stream",
     "text": [
      "gradseptts RTF: 11.213330553844571\n",
      "gradseptts RTF: 1.244633631565484\n",
      "test_ds_index_5: result4eval/infer4PBL/gradseptts/cpu/mel/LJ020-0041.npy\n"
     ]
    },
    {
     "name": "stderr",
     "output_type": "stream",
     "text": [
      "  7%|██████▌                                                                                      | 7/100 [00:59<14:54,  9.62s/it]"
     ]
    },
    {
     "name": "stdout",
     "output_type": "stream",
     "text": [
      "gradseptts RTF: 10.791461751796305\n",
      "gradseptts RTF: 1.2999985338019477\n",
      "test_ds_index_6: result4eval/infer4PBL/gradseptts/cpu/mel/LJ001-0070.npy\n"
     ]
    },
    {
     "name": "stderr",
     "output_type": "stream",
     "text": [
      "  8%|███████▍                                                                                     | 8/100 [01:04<12:41,  8.28s/it]"
     ]
    },
    {
     "name": "stdout",
     "output_type": "stream",
     "text": [
      "gradseptts RTF: 4.844711507670581\n",
      "gradseptts RTF: 1.1370262340784265\n",
      "test_ds_index_7: result4eval/infer4PBL/gradseptts/cpu/mel/LJ019-0334.npy\n"
     ]
    },
    {
     "name": "stderr",
     "output_type": "stream",
     "text": [
      "  9%|████████▎                                                                                    | 9/100 [01:08<10:38,  7.01s/it]"
     ]
    },
    {
     "name": "stdout",
     "output_type": "stream",
     "text": [
      "gradseptts RTF: 3.6864349460229278\n",
      "gradseptts RTF: 1.1716716236134335\n",
      "test_ds_index_8: result4eval/infer4PBL/gradseptts/cpu/mel/LJ022-0152.npy\n"
     ]
    },
    {
     "name": "stderr",
     "output_type": "stream",
     "text": [
      " 10%|█████████▏                                                                                  | 10/100 [01:17<11:24,  7.60s/it]"
     ]
    },
    {
     "name": "stdout",
     "output_type": "stream",
     "text": [
      "gradseptts RTF: 8.193333066999912\n",
      "gradseptts RTF: 1.2359278823291653\n",
      "test_ds_index_9: result4eval/infer4PBL/gradseptts/cpu/mel/LJ050-0154.npy\n"
     ]
    },
    {
     "name": "stderr",
     "output_type": "stream",
     "text": [
      " 11%|██████████                                                                                  | 11/100 [01:32<14:34,  9.82s/it]"
     ]
    },
    {
     "name": "stdout",
     "output_type": "stream",
     "text": [
      "gradseptts RTF: 14.283714830875397\n",
      "gradseptts RTF: 1.5188846065818022\n",
      "test_ds_index_10: result4eval/infer4PBL/gradseptts/cpu/mel/LJ016-0045.npy\n"
     ]
    },
    {
     "name": "stderr",
     "output_type": "stream",
     "text": [
      " 12%|███████████                                                                                 | 12/100 [01:40<13:32,  9.23s/it]"
     ]
    },
    {
     "name": "stdout",
     "output_type": "stream",
     "text": [
      "gradseptts RTF: 7.335029588080943\n",
      "gradseptts RTF: 1.2243928840932714\n",
      "test_ds_index_11: result4eval/infer4PBL/gradseptts/cpu/mel/LJ036-0100.npy\n"
     ]
    },
    {
     "name": "stderr",
     "output_type": "stream",
     "text": [
      " 13%|███████████▉                                                                                | 13/100 [01:50<13:32,  9.34s/it]"
     ]
    },
    {
     "name": "stdout",
     "output_type": "stream",
     "text": [
      "gradseptts RTF: 8.844220787286758\n",
      "gradseptts RTF: 1.3850502014181323\n",
      "test_ds_index_12: result4eval/infer4PBL/gradseptts/cpu/mel/LJ046-0016.npy\n"
     ]
    },
    {
     "name": "stderr",
     "output_type": "stream",
     "text": [
      " 14%|████████████▉                                                                               | 14/100 [02:01<14:27, 10.09s/it]"
     ]
    },
    {
     "name": "stdout",
     "output_type": "stream",
     "text": [
      "gradseptts RTF: 11.26489461120218\n",
      "gradseptts RTF: 1.3821610475483443\n",
      "test_ds_index_13: result4eval/infer4PBL/gradseptts/cpu/mel/LJ048-0085.npy\n"
     ]
    },
    {
     "name": "stderr",
     "output_type": "stream",
     "text": [
      " 15%|█████████████▊                                                                              | 15/100 [02:05<11:24,  8.05s/it]"
     ]
    },
    {
     "name": "stdout",
     "output_type": "stream",
     "text": [
      "gradseptts RTF: 2.7456949604675174\n",
      "gradseptts RTF: 1.278348266011587\n",
      "test_ds_index_14: result4eval/infer4PBL/gradseptts/cpu/mel/LJ050-0197.npy\n"
     ]
    },
    {
     "name": "stderr",
     "output_type": "stream",
     "text": [
      " 16%|██████████████▋                                                                             | 16/100 [02:11<10:29,  7.50s/it]"
     ]
    },
    {
     "name": "stdout",
     "output_type": "stream",
     "text": [
      "gradseptts RTF: 5.6874937592074275\n",
      "gradseptts RTF: 1.1366121428230476\n",
      "test_ds_index_15: result4eval/infer4PBL/gradseptts/cpu/mel/LJ050-0178.npy\n"
     ]
    },
    {
     "name": "stderr",
     "output_type": "stream",
     "text": [
      " 17%|███████████████▋                                                                            | 17/100 [02:29<14:35, 10.55s/it]"
     ]
    },
    {
     "name": "stdout",
     "output_type": "stream",
     "text": [
      "gradseptts RTF: 16.913025055080652\n",
      "gradseptts RTF: 1.5903563492107686\n",
      "test_ds_index_16: result4eval/infer4PBL/gradseptts/cpu/mel/LJ043-0079.npy\n"
     ]
    },
    {
     "name": "stderr",
     "output_type": "stream",
     "text": [
      " 18%|████████████████▌                                                                           | 18/100 [02:36<13:07,  9.60s/it]"
     ]
    },
    {
     "name": "stdout",
     "output_type": "stream",
     "text": [
      "gradseptts RTF: 6.852953871712089\n",
      "gradseptts RTF: 1.22971706438193\n",
      "test_ds_index_17: result4eval/infer4PBL/gradseptts/cpu/mel/LJ050-0207.npy\n"
     ]
    },
    {
     "name": "stderr",
     "output_type": "stream",
     "text": [
      " 19%|█████████████████▍                                                                          | 19/100 [02:51<15:20, 11.37s/it]"
     ]
    },
    {
     "name": "stdout",
     "output_type": "stream",
     "text": [
      "gradseptts RTF: 14.940728444606066\n",
      "gradseptts RTF: 1.454109561279854\n",
      "test_ds_index_18: result4eval/infer4PBL/gradseptts/cpu/mel/LJ034-0005.npy\n"
     ]
    },
    {
     "name": "stderr",
     "output_type": "stream",
     "text": [
      " 20%|██████████████████▍                                                                         | 20/100 [03:02<14:47, 11.09s/it]"
     ]
    },
    {
     "name": "stdout",
     "output_type": "stream",
     "text": [
      "gradseptts RTF: 9.711199247278273\n",
      "gradseptts RTF: 1.2300777998764127\n",
      "test_ds_index_19: result4eval/infer4PBL/gradseptts/cpu/mel/LJ031-0151.npy\n"
     ]
    },
    {
     "name": "stderr",
     "output_type": "stream",
     "text": [
      " 21%|███████████████████▎                                                                        | 21/100 [03:07<12:24,  9.43s/it]"
     ]
    },
    {
     "name": "stdout",
     "output_type": "stream",
     "text": [
      "gradseptts RTF: 4.973305145278573\n",
      "gradseptts RTF: 1.136246046640755\n",
      "test_ds_index_20: result4eval/infer4PBL/gradseptts/cpu/mel/LJ023-0021.npy\n"
     ]
    },
    {
     "name": "stderr",
     "output_type": "stream",
     "text": [
      " 22%|████████████████████▏                                                                       | 22/100 [03:16<11:49,  9.09s/it]"
     ]
    },
    {
     "name": "stdout",
     "output_type": "stream",
     "text": [
      "gradseptts RTF: 7.796609646640718\n",
      "gradseptts RTF: 1.218772988801808\n",
      "test_ds_index_21: result4eval/infer4PBL/gradseptts/cpu/mel/LJ015-0301.npy\n"
     ]
    },
    {
     "name": "stderr",
     "output_type": "stream",
     "text": [
      " 23%|█████████████████████▏                                                                      | 23/100 [03:20<09:43,  7.58s/it]"
     ]
    },
    {
     "name": "stdout",
     "output_type": "stream",
     "text": [
      "gradseptts RTF: 3.331966801546514\n",
      "gradseptts RTF: 1.2058473603942463\n",
      "test_ds_index_22: result4eval/infer4PBL/gradseptts/cpu/mel/LJ021-0153.npy\n"
     ]
    },
    {
     "name": "stderr",
     "output_type": "stream",
     "text": [
      " 24%|██████████████████████                                                                      | 24/100 [03:24<08:23,  6.63s/it]"
     ]
    },
    {
     "name": "stdout",
     "output_type": "stream",
     "text": [
      "gradseptts RTF: 3.8474390069022775\n",
      "gradseptts RTF: 1.1709920232745585\n",
      "test_ds_index_23: result4eval/infer4PBL/gradseptts/cpu/mel/LJ014-0037.npy\n"
     ]
    },
    {
     "name": "stderr",
     "output_type": "stream",
     "text": [
      " 25%|███████████████████████                                                                     | 25/100 [03:35<09:54,  7.93s/it]"
     ]
    },
    {
     "name": "stdout",
     "output_type": "stream",
     "text": [
      "gradseptts RTF: 10.43406654894352\n",
      "gradseptts RTF: 1.216123812818233\n",
      "test_ds_index_24: result4eval/infer4PBL/gradseptts/cpu/mel/LJ004-0200.npy\n"
     ]
    },
    {
     "name": "stderr",
     "output_type": "stream",
     "text": [
      " 26%|███████████████████████▉                                                                    | 26/100 [03:40<08:42,  7.06s/it]"
     ]
    },
    {
     "name": "stdout",
     "output_type": "stream",
     "text": [
      "gradseptts RTF: 4.299263502471149\n",
      "gradseptts RTF: 1.190699862207205\n",
      "test_ds_index_25: result4eval/infer4PBL/gradseptts/cpu/mel/LJ049-0010.npy\n"
     ]
    },
    {
     "name": "stderr",
     "output_type": "stream",
     "text": [
      " 27%|████████████████████████▊                                                                   | 27/100 [03:44<07:25,  6.10s/it]"
     ]
    },
    {
     "name": "stdout",
     "output_type": "stream",
     "text": [
      "gradseptts RTF: 3.3256305111572146\n",
      "gradseptts RTF: 1.2035542405957291\n",
      "test_ds_index_26: result4eval/infer4PBL/gradseptts/cpu/mel/LJ008-0291.npy\n"
     ]
    },
    {
     "name": "stderr",
     "output_type": "stream",
     "text": [
      " 28%|█████████████████████████▊                                                                  | 28/100 [03:50<07:17,  6.07s/it]"
     ]
    },
    {
     "name": "stdout",
     "output_type": "stream",
     "text": [
      "gradseptts RTF: 5.457639668136835\n",
      "gradseptts RTF: 1.1354634160101262\n",
      "test_ds_index_27: result4eval/infer4PBL/gradseptts/cpu/mel/LJ048-0221.npy\n"
     ]
    },
    {
     "name": "stderr",
     "output_type": "stream",
     "text": [
      " 29%|██████████████████████████▋                                                                 | 29/100 [03:57<07:18,  6.17s/it]"
     ]
    },
    {
     "name": "stdout",
     "output_type": "stream",
     "text": [
      "gradseptts RTF: 5.642930638976395\n",
      "gradseptts RTF: 1.157241634946331\n",
      "test_ds_index_28: result4eval/infer4PBL/gradseptts/cpu/mel/LJ004-0157.npy\n"
     ]
    },
    {
     "name": "stderr",
     "output_type": "stream",
     "text": [
      " 30%|███████████████████████████▌                                                                | 30/100 [04:03<07:15,  6.23s/it]"
     ]
    },
    {
     "name": "stdout",
     "output_type": "stream",
     "text": [
      "gradseptts RTF: 5.795797440223396\n",
      "gradseptts RTF: 1.1691061691024396\n",
      "test_ds_index_29: result4eval/infer4PBL/gradseptts/cpu/mel/LJ013-0175.npy\n"
     ]
    },
    {
     "name": "stderr",
     "output_type": "stream",
     "text": [
      " 31%|████████████████████████████▌                                                               | 31/100 [04:11<07:57,  6.92s/it]"
     ]
    },
    {
     "name": "stdout",
     "output_type": "stream",
     "text": [
      "gradseptts RTF: 7.978354279883206\n",
      "gradseptts RTF: 1.2293346927508992\n",
      "test_ds_index_30: result4eval/infer4PBL/gradseptts/cpu/mel/LJ021-0100.npy\n"
     ]
    },
    {
     "name": "stderr",
     "output_type": "stream",
     "text": [
      " 32%|█████████████████████████████▍                                                              | 32/100 [04:19<08:04,  7.13s/it]"
     ]
    },
    {
     "name": "stdout",
     "output_type": "stream",
     "text": [
      "gradseptts RTF: 7.063596135005355\n",
      "gradseptts RTF: 1.2291058615598807\n",
      "test_ds_index_31: result4eval/infer4PBL/gradseptts/cpu/mel/LJ018-0132.npy\n"
     ]
    },
    {
     "name": "stderr",
     "output_type": "stream",
     "text": [
      " 33%|██████████████████████████████▎                                                             | 33/100 [04:33<10:08,  9.08s/it]"
     ]
    },
    {
     "name": "stdout",
     "output_type": "stream",
     "text": [
      "gradseptts RTF: 12.886408315040171\n",
      "gradseptts RTF: 1.4938662061881507\n",
      "test_ds_index_32: result4eval/infer4PBL/gradseptts/cpu/mel/LJ023-0059.npy\n"
     ]
    },
    {
     "name": "stderr",
     "output_type": "stream",
     "text": [
      " 34%|███████████████████████████████▎                                                            | 34/100 [04:42<10:07,  9.20s/it]"
     ]
    },
    {
     "name": "stdout",
     "output_type": "stream",
     "text": [
      "gradseptts RTF: 8.946555374190211\n",
      "gradseptts RTF: 1.301675636091204\n",
      "test_ds_index_33: result4eval/infer4PBL/gradseptts/cpu/mel/LJ003-0027.npy\n"
     ]
    },
    {
     "name": "stderr",
     "output_type": "stream",
     "text": [
      " 35%|████████████████████████████████▏                                                           | 35/100 [04:49<09:21,  8.64s/it]"
     ]
    },
    {
     "name": "stdout",
     "output_type": "stream",
     "text": [
      "gradseptts RTF: 6.7874826258048415\n",
      "gradseptts RTF: 1.2465351137642986\n",
      "test_ds_index_34: result4eval/infer4PBL/gradseptts/cpu/mel/LJ018-0133.npy\n"
     ]
    },
    {
     "name": "stderr",
     "output_type": "stream",
     "text": [
      " 36%|█████████████████████████████████                                                           | 36/100 [04:56<08:40,  8.13s/it]"
     ]
    },
    {
     "name": "stdout",
     "output_type": "stream",
     "text": [
      "gradseptts RTF: 6.2231554025784135\n",
      "gradseptts RTF: 1.2379165760938764\n",
      "test_ds_index_35: result4eval/infer4PBL/gradseptts/cpu/mel/LJ033-0060.npy\n"
     ]
    },
    {
     "name": "stderr",
     "output_type": "stream",
     "text": [
      " 37%|██████████████████████████████████                                                          | 37/100 [05:07<09:09,  8.72s/it]"
     ]
    },
    {
     "name": "stdout",
     "output_type": "stream",
     "text": [
      "gradseptts RTF: 9.533649308606982\n",
      "gradseptts RTF: 1.291132120029874\n",
      "test_ds_index_36: result4eval/infer4PBL/gradseptts/cpu/mel/LJ003-0299.npy\n"
     ]
    },
    {
     "name": "stderr",
     "output_type": "stream",
     "text": [
      " 38%|██████████████████████████████████▉                                                         | 38/100 [05:18<09:50,  9.52s/it]"
     ]
    },
    {
     "name": "stdout",
     "output_type": "stream",
     "text": [
      "gradseptts RTF: 10.855369659140706\n",
      "gradseptts RTF: 1.2968148675020186\n",
      "test_ds_index_37: result4eval/infer4PBL/gradseptts/cpu/mel/LJ011-0060.npy\n"
     ]
    },
    {
     "name": "stderr",
     "output_type": "stream",
     "text": [
      " 39%|███████████████████████████████████▉                                                        | 39/100 [05:25<08:52,  8.73s/it]"
     ]
    },
    {
     "name": "stdout",
     "output_type": "stream",
     "text": [
      "gradseptts RTF: 6.146591533906758\n",
      "gradseptts RTF: 1.124040798522459\n",
      "test_ds_index_38: result4eval/infer4PBL/gradseptts/cpu/mel/LJ013-0240.npy\n"
     ]
    },
    {
     "name": "stderr",
     "output_type": "stream",
     "text": [
      " 40%|████████████████████████████████████▊                                                       | 40/100 [05:41<11:04, 11.08s/it]"
     ]
    },
    {
     "name": "stdout",
     "output_type": "stream",
     "text": [
      "gradseptts RTF: 16.016442990861833\n",
      "gradseptts RTF: 1.5011330588126675\n",
      "test_ds_index_39: result4eval/infer4PBL/gradseptts/cpu/mel/LJ047-0076.npy\n"
     ]
    },
    {
     "name": "stderr",
     "output_type": "stream",
     "text": [
      " 41%|█████████████████████████████████████▋                                                      | 41/100 [05:51<10:28, 10.65s/it]"
     ]
    },
    {
     "name": "stdout",
     "output_type": "stream",
     "text": [
      "gradseptts RTF: 9.114732171408832\n",
      "gradseptts RTF: 1.1328679900543648\n",
      "test_ds_index_40: result4eval/infer4PBL/gradseptts/cpu/mel/LJ041-0133.npy\n"
     ]
    },
    {
     "name": "stderr",
     "output_type": "stream",
     "text": [
      " 42%|██████████████████████████████████████▋                                                     | 42/100 [06:01<09:59, 10.34s/it]"
     ]
    },
    {
     "name": "stdout",
     "output_type": "stream",
     "text": [
      "gradseptts RTF: 8.889760767109692\n",
      "gradseptts RTF: 1.1178103610559347\n",
      "test_ds_index_41: result4eval/infer4PBL/gradseptts/cpu/mel/LJ038-0264.npy\n"
     ]
    },
    {
     "name": "stderr",
     "output_type": "stream",
     "text": [
      " 43%|███████████████████████████████████████▌                                                    | 43/100 [06:06<08:21,  8.80s/it]"
     ]
    },
    {
     "name": "stdout",
     "output_type": "stream",
     "text": [
      "gradseptts RTF: 4.6490326672792435\n",
      "gradseptts RTF: 1.1506731581526952\n",
      "test_ds_index_42: result4eval/infer4PBL/gradseptts/cpu/mel/LJ011-0016.npy\n"
     ]
    },
    {
     "name": "stderr",
     "output_type": "stream",
     "text": [
      " 44%|████████████████████████████████████████▍                                                   | 44/100 [06:15<08:20,  8.93s/it]"
     ]
    },
    {
     "name": "stdout",
     "output_type": "stream",
     "text": [
      "gradseptts RTF: 8.684285327792168\n",
      "gradseptts RTF: 1.1180895662708876\n",
      "test_ds_index_43: result4eval/infer4PBL/gradseptts/cpu/mel/LJ003-0185.npy\n"
     ]
    },
    {
     "name": "stderr",
     "output_type": "stream",
     "text": [
      " 45%|█████████████████████████████████████████▍                                                  | 45/100 [06:23<07:52,  8.59s/it]"
     ]
    },
    {
     "name": "stdout",
     "output_type": "stream",
     "text": [
      "gradseptts RTF: 6.926484510302544\n",
      "gradseptts RTF: 1.134215953631261\n",
      "test_ds_index_44: result4eval/infer4PBL/gradseptts/cpu/mel/LJ014-0063.npy\n"
     ]
    },
    {
     "name": "stderr",
     "output_type": "stream",
     "text": [
      " 46%|██████████████████████████████████████████▎                                                 | 46/100 [06:29<07:08,  7.94s/it]"
     ]
    },
    {
     "name": "stdout",
     "output_type": "stream",
     "text": [
      "gradseptts RTF: 5.854861626401544\n",
      "gradseptts RTF: 1.1461265879097482\n",
      "test_ds_index_45: result4eval/infer4PBL/gradseptts/cpu/mel/LJ005-0185.npy\n"
     ]
    },
    {
     "name": "stderr",
     "output_type": "stream",
     "text": [
      " 47%|███████████████████████████████████████████▏                                                | 47/100 [06:37<06:52,  7.79s/it]"
     ]
    },
    {
     "name": "stdout",
     "output_type": "stream",
     "text": [
      "gradseptts RTF: 6.892156472429633\n",
      "gradseptts RTF: 1.1482414335791935\n",
      "test_ds_index_46: result4eval/infer4PBL/gradseptts/cpu/mel/LJ014-0135.npy\n"
     ]
    },
    {
     "name": "stderr",
     "output_type": "stream",
     "text": [
      " 48%|████████████████████████████████████████████▏                                               | 48/100 [06:47<07:18,  8.44s/it]"
     ]
    },
    {
     "name": "stdout",
     "output_type": "stream",
     "text": [
      "gradseptts RTF: 9.43184384610504\n",
      "gradseptts RTF: 1.22164095868548\n",
      "test_ds_index_47: result4eval/infer4PBL/gradseptts/cpu/mel/LJ009-0046.npy\n"
     ]
    },
    {
     "name": "stderr",
     "output_type": "stream",
     "text": [
      " 49%|█████████████████████████████████████████████                                               | 49/100 [07:04<09:19, 10.96s/it]"
     ]
    },
    {
     "name": "stdout",
     "output_type": "stream",
     "text": [
      "gradseptts RTF: 16.112103121355176\n",
      "gradseptts RTF: 1.4810893886151015\n",
      "test_ds_index_48: result4eval/infer4PBL/gradseptts/cpu/mel/LJ037-0024.npy\n"
     ]
    },
    {
     "name": "stderr",
     "output_type": "stream",
     "text": [
      " 50%|██████████████████████████████████████████████                                              | 50/100 [07:14<08:55, 10.71s/it]"
     ]
    },
    {
     "name": "stdout",
     "output_type": "stream",
     "text": [
      "gradseptts RTF: 9.548999012447894\n",
      "gradseptts RTF: 1.2518754056344894\n",
      "test_ds_index_49: result4eval/infer4PBL/gradseptts/cpu/mel/LJ002-0217.npy\n"
     ]
    },
    {
     "name": "stderr",
     "output_type": "stream",
     "text": [
      " 51%|██████████████████████████████████████████████▉                                             | 51/100 [07:21<07:57,  9.75s/it]"
     ]
    },
    {
     "name": "stdout",
     "output_type": "stream",
     "text": [
      "gradseptts RTF: 6.952634363435209\n",
      "gradseptts RTF: 1.1472221302812675\n",
      "test_ds_index_50: result4eval/infer4PBL/gradseptts/cpu/mel/LJ044-0017.npy\n"
     ]
    },
    {
     "name": "stderr",
     "output_type": "stream",
     "text": [
      " 52%|███████████████████████████████████████████████▊                                            | 52/100 [07:27<06:45,  8.45s/it]"
     ]
    },
    {
     "name": "stdout",
     "output_type": "stream",
     "text": [
      "gradseptts RTF: 4.695094081573188\n",
      "gradseptts RTF: 1.168790919647408\n",
      "test_ds_index_51: result4eval/infer4PBL/gradseptts/cpu/mel/LJ017-0074.npy\n"
     ]
    },
    {
     "name": "stderr",
     "output_type": "stream",
     "text": [
      " 53%|████████████████████████████████████████████████▊                                           | 53/100 [07:33<06:12,  7.93s/it]"
     ]
    },
    {
     "name": "stdout",
     "output_type": "stream",
     "text": [
      "gradseptts RTF: 6.159727086313069\n",
      "gradseptts RTF: 1.158416196892085\n",
      "test_ds_index_52: result4eval/infer4PBL/gradseptts/cpu/mel/LJ033-0153.npy\n"
     ]
    },
    {
     "name": "stderr",
     "output_type": "stream",
     "text": [
      " 54%|█████████████████████████████████████████████████▋                                          | 54/100 [07:43<06:28,  8.45s/it]"
     ]
    },
    {
     "name": "stdout",
     "output_type": "stream",
     "text": [
      "gradseptts RTF: 9.145461476407945\n",
      "gradseptts RTF: 1.2424673794533418\n",
      "test_ds_index_53: result4eval/infer4PBL/gradseptts/cpu/mel/LJ032-0124.npy\n"
     ]
    },
    {
     "name": "stderr",
     "output_type": "stream",
     "text": [
      " 55%|██████████████████████████████████████████████████▌                                         | 55/100 [07:49<05:41,  7.60s/it]"
     ]
    },
    {
     "name": "stdout",
     "output_type": "stream",
     "text": [
      "gradseptts RTF: 4.8530070427805185\n",
      "gradseptts RTF: 1.1807998465451806\n",
      "test_ds_index_54: result4eval/infer4PBL/gradseptts/cpu/mel/LJ018-0287.npy\n"
     ]
    },
    {
     "name": "stderr",
     "output_type": "stream",
     "text": [
      " 56%|███████████████████████████████████████████████████▌                                        | 56/100 [07:55<05:12,  7.11s/it]"
     ]
    },
    {
     "name": "stdout",
     "output_type": "stream",
     "text": [
      "gradseptts RTF: 5.41480031888932\n",
      "gradseptts RTF: 1.1630722708025785\n",
      "test_ds_index_55: result4eval/infer4PBL/gradseptts/cpu/mel/LJ020-0038.npy\n"
     ]
    },
    {
     "name": "stderr",
     "output_type": "stream",
     "text": [
      " 57%|████████████████████████████████████████████████████▍                                       | 57/100 [08:05<05:47,  8.08s/it]"
     ]
    },
    {
     "name": "stdout",
     "output_type": "stream",
     "text": [
      "gradseptts RTF: 9.795004734769464\n",
      "gradseptts RTF: 1.2156647064214847\n",
      "test_ds_index_56: result4eval/infer4PBL/gradseptts/cpu/mel/LJ001-0007.npy\n"
     ]
    },
    {
     "name": "stderr",
     "output_type": "stream",
     "text": [
      " 58%|█████████████████████████████████████████████████████▎                                      | 58/100 [08:17<06:30,  9.31s/it]"
     ]
    },
    {
     "name": "stdout",
     "output_type": "stream",
     "text": [
      "gradseptts RTF: 11.429147915914655\n",
      "gradseptts RTF: 1.2492698660866024\n",
      "test_ds_index_57: result4eval/infer4PBL/gradseptts/cpu/mel/LJ003-0313.npy\n"
     ]
    },
    {
     "name": "stderr",
     "output_type": "stream",
     "text": [
      " 59%|██████████████████████████████████████████████████████▎                                     | 59/100 [08:23<05:45,  8.43s/it]"
     ]
    },
    {
     "name": "stdout",
     "output_type": "stream",
     "text": [
      "gradseptts RTF: 5.814533925615251\n",
      "gradseptts RTF: 1.138232182704335\n",
      "test_ds_index_58: result4eval/infer4PBL/gradseptts/cpu/mel/LJ019-0265.npy\n"
     ]
    },
    {
     "name": "stderr",
     "output_type": "stream",
     "text": [
      " 60%|███████████████████████████████████████████████████████▏                                    | 60/100 [08:33<05:54,  8.87s/it]"
     ]
    },
    {
     "name": "stdout",
     "output_type": "stream",
     "text": [
      "gradseptts RTF: 9.342099816538393\n",
      "gradseptts RTF: 1.152809931023189\n",
      "test_ds_index_59: result4eval/infer4PBL/gradseptts/cpu/mel/LJ038-0281.npy\n"
     ]
    },
    {
     "name": "stderr",
     "output_type": "stream",
     "text": [
      " 61%|████████████████████████████████████████████████████████                                    | 61/100 [08:43<05:54,  9.10s/it]"
     ]
    },
    {
     "name": "stdout",
     "output_type": "stream",
     "text": [
      "gradseptts RTF: 8.863277981057763\n",
      "gradseptts RTF: 1.1276500154768492\n",
      "test_ds_index_60: result4eval/infer4PBL/gradseptts/cpu/mel/LJ045-0235.npy\n"
     ]
    },
    {
     "name": "stderr",
     "output_type": "stream",
     "text": [
      " 62%|█████████████████████████████████████████████████████████                                   | 62/100 [08:46<04:40,  7.37s/it]"
     ]
    },
    {
     "name": "stdout",
     "output_type": "stream",
     "text": [
      "gradseptts RTF: 2.7788040060549974\n",
      "gradseptts RTF: 1.3297011357099109\n",
      "test_ds_index_61: result4eval/infer4PBL/gradseptts/cpu/mel/LJ038-0255.npy\n"
     ]
    },
    {
     "name": "stderr",
     "output_type": "stream",
     "text": [
      " 63%|█████████████████████████████████████████████████████████▉                                  | 63/100 [08:55<04:43,  7.65s/it]"
     ]
    },
    {
     "name": "stdout",
     "output_type": "stream",
     "text": [
      "gradseptts RTF: 7.7520995158702135\n",
      "gradseptts RTF: 1.1453004015125041\n",
      "test_ds_index_62: result4eval/infer4PBL/gradseptts/cpu/mel/LJ028-0205.npy\n"
     ]
    },
    {
     "name": "stderr",
     "output_type": "stream",
     "text": [
      " 64%|██████████████████████████████████████████████████████████▉                                 | 64/100 [09:05<05:06,  8.50s/it]"
     ]
    },
    {
     "name": "stdout",
     "output_type": "stream",
     "text": [
      "gradseptts RTF: 9.954635806381702\n",
      "gradseptts RTF: 1.1493576131593317\n",
      "test_ds_index_63: result4eval/infer4PBL/gradseptts/cpu/mel/LJ014-0260.npy\n"
     ]
    },
    {
     "name": "stderr",
     "output_type": "stream",
     "text": [
      " 65%|███████████████████████████████████████████████████████████▊                                | 65/100 [09:15<05:07,  8.80s/it]"
     ]
    },
    {
     "name": "stdout",
     "output_type": "stream",
     "text": [
      "gradseptts RTF: 8.746219722554088\n",
      "gradseptts RTF: 1.139692138345769\n",
      "test_ds_index_64: result4eval/infer4PBL/gradseptts/cpu/mel/LJ033-0166.npy\n"
     ]
    },
    {
     "name": "stderr",
     "output_type": "stream",
     "text": [
      " 66%|████████████████████████████████████████████████████████████▋                               | 66/100 [09:24<05:08,  9.08s/it]"
     ]
    },
    {
     "name": "stdout",
     "output_type": "stream",
     "text": [
      "gradseptts RTF: 9.178670325316489\n",
      "gradseptts RTF: 1.134267848105881\n",
      "test_ds_index_65: result4eval/infer4PBL/gradseptts/cpu/mel/LJ037-0125.npy\n"
     ]
    },
    {
     "name": "stderr",
     "output_type": "stream",
     "text": [
      " 67%|█████████████████████████████████████████████████████████████▋                              | 67/100 [09:31<04:37,  8.41s/it]"
     ]
    },
    {
     "name": "stdout",
     "output_type": "stream",
     "text": [
      "gradseptts RTF: 6.317111691460013\n",
      "gradseptts RTF: 1.135930264847773\n",
      "test_ds_index_66: result4eval/infer4PBL/gradseptts/cpu/mel/LJ013-0142.npy\n"
     ]
    },
    {
     "name": "stderr",
     "output_type": "stream",
     "text": [
      " 68%|██████████████████████████████████████████████████████████████▌                             | 68/100 [09:44<05:14,  9.83s/it]"
     ]
    },
    {
     "name": "stdout",
     "output_type": "stream",
     "text": [
      "gradseptts RTF: 12.418468718416989\n",
      "gradseptts RTF: 1.2168801338572535\n",
      "test_ds_index_67: result4eval/infer4PBL/gradseptts/cpu/mel/LJ031-0199.npy\n"
     ]
    },
    {
     "name": "stderr",
     "output_type": "stream",
     "text": [
      " 69%|███████████████████████████████████████████████████████████████▍                            | 69/100 [09:51<04:35,  8.89s/it]"
     ]
    },
    {
     "name": "stdout",
     "output_type": "stream",
     "text": [
      "gradseptts RTF: 6.133609022945166\n",
      "gradseptts RTF: 1.1410475073901603\n",
      "test_ds_index_68: result4eval/infer4PBL/gradseptts/cpu/mel/LJ004-0017.npy\n"
     ]
    },
    {
     "name": "stderr",
     "output_type": "stream",
     "text": [
      " 70%|████████████████████████████████████████████████████████████████▍                           | 70/100 [10:01<04:33,  9.12s/it]"
     ]
    },
    {
     "name": "stdout",
     "output_type": "stream",
     "text": [
      "gradseptts RTF: 9.11508076544851\n",
      "gradseptts RTF: 1.1361903654019292\n",
      "test_ds_index_69: result4eval/infer4PBL/gradseptts/cpu/mel/LJ024-0115.npy\n"
     ]
    },
    {
     "name": "stderr",
     "output_type": "stream",
     "text": [
      " 71%|█████████████████████████████████████████████████████████████████▎                          | 71/100 [10:06<03:54,  8.07s/it]"
     ]
    },
    {
     "name": "stdout",
     "output_type": "stream",
     "text": [
      "gradseptts RTF: 4.893983134999871\n",
      "gradseptts RTF: 1.1709236992919614\n",
      "test_ds_index_70: result4eval/infer4PBL/gradseptts/cpu/mel/LJ017-0171.npy\n"
     ]
    },
    {
     "name": "stderr",
     "output_type": "stream",
     "text": [
      " 72%|██████████████████████████████████████████████████████████████████▏                         | 72/100 [10:11<03:16,  7.01s/it]"
     ]
    },
    {
     "name": "stdout",
     "output_type": "stream",
     "text": [
      "gradseptts RTF: 3.9918457651510835\n",
      "gradseptts RTF: 1.1938503570092962\n",
      "test_ds_index_71: result4eval/infer4PBL/gradseptts/cpu/mel/LJ017-0040.npy\n"
     ]
    },
    {
     "name": "stderr",
     "output_type": "stream",
     "text": [
      " 73%|███████████████████████████████████████████████████████████████████▏                        | 73/100 [10:18<03:10,  7.07s/it]"
     ]
    },
    {
     "name": "stdout",
     "output_type": "stream",
     "text": [
      "gradseptts RTF: 6.67520896345377\n",
      "gradseptts RTF: 1.1453277331623166\n",
      "test_ds_index_72: result4eval/infer4PBL/gradseptts/cpu/mel/LJ005-0044.npy\n"
     ]
    },
    {
     "name": "stderr",
     "output_type": "stream",
     "text": [
      " 74%|████████████████████████████████████████████████████████████████████                        | 74/100 [10:22<02:42,  6.24s/it]"
     ]
    },
    {
     "name": "stdout",
     "output_type": "stream",
     "text": [
      "gradseptts RTF: 3.5532381841912866\n",
      "gradseptts RTF: 1.2340741866402765\n",
      "test_ds_index_73: result4eval/infer4PBL/gradseptts/cpu/mel/LJ007-0169.npy\n"
     ]
    },
    {
     "name": "stderr",
     "output_type": "stream",
     "text": [
      " 75%|█████████████████████████████████████████████████████████████████████                       | 75/100 [10:33<03:12,  7.71s/it]"
     ]
    },
    {
     "name": "stdout",
     "output_type": "stream",
     "text": [
      "gradseptts RTF: 10.598808972164989\n",
      "gradseptts RTF: 1.2204615319823593\n",
      "test_ds_index_74: result4eval/infer4PBL/gradseptts/cpu/mel/LJ015-0153.npy\n"
     ]
    },
    {
     "name": "stderr",
     "output_type": "stream",
     "text": [
      " 76%|█████████████████████████████████████████████████████████████████████▉                      | 76/100 [10:45<03:31,  8.80s/it]"
     ]
    },
    {
     "name": "stdout",
     "output_type": "stream",
     "text": [
      "gradseptts RTF: 10.815101755782962\n",
      "gradseptts RTF: 1.2338213664891056\n",
      "test_ds_index_75: result4eval/infer4PBL/gradseptts/cpu/mel/LJ045-0043.npy\n"
     ]
    },
    {
     "name": "stderr",
     "output_type": "stream",
     "text": [
      " 77%|██████████████████████████████████████████████████████████████████████▊                     | 77/100 [10:54<03:25,  8.94s/it]"
     ]
    },
    {
     "name": "stdout",
     "output_type": "stream",
     "text": [
      "gradseptts RTF: 8.479592902585864\n",
      "gradseptts RTF: 1.1358805374102006\n",
      "test_ds_index_76: result4eval/infer4PBL/gradseptts/cpu/mel/LJ050-0010.npy\n"
     ]
    },
    {
     "name": "stderr",
     "output_type": "stream",
     "text": [
      " 78%|███████████████████████████████████████████████████████████████████████▊                    | 78/100 [11:04<03:20,  9.09s/it]"
     ]
    },
    {
     "name": "stdout",
     "output_type": "stream",
     "text": [
      "gradseptts RTF: 8.889705989509821\n",
      "gradseptts RTF: 1.1310123769196105\n",
      "test_ds_index_77: result4eval/infer4PBL/gradseptts/cpu/mel/LJ006-0126.npy\n"
     ]
    },
    {
     "name": "stderr",
     "output_type": "stream",
     "text": [
      " 79%|████████████████████████████████████████████████████████████████████████▋                   | 79/100 [11:13<03:11,  9.12s/it]"
     ]
    },
    {
     "name": "stdout",
     "output_type": "stream",
     "text": [
      "gradseptts RTF: 8.647906654514372\n",
      "gradseptts RTF: 1.1320190309890406\n",
      "test_ds_index_78: result4eval/infer4PBL/gradseptts/cpu/mel/LJ018-0356.npy\n"
     ]
    },
    {
     "name": "stderr",
     "output_type": "stream",
     "text": [
      " 80%|█████████████████████████████████████████████████████████████████████████▌                  | 80/100 [11:22<03:02,  9.13s/it]"
     ]
    },
    {
     "name": "stdout",
     "output_type": "stream",
     "text": [
      "gradseptts RTF: 8.592168011702597\n",
      "gradseptts RTF: 1.1385655328007347\n",
      "test_ds_index_79: result4eval/infer4PBL/gradseptts/cpu/mel/LJ040-0223.npy\n"
     ]
    },
    {
     "name": "stderr",
     "output_type": "stream",
     "text": [
      " 81%|██████████████████████████████████████████████████████████████████████████▌                 | 81/100 [11:29<02:39,  8.40s/it]"
     ]
    },
    {
     "name": "stdout",
     "output_type": "stream",
     "text": [
      "gradseptts RTF: 5.980185615830123\n",
      "gradseptts RTF: 1.168005003091821\n",
      "test_ds_index_80: result4eval/infer4PBL/gradseptts/cpu/mel/LJ008-0281.npy\n"
     ]
    },
    {
     "name": "stderr",
     "output_type": "stream",
     "text": [
      " 82%|███████████████████████████████████████████████████████████████████████████▍                | 82/100 [11:34<02:15,  7.53s/it]"
     ]
    },
    {
     "name": "stdout",
     "output_type": "stream",
     "text": [
      "gradseptts RTF: 4.967419077642262\n",
      "gradseptts RTF: 1.1754334506139668\n",
      "test_ds_index_81: result4eval/infer4PBL/gradseptts/cpu/mel/LJ008-0222.npy\n"
     ]
    },
    {
     "name": "stderr",
     "output_type": "stream",
     "text": [
      " 83%|████████████████████████████████████████████████████████████████████████████▎               | 83/100 [11:44<02:20,  8.28s/it]"
     ]
    },
    {
     "name": "stdout",
     "output_type": "stream",
     "text": [
      "gradseptts RTF: 9.490673155523837\n",
      "gradseptts RTF: 1.1465054297384543\n",
      "test_ds_index_82: result4eval/infer4PBL/gradseptts/cpu/mel/LJ046-0123.npy\n"
     ]
    },
    {
     "name": "stderr",
     "output_type": "stream",
     "text": [
      " 84%|█████████████████████████████████████████████████████████████████████████████▎              | 84/100 [11:53<02:17,  8.58s/it]"
     ]
    },
    {
     "name": "stdout",
     "output_type": "stream",
     "text": [
      "gradseptts RTF: 8.557714295573533\n",
      "gradseptts RTF: 1.1357473048523954\n",
      "test_ds_index_83: result4eval/infer4PBL/gradseptts/cpu/mel/LJ030-0044.npy\n"
     ]
    },
    {
     "name": "stderr",
     "output_type": "stream",
     "text": [
      " 85%|██████████████████████████████████████████████████████████████████████████████▏             | 85/100 [12:02<02:07,  8.52s/it]"
     ]
    },
    {
     "name": "stdout",
     "output_type": "stream",
     "text": [
      "gradseptts RTF: 7.834368308074772\n",
      "gradseptts RTF: 1.1341112210678095\n",
      "test_ds_index_84: result4eval/infer4PBL/gradseptts/cpu/mel/LJ018-0051.npy\n"
     ]
    },
    {
     "name": "stderr",
     "output_type": "stream",
     "text": [
      " 86%|███████████████████████████████████████████████████████████████████████████████             | 86/100 [12:08<01:48,  7.73s/it]"
     ]
    },
    {
     "name": "stdout",
     "output_type": "stream",
     "text": [
      "gradseptts RTF: 5.341222112067044\n",
      "gradseptts RTF: 1.158827412341372\n",
      "test_ds_index_85: result4eval/infer4PBL/gradseptts/cpu/mel/LJ042-0231.npy\n"
     ]
    },
    {
     "name": "stderr",
     "output_type": "stream",
     "text": [
      " 87%|████████████████████████████████████████████████████████████████████████████████            | 87/100 [12:20<01:57,  9.03s/it]"
     ]
    },
    {
     "name": "stdout",
     "output_type": "stream",
     "text": [
      "gradseptts RTF: 11.364037282764912\n",
      "gradseptts RTF: 1.2964456854561583\n",
      "test_ds_index_86: result4eval/infer4PBL/gradseptts/cpu/mel/LJ011-0121.npy\n"
     ]
    },
    {
     "name": "stderr",
     "output_type": "stream",
     "text": [
      " 88%|████████████████████████████████████████████████████████████████████████████████▉           | 88/100 [12:27<01:42,  8.55s/it]"
     ]
    },
    {
     "name": "stdout",
     "output_type": "stream",
     "text": [
      "gradseptts RTF: 6.8586506973952055\n",
      "gradseptts RTF: 1.1538181143002646\n",
      "test_ds_index_87: result4eval/infer4PBL/gradseptts/cpu/mel/LJ016-0186.npy\n"
     ]
    },
    {
     "name": "stderr",
     "output_type": "stream",
     "text": [
      " 89%|█████████████████████████████████████████████████████████████████████████████████▉          | 89/100 [12:38<01:40,  9.16s/it]"
     ]
    },
    {
     "name": "stdout",
     "output_type": "stream",
     "text": [
      "gradseptts RTF: 10.061391775496304\n",
      "gradseptts RTF: 1.2205858750533314\n",
      "test_ds_index_88: result4eval/infer4PBL/gradseptts/cpu/mel/LJ011-0164.npy\n"
     ]
    },
    {
     "name": "stderr",
     "output_type": "stream",
     "text": [
      " 90%|██████████████████████████████████████████████████████████████████████████████████▊         | 90/100 [12:49<01:37,  9.76s/it]"
     ]
    },
    {
     "name": "stdout",
     "output_type": "stream",
     "text": [
      "gradseptts RTF: 10.39122493751347\n",
      "gradseptts RTF: 1.2277440729604554\n",
      "test_ds_index_89: result4eval/infer4PBL/gradseptts/cpu/mel/LJ026-0039.npy\n"
     ]
    },
    {
     "name": "stderr",
     "output_type": "stream",
     "text": [
      " 91%|███████████████████████████████████████████████████████████████████████████████████▋        | 91/100 [12:59<01:29,  9.91s/it]"
     ]
    },
    {
     "name": "stdout",
     "output_type": "stream",
     "text": [
      "gradseptts RTF: 9.71329640597105\n",
      "gradseptts RTF: 1.1969006267416715\n",
      "test_ds_index_90: result4eval/infer4PBL/gradseptts/cpu/mel/LJ003-0105.npy\n"
     ]
    },
    {
     "name": "stderr",
     "output_type": "stream",
     "text": [
      " 92%|████████████████████████████████████████████████████████████████████████████████████▋       | 92/100 [13:04<01:07,  8.43s/it]"
     ]
    },
    {
     "name": "stdout",
     "output_type": "stream",
     "text": [
      "gradseptts RTF: 4.4306424064561725\n",
      "gradseptts RTF: 1.2000745020435166\n",
      "test_ds_index_91: result4eval/infer4PBL/gradseptts/cpu/mel/LJ039-0104.npy\n"
     ]
    },
    {
     "name": "stderr",
     "output_type": "stream",
     "text": [
      " 93%|█████████████████████████████████████████████████████████████████████████████████████▌      | 93/100 [13:11<00:56,  8.03s/it]"
     ]
    },
    {
     "name": "stdout",
     "output_type": "stream",
     "text": [
      "gradseptts RTF: 6.331874147057533\n",
      "gradseptts RTF: 1.1433587603398405\n",
      "test_ds_index_92: result4eval/infer4PBL/gradseptts/cpu/mel/LJ002-0038.npy\n"
     ]
    },
    {
     "name": "stderr",
     "output_type": "stream",
     "text": [
      " 94%|██████████████████████████████████████████████████████████████████████████████████████▍     | 94/100 [13:23<00:54,  9.09s/it]"
     ]
    },
    {
     "name": "stdout",
     "output_type": "stream",
     "text": [
      "gradseptts RTF: 11.023693659342825\n",
      "gradseptts RTF: 1.2235847152288846\n",
      "test_ds_index_93: result4eval/infer4PBL/gradseptts/cpu/mel/LJ046-0194.npy\n"
     ]
    },
    {
     "name": "stderr",
     "output_type": "stream",
     "text": [
      " 95%|███████████████████████████████████████████████████████████████████████████████████████▍    | 95/100 [13:31<00:44,  8.88s/it]"
     ]
    },
    {
     "name": "stdout",
     "output_type": "stream",
     "text": [
      "gradseptts RTF: 7.825152013450861\n",
      "gradseptts RTF: 1.13277706077069\n",
      "test_ds_index_94: result4eval/infer4PBL/gradseptts/cpu/mel/LJ008-0115.npy\n"
     ]
    },
    {
     "name": "stderr",
     "output_type": "stream",
     "text": [
      " 96%|████████████████████████████████████████████████████████████████████████████████████████▎   | 96/100 [13:36<00:30,  7.72s/it]"
     ]
    },
    {
     "name": "stdout",
     "output_type": "stream",
     "text": [
      "gradseptts RTF: 4.485873530618846\n",
      "gradseptts RTF: 1.1925336534305744\n",
      "test_ds_index_95: result4eval/infer4PBL/gradseptts/cpu/mel/LJ016-0104.npy\n"
     ]
    },
    {
     "name": "stderr",
     "output_type": "stream",
     "text": [
      " 97%|█████████████████████████████████████████████████████████████████████████████████████████▏  | 97/100 [13:46<00:24,  8.31s/it]"
     ]
    },
    {
     "name": "stdout",
     "output_type": "stream",
     "text": [
      "gradseptts RTF: 8.950006874278188\n",
      "gradseptts RTF: 1.1386842894769782\n",
      "test_ds_index_96: result4eval/infer4PBL/gradseptts/cpu/mel/LJ019-0301.npy\n"
     ]
    },
    {
     "name": "stderr",
     "output_type": "stream",
     "text": [
      " 98%|██████████████████████████████████████████████████████████████████████████████████████████▏ | 98/100 [13:58<00:18,  9.43s/it]"
     ]
    },
    {
     "name": "stdout",
     "output_type": "stream",
     "text": [
      "gradseptts RTF: 11.492383080534637\n",
      "gradseptts RTF: 1.2342534626606763\n",
      "test_ds_index_97: result4eval/infer4PBL/gradseptts/cpu/mel/LJ028-0012.npy\n"
     ]
    },
    {
     "name": "stderr",
     "output_type": "stream",
     "text": [
      " 99%|███████████████████████████████████████████████████████████████████████████████████████████ | 99/100 [14:08<00:09,  9.54s/it]"
     ]
    },
    {
     "name": "stdout",
     "output_type": "stream",
     "text": [
      "gradseptts RTF: 9.26639626454562\n",
      "gradseptts RTF: 1.1418322918523722\n",
      "test_ds_index_98: result4eval/infer4PBL/gradseptts/cpu/mel/LJ018-0059.npy\n"
     ]
    },
    {
     "name": "stderr",
     "output_type": "stream",
     "text": [
      "100%|███████████████████████████████████████████████████████████████████████████████████████████| 100/100 [14:26<00:00,  8.67s/it]"
     ]
    },
    {
     "name": "stdout",
     "output_type": "stream",
     "text": [
      "gradseptts RTF: 17.629099347628653\n",
      "gradseptts RTF: 1.4785237669456388\n",
      "test_ds_index_99: result4eval/infer4PBL/gradseptts/cpu/mel/LJ029-0081.npy\n"
     ]
    },
    {
     "name": "stderr",
     "output_type": "stream",
     "text": [
      "\n"
     ]
    }
   ],
   "source": [
    "eval_RTF_list = []\n",
    "for i in tqdm(range(infer_data_num)):\n",
    "    # load txt\n",
    "    text = test_ds_list[i]['text']\n",
    "    phonemes, phnid = text2phnid(text, phn2id, 'en')\n",
    "    phnid_len = torch.tensor(len(phnid), dtype=torch.long).unsqueeze(0).to(device)\n",
    "    phnid = torch.tensor(phnid).unsqueeze(0).to(device)\n",
    "\n",
    "    # [seq] synth speech\n",
    "    # process text to mel\n",
    "    # mel is [n_mels, n_frame]\n",
    "    start_time = time.perf_counter()\n",
    "    _, mel_prediction, _ = model.forward(phnid,\n",
    "                                        phnid_len,\n",
    "                                        n_timesteps=N_STEP,\n",
    "                                        temperature=TEMP,\n",
    "                                        solver='original')\n",
    "    end_time = time.perf_counter()\n",
    "    \n",
    "    dt = end_time - start_time\n",
    "    dt4mel = dt * 22050 / ( mel_prediction.shape[-1] * 256)\n",
    "    print(f'{model_name} RTF: {dt}')\n",
    "    print(f'{model_name} RTF: {dt4mel}')\n",
    "    \n",
    "    # for save mel\n",
    "    mel4save = mel_prediction.unsqueeze(0) # [batch, channel(freq), n_frame(time)] ex.[1, 80, 619]\n",
    "    # save\n",
    "    mel_npy_path =  RESULT_MEL_DIR_PATH / f\"{test_ds_list[i]['name']}.npy\"\n",
    "    print(f'test_ds_index_{i}: {mel_npy_path}')\n",
    "    np.save(mel_npy_path, mel4save.cpu().detach().numpy().copy())\n",
    "    # save eval_RTF\n",
    "    #eval_dict = {'name': filename, 'rtf': RTF, 'rtf4mel': RTF4mel ,'utmos': utmos_score}\n",
    "    eval_RTF_dict = {'name': test_ds_list[i]['name'], \n",
    "                     'path': str(mel_npy_path),\n",
    "                     'RTF': dt,\n",
    "                     'RTF4mel': dt4mel\n",
    "                    }\n",
    "    eval_RTF_list.append(eval_RTF_dict)\n",
    "    "
   ]
  },
  {
   "cell_type": "code",
   "execution_count": 39,
   "id": "786ef479-251d-480f-99b1-b1b4af33e3cb",
   "metadata": {},
   "outputs": [
    {
     "name": "stdout",
     "output_type": "stream",
     "text": [
      "{'name': 'LJ029-0081', 'path': 'result4eval/infer4PBL/gradseptts/cpu/mel/LJ029-0081.npy', 'RTF': 17.629099347628653, 'RTF4mel': 1.4785237669456388}\n",
      "100\n"
     ]
    }
   ],
   "source": [
    "print(eval_RTF_list[99])\n",
    "print(len(eval_RTF_list))"
   ]
  },
  {
   "cell_type": "code",
   "execution_count": null,
   "id": "6cbdbb64-cab7-4877-8fb1-32833e94197e",
   "metadata": {},
   "outputs": [],
   "source": []
  },
  {
   "cell_type": "code",
   "execution_count": 42,
   "id": "f6ed0ac0-2875-40fe-a4bd-414fe2cea6f1",
   "metadata": {},
   "outputs": [
    {
     "name": "stdout",
     "output_type": "stream",
     "text": [
      "fin\n"
     ]
    }
   ],
   "source": [
    "print('fin')"
   ]
  },
  {
   "cell_type": "code",
   "execution_count": 43,
   "id": "51cd69de-edcb-46c1-827a-0033bd3d1788",
   "metadata": {},
   "outputs": [
    {
     "name": "stdout",
     "output_type": "stream",
     "text": [
      "Already Exists result4eval/infer4PBL/gradseptts/cpu/evalRTF4PBL.json\n"
     ]
    }
   ],
   "source": [
    "RESULT_JSON_PATH = RESULT_DIR_PATH / 'evalRTF4PBL.json'\n",
    "if RESULT_JSON_PATH.exists() == False:\n",
    "    with open(RESULT_JSON_PATH, 'w') as f:\n",
    "        for entry in eval_RTF_list:\n",
    "            f.write(json.dumps(entry) + '\\n')\n",
    "    print(f'Make {RESULT_JSON_PATH}')\n",
    "else:\n",
    "    print(f'Already Exists {RESULT_JSON_PATH}')"
   ]
  },
  {
   "cell_type": "markdown",
   "id": "68a5ec89-be11-4ea0-9bf2-7d6d81733804",
   "metadata": {},
   "source": [
    "## show result RTF"
   ]
  },
  {
   "cell_type": "code",
   "execution_count": 44,
   "id": "8ffc3339-a9f5-4fc9-996d-ee6600574542",
   "metadata": {},
   "outputs": [
    {
     "name": "stdout",
     "output_type": "stream",
     "text": [
      "Exist result4eval/infer4PBL/gradseptts/cpu/evalRTF4PBL.json\n"
     ]
    }
   ],
   "source": [
    "eval_target = 'gradseptts_cpu'\n",
    "\n",
    "eval_info = {\n",
    "    'gradtts_cuda': 'result4eval/infer4PBL/gradtts/cuda/evalRTF4PBL.json',\n",
    "    'gradtts_cpu': 'result4eval/infer4PBL/gradtts/cpu/evalRTF4PBL.json',\n",
    "    'gradseptts_cuda': 'result4eval/infer4PBL/gradseptts/cuda/evalRTF4PBL.json',\n",
    "    'gradseptts_cpu': 'result4eval/infer4PBL/gradseptts/cpu/evalRTF4PBL.json',\n",
    "    'gradtfktts_cuda': 'result4eval/infer4PBL/gradtfktts/cuda/evalRTF4PBL.json',\n",
    "    'gradtfktts_cpu': 'result4eval/infer4PBL/gradtfktts/cpu/evalRTF4PBL.json'\n",
    "}\n",
    "\n",
    "eval_jsonl_path = Path(eval_info[eval_target])\n",
    "if eval_jsonl_path.exists() == True:\n",
    "    print(f'Exist {eval_jsonl_path}')\n",
    "    import json\n",
    "    with open(eval_jsonl_path) as f:\n",
    "        eval_jsonl_list = [json.loads(l) for l in f]\n",
    "else:\n",
    "    print(f'No Exists {eval_jsonl_path}')"
   ]
  },
  {
   "cell_type": "code",
   "execution_count": 45,
   "id": "18831cca-4638-4721-9da1-abb8bfa639b1",
   "metadata": {},
   "outputs": [
    {
     "name": "stdout",
     "output_type": "stream",
     "text": [
      "RTF mean: 8.05599136098288\n",
      "RTF var: 10.092437268497742\n",
      "RTF std: 3.176859655146532\n"
     ]
    }
   ],
   "source": [
    "# culc for RTF\n",
    "RTF_list = [eval_jsonl_list[n]['RTF'] for n in range(len(eval_jsonl_list))]\n",
    "RTF_nparr = np.array(RTF_list)\n",
    "RTF_mean = np.mean(RTF_nparr)\n",
    "RTF_var = np.var(RTF_nparr)\n",
    "RTF_std = np.std(RTF_nparr)\n",
    "print(f'RTF mean: {RTF_mean}')\n",
    "print(f'RTF var: {RTF_var}')\n",
    "print(f'RTF std: {RTF_std}')"
   ]
  },
  {
   "cell_type": "code",
   "execution_count": 46,
   "id": "cfa0370a-4417-4808-9123-ceb558ef5741",
   "metadata": {},
   "outputs": [
    {
     "data": {
      "text/plain": [
       "np.float64(17.629099347628653)"
      ]
     },
     "execution_count": 46,
     "metadata": {},
     "output_type": "execute_result"
    }
   ],
   "source": [
    "RTF_nparr.max()"
   ]
  },
  {
   "cell_type": "markdown",
   "id": "5941909f-cffb-42f7-a893-d95273b6ca85",
   "metadata": {},
   "source": [
    "## [seq] plot mel"
   ]
  },
  {
   "cell_type": "code",
   "execution_count": 1,
   "id": "9b2a0c75-599b-48d6-b9f6-c39cce628705",
   "metadata": {},
   "outputs": [
    {
     "ename": "NameError",
     "evalue": "name 'np' is not defined",
     "output_type": "error",
     "traceback": [
      "\u001b[0;31m---------------------------------------------------------------------------\u001b[0m",
      "\u001b[0;31mNameError\u001b[0m                                 Traceback (most recent call last)",
      "Cell \u001b[0;32mIn[1], line 2\u001b[0m\n\u001b[1;32m      1\u001b[0m \u001b[38;5;66;03m# test plot\u001b[39;00m\n\u001b[0;32m----> 2\u001b[0m x \u001b[38;5;241m=\u001b[39m \u001b[43mnp\u001b[49m\u001b[38;5;241m.\u001b[39mload(IMEL_DIR_PATH \u001b[38;5;241m/\u001b[39m \u001b[38;5;124mf\u001b[39m\u001b[38;5;124m\"\u001b[39m\u001b[38;5;132;01m{\u001b[39;00mtest_ds_list[\u001b[38;5;241m0\u001b[39m][\u001b[38;5;124m'\u001b[39m\u001b[38;5;124mname\u001b[39m\u001b[38;5;124m'\u001b[39m]\u001b[38;5;132;01m}\u001b[39;00m\u001b[38;5;124m.npy\u001b[39m\u001b[38;5;124m\"\u001b[39m) \u001b[38;5;66;03m# [1, n_mel, n_frame]\u001b[39;00m\n\u001b[1;32m      3\u001b[0m x4plot \u001b[38;5;241m=\u001b[39m torch\u001b[38;5;241m.\u001b[39mFloatTensor(x)\u001b[38;5;241m.\u001b[39mto(device)\n\u001b[1;32m      4\u001b[0m x4plot \u001b[38;5;241m=\u001b[39m x4plot\u001b[38;5;241m.\u001b[39msqueeze(\u001b[38;5;241m0\u001b[39m)\u001b[38;5;241m.\u001b[39mcpu()\n",
      "\u001b[0;31mNameError\u001b[0m: name 'np' is not defined"
     ]
    }
   ],
   "source": [
    "# test plot\n",
    "\"\"\"\n",
    "x = np.load(IMEL_DIR_PATH / f\"{test_ds_list[0]['name']}.npy\") # [1, n_mel, n_frame]\n",
    "x4plot = torch.FloatTensor(x).to(device)\n",
    "x4plot = x4plot.squeeze(0).cpu()\n",
    "print(x4plot.shape)\n",
    "fig_meltmp = plot_mel([x4plot], ['mel2wavtmp'])\n",
    "\"\"\""
   ]
  },
  {
   "cell_type": "code",
   "execution_count": null,
   "id": "3b09dbc5-1606-4144-8e31-66b789d807f6",
   "metadata": {},
   "outputs": [],
   "source": []
  }
 ],
 "metadata": {
  "kernelspec": {
   "display_name": "Python 3 (ipykernel)",
   "language": "python",
   "name": "python3"
  },
  "language_info": {
   "codemirror_mode": {
    "name": "ipython",
    "version": 3
   },
   "file_extension": ".py",
   "mimetype": "text/x-python",
   "name": "python",
   "nbconvert_exporter": "python",
   "pygments_lexer": "ipython3",
   "version": "3.10.14"
  }
 },
 "nbformat": 4,
 "nbformat_minor": 5
}

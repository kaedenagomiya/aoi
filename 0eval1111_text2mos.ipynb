{
 "cells": [
  {
   "cell_type": "markdown",
   "id": "7ae9dc35-ed06-4e63-bb10-c9bb06a8b0e8",
   "metadata": {},
   "source": [
    "## text2mos straight eval"
   ]
  },
  {
   "cell_type": "markdown",
   "id": "676822f7-4588-41db-bd6d-7f5077e74009",
   "metadata": {},
   "source": [
    "<span style=\"font-size: 200%; color: red;\">First! check the changing \"your config.yaml\" </span>"
   ]
  },
  {
   "cell_type": "markdown",
   "id": "88c3010d-3fd8-4092-9a4d-3c16649ff1e4",
   "metadata": {},
   "source": [
    "## [seq] import"
   ]
  },
  {
   "cell_type": "code",
   "execution_count": 1,
   "id": "2b85b686-4806-43f8-8cb0-58cc34a4ce64",
   "metadata": {},
   "outputs": [],
   "source": [
    "import os\n",
    "import json\n",
    "import yaml\n",
    "import sys\n",
    "import time\n",
    "import copy\n",
    "import IPython.display as ipd\n",
    "import pprint\n",
    "from pathlib import Path\n",
    "from tqdm import tqdm\n",
    "\n",
    "\n",
    "import numpy as np\n",
    "import torch\n",
    "import torchaudio\n",
    "from librosa.filters import mel as librosa_mel_fn\n",
    "#import matplotlib\n",
    "#matplotlib.use(\"Agg\")\n",
    "import matplotlib.pyplot as plt\n",
    "from scipy.io.wavfile import write\n",
    "\n",
    "\n",
    "import toybox"
   ]
  },
  {
   "cell_type": "code",
   "execution_count": 2,
   "id": "b90f2a7b-29c0-43f6-a69c-d1a0f5c6dce2",
   "metadata": {},
   "outputs": [],
   "source": [
    "def plot_audio(audio, samplerate, title='time-domain waveform'):\n",
    "    \"\"\"\n",
    "    usage:\n",
    "        # audio is [channel, time(num_frames)] ex.torch.Size([1, 68608])\n",
    "        # audio[0,:]: list of 1ch audio data\n",
    "        # audio.shape[1]: int value of 1ch audio data length\n",
    "        audio, sample_rate = torchaudio.load(str(iwav_path))\n",
    "        %matplotlib inline\n",
    "        plot_audio(audio, sample_rate)\n",
    "    \"\"\"\n",
    "    # transform to mono\n",
    "    channel = 0\n",
    "    audio = audio[channel,:].view(1,-1)\n",
    "    # to numpy\n",
    "    audio = audio.to('cpu').detach().numpy().copy()\n",
    "    time = np.linspace(0., audio.shape[1]/samplerate, audio.shape[1])\n",
    "    \n",
    "    fig, ax = plt.subplots(figsize=(12,9))\n",
    "    \n",
    "    ax.plot(time, audio[0, :])\n",
    "    ax.set_title(title, fontsize=20, y=-0.12)\n",
    "    ax.tick_params(direction='in')\n",
    "    #ax.set_xlim(0, 3)\n",
    "    ax.set_xlabel('Time')\n",
    "    ax.set_ylabel('Amp')\n",
    "    #ax.legend()\n",
    "    plt.tight_layout()\n",
    "    fig.canvas.draw()\n",
    "    plt.show()\n",
    "    #fig.savefig('figure.png')\n",
    "    plt.close(fig)\n",
    "    return fig\n",
    "\n",
    "def plot_mel(tensors:list, titles:list[str]):\n",
    "    \"\"\"\n",
    "    usage:\n",
    "        mel = mel_process(...)\n",
    "        fig_mel = plot_mel([mel_groundtruth[0], mel_prediction[0]],\n",
    "                            ['groundtruth', 'inferenced(model)'])\n",
    "\n",
    "    \"\"\"\n",
    "    xlim = max([t.shape[1] for t in tensors])\n",
    "    fig, axs = plt.subplots(nrows=len(tensors),\n",
    "                            ncols=1,\n",
    "                            figsize=(12, 9),\n",
    "                            constrained_layout=True)\n",
    "\n",
    "    if len(tensors) == 1:\n",
    "        axs = [axs]\n",
    "    \n",
    "    for i in range(len(tensors)):\n",
    "        im = axs[i].imshow(tensors[i],\n",
    "                           aspect=\"auto\",\n",
    "                           origin=\"lower\",\n",
    "                           interpolation='none')\n",
    "        #plt.colorbar(im, ax=axs[i])\n",
    "        fig.colorbar(im, ax=axs[i])\n",
    "        axs[i].set_title(titles[i])\n",
    "        axs[i].set_xlim([0, xlim])\n",
    "    fig.canvas.draw()\n",
    "    #plt.show()\n",
    "    #plt.close()\n",
    "    plt.close(fig)  # fig.close() \n",
    "    return fig\n",
    "\n",
    "def convert_phn_to_id(phonemes, phn2id):\n",
    "    \"\"\"\n",
    "    phonemes: phonemes separated by ' '\n",
    "    phn2id: phn2id dict\n",
    "    \"\"\"\n",
    "    return [phn2id[x] for x in ['<bos>'] + phonemes.split(' ') + ['<eos>']]\n",
    "\n",
    "\n",
    "def text2phnid(text, phn2id, language='en', add_blank=True):\n",
    "    if language == 'en':\n",
    "        from text import G2pEn\n",
    "        word2phn = G2pEn()\n",
    "        phonemes = word2phn(text)\n",
    "        if add_blank:\n",
    "            phonemes = ' <blank> '.join(phonemes)\n",
    "        return phonemes, convert_phn_to_id(phonemes, phn2id)\n",
    "    else:\n",
    "        raise ValueError(\n",
    "            'Language should be en (for English)!')"
   ]
  },
  {
   "cell_type": "code",
   "execution_count": 3,
   "id": "57417274-b3ca-41db-b801-0b38abe502d3",
   "metadata": {},
   "outputs": [
    {
     "name": "stdout",
     "output_type": "stream",
     "text": [
      "target_epoch: 1000\n"
     ]
    }
   ],
   "source": [
    "# \n",
    "# ckpt_file_dir: logs4model/<model_name>/<runtime_name>/ckpt/\n",
    "\n",
    "info_models_e500 = [\n",
    "    {\n",
    "        \"model_name\": \"gradtts\",\n",
    "        \"config_path\": \"configs/config_gt_k3.yaml\",\n",
    "        \"runtime_name\": \"run_gt_k3\",\n",
    "        \"ckpt_filename\": \"gradtts_500_397001.pt\"\n",
    "    },\n",
    "    {\n",
    "        \"model_name\": \"gradseptts\",\n",
    "        \"config_path\": \"configs/config_sgt_k3.yaml\",\n",
    "        \"runtime_name\": \"run_sgt_k3\",\n",
    "        \"ckpt_filename\": \"gradseptts_500_397001.pt\"\n",
    "    },\n",
    "    {\n",
    "        \"model_name\": \"gradtfktts\",\n",
    "        \"config_path\": \"configs/config_tfk_k3.yaml\",\n",
    "        \"runtime_name\": \"run_tfk_k3\",\n",
    "        \"ckpt_filename\": \"gradtfktts_500_397001.pt\"\n",
    "    },\n",
    "    {\n",
    "        \"model_name\": \"gradtfk5tts\",\n",
    "        \"config_path\": \"configs/config_tfk_k5.yaml\",\n",
    "        \"runtime_name\": \"run_tfk_k5\",\n",
    "        \"ckpt_filename\": \"gradtfk5tts_500_397001.pt\"\n",
    "    },\n",
    "    {\n",
    "        \"model_name\": \"gradtimektts\",\n",
    "        \"config_path\": \"configs/config_timek_k3.yaml\",\n",
    "        \"runtime_name\": \"run_timek_k3\",\n",
    "        \"ckpt_filename\": \"gradtimektts_500_397001.pt\"\n",
    "    },\n",
    "    {\n",
    "        \"model_name\": \"gradfreqktts\",\n",
    "        \"config_path\": \"configs/config_freqk_k3.yaml\",\n",
    "        \"runtime_name\": \"run_freqk_k3\",\n",
    "        \"ckpt_filename\": \"gradfreqktts_500_397001.pt\"\n",
    "    }\n",
    "]\n",
    "\n",
    "info_models_e1000 = [\n",
    "    {\n",
    "        \"model_name\": \"gradtts\",\n",
    "        \"config_path\": \"configs/config_gt_k3.yaml\",\n",
    "        \"runtime_name\": \"run_gt_k3\",\n",
    "        \"ckpt_filename\": \"gradtts_1000_794002.pt\"\n",
    "    },\n",
    "    {\n",
    "        \"model_name\": \"gradseptts\",\n",
    "        \"config_path\": \"configs/config_sgt_k3.yaml\",\n",
    "        \"runtime_name\": \"run_sgt_k3\",\n",
    "        \"ckpt_filename\": \"gradseptts_1000_794002.pt\"\n",
    "    },\n",
    "    {\n",
    "        \"model_name\": \"gradtfktts\",\n",
    "        \"config_path\": \"configs/config_tfk_k3.yaml\",\n",
    "        \"runtime_name\": \"run_tfk_k3\",\n",
    "        \"ckpt_filename\": \"gradtfktts_1000_794002.pt\"\n",
    "    },\n",
    "    {\n",
    "        \"model_name\": \"gradtfk5tts\",\n",
    "        \"config_path\": \"configs/config_tfk_k5.yaml\",\n",
    "        \"runtime_name\": \"run_tfk_k5\",\n",
    "        \"ckpt_filename\": \"gradtfk5tts_1000_794002.pt\"\n",
    "    },\n",
    "    {\n",
    "        \"model_name\": \"gradtimektts\",\n",
    "        \"config_path\": \"configs/config_timek_k3.yaml\",\n",
    "        \"runtime_name\": \"run_timek_k3\",\n",
    "        \"ckpt_filename\": \"gradtimektts_1000_794002.pt\"\n",
    "    },\n",
    "    {\n",
    "        \"model_name\": \"gradfreqktts\",\n",
    "        \"config_path\": \"configs/config_freqk_k3.yaml\",\n",
    "        \"runtime_name\": \"run_freqk_k3\",\n",
    "        \"ckpt_filename\": \"gradfreqktts_1000_794002.pt\"\n",
    "    }\n",
    "]\n",
    "\n",
    "\n",
    "\n",
    "target_epoch = 1000\n",
    "print(f'target_epoch: {target_epoch}')\n",
    "if target_epoch == 500:\n",
    "    info_models = copy.deepcopy(info_models_e500)\n",
    "elif target_epoch == 1000:\n",
    "    info_models = copy.deepcopy(info_models_e1000)\n",
    "else:\n",
    "    print('Do not supported')"
   ]
  },
  {
   "cell_type": "markdown",
   "id": "804a2d17-d921-4ca8-9599-47659075ace2",
   "metadata": {},
   "source": [
    "you can choose\n",
    "\n",
    "- <span style=\"font-size: 200%; color: red;\">inference section</span>\n",
    "- <span style=\"font-size: 200%; color: red;\">json analysis section</span>\n",
    "\n",
    "if you choose <span style=\"color: red;\">inference section</span>,\n",
    "you keep go ahead below process.\n",
    "\n",
    "but you choose <span style=\"color: red;\">json analysis section</span>,\n",
    "you need to <span style=\"color: blue;\">jump to the end this page</span>."
   ]
  },
  {
   "cell_type": "markdown",
   "id": "52fba750-d859-4ea0-8b07-d2af7da5e829",
   "metadata": {},
   "source": [
    "## [seq] check configuration"
   ]
  },
  {
   "cell_type": "code",
   "execution_count": 4,
   "id": "46f1bd93-99d4-4d12-9c35-404aa6d71e14",
   "metadata": {},
   "outputs": [],
   "source": [
    "# First, please check changing <model_name>\n",
    "config_yaml = 'configs/config_exp_mid.yaml'\n",
    "config = toybox.load_yaml_and_expand_var('configs/config_exp_mid.yaml')"
   ]
  },
  {
   "cell_type": "code",
   "execution_count": 5,
   "id": "96ad072d-8f0a-4d43-b350-eb733ed819b3",
   "metadata": {},
   "outputs": [
    {
     "name": "stdout",
     "output_type": "stream",
     "text": [
      "model_name: gradfreqktts\n",
      "runtime_name: infer4mid\n",
      "ckpt_path: logs4model/gradfreqktts/run_freqk_k3/ckpt/gradfreqktts_1000_794002.pt\n"
     ]
    }
   ],
   "source": [
    "# for model\n",
    "model_name = config['model_name']\n",
    "if model_name == 'gradtts':\n",
    "    choise_idx = 0\n",
    "elif model_name == 'gradseptts':\n",
    "    choise_idx = 1\n",
    "elif model_name == 'gradtfktts':\n",
    "    choise_idx = 2\n",
    "elif model_name == 'gradtfk5tts':\n",
    "    choise_idx = 3\n",
    "elif model_name == 'gradtimektts':\n",
    "    choise_idx = 4\n",
    "elif model_name == 'gradfreqktts':\n",
    "    choise_idx = 5\n",
    "else:\n",
    "    os._exit(os.EX_OK)\n",
    "    print('Alart: carefully chose model ')\n",
    "print(f'model_name: {model_name}')\n",
    "\n",
    "# for runtime to load model\n",
    "runtime_name = config['runtime_name']\n",
    "print(f'runtime_name: {runtime_name}')\n",
    "config_path4model = info_models[choise_idx][\"config_path\"]\n",
    "runtime_name4model = info_models[choise_idx][\"runtime_name\"]\n",
    "ckpt_dir = f'logs4model/{model_name}/{runtime_name4model}/ckpt'\n",
    "ckpt_path = ckpt_dir + \"/\" + info_models[choise_idx][\"ckpt_filename\"]\n",
    "print(f\"ckpt_path: {ckpt_path}\")"
   ]
  },
  {
   "cell_type": "code",
   "execution_count": 6,
   "id": "e9851867-fd21-43ed-b4b8-e0b0296874c0",
   "metadata": {},
   "outputs": [
    {
     "name": "stdout",
     "output_type": "stream",
     "text": [
      "80 1024 22050 256 1024 0 8000 1234\n"
     ]
    }
   ],
   "source": [
    "# for audio params\n",
    "n_mels: int = config['n_mels'] # 80\n",
    "n_fft: int = config['n_fft'] # 1024\n",
    "sample_rate: int = config['sample_rate'] # 22050\n",
    "hop_size: int = config['hop_size'] # 256\n",
    "win_size: int = config['win_size'] # 1024\n",
    "f_min: int = config['f_min'] # 0\n",
    "f_max: int = config['f_max'] # 8000\n",
    "random_seed: int = config['random_seed'] # 1234\n",
    "print(n_mels, n_fft, sample_rate, hop_size, win_size, f_min, f_max, random_seed)"
   ]
  },
  {
   "cell_type": "code",
   "execution_count": 7,
   "id": "2acc1808-3450-44a8-bf1b-52e0d3fc0027",
   "metadata": {},
   "outputs": [
    {
     "name": "stdout",
     "output_type": "stream",
     "text": [
      "phn2id_path: ./configs/phn2id.json\n"
     ]
    }
   ],
   "source": [
    "print(f\"phn2id_path: {config['phn2id_path']}\")\n",
    "with open(config['phn2id_path']) as f:\n",
    "    phn2id = json.load(f)\n",
    "\n",
    "vocab_size = len(phn2id) + 1"
   ]
  },
  {
   "cell_type": "code",
   "execution_count": 8,
   "id": "acdb351d-0d61-4edd-96ff-7b27b07e98db",
   "metadata": {},
   "outputs": [
    {
     "name": "stdout",
     "output_type": "stream",
     "text": [
      "hifigan_randomseed: 1234\n"
     ]
    }
   ],
   "source": [
    "# for hifigan\n",
    "# setting file paths\n",
    "# from https://github.com/huawei-noah/Speech-Backbones/tree/main/Grad-TTS/hifi-gan\n",
    "# https://drive.google.com/drive/folders/1-eEYTB5Av9jNql0WGBlRoi-WH2J7bp5Y?usp=sharing\n",
    "HiFiGAN_CONFIG = './hifigan/official_pretrained/LJ_V2/config.json'\n",
    "HiFiGAN_ckpt = './hifigan/official_pretrained/LJ_V2/generator_v2'\n",
    "\n",
    "from hifigan import models, env\n",
    "\n",
    "with open(HiFiGAN_CONFIG) as f:\n",
    "    hifigan_hparams = env.AttrDict(json.load(f))\n",
    "\n",
    "hifigan_randomseed = hifigan_hparams.seed\n",
    "print(f'hifigan_randomseed: {hifigan_randomseed}')"
   ]
  },
  {
   "cell_type": "markdown",
   "id": "4cd71729-1b21-4393-a10f-f4b20f71354c",
   "metadata": {},
   "source": [
    "## [seq] device setting"
   ]
  },
  {
   "cell_type": "code",
   "execution_count": 9,
   "id": "9e9808b4-2d46-441a-8800-d40415df13a8",
   "metadata": {},
   "outputs": [
    {
     "name": "stdout",
     "output_type": "stream",
     "text": [
      "all cpu at using device: 52\n",
      "Number of available CPU: 4\n"
     ]
    },
    {
     "ename": "RuntimeError",
     "evalue": "Found no NVIDIA driver on your system. Please check that you have an NVIDIA GPU and installed a driver from http://www.nvidia.com/Download/index.aspx",
     "output_type": "error",
     "traceback": [
      "\u001b[0;31m---------------------------------------------------------------------------\u001b[0m",
      "\u001b[0;31mRuntimeError\u001b[0m                              Traceback (most recent call last)",
      "Cell \u001b[0;32mIn[9], line 5\u001b[0m\n\u001b[1;32m      3\u001b[0m \u001b[38;5;28mprint\u001b[39m(\u001b[38;5;124mf\u001b[39m\u001b[38;5;124m\"\u001b[39m\u001b[38;5;124mall cpu at using device: \u001b[39m\u001b[38;5;132;01m{\u001b[39;00mos\u001b[38;5;241m.\u001b[39mcpu_count()\u001b[38;5;132;01m}\u001b[39;00m\u001b[38;5;124m\"\u001b[39m)\n\u001b[1;32m      4\u001b[0m \u001b[38;5;28mprint\u001b[39m(\u001b[38;5;124mf\u001b[39m\u001b[38;5;124m\"\u001b[39m\u001b[38;5;124mNumber of available CPU: \u001b[39m\u001b[38;5;132;01m{\u001b[39;00m\u001b[38;5;28mlen\u001b[39m(os\u001b[38;5;241m.\u001b[39msched_getaffinity(\u001b[38;5;241m0\u001b[39m))\u001b[38;5;132;01m}\u001b[39;00m\u001b[38;5;124m\"\u001b[39m) \u001b[38;5;66;03m# Number of available CPUs can also be obtained. ,use systemcall at linux.\u001b[39;00m\n\u001b[0;32m----> 5\u001b[0m \u001b[38;5;28mprint\u001b[39m(\u001b[38;5;124mf\u001b[39m\u001b[38;5;124m\"\u001b[39m\u001b[38;5;124mGPU_name: \u001b[39m\u001b[38;5;132;01m{\u001b[39;00m\u001b[43mtorch\u001b[49m\u001b[38;5;241;43m.\u001b[39;49m\u001b[43mcuda\u001b[49m\u001b[38;5;241;43m.\u001b[39;49m\u001b[43mget_device_name\u001b[49m\u001b[43m(\u001b[49m\u001b[43m)\u001b[49m\u001b[38;5;132;01m}\u001b[39;00m\u001b[38;5;130;01m\\n\u001b[39;00m\u001b[38;5;124mGPU avail: \u001b[39m\u001b[38;5;132;01m{\u001b[39;00mtorch\u001b[38;5;241m.\u001b[39mcuda\u001b[38;5;241m.\u001b[39mis_available()\u001b[38;5;132;01m}\u001b[39;00m\u001b[38;5;130;01m\\n\u001b[39;00m\u001b[38;5;124m\"\u001b[39m)\n",
      "File \u001b[0;32m~/aoi/.venv/lib/python3.10/site-packages/torch/cuda/__init__.py:414\u001b[0m, in \u001b[0;36mget_device_name\u001b[0;34m(device)\u001b[0m\n\u001b[1;32m    402\u001b[0m \u001b[38;5;28;01mdef\u001b[39;00m \u001b[38;5;21mget_device_name\u001b[39m(device: Optional[_device_t] \u001b[38;5;241m=\u001b[39m \u001b[38;5;28;01mNone\u001b[39;00m) \u001b[38;5;241m-\u001b[39m\u001b[38;5;241m>\u001b[39m \u001b[38;5;28mstr\u001b[39m:\n\u001b[1;32m    403\u001b[0m \u001b[38;5;250m    \u001b[39m\u001b[38;5;124mr\u001b[39m\u001b[38;5;124;03m\"\"\"Get the name of a device.\u001b[39;00m\n\u001b[1;32m    404\u001b[0m \n\u001b[1;32m    405\u001b[0m \u001b[38;5;124;03m    Args:\u001b[39;00m\n\u001b[0;32m   (...)\u001b[0m\n\u001b[1;32m    412\u001b[0m \u001b[38;5;124;03m        str: the name of the device\u001b[39;00m\n\u001b[1;32m    413\u001b[0m \u001b[38;5;124;03m    \"\"\"\u001b[39;00m\n\u001b[0;32m--> 414\u001b[0m     \u001b[38;5;28;01mreturn\u001b[39;00m \u001b[43mget_device_properties\u001b[49m\u001b[43m(\u001b[49m\u001b[43mdevice\u001b[49m\u001b[43m)\u001b[49m\u001b[38;5;241m.\u001b[39mname\n",
      "File \u001b[0;32m~/aoi/.venv/lib/python3.10/site-packages/torch/cuda/__init__.py:444\u001b[0m, in \u001b[0;36mget_device_properties\u001b[0;34m(device)\u001b[0m\n\u001b[1;32m    434\u001b[0m \u001b[38;5;28;01mdef\u001b[39;00m \u001b[38;5;21mget_device_properties\u001b[39m(device: _device_t) \u001b[38;5;241m-\u001b[39m\u001b[38;5;241m>\u001b[39m _CudaDeviceProperties:\n\u001b[1;32m    435\u001b[0m \u001b[38;5;250m    \u001b[39m\u001b[38;5;124mr\u001b[39m\u001b[38;5;124;03m\"\"\"Get the properties of a device.\u001b[39;00m\n\u001b[1;32m    436\u001b[0m \n\u001b[1;32m    437\u001b[0m \u001b[38;5;124;03m    Args:\u001b[39;00m\n\u001b[0;32m   (...)\u001b[0m\n\u001b[1;32m    442\u001b[0m \u001b[38;5;124;03m        _CudaDeviceProperties: the properties of the device\u001b[39;00m\n\u001b[1;32m    443\u001b[0m \u001b[38;5;124;03m    \"\"\"\u001b[39;00m\n\u001b[0;32m--> 444\u001b[0m     \u001b[43m_lazy_init\u001b[49m\u001b[43m(\u001b[49m\u001b[43m)\u001b[49m  \u001b[38;5;66;03m# will define _get_device_properties\u001b[39;00m\n\u001b[1;32m    445\u001b[0m     device \u001b[38;5;241m=\u001b[39m _get_device_index(device, optional\u001b[38;5;241m=\u001b[39m\u001b[38;5;28;01mTrue\u001b[39;00m)\n\u001b[1;32m    446\u001b[0m     \u001b[38;5;28;01mif\u001b[39;00m device \u001b[38;5;241m<\u001b[39m \u001b[38;5;241m0\u001b[39m \u001b[38;5;129;01mor\u001b[39;00m device \u001b[38;5;241m>\u001b[39m\u001b[38;5;241m=\u001b[39m device_count():\n",
      "File \u001b[0;32m~/aoi/.venv/lib/python3.10/site-packages/torch/cuda/__init__.py:293\u001b[0m, in \u001b[0;36m_lazy_init\u001b[0;34m()\u001b[0m\n\u001b[1;32m    291\u001b[0m \u001b[38;5;28;01mif\u001b[39;00m \u001b[38;5;124m\"\u001b[39m\u001b[38;5;124mCUDA_MODULE_LOADING\u001b[39m\u001b[38;5;124m\"\u001b[39m \u001b[38;5;129;01mnot\u001b[39;00m \u001b[38;5;129;01min\u001b[39;00m os\u001b[38;5;241m.\u001b[39menviron:\n\u001b[1;32m    292\u001b[0m     os\u001b[38;5;241m.\u001b[39menviron[\u001b[38;5;124m\"\u001b[39m\u001b[38;5;124mCUDA_MODULE_LOADING\u001b[39m\u001b[38;5;124m\"\u001b[39m] \u001b[38;5;241m=\u001b[39m \u001b[38;5;124m\"\u001b[39m\u001b[38;5;124mLAZY\u001b[39m\u001b[38;5;124m\"\u001b[39m\n\u001b[0;32m--> 293\u001b[0m \u001b[43mtorch\u001b[49m\u001b[38;5;241;43m.\u001b[39;49m\u001b[43m_C\u001b[49m\u001b[38;5;241;43m.\u001b[39;49m\u001b[43m_cuda_init\u001b[49m\u001b[43m(\u001b[49m\u001b[43m)\u001b[49m\n\u001b[1;32m    294\u001b[0m \u001b[38;5;66;03m# Some of the queued calls may reentrantly call _lazy_init();\u001b[39;00m\n\u001b[1;32m    295\u001b[0m \u001b[38;5;66;03m# we need to just return without initializing in that case.\u001b[39;00m\n\u001b[1;32m    296\u001b[0m \u001b[38;5;66;03m# However, we must not let any *other* threads in!\u001b[39;00m\n\u001b[1;32m    297\u001b[0m _tls\u001b[38;5;241m.\u001b[39mis_initializing \u001b[38;5;241m=\u001b[39m \u001b[38;5;28;01mTrue\u001b[39;00m\n",
      "\u001b[0;31mRuntimeError\u001b[0m: Found no NVIDIA driver on your system. Please check that you have an NVIDIA GPU and installed a driver from http://www.nvidia.com/Download/index.aspx"
     ]
    }
   ],
   "source": [
    "import os\n",
    "\n",
    "print(f\"all cpu at using device: {os.cpu_count()}\")\n",
    "print(f\"Number of available CPU: {len(os.sched_getaffinity(0))}\") # Number of available CPUs can also be obtained. ,use systemcall at linux.\n",
    "print(f\"GPU_name: {torch.cuda.get_device_name()}\\nGPU avail: {torch.cuda.is_available()}\\n\")"
   ]
  },
  {
   "cell_type": "code",
   "execution_count": 10,
   "id": "c46cb389-5dcc-4422-a823-d7927450f2ee",
   "metadata": {},
   "outputs": [
    {
     "name": "stdout",
     "output_type": "stream",
     "text": [
      "Not avail cuda\n",
      "use cpu\n",
      "device: cpu\n",
      "device: 1234\n",
      "check for target_epoch: 1000\n"
     ]
    }
   ],
   "source": [
    "DEVICE = 'cpu' # 'cuda' or 'cpu'\n",
    "flag_avail_cuda = torch.cuda.is_available()\n",
    "if flag_avail_cuda == True:\n",
    "    print('avail cuda')\n",
    "    print('use cuda')\n",
    "elif flag_avail_cuda == False and DEVICE=='cpu':\n",
    "    print('Not avail cuda')\n",
    "    print('use cpu')\n",
    "else:\n",
    "    os._exit(os.EX_OK)\n",
    "\n",
    "device = torch.device(DEVICE)\n",
    "print(f'device: {device}')\n",
    "\n",
    "# setting random_seed ==============\n",
    "print(f'device: {random_seed}')\n",
    "toybox.set_seed(random_seed)\n",
    "\n",
    "# reprint target epoch for ckpt\n",
    "print(f'check for target_epoch: {target_epoch}')"
   ]
  },
  {
   "cell_type": "code",
   "execution_count": 11,
   "id": "cc707e28-03b5-4f50-bbb2-501d798e85d8",
   "metadata": {},
   "outputs": [
    {
     "name": "stdout",
     "output_type": "stream",
     "text": [
      "cpu\n"
     ]
    }
   ],
   "source": [
    "print(str(torch.get_default_device()))"
   ]
  },
  {
   "cell_type": "markdown",
   "id": "2a7175f4-60a0-4d37-afa9-b7bdc167bbfe",
   "metadata": {},
   "source": [
    "## [seq] setting path"
   ]
  },
  {
   "cell_type": "code",
   "execution_count": 12,
   "id": "d3880aa0-55de-422a-acdd-8dbf486286e3",
   "metadata": {},
   "outputs": [
    {
     "name": "stdout",
     "output_type": "stream",
     "text": [
      "RESULT_DIR_PATH: result4eval/infer4mid/gradfreqktts/cpu/e1000\n"
     ]
    }
   ],
   "source": [
    "# for test_dataset\n",
    "# RESULT_DIR_PATH = RESULT_DIR_PATH\n",
    "# RESULT_MEL_DIR_PATH = IMEL_DIR_PATH\n",
    "# RESULT_WAV_DIR_PATH = IWAV_DIR_PATH\n",
    "# RESULT_JSON_DIR_PATH = RESULT_JSON_PATH\n",
    "test_ds_path = Path(config['test_datalist_path'])\n",
    "\n",
    "# text2mel\n",
    "#RESULT_DIR_PATH = Path(f'./result4eval/{runtime_name}/{model_name}/{DEVICE}')\n",
    "#RESULT_MEL_DIR_PATH = RESULT_DIR_PATH / 'mel'\n",
    "#print(RESULT_MEL_DIR_PATH)\n",
    "\n",
    "# mel2wav\n",
    "#IMEL_DIR_PATH = Path(f'./result4eval/{runtime_name}/{model_name}/{DEVICE}/mel')\n",
    "#RESULT_DIR_PATH = Path(f'./result4eval/{runtime_name}/{model_name}/{DEVICE}')\n",
    "#RESULT_WAV_DIR_PATH = RESULT_DIR_PATH / 'wav'\n",
    "\n",
    "# for utmos\n",
    "#IWAV_DIR_PATH = Path(f'./result4eval/{runtime_name}/{model_name}/{DEVICE}/wav')\n",
    "#RESULT_DIR_PATH = Path(f'./result4eval/{runtime_name}/{model_name}/{DEVICE}')\n",
    "#RESULT_JSON_DIR_PATH = RESULT_DIR_PATH / RESULTS_JSON_NAME\n",
    "\n",
    "if model_name == 'groundtruth':\n",
    "    # for mel2wav\n",
    "    #IMEL_DIR_PATH = Path('./result4eval/infer4PBL/groundtruth/cuda/mel/')\n",
    "    RESULT_MEL_DIR_PATH = Path('./result4eval/infer4PBL/groundtruth/cuda/mel/')\n",
    "    # for utmos\n",
    "    #/result4eval/infer4PBL/groundtruth/cuda/\n",
    "    #IWAV_DIR_PATH = Path('./result4eval/infer4PBL/groundtruth/cuda/wav/')\n",
    "    RESULT_WAV_DIR_PATH = Path('./result4eval/infer4PBL/groundtruth/cuda/wav/')\n",
    "    RESULT_DIR_PATH = Path(f'./result4eval/{runtime_name}/{model_name}')\n",
    "\n",
    "# style for mid\n",
    "#RESULTS_JSON_NAME = 'eval4mid.json'\n",
    "#RESULT_DIR_PATH = Path(f'./result4eval/{runtime_name}/{model_name}/{DEVICE}')\n",
    "#RESULT_MEL_DIR_PATH = RESULT_DIR_PATH / 'mel'\n",
    "#RESULT_WAV_DIR_PATH = RESULT_DIR_PATH / 'wav'\n",
    "#RESULT_JSON_PATH = RESULT_DIR_PATH / RESULTS_JSON_NAME\n",
    "\n",
    "RESULTS_JSON_NAME = 'eval4mid.json'\n",
    "RESULT_DIR_PATH = Path(f'./result4eval/{runtime_name}/{model_name}/{DEVICE}/{\"e\"+str(target_epoch)}')\n",
    "RESULT_MEL_DIR_PATH = RESULT_DIR_PATH / 'mel'\n",
    "RESULT_WAV_DIR_PATH = RESULT_DIR_PATH / 'wav'\n",
    "RESULT_JSON_PATH = RESULT_DIR_PATH / RESULTS_JSON_NAME\n",
    "RESULTS_JSON_NAME = 'eval4mid.json'\n",
    "print(f'RESULT_DIR_PATH: {RESULT_DIR_PATH}')"
   ]
  },
  {
   "cell_type": "code",
   "execution_count": 14,
   "id": "31e3b4c3-0960-41e9-948e-65722acbe5db",
   "metadata": {},
   "outputs": [
    {
     "name": "stdout",
     "output_type": "stream",
     "text": [
      "test_ds_path-----------------------------------------\n",
      "Exists configs/test_dataset.json\n",
      "loaded configs/test_dataset.json\n",
      "RESULT_DIR_PATH-------------------------------------------\n",
      "Exists result4eval/infer4mid/gradfreqktts/cpu/e1000\n",
      "RESULT_MEL_DIR_PATH-------------------------------------------\n",
      "Exists result4eval/infer4mid/gradfreqktts/cpu/e1000/mel\n",
      "RESULT_WAV_DIR_PATH-------------------------------------------\n",
      "Exists result4eval/infer4mid/gradfreqktts/cpu/e1000/wav\n",
      "RESULT_JSON_PATH-------------------------------------------\n",
      "No exist result4eval/infer4mid/gradfreqktts/cpu/e1000/eval4mid.json\n"
     ]
    }
   ],
   "source": [
    "# check path\n",
    "\n",
    "# for text2mel\n",
    "print('test_ds_path-----------------------------------------')\n",
    "if test_ds_path.exists():\n",
    "    print(f'Exists {str(test_ds_path)}')\n",
    "    with open(config['test_datalist_path']) as j:\n",
    "        test_ds_list = json.load(j)\n",
    "    print(f'loaded {test_ds_path}')\n",
    "else:\n",
    "    print(f'No exist {test_ds_path}')\n",
    "\n",
    "print('RESULT_DIR_PATH-------------------------------------------')\n",
    "if RESULT_DIR_PATH.exists():\n",
    "    print(f'Exists {RESULT_DIR_PATH}')\n",
    "else:\n",
    "    RESULT_DIR_PATH.mkdir(parents=True)\n",
    "    print(f'No exist {RESULT_DIR_PATH}')\n",
    "\n",
    "print('RESULT_MEL_DIR_PATH-------------------------------------------')\n",
    "if RESULT_MEL_DIR_PATH.exists():\n",
    "    print(f'Exists {RESULT_MEL_DIR_PATH}')\n",
    "else:\n",
    "    RESULT_MEL_DIR_PATH.mkdir(parents=True)\n",
    "    print(f'No exist {RESULT_MEL_DIR_PATH}')\n",
    "\n",
    "print('RESULT_WAV_DIR_PATH-------------------------------------------')\n",
    "if RESULT_WAV_DIR_PATH.exists():\n",
    "    print(f'Exists {RESULT_WAV_DIR_PATH}')\n",
    "else:\n",
    "    RESULT_WAV_DIR_PATH.mkdir(parents=True)\n",
    "    print(f'No exist {RESULT_WAV_DIR_PATH}')\n",
    "\n",
    "print('RESULT_JSON_PATH-------------------------------------------')\n",
    "if RESULT_JSON_PATH.exists():\n",
    "    print(f'Exists {RESULT_JSON_PATH}')\n",
    "else:\n",
    "    #RESULT_DIR_PATH.mkdir(parents=True)\n",
    "    print(f'No exist {RESULT_JSON_PATH}')"
   ]
  },
  {
   "cell_type": "markdown",
   "id": "5ceee4e3-1b1e-4327-96c4-ba9f76d70355",
   "metadata": {},
   "source": [
    "## [seq] load Model"
   ]
  },
  {
   "cell_type": "code",
   "execution_count": 15,
   "id": "8f010038-ebc0-4d7c-af4f-5a8ecb067a88",
   "metadata": {},
   "outputs": [
    {
     "name": "stdout",
     "output_type": "stream",
     "text": [
      "gradfreqktts\n",
      "[seq] loading Model\n",
      "loading diffusion-TTS ===================================\n",
      "loading  logs4model/gradfreqktts/run_freqk_k3/ckpt/gradfreqktts_1000_794002.pt\n",
      "[seq] Initializing diffusion-TTS...\n",
      "Number of encoder + duration predictor parameters: 3.549137m\n",
      "Number of decoder parameters: 2.013391m\n",
      "Total parameters: 5.562528m\n",
      "loading HiFi-GAN ===================================\n",
      "[seq] loading HiFiGAN\n"
     ]
    },
    {
     "name": "stderr",
     "output_type": "stream",
     "text": [
      "/work/sora-sa/aoi/.venv/lib/python3.10/site-packages/torch/nn/utils/weight_norm.py:28: UserWarning: torch.nn.utils.weight_norm is deprecated in favor of torch.nn.utils.parametrizations.weight_norm.\n",
      "  warnings.warn(\"torch.nn.utils.weight_norm is deprecated in favor of torch.nn.utils.parametrizations.weight_norm.\")\n"
     ]
    },
    {
     "name": "stdout",
     "output_type": "stream",
     "text": [
      "Removing weight norm...\n",
      "loading UTMOS ===================================\n"
     ]
    },
    {
     "name": "stderr",
     "output_type": "stream",
     "text": [
      "Using cache found in /work/sora-sa/.cache/torch/hub/tarepan_SpeechMOS_v1.2.0\n"
     ]
    }
   ],
   "source": [
    "# import models\n",
    "from gradtts import GradTTS\n",
    "from gradseptts import GradSepTTS\n",
    "from gradtfktts import GradTFKTTS\n",
    "from gradtfk5tts import GradTFKTTS as GradTFK5TTS\n",
    "from gradtimektts import GradTimeKTTS\n",
    "from gradfreqktts import GradFreqKTTS\n",
    "from gradtfkfultts import GradTFKFULTTS\n",
    "\n",
    "print(model_name)\n",
    "print(\"[seq] loading Model\")\n",
    "\n",
    "print(\"loading diffusion-TTS ===================================\")\n",
    "N_STEP = 50\n",
    "TEMP = 1.5\n",
    "\n",
    "print('loading ', ckpt_path)\n",
    "_, _, state_dict = torch.load(ckpt_path,\n",
    "                            map_location=device)\n",
    "\n",
    "#with open(config_path4model) as f:\n",
    "#    config = yaml.load(f, yaml.SafeLoader)\n",
    "config4model = toybox.load_yaml_and_expand_var(config_path4model)\n",
    "\n",
    "print(\"[seq] Initializing diffusion-TTS...\")\n",
    "if model_name == \"gradtts\":\n",
    "    model = GradTTS.build_model(config4model, vocab_size)\n",
    "elif model_name == \"gradseptts\":\n",
    "    model = GradSepTTS.build_model(config4model, vocab_size)\n",
    "elif model_name == \"gradtfktts\":\n",
    "    model = GradTFKTTS.build_model(config4model, vocab_size)\n",
    "elif model_name == \"gradtfk5tts\":\n",
    "    model = GradTFK5TTS.build_model(config4model, vocab_size)\n",
    "elif model_name == \"gradtfkfultts\":\n",
    "    model = GradTFKFULTTS.build_model(config4model, vocab_size)\n",
    "elif model_name == \"gradtimektts\":\n",
    "    model = GradTimeKTTS.build_model(config4model, vocab_size)\n",
    "elif model_name == \"gradfreqktts\":\n",
    "    model = GradFreqKTTS.build_model(config4model, vocab_size)\n",
    "else:\n",
    "    raise ValueError(f\"Error: '{model_name}' is not supported\")\n",
    "\n",
    "model = model.to(device)\n",
    "model.load_state_dict(state_dict)\n",
    "print(f'Number of encoder + duration predictor parameters: {model.encoder.nparams/1e6}m')\n",
    "print(f'Number of decoder parameters: {model.decoder.nparams/1e6}m')\n",
    "print(f'Total parameters: {model.nparams/1e6}m')\n",
    "\n",
    "print(\"loading HiFi-GAN ===================================\")\n",
    "\"\"\"\n",
    "#setting file paths\n",
    "# from https://github.com/huawei-noah/Speech-Backbones/tree/main/Grad-TTS/hifi-gan\n",
    "# https://drive.google.com/drive/folders/1-eEYTB5Av9jNql0WGBlRoi-WH2J7bp5Y?usp=sharing\n",
    "HiFiGAN_CONFIG = './hifigan/official_pretrained/LJ_V2/config.json'\n",
    "HiFiGAN_ckpt = './hifigan/official_pretrained/LJ_V2/generator_v2'\n",
    "\n",
    "from hifigan import models, env\n",
    "\n",
    "with open(HiFiGAN_CONFIG) as f:\n",
    "    hifigan_hparams = env.AttrDict(json.load(f))\n",
    "\n",
    "hifigan_randomseed = hifigan_hparams.seed\n",
    "print(f'hifigan_randomseed: {hifigan_randomseed}')\n",
    "\"\"\"\n",
    "# generator ===================\n",
    "print(\"[seq] loading HiFiGAN\")\n",
    "vocoder = models.Generator(hifigan_hparams)\n",
    "\n",
    "vocoder.load_state_dict(torch.load(\n",
    "    HiFiGAN_ckpt, map_location=device)['generator'])\n",
    "vocoder = vocoder.eval().to(device)\n",
    "vocoder.remove_weight_norm()\n",
    "\n",
    "print(\"loading UTMOS ===================================\")\n",
    "predictor_utmos = torch.hub.load(\"tarepan/SpeechMOS:v1.2.0\", \"utmos22_strong\", trust_repo=True)\n",
    "\n"
   ]
  },
  {
   "cell_type": "code",
   "execution_count": 16,
   "id": "8420b549-57fc-4bdf-88a6-11afe8a57f80",
   "metadata": {},
   "outputs": [
    {
     "data": {
      "text/plain": [
       "\"\\nttext = test_ds_list[0]['text']\\ntphonemes, tphnid = text2phnid(ttext, phn2id, 'en')\\nprint(tphonemes)\\nprint(len(tphonemes))\\nprint(len(tphnid))\\n\\ntphnid_len = torch.tensor(len(tphnid), dtype=torch.long).unsqueeze(0).to(device)\\ntphnid = torch.tensor(tphnid).unsqueeze(0).to(device)\\nprint(tphnid_len)\\nprint(tphnid)\\n\""
      ]
     },
     "execution_count": 16,
     "metadata": {},
     "output_type": "execute_result"
    }
   ],
   "source": [
    "\"\"\"\n",
    "ttext = test_ds_list[0]['text']\n",
    "tphonemes, tphnid = text2phnid(ttext, phn2id, 'en')\n",
    "print(tphonemes)\n",
    "print(len(tphonemes))\n",
    "print(len(tphnid))\n",
    "\n",
    "tphnid_len = torch.tensor(len(tphnid), dtype=torch.long).unsqueeze(0).to(device)\n",
    "tphnid = torch.tensor(tphnid).unsqueeze(0).to(device)\n",
    "print(tphnid_len)\n",
    "print(tphnid)\n",
    "\"\"\""
   ]
  },
  {
   "cell_type": "markdown",
   "id": "3b4bebc0-0462-41f1-aa23-e52ff6b82ab7",
   "metadata": {},
   "source": [
    "## [seq] infer"
   ]
  },
  {
   "cell_type": "code",
   "execution_count": 17,
   "id": "29d272ec-5fce-41b3-8c5f-c4b6bfe03ae3",
   "metadata": {},
   "outputs": [
    {
     "name": "stdout",
     "output_type": "stream",
     "text": [
      "infer_data_num: 101\n",
      "RESULT_DIR_PATH: result4eval/infer4mid/gradfreqktts/cpu/e1000\n",
      "RESULT_MEL_DIR_PATH: result4eval/infer4mid/gradfreqktts/cpu/e1000/mel\n",
      "RESULT_WAV_DIR_PATH: result4eval/infer4mid/gradfreqktts/cpu/e1000/wav\n",
      "RESULT_JSON_PATH: result4eval/infer4mid/gradfreqktts/cpu/e1000/eval4mid.json\n"
     ]
    }
   ],
   "source": [
    "infer_data_num: int = 101 #len(test_ds_list) is 200\n",
    "print(f'infer_data_num: {infer_data_num}')\n",
    "print(f'RESULT_DIR_PATH: {RESULT_DIR_PATH}')\n",
    "print(f'RESULT_MEL_DIR_PATH: {RESULT_MEL_DIR_PATH}')\n",
    "print(f'RESULT_WAV_DIR_PATH: {RESULT_WAV_DIR_PATH}')\n",
    "print(f'RESULT_JSON_PATH: {RESULT_JSON_PATH}')"
   ]
  },
  {
   "cell_type": "code",
   "execution_count": 18,
   "id": "aa79315a-62ff-4c42-8a17-df44196d988c",
   "metadata": {},
   "outputs": [],
   "source": [
    "#a_num = range(90,101)\n",
    "#print(range(infer_data_num)[-1])\n",
    "#print(a_num[-1])"
   ]
  },
  {
   "cell_type": "code",
   "execution_count": 19,
   "id": "d69a9dc8-692f-4238-a901-6703f30f2b38",
   "metadata": {},
   "outputs": [
    {
     "name": "stderr",
     "output_type": "stream",
     "text": [
      "  0%|                                                                                                     | 0/101 [00:00<?, ?it/s]"
     ]
    },
    {
     "name": "stdout",
     "output_type": "stream",
     "text": [
      "test_ds_index_0: LJ045-0049\n",
      "[seq]text2mel\n",
      "phonemes_len: 1127\n",
      "phnid_len: 215\n",
      "gradfreqktts dt: 22.842133776284754\n",
      "gradfreqktts RTF: 2.8848346417194306\n",
      "[seq]mel2wav\n",
      "[seq]wav2utmos\n"
     ]
    },
    {
     "name": "stderr",
     "output_type": "stream",
     "text": [
      "  1%|▉                                                                                          | 1/101 [00:48<1:21:15, 48.76s/it]"
     ]
    },
    {
     "name": "stdout",
     "output_type": "stream",
     "text": [
      "utmos: 3.8492660522460938\n",
      "test_ds_index_1: LJ017-0027\n",
      "[seq]text2mel\n",
      "phonemes_len: 411\n",
      "phnid_len: 79\n",
      "gradfreqktts dt: 5.010633602272719\n",
      "gradfreqktts RTF: 1.80577391033789\n",
      "[seq]mel2wav\n",
      "[seq]wav2utmos\n"
     ]
    },
    {
     "name": "stderr",
     "output_type": "stream",
     "text": [
      "  2%|█▊                                                                                           | 2/101 [00:56<40:20, 24.45s/it]"
     ]
    },
    {
     "name": "stdout",
     "output_type": "stream",
     "text": [
      "utmos: 4.283524513244629\n",
      "test_ds_index_2: LJ023-0031\n",
      "[seq]text2mel\n",
      "phonemes_len: 223\n",
      "phnid_len: 45\n",
      "gradfreqktts dt: 3.5765119860880077\n",
      "gradfreqktts RTF: 1.855753230733259\n",
      "[seq]mel2wav\n"
     ]
    },
    {
     "name": "stderr",
     "output_type": "stream",
     "text": [
      "  3%|██▊                                                                                          | 3/101 [01:01<25:47, 15.79s/it]"
     ]
    },
    {
     "name": "stdout",
     "output_type": "stream",
     "text": [
      "[seq]wav2utmos\n",
      "utmos: 3.367459297180176\n",
      "test_ds_index_3: LJ032-0046\n",
      "[seq]text2mel\n",
      "phonemes_len: 650\n",
      "phnid_len: 125\n",
      "gradfreqktts dt: 7.788422550074756\n",
      "gradfreqktts RTF: 1.5315952949231983\n",
      "[seq]mel2wav\n",
      "[seq]wav2utmos\n"
     ]
    },
    {
     "name": "stderr",
     "output_type": "stream",
     "text": [
      "  4%|███▋                                                                                         | 4/101 [01:13<23:08, 14.31s/it]"
     ]
    },
    {
     "name": "stdout",
     "output_type": "stream",
     "text": [
      "utmos: 3.553670644760132\n",
      "test_ds_index_4: LJ030-0026\n",
      "[seq]text2mel\n",
      "phonemes_len: 1025\n",
      "phnid_len: 195\n",
      "gradfreqktts dt: 12.226165103726089\n",
      "gradfreqktts RTF: 1.6251141766562998\n",
      "[seq]mel2wav\n",
      "[seq]wav2utmos\n"
     ]
    },
    {
     "name": "stderr",
     "output_type": "stream",
     "text": [
      "  5%|████▌                                                                                        | 5/101 [01:31<24:53, 15.56s/it]"
     ]
    },
    {
     "name": "stdout",
     "output_type": "stream",
     "text": [
      "utmos: 3.5788278579711914\n",
      "test_ds_index_5: LJ020-0041\n",
      "[seq]text2mel\n",
      "phonemes_len: 1154\n",
      "phnid_len: 219\n",
      "gradfreqktts dt: 13.538582754321396\n",
      "gradfreqktts RTF: 1.530336233456297\n",
      "[seq]mel2wav\n",
      "[seq]wav2utmos\n"
     ]
    },
    {
     "name": "stderr",
     "output_type": "stream",
     "text": [
      "  6%|█████▌                                                                                       | 6/101 [01:51<27:02, 17.08s/it]"
     ]
    },
    {
     "name": "stdout",
     "output_type": "stream",
     "text": [
      "utmos: 4.138723373413086\n",
      "test_ds_index_6: LJ001-0070\n",
      "[seq]text2mel\n",
      "phonemes_len: 1137\n",
      "phnid_len: 215\n",
      "gradfreqktts dt: 11.898073677904904\n",
      "gradfreqktts RTF: 1.4852384771161862\n",
      "[seq]mel2wav\n",
      "[seq]wav2utmos\n"
     ]
    },
    {
     "name": "stderr",
     "output_type": "stream",
     "text": [
      "  7%|██████▍                                                                                      | 7/101 [02:09<27:03, 17.27s/it]"
     ]
    },
    {
     "name": "stdout",
     "output_type": "stream",
     "text": [
      "utmos: 4.254480361938477\n",
      "test_ds_index_7: LJ019-0334\n",
      "[seq]text2mel\n",
      "phonemes_len: 611\n",
      "phnid_len: 117\n",
      "gradfreqktts dt: 6.345174660906196\n",
      "gradfreqktts RTF: 1.5055860588087726\n",
      "[seq]mel2wav\n",
      "[seq]wav2utmos\n"
     ]
    },
    {
     "name": "stderr",
     "output_type": "stream",
     "text": [
      "  8%|███████▎                                                                                     | 8/101 [02:18<22:59, 14.83s/it]"
     ]
    },
    {
     "name": "stdout",
     "output_type": "stream",
     "text": [
      "utmos: 3.996896982192993\n",
      "test_ds_index_8: LJ022-0152\n",
      "[seq]text2mel\n",
      "phonemes_len: 387\n",
      "phnid_len: 75\n",
      "gradfreqktts dt: 5.020624415948987\n",
      "gradfreqktts RTF: 1.5611570449525491\n",
      "[seq]mel2wav\n",
      "[seq]wav2utmos\n"
     ]
    },
    {
     "name": "stderr",
     "output_type": "stream",
     "text": [
      "  9%|████████▎                                                                                    | 9/101 [02:26<19:22, 12.63s/it]"
     ]
    },
    {
     "name": "stdout",
     "output_type": "stream",
     "text": [
      "utmos: 3.4685163497924805\n",
      "test_ds_index_9: LJ050-0154\n",
      "[seq]text2mel\n",
      "phonemes_len: 896\n",
      "phnid_len: 171\n",
      "gradfreqktts dt: 10.18163893930614\n",
      "gradfreqktts RTF: 1.5278278705608965\n",
      "[seq]mel2wav\n",
      "[seq]wav2utmos\n"
     ]
    },
    {
     "name": "stderr",
     "output_type": "stream",
     "text": [
      " 10%|█████████                                                                                   | 10/101 [02:41<20:07, 13.27s/it]"
     ]
    },
    {
     "name": "stdout",
     "output_type": "stream",
     "text": [
      "utmos: 3.658318042755127\n",
      "test_ds_index_10: LJ016-0045\n",
      "[seq]text2mel\n",
      "phonemes_len: 1237\n",
      "phnid_len: 235\n",
      "gradfreqktts dt: 13.453371810726821\n",
      "gradfreqktts RTF: 1.4875182948217187\n",
      "[seq]mel2wav\n",
      "[seq]wav2utmos\n"
     ]
    },
    {
     "name": "stderr",
     "output_type": "stream",
     "text": [
      " 11%|██████████                                                                                  | 11/101 [03:01<22:58, 15.32s/it]"
     ]
    },
    {
     "name": "stdout",
     "output_type": "stream",
     "text": [
      "utmos: 3.7614963054656982\n",
      "test_ds_index_11: LJ036-0100\n",
      "[seq]text2mel\n",
      "phonemes_len: 802\n",
      "phnid_len: 153\n",
      "gradfreqktts dt: 9.975741758011281\n",
      "gradfreqktts RTF: 1.5288944740057047\n",
      "[seq]mel2wav\n",
      "[seq]wav2utmos\n"
     ]
    },
    {
     "name": "stderr",
     "output_type": "stream",
     "text": [
      " 12%|██████████▉                                                                                 | 12/101 [03:16<22:33, 15.21s/it]"
     ]
    },
    {
     "name": "stdout",
     "output_type": "stream",
     "text": [
      "utmos: 3.7927186489105225\n",
      "test_ds_index_12: LJ046-0016\n",
      "[seq]text2mel\n",
      "phonemes_len: 884\n",
      "phnid_len: 167\n",
      "gradfreqktts dt: 9.07360673788935\n",
      "gradfreqktts RTF: 1.4886386054349714\n",
      "[seq]mel2wav\n",
      "[seq]wav2utmos\n"
     ]
    },
    {
     "name": "stderr",
     "output_type": "stream",
     "text": [
      " 13%|███████████▊                                                                                | 13/101 [03:30<21:43, 14.82s/it]"
     ]
    },
    {
     "name": "stdout",
     "output_type": "stream",
     "text": [
      "utmos: 4.318185806274414\n",
      "test_ds_index_13: LJ048-0085\n",
      "[seq]text2mel\n",
      "phonemes_len: 1181\n",
      "phnid_len: 223\n",
      "gradfreqktts dt: 12.299596666824073\n",
      "gradfreqktts RTF: 1.4921110613087083\n",
      "[seq]mel2wav\n",
      "[seq]wav2utmos\n"
     ]
    },
    {
     "name": "stderr",
     "output_type": "stream",
     "text": [
      " 14%|████████████▊                                                                               | 14/101 [03:48<23:13, 16.02s/it]"
     ]
    },
    {
     "name": "stdout",
     "output_type": "stream",
     "text": [
      "utmos: 4.168603897094727\n",
      "test_ds_index_14: LJ050-0197\n",
      "[seq]text2mel\n",
      "phonemes_len: 282\n",
      "phnid_len: 55\n",
      "gradfreqktts dt: 3.6492992620915174\n",
      "gradfreqktts RTF: 1.756002285464341\n",
      "[seq]mel2wav\n",
      "[seq]wav2utmos\n"
     ]
    },
    {
     "name": "stderr",
     "output_type": "stream",
     "text": [
      " 15%|█████████████▋                                                                              | 15/101 [03:54<18:31, 12.92s/it]"
     ]
    },
    {
     "name": "stdout",
     "output_type": "stream",
     "text": [
      "utmos: 4.066720962524414\n",
      "test_ds_index_15: LJ050-0178\n",
      "[seq]text2mel\n",
      "phonemes_len: 709\n",
      "phnid_len: 135\n",
      "gradfreqktts dt: 7.979936700779945\n",
      "gradfreqktts RTF: 1.555055184638343\n",
      "[seq]mel2wav\n",
      "[seq]wav2utmos\n"
     ]
    },
    {
     "name": "stderr",
     "output_type": "stream",
     "text": [
      " 16%|██████████████▌                                                                             | 16/101 [04:06<17:54, 12.64s/it]"
     ]
    },
    {
     "name": "stdout",
     "output_type": "stream",
     "text": [
      "utmos: 4.084699630737305\n",
      "test_ds_index_16: LJ043-0079\n",
      "[seq]text2mel\n",
      "phonemes_len: 1445\n",
      "phnid_len: 273\n",
      "gradfreqktts dt: 20.113505525980145\n",
      "gradfreqktts RTF: 1.7878563469421689\n",
      "[seq]mel2wav\n",
      "[seq]wav2utmos\n"
     ]
    },
    {
     "name": "stderr",
     "output_type": "stream",
     "text": [
      " 17%|███████████████▍                                                                            | 17/101 [04:35<24:24, 17.44s/it]"
     ]
    },
    {
     "name": "stdout",
     "output_type": "stream",
     "text": [
      "utmos: 4.227631092071533\n",
      "test_ds_index_17: LJ050-0207\n",
      "[seq]text2mel\n",
      "phonemes_len: 737\n",
      "phnid_len: 141\n",
      "gradfreqktts dt: 8.318897793069482\n",
      "gradfreqktts RTF: 1.561067677161476\n",
      "[seq]mel2wav\n",
      "[seq]wav2utmos\n"
     ]
    },
    {
     "name": "stderr",
     "output_type": "stream",
     "text": [
      " 18%|████████████████▍                                                                           | 18/101 [04:47<22:05, 15.97s/it]"
     ]
    },
    {
     "name": "stdout",
     "output_type": "stream",
     "text": [
      "utmos: 3.8534200191497803\n",
      "test_ds_index_18: LJ034-0005\n",
      "[seq]text2mel\n",
      "phonemes_len: 1442\n",
      "phnid_len: 273\n",
      "gradfreqktts dt: 22.656556345988065\n",
      "gradfreqktts RTF: 2.0938550639964326\n",
      "[seq]mel2wav\n",
      "[seq]wav2utmos\n"
     ]
    },
    {
     "name": "stderr",
     "output_type": "stream",
     "text": [
      " 19%|█████████████████▎                                                                          | 19/101 [05:18<27:50, 20.38s/it]"
     ]
    },
    {
     "name": "stdout",
     "output_type": "stream",
     "text": [
      "utmos: 3.801114320755005\n",
      "test_ds_index_19: LJ031-0151\n",
      "[seq]text2mel\n",
      "phonemes_len: 1203\n",
      "phnid_len: 227\n",
      "gradfreqktts dt: 13.984741198830307\n",
      "gradfreqktts RTF: 1.7110015504827785\n",
      "[seq]mel2wav\n",
      "[seq]wav2utmos\n"
     ]
    },
    {
     "name": "stderr",
     "output_type": "stream",
     "text": [
      " 20%|██████████████████▏                                                                         | 20/101 [05:38<27:30, 20.38s/it]"
     ]
    },
    {
     "name": "stdout",
     "output_type": "stream",
     "text": [
      "utmos: 4.110653877258301\n",
      "test_ds_index_20: LJ023-0021\n",
      "[seq]text2mel\n",
      "phonemes_len: 564\n",
      "phnid_len: 109\n",
      "gradfreqktts dt: 6.217736491933465\n",
      "gradfreqktts RTF: 1.5891724968371304\n",
      "[seq]mel2wav\n",
      "[seq]wav2utmos\n"
     ]
    },
    {
     "name": "stderr",
     "output_type": "stream",
     "text": [
      " 21%|███████████████████▏                                                                        | 21/101 [05:48<22:50, 17.13s/it]"
     ]
    },
    {
     "name": "stdout",
     "output_type": "stream",
     "text": [
      "utmos: 4.3260626792907715\n",
      "test_ds_index_21: LJ015-0301\n",
      "[seq]text2mel\n",
      "phonemes_len: 780\n",
      "phnid_len: 149\n",
      "gradfreqktts dt: 9.3972298479639\n",
      "gradfreqktts RTF: 1.5129155822693048\n",
      "[seq]mel2wav\n",
      "[seq]wav2utmos\n"
     ]
    },
    {
     "name": "stderr",
     "output_type": "stream",
     "text": [
      " 22%|████████████████████                                                                        | 22/101 [06:02<21:27, 16.30s/it]"
     ]
    },
    {
     "name": "stdout",
     "output_type": "stream",
     "text": [
      "utmos: 4.039696216583252\n",
      "test_ds_index_22: LJ021-0153\n",
      "[seq]text2mel\n",
      "phonemes_len: 320\n",
      "phnid_len: 63\n",
      "gradfreqktts dt: 4.6432925700210035\n",
      "gradfreqktts RTF: 1.7775104369611654\n",
      "[seq]mel2wav\n"
     ]
    },
    {
     "name": "stderr",
     "output_type": "stream",
     "text": [
      " 23%|████████████████████▉                                                                       | 23/101 [06:10<17:43, 13.63s/it]"
     ]
    },
    {
     "name": "stdout",
     "output_type": "stream",
     "text": [
      "[seq]wav2utmos\n",
      "utmos: 3.0826258659362793\n",
      "test_ds_index_23: LJ014-0037\n",
      "[seq]text2mel\n",
      "phonemes_len: 365\n",
      "phnid_len: 71\n",
      "gradfreqktts dt: 5.056643248070031\n",
      "gradfreqktts RTF: 1.6687467615532836\n",
      "[seq]mel2wav\n"
     ]
    },
    {
     "name": "stderr",
     "output_type": "stream",
     "text": [
      " 24%|█████████████████████▊                                                                      | 24/101 [06:17<15:14, 11.88s/it]"
     ]
    },
    {
     "name": "stdout",
     "output_type": "stream",
     "text": [
      "[seq]wav2utmos\n",
      "utmos: 3.8680949211120605\n",
      "test_ds_index_24: LJ004-0200\n",
      "[seq]text2mel\n",
      "phonemes_len: 1097\n",
      "phnid_len: 207\n",
      "gradfreqktts dt: 14.699585995171219\n",
      "gradfreqktts RTF: 1.6881555791329448\n",
      "[seq]mel2wav\n",
      "[seq]wav2utmos\n"
     ]
    },
    {
     "name": "stderr",
     "output_type": "stream",
     "text": [
      " 25%|██████████████████████▊                                                                     | 25/101 [06:39<18:33, 14.65s/it]"
     ]
    },
    {
     "name": "stdout",
     "output_type": "stream",
     "text": [
      "utmos: 3.784943103790283\n",
      "test_ds_index_25: LJ049-0010\n",
      "[seq]text2mel\n",
      "phonemes_len: 471\n",
      "phnid_len: 91\n",
      "gradfreqktts dt: 5.317726229783148\n",
      "gradfreqktts RTF: 1.5474010685008235\n",
      "[seq]mel2wav\n",
      "[seq]wav2utmos\n"
     ]
    },
    {
     "name": "stderr",
     "output_type": "stream",
     "text": [
      " 26%|███████████████████████▋                                                                    | 26/101 [06:47<16:02, 12.84s/it]"
     ]
    },
    {
     "name": "stdout",
     "output_type": "stream",
     "text": [
      "utmos: 3.745633125305176\n",
      "test_ds_index_26: LJ008-0291\n",
      "[seq]text2mel\n",
      "phonemes_len: 365\n",
      "phnid_len: 71\n",
      "gradfreqktts dt: 4.488477427046746\n",
      "gradfreqktts RTF: 1.62439153207689\n",
      "[seq]mel2wav\n"
     ]
    },
    {
     "name": "stderr",
     "output_type": "stream",
     "text": [
      " 27%|████████████████████████▌                                                                   | 27/101 [06:54<13:39, 11.08s/it]"
     ]
    },
    {
     "name": "stdout",
     "output_type": "stream",
     "text": [
      "[seq]wav2utmos\n",
      "utmos: 3.774350881576538\n",
      "test_ds_index_27: LJ048-0221\n",
      "[seq]text2mel\n",
      "phonemes_len: 602\n",
      "phnid_len: 115\n",
      "gradfreqktts dt: 7.2188447611406446\n",
      "gradfreqktts RTF: 1.5390579264305309\n",
      "[seq]mel2wav\n",
      "[seq]wav2utmos\n"
     ]
    },
    {
     "name": "stderr",
     "output_type": "stream",
     "text": [
      " 28%|█████████████████████████▌                                                                  | 28/101 [07:05<13:21, 10.98s/it]"
     ]
    },
    {
     "name": "stdout",
     "output_type": "stream",
     "text": [
      "utmos: 3.437954902648926\n",
      "test_ds_index_28: LJ004-0157\n",
      "[seq]text2mel\n",
      "phonemes_len: 637\n",
      "phnid_len: 121\n",
      "gradfreqktts dt: 7.78364052483812\n",
      "gradfreqktts RTF: 1.499836353228822\n",
      "[seq]mel2wav\n",
      "[seq]wav2utmos\n"
     ]
    },
    {
     "name": "stderr",
     "output_type": "stream",
     "text": [
      " 29%|██████████████████████████▍                                                                 | 29/101 [07:17<13:27, 11.22s/it]"
     ]
    },
    {
     "name": "stdout",
     "output_type": "stream",
     "text": [
      "utmos: 4.1889519691467285\n",
      "test_ds_index_29: LJ013-0175\n",
      "[seq]text2mel\n",
      "phonemes_len: 681\n",
      "phnid_len: 131\n",
      "gradfreqktts dt: 7.640574256423861\n",
      "gradfreqktts RTF: 1.4922996594577853\n",
      "[seq]mel2wav\n",
      "[seq]wav2utmos\n"
     ]
    },
    {
     "name": "stderr",
     "output_type": "stream",
     "text": [
      " 30%|███████████████████████████▎                                                                | 30/101 [07:29<13:30, 11.42s/it]"
     ]
    },
    {
     "name": "stdout",
     "output_type": "stream",
     "text": [
      "utmos: 3.7072415351867676\n",
      "test_ds_index_30: LJ021-0100\n",
      "[seq]text2mel\n",
      "phonemes_len: 752\n",
      "phnid_len: 143\n",
      "gradfreqktts dt: 9.077215690165758\n",
      "gradfreqktts RTF: 1.5512819782998122\n",
      "[seq]mel2wav\n",
      "[seq]wav2utmos\n"
     ]
    },
    {
     "name": "stderr",
     "output_type": "stream",
     "text": [
      " 31%|████████████████████████████▏                                                               | 31/101 [07:42<14:06, 12.10s/it]"
     ]
    },
    {
     "name": "stdout",
     "output_type": "stream",
     "text": [
      "utmos: 3.833601474761963\n",
      "test_ds_index_31: LJ018-0132\n",
      "[seq]text2mel\n",
      "phonemes_len: 687\n",
      "phnid_len: 131\n",
      "gradfreqktts dt: 8.555574359372258\n",
      "gradfreqktts RTF: 1.4887185497487239\n",
      "[seq]mel2wav\n",
      "[seq]wav2utmos\n"
     ]
    },
    {
     "name": "stderr",
     "output_type": "stream",
     "text": [
      " 32%|█████████████████████████████▏                                                              | 32/101 [07:55<14:13, 12.37s/it]"
     ]
    },
    {
     "name": "stdout",
     "output_type": "stream",
     "text": [
      "utmos: 4.087820053100586\n",
      "test_ds_index_32: LJ023-0059\n",
      "[seq]text2mel\n",
      "phonemes_len: 1184\n",
      "phnid_len: 225\n",
      "gradfreqktts dt: 14.58811146626249\n",
      "gradfreqktts RTF: 1.6318377527956975\n",
      "[seq]mel2wav\n",
      "[seq]wav2utmos\n"
     ]
    },
    {
     "name": "stderr",
     "output_type": "stream",
     "text": [
      " 33%|██████████████████████████████                                                              | 33/101 [08:17<17:05, 15.08s/it]"
     ]
    },
    {
     "name": "stdout",
     "output_type": "stream",
     "text": [
      "utmos: 3.064539909362793\n",
      "test_ds_index_33: LJ003-0027\n",
      "[seq]text2mel\n",
      "phonemes_len: 964\n",
      "phnid_len: 183\n",
      "gradfreqktts dt: 11.615699242800474\n",
      "gradfreqktts RTF: 1.650978291974464\n",
      "[seq]mel2wav\n",
      "[seq]wav2utmos\n"
     ]
    },
    {
     "name": "stderr",
     "output_type": "stream",
     "text": [
      " 34%|██████████████████████████████▉                                                             | 34/101 [08:34<17:28, 15.65s/it]"
     ]
    },
    {
     "name": "stdout",
     "output_type": "stream",
     "text": [
      "utmos: 3.7497384548187256\n",
      "test_ds_index_34: LJ018-0133\n",
      "[seq]text2mel\n",
      "phonemes_len: 674\n",
      "phnid_len: 129\n",
      "gradfreqktts dt: 7.497025520075113\n",
      "gradfreqktts RTF: 1.5338239748891798\n",
      "[seq]mel2wav\n",
      "[seq]wav2utmos\n"
     ]
    },
    {
     "name": "stderr",
     "output_type": "stream",
     "text": [
      " 35%|███████████████████████████████▉                                                            | 35/101 [08:45<15:50, 14.41s/it]"
     ]
    },
    {
     "name": "stdout",
     "output_type": "stream",
     "text": [
      "utmos: 4.331391334533691\n",
      "test_ds_index_35: LJ033-0060\n",
      "[seq]text2mel\n",
      "phonemes_len: 596\n",
      "phnid_len: 115\n",
      "gradfreqktts dt: 7.337423372082412\n",
      "gradfreqktts RTF: 1.522874485640222\n",
      "[seq]mel2wav\n",
      "[seq]wav2utmos\n"
     ]
    },
    {
     "name": "stderr",
     "output_type": "stream",
     "text": [
      " 36%|████████████████████████████████▊                                                           | 36/101 [08:56<14:33, 13.44s/it]"
     ]
    },
    {
     "name": "stdout",
     "output_type": "stream",
     "text": [
      "utmos: 3.6043527126312256\n",
      "test_ds_index_36: LJ003-0299\n",
      "[seq]text2mel\n",
      "phonemes_len: 881\n",
      "phnid_len: 167\n",
      "gradfreqktts dt: 10.393578002694994\n",
      "gradfreqktts RTF: 1.5303044535217991\n",
      "[seq]mel2wav\n",
      "[seq]wav2utmos\n"
     ]
    },
    {
     "name": "stderr",
     "output_type": "stream",
     "text": [
      " 37%|█████████████████████████████████▋                                                          | 37/101 [09:12<15:01, 14.08s/it]"
     ]
    },
    {
     "name": "stdout",
     "output_type": "stream",
     "text": [
      "utmos: 3.3767051696777344\n",
      "test_ds_index_37: LJ011-0060\n",
      "[seq]text2mel\n",
      "phonemes_len: 1083\n",
      "phnid_len: 205\n",
      "gradfreqktts dt: 12.077137372922152\n",
      "gradfreqktts RTF: 1.4903120471040778\n",
      "[seq]mel2wav\n",
      "[seq]wav2utmos\n"
     ]
    },
    {
     "name": "stderr",
     "output_type": "stream",
     "text": [
      " 38%|██████████████████████████████████▌                                                         | 38/101 [09:30<16:08, 15.37s/it]"
     ]
    },
    {
     "name": "stdout",
     "output_type": "stream",
     "text": [
      "utmos: 3.749478578567505\n",
      "test_ds_index_38: LJ013-0240\n",
      "[seq]text2mel\n",
      "phonemes_len: 768\n",
      "phnid_len: 147\n",
      "gradfreqktts dt: 8.882225155830383\n",
      "gradfreqktts RTF: 1.6038805742765654\n",
      "[seq]mel2wav\n",
      "[seq]wav2utmos\n"
     ]
    },
    {
     "name": "stderr",
     "output_type": "stream",
     "text": [
      " 39%|███████████████████████████████████▌                                                        | 39/101 [09:44<15:19, 14.82s/it]"
     ]
    },
    {
     "name": "stdout",
     "output_type": "stream",
     "text": [
      "utmos: 3.5965723991394043\n",
      "test_ds_index_39: LJ047-0076\n",
      "[seq]text2mel\n",
      "phonemes_len: 1287\n",
      "phnid_len: 245\n",
      "gradfreqktts dt: 17.312665805220604\n",
      "gradfreqktts RTF: 1.7140098823864687\n",
      "[seq]mel2wav\n",
      "[seq]wav2utmos\n"
     ]
    },
    {
     "name": "stderr",
     "output_type": "stream",
     "text": [
      " 40%|████████████████████████████████████▍                                                       | 40/101 [10:09<18:05, 17.80s/it]"
     ]
    },
    {
     "name": "stdout",
     "output_type": "stream",
     "text": [
      "utmos: 3.5964832305908203\n",
      "test_ds_index_40: LJ041-0133\n",
      "[seq]text2mel\n",
      "phonemes_len: 1018\n",
      "phnid_len: 193\n",
      "gradfreqktts dt: 11.71084459591657\n",
      "gradfreqktts RTF: 1.5145465192142944\n",
      "[seq]mel2wav\n",
      "[seq]wav2utmos\n"
     ]
    },
    {
     "name": "stderr",
     "output_type": "stream",
     "text": [
      " 41%|█████████████████████████████████████▎                                                      | 41/101 [10:26<17:43, 17.72s/it]"
     ]
    },
    {
     "name": "stdout",
     "output_type": "stream",
     "text": [
      "utmos: 3.6059486865997314\n",
      "test_ds_index_41: LJ038-0264\n",
      "[seq]text2mel\n",
      "phonemes_len: 1116\n",
      "phnid_len: 211\n",
      "gradfreqktts dt: 12.455464106053114\n",
      "gradfreqktts RTF: 1.5800061184788703\n",
      "[seq]mel2wav\n",
      "[seq]wav2utmos\n"
     ]
    },
    {
     "name": "stderr",
     "output_type": "stream",
     "text": [
      " 42%|██████████████████████████████████████▎                                                     | 42/101 [10:44<17:26, 17.74s/it]"
     ]
    },
    {
     "name": "stdout",
     "output_type": "stream",
     "text": [
      "utmos: 3.702253818511963\n",
      "test_ds_index_42: LJ011-0016\n",
      "[seq]text2mel\n",
      "phonemes_len: 609\n",
      "phnid_len: 117\n",
      "gradfreqktts dt: 7.343712323810905\n",
      "gradfreqktts RTF: 1.6867589243753174\n",
      "[seq]mel2wav\n",
      "[seq]wav2utmos\n"
     ]
    },
    {
     "name": "stderr",
     "output_type": "stream",
     "text": [
      " 43%|███████████████████████████████████████▏                                                    | 43/101 [10:56<15:23, 15.92s/it]"
     ]
    },
    {
     "name": "stdout",
     "output_type": "stream",
     "text": [
      "utmos: 3.905336380004883\n",
      "test_ds_index_43: LJ003-0185\n",
      "[seq]text2mel\n",
      "phonemes_len: 1105\n",
      "phnid_len: 209\n",
      "gradfreqktts dt: 13.325840265955776\n",
      "gradfreqktts RTF: 1.6805155212774803\n",
      "[seq]mel2wav\n",
      "[seq]wav2utmos\n"
     ]
    },
    {
     "name": "stderr",
     "output_type": "stream",
     "text": [
      " 44%|████████████████████████████████████████                                                    | 44/101 [11:15<16:02, 16.89s/it]"
     ]
    },
    {
     "name": "stdout",
     "output_type": "stream",
     "text": [
      "utmos: 3.665759325027466\n",
      "test_ds_index_44: LJ014-0063\n",
      "[seq]text2mel\n",
      "phonemes_len: 793\n",
      "phnid_len: 151\n",
      "gradfreqktts dt: 8.391005114652216\n",
      "gradfreqktts RTF: 1.5183631727455469\n",
      "[seq]mel2wav\n",
      "[seq]wav2utmos\n"
     ]
    },
    {
     "name": "stderr",
     "output_type": "stream",
     "text": [
      " 45%|████████████████████████████████████████▉                                                   | 45/101 [11:28<14:38, 15.69s/it]"
     ]
    },
    {
     "name": "stdout",
     "output_type": "stream",
     "text": [
      "utmos: 4.124660491943359\n",
      "test_ds_index_45: LJ005-0185\n",
      "[seq]text2mel\n",
      "phonemes_len: 588\n",
      "phnid_len: 113\n",
      "gradfreqktts dt: 7.406216522213072\n",
      "gradfreqktts RTF: 1.540865360005267\n",
      "[seq]mel2wav\n",
      "[seq]wav2utmos\n"
     ]
    },
    {
     "name": "stderr",
     "output_type": "stream",
     "text": [
      " 46%|█████████████████████████████████████████▉                                                  | 46/101 [11:39<13:13, 14.43s/it]"
     ]
    },
    {
     "name": "stdout",
     "output_type": "stream",
     "text": [
      "utmos: 4.3888020515441895\n",
      "test_ds_index_46: LJ014-0135\n",
      "[seq]text2mel\n",
      "phonemes_len: 826\n",
      "phnid_len: 157\n",
      "gradfreqktts dt: 8.647651692852378\n",
      "gradfreqktts RTF: 1.4956758269593604\n",
      "[seq]mel2wav\n",
      "[seq]wav2utmos\n"
     ]
    },
    {
     "name": "stderr",
     "output_type": "stream",
     "text": [
      " 47%|██████████████████████████████████████████▊                                                 | 47/101 [11:52<12:37, 14.02s/it]"
     ]
    },
    {
     "name": "stdout",
     "output_type": "stream",
     "text": [
      "utmos: 3.8154354095458984\n",
      "test_ds_index_47: LJ009-0046\n",
      "[seq]text2mel\n",
      "phonemes_len: 1011\n",
      "phnid_len: 193\n",
      "gradfreqktts dt: 11.516059706918895\n",
      "gradfreqktts RTF: 1.4716774650962168\n",
      "[seq]mel2wav\n",
      "[seq]wav2utmos\n"
     ]
    },
    {
     "name": "stderr",
     "output_type": "stream",
     "text": [
      " 48%|███████████████████████████████████████████▋                                                | 48/101 [12:10<13:18, 15.07s/it]"
     ]
    },
    {
     "name": "stdout",
     "output_type": "stream",
     "text": [
      "utmos: 3.8487741947174072\n",
      "test_ds_index_48: LJ037-0024\n",
      "[seq]text2mel\n",
      "phonemes_len: 1505\n",
      "phnid_len: 285\n",
      "gradfreqktts dt: 22.363999971654266\n",
      "gradfreqktts RTF: 2.0448770873763293\n",
      "[seq]mel2wav\n",
      "[seq]wav2utmos\n"
     ]
    },
    {
     "name": "stderr",
     "output_type": "stream",
     "text": [
      " 49%|████████████████████████████████████████████▋                                               | 49/101 [12:40<17:05, 19.72s/it]"
     ]
    },
    {
     "name": "stdout",
     "output_type": "stream",
     "text": [
      "utmos: 3.902602195739746\n",
      "test_ds_index_49: LJ002-0217\n",
      "[seq]text2mel\n",
      "phonemes_len: 1093\n",
      "phnid_len: 207\n",
      "gradfreqktts dt: 12.893555168993771\n",
      "gradfreqktts RTF: 1.6283844132395107\n",
      "[seq]mel2wav\n",
      "[seq]wav2utmos\n"
     ]
    },
    {
     "name": "stderr",
     "output_type": "stream",
     "text": [
      " 50%|█████████████████████████████████████████████▌                                              | 50/101 [12:55<15:26, 18.16s/it]"
     ]
    },
    {
     "name": "stdout",
     "output_type": "stream",
     "text": [
      "utmos: 3.9403457641601562\n",
      "test_ds_index_50: LJ044-0017\n",
      "[seq]text2mel\n",
      "phonemes_len: 782\n",
      "phnid_len: 149\n",
      "gradfreqktts dt: 9.686596999876201\n",
      "gradfreqktts RTF: 1.5479292080768077\n",
      "[seq]mel2wav\n",
      "[seq]wav2utmos\n"
     ]
    },
    {
     "name": "stderr",
     "output_type": "stream",
     "text": [
      " 50%|██████████████████████████████████████████████▍                                             | 51/101 [13:09<14:15, 17.11s/it]"
     ]
    },
    {
     "name": "stdout",
     "output_type": "stream",
     "text": [
      "utmos: 3.538675308227539\n",
      "test_ds_index_51: LJ017-0074\n",
      "[seq]text2mel\n",
      "phonemes_len: 481\n",
      "phnid_len: 93\n",
      "gradfreqktts dt: 6.4323719148524106\n",
      "gradfreqktts RTF: 1.5784566497784862\n",
      "[seq]mel2wav\n",
      "[seq]wav2utmos\n"
     ]
    },
    {
     "name": "stderr",
     "output_type": "stream",
     "text": [
      " 51%|███████████████████████████████████████████████▎                                            | 52/101 [13:19<12:14, 14.99s/it]"
     ]
    },
    {
     "name": "stdout",
     "output_type": "stream",
     "text": [
      "utmos: 4.008632183074951\n",
      "test_ds_index_52: LJ033-0153\n",
      "[seq]text2mel\n",
      "phonemes_len: 714\n",
      "phnid_len: 137\n",
      "gradfreqktts dt: 8.055406176950783\n",
      "gradfreqktts RTF: 1.5282704622260872\n",
      "[seq]mel2wav\n",
      "[seq]wav2utmos\n"
     ]
    },
    {
     "name": "stderr",
     "output_type": "stream",
     "text": [
      " 52%|████████████████████████████████████████████████▎                                           | 53/101 [13:32<11:21, 14.19s/it]"
     ]
    },
    {
     "name": "stdout",
     "output_type": "stream",
     "text": [
      "utmos: 4.010202884674072\n",
      "test_ds_index_53: LJ032-0124\n",
      "[seq]text2mel\n",
      "phonemes_len: 1056\n",
      "phnid_len: 199\n",
      "gradfreqktts dt: 13.288325835950673\n",
      "gradfreqktts RTF: 1.7211441769426241\n",
      "[seq]mel2wav\n",
      "[seq]wav2utmos\n"
     ]
    },
    {
     "name": "stderr",
     "output_type": "stream",
     "text": [
      " 53%|█████████████████████████████████████████████████▏                                          | 54/101 [13:51<12:16, 15.66s/it]"
     ]
    },
    {
     "name": "stdout",
     "output_type": "stream",
     "text": [
      "utmos: 3.869961738586426\n",
      "test_ds_index_54: LJ018-0287\n",
      "[seq]text2mel\n",
      "phonemes_len: 567\n",
      "phnid_len: 109\n",
      "gradfreqktts dt: 6.494155132211745\n",
      "gradfreqktts RTF: 1.5367028745843596\n",
      "[seq]mel2wav\n",
      "[seq]wav2utmos\n"
     ]
    },
    {
     "name": "stderr",
     "output_type": "stream",
     "text": [
      " 54%|██████████████████████████████████████████████████                                          | 55/101 [14:01<10:42, 13.97s/it]"
     ]
    },
    {
     "name": "stdout",
     "output_type": "stream",
     "text": [
      "utmos: 4.067721843719482\n",
      "test_ds_index_55: LJ020-0038\n",
      "[seq]text2mel\n",
      "phonemes_len: 620\n",
      "phnid_len: 119\n",
      "gradfreqktts dt: 7.004491795785725\n",
      "gradfreqktts RTF: 1.596075604508466\n",
      "[seq]mel2wav\n",
      "[seq]wav2utmos\n"
     ]
    },
    {
     "name": "stderr",
     "output_type": "stream",
     "text": [
      " 55%|███████████████████████████████████████████████████                                         | 56/101 [14:12<09:48, 13.07s/it]"
     ]
    },
    {
     "name": "stdout",
     "output_type": "stream",
     "text": [
      "utmos: 4.128397464752197\n",
      "test_ds_index_56: LJ001-0007\n",
      "[seq]text2mel\n",
      "phonemes_len: 1016\n",
      "phnid_len: 193\n",
      "gradfreqktts dt: 13.346037171781063\n",
      "gradfreqktts RTF: 1.5987923745967296\n",
      "[seq]mel2wav\n",
      "[seq]wav2utmos\n"
     ]
    },
    {
     "name": "stderr",
     "output_type": "stream",
     "text": [
      " 56%|███████████████████████████████████████████████████▉                                        | 57/101 [14:33<11:15, 15.35s/it]"
     ]
    },
    {
     "name": "stdout",
     "output_type": "stream",
     "text": [
      "utmos: 3.656695604324341\n",
      "test_ds_index_57: LJ003-0313\n",
      "[seq]text2mel\n",
      "phonemes_len: 1175\n",
      "phnid_len: 223\n",
      "gradfreqktts dt: 16.08873875392601\n",
      "gradfreqktts RTF: 1.7519194923557428\n",
      "[seq]mel2wav\n",
      "[seq]wav2utmos\n"
     ]
    },
    {
     "name": "stderr",
     "output_type": "stream",
     "text": [
      " 57%|████████████████████████████████████████████████████▊                                       | 58/101 [14:56<12:42, 17.74s/it]"
     ]
    },
    {
     "name": "stdout",
     "output_type": "stream",
     "text": [
      "utmos: 3.624356746673584\n",
      "test_ds_index_58: LJ019-0265\n",
      "[seq]text2mel\n",
      "phonemes_len: 590\n",
      "phnid_len: 113\n",
      "gradfreqktts dt: 8.017229369841516\n",
      "gradfreqktts RTF: 1.5448467876555982\n",
      "[seq]mel2wav\n",
      "[seq]wav2utmos\n"
     ]
    },
    {
     "name": "stderr",
     "output_type": "stream",
     "text": [
      " 58%|█████████████████████████████████████████████████████▋                                      | 59/101 [15:06<10:44, 15.35s/it]"
     ]
    },
    {
     "name": "stdout",
     "output_type": "stream",
     "text": [
      "utmos: 4.427779674530029\n",
      "test_ds_index_59: LJ038-0281\n",
      "[seq]text2mel\n",
      "phonemes_len: 1193\n",
      "phnid_len: 225\n",
      "gradfreqktts dt: 14.080007351003587\n",
      "gradfreqktts RTF: 1.6658662543442495\n",
      "[seq]mel2wav\n",
      "[seq]wav2utmos\n"
     ]
    },
    {
     "name": "stderr",
     "output_type": "stream",
     "text": [
      " 59%|██████████████████████████████████████████████████████▋                                     | 60/101 [15:26<11:31, 16.87s/it]"
     ]
    },
    {
     "name": "stdout",
     "output_type": "stream",
     "text": [
      "utmos: 4.236476421356201\n",
      "test_ds_index_60: LJ045-0235\n",
      "[seq]text2mel\n",
      "phonemes_len: 1185\n",
      "phnid_len: 223\n",
      "gradfreqktts dt: 12.415118182078004\n",
      "gradfreqktts RTF: 1.615330886015507\n",
      "[seq]mel2wav\n",
      "[seq]wav2utmos\n"
     ]
    },
    {
     "name": "stderr",
     "output_type": "stream",
     "text": [
      " 60%|███████████████████████████████████████████████████████▌                                    | 61/101 [15:44<11:32, 17.31s/it]"
     ]
    },
    {
     "name": "stdout",
     "output_type": "stream",
     "text": [
      "utmos: 4.176488399505615\n",
      "test_ds_index_61: LJ038-0255\n",
      "[seq]text2mel\n",
      "phonemes_len: 240\n",
      "phnid_len: 47\n",
      "gradfreqktts dt: 3.6959364940412343\n",
      "gradfreqktts RTF: 1.941106128372933\n",
      "[seq]mel2wav\n"
     ]
    },
    {
     "name": "stderr",
     "output_type": "stream",
     "text": [
      " 61%|████████████████████████████████████████████████████████▍                                   | 62/101 [15:50<09:01, 13.88s/it]"
     ]
    },
    {
     "name": "stdout",
     "output_type": "stream",
     "text": [
      "[seq]wav2utmos\n",
      "utmos: 3.7694027423858643\n",
      "test_ds_index_62: LJ028-0205\n",
      "[seq]text2mel\n",
      "phonemes_len: 899\n",
      "phnid_len: 171\n",
      "gradfreqktts dt: 10.167644773609936\n",
      "gradfreqktts RTF: 1.4970390441913668\n",
      "[seq]mel2wav\n",
      "[seq]wav2utmos\n"
     ]
    },
    {
     "name": "stderr",
     "output_type": "stream",
     "text": [
      " 62%|█████████████████████████████████████████████████████████▍                                  | 63/101 [16:02<08:20, 13.17s/it]"
     ]
    },
    {
     "name": "stdout",
     "output_type": "stream",
     "text": [
      "utmos: 3.4248993396759033\n",
      "test_ds_index_63: LJ014-0260\n",
      "[seq]text2mel\n",
      "phonemes_len: 1068\n",
      "phnid_len: 203\n",
      "gradfreqktts dt: 14.958285619039088\n",
      "gradfreqktts RTF: 1.7410800142515408\n",
      "[seq]mel2wav\n",
      "[seq]wav2utmos\n"
     ]
    },
    {
     "name": "stderr",
     "output_type": "stream",
     "text": [
      " 63%|██████████████████████████████████████████████████████████▎                                 | 64/101 [16:23<09:37, 15.62s/it]"
     ]
    },
    {
     "name": "stdout",
     "output_type": "stream",
     "text": [
      "utmos: 3.662825107574463\n",
      "test_ds_index_64: LJ033-0166\n",
      "[seq]text2mel\n",
      "phonemes_len: 967\n",
      "phnid_len: 183\n",
      "gradfreqktts dt: 12.016021052841097\n",
      "gradfreqktts RTF: 1.6146235387525971\n",
      "[seq]mel2wav\n",
      "[seq]wav2utmos\n"
     ]
    },
    {
     "name": "stderr",
     "output_type": "stream",
     "text": [
      " 64%|███████████████████████████████████████████████████████████▏                                | 65/101 [16:41<09:50, 16.40s/it]"
     ]
    },
    {
     "name": "stdout",
     "output_type": "stream",
     "text": [
      "utmos: 3.4509456157684326\n",
      "test_ds_index_65: LJ037-0125\n",
      "[seq]text2mel\n",
      "phonemes_len: 1085\n",
      "phnid_len: 205\n",
      "gradfreqktts dt: 13.558540327940136\n",
      "gradfreqktts RTF: 1.610807188745043\n",
      "[seq]mel2wav\n",
      "[seq]wav2utmos\n"
     ]
    },
    {
     "name": "stderr",
     "output_type": "stream",
     "text": [
      " 65%|████████████████████████████████████████████████████████████                                | 66/101 [17:01<10:09, 17.40s/it]"
     ]
    },
    {
     "name": "stdout",
     "output_type": "stream",
     "text": [
      "utmos: 3.95365834236145\n",
      "test_ds_index_66: LJ013-0142\n",
      "[seq]text2mel\n",
      "phonemes_len: 740\n",
      "phnid_len: 143\n",
      "gradfreqktts dt: 8.324050412978977\n",
      "gradfreqktts RTF: 1.5352759603033528\n",
      "[seq]mel2wav\n",
      "[seq]wav2utmos\n"
     ]
    },
    {
     "name": "stderr",
     "output_type": "stream",
     "text": [
      " 66%|█████████████████████████████████████████████████████████████                               | 67/101 [17:14<09:03, 15.99s/it]"
     ]
    },
    {
     "name": "stdout",
     "output_type": "stream",
     "text": [
      "utmos: 3.469390392303467\n",
      "test_ds_index_67: LJ031-0199\n",
      "[seq]text2mel\n",
      "phonemes_len: 1439\n",
      "phnid_len: 273\n",
      "gradfreqktts dt: 19.48487584386021\n",
      "gradfreqktts RTF: 1.8985148842137904\n",
      "[seq]mel2wav\n",
      "[seq]wav2utmos\n"
     ]
    },
    {
     "name": "stderr",
     "output_type": "stream",
     "text": [
      " 67%|█████████████████████████████████████████████████████████████▉                              | 68/101 [17:41<10:36, 19.30s/it]"
     ]
    },
    {
     "name": "stdout",
     "output_type": "stream",
     "text": [
      "utmos: 3.6768856048583984\n",
      "test_ds_index_68: LJ004-0017\n",
      "[seq]text2mel\n",
      "phonemes_len: 619\n",
      "phnid_len: 119\n",
      "gradfreqktts dt: 7.618922980967909\n",
      "gradfreqktts RTF: 1.5624744394563095\n",
      "[seq]mel2wav\n",
      "[seq]wav2utmos\n"
     ]
    },
    {
     "name": "stderr",
     "output_type": "stream",
     "text": [
      " 68%|██████████████████████████████████████████████████████████████▊                             | 69/101 [17:53<09:05, 17.05s/it]"
     ]
    },
    {
     "name": "stdout",
     "output_type": "stream",
     "text": [
      "utmos: 3.871365785598755\n",
      "test_ds_index_69: LJ024-0115\n",
      "[seq]text2mel\n",
      "phonemes_len: 1011\n",
      "phnid_len: 191\n",
      "gradfreqktts dt: 11.310101766139269\n",
      "gradfreqktts RTF: 1.4827562782021195\n",
      "[seq]mel2wav\n",
      "[seq]wav2utmos\n"
     ]
    },
    {
     "name": "stderr",
     "output_type": "stream",
     "text": [
      " 69%|███████████████████████████████████████████████████████████████▊                            | 70/101 [18:10<08:48, 17.05s/it]"
     ]
    },
    {
     "name": "stdout",
     "output_type": "stream",
     "text": [
      "utmos: 3.489604949951172\n",
      "test_ds_index_70: LJ017-0171\n",
      "[seq]text2mel\n",
      "phonemes_len: 620\n",
      "phnid_len: 119\n",
      "gradfreqktts dt: 7.780451427213848\n",
      "gradfreqktts RTF: 1.5918103656664317\n",
      "[seq]mel2wav\n",
      "[seq]wav2utmos\n"
     ]
    },
    {
     "name": "stderr",
     "output_type": "stream",
     "text": [
      " 70%|████████████████████████████████████████████████████████████████▋                           | 71/101 [18:19<07:18, 14.63s/it]"
     ]
    },
    {
     "name": "stdout",
     "output_type": "stream",
     "text": [
      "utmos: 4.143746376037598\n",
      "test_ds_index_71: LJ017-0040\n",
      "[seq]text2mel\n",
      "phonemes_len: 412\n",
      "phnid_len: 79\n",
      "gradfreqktts dt: 5.493225432932377\n",
      "gradfreqktts RTF: 1.5877414638758247\n",
      "[seq]mel2wav\n",
      "[seq]wav2utmos\n"
     ]
    },
    {
     "name": "stderr",
     "output_type": "stream",
     "text": [
      " 71%|█████████████████████████████████████████████████████████████████▌                          | 72/101 [18:27<06:13, 12.87s/it]"
     ]
    },
    {
     "name": "stdout",
     "output_type": "stream",
     "text": [
      "utmos: 3.4837825298309326\n",
      "test_ds_index_72: LJ005-0044\n",
      "[seq]text2mel\n",
      "phonemes_len: 796\n",
      "phnid_len: 151\n",
      "gradfreqktts dt: 8.177439809776843\n",
      "gradfreqktts RTF: 1.4922582412405603\n",
      "[seq]mel2wav\n",
      "[seq]wav2utmos\n"
     ]
    },
    {
     "name": "stderr",
     "output_type": "stream",
     "text": [
      " 72%|██████████████████████████████████████████████████████████████████▍                         | 73/101 [18:40<05:57, 12.78s/it]"
     ]
    },
    {
     "name": "stdout",
     "output_type": "stream",
     "text": [
      "utmos: 4.038662910461426\n",
      "test_ds_index_73: LJ007-0169\n",
      "[seq]text2mel\n",
      "phonemes_len: 399\n",
      "phnid_len: 77\n",
      "gradfreqktts dt: 4.783804218750447\n",
      "gradfreqktts RTF: 1.688698818894841\n",
      "[seq]mel2wav\n",
      "[seq]wav2utmos\n"
     ]
    },
    {
     "name": "stderr",
     "output_type": "stream",
     "text": [
      " 73%|███████████████████████████████████████████████████████████████████▍                        | 74/101 [18:47<05:00, 11.11s/it]"
     ]
    },
    {
     "name": "stdout",
     "output_type": "stream",
     "text": [
      "utmos: 3.7531344890594482\n",
      "test_ds_index_74: LJ015-0153\n",
      "[seq]text2mel\n",
      "phonemes_len: 1156\n",
      "phnid_len: 219\n",
      "gradfreqktts dt: 12.516067792195827\n",
      "gradfreqktts RTF: 1.4952068243862582\n",
      "[seq]mel2wav\n",
      "[seq]wav2utmos\n"
     ]
    },
    {
     "name": "stderr",
     "output_type": "stream",
     "text": [
      " 74%|████████████████████████████████████████████████████████████████████▎                       | 75/101 [19:06<05:51, 13.51s/it]"
     ]
    },
    {
     "name": "stdout",
     "output_type": "stream",
     "text": [
      "utmos: 3.9688849449157715\n",
      "test_ds_index_75: LJ045-0043\n",
      "[seq]text2mel\n",
      "phonemes_len: 1166\n",
      "phnid_len: 221\n",
      "gradfreqktts dt: 15.983357415068895\n",
      "gradfreqktts RTF: 1.7251773525721976\n",
      "[seq]mel2wav\n",
      "[seq]wav2utmos\n"
     ]
    },
    {
     "name": "stderr",
     "output_type": "stream",
     "text": [
      " 75%|█████████████████████████████████████████████████████████████████████▏                      | 76/101 [19:29<06:47, 16.29s/it]"
     ]
    },
    {
     "name": "stdout",
     "output_type": "stream",
     "text": [
      "utmos: 3.802044630050659\n",
      "test_ds_index_76: LJ050-0010\n",
      "[seq]text2mel\n",
      "phonemes_len: 1046\n",
      "phnid_len: 197\n",
      "gradfreqktts dt: 10.911808555945754\n",
      "gradfreqktts RTF: 1.518359871381537\n",
      "[seq]mel2wav\n",
      "[seq]wav2utmos\n"
     ]
    },
    {
     "name": "stderr",
     "output_type": "stream",
     "text": [
      " 76%|██████████████████████████████████████████████████████████████████████▏                     | 77/101 [19:45<06:28, 16.20s/it]"
     ]
    },
    {
     "name": "stdout",
     "output_type": "stream",
     "text": [
      "utmos: 4.213281631469727\n",
      "test_ds_index_77: LJ006-0126\n",
      "[seq]text2mel\n",
      "phonemes_len: 1061\n",
      "phnid_len: 201\n",
      "gradfreqktts dt: 11.065158960875124\n",
      "gradfreqktts RTF: 1.524917219295603\n",
      "[seq]mel2wav\n",
      "[seq]wav2utmos\n"
     ]
    },
    {
     "name": "stderr",
     "output_type": "stream",
     "text": [
      " 77%|███████████████████████████████████████████████████████████████████████                     | 78/101 [20:02<06:15, 16.32s/it]"
     ]
    },
    {
     "name": "stdout",
     "output_type": "stream",
     "text": [
      "utmos: 4.092154026031494\n",
      "test_ds_index_78: LJ018-0356\n",
      "[seq]text2mel\n",
      "phonemes_len: 979\n",
      "phnid_len: 185\n",
      "gradfreqktts dt: 11.671179129742086\n",
      "gradfreqktts RTF: 1.4959397077916492\n",
      "[seq]mel2wav\n",
      "[seq]wav2utmos\n"
     ]
    },
    {
     "name": "stderr",
     "output_type": "stream",
     "text": [
      " 78%|███████████████████████████████████████████████████████████████████████▉                    | 79/101 [20:19<06:07, 16.71s/it]"
     ]
    },
    {
     "name": "stdout",
     "output_type": "stream",
     "text": [
      "utmos: 3.786849021911621\n",
      "test_ds_index_79: LJ040-0223\n",
      "[seq]text2mel\n",
      "phonemes_len: 1070\n",
      "phnid_len: 201\n",
      "gradfreqktts dt: 12.532923221588135\n",
      "gradfreqktts RTF: 1.623302144243529\n",
      "[seq]mel2wav\n",
      "[seq]wav2utmos\n"
     ]
    },
    {
     "name": "stderr",
     "output_type": "stream",
     "text": [
      " 79%|████████████████████████████████████████████████████████████████████████▊                   | 80/101 [20:33<05:33, 15.89s/it]"
     ]
    },
    {
     "name": "stdout",
     "output_type": "stream",
     "text": [
      "utmos: 3.7475287914276123\n",
      "test_ds_index_80: LJ008-0281\n",
      "[seq]text2mel\n",
      "phonemes_len: 651\n",
      "phnid_len: 125\n",
      "gradfreqktts dt: 7.946544865611941\n",
      "gradfreqktts RTF: 1.5346597733914595\n",
      "[seq]mel2wav\n",
      "[seq]wav2utmos\n"
     ]
    },
    {
     "name": "stderr",
     "output_type": "stream",
     "text": [
      " 80%|█████████████████████████████████████████████████████████████████████████▊                  | 81/101 [20:45<04:55, 14.78s/it]"
     ]
    },
    {
     "name": "stdout",
     "output_type": "stream",
     "text": [
      "utmos: 4.4168291091918945\n",
      "test_ds_index_81: LJ008-0222\n",
      "[seq]text2mel\n",
      "phonemes_len: 515\n",
      "phnid_len: 99\n",
      "gradfreqktts dt: 6.798441894818097\n",
      "gradfreqktts RTF: 1.6087058269739338\n",
      "[seq]mel2wav\n",
      "[seq]wav2utmos\n"
     ]
    },
    {
     "name": "stderr",
     "output_type": "stream",
     "text": [
      " 81%|██████████████████████████████████████████████████████████████████████████▋                 | 82/101 [20:54<04:03, 12.80s/it]"
     ]
    },
    {
     "name": "stdout",
     "output_type": "stream",
     "text": [
      "utmos: 3.664729356765747\n",
      "test_ds_index_82: LJ046-0123\n",
      "[seq]text2mel\n",
      "phonemes_len: 1130\n",
      "phnid_len: 213\n",
      "gradfreqktts dt: 13.367738192901015\n",
      "gradfreqktts RTF: 1.6194105306866835\n",
      "[seq]mel2wav\n",
      "[seq]wav2utmos\n"
     ]
    },
    {
     "name": "stderr",
     "output_type": "stream",
     "text": [
      " 82%|███████████████████████████████████████████████████████████████████████████▌                | 83/101 [21:13<04:26, 14.83s/it]"
     ]
    },
    {
     "name": "stdout",
     "output_type": "stream",
     "text": [
      "utmos: 3.644918441772461\n",
      "test_ds_index_83: LJ030-0044\n",
      "[seq]text2mel\n",
      "phonemes_len: 965\n",
      "phnid_len: 185\n",
      "gradfreqktts dt: 13.047079807147384\n",
      "gradfreqktts RTF: 1.6526201157375908\n",
      "[seq]mel2wav\n",
      "[seq]wav2utmos\n"
     ]
    },
    {
     "name": "stderr",
     "output_type": "stream",
     "text": [
      " 83%|████████████████████████████████████████████████████████████████████████████▌               | 84/101 [21:32<04:32, 16.04s/it]"
     ]
    },
    {
     "name": "stdout",
     "output_type": "stream",
     "text": [
      "utmos: 4.186734676361084\n",
      "test_ds_index_84: LJ018-0051\n",
      "[seq]text2mel\n",
      "phonemes_len: 820\n",
      "phnid_len: 157\n",
      "gradfreqktts dt: 9.97912065172568\n",
      "gradfreqktts RTF: 1.4793971222202509\n",
      "[seq]mel2wav\n",
      "[seq]wav2utmos\n"
     ]
    },
    {
     "name": "stderr",
     "output_type": "stream",
     "text": [
      " 84%|█████████████████████████████████████████████████████████████████████████████▍              | 85/101 [21:47<04:13, 15.85s/it]"
     ]
    },
    {
     "name": "stdout",
     "output_type": "stream",
     "text": [
      "utmos: 3.915384531021118\n",
      "test_ds_index_85: LJ042-0231\n",
      "[seq]text2mel\n",
      "phonemes_len: 574\n",
      "phnid_len: 111\n",
      "gradfreqktts dt: 7.118880120106041\n",
      "gradfreqktts RTF: 1.5844164511500547\n",
      "[seq]mel2wav\n",
      "[seq]wav2utmos\n"
     ]
    },
    {
     "name": "stderr",
     "output_type": "stream",
     "text": [
      " 85%|██████████████████████████████████████████████████████████████████████████████▎             | 86/101 [21:58<03:34, 14.28s/it]"
     ]
    },
    {
     "name": "stdout",
     "output_type": "stream",
     "text": [
      "utmos: 4.328577518463135\n",
      "test_ds_index_86: LJ011-0121\n",
      "[seq]text2mel\n",
      "phonemes_len: 1123\n",
      "phnid_len: 213\n",
      "gradfreqktts dt: 14.326740434858948\n",
      "gradfreqktts RTF: 1.6743588162983367\n",
      "[seq]mel2wav\n",
      "[seq]wav2utmos\n"
     ]
    },
    {
     "name": "stderr",
     "output_type": "stream",
     "text": [
      " 86%|███████████████████████████████████████████████████████████████████████████████▏            | 87/101 [22:18<03:45, 16.10s/it]"
     ]
    },
    {
     "name": "stdout",
     "output_type": "stream",
     "text": [
      "utmos: 3.712336540222168\n",
      "test_ds_index_87: LJ016-0186\n",
      "[seq]text2mel\n",
      "phonemes_len: 848\n",
      "phnid_len: 161\n",
      "gradfreqktts dt: 10.332503892015666\n",
      "gradfreqktts RTF: 1.4982619871826692\n",
      "[seq]mel2wav\n",
      "[seq]wav2utmos\n"
     ]
    },
    {
     "name": "stderr",
     "output_type": "stream",
     "text": [
      " 87%|████████████████████████████████████████████████████████████████████████████████▏           | 88/101 [22:34<03:28, 16.02s/it]"
     ]
    },
    {
     "name": "stdout",
     "output_type": "stream",
     "text": [
      "utmos: 4.1749396324157715\n",
      "test_ds_index_88: LJ011-0164\n",
      "[seq]text2mel\n",
      "phonemes_len: 1007\n",
      "phnid_len: 191\n",
      "gradfreqktts dt: 13.856076635885984\n",
      "gradfreqktts RTF: 1.7271531850425443\n",
      "[seq]mel2wav\n",
      "[seq]wav2utmos\n"
     ]
    },
    {
     "name": "stderr",
     "output_type": "stream",
     "text": [
      " 88%|█████████████████████████████████████████████████████████████████████████████████           | 89/101 [22:54<03:26, 17.23s/it]"
     ]
    },
    {
     "name": "stdout",
     "output_type": "stream",
     "text": [
      "utmos: 3.5691959857940674\n",
      "test_ds_index_89: LJ026-0039\n",
      "[seq]text2mel\n",
      "phonemes_len: 1150\n",
      "phnid_len: 219\n",
      "gradfreqktts dt: 12.989226150792092\n",
      "gradfreqktts RTF: 1.6356704394243742\n",
      "[seq]mel2wav\n",
      "[seq]wav2utmos\n"
     ]
    },
    {
     "name": "stderr",
     "output_type": "stream",
     "text": [
      " 89%|█████████████████████████████████████████████████████████████████████████████████▉          | 90/101 [23:13<03:15, 17.74s/it]"
     ]
    },
    {
     "name": "stdout",
     "output_type": "stream",
     "text": [
      "utmos: 3.1614885330200195\n",
      "test_ds_index_90: LJ003-0105\n",
      "[seq]text2mel\n",
      "phonemes_len: 971\n",
      "phnid_len: 185\n",
      "gradfreqktts dt: 12.71089394390583\n",
      "gradfreqktts RTF: 1.6791795165304086\n",
      "[seq]mel2wav\n",
      "[seq]wav2utmos\n"
     ]
    },
    {
     "name": "stderr",
     "output_type": "stream",
     "text": [
      " 90%|██████████████████████████████████████████████████████████████████████████████████▉         | 91/101 [23:32<03:00, 18.06s/it]"
     ]
    },
    {
     "name": "stdout",
     "output_type": "stream",
     "text": [
      "utmos: 4.08350944519043\n",
      "test_ds_index_91: LJ039-0104\n",
      "[seq]text2mel\n",
      "phonemes_len: 383\n",
      "phnid_len: 75\n",
      "gradfreqktts dt: 5.450477220118046\n",
      "gradfreqktts RTF: 1.5914065506303352\n",
      "[seq]mel2wav\n",
      "[seq]wav2utmos\n"
     ]
    },
    {
     "name": "stderr",
     "output_type": "stream",
     "text": [
      " 91%|███████████████████████████████████████████████████████████████████████████████████▊        | 92/101 [23:40<02:16, 15.14s/it]"
     ]
    },
    {
     "name": "stdout",
     "output_type": "stream",
     "text": [
      "utmos: 4.033607006072998\n",
      "test_ds_index_92: LJ002-0038\n",
      "[seq]text2mel\n",
      "phonemes_len: 642\n",
      "phnid_len: 123\n",
      "gradfreqktts dt: 8.71982081187889\n",
      "gradfreqktts RTF: 1.5453964835867535\n",
      "[seq]mel2wav\n",
      "[seq]wav2utmos\n"
     ]
    },
    {
     "name": "stderr",
     "output_type": "stream",
     "text": [
      " 92%|████████████████████████████████████████████████████████████████████████████████████▋       | 93/101 [23:53<01:56, 14.53s/it]"
     ]
    },
    {
     "name": "stdout",
     "output_type": "stream",
     "text": [
      "utmos: 3.897439956665039\n",
      "test_ds_index_93: LJ046-0194\n",
      "[seq]text2mel\n",
      "phonemes_len: 1259\n",
      "phnid_len: 239\n",
      "gradfreqktts dt: 15.725392325781286\n",
      "gradfreqktts RTF: 1.6221224774676148\n",
      "[seq]mel2wav\n",
      "[seq]wav2utmos\n"
     ]
    },
    {
     "name": "stderr",
     "output_type": "stream",
     "text": [
      " 93%|█████████████████████████████████████████████████████████████████████████████████████▌      | 94/101 [24:17<02:00, 17.15s/it]"
     ]
    },
    {
     "name": "stdout",
     "output_type": "stream",
     "text": [
      "utmos: 3.3616788387298584\n",
      "test_ds_index_94: LJ008-0115\n",
      "[seq]text2mel\n",
      "phonemes_len: 845\n",
      "phnid_len: 161\n",
      "gradfreqktts dt: 9.761282260995358\n",
      "gradfreqktts RTF: 1.5656735470128291\n",
      "[seq]mel2wav\n",
      "[seq]wav2utmos\n"
     ]
    },
    {
     "name": "stderr",
     "output_type": "stream",
     "text": [
      " 94%|██████████████████████████████████████████████████████████████████████████████████████▌     | 95/101 [24:31<01:38, 16.40s/it]"
     ]
    },
    {
     "name": "stdout",
     "output_type": "stream",
     "text": [
      "utmos: 3.8991506099700928\n",
      "test_ds_index_95: LJ016-0104\n",
      "[seq]text2mel\n",
      "phonemes_len: 521\n",
      "phnid_len: 101\n",
      "gradfreqktts dt: 6.2250189878977835\n",
      "gradfreqktts RTF: 1.591033807992699\n",
      "[seq]mel2wav\n",
      "[seq]wav2utmos\n"
     ]
    },
    {
     "name": "stderr",
     "output_type": "stream",
     "text": [
      " 95%|███████████████████████████████████████████████████████████████████████████████████████▍    | 96/101 [24:39<01:08, 13.72s/it]"
     ]
    },
    {
     "name": "stdout",
     "output_type": "stream",
     "text": [
      "utmos: 4.358458042144775\n",
      "test_ds_index_96: LJ019-0301\n",
      "[seq]text2mel\n",
      "phonemes_len: 1122\n",
      "phnid_len: 213\n",
      "gradfreqktts dt: 13.690565771888942\n",
      "gradfreqktts RTF: 1.6679023120919774\n",
      "[seq]mel2wav\n",
      "[seq]wav2utmos\n"
     ]
    },
    {
     "name": "stderr",
     "output_type": "stream",
     "text": [
      " 96%|████████████████████████████████████████████████████████████████████████████████████████▎   | 97/101 [24:58<01:01, 15.38s/it]"
     ]
    },
    {
     "name": "stdout",
     "output_type": "stream",
     "text": [
      "utmos: 4.352012634277344\n",
      "test_ds_index_97: LJ028-0012\n",
      "[seq]text2mel\n",
      "phonemes_len: 1165\n",
      "phnid_len: 219\n",
      "gradfreqktts dt: 15.45112262479961\n",
      "gradfreqktts RTF: 1.7351351342325587\n",
      "[seq]mel2wav\n",
      "[seq]wav2utmos\n"
     ]
    },
    {
     "name": "stderr",
     "output_type": "stream",
     "text": [
      " 97%|█████████████████████████████████████████████████████████████████████████████████████████▎  | 98/101 [25:20<00:52, 17.47s/it]"
     ]
    },
    {
     "name": "stdout",
     "output_type": "stream",
     "text": [
      "utmos: 4.210286617279053\n",
      "test_ds_index_98: LJ018-0059\n",
      "[seq]text2mel\n",
      "phonemes_len: 1004\n",
      "phnid_len: 191\n",
      "gradfreqktts dt: 13.267337730154395\n",
      "gradfreqktts RTF: 1.6140580693298927\n",
      "[seq]mel2wav\n",
      "[seq]wav2utmos\n"
     ]
    },
    {
     "name": "stderr",
     "output_type": "stream",
     "text": [
      " 98%|██████████████████████████████████████████████████████████████████████████████████████████▏ | 99/101 [25:40<00:36, 18.04s/it]"
     ]
    },
    {
     "name": "stdout",
     "output_type": "stream",
     "text": [
      "utmos: 3.9591476917266846\n",
      "test_ds_index_99: LJ029-0081\n",
      "[seq]text2mel\n",
      "phonemes_len: 1427\n",
      "phnid_len: 269\n",
      "gradfreqktts dt: 21.092320363037288\n",
      "gradfreqktts RTF: 1.9043405398526443\n",
      "[seq]mel2wav\n",
      "[seq]wav2utmos\n"
     ]
    },
    {
     "name": "stderr",
     "output_type": "stream",
     "text": [
      " 99%|██████████████████████████████████████████████████████████████████████████████████████████ | 100/101 [26:09<00:21, 21.35s/it]"
     ]
    },
    {
     "name": "stdout",
     "output_type": "stream",
     "text": [
      "utmos: 4.167963981628418\n",
      "test_ds_index_100: LJ017-0230\n",
      "[seq]text2mel\n",
      "phonemes_len: 1085\n",
      "phnid_len: 207\n",
      "gradfreqktts dt: 12.798251107800752\n",
      "gradfreqktts RTF: 1.5395940823968148\n",
      "[seq]mel2wav\n",
      "[seq]wav2utmos\n"
     ]
    },
    {
     "name": "stderr",
     "output_type": "stream",
     "text": [
      "100%|███████████████████████████████████████████████████████████████████████████████████████████| 101/101 [26:28<00:00, 15.73s/it]"
     ]
    },
    {
     "name": "stdout",
     "output_type": "stream",
     "text": [
      "utmos: 4.021300315856934\n"
     ]
    },
    {
     "name": "stderr",
     "output_type": "stream",
     "text": [
      "\n"
     ]
    }
   ],
   "source": [
    "eval_list = []\n",
    "\n",
    "\n",
    "for i in tqdm(range(infer_data_num)):\n",
    "    test_ds_filename = test_ds_list[i]['name']\n",
    "    mel_npy_path = RESULT_MEL_DIR_PATH / f\"{test_ds_filename}.npy\"\n",
    "    synth_wav_path = RESULT_WAV_DIR_PATH / f\"{test_ds_filename}.wav\"\n",
    "    print(f'test_ds_index_{i}: {test_ds_filename}')\n",
    "    # [seq]text2mel =========================================================\n",
    "    # load txt\n",
    "    print('[seq]text2mel')\n",
    "    text = test_ds_list[i]['text']\n",
    "    phonemes, phnid = text2phnid(text, phn2id, 'en')\n",
    "    phonemes_len_int = len(phonemes)\n",
    "    phnid_len_int = len(phnid)\n",
    "    print(f'phonemes_len: {phonemes_len_int}')\n",
    "    print(f'phnid_len: {phnid_len_int}')\n",
    "    phnid_len = torch.tensor(len(phnid), dtype=torch.long).unsqueeze(0).to(device)\n",
    "    phnid = torch.tensor(phnid).unsqueeze(0).to(device)\n",
    "\n",
    "    # [seq] synth speech\n",
    "    # process text to mel\n",
    "    # mel is [n_mels, n_frame]\n",
    "    start_time = time.perf_counter()\n",
    "    _, mel_prediction, _ = model.forward(phnid,\n",
    "                                        phnid_len,\n",
    "                                        n_timesteps=N_STEP,\n",
    "                                        temperature=TEMP,\n",
    "                                        solver='original')\n",
    "    end_time = time.perf_counter()\n",
    "\n",
    "    dt = end_time - start_time\n",
    "    dt4mel = dt * 22050 / ( mel_prediction.shape[-1] * 256)\n",
    "    print(f'{model_name} dt: {dt}')\n",
    "    print(f'{model_name} RTF: {dt4mel}')\n",
    "    \n",
    "    # for save mel\n",
    "    mel4save = mel_prediction.unsqueeze(0) # [batch, channel(freq), n_frame(time)] ex.[1, 80, 619]\n",
    "    # save\n",
    "    #mel_npy_path =  RESULT_MEL_DIR_PATH / f\"{test_ds_filename}.npy\"\n",
    "    #print(f'test_ds_index_{i}: {mel_npy_path}')\n",
    "    np.save(mel_npy_path, mel4save.cpu().detach().numpy().copy())\n",
    "\n",
    "    # [seq]mel2wav =========================================================\n",
    "    print('[seq]mel2wav')\n",
    "    x = np.load(mel_npy_path) # [1, n_mel, n_frame]\n",
    "    x2audio = torch.FloatTensor(x).to(device)\n",
    "    x2audio = x2audio.squeeze().unsqueeze(0)\n",
    "    # x2audio is [1, n_mels, n_frames]\n",
    "    assert x2audio.shape[0] == 1\n",
    "    with torch.no_grad():\n",
    "        # vocoder.forward(x).cpu() is torch.Size([1, 1, 167168])\n",
    "        audio = (vocoder.forward(x2audio).cpu().squeeze().clamp(-1,1).numpy() * 32768).astype(np.int16)\n",
    "    write(\n",
    "        synth_wav_path,\n",
    "        hifigan_hparams.sampling_rate,\n",
    "        audio)\n",
    "\n",
    "    # [seq]wav2utmos =========================================================\n",
    "    print('[seq]wav2utmos')\n",
    "    #iwav_path = RESULT_WAV_DIR_PATH / f\"{filename}.wav\"\n",
    "    #wav, samplerate = torchaudio.load(iwav_path)\n",
    "    wav, samplerate = torchaudio.load(synth_wav_path)\n",
    "    score_utmos = predictor_utmos(wav, samplerate)\n",
    "    score_utmos_float = score_utmos.item()\n",
    "    print(f'utmos: {score_utmos_float}')\n",
    "    #eval_dict = {'name': filename, 'path': str(iwav_path), 'utmos': score_float}\n",
    "    #score_utmos_list.append(eval_dict)\n",
    "    \n",
    "    # path, テキスト文、phonimes, phonimes数, dt, RTF, utmos\n",
    "    eval_dict = {\n",
    "        'name': test_ds_filename,\n",
    "        'phonemes_len': phonemes_len_int,\n",
    "        'phnid_len': phnid_len_int,\n",
    "        'dt': dt,\n",
    "        'RTF4mel': dt4mel,\n",
    "        'utmos': score_utmos_float\n",
    "    }\n",
    "    eval_list.append(eval_dict)\n",
    "    "
   ]
  },
  {
   "cell_type": "code",
   "execution_count": 20,
   "id": "056c73a5-cdbc-4858-9621-e8b5e2367c36",
   "metadata": {},
   "outputs": [
    {
     "name": "stdout",
     "output_type": "stream",
     "text": [
      "Make result4eval/infer4mid/gradfreqktts/cpu/e1000/eval4mid.json\n"
     ]
    }
   ],
   "source": [
    "#RESULT_JSON_PATH = RESULT_DIR_PATH / 'eval4mid.json'\n",
    "if RESULT_JSON_PATH.exists() == False:\n",
    "    with open(RESULT_JSON_PATH, 'w') as f:\n",
    "        for entry in eval_list:\n",
    "            f.write(json.dumps(entry) + '\\n')\n",
    "    print(f'Make {RESULT_JSON_PATH}')\n",
    "else:\n",
    "    print(f'Already Exists {RESULT_JSON_PATH}')"
   ]
  },
  {
   "cell_type": "code",
   "execution_count": 21,
   "id": "c31dbc89-a74c-4843-b9e2-94c8d4de4522",
   "metadata": {},
   "outputs": [
    {
     "data": {
      "text/plain": [
       "[{'name': 'LJ045-0049',\n",
       "  'phonemes_len': 1127,\n",
       "  'phnid_len': 215,\n",
       "  'dt': 22.842133776284754,\n",
       "  'RTF4mel': 2.8848346417194306,\n",
       "  'utmos': 3.8492660522460938},\n",
       " {'name': 'LJ017-0027',\n",
       "  'phonemes_len': 411,\n",
       "  'phnid_len': 79,\n",
       "  'dt': 5.010633602272719,\n",
       "  'RTF4mel': 1.80577391033789,\n",
       "  'utmos': 4.283524513244629},\n",
       " {'name': 'LJ023-0031',\n",
       "  'phonemes_len': 223,\n",
       "  'phnid_len': 45,\n",
       "  'dt': 3.5765119860880077,\n",
       "  'RTF4mel': 1.855753230733259,\n",
       "  'utmos': 3.367459297180176},\n",
       " {'name': 'LJ032-0046',\n",
       "  'phonemes_len': 650,\n",
       "  'phnid_len': 125,\n",
       "  'dt': 7.788422550074756,\n",
       "  'RTF4mel': 1.5315952949231983,\n",
       "  'utmos': 3.553670644760132},\n",
       " {'name': 'LJ030-0026',\n",
       "  'phonemes_len': 1025,\n",
       "  'phnid_len': 195,\n",
       "  'dt': 12.226165103726089,\n",
       "  'RTF4mel': 1.6251141766562998,\n",
       "  'utmos': 3.5788278579711914},\n",
       " {'name': 'LJ020-0041',\n",
       "  'phonemes_len': 1154,\n",
       "  'phnid_len': 219,\n",
       "  'dt': 13.538582754321396,\n",
       "  'RTF4mel': 1.530336233456297,\n",
       "  'utmos': 4.138723373413086},\n",
       " {'name': 'LJ001-0070',\n",
       "  'phonemes_len': 1137,\n",
       "  'phnid_len': 215,\n",
       "  'dt': 11.898073677904904,\n",
       "  'RTF4mel': 1.4852384771161862,\n",
       "  'utmos': 4.254480361938477},\n",
       " {'name': 'LJ019-0334',\n",
       "  'phonemes_len': 611,\n",
       "  'phnid_len': 117,\n",
       "  'dt': 6.345174660906196,\n",
       "  'RTF4mel': 1.5055860588087726,\n",
       "  'utmos': 3.996896982192993},\n",
       " {'name': 'LJ022-0152',\n",
       "  'phonemes_len': 387,\n",
       "  'phnid_len': 75,\n",
       "  'dt': 5.020624415948987,\n",
       "  'RTF4mel': 1.5611570449525491,\n",
       "  'utmos': 3.4685163497924805},\n",
       " {'name': 'LJ050-0154',\n",
       "  'phonemes_len': 896,\n",
       "  'phnid_len': 171,\n",
       "  'dt': 10.18163893930614,\n",
       "  'RTF4mel': 1.5278278705608965,\n",
       "  'utmos': 3.658318042755127},\n",
       " {'name': 'LJ016-0045',\n",
       "  'phonemes_len': 1237,\n",
       "  'phnid_len': 235,\n",
       "  'dt': 13.453371810726821,\n",
       "  'RTF4mel': 1.4875182948217187,\n",
       "  'utmos': 3.7614963054656982},\n",
       " {'name': 'LJ036-0100',\n",
       "  'phonemes_len': 802,\n",
       "  'phnid_len': 153,\n",
       "  'dt': 9.975741758011281,\n",
       "  'RTF4mel': 1.5288944740057047,\n",
       "  'utmos': 3.7927186489105225},\n",
       " {'name': 'LJ046-0016',\n",
       "  'phonemes_len': 884,\n",
       "  'phnid_len': 167,\n",
       "  'dt': 9.07360673788935,\n",
       "  'RTF4mel': 1.4886386054349714,\n",
       "  'utmos': 4.318185806274414},\n",
       " {'name': 'LJ048-0085',\n",
       "  'phonemes_len': 1181,\n",
       "  'phnid_len': 223,\n",
       "  'dt': 12.299596666824073,\n",
       "  'RTF4mel': 1.4921110613087083,\n",
       "  'utmos': 4.168603897094727},\n",
       " {'name': 'LJ050-0197',\n",
       "  'phonemes_len': 282,\n",
       "  'phnid_len': 55,\n",
       "  'dt': 3.6492992620915174,\n",
       "  'RTF4mel': 1.756002285464341,\n",
       "  'utmos': 4.066720962524414},\n",
       " {'name': 'LJ050-0178',\n",
       "  'phonemes_len': 709,\n",
       "  'phnid_len': 135,\n",
       "  'dt': 7.979936700779945,\n",
       "  'RTF4mel': 1.555055184638343,\n",
       "  'utmos': 4.084699630737305},\n",
       " {'name': 'LJ043-0079',\n",
       "  'phonemes_len': 1445,\n",
       "  'phnid_len': 273,\n",
       "  'dt': 20.113505525980145,\n",
       "  'RTF4mel': 1.7878563469421689,\n",
       "  'utmos': 4.227631092071533},\n",
       " {'name': 'LJ050-0207',\n",
       "  'phonemes_len': 737,\n",
       "  'phnid_len': 141,\n",
       "  'dt': 8.318897793069482,\n",
       "  'RTF4mel': 1.561067677161476,\n",
       "  'utmos': 3.8534200191497803},\n",
       " {'name': 'LJ034-0005',\n",
       "  'phonemes_len': 1442,\n",
       "  'phnid_len': 273,\n",
       "  'dt': 22.656556345988065,\n",
       "  'RTF4mel': 2.0938550639964326,\n",
       "  'utmos': 3.801114320755005},\n",
       " {'name': 'LJ031-0151',\n",
       "  'phonemes_len': 1203,\n",
       "  'phnid_len': 227,\n",
       "  'dt': 13.984741198830307,\n",
       "  'RTF4mel': 1.7110015504827785,\n",
       "  'utmos': 4.110653877258301},\n",
       " {'name': 'LJ023-0021',\n",
       "  'phonemes_len': 564,\n",
       "  'phnid_len': 109,\n",
       "  'dt': 6.217736491933465,\n",
       "  'RTF4mel': 1.5891724968371304,\n",
       "  'utmos': 4.3260626792907715},\n",
       " {'name': 'LJ015-0301',\n",
       "  'phonemes_len': 780,\n",
       "  'phnid_len': 149,\n",
       "  'dt': 9.3972298479639,\n",
       "  'RTF4mel': 1.5129155822693048,\n",
       "  'utmos': 4.039696216583252},\n",
       " {'name': 'LJ021-0153',\n",
       "  'phonemes_len': 320,\n",
       "  'phnid_len': 63,\n",
       "  'dt': 4.6432925700210035,\n",
       "  'RTF4mel': 1.7775104369611654,\n",
       "  'utmos': 3.0826258659362793},\n",
       " {'name': 'LJ014-0037',\n",
       "  'phonemes_len': 365,\n",
       "  'phnid_len': 71,\n",
       "  'dt': 5.056643248070031,\n",
       "  'RTF4mel': 1.6687467615532836,\n",
       "  'utmos': 3.8680949211120605},\n",
       " {'name': 'LJ004-0200',\n",
       "  'phonemes_len': 1097,\n",
       "  'phnid_len': 207,\n",
       "  'dt': 14.699585995171219,\n",
       "  'RTF4mel': 1.6881555791329448,\n",
       "  'utmos': 3.784943103790283},\n",
       " {'name': 'LJ049-0010',\n",
       "  'phonemes_len': 471,\n",
       "  'phnid_len': 91,\n",
       "  'dt': 5.317726229783148,\n",
       "  'RTF4mel': 1.5474010685008235,\n",
       "  'utmos': 3.745633125305176},\n",
       " {'name': 'LJ008-0291',\n",
       "  'phonemes_len': 365,\n",
       "  'phnid_len': 71,\n",
       "  'dt': 4.488477427046746,\n",
       "  'RTF4mel': 1.62439153207689,\n",
       "  'utmos': 3.774350881576538},\n",
       " {'name': 'LJ048-0221',\n",
       "  'phonemes_len': 602,\n",
       "  'phnid_len': 115,\n",
       "  'dt': 7.2188447611406446,\n",
       "  'RTF4mel': 1.5390579264305309,\n",
       "  'utmos': 3.437954902648926},\n",
       " {'name': 'LJ004-0157',\n",
       "  'phonemes_len': 637,\n",
       "  'phnid_len': 121,\n",
       "  'dt': 7.78364052483812,\n",
       "  'RTF4mel': 1.499836353228822,\n",
       "  'utmos': 4.1889519691467285},\n",
       " {'name': 'LJ013-0175',\n",
       "  'phonemes_len': 681,\n",
       "  'phnid_len': 131,\n",
       "  'dt': 7.640574256423861,\n",
       "  'RTF4mel': 1.4922996594577853,\n",
       "  'utmos': 3.7072415351867676},\n",
       " {'name': 'LJ021-0100',\n",
       "  'phonemes_len': 752,\n",
       "  'phnid_len': 143,\n",
       "  'dt': 9.077215690165758,\n",
       "  'RTF4mel': 1.5512819782998122,\n",
       "  'utmos': 3.833601474761963},\n",
       " {'name': 'LJ018-0132',\n",
       "  'phonemes_len': 687,\n",
       "  'phnid_len': 131,\n",
       "  'dt': 8.555574359372258,\n",
       "  'RTF4mel': 1.4887185497487239,\n",
       "  'utmos': 4.087820053100586},\n",
       " {'name': 'LJ023-0059',\n",
       "  'phonemes_len': 1184,\n",
       "  'phnid_len': 225,\n",
       "  'dt': 14.58811146626249,\n",
       "  'RTF4mel': 1.6318377527956975,\n",
       "  'utmos': 3.064539909362793},\n",
       " {'name': 'LJ003-0027',\n",
       "  'phonemes_len': 964,\n",
       "  'phnid_len': 183,\n",
       "  'dt': 11.615699242800474,\n",
       "  'RTF4mel': 1.650978291974464,\n",
       "  'utmos': 3.7497384548187256},\n",
       " {'name': 'LJ018-0133',\n",
       "  'phonemes_len': 674,\n",
       "  'phnid_len': 129,\n",
       "  'dt': 7.497025520075113,\n",
       "  'RTF4mel': 1.5338239748891798,\n",
       "  'utmos': 4.331391334533691},\n",
       " {'name': 'LJ033-0060',\n",
       "  'phonemes_len': 596,\n",
       "  'phnid_len': 115,\n",
       "  'dt': 7.337423372082412,\n",
       "  'RTF4mel': 1.522874485640222,\n",
       "  'utmos': 3.6043527126312256},\n",
       " {'name': 'LJ003-0299',\n",
       "  'phonemes_len': 881,\n",
       "  'phnid_len': 167,\n",
       "  'dt': 10.393578002694994,\n",
       "  'RTF4mel': 1.5303044535217991,\n",
       "  'utmos': 3.3767051696777344},\n",
       " {'name': 'LJ011-0060',\n",
       "  'phonemes_len': 1083,\n",
       "  'phnid_len': 205,\n",
       "  'dt': 12.077137372922152,\n",
       "  'RTF4mel': 1.4903120471040778,\n",
       "  'utmos': 3.749478578567505},\n",
       " {'name': 'LJ013-0240',\n",
       "  'phonemes_len': 768,\n",
       "  'phnid_len': 147,\n",
       "  'dt': 8.882225155830383,\n",
       "  'RTF4mel': 1.6038805742765654,\n",
       "  'utmos': 3.5965723991394043},\n",
       " {'name': 'LJ047-0076',\n",
       "  'phonemes_len': 1287,\n",
       "  'phnid_len': 245,\n",
       "  'dt': 17.312665805220604,\n",
       "  'RTF4mel': 1.7140098823864687,\n",
       "  'utmos': 3.5964832305908203},\n",
       " {'name': 'LJ041-0133',\n",
       "  'phonemes_len': 1018,\n",
       "  'phnid_len': 193,\n",
       "  'dt': 11.71084459591657,\n",
       "  'RTF4mel': 1.5145465192142944,\n",
       "  'utmos': 3.6059486865997314},\n",
       " {'name': 'LJ038-0264',\n",
       "  'phonemes_len': 1116,\n",
       "  'phnid_len': 211,\n",
       "  'dt': 12.455464106053114,\n",
       "  'RTF4mel': 1.5800061184788703,\n",
       "  'utmos': 3.702253818511963},\n",
       " {'name': 'LJ011-0016',\n",
       "  'phonemes_len': 609,\n",
       "  'phnid_len': 117,\n",
       "  'dt': 7.343712323810905,\n",
       "  'RTF4mel': 1.6867589243753174,\n",
       "  'utmos': 3.905336380004883},\n",
       " {'name': 'LJ003-0185',\n",
       "  'phonemes_len': 1105,\n",
       "  'phnid_len': 209,\n",
       "  'dt': 13.325840265955776,\n",
       "  'RTF4mel': 1.6805155212774803,\n",
       "  'utmos': 3.665759325027466},\n",
       " {'name': 'LJ014-0063',\n",
       "  'phonemes_len': 793,\n",
       "  'phnid_len': 151,\n",
       "  'dt': 8.391005114652216,\n",
       "  'RTF4mel': 1.5183631727455469,\n",
       "  'utmos': 4.124660491943359},\n",
       " {'name': 'LJ005-0185',\n",
       "  'phonemes_len': 588,\n",
       "  'phnid_len': 113,\n",
       "  'dt': 7.406216522213072,\n",
       "  'RTF4mel': 1.540865360005267,\n",
       "  'utmos': 4.3888020515441895},\n",
       " {'name': 'LJ014-0135',\n",
       "  'phonemes_len': 826,\n",
       "  'phnid_len': 157,\n",
       "  'dt': 8.647651692852378,\n",
       "  'RTF4mel': 1.4956758269593604,\n",
       "  'utmos': 3.8154354095458984},\n",
       " {'name': 'LJ009-0046',\n",
       "  'phonemes_len': 1011,\n",
       "  'phnid_len': 193,\n",
       "  'dt': 11.516059706918895,\n",
       "  'RTF4mel': 1.4716774650962168,\n",
       "  'utmos': 3.8487741947174072},\n",
       " {'name': 'LJ037-0024',\n",
       "  'phonemes_len': 1505,\n",
       "  'phnid_len': 285,\n",
       "  'dt': 22.363999971654266,\n",
       "  'RTF4mel': 2.0448770873763293,\n",
       "  'utmos': 3.902602195739746},\n",
       " {'name': 'LJ002-0217',\n",
       "  'phonemes_len': 1093,\n",
       "  'phnid_len': 207,\n",
       "  'dt': 12.893555168993771,\n",
       "  'RTF4mel': 1.6283844132395107,\n",
       "  'utmos': 3.9403457641601562},\n",
       " {'name': 'LJ044-0017',\n",
       "  'phonemes_len': 782,\n",
       "  'phnid_len': 149,\n",
       "  'dt': 9.686596999876201,\n",
       "  'RTF4mel': 1.5479292080768077,\n",
       "  'utmos': 3.538675308227539},\n",
       " {'name': 'LJ017-0074',\n",
       "  'phonemes_len': 481,\n",
       "  'phnid_len': 93,\n",
       "  'dt': 6.4323719148524106,\n",
       "  'RTF4mel': 1.5784566497784862,\n",
       "  'utmos': 4.008632183074951},\n",
       " {'name': 'LJ033-0153',\n",
       "  'phonemes_len': 714,\n",
       "  'phnid_len': 137,\n",
       "  'dt': 8.055406176950783,\n",
       "  'RTF4mel': 1.5282704622260872,\n",
       "  'utmos': 4.010202884674072},\n",
       " {'name': 'LJ032-0124',\n",
       "  'phonemes_len': 1056,\n",
       "  'phnid_len': 199,\n",
       "  'dt': 13.288325835950673,\n",
       "  'RTF4mel': 1.7211441769426241,\n",
       "  'utmos': 3.869961738586426},\n",
       " {'name': 'LJ018-0287',\n",
       "  'phonemes_len': 567,\n",
       "  'phnid_len': 109,\n",
       "  'dt': 6.494155132211745,\n",
       "  'RTF4mel': 1.5367028745843596,\n",
       "  'utmos': 4.067721843719482},\n",
       " {'name': 'LJ020-0038',\n",
       "  'phonemes_len': 620,\n",
       "  'phnid_len': 119,\n",
       "  'dt': 7.004491795785725,\n",
       "  'RTF4mel': 1.596075604508466,\n",
       "  'utmos': 4.128397464752197},\n",
       " {'name': 'LJ001-0007',\n",
       "  'phonemes_len': 1016,\n",
       "  'phnid_len': 193,\n",
       "  'dt': 13.346037171781063,\n",
       "  'RTF4mel': 1.5987923745967296,\n",
       "  'utmos': 3.656695604324341},\n",
       " {'name': 'LJ003-0313',\n",
       "  'phonemes_len': 1175,\n",
       "  'phnid_len': 223,\n",
       "  'dt': 16.08873875392601,\n",
       "  'RTF4mel': 1.7519194923557428,\n",
       "  'utmos': 3.624356746673584},\n",
       " {'name': 'LJ019-0265',\n",
       "  'phonemes_len': 590,\n",
       "  'phnid_len': 113,\n",
       "  'dt': 8.017229369841516,\n",
       "  'RTF4mel': 1.5448467876555982,\n",
       "  'utmos': 4.427779674530029},\n",
       " {'name': 'LJ038-0281',\n",
       "  'phonemes_len': 1193,\n",
       "  'phnid_len': 225,\n",
       "  'dt': 14.080007351003587,\n",
       "  'RTF4mel': 1.6658662543442495,\n",
       "  'utmos': 4.236476421356201},\n",
       " {'name': 'LJ045-0235',\n",
       "  'phonemes_len': 1185,\n",
       "  'phnid_len': 223,\n",
       "  'dt': 12.415118182078004,\n",
       "  'RTF4mel': 1.615330886015507,\n",
       "  'utmos': 4.176488399505615},\n",
       " {'name': 'LJ038-0255',\n",
       "  'phonemes_len': 240,\n",
       "  'phnid_len': 47,\n",
       "  'dt': 3.6959364940412343,\n",
       "  'RTF4mel': 1.941106128372933,\n",
       "  'utmos': 3.7694027423858643},\n",
       " {'name': 'LJ028-0205',\n",
       "  'phonemes_len': 899,\n",
       "  'phnid_len': 171,\n",
       "  'dt': 10.167644773609936,\n",
       "  'RTF4mel': 1.4970390441913668,\n",
       "  'utmos': 3.4248993396759033},\n",
       " {'name': 'LJ014-0260',\n",
       "  'phonemes_len': 1068,\n",
       "  'phnid_len': 203,\n",
       "  'dt': 14.958285619039088,\n",
       "  'RTF4mel': 1.7410800142515408,\n",
       "  'utmos': 3.662825107574463},\n",
       " {'name': 'LJ033-0166',\n",
       "  'phonemes_len': 967,\n",
       "  'phnid_len': 183,\n",
       "  'dt': 12.016021052841097,\n",
       "  'RTF4mel': 1.6146235387525971,\n",
       "  'utmos': 3.4509456157684326},\n",
       " {'name': 'LJ037-0125',\n",
       "  'phonemes_len': 1085,\n",
       "  'phnid_len': 205,\n",
       "  'dt': 13.558540327940136,\n",
       "  'RTF4mel': 1.610807188745043,\n",
       "  'utmos': 3.95365834236145},\n",
       " {'name': 'LJ013-0142',\n",
       "  'phonemes_len': 740,\n",
       "  'phnid_len': 143,\n",
       "  'dt': 8.324050412978977,\n",
       "  'RTF4mel': 1.5352759603033528,\n",
       "  'utmos': 3.469390392303467},\n",
       " {'name': 'LJ031-0199',\n",
       "  'phonemes_len': 1439,\n",
       "  'phnid_len': 273,\n",
       "  'dt': 19.48487584386021,\n",
       "  'RTF4mel': 1.8985148842137904,\n",
       "  'utmos': 3.6768856048583984},\n",
       " {'name': 'LJ004-0017',\n",
       "  'phonemes_len': 619,\n",
       "  'phnid_len': 119,\n",
       "  'dt': 7.618922980967909,\n",
       "  'RTF4mel': 1.5624744394563095,\n",
       "  'utmos': 3.871365785598755},\n",
       " {'name': 'LJ024-0115',\n",
       "  'phonemes_len': 1011,\n",
       "  'phnid_len': 191,\n",
       "  'dt': 11.310101766139269,\n",
       "  'RTF4mel': 1.4827562782021195,\n",
       "  'utmos': 3.489604949951172},\n",
       " {'name': 'LJ017-0171',\n",
       "  'phonemes_len': 620,\n",
       "  'phnid_len': 119,\n",
       "  'dt': 7.780451427213848,\n",
       "  'RTF4mel': 1.5918103656664317,\n",
       "  'utmos': 4.143746376037598},\n",
       " {'name': 'LJ017-0040',\n",
       "  'phonemes_len': 412,\n",
       "  'phnid_len': 79,\n",
       "  'dt': 5.493225432932377,\n",
       "  'RTF4mel': 1.5877414638758247,\n",
       "  'utmos': 3.4837825298309326},\n",
       " {'name': 'LJ005-0044',\n",
       "  'phonemes_len': 796,\n",
       "  'phnid_len': 151,\n",
       "  'dt': 8.177439809776843,\n",
       "  'RTF4mel': 1.4922582412405603,\n",
       "  'utmos': 4.038662910461426},\n",
       " {'name': 'LJ007-0169',\n",
       "  'phonemes_len': 399,\n",
       "  'phnid_len': 77,\n",
       "  'dt': 4.783804218750447,\n",
       "  'RTF4mel': 1.688698818894841,\n",
       "  'utmos': 3.7531344890594482},\n",
       " {'name': 'LJ015-0153',\n",
       "  'phonemes_len': 1156,\n",
       "  'phnid_len': 219,\n",
       "  'dt': 12.516067792195827,\n",
       "  'RTF4mel': 1.4952068243862582,\n",
       "  'utmos': 3.9688849449157715},\n",
       " {'name': 'LJ045-0043',\n",
       "  'phonemes_len': 1166,\n",
       "  'phnid_len': 221,\n",
       "  'dt': 15.983357415068895,\n",
       "  'RTF4mel': 1.7251773525721976,\n",
       "  'utmos': 3.802044630050659},\n",
       " {'name': 'LJ050-0010',\n",
       "  'phonemes_len': 1046,\n",
       "  'phnid_len': 197,\n",
       "  'dt': 10.911808555945754,\n",
       "  'RTF4mel': 1.518359871381537,\n",
       "  'utmos': 4.213281631469727},\n",
       " {'name': 'LJ006-0126',\n",
       "  'phonemes_len': 1061,\n",
       "  'phnid_len': 201,\n",
       "  'dt': 11.065158960875124,\n",
       "  'RTF4mel': 1.524917219295603,\n",
       "  'utmos': 4.092154026031494},\n",
       " {'name': 'LJ018-0356',\n",
       "  'phonemes_len': 979,\n",
       "  'phnid_len': 185,\n",
       "  'dt': 11.671179129742086,\n",
       "  'RTF4mel': 1.4959397077916492,\n",
       "  'utmos': 3.786849021911621},\n",
       " {'name': 'LJ040-0223',\n",
       "  'phonemes_len': 1070,\n",
       "  'phnid_len': 201,\n",
       "  'dt': 12.532923221588135,\n",
       "  'RTF4mel': 1.623302144243529,\n",
       "  'utmos': 3.7475287914276123},\n",
       " {'name': 'LJ008-0281',\n",
       "  'phonemes_len': 651,\n",
       "  'phnid_len': 125,\n",
       "  'dt': 7.946544865611941,\n",
       "  'RTF4mel': 1.5346597733914595,\n",
       "  'utmos': 4.4168291091918945},\n",
       " {'name': 'LJ008-0222',\n",
       "  'phonemes_len': 515,\n",
       "  'phnid_len': 99,\n",
       "  'dt': 6.798441894818097,\n",
       "  'RTF4mel': 1.6087058269739338,\n",
       "  'utmos': 3.664729356765747},\n",
       " {'name': 'LJ046-0123',\n",
       "  'phonemes_len': 1130,\n",
       "  'phnid_len': 213,\n",
       "  'dt': 13.367738192901015,\n",
       "  'RTF4mel': 1.6194105306866835,\n",
       "  'utmos': 3.644918441772461},\n",
       " {'name': 'LJ030-0044',\n",
       "  'phonemes_len': 965,\n",
       "  'phnid_len': 185,\n",
       "  'dt': 13.047079807147384,\n",
       "  'RTF4mel': 1.6526201157375908,\n",
       "  'utmos': 4.186734676361084},\n",
       " {'name': 'LJ018-0051',\n",
       "  'phonemes_len': 820,\n",
       "  'phnid_len': 157,\n",
       "  'dt': 9.97912065172568,\n",
       "  'RTF4mel': 1.4793971222202509,\n",
       "  'utmos': 3.915384531021118},\n",
       " {'name': 'LJ042-0231',\n",
       "  'phonemes_len': 574,\n",
       "  'phnid_len': 111,\n",
       "  'dt': 7.118880120106041,\n",
       "  'RTF4mel': 1.5844164511500547,\n",
       "  'utmos': 4.328577518463135},\n",
       " {'name': 'LJ011-0121',\n",
       "  'phonemes_len': 1123,\n",
       "  'phnid_len': 213,\n",
       "  'dt': 14.326740434858948,\n",
       "  'RTF4mel': 1.6743588162983367,\n",
       "  'utmos': 3.712336540222168},\n",
       " {'name': 'LJ016-0186',\n",
       "  'phonemes_len': 848,\n",
       "  'phnid_len': 161,\n",
       "  'dt': 10.332503892015666,\n",
       "  'RTF4mel': 1.4982619871826692,\n",
       "  'utmos': 4.1749396324157715},\n",
       " {'name': 'LJ011-0164',\n",
       "  'phonemes_len': 1007,\n",
       "  'phnid_len': 191,\n",
       "  'dt': 13.856076635885984,\n",
       "  'RTF4mel': 1.7271531850425443,\n",
       "  'utmos': 3.5691959857940674},\n",
       " {'name': 'LJ026-0039',\n",
       "  'phonemes_len': 1150,\n",
       "  'phnid_len': 219,\n",
       "  'dt': 12.989226150792092,\n",
       "  'RTF4mel': 1.6356704394243742,\n",
       "  'utmos': 3.1614885330200195},\n",
       " {'name': 'LJ003-0105',\n",
       "  'phonemes_len': 971,\n",
       "  'phnid_len': 185,\n",
       "  'dt': 12.71089394390583,\n",
       "  'RTF4mel': 1.6791795165304086,\n",
       "  'utmos': 4.08350944519043},\n",
       " {'name': 'LJ039-0104',\n",
       "  'phonemes_len': 383,\n",
       "  'phnid_len': 75,\n",
       "  'dt': 5.450477220118046,\n",
       "  'RTF4mel': 1.5914065506303352,\n",
       "  'utmos': 4.033607006072998},\n",
       " {'name': 'LJ002-0038',\n",
       "  'phonemes_len': 642,\n",
       "  'phnid_len': 123,\n",
       "  'dt': 8.71982081187889,\n",
       "  'RTF4mel': 1.5453964835867535,\n",
       "  'utmos': 3.897439956665039},\n",
       " {'name': 'LJ046-0194',\n",
       "  'phonemes_len': 1259,\n",
       "  'phnid_len': 239,\n",
       "  'dt': 15.725392325781286,\n",
       "  'RTF4mel': 1.6221224774676148,\n",
       "  'utmos': 3.3616788387298584},\n",
       " {'name': 'LJ008-0115',\n",
       "  'phonemes_len': 845,\n",
       "  'phnid_len': 161,\n",
       "  'dt': 9.761282260995358,\n",
       "  'RTF4mel': 1.5656735470128291,\n",
       "  'utmos': 3.8991506099700928},\n",
       " {'name': 'LJ016-0104',\n",
       "  'phonemes_len': 521,\n",
       "  'phnid_len': 101,\n",
       "  'dt': 6.2250189878977835,\n",
       "  'RTF4mel': 1.591033807992699,\n",
       "  'utmos': 4.358458042144775},\n",
       " {'name': 'LJ019-0301',\n",
       "  'phonemes_len': 1122,\n",
       "  'phnid_len': 213,\n",
       "  'dt': 13.690565771888942,\n",
       "  'RTF4mel': 1.6679023120919774,\n",
       "  'utmos': 4.352012634277344},\n",
       " {'name': 'LJ028-0012',\n",
       "  'phonemes_len': 1165,\n",
       "  'phnid_len': 219,\n",
       "  'dt': 15.45112262479961,\n",
       "  'RTF4mel': 1.7351351342325587,\n",
       "  'utmos': 4.210286617279053},\n",
       " {'name': 'LJ018-0059',\n",
       "  'phonemes_len': 1004,\n",
       "  'phnid_len': 191,\n",
       "  'dt': 13.267337730154395,\n",
       "  'RTF4mel': 1.6140580693298927,\n",
       "  'utmos': 3.9591476917266846},\n",
       " {'name': 'LJ029-0081',\n",
       "  'phonemes_len': 1427,\n",
       "  'phnid_len': 269,\n",
       "  'dt': 21.092320363037288,\n",
       "  'RTF4mel': 1.9043405398526443,\n",
       "  'utmos': 4.167963981628418},\n",
       " {'name': 'LJ017-0230',\n",
       "  'phonemes_len': 1085,\n",
       "  'phnid_len': 207,\n",
       "  'dt': 12.798251107800752,\n",
       "  'RTF4mel': 1.5395940823968148,\n",
       "  'utmos': 4.021300315856934}]"
      ]
     },
     "execution_count": 21,
     "metadata": {},
     "output_type": "execute_result"
    }
   ],
   "source": [
    "eval_list"
   ]
  },
  {
   "cell_type": "markdown",
   "id": "08aeb65e-6448-40c9-8575-d9e26693ce88",
   "metadata": {},
   "source": [
    "## recheck eval_json"
   ]
  },
  {
   "cell_type": "code",
   "execution_count": 22,
   "id": "e6a9aa1c-7a0f-4794-8dc4-1f4a5ab1c0e9",
   "metadata": {},
   "outputs": [
    {
     "name": "stdout",
     "output_type": "stream",
     "text": [
      "gradfreqktts\n",
      "result4eval/infer4mid/gradfreqktts/cpu/e1000\n",
      "eval_jsonl_path: result4eval/infer4mid/gradfreqktts/cpu/e1000/eval4mid.json\n",
      "Exist result4eval/infer4mid/gradfreqktts/cpu/e1000/eval4mid.json\n"
     ]
    }
   ],
   "source": [
    "target_model = 'gradfreqktts'\n",
    "target_device = 'cpu'\n",
    "target_epoch_str = 'e1000'\n",
    "\n",
    "print(target_model)\n",
    "print(RESULT_DIR_PATH)\n",
    "\n",
    "# /result4eval/infer4mid/gradtts/cpu/e500/eval4mid.json\n",
    "# result4eval/<runtime_name>/<model_name>/<device_name>/<target_epoch>/eval.json\n",
    "# or\n",
    "# result4eval/json4mid/<target_epoch>/eval4mid_<model_shortword>_<kernel_size>.json\n",
    "\"\"\"\n",
    "eval_info = {\n",
    "    'gradtts_cpu': 'result4eval/infer4mid/gradtts/cpu/eval4mid.json',\n",
    "    'gradseptts_cpu': 'result4eval/infer4mid/gradseptts/cpu/eval4mid.json',\n",
    "    'gradtfktts_cpu': 'result4eval/infer4mid/gradtfktts/cpu/eval4mid.json',\n",
    "    'gradtfk5tts_cpu': 'result4eval/infer4mid/gradtfk5tts/cpu/eval4mid.json',\n",
    "    'gradtimektts_cpu': 'result4eval/infer4mid/gradtimektts/cpu/eval4mid.json',\n",
    "    'gradfreqktts_cpu': 'result4eval/infer4mid/gradfreqktts/cpu/eval4mid.json',\n",
    "}\n",
    "\"\"\"\n",
    "\"\"\"\n",
    "eval_info = {\n",
    "    'cpu': {\n",
    "        'e500': {\n",
    "            'gradtts':f'{RESULT_DIR_PATH}/eval4mid.json',\n",
    "            'gradseptts': f'{RESULT_DIR_PATH}/eval4mid.json',\n",
    "            'gradtfktts': f'{RESULT_DIR_PATH}/eval4mid.json',\n",
    "            'gradtfk5tts': f'{RESULT_DIR_PATH}/eval4mid.json',\n",
    "            'gradtimektts': f'{RESULT_DIR_PATH}/eval4mid.json',\n",
    "            'gradfreqktts': f'{RESULT_DIR_PATH}/eval4mid.json',\n",
    "        },\n",
    "        'e1000':{\n",
    "            'gradtts': f'{RESULT_DIR_PATH}/eval4mid.json',\n",
    "            'gradseptts': f'{RESULT_DIR_PATH}/eval4mid.json',\n",
    "            'gradtfktts': f'{RESULT_DIR_PATH}/eval4mid.json',\n",
    "            'gradtfk5tts': f'{RESULT_DIR_PATH}/eval4mid.json',\n",
    "            'gradtimektts': f'{RESULT_DIR_PATH}/eval4mid.json',\n",
    "            'gradfreqktts': f'{RESULT_DIR_PATH}/eval4mid.json',\n",
    "        }\n",
    "    }\n",
    "}\n",
    "\"\"\"\n",
    "\n",
    "eval_jsonl_path = RESULT_DIR_PATH / 'eval4mid.json'\n",
    "print(f'eval_jsonl_path: {eval_jsonl_path}')\n",
    "\n",
    "if eval_jsonl_path.exists() == True:\n",
    "    print(f'Exist {eval_jsonl_path}')\n",
    "    import json\n",
    "    with open(eval_jsonl_path) as f:\n",
    "        eval_jsonl_list = [json.loads(l) for l in f]\n",
    "else:\n",
    "    print(f'No Exists {eval_jsonl_path}')"
   ]
  },
  {
   "cell_type": "code",
   "execution_count": 23,
   "id": "fc84e362-e28a-4064-bcad-4746106f026b",
   "metadata": {},
   "outputs": [
    {
     "data": {
      "text/plain": [
       "[{'name': 'LJ045-0049',\n",
       "  'phonemes_len': 1127,\n",
       "  'phnid_len': 215,\n",
       "  'dt': 22.842133776284754,\n",
       "  'RTF4mel': 2.8848346417194306,\n",
       "  'utmos': 3.8492660522460938},\n",
       " {'name': 'LJ017-0027',\n",
       "  'phonemes_len': 411,\n",
       "  'phnid_len': 79,\n",
       "  'dt': 5.010633602272719,\n",
       "  'RTF4mel': 1.80577391033789,\n",
       "  'utmos': 4.283524513244629},\n",
       " {'name': 'LJ023-0031',\n",
       "  'phonemes_len': 223,\n",
       "  'phnid_len': 45,\n",
       "  'dt': 3.5765119860880077,\n",
       "  'RTF4mel': 1.855753230733259,\n",
       "  'utmos': 3.367459297180176},\n",
       " {'name': 'LJ032-0046',\n",
       "  'phonemes_len': 650,\n",
       "  'phnid_len': 125,\n",
       "  'dt': 7.788422550074756,\n",
       "  'RTF4mel': 1.5315952949231983,\n",
       "  'utmos': 3.553670644760132},\n",
       " {'name': 'LJ030-0026',\n",
       "  'phonemes_len': 1025,\n",
       "  'phnid_len': 195,\n",
       "  'dt': 12.226165103726089,\n",
       "  'RTF4mel': 1.6251141766562998,\n",
       "  'utmos': 3.5788278579711914},\n",
       " {'name': 'LJ020-0041',\n",
       "  'phonemes_len': 1154,\n",
       "  'phnid_len': 219,\n",
       "  'dt': 13.538582754321396,\n",
       "  'RTF4mel': 1.530336233456297,\n",
       "  'utmos': 4.138723373413086},\n",
       " {'name': 'LJ001-0070',\n",
       "  'phonemes_len': 1137,\n",
       "  'phnid_len': 215,\n",
       "  'dt': 11.898073677904904,\n",
       "  'RTF4mel': 1.4852384771161862,\n",
       "  'utmos': 4.254480361938477},\n",
       " {'name': 'LJ019-0334',\n",
       "  'phonemes_len': 611,\n",
       "  'phnid_len': 117,\n",
       "  'dt': 6.345174660906196,\n",
       "  'RTF4mel': 1.5055860588087726,\n",
       "  'utmos': 3.996896982192993},\n",
       " {'name': 'LJ022-0152',\n",
       "  'phonemes_len': 387,\n",
       "  'phnid_len': 75,\n",
       "  'dt': 5.020624415948987,\n",
       "  'RTF4mel': 1.5611570449525491,\n",
       "  'utmos': 3.4685163497924805},\n",
       " {'name': 'LJ050-0154',\n",
       "  'phonemes_len': 896,\n",
       "  'phnid_len': 171,\n",
       "  'dt': 10.18163893930614,\n",
       "  'RTF4mel': 1.5278278705608965,\n",
       "  'utmos': 3.658318042755127},\n",
       " {'name': 'LJ016-0045',\n",
       "  'phonemes_len': 1237,\n",
       "  'phnid_len': 235,\n",
       "  'dt': 13.453371810726821,\n",
       "  'RTF4mel': 1.4875182948217187,\n",
       "  'utmos': 3.7614963054656982},\n",
       " {'name': 'LJ036-0100',\n",
       "  'phonemes_len': 802,\n",
       "  'phnid_len': 153,\n",
       "  'dt': 9.975741758011281,\n",
       "  'RTF4mel': 1.5288944740057047,\n",
       "  'utmos': 3.7927186489105225},\n",
       " {'name': 'LJ046-0016',\n",
       "  'phonemes_len': 884,\n",
       "  'phnid_len': 167,\n",
       "  'dt': 9.07360673788935,\n",
       "  'RTF4mel': 1.4886386054349714,\n",
       "  'utmos': 4.318185806274414},\n",
       " {'name': 'LJ048-0085',\n",
       "  'phonemes_len': 1181,\n",
       "  'phnid_len': 223,\n",
       "  'dt': 12.299596666824073,\n",
       "  'RTF4mel': 1.4921110613087083,\n",
       "  'utmos': 4.168603897094727},\n",
       " {'name': 'LJ050-0197',\n",
       "  'phonemes_len': 282,\n",
       "  'phnid_len': 55,\n",
       "  'dt': 3.6492992620915174,\n",
       "  'RTF4mel': 1.756002285464341,\n",
       "  'utmos': 4.066720962524414},\n",
       " {'name': 'LJ050-0178',\n",
       "  'phonemes_len': 709,\n",
       "  'phnid_len': 135,\n",
       "  'dt': 7.979936700779945,\n",
       "  'RTF4mel': 1.555055184638343,\n",
       "  'utmos': 4.084699630737305},\n",
       " {'name': 'LJ043-0079',\n",
       "  'phonemes_len': 1445,\n",
       "  'phnid_len': 273,\n",
       "  'dt': 20.113505525980145,\n",
       "  'RTF4mel': 1.7878563469421689,\n",
       "  'utmos': 4.227631092071533},\n",
       " {'name': 'LJ050-0207',\n",
       "  'phonemes_len': 737,\n",
       "  'phnid_len': 141,\n",
       "  'dt': 8.318897793069482,\n",
       "  'RTF4mel': 1.561067677161476,\n",
       "  'utmos': 3.8534200191497803},\n",
       " {'name': 'LJ034-0005',\n",
       "  'phonemes_len': 1442,\n",
       "  'phnid_len': 273,\n",
       "  'dt': 22.656556345988065,\n",
       "  'RTF4mel': 2.0938550639964326,\n",
       "  'utmos': 3.801114320755005},\n",
       " {'name': 'LJ031-0151',\n",
       "  'phonemes_len': 1203,\n",
       "  'phnid_len': 227,\n",
       "  'dt': 13.984741198830307,\n",
       "  'RTF4mel': 1.7110015504827785,\n",
       "  'utmos': 4.110653877258301},\n",
       " {'name': 'LJ023-0021',\n",
       "  'phonemes_len': 564,\n",
       "  'phnid_len': 109,\n",
       "  'dt': 6.217736491933465,\n",
       "  'RTF4mel': 1.5891724968371304,\n",
       "  'utmos': 4.3260626792907715},\n",
       " {'name': 'LJ015-0301',\n",
       "  'phonemes_len': 780,\n",
       "  'phnid_len': 149,\n",
       "  'dt': 9.3972298479639,\n",
       "  'RTF4mel': 1.5129155822693048,\n",
       "  'utmos': 4.039696216583252},\n",
       " {'name': 'LJ021-0153',\n",
       "  'phonemes_len': 320,\n",
       "  'phnid_len': 63,\n",
       "  'dt': 4.6432925700210035,\n",
       "  'RTF4mel': 1.7775104369611654,\n",
       "  'utmos': 3.0826258659362793},\n",
       " {'name': 'LJ014-0037',\n",
       "  'phonemes_len': 365,\n",
       "  'phnid_len': 71,\n",
       "  'dt': 5.056643248070031,\n",
       "  'RTF4mel': 1.6687467615532836,\n",
       "  'utmos': 3.8680949211120605},\n",
       " {'name': 'LJ004-0200',\n",
       "  'phonemes_len': 1097,\n",
       "  'phnid_len': 207,\n",
       "  'dt': 14.699585995171219,\n",
       "  'RTF4mel': 1.6881555791329448,\n",
       "  'utmos': 3.784943103790283},\n",
       " {'name': 'LJ049-0010',\n",
       "  'phonemes_len': 471,\n",
       "  'phnid_len': 91,\n",
       "  'dt': 5.317726229783148,\n",
       "  'RTF4mel': 1.5474010685008235,\n",
       "  'utmos': 3.745633125305176},\n",
       " {'name': 'LJ008-0291',\n",
       "  'phonemes_len': 365,\n",
       "  'phnid_len': 71,\n",
       "  'dt': 4.488477427046746,\n",
       "  'RTF4mel': 1.62439153207689,\n",
       "  'utmos': 3.774350881576538},\n",
       " {'name': 'LJ048-0221',\n",
       "  'phonemes_len': 602,\n",
       "  'phnid_len': 115,\n",
       "  'dt': 7.2188447611406446,\n",
       "  'RTF4mel': 1.5390579264305309,\n",
       "  'utmos': 3.437954902648926},\n",
       " {'name': 'LJ004-0157',\n",
       "  'phonemes_len': 637,\n",
       "  'phnid_len': 121,\n",
       "  'dt': 7.78364052483812,\n",
       "  'RTF4mel': 1.499836353228822,\n",
       "  'utmos': 4.1889519691467285},\n",
       " {'name': 'LJ013-0175',\n",
       "  'phonemes_len': 681,\n",
       "  'phnid_len': 131,\n",
       "  'dt': 7.640574256423861,\n",
       "  'RTF4mel': 1.4922996594577853,\n",
       "  'utmos': 3.7072415351867676},\n",
       " {'name': 'LJ021-0100',\n",
       "  'phonemes_len': 752,\n",
       "  'phnid_len': 143,\n",
       "  'dt': 9.077215690165758,\n",
       "  'RTF4mel': 1.5512819782998122,\n",
       "  'utmos': 3.833601474761963},\n",
       " {'name': 'LJ018-0132',\n",
       "  'phonemes_len': 687,\n",
       "  'phnid_len': 131,\n",
       "  'dt': 8.555574359372258,\n",
       "  'RTF4mel': 1.4887185497487239,\n",
       "  'utmos': 4.087820053100586},\n",
       " {'name': 'LJ023-0059',\n",
       "  'phonemes_len': 1184,\n",
       "  'phnid_len': 225,\n",
       "  'dt': 14.58811146626249,\n",
       "  'RTF4mel': 1.6318377527956975,\n",
       "  'utmos': 3.064539909362793},\n",
       " {'name': 'LJ003-0027',\n",
       "  'phonemes_len': 964,\n",
       "  'phnid_len': 183,\n",
       "  'dt': 11.615699242800474,\n",
       "  'RTF4mel': 1.650978291974464,\n",
       "  'utmos': 3.7497384548187256},\n",
       " {'name': 'LJ018-0133',\n",
       "  'phonemes_len': 674,\n",
       "  'phnid_len': 129,\n",
       "  'dt': 7.497025520075113,\n",
       "  'RTF4mel': 1.5338239748891798,\n",
       "  'utmos': 4.331391334533691},\n",
       " {'name': 'LJ033-0060',\n",
       "  'phonemes_len': 596,\n",
       "  'phnid_len': 115,\n",
       "  'dt': 7.337423372082412,\n",
       "  'RTF4mel': 1.522874485640222,\n",
       "  'utmos': 3.6043527126312256},\n",
       " {'name': 'LJ003-0299',\n",
       "  'phonemes_len': 881,\n",
       "  'phnid_len': 167,\n",
       "  'dt': 10.393578002694994,\n",
       "  'RTF4mel': 1.5303044535217991,\n",
       "  'utmos': 3.3767051696777344},\n",
       " {'name': 'LJ011-0060',\n",
       "  'phonemes_len': 1083,\n",
       "  'phnid_len': 205,\n",
       "  'dt': 12.077137372922152,\n",
       "  'RTF4mel': 1.4903120471040778,\n",
       "  'utmos': 3.749478578567505},\n",
       " {'name': 'LJ013-0240',\n",
       "  'phonemes_len': 768,\n",
       "  'phnid_len': 147,\n",
       "  'dt': 8.882225155830383,\n",
       "  'RTF4mel': 1.6038805742765654,\n",
       "  'utmos': 3.5965723991394043},\n",
       " {'name': 'LJ047-0076',\n",
       "  'phonemes_len': 1287,\n",
       "  'phnid_len': 245,\n",
       "  'dt': 17.312665805220604,\n",
       "  'RTF4mel': 1.7140098823864687,\n",
       "  'utmos': 3.5964832305908203},\n",
       " {'name': 'LJ041-0133',\n",
       "  'phonemes_len': 1018,\n",
       "  'phnid_len': 193,\n",
       "  'dt': 11.71084459591657,\n",
       "  'RTF4mel': 1.5145465192142944,\n",
       "  'utmos': 3.6059486865997314},\n",
       " {'name': 'LJ038-0264',\n",
       "  'phonemes_len': 1116,\n",
       "  'phnid_len': 211,\n",
       "  'dt': 12.455464106053114,\n",
       "  'RTF4mel': 1.5800061184788703,\n",
       "  'utmos': 3.702253818511963},\n",
       " {'name': 'LJ011-0016',\n",
       "  'phonemes_len': 609,\n",
       "  'phnid_len': 117,\n",
       "  'dt': 7.343712323810905,\n",
       "  'RTF4mel': 1.6867589243753174,\n",
       "  'utmos': 3.905336380004883},\n",
       " {'name': 'LJ003-0185',\n",
       "  'phonemes_len': 1105,\n",
       "  'phnid_len': 209,\n",
       "  'dt': 13.325840265955776,\n",
       "  'RTF4mel': 1.6805155212774803,\n",
       "  'utmos': 3.665759325027466},\n",
       " {'name': 'LJ014-0063',\n",
       "  'phonemes_len': 793,\n",
       "  'phnid_len': 151,\n",
       "  'dt': 8.391005114652216,\n",
       "  'RTF4mel': 1.5183631727455469,\n",
       "  'utmos': 4.124660491943359},\n",
       " {'name': 'LJ005-0185',\n",
       "  'phonemes_len': 588,\n",
       "  'phnid_len': 113,\n",
       "  'dt': 7.406216522213072,\n",
       "  'RTF4mel': 1.540865360005267,\n",
       "  'utmos': 4.3888020515441895},\n",
       " {'name': 'LJ014-0135',\n",
       "  'phonemes_len': 826,\n",
       "  'phnid_len': 157,\n",
       "  'dt': 8.647651692852378,\n",
       "  'RTF4mel': 1.4956758269593604,\n",
       "  'utmos': 3.8154354095458984},\n",
       " {'name': 'LJ009-0046',\n",
       "  'phonemes_len': 1011,\n",
       "  'phnid_len': 193,\n",
       "  'dt': 11.516059706918895,\n",
       "  'RTF4mel': 1.4716774650962168,\n",
       "  'utmos': 3.8487741947174072},\n",
       " {'name': 'LJ037-0024',\n",
       "  'phonemes_len': 1505,\n",
       "  'phnid_len': 285,\n",
       "  'dt': 22.363999971654266,\n",
       "  'RTF4mel': 2.0448770873763293,\n",
       "  'utmos': 3.902602195739746},\n",
       " {'name': 'LJ002-0217',\n",
       "  'phonemes_len': 1093,\n",
       "  'phnid_len': 207,\n",
       "  'dt': 12.893555168993771,\n",
       "  'RTF4mel': 1.6283844132395107,\n",
       "  'utmos': 3.9403457641601562},\n",
       " {'name': 'LJ044-0017',\n",
       "  'phonemes_len': 782,\n",
       "  'phnid_len': 149,\n",
       "  'dt': 9.686596999876201,\n",
       "  'RTF4mel': 1.5479292080768077,\n",
       "  'utmos': 3.538675308227539},\n",
       " {'name': 'LJ017-0074',\n",
       "  'phonemes_len': 481,\n",
       "  'phnid_len': 93,\n",
       "  'dt': 6.4323719148524106,\n",
       "  'RTF4mel': 1.5784566497784862,\n",
       "  'utmos': 4.008632183074951},\n",
       " {'name': 'LJ033-0153',\n",
       "  'phonemes_len': 714,\n",
       "  'phnid_len': 137,\n",
       "  'dt': 8.055406176950783,\n",
       "  'RTF4mel': 1.5282704622260872,\n",
       "  'utmos': 4.010202884674072},\n",
       " {'name': 'LJ032-0124',\n",
       "  'phonemes_len': 1056,\n",
       "  'phnid_len': 199,\n",
       "  'dt': 13.288325835950673,\n",
       "  'RTF4mel': 1.7211441769426241,\n",
       "  'utmos': 3.869961738586426},\n",
       " {'name': 'LJ018-0287',\n",
       "  'phonemes_len': 567,\n",
       "  'phnid_len': 109,\n",
       "  'dt': 6.494155132211745,\n",
       "  'RTF4mel': 1.5367028745843596,\n",
       "  'utmos': 4.067721843719482},\n",
       " {'name': 'LJ020-0038',\n",
       "  'phonemes_len': 620,\n",
       "  'phnid_len': 119,\n",
       "  'dt': 7.004491795785725,\n",
       "  'RTF4mel': 1.596075604508466,\n",
       "  'utmos': 4.128397464752197},\n",
       " {'name': 'LJ001-0007',\n",
       "  'phonemes_len': 1016,\n",
       "  'phnid_len': 193,\n",
       "  'dt': 13.346037171781063,\n",
       "  'RTF4mel': 1.5987923745967296,\n",
       "  'utmos': 3.656695604324341},\n",
       " {'name': 'LJ003-0313',\n",
       "  'phonemes_len': 1175,\n",
       "  'phnid_len': 223,\n",
       "  'dt': 16.08873875392601,\n",
       "  'RTF4mel': 1.7519194923557428,\n",
       "  'utmos': 3.624356746673584},\n",
       " {'name': 'LJ019-0265',\n",
       "  'phonemes_len': 590,\n",
       "  'phnid_len': 113,\n",
       "  'dt': 8.017229369841516,\n",
       "  'RTF4mel': 1.5448467876555982,\n",
       "  'utmos': 4.427779674530029},\n",
       " {'name': 'LJ038-0281',\n",
       "  'phonemes_len': 1193,\n",
       "  'phnid_len': 225,\n",
       "  'dt': 14.080007351003587,\n",
       "  'RTF4mel': 1.6658662543442495,\n",
       "  'utmos': 4.236476421356201},\n",
       " {'name': 'LJ045-0235',\n",
       "  'phonemes_len': 1185,\n",
       "  'phnid_len': 223,\n",
       "  'dt': 12.415118182078004,\n",
       "  'RTF4mel': 1.615330886015507,\n",
       "  'utmos': 4.176488399505615},\n",
       " {'name': 'LJ038-0255',\n",
       "  'phonemes_len': 240,\n",
       "  'phnid_len': 47,\n",
       "  'dt': 3.6959364940412343,\n",
       "  'RTF4mel': 1.941106128372933,\n",
       "  'utmos': 3.7694027423858643},\n",
       " {'name': 'LJ028-0205',\n",
       "  'phonemes_len': 899,\n",
       "  'phnid_len': 171,\n",
       "  'dt': 10.167644773609936,\n",
       "  'RTF4mel': 1.4970390441913668,\n",
       "  'utmos': 3.4248993396759033},\n",
       " {'name': 'LJ014-0260',\n",
       "  'phonemes_len': 1068,\n",
       "  'phnid_len': 203,\n",
       "  'dt': 14.958285619039088,\n",
       "  'RTF4mel': 1.7410800142515408,\n",
       "  'utmos': 3.662825107574463},\n",
       " {'name': 'LJ033-0166',\n",
       "  'phonemes_len': 967,\n",
       "  'phnid_len': 183,\n",
       "  'dt': 12.016021052841097,\n",
       "  'RTF4mel': 1.6146235387525971,\n",
       "  'utmos': 3.4509456157684326},\n",
       " {'name': 'LJ037-0125',\n",
       "  'phonemes_len': 1085,\n",
       "  'phnid_len': 205,\n",
       "  'dt': 13.558540327940136,\n",
       "  'RTF4mel': 1.610807188745043,\n",
       "  'utmos': 3.95365834236145},\n",
       " {'name': 'LJ013-0142',\n",
       "  'phonemes_len': 740,\n",
       "  'phnid_len': 143,\n",
       "  'dt': 8.324050412978977,\n",
       "  'RTF4mel': 1.5352759603033528,\n",
       "  'utmos': 3.469390392303467},\n",
       " {'name': 'LJ031-0199',\n",
       "  'phonemes_len': 1439,\n",
       "  'phnid_len': 273,\n",
       "  'dt': 19.48487584386021,\n",
       "  'RTF4mel': 1.8985148842137904,\n",
       "  'utmos': 3.6768856048583984},\n",
       " {'name': 'LJ004-0017',\n",
       "  'phonemes_len': 619,\n",
       "  'phnid_len': 119,\n",
       "  'dt': 7.618922980967909,\n",
       "  'RTF4mel': 1.5624744394563095,\n",
       "  'utmos': 3.871365785598755},\n",
       " {'name': 'LJ024-0115',\n",
       "  'phonemes_len': 1011,\n",
       "  'phnid_len': 191,\n",
       "  'dt': 11.310101766139269,\n",
       "  'RTF4mel': 1.4827562782021195,\n",
       "  'utmos': 3.489604949951172},\n",
       " {'name': 'LJ017-0171',\n",
       "  'phonemes_len': 620,\n",
       "  'phnid_len': 119,\n",
       "  'dt': 7.780451427213848,\n",
       "  'RTF4mel': 1.5918103656664317,\n",
       "  'utmos': 4.143746376037598},\n",
       " {'name': 'LJ017-0040',\n",
       "  'phonemes_len': 412,\n",
       "  'phnid_len': 79,\n",
       "  'dt': 5.493225432932377,\n",
       "  'RTF4mel': 1.5877414638758247,\n",
       "  'utmos': 3.4837825298309326},\n",
       " {'name': 'LJ005-0044',\n",
       "  'phonemes_len': 796,\n",
       "  'phnid_len': 151,\n",
       "  'dt': 8.177439809776843,\n",
       "  'RTF4mel': 1.4922582412405603,\n",
       "  'utmos': 4.038662910461426},\n",
       " {'name': 'LJ007-0169',\n",
       "  'phonemes_len': 399,\n",
       "  'phnid_len': 77,\n",
       "  'dt': 4.783804218750447,\n",
       "  'RTF4mel': 1.688698818894841,\n",
       "  'utmos': 3.7531344890594482},\n",
       " {'name': 'LJ015-0153',\n",
       "  'phonemes_len': 1156,\n",
       "  'phnid_len': 219,\n",
       "  'dt': 12.516067792195827,\n",
       "  'RTF4mel': 1.4952068243862582,\n",
       "  'utmos': 3.9688849449157715},\n",
       " {'name': 'LJ045-0043',\n",
       "  'phonemes_len': 1166,\n",
       "  'phnid_len': 221,\n",
       "  'dt': 15.983357415068895,\n",
       "  'RTF4mel': 1.7251773525721976,\n",
       "  'utmos': 3.802044630050659},\n",
       " {'name': 'LJ050-0010',\n",
       "  'phonemes_len': 1046,\n",
       "  'phnid_len': 197,\n",
       "  'dt': 10.911808555945754,\n",
       "  'RTF4mel': 1.518359871381537,\n",
       "  'utmos': 4.213281631469727},\n",
       " {'name': 'LJ006-0126',\n",
       "  'phonemes_len': 1061,\n",
       "  'phnid_len': 201,\n",
       "  'dt': 11.065158960875124,\n",
       "  'RTF4mel': 1.524917219295603,\n",
       "  'utmos': 4.092154026031494},\n",
       " {'name': 'LJ018-0356',\n",
       "  'phonemes_len': 979,\n",
       "  'phnid_len': 185,\n",
       "  'dt': 11.671179129742086,\n",
       "  'RTF4mel': 1.4959397077916492,\n",
       "  'utmos': 3.786849021911621},\n",
       " {'name': 'LJ040-0223',\n",
       "  'phonemes_len': 1070,\n",
       "  'phnid_len': 201,\n",
       "  'dt': 12.532923221588135,\n",
       "  'RTF4mel': 1.623302144243529,\n",
       "  'utmos': 3.7475287914276123},\n",
       " {'name': 'LJ008-0281',\n",
       "  'phonemes_len': 651,\n",
       "  'phnid_len': 125,\n",
       "  'dt': 7.946544865611941,\n",
       "  'RTF4mel': 1.5346597733914595,\n",
       "  'utmos': 4.4168291091918945},\n",
       " {'name': 'LJ008-0222',\n",
       "  'phonemes_len': 515,\n",
       "  'phnid_len': 99,\n",
       "  'dt': 6.798441894818097,\n",
       "  'RTF4mel': 1.6087058269739338,\n",
       "  'utmos': 3.664729356765747},\n",
       " {'name': 'LJ046-0123',\n",
       "  'phonemes_len': 1130,\n",
       "  'phnid_len': 213,\n",
       "  'dt': 13.367738192901015,\n",
       "  'RTF4mel': 1.6194105306866835,\n",
       "  'utmos': 3.644918441772461},\n",
       " {'name': 'LJ030-0044',\n",
       "  'phonemes_len': 965,\n",
       "  'phnid_len': 185,\n",
       "  'dt': 13.047079807147384,\n",
       "  'RTF4mel': 1.6526201157375908,\n",
       "  'utmos': 4.186734676361084},\n",
       " {'name': 'LJ018-0051',\n",
       "  'phonemes_len': 820,\n",
       "  'phnid_len': 157,\n",
       "  'dt': 9.97912065172568,\n",
       "  'RTF4mel': 1.4793971222202509,\n",
       "  'utmos': 3.915384531021118},\n",
       " {'name': 'LJ042-0231',\n",
       "  'phonemes_len': 574,\n",
       "  'phnid_len': 111,\n",
       "  'dt': 7.118880120106041,\n",
       "  'RTF4mel': 1.5844164511500547,\n",
       "  'utmos': 4.328577518463135},\n",
       " {'name': 'LJ011-0121',\n",
       "  'phonemes_len': 1123,\n",
       "  'phnid_len': 213,\n",
       "  'dt': 14.326740434858948,\n",
       "  'RTF4mel': 1.6743588162983367,\n",
       "  'utmos': 3.712336540222168},\n",
       " {'name': 'LJ016-0186',\n",
       "  'phonemes_len': 848,\n",
       "  'phnid_len': 161,\n",
       "  'dt': 10.332503892015666,\n",
       "  'RTF4mel': 1.4982619871826692,\n",
       "  'utmos': 4.1749396324157715},\n",
       " {'name': 'LJ011-0164',\n",
       "  'phonemes_len': 1007,\n",
       "  'phnid_len': 191,\n",
       "  'dt': 13.856076635885984,\n",
       "  'RTF4mel': 1.7271531850425443,\n",
       "  'utmos': 3.5691959857940674},\n",
       " {'name': 'LJ026-0039',\n",
       "  'phonemes_len': 1150,\n",
       "  'phnid_len': 219,\n",
       "  'dt': 12.989226150792092,\n",
       "  'RTF4mel': 1.6356704394243742,\n",
       "  'utmos': 3.1614885330200195},\n",
       " {'name': 'LJ003-0105',\n",
       "  'phonemes_len': 971,\n",
       "  'phnid_len': 185,\n",
       "  'dt': 12.71089394390583,\n",
       "  'RTF4mel': 1.6791795165304086,\n",
       "  'utmos': 4.08350944519043},\n",
       " {'name': 'LJ039-0104',\n",
       "  'phonemes_len': 383,\n",
       "  'phnid_len': 75,\n",
       "  'dt': 5.450477220118046,\n",
       "  'RTF4mel': 1.5914065506303352,\n",
       "  'utmos': 4.033607006072998},\n",
       " {'name': 'LJ002-0038',\n",
       "  'phonemes_len': 642,\n",
       "  'phnid_len': 123,\n",
       "  'dt': 8.71982081187889,\n",
       "  'RTF4mel': 1.5453964835867535,\n",
       "  'utmos': 3.897439956665039},\n",
       " {'name': 'LJ046-0194',\n",
       "  'phonemes_len': 1259,\n",
       "  'phnid_len': 239,\n",
       "  'dt': 15.725392325781286,\n",
       "  'RTF4mel': 1.6221224774676148,\n",
       "  'utmos': 3.3616788387298584},\n",
       " {'name': 'LJ008-0115',\n",
       "  'phonemes_len': 845,\n",
       "  'phnid_len': 161,\n",
       "  'dt': 9.761282260995358,\n",
       "  'RTF4mel': 1.5656735470128291,\n",
       "  'utmos': 3.8991506099700928},\n",
       " {'name': 'LJ016-0104',\n",
       "  'phonemes_len': 521,\n",
       "  'phnid_len': 101,\n",
       "  'dt': 6.2250189878977835,\n",
       "  'RTF4mel': 1.591033807992699,\n",
       "  'utmos': 4.358458042144775},\n",
       " {'name': 'LJ019-0301',\n",
       "  'phonemes_len': 1122,\n",
       "  'phnid_len': 213,\n",
       "  'dt': 13.690565771888942,\n",
       "  'RTF4mel': 1.6679023120919774,\n",
       "  'utmos': 4.352012634277344},\n",
       " {'name': 'LJ028-0012',\n",
       "  'phonemes_len': 1165,\n",
       "  'phnid_len': 219,\n",
       "  'dt': 15.45112262479961,\n",
       "  'RTF4mel': 1.7351351342325587,\n",
       "  'utmos': 4.210286617279053},\n",
       " {'name': 'LJ018-0059',\n",
       "  'phonemes_len': 1004,\n",
       "  'phnid_len': 191,\n",
       "  'dt': 13.267337730154395,\n",
       "  'RTF4mel': 1.6140580693298927,\n",
       "  'utmos': 3.9591476917266846},\n",
       " {'name': 'LJ029-0081',\n",
       "  'phonemes_len': 1427,\n",
       "  'phnid_len': 269,\n",
       "  'dt': 21.092320363037288,\n",
       "  'RTF4mel': 1.9043405398526443,\n",
       "  'utmos': 4.167963981628418},\n",
       " {'name': 'LJ017-0230',\n",
       "  'phonemes_len': 1085,\n",
       "  'phnid_len': 207,\n",
       "  'dt': 12.798251107800752,\n",
       "  'RTF4mel': 1.5395940823968148,\n",
       "  'utmos': 4.021300315856934}]"
      ]
     },
     "execution_count": 23,
     "metadata": {},
     "output_type": "execute_result"
    }
   ],
   "source": [
    "eval_jsonl_list"
   ]
  },
  {
   "cell_type": "markdown",
   "id": "5d2a19c7-188f-4cab-877e-7c787b5493af",
   "metadata": {},
   "source": [
    "## [seq] analysis json\n",
    "\n",
    "It is sequence of <span style=\"color: red;\">json analysis section</span> from below cells\n",
    "\n",
    "The 0th data seemed to have a slower inference time than usual, perhaps because the model took longer to load. Therefore, we try to use data from 1 to 101."
   ]
  },
  {
   "cell_type": "code",
   "execution_count": 23,
   "id": "a60b76fc-8566-40f1-b49d-59596dbeb46e",
   "metadata": {},
   "outputs": [
    {
     "name": "stdout",
     "output_type": "stream",
     "text": [
      "target_model: gradtts\n",
      "target_jsonl_path: result4eval/json4mid/e500\n",
      "Exist: result4eval/json4mid/e500/eval4mid_gt_k3.json\n",
      "load: configs/test_dataset.json\n"
     ]
    }
   ],
   "source": [
    "# for loading eval_jsonl of each models\n",
    "target_model = 'gradtts'\n",
    "target_device = 'cpu'\n",
    "target_epoch_str = 'e500'\n",
    "eval_json_dir = 'result4eval/json4mid' # or result4eval/infer4mid\n",
    "\n",
    "eval_json_dirpath = f'{eval_json_dir}/{target_epoch_str}'\n",
    "print(f'target_model: {target_model}')\n",
    "print(f'target_jsonl_path: {eval_json_dirpath}')\n",
    "\n",
    "\n",
    "# original eval4mid.json path: 'gradtts_cpu': 'result4eval/infer4mid/gradtts/cpu/eval4mid.json'\n",
    "# diff result4eval/infer4mid/gradtts/cpu/eval4mid.json result4eval/json4mid/eval4mid_gt_k3.json\n",
    "# no difference between upper files\n",
    "\n",
    "\"\"\"midtermstyle\n",
    "eval_info = {\n",
    "    'lj': f'result4eval/infer4PBL/groundtruth/evalljPBL.json',\n",
    "    'lj_via_hifigan': f'result4eval/infer4PBL/groundtruth/eval4PBL.json',\n",
    "    'gradtts_cpu': f'{eval_json_dirpath}/eval4mid_gt_k3.json',\n",
    "    'gradseptts_cpu': f'{eval_json_dirpath}/eval4mid_sgt_k3.json',\n",
    "    'gradtfktts_cpu': f'{eval_json_dirpath}/eval4mid_tfk_k3.json',\n",
    "    'gradtfk5tts_cpu': f'{eval_json_dirpath}/eval4mid_tfk_k5.json',\n",
    "    'gradtimektts_cpu': f'{eval_json_dirpath}/eval4mid_timek_k3.json',\n",
    "    'gradfreqktts_cpu': f'{eval_json_dirpath}/eval4mid_freqk_k3.json',\n",
    "}\n",
    "\n",
    "\"\"\"\n",
    "\n",
    "# result4eval/<runtime_name>/<model_name>/<device_name>/<target_epoch>/eval.json\n",
    "# or\n",
    "# result4eval/json4mid/<target_epoch>/eval4mid_<model_shortword>_<kernel_size>.json\n",
    "\n",
    "eval_info = {\n",
    "    'lj': f'result4eval/infer4PBL/groundtruth/evalljPBL.json',\n",
    "    'lj_via_hifigan': f'result4eval/infer4PBL/groundtruth/eval4PBL.json',\n",
    "    'cpu': {\n",
    "        'e500': {\n",
    "            'gradtts':f'{eval_json_dirpath}/eval4mid_gt_k3.json',\n",
    "            'gradseptts': f'{eval_json_dirpath}/eval4mid_sgt_k3.json',\n",
    "            'gradtfktts': f'{eval_json_dirpath}/eval4mid_tfk_k3.json',\n",
    "            'gradtfk5tts': f'{eval_json_dirpath}/eval4mid_tfk_k5.json',\n",
    "            'gradtimektts': f'{eval_json_dirpath}/eval4mid_timek_k3.json',\n",
    "            'gradfreqktts': f'{eval_json_dirpath}/eval4mid_freqk_k3.json',\n",
    "        },\n",
    "        'e1000':{\n",
    "            \n",
    "        }\n",
    "    }\n",
    "}\n",
    "\n",
    "#eval_jsonl_path = Path(eval_info[eval_target]) # midtermstyle\n",
    "eval_jsonl_path = Path(eval_info[target_device][target_epoch_str][target_model])\n",
    "\n",
    "\n",
    "if eval_jsonl_path.exists() == True:\n",
    "    print(f'Exist: {eval_jsonl_path}')\n",
    "    import json\n",
    "    with open(eval_jsonl_path) as f:\n",
    "        eval_jsonl_list = [json.loads(l) for l in f]\n",
    "else:\n",
    "    print(f'No Exists: {eval_jsonl_path}')\n",
    "\n",
    "\n",
    "# for loading test_dataset.json\n",
    "test_dataset_json_path = Path('configs/test_dataset.json')\n",
    "import json\n",
    "with open(test_dataset_json_path) as f:\n",
    "    test_dataset_list = [json.loads(l) for l in f]\n",
    "print(f'load: {test_dataset_json_path}')"
   ]
  },
  {
   "cell_type": "code",
   "execution_count": 24,
   "id": "0115b060-d043-4bfd-b815-727c9a3eb4cc",
   "metadata": {},
   "outputs": [],
   "source": [
    "def round_significant_digits(value, significant_digits=5):\n",
    "    if value == 0:\n",
    "        return 0\n",
    "\n",
    "    import math\n",
    "    scale = math.floor(-math.log10(abs(value)))  # Find the first nonzero after the decimal point\n",
    "    factor = 10 ** (scale + significant_digits - 1)  # Scale to hold 5 significant digits\n",
    "\n",
    "    rounded_value = round(value * factor,1) / factor  # Adjust and round off the scale\n",
    "    return rounded_value\n",
    "\n",
    "#input_value = 0.06238165879957992\n",
    "#input_value = 0.007710418871435095\n",
    "\n",
    "# Rounded to the nearest whole number to ensure significant figures\n",
    "#result = round_significant_digits(input_value, significant_digits=5)\n",
    "#print(result) "
   ]
  },
  {
   "cell_type": "code",
   "execution_count": 25,
   "id": "40447589-c29c-4896-b8cf-b7dc491c24dd",
   "metadata": {},
   "outputs": [],
   "source": [
    "# for culc phonemes length\n",
    "#text = test_ds_list[i]['text']\n",
    "#phonemes, phnid = text2phnid(text, phn2id, 'en')\n",
    "#phonemes_len_int = len(phonemes)\n",
    "#phnid_len_int = len(phnid)\n",
    "\n",
    "#test_dataset_list[0][0]"
   ]
  },
  {
   "cell_type": "code",
   "execution_count": 26,
   "id": "8e8191f7-d5ae-4e9b-89b2-70d4b1c18b37",
   "metadata": {},
   "outputs": [],
   "source": [
    "# The 0th data seemed to have a slower inference time than usual, \n",
    "# perhaps because the model took longer to load.\n",
    "# Therefore, we try to use data from 1 to 101\n",
    "\n",
    "#eval_jsonl_list[0]"
   ]
  },
  {
   "cell_type": "code",
   "execution_count": 27,
   "id": "38f9a7ba-de82-46bc-950f-d21569bb642a",
   "metadata": {},
   "outputs": [],
   "source": [
    "#counter_list = list(range(1,101))\n",
    "#print(f'counter_list_len: {len(counter_list)}')\n",
    "#print(f'counter_width: {counter_list[0]}-{counter_list[-1]}')\n",
    "#print(len(dt_nparr))"
   ]
  },
  {
   "cell_type": "code",
   "execution_count": 28,
   "id": "e9202b7d-7802-4d15-b721-a8cc25c66aa0",
   "metadata": {},
   "outputs": [],
   "source": [
    "# culc for evaluation Indicates\n",
    "dt_list = [eval_jsonl_list[n]['dt'] for n in range(len(eval_jsonl_list))]\n",
    "RTF4mel_list = [eval_jsonl_list[n]['RTF4mel'] for n in range(len(eval_jsonl_list))]\n",
    "utmos_list = [eval_jsonl_list[n]['utmos'] for n in range(len(eval_jsonl_list))]"
   ]
  },
  {
   "cell_type": "code",
   "execution_count": 29,
   "id": "458848be-dd23-43bb-944d-b36d811f8035",
   "metadata": {},
   "outputs": [
    {
     "name": "stdout",
     "output_type": "stream",
     "text": [
      "100\n"
     ]
    }
   ],
   "source": [
    "dt_nparr = np.array(dt_list[1:101])\n",
    "RTF4mel_nparr = np.array(RTF4mel_list[1:101])\n",
    "utmos_nparr = np.array(utmos_list[1:101])\n",
    "print(len(dt_nparr))"
   ]
  },
  {
   "cell_type": "code",
   "execution_count": 30,
   "id": "349d979a-c2f7-43c3-adbe-ba956aa61d68",
   "metadata": {},
   "outputs": [
    {
     "name": "stdout",
     "output_type": "stream",
     "text": [
      "gradfreqktts: dt ---------------------------\n",
      "dt mean: 14.776\n",
      "dt var: 24.908\n",
      "dt std: 4.9908\n",
      "gradfreqktts: RTF ---------------------------\n",
      "RTF mean: 2.2504\n",
      "RTF var: 0.0038915\n",
      "RTF std: 0.062382\n",
      "gradfreqktts: utmos ---------------------------\n",
      "utmos mean: 4.1955\n",
      "utmos var: 0.065222\n",
      "utmos std: 0.25539\n"
     ]
    }
   ],
   "source": [
    "significant_digits = 5\n",
    "\n",
    "# for culc difference time to infer text2mel\n",
    "dt_mean = round_significant_digits(np.mean(dt_nparr), significant_digits=significant_digits)\n",
    "dt_var = round_significant_digits(np.var(dt_nparr), significant_digits=significant_digits)\n",
    "dt_std = round_significant_digits(np.std(dt_nparr), significant_digits=significant_digits)\n",
    "print(f'{target_model}: dt ---------------------------')\n",
    "print(f'dt mean: {dt_mean}')\n",
    "print(f'dt var: {dt_var}')\n",
    "print(f'dt std: {dt_std}')\n",
    "\n",
    "# for culc RTF4mel to infer text2mel\n",
    "RTF4mel_mean = round_significant_digits(np.mean(RTF4mel_nparr), significant_digits=significant_digits)\n",
    "RTF4mel_var = round_significant_digits(np.var(RTF4mel_nparr), significant_digits=significant_digits)\n",
    "RTF4mel_std = round_significant_digits(np.std(RTF4mel_nparr), significant_digits=significant_digits)\n",
    "print(f'{target_model}: RTF ---------------------------')\n",
    "print(f'RTF mean: {RTF4mel_mean}')\n",
    "print(f'RTF var: {RTF4mel_var}')\n",
    "print(f'RTF std: {RTF4mel_std}')\n",
    "\n",
    "# for culc utmos to infer \n",
    "print(f'{target_model}: utmos ---------------------------')\n",
    "utmos_mean = round_significant_digits(np.mean(utmos_nparr), significant_digits=significant_digits)\n",
    "utmos_var = round_significant_digits(np.var(utmos_nparr), significant_digits=significant_digits)\n",
    "utmos_std = round_significant_digits(np.std(utmos_nparr), significant_digits=significant_digits)\n",
    "print(f'utmos mean: {utmos_mean}')\n",
    "print(f'utmos var: {utmos_var}')\n",
    "print(f'utmos std: {utmos_std}')"
   ]
  },
  {
   "cell_type": "code",
   "execution_count": null,
   "id": "41f136c2-7920-46d8-abef-3df6fa747448",
   "metadata": {},
   "outputs": [],
   "source": []
  }
 ],
 "metadata": {
  "kernelspec": {
   "display_name": "Python 3 (ipykernel)",
   "language": "python",
   "name": "python3"
  },
  "language_info": {
   "codemirror_mode": {
    "name": "ipython",
    "version": 3
   },
   "file_extension": ".py",
   "mimetype": "text/x-python",
   "name": "python",
   "nbconvert_exporter": "python",
   "pygments_lexer": "ipython3",
   "version": "3.10.14"
  }
 },
 "nbformat": 4,
 "nbformat_minor": 5
}

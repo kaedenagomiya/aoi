{
 "cells": [
  {
   "cell_type": "code",
   "execution_count": 1,
   "id": "22e0ef73-d013-4364-bf75-392d8df4c4f2",
   "metadata": {},
   "outputs": [
    {
     "name": "stderr",
     "output_type": "stream",
     "text": [
      "Failed to create secure directory (/run/user/40760/pulse): No such file or directory\n",
      "Failed to create secure directory (/run/user/40760/pulse): No such file or directory\n",
      "Failed to create secure directory (/run/user/40760/pulse): No such file or directory\n",
      "Failed to create secure directory (/run/user/40760/pulse): No such file or directory\n"
     ]
    }
   ],
   "source": [
    "import json\n",
    "import yaml\n",
    "import sys\n",
    "import time\n",
    "import IPython.display as ipd\n",
    "import pprint\n",
    "from pathlib import Path\n",
    "from tqdm import tqdm\n",
    "\n",
    "import numpy as np\n",
    "import torch\n",
    "import torchaudio\n",
    "from librosa.filters import mel as librosa_mel_fn\n",
    "#import matplotlib\n",
    "#matplotlib.use(\"Agg\")\n",
    "import matplotlib.pyplot as plt\n",
    "from scipy.io.wavfile import write\n",
    "\n",
    "import onnx\n",
    "import onnxruntime\n",
    "from nix.models.TTS import NixTTSInference\n",
    "from IPython.display import Audio\n",
    "import soundfile as sf\n",
    "\n",
    "import toybox"
   ]
  },
  {
   "cell_type": "markdown",
   "id": "318a8b98-9d95-49c2-b84f-31e6c9a874aa",
   "metadata": {},
   "source": [
    "## [seq] device setting"
   ]
  },
  {
   "cell_type": "code",
   "execution_count": 2,
   "id": "47009617-7cf9-4330-a2c8-d9f17937d28a",
   "metadata": {},
   "outputs": [
    {
     "name": "stdout",
     "output_type": "stream",
     "text": [
      "all cpu at using device: 52\n",
      "Number of available CPU: 4\n"
     ]
    }
   ],
   "source": [
    "import os\n",
    "#print(os.environ['OMP_NUM_THREADS'])\n",
    "print(f\"all cpu at using device: {os.cpu_count()}\")\n",
    "print(f\"Number of available CPU: {len(os.sched_getaffinity(0))}\") # Number of available CPUs can also be obtained. ,use systemcall at linux."
   ]
  },
  {
   "cell_type": "code",
   "execution_count": 3,
   "id": "d93be301-d0c7-4809-bf97-206aa8b13d19",
   "metadata": {},
   "outputs": [
    {
     "name": "stdout",
     "output_type": "stream",
     "text": [
      "device: cpu\n"
     ]
    }
   ],
   "source": [
    "DEVICE = 'cpu' # 'cuda' or 'cpu'\n",
    "#DEVICE_UTMOS = 'cuda'\n",
    "#if torch.cuda.is_available():\n",
    "#    print('use cuda')\n",
    "#else:\n",
    "#    #os._exit(os.EX_OK)\n",
    "#    print('use cpu')\n",
    "\n",
    "device = torch.device(DEVICE)\n",
    "print(f'device: {device}')"
   ]
  },
  {
   "cell_type": "code",
   "execution_count": 4,
   "id": "071c14a6-0ca0-4b6e-bfcd-f090a0595012",
   "metadata": {},
   "outputs": [
    {
     "name": "stdout",
     "output_type": "stream",
     "text": [
      "phn2id_path: ./configs/phn2id.json\n"
     ]
    }
   ],
   "source": [
    "# seed val from https://github.com/sarulab-speech/UTMOS22/blob/master/strong/configs/train/default.yaml\n",
    "random_seed = 1234\n",
    "\n",
    "n_mels: int = 80\n",
    "n_fft: int = 1024\n",
    "sample_rate: int = 22050\n",
    "hop_size: int = 256\n",
    "win_size: int = 1024\n",
    "f_min: int = 0\n",
    "f_max: int = 8000\n",
    "\n",
    "toybox.set_seed(random_seed)\n",
    "\n",
    "print(f\"phn2id_path: ./configs/phn2id.json\")\n",
    "with open(\"./configs/phn2id.json\") as f:\n",
    "    phn2id = json.load(f)\n",
    "\n",
    "vocab_size = len(phn2id) + 1\n",
    "\n",
    "onnxruntime.set_seed(random_seed)\n",
    "toybox.set_seed(random_seed)"
   ]
  },
  {
   "cell_type": "markdown",
   "id": "e7cbb6bc-aa47-4174-b902-0e920ac3cb22",
   "metadata": {},
   "source": [
    "## [seq] setting path"
   ]
  },
  {
   "cell_type": "code",
   "execution_count": 6,
   "id": "fee1d9dd-61d8-4b52-b055-59ceec2a3174",
   "metadata": {},
   "outputs": [
    {
     "name": "stdout",
     "output_type": "stream",
     "text": [
      "ckpt_path: nix/pretrained/nix-ljspeech-deterministic-v0.1\n",
      "test_ds_path-----------------------------------------\n",
      "Exists configs/test_dataset.json\n",
      "loaded configs/test_dataset.json\n",
      "RESULT_DIR_PATH-------------------------------------------\n",
      "No exist result4eval/infer4colb/nix_deter/cpu/e500_n50\n",
      "RESULT_WAV_DIR_PATH-------------------------------------------\n",
      "No exist result4eval/infer4colb/nix_deter/cpu/e500_n50/wav_LJ_V1\n",
      "RESULT_JSON_PATH-------------------------------------------\n",
      "No exist result4eval/infer4colb/nix_deter/cpu/e500_n50/eval4mid_LJ_V1.json\n"
     ]
    },
    {
     "data": {
      "text/plain": [
       "\"\\nif eval_json_path.exists()==True:\\n    with open(eval_json_path) as f:\\n        info_jsonl = [json.loads(l) for l in f.readlines()]\\nelse:\\n    print('No {eval_json_path}')\\n\""
      ]
     },
     "execution_count": 6,
     "metadata": {},
     "output_type": "execute_result"
    }
   ],
   "source": [
    "test_ds_path = Path('configs/test_dataset.json') #Path(config['test_datalist_path'])\n",
    "\n",
    "model_name = 'nix_deter'#'deter' or 'stoch'\n",
    "runtime_name = 'infer4colb'\n",
    "hifigan_versions = 'LJ_V1'\n",
    "wav_dir_name = f'wav_{hifigan_versions}'\n",
    "\n",
    "if model_name=='nix_stoch':\n",
    "    ckpt_path = Path('./nix/pretrained/nix-ljspeech-stochastic-v0.1')\n",
    "elif model_name=='nix_deter':\n",
    "    ckpt_path = Path('./nix/pretrained/nix-ljspeech-deterministic-v0.1')\n",
    "else:\n",
    "    print(\"Not found\")\n",
    "\n",
    "if ckpt_path.exists()==True:\n",
    "    print(f\"ckpt_path: {ckpt_path}\")\n",
    "else:\n",
    "    print(f\"Not find\")\n",
    "\n",
    "\n",
    "RESULT_DIR_PATH = Path(f'./result4eval/{runtime_name}/{model_name}/{DEVICE}/e500_n50')\n",
    "#results_dir_path = Path(f'./result4nixeval/{model_type}')\n",
    "\n",
    "#RESULT_MEL_DIR_PATH = RESULT_DIR_PATH / 'mel_LJ_V1'\n",
    "RESULT_WAV_DIR_PATH = RESULT_DIR_PATH / wav_dir_name\n",
    "#wav_dir_path = results_dir_path / 'nix_wavs'\n",
    "RESULT_JSON_PATH = RESULT_DIR_PATH / f'eval4mid_{hifigan_versions}.json'\n",
    "\n",
    "# for text2mel\n",
    "print('test_ds_path-----------------------------------------')\n",
    "if test_ds_path.exists():\n",
    "    print(f'Exists {str(test_ds_path)}')\n",
    "    with open(test_ds_path) as j:\n",
    "        test_ds_list = json.load(j)\n",
    "    print(f'loaded {test_ds_path}')\n",
    "else:\n",
    "    print(f'No exist {test_ds_path}')\n",
    "\n",
    "print('RESULT_DIR_PATH-------------------------------------------')\n",
    "if RESULT_DIR_PATH.exists():\n",
    "    print(f'Exists {RESULT_DIR_PATH}')\n",
    "else:\n",
    "    RESULT_DIR_PATH.mkdir(parents=True)\n",
    "    print(f'No exist {RESULT_DIR_PATH}')\n",
    "\n",
    "print('RESULT_WAV_DIR_PATH-------------------------------------------')\n",
    "if RESULT_WAV_DIR_PATH.exists():\n",
    "    print(f'Exists {RESULT_WAV_DIR_PATH}')\n",
    "else:\n",
    "    RESULT_WAV_DIR_PATH.mkdir(parents=True)\n",
    "    print(f'No exist {RESULT_WAV_DIR_PATH}')\n",
    "\n",
    "print('RESULT_JSON_PATH-------------------------------------------')\n",
    "if RESULT_JSON_PATH.exists():\n",
    "    print(f'Exists {RESULT_JSON_PATH}')\n",
    "else:\n",
    "    #RESULT_DIR_PATH.mkdir(parents=True)\n",
    "    print(f'No exist {RESULT_JSON_PATH}')\n",
    "\n",
    "\"\"\"\n",
    "if eval_json_path.exists()==True:\n",
    "    with open(eval_json_path) as f:\n",
    "        info_jsonl = [json.loads(l) for l in f.readlines()]\n",
    "else:\n",
    "    print('No {eval_json_path}')\n",
    "\"\"\""
   ]
  },
  {
   "cell_type": "markdown",
   "id": "7cd43f30-b250-480c-9d73-25829aae2bfe",
   "metadata": {},
   "source": [
    "## [seq] load model"
   ]
  },
  {
   "cell_type": "code",
   "execution_count": 7,
   "id": "53806255-4034-44ef-841b-9ca2a2a2c791",
   "metadata": {},
   "outputs": [
    {
     "name": "stdout",
     "output_type": "stream",
     "text": [
      "[seq] loading Model\n",
      "loading NIX ===================================\n",
      "loading UTMOS ===================================\n"
     ]
    },
    {
     "name": "stderr",
     "output_type": "stream",
     "text": [
      "Using cache found in /work/sora-sa/.cache/torch/hub/tarepan_SpeechMOS_v1.2.0\n",
      "/work/sora-sa/aoi/.venv/lib/python3.10/site-packages/torch/nn/utils/weight_norm.py:28: UserWarning: torch.nn.utils.weight_norm is deprecated in favor of torch.nn.utils.parametrizations.weight_norm.\n",
      "  warnings.warn(\"torch.nn.utils.weight_norm is deprecated in favor of torch.nn.utils.parametrizations.weight_norm.\")\n"
     ]
    }
   ],
   "source": [
    "print(\"[seq] loading Model\")\n",
    "\n",
    "print(\"loading NIX ===================================\")\n",
    "nix = NixTTSInference(model_dir = str(ckpt_path))\n",
    "\n",
    "print(\"loading UTMOS ===================================\")\n",
    "predictor_utmosv1 = torch.hub.load(\"tarepan/SpeechMOS:v1.2.0\", \"utmos22_strong\", trust_repo=True)"
   ]
  },
  {
   "cell_type": "markdown",
   "id": "7442ec79-38c3-47b0-ab5e-7f3f36145348",
   "metadata": {},
   "source": [
    "## test_run"
   ]
  },
  {
   "cell_type": "code",
   "execution_count": 8,
   "id": "4c235f75-75ae-4895-abb9-2412a713acff",
   "metadata": {},
   "outputs": [
    {
     "name": "stdout",
     "output_type": "stream",
     "text": [
      "['The rifle without the scope cost only twelve dollars, seventy-eight cents.']\n",
      "78\n",
      "157\n",
      "./gomi.wav\n",
      "utmosv1_score: 3.7904062271118164\n"
     ]
    },
    {
     "data": {
      "text/html": [
       "\n",
       "                <audio  controls=\"controls\" >\n",
       "                    <source src=\"data:audio/wav;base64,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\" type=\"audio/wav\" />\n",
       "                    Your browser does not support the audio element.\n",
       "                </audio>\n",
       "              "
      ],
      "text/plain": [
       "<IPython.lib.display.Audio object>"
      ]
     },
     "metadata": {},
     "output_type": "display_data"
    }
   ],
   "source": [
    "input_text = test_ds_list[3]['text']\n",
    "#texts = text.split('. ')\n",
    "c, c_length, phonemes = nix.tokenize(input_text)\n",
    "phonemes_len_int = len(phonemes[0])\n",
    "phnid_len_int = c_length.item()\n",
    "print(phonemes_len_int)\n",
    "print(phnid_len_int)\n",
    "# [seq] synth speech\n",
    "audio = nix.vocalize(c, c_length)\n",
    "\n",
    "test_wav_path = \"./gomi.wav\"\n",
    "write(\n",
    "    test_wav_path,\n",
    "    sample_rate,\n",
    "    audio[0,0])\n",
    "\n",
    "print(test_wav_path)\n",
    "test_waveform, samplerate = torchaudio.load(test_wav_path)\n",
    "utmosv1_score = predictor_utmosv1(test_waveform, samplerate)\n",
    "print(f'utmosv1_score: {utmosv1_score.item()}')\n",
    "ipd.display(ipd.Audio(test_waveform, rate=samplerate))"
   ]
  },
  {
   "cell_type": "markdown",
   "id": "77b93f4e-6e9e-4aa4-822c-2a55adc7778c",
   "metadata": {},
   "source": [
    "## [seq] eval"
   ]
  },
  {
   "cell_type": "code",
   "execution_count": 9,
   "id": "12e287e6-6803-4c3d-b60f-2a86a054ae7f",
   "metadata": {},
   "outputs": [
    {
     "name": "stdout",
     "output_type": "stream",
     "text": [
      "infer_data_num: 101\n",
      "RESULT_DIR_PATH: result4eval/infer4colb/nix_deter/cpu/e500_n50\n",
      "RESULT_MEL_DIR_PATH: result4eval/infer4colb/nix_deter/cpu/e500_n50\n",
      "RESULT_WAV_DIR_PATH: result4eval/infer4colb/nix_deter/cpu/e500_n50/wav_LJ_V1\n",
      "RESULT_JSON_PATH: result4eval/infer4colb/nix_deter/cpu/e500_n50/eval4mid_LJ_V1.json\n"
     ]
    }
   ],
   "source": [
    "infer_data_num: int = 101 #len(test_ds_list) is 200\n",
    "print(f'infer_data_num: {infer_data_num}')\n",
    "print(f'RESULT_DIR_PATH: {RESULT_DIR_PATH}')\n",
    "print(f'RESULT_MEL_DIR_PATH: {RESULT_DIR_PATH}')\n",
    "print(f'RESULT_WAV_DIR_PATH: {RESULT_WAV_DIR_PATH}')\n",
    "print(f'RESULT_JSON_PATH: {RESULT_JSON_PATH}')"
   ]
  },
  {
   "cell_type": "code",
   "execution_count": 10,
   "id": "83356fa7-b2b6-4b45-b9cb-76cdc422201b",
   "metadata": {},
   "outputs": [
    {
     "name": "stderr",
     "output_type": "stream",
     "text": [
      "  0%|                                                                                           | 0/101 [00:00<?, ?it/s]"
     ]
    },
    {
     "name": "stdout",
     "output_type": "stream",
     "text": [
      "test_ds_index_0: LJ045-0049\n",
      "[seq]text2wav\n",
      "['Lee would say that it would be better for me if I went to Russia. I did not know why. I did not know what he had in mind.']\n",
      "phonemes_len: 131\n",
      "phnid_len: 263\n",
      "dt[s]: 0.9335270579904318\n",
      "RTF: 0.12563642351494764\n",
      "[seq]wav2utmos\n"
     ]
    },
    {
     "name": "stderr",
     "output_type": "stream",
     "text": [
      "  1%|▊                                                                                  | 1/101 [00:01<02:20,  1.40s/it]"
     ]
    },
    {
     "name": "stdout",
     "output_type": "stream",
     "text": [
      "utmosv1: 4.231616497039795\n",
      "test_ds_index_1: LJ017-0027\n",
      "[seq]text2wav\n",
      "['that arsenic was within her reach in the house,']\n",
      "phonemes_len: 46\n",
      "phnid_len: 93\n"
     ]
    },
    {
     "name": "stderr",
     "output_type": "stream",
     "text": [
      "  2%|█▋                                                                                 | 2/101 [00:01<01:25,  1.16it/s]"
     ]
    },
    {
     "name": "stdout",
     "output_type": "stream",
     "text": [
      "dt[s]: 0.283016175031662\n",
      "RTF: 0.11891209335838694\n",
      "[seq]wav2utmos\n",
      "utmosv1: 4.220488548278809\n",
      "test_ds_index_2: LJ023-0031\n",
      "[seq]text2wav\n",
      "['It was almost too late.']\n",
      "phonemes_len: 28\n",
      "phnid_len: 57\n"
     ]
    },
    {
     "name": "stderr",
     "output_type": "stream",
     "text": [
      "  3%|██▍                                                                                | 3/101 [00:02<01:00,  1.61it/s]"
     ]
    },
    {
     "name": "stdout",
     "output_type": "stream",
     "text": [
      "dt[s]: 0.20263831689953804\n",
      "RTF: 0.12037109072292063\n",
      "[seq]wav2utmos\n",
      "utmosv1: 3.596818685531616\n",
      "test_ds_index_3: LJ032-0046\n",
      "[seq]text2wav\n",
      "['The rifle without the scope cost only twelve dollars, seventy-eight cents.']\n",
      "phonemes_len: 78\n",
      "phnid_len: 157\n",
      "dt[s]: 0.5677783545106649\n",
      "RTF: 0.12045405554341289\n",
      "[seq]wav2utmos\n"
     ]
    },
    {
     "name": "stderr",
     "output_type": "stream",
     "text": [
      "  4%|███▎                                                                               | 4/101 [00:03<01:07,  1.43it/s]"
     ]
    },
    {
     "name": "stdout",
     "output_type": "stream",
     "text": [
      "utmosv1: 4.067846775054932\n",
      "test_ds_index_4: LJ030-0026\n",
      "[seq]text2wav\n",
      "['Governor and Mrs. Connally and Senator Ralph W. Yarborough had come with the President from Fort Worth.']\n",
      "phonemes_len: 115\n",
      "phnid_len: 231\n",
      "dt[s]: 0.7086203079670668\n",
      "RTF: 0.120148543542952\n",
      "[seq]wav2utmos\n"
     ]
    },
    {
     "name": "stderr",
     "output_type": "stream",
     "text": [
      "  5%|████                                                                               | 5/101 [00:04<01:18,  1.22it/s]"
     ]
    },
    {
     "name": "stdout",
     "output_type": "stream",
     "text": [
      "utmosv1: 3.934764862060547\n",
      "test_ds_index_5: LJ020-0041\n",
      "[seq]text2wav\n",
      "['The phosphates which the process of “bolting” removes to a large extent from white flour, go directly to the manufacture of bone,']\n",
      "phonemes_len: 142\n",
      "phnid_len: 285\n",
      "dt[s]: 0.9333706088364124\n",
      "RTF: 0.11963368399392493\n",
      "[seq]wav2utmos\n"
     ]
    },
    {
     "name": "stderr",
     "output_type": "stream",
     "text": [
      "  6%|████▉                                                                              | 6/101 [00:05<01:35,  1.01s/it]"
     ]
    },
    {
     "name": "stdout",
     "output_type": "stream",
     "text": [
      "utmosv1: 4.283405303955078\n",
      "test_ds_index_6: LJ001-0070\n",
      "[seq]text2wav\n",
      "['and was used there with very little variation all through the sixteenth and seventeenth centuries, and indeed into the eighteenth.']\n",
      "phonemes_len: 132\n",
      "phnid_len: 265\n",
      "dt[s]: 0.832944929599762\n",
      "RTF: 0.11858494122982148\n",
      "[seq]wav2utmos\n"
     ]
    },
    {
     "name": "stderr",
     "output_type": "stream",
     "text": [
      "  7%|█████▊                                                                             | 7/101 [00:06<01:41,  1.08s/it]"
     ]
    },
    {
     "name": "stdout",
     "output_type": "stream",
     "text": [
      "utmosv1: 3.7632105350494385\n",
      "test_ds_index_7: LJ019-0334\n",
      "[seq]text2wav\n",
      "['Under them the governor or jailer was held strictly responsible.']\n",
      "phonemes_len: 68\n",
      "phnid_len: 137\n",
      "dt[s]: 0.4245487879961729\n",
      "RTF: 0.11720378574864299\n",
      "[seq]wav2utmos\n"
     ]
    },
    {
     "name": "stderr",
     "output_type": "stream",
     "text": [
      "  8%|██████▌                                                                            | 8/101 [00:07<01:27,  1.06it/s]"
     ]
    },
    {
     "name": "stdout",
     "output_type": "stream",
     "text": [
      "utmosv1: 4.345505714416504\n",
      "test_ds_index_8: LJ022-0152\n",
      "[seq]text2wav\n",
      "['There is likewise pending before the Congress']\n",
      "phonemes_len: 45\n",
      "phnid_len: 91\n"
     ]
    },
    {
     "name": "stderr",
     "output_type": "stream",
     "text": [
      "  9%|███████▍                                                                           | 9/101 [00:07<01:13,  1.26it/s]"
     ]
    },
    {
     "name": "stdout",
     "output_type": "stream",
     "text": [
      "dt[s]: 0.29392630606889725\n",
      "RTF: 0.11720694171041639\n",
      "[seq]wav2utmos\n",
      "utmosv1: 4.35218620300293\n",
      "test_ds_index_9: LJ050-0154\n",
      "[seq]text2wav\n",
      "['to plan and develop a workable and efficient automated file and retrieval system, end quote.']\n",
      "phonemes_len: 102\n",
      "phnid_len: 205\n",
      "dt[s]: 0.6249199882149696\n",
      "RTF: 0.11726822695516817\n",
      "[seq]wav2utmos\n"
     ]
    },
    {
     "name": "stderr",
     "output_type": "stream",
     "text": [
      " 10%|████████                                                                          | 10/101 [00:08<01:15,  1.20it/s]"
     ]
    },
    {
     "name": "stdout",
     "output_type": "stream",
     "text": [
      "utmosv1: 3.6334028244018555\n",
      "test_ds_index_10: LJ016-0045\n",
      "[seq]text2wav\n",
      "['and at length reached a point opposite the top of the building containing the condemned wards. This had been a perilous and painful task;']\n",
      "phonemes_len: 135\n",
      "phnid_len: 271\n",
      "dt[s]: 0.9171749241650105\n",
      "RTF: 0.11933361899215493\n",
      "[seq]wav2utmos\n"
     ]
    },
    {
     "name": "stderr",
     "output_type": "stream",
     "text": [
      " 11%|████████▉                                                                         | 11/101 [00:10<01:28,  1.01it/s]"
     ]
    },
    {
     "name": "stdout",
     "output_type": "stream",
     "text": [
      "utmosv1: 4.360549449920654\n",
      "test_ds_index_11: LJ036-0100\n",
      "[seq]text2wav\n",
      "[\"Notified of Whaley's statement, the police brought him to the police station that afternoon.\"]\n",
      "phonemes_len: 96\n",
      "phnid_len: 193\n",
      "dt[s]: 0.6111011542379856\n",
      "RTF: 0.11722908939089977\n",
      "[seq]wav2utmos\n"
     ]
    },
    {
     "name": "stderr",
     "output_type": "stream",
     "text": [
      " 12%|█████████▋                                                                        | 12/101 [00:10<01:25,  1.04it/s]"
     ]
    },
    {
     "name": "stdout",
     "output_type": "stream",
     "text": [
      "utmosv1: 4.407259941101074\n",
      "test_ds_index_12: LJ046-0016\n",
      "[seq]text2wav\n",
      "['The Commission has not undertaken a comprehensive examination of all facets of this subject;']\n",
      "phonemes_len: 99\n",
      "phnid_len: 199\n",
      "dt[s]: 0.6340826377272606\n",
      "RTF: 0.11898762733086615\n",
      "[seq]wav2utmos\n"
     ]
    },
    {
     "name": "stderr",
     "output_type": "stream",
     "text": [
      " 13%|██████████▌                                                                       | 13/101 [00:12<01:27,  1.00it/s]"
     ]
    },
    {
     "name": "stdout",
     "output_type": "stream",
     "text": [
      "utmosv1: 4.446716785430908\n",
      "test_ds_index_13: LJ048-0085\n",
      "[seq]text2wav\n",
      "['the Commission believes that the liaison between all Federal agencies responsible for Presidential protection should be improved.']\n",
      "phonemes_len: 135\n",
      "phnid_len: 271\n",
      "dt[s]: 0.859242694452405\n",
      "RTF: 0.11917711738045698\n",
      "[seq]wav2utmos\n"
     ]
    },
    {
     "name": "stderr",
     "output_type": "stream",
     "text": [
      " 14%|███████████▎                                                                      | 14/101 [00:13<01:34,  1.08s/it]"
     ]
    },
    {
     "name": "stdout",
     "output_type": "stream",
     "text": [
      "utmosv1: 4.421211242675781\n",
      "test_ds_index_14: LJ050-0197\n",
      "[seq]text2wav\n",
      "['According to Secretary Dillon,']\n",
      "phonemes_len: 30\n",
      "phnid_len: 61\n"
     ]
    },
    {
     "name": "stderr",
     "output_type": "stream",
     "text": [
      " 15%|████████████▏                                                                     | 15/101 [00:13<01:14,  1.16it/s]"
     ]
    },
    {
     "name": "stdout",
     "output_type": "stream",
     "text": [
      "dt[s]: 0.21587084792554379\n",
      "RTF: 0.11918950813196716\n",
      "[seq]wav2utmos\n",
      "utmosv1: 3.817976951599121\n",
      "test_ds_index_15: LJ050-0178\n",
      "[seq]text2wav\n",
      "['to make certain that all protective intelligence activities are coordinated.']\n",
      "phonemes_len: 82\n",
      "phnid_len: 165\n",
      "dt[s]: 0.5246769674122334\n",
      "RTF: 0.11830341062090707\n",
      "[seq]wav2utmos\n"
     ]
    },
    {
     "name": "stderr",
     "output_type": "stream",
     "text": [
      " 16%|████████████▉                                                                     | 16/101 [00:14<01:11,  1.20it/s]"
     ]
    },
    {
     "name": "stdout",
     "output_type": "stream",
     "text": [
      "utmosv1: 4.3348164558410645\n",
      "test_ds_index_16: LJ043-0079\n",
      "[seq]text2wav\n",
      "['in nineteen of twenty-three categories included on the general aptitude examination and scored one hundred twenty-seven on the verbal test, as compared']\n",
      "phonemes_len: 163\n",
      "phnid_len: 327\n",
      "dt[s]: 1.0665397122502327\n",
      "RTF: 0.12087376981454374\n",
      "[seq]wav2utmos\n"
     ]
    },
    {
     "name": "stderr",
     "output_type": "stream",
     "text": [
      " 17%|█████████████▊                                                                    | 17/101 [00:16<01:28,  1.05s/it]"
     ]
    },
    {
     "name": "stdout",
     "output_type": "stream",
     "text": [
      "utmosv1: 4.438382148742676\n",
      "test_ds_index_17: LJ050-0207\n",
      "[seq]text2wav\n",
      "['Although Chief Rowley does not complain about the pay scale for Secret Service agents,']\n",
      "phonemes_len: 95\n",
      "phnid_len: 191\n",
      "dt[s]: 0.5993915870785713\n",
      "RTF: 0.11760201180846472\n",
      "[seq]wav2utmos\n"
     ]
    },
    {
     "name": "stderr",
     "output_type": "stream",
     "text": [
      " 18%|██████████████▌                                                                   | 18/101 [00:16<01:23,  1.01s/it]"
     ]
    },
    {
     "name": "stdout",
     "output_type": "stream",
     "text": [
      "utmosv1: 4.202322959899902\n",
      "test_ds_index_18: LJ034-0005\n",
      "[seq]text2wav\n",
      "['He worked principally on the first and sixth floors of the building, gathering books listed on orders and delivering them to the shipping room on the first floor.']\n",
      "phonemes_len: 161\n",
      "phnid_len: 323\n",
      "dt[s]: 1.0575081259012222\n",
      "RTF: 0.12080391130699783\n",
      "[seq]wav2utmos\n"
     ]
    },
    {
     "name": "stderr",
     "output_type": "stream",
     "text": [
      " 19%|███████████████▍                                                                  | 19/101 [00:18<01:37,  1.18s/it]"
     ]
    },
    {
     "name": "stdout",
     "output_type": "stream",
     "text": [
      "utmosv1: 4.04896354675293\n",
      "test_ds_index_19: LJ031-0151\n",
      "[seq]text2wav\n",
      "['Special Agent Lawson made certain that the Dallas police kept the public and press away from the immediate area of the hospital.']\n",
      "phonemes_len: 132\n",
      "phnid_len: 265\n",
      "dt[s]: 0.8416800666600466\n",
      "RTF: 0.11904149649690852\n",
      "[seq]wav2utmos\n"
     ]
    },
    {
     "name": "stderr",
     "output_type": "stream",
     "text": [
      " 20%|████████████████▏                                                                 | 20/101 [00:19<01:37,  1.20s/it]"
     ]
    },
    {
     "name": "stdout",
     "output_type": "stream",
     "text": [
      "utmosv1: 4.007129669189453\n",
      "test_ds_index_20: LJ023-0021\n",
      "[seq]text2wav\n",
      "['to make it bomb-proof against the causes of nineteen twenty-nine.']\n",
      "phonemes_len: 69\n",
      "phnid_len: 139\n",
      "dt[s]: 0.4423792026937008\n",
      "RTF: 0.11652405174163921\n",
      "[seq]wav2utmos\n"
     ]
    },
    {
     "name": "stderr",
     "output_type": "stream",
     "text": [
      " 21%|█████████████████                                                                 | 21/101 [00:20<01:23,  1.04s/it]"
     ]
    },
    {
     "name": "stdout",
     "output_type": "stream",
     "text": [
      "utmosv1: 4.366608142852783\n",
      "test_ds_index_21: LJ015-0301\n",
      "[seq]text2wav\n",
      "['While Hardwicke and Atwell were in Newgate awaiting trial, active search was made for Saward,']\n",
      "phonemes_len: 98\n",
      "phnid_len: 197\n",
      "dt[s]: 0.6709633823484182\n",
      "RTF: 0.11722507749732682\n",
      "[seq]wav2utmos\n"
     ]
    },
    {
     "name": "stderr",
     "output_type": "stream",
     "text": [
      " 22%|█████████████████▊                                                                | 22/101 [00:21<01:20,  1.02s/it]"
     ]
    },
    {
     "name": "stdout",
     "output_type": "stream",
     "text": [
      "utmosv1: 3.8917465209960938\n",
      "test_ds_index_22: LJ021-0153\n",
      "[seq]text2wav\n",
      "['Closely allied to the N.R.A.']\n",
      "phonemes_len: 35\n",
      "phnid_len: 71\n"
     ]
    },
    {
     "name": "stderr",
     "output_type": "stream",
     "text": [
      " 23%|██████████████████▋                                                               | 23/101 [00:21<01:05,  1.20it/s]"
     ]
    },
    {
     "name": "stdout",
     "output_type": "stream",
     "text": [
      "dt[s]: 0.2377133872359991\n",
      "RTF: 0.11904024774150118\n",
      "[seq]wav2utmos\n",
      "utmosv1: 3.772230625152588\n",
      "test_ds_index_23: LJ014-0037\n",
      "[seq]text2wav\n",
      "['Soon afterwards Hocker heard cries of \"murder,\"']\n",
      "phonemes_len: 48\n",
      "phnid_len: 97\n"
     ]
    },
    {
     "name": "stderr",
     "output_type": "stream",
     "text": [
      " 24%|███████████████████▍                                                              | 24/101 [00:22<00:56,  1.36it/s]"
     ]
    },
    {
     "name": "stdout",
     "output_type": "stream",
     "text": [
      "dt[s]: 0.33111698366701603\n",
      "RTF: 0.11736640769447182\n",
      "[seq]wav2utmos\n",
      "utmosv1: 4.21600341796875\n",
      "test_ds_index_24: LJ004-0200\n",
      "[seq]text2wav\n",
      "['Another jail, that of Ilchester, was also worthy of all commendation. It exhibited all the good points of that at Bury.']\n",
      "phonemes_len: 127\n",
      "phnid_len: 255\n",
      "dt[s]: 0.9149364531040192\n",
      "RTF: 0.11850533829266695\n",
      "[seq]wav2utmos\n"
     ]
    },
    {
     "name": "stderr",
     "output_type": "stream",
     "text": [
      " 25%|████████████████████▎                                                             | 25/101 [00:23<01:09,  1.09it/s]"
     ]
    },
    {
     "name": "stdout",
     "output_type": "stream",
     "text": [
      "utmosv1: 4.375885486602783\n",
      "test_ds_index_25: LJ049-0010\n",
      "[seq]text2wav\n",
      "['who responded to the unplanned event with dispatch.']\n",
      "phonemes_len: 52\n",
      "phnid_len: 105\n"
     ]
    },
    {
     "name": "stderr",
     "output_type": "stream",
     "text": [
      " 26%|█████████████████████                                                             | 26/101 [00:24<00:59,  1.26it/s]"
     ]
    },
    {
     "name": "stdout",
     "output_type": "stream",
     "text": [
      "dt[s]: 0.3289173059165478\n",
      "RTF: 0.11755424331334087\n",
      "[seq]wav2utmos\n",
      "utmosv1: 4.061273097991943\n",
      "test_ds_index_26: LJ008-0291\n",
      "[seq]text2wav\n",
      "['The time thus spent varied considerably,']\n",
      "phonemes_len: 42\n",
      "phnid_len: 85\n"
     ]
    },
    {
     "name": "stderr",
     "output_type": "stream",
     "text": [
      " 27%|█████████████████████▉                                                            | 27/101 [00:24<00:50,  1.46it/s]"
     ]
    },
    {
     "name": "stdout",
     "output_type": "stream",
     "text": [
      "dt[s]: 0.28561900556087494\n",
      "RTF: 0.118274847367362\n",
      "[seq]wav2utmos\n",
      "utmosv1: 3.5752549171447754\n",
      "test_ds_index_27: LJ048-0221\n",
      "[seq]text2wav\n",
      "['In the early morning hours on November twenty-two, nineteen sixty-three,']\n",
      "phonemes_len: 76\n",
      "phnid_len: 153\n",
      "dt[s]: 0.5205491352826357\n",
      "RTF: 0.11706621688338485\n",
      "[seq]wav2utmos\n"
     ]
    },
    {
     "name": "stderr",
     "output_type": "stream",
     "text": [
      " 28%|██████████████████████▋                                                           | 28/101 [00:25<00:51,  1.41it/s]"
     ]
    },
    {
     "name": "stdout",
     "output_type": "stream",
     "text": [
      "utmosv1: 3.989067554473877\n",
      "test_ds_index_28: LJ004-0157\n",
      "[seq]text2wav\n",
      "['All charged with felony were in heavy irons, without distinction of age.']\n",
      "phonemes_len: 78\n",
      "phnid_len: 157\n",
      "dt[s]: 0.5428189225494862\n",
      "RTF: 0.11836587462634662\n",
      "[seq]wav2utmos\n"
     ]
    },
    {
     "name": "stderr",
     "output_type": "stream",
     "text": [
      " 29%|███████████████████████▌                                                          | 29/101 [00:26<00:53,  1.35it/s]"
     ]
    },
    {
     "name": "stdout",
     "output_type": "stream",
     "text": [
      "utmosv1: 4.397089004516602\n",
      "test_ds_index_29: LJ013-0175\n",
      "[seq]text2wav\n",
      "['Upstairs in the bedroom a rouleaux box for sovereigns had been broken open,']\n",
      "phonemes_len: 80\n",
      "phnid_len: 161\n",
      "dt[s]: 0.5009939912706614\n",
      "RTF: 0.11790169812497954\n",
      "[seq]wav2utmos\n"
     ]
    },
    {
     "name": "stderr",
     "output_type": "stream",
     "text": [
      " 30%|████████████████████████▎                                                         | 30/101 [00:26<00:52,  1.35it/s]"
     ]
    },
    {
     "name": "stdout",
     "output_type": "stream",
     "text": [
      "utmosv1: 3.8398468494415283\n",
      "test_ds_index_30: LJ021-0100\n",
      "[seq]text2wav\n",
      "['Let me call your attention to the fact that the national Industrial Recovery Act']\n",
      "phonemes_len: 82\n",
      "phnid_len: 165\n",
      "dt[s]: 0.5584191624075174\n",
      "RTF: 0.11846850495579742\n",
      "[seq]wav2utmos\n"
     ]
    },
    {
     "name": "stderr",
     "output_type": "stream",
     "text": [
      " 31%|█████████████████████████▏                                                        | 31/101 [00:27<00:53,  1.31it/s]"
     ]
    },
    {
     "name": "stdout",
     "output_type": "stream",
     "text": [
      "utmosv1: 4.022366523742676\n",
      "test_ds_index_31: LJ018-0132\n",
      "[seq]text2wav\n",
      "['To facilitate his operations, Brewer obtained a false master key from Burnett,']\n",
      "phonemes_len: 85\n",
      "phnid_len: 171\n",
      "dt[s]: 0.5680483039468527\n",
      "RTF: 0.11818260399709486\n",
      "[seq]wav2utmos\n"
     ]
    },
    {
     "name": "stderr",
     "output_type": "stream",
     "text": [
      " 32%|█████████████████████████▉                                                        | 32/101 [00:28<00:55,  1.25it/s]"
     ]
    },
    {
     "name": "stdout",
     "output_type": "stream",
     "text": [
      "utmosv1: 4.284305572509766\n",
      "test_ds_index_32: LJ023-0059\n",
      "[seq]text2wav\n",
      "['In its Preamble, the Constitution states that it was intended to form a more perfect Union and promote the general welfare;']\n",
      "phonemes_len: 137\n",
      "phnid_len: 275\n",
      "dt[s]: 0.8905981816351414\n",
      "RTF: 0.12023468055112943\n",
      "[seq]wav2utmos\n"
     ]
    },
    {
     "name": "stderr",
     "output_type": "stream",
     "text": [
      " 33%|██████████████████████████▊                                                       | 33/101 [00:29<01:04,  1.06it/s]"
     ]
    },
    {
     "name": "stdout",
     "output_type": "stream",
     "text": [
      "utmosv1: 3.607581615447998\n",
      "test_ds_index_33: LJ003-0027\n",
      "[seq]text2wav\n",
      "['He had a double allowance of bread, deducted, of course, from the already too limited portion of the rest,']\n",
      "phonemes_len: 108\n",
      "phnid_len: 217\n",
      "dt[s]: 0.7449639942497015\n",
      "RTF: 0.11773549364396443\n",
      "[seq]wav2utmos\n"
     ]
    },
    {
     "name": "stderr",
     "output_type": "stream",
     "text": [
      " 34%|███████████████████████████▌                                                      | 34/101 [00:30<01:06,  1.01it/s]"
     ]
    },
    {
     "name": "stdout",
     "output_type": "stream",
     "text": [
      "utmosv1: 3.9300897121429443\n",
      "test_ds_index_34: LJ018-0133\n",
      "[seq]text2wav\n",
      "['which gave him access to all parts of the mills, the packing-room included.']\n",
      "phonemes_len: 78\n",
      "phnid_len: 157\n",
      "dt[s]: 0.5068695154041052\n",
      "RTF: 0.11767681113818773\n",
      "[seq]wav2utmos\n"
     ]
    },
    {
     "name": "stderr",
     "output_type": "stream",
     "text": [
      " 35%|████████████████████████████▍                                                     | 35/101 [00:31<01:00,  1.09it/s]"
     ]
    },
    {
     "name": "stdout",
     "output_type": "stream",
     "text": [
      "utmosv1: 4.294946670532227\n",
      "test_ds_index_35: LJ033-0060\n",
      "[seq]text2wav\n",
      "['Marina Oswald testified that at that time, quote, My heart dropped.']\n",
      "phonemes_len: 75\n",
      "phnid_len: 151\n",
      "dt[s]: 0.5080021116882563\n",
      "RTF: 0.11730737435830733\n",
      "[seq]wav2utmos\n"
     ]
    },
    {
     "name": "stderr",
     "output_type": "stream",
     "text": [
      " 36%|█████████████████████████████▏                                                    | 36/101 [00:32<00:56,  1.15it/s]"
     ]
    },
    {
     "name": "stdout",
     "output_type": "stream",
     "text": [
      "utmosv1: 4.270135402679443\n",
      "test_ds_index_36: LJ003-0299\n",
      "[seq]text2wav\n",
      "['the latter end of the nineteenth century, several of which still fall far short of our English ideal,']\n",
      "phonemes_len: 108\n",
      "phnid_len: 217\n",
      "dt[s]: 0.7042875122278929\n",
      "RTF: 0.11825002775207905\n",
      "[seq]wav2utmos\n"
     ]
    },
    {
     "name": "stderr",
     "output_type": "stream",
     "text": [
      " 37%|██████████████████████████████                                                    | 37/101 [00:33<00:58,  1.09it/s]"
     ]
    },
    {
     "name": "stdout",
     "output_type": "stream",
     "text": [
      "utmosv1: 4.013031959533691\n",
      "test_ds_index_37: LJ011-0060\n",
      "[seq]text2wav\n",
      "['He wrote afterwards to the effect that the moment he had offered himself, an unknown assassin came to aim a blow at him.']\n",
      "phonemes_len: 121\n",
      "phnid_len: 243\n",
      "dt[s]: 0.8062438946217299\n",
      "RTF: 0.11830332913922183\n",
      "[seq]wav2utmos\n"
     ]
    },
    {
     "name": "stderr",
     "output_type": "stream",
     "text": [
      " 38%|██████████████████████████████▊                                                   | 38/101 [00:34<01:02,  1.01it/s]"
     ]
    },
    {
     "name": "stdout",
     "output_type": "stream",
     "text": [
      "utmosv1: 4.06743049621582\n",
      "test_ds_index_38: LJ013-0240\n",
      "[seq]text2wav\n",
      "['Good was followed to his stables by a policeman, but obstinately denied the theft.']\n",
      "phonemes_len: 88\n",
      "phnid_len: 177\n",
      "dt[s]: 0.5942234378308058\n",
      "RTF: 0.1195844297985659\n",
      "[seq]wav2utmos\n"
     ]
    },
    {
     "name": "stderr",
     "output_type": "stream",
     "text": [
      " 39%|███████████████████████████████▋                                                  | 39/101 [00:35<00:59,  1.05it/s]"
     ]
    },
    {
     "name": "stdout",
     "output_type": "stream",
     "text": [
      "utmosv1: 3.928676128387451\n",
      "test_ds_index_39: LJ047-0076\n",
      "[seq]text2wav\n",
      "[\"In New Orleans. In the middle of May of nineteen sixty-three, Agent Hosty checked Oswald's last known residence and found that he had moved.\"]\n",
      "phonemes_len: 152\n",
      "phnid_len: 305\n",
      "dt[s]: 1.090599823743105\n",
      "RTF: 0.12199536380649079\n",
      "[seq]wav2utmos\n"
     ]
    },
    {
     "name": "stderr",
     "output_type": "stream",
     "text": [
      " 40%|████████████████████████████████▍                                                 | 40/101 [00:37<01:09,  1.14s/it]"
     ]
    },
    {
     "name": "stdout",
     "output_type": "stream",
     "text": [
      "utmosv1: 4.050248146057129\n",
      "test_ds_index_40: LJ041-0133\n",
      "[seq]text2wav\n",
      "['which finally declined to modify the discharge and so advised him in a letter dated July nineteen sixty-three.']\n",
      "phonemes_len: 128\n",
      "phnid_len: 257\n",
      "dt[s]: 0.7936108708381653\n",
      "RTF: 0.1184678272718638\n",
      "[seq]wav2utmos\n"
     ]
    },
    {
     "name": "stderr",
     "output_type": "stream",
     "text": [
      " 41%|█████████████████████████████████▎                                                | 41/101 [00:38<01:08,  1.15s/it]"
     ]
    },
    {
     "name": "stdout",
     "output_type": "stream",
     "text": [
      "utmosv1: 3.9040279388427734\n",
      "test_ds_index_41: LJ038-0264\n",
      "[seq]text2wav\n",
      "['He concluded that, quote, the general rifling characteristics of the rifle are of the same type as those found on the bullet']\n",
      "phonemes_len: 129\n",
      "phnid_len: 259\n",
      "dt[s]: 0.8579261936247349\n",
      "RTF: 0.12074443786653266\n",
      "[seq]wav2utmos\n"
     ]
    },
    {
     "name": "stderr",
     "output_type": "stream",
     "text": [
      " 42%|██████████████████████████████████                                                | 42/101 [00:39<01:09,  1.18s/it]"
     ]
    },
    {
     "name": "stdout",
     "output_type": "stream",
     "text": [
      "utmosv1: 3.778398036956787\n",
      "test_ds_index_42: LJ011-0016\n",
      "[seq]text2wav\n",
      "['His countenance had an expression of most subdued resignation.']\n",
      "phonemes_len: 67\n",
      "phnid_len: 135\n",
      "dt[s]: 0.4333382062613964\n",
      "RTF: 0.11774333901892486\n",
      "[seq]wav2utmos\n"
     ]
    },
    {
     "name": "stderr",
     "output_type": "stream",
     "text": [
      " 43%|██████████████████████████████████▉                                               | 43/101 [00:40<00:59,  1.02s/it]"
     ]
    },
    {
     "name": "stdout",
     "output_type": "stream",
     "text": [
      "utmosv1: 4.401697158813477\n",
      "test_ds_index_43: LJ003-0185\n",
      "[seq]text2wav\n",
      "['There was no separation even for the women under sentence of death, who lived in a common and perpetually crowded ward.']\n",
      "phonemes_len: 126\n",
      "phnid_len: 253\n",
      "dt[s]: 0.7792215682566166\n",
      "RTF: 0.11921233611830037\n",
      "[seq]wav2utmos\n"
     ]
    },
    {
     "name": "stderr",
     "output_type": "stream",
     "text": [
      " 44%|███████████████████████████████████▋                                              | 44/101 [00:41<00:59,  1.05s/it]"
     ]
    },
    {
     "name": "stdout",
     "output_type": "stream",
     "text": [
      "utmosv1: 3.9589221477508545\n",
      "test_ds_index_44: LJ014-0063\n",
      "[seq]text2wav\n",
      "[\"After the marriage a close intimacy was still maintained between O'Connor and the Mannings.\"]\n",
      "phonemes_len: 90\n",
      "phnid_len: 181\n",
      "dt[s]: 0.6100982557982206\n",
      "RTF: 0.1178239432135542\n",
      "[seq]wav2utmos\n"
     ]
    },
    {
     "name": "stderr",
     "output_type": "stream",
     "text": [
      " 45%|████████████████████████████████████▌                                             | 45/101 [00:42<00:56,  1.01s/it]"
     ]
    },
    {
     "name": "stdout",
     "output_type": "stream",
     "text": [
      "utmosv1: 4.238422870635986\n",
      "test_ds_index_45: LJ005-0185\n",
      "[seq]text2wav\n",
      "['As time passed, however, these magistrates made no effort at reform.']\n",
      "phonemes_len: 74\n",
      "phnid_len: 149\n",
      "dt[s]: 0.5235974136739969\n",
      "RTF: 0.11868136278280872\n",
      "[seq]wav2utmos\n"
     ]
    },
    {
     "name": "stderr",
     "output_type": "stream",
     "text": [
      " 46%|█████████████████████████████████████▎                                            | 46/101 [00:42<00:51,  1.07it/s]"
     ]
    },
    {
     "name": "stdout",
     "output_type": "stream",
     "text": [
      "utmosv1: 3.916877269744873\n",
      "test_ds_index_46: LJ014-0135\n",
      "[seq]text2wav\n",
      "['It was against common sense to charge her with murdering the only friend she had in the world;']\n",
      "phonemes_len: 96\n",
      "phnid_len: 193\n",
      "dt[s]: 0.5882762372493744\n",
      "RTF: 0.11894339634085888\n",
      "[seq]wav2utmos\n"
     ]
    },
    {
     "name": "stderr",
     "output_type": "stream",
     "text": [
      " 47%|██████████████████████████████████████▏                                           | 47/101 [00:43<00:49,  1.09it/s]"
     ]
    },
    {
     "name": "stdout",
     "output_type": "stream",
     "text": [
      "utmosv1: 4.352890968322754\n",
      "test_ds_index_47: LJ009-0046\n",
      "[seq]text2wav\n",
      "['but the attempt fails; he trembles, his knees knock together, and his head droops as he enters the condemned pew.']\n",
      "phonemes_len: 117\n",
      "phnid_len: 235\n",
      "dt[s]: 0.8472537286579609\n",
      "RTF: 0.1186607260982472\n",
      "[seq]wav2utmos\n"
     ]
    },
    {
     "name": "stderr",
     "output_type": "stream",
     "text": [
      " 48%|██████████████████████████████████████▉                                           | 48/101 [00:45<00:53,  1.01s/it]"
     ]
    },
    {
     "name": "stdout",
     "output_type": "stream",
     "text": [
      "utmosv1: 4.052809715270996\n",
      "test_ds_index_48: LJ037-0024\n",
      "[seq]text2wav\n",
      "['As he crossed the intersection a block east of tenth and Patton, he saw a policeman standing by the left door of the police car parked along the south side of tenth.']\n",
      "phonemes_len: 173\n",
      "phnid_len: 347\n",
      "dt[s]: 1.178759204223752\n",
      "RTF: 0.125655749406007\n",
      "[seq]wav2utmos\n"
     ]
    },
    {
     "name": "stderr",
     "output_type": "stream",
     "text": [
      " 49%|███████████████████████████████████████▊                                          | 49/101 [00:46<01:03,  1.21s/it]"
     ]
    },
    {
     "name": "stdout",
     "output_type": "stream",
     "text": [
      "utmosv1: 3.6177000999450684\n",
      "test_ds_index_49: LJ002-0217\n",
      "[seq]text2wav\n",
      "['the warden of the Fleet at the commencement of the eighteenth century, are too well known to need more than a passing reference.']\n",
      "phonemes_len: 124\n",
      "phnid_len: 249\n",
      "dt[s]: 0.8045860752463341\n",
      "RTF: 0.12200926330863272\n",
      "[seq]wav2utmos\n"
     ]
    },
    {
     "name": "stderr",
     "output_type": "stream",
     "text": [
      " 50%|████████████████████████████████████████▌                                         | 50/101 [00:47<01:01,  1.20s/it]"
     ]
    },
    {
     "name": "stdout",
     "output_type": "stream",
     "text": [
      "utmosv1: 3.8012826442718506\n",
      "test_ds_index_50: LJ044-0017\n",
      "[seq]text2wav\n",
      "['He distributed literature in downtown New Orleans on August nine, nineteen sixty-three,']\n",
      "phonemes_len: 102\n",
      "phnid_len: 205\n",
      "dt[s]: 0.663430705666542\n",
      "RTF: 0.11733706894849887\n",
      "[seq]wav2utmos\n"
     ]
    },
    {
     "name": "stderr",
     "output_type": "stream",
     "text": [
      " 50%|█████████████████████████████████████████▍                                        | 51/101 [00:48<00:57,  1.14s/it]"
     ]
    },
    {
     "name": "stdout",
     "output_type": "stream",
     "text": [
      "utmosv1: 4.03472375869751\n",
      "test_ds_index_51: LJ017-0074\n",
      "[seq]text2wav\n",
      "['whose life he had insured for thirteen thousand pounds.']\n",
      "phonemes_len: 59\n",
      "phnid_len: 119\n",
      "dt[s]: 0.38250816240906715\n",
      "RTF: 0.11683157387411251\n",
      "[seq]wav2utmos\n"
     ]
    },
    {
     "name": "stderr",
     "output_type": "stream",
     "text": [
      " 51%|██████████████████████████████████████████▏                                       | 52/101 [00:49<00:47,  1.02it/s]"
     ]
    },
    {
     "name": "stdout",
     "output_type": "stream",
     "text": [
      "utmosv1: 4.027723789215088\n",
      "test_ds_index_52: LJ033-0153\n",
      "[seq]text2wav\n",
      "['These prints were examined independently by Ronald G. Wittmus of the FBI,']\n",
      "phonemes_len: 88\n",
      "phnid_len: 177\n",
      "dt[s]: 0.565600298345089\n",
      "RTF: 0.11738974565614844\n",
      "[seq]wav2utmos\n"
     ]
    },
    {
     "name": "stderr",
     "output_type": "stream",
     "text": [
      " 52%|███████████████████████████████████████████                                       | 53/101 [00:50<00:44,  1.07it/s]"
     ]
    },
    {
     "name": "stdout",
     "output_type": "stream",
     "text": [
      "utmosv1: 4.30647087097168\n",
      "test_ds_index_53: LJ032-0124\n",
      "[seq]text2wav\n",
      "[\"by Sebastian F. Latona, supervisor of the Latent Fingerprint Section of the FBI's Identification Division.\"]\n",
      "phonemes_len: 120\n",
      "phnid_len: 241\n",
      "dt[s]: 0.8514110594987869\n",
      "RTF: 0.12121393247642208\n",
      "[seq]wav2utmos\n"
     ]
    },
    {
     "name": "stderr",
     "output_type": "stream",
     "text": [
      " 53%|███████████████████████████████████████████▊                                      | 54/101 [00:51<00:48,  1.02s/it]"
     ]
    },
    {
     "name": "stdout",
     "output_type": "stream",
     "text": [
      "utmosv1: 4.324349403381348\n",
      "test_ds_index_54: LJ018-0287\n",
      "[seq]text2wav\n",
      "['to which he was introduced by a well-known tailor in Saville Row.']\n",
      "phonemes_len: 69\n",
      "phnid_len: 139\n",
      "dt[s]: 0.41731650941073895\n",
      "RTF: 0.1167033917474989\n",
      "[seq]wav2utmos\n"
     ]
    },
    {
     "name": "stderr",
     "output_type": "stream",
     "text": [
      " 54%|████████████████████████████████████████████▋                                     | 55/101 [00:52<00:41,  1.11it/s]"
     ]
    },
    {
     "name": "stdout",
     "output_type": "stream",
     "text": [
      "utmosv1: 3.8299927711486816\n",
      "test_ds_index_55: LJ020-0038\n",
      "[seq]text2wav\n",
      "['Turn the pans once while baking, moving them as gently as possible.']\n",
      "phonemes_len: 74\n",
      "phnid_len: 149\n",
      "dt[s]: 0.46508549712598324\n",
      "RTF: 0.11713193543982925\n",
      "[seq]wav2utmos\n"
     ]
    },
    {
     "name": "stderr",
     "output_type": "stream",
     "text": [
      " 55%|█████████████████████████████████████████████▍                                    | 56/101 [00:52<00:37,  1.19it/s]"
     ]
    },
    {
     "name": "stdout",
     "output_type": "stream",
     "text": [
      "utmosv1: 3.9805212020874023\n",
      "test_ds_index_56: LJ001-0007\n",
      "[seq]text2wav\n",
      "['the earliest book printed with movable types, the Gutenberg, or \"forty-two line Bible\" of about fourteen fifty-five,']\n",
      "phonemes_len: 130\n",
      "phnid_len: 261\n",
      "dt[s]: 0.9032714478671551\n",
      "RTF: 0.11878062634464914\n",
      "[seq]wav2utmos\n"
     ]
    },
    {
     "name": "stderr",
     "output_type": "stream",
     "text": [
      " 56%|██████████████████████████████████████████████▎                                   | 57/101 [00:54<00:43,  1.02it/s]"
     ]
    },
    {
     "name": "stdout",
     "output_type": "stream",
     "text": [
      "utmosv1: 3.7700634002685547\n",
      "test_ds_index_57: LJ003-0313\n",
      "[seq]text2wav\n",
      "['instruct the prisoners, quote, give spiritual advice and administer religious consolation, end quote. to all who might need them;']\n",
      "phonemes_len: 142\n",
      "phnid_len: 285\n",
      "dt[s]: 0.972320631146431\n",
      "RTF: 0.1198121754111834\n",
      "[seq]wav2utmos\n"
     ]
    },
    {
     "name": "stderr",
     "output_type": "stream",
     "text": [
      " 57%|███████████████████████████████████████████████                                   | 58/101 [00:55<00:48,  1.12s/it]"
     ]
    },
    {
     "name": "stdout",
     "output_type": "stream",
     "text": [
      "utmosv1: 3.81213116645813\n",
      "test_ds_index_58: LJ019-0265\n",
      "[seq]text2wav\n",
      "['In dietaries, again, the same wide diversity of practice obtained.']\n",
      "phonemes_len: 70\n",
      "phnid_len: 141\n",
      "dt[s]: 0.5342824626713991\n",
      "RTF: 0.11799807994695863\n",
      "[seq]wav2utmos\n"
     ]
    },
    {
     "name": "stderr",
     "output_type": "stream",
     "text": [
      " 58%|███████████████████████████████████████████████▉                                  | 59/101 [00:56<00:42,  1.02s/it]"
     ]
    },
    {
     "name": "stdout",
     "output_type": "stream",
     "text": [
      "utmosv1: 3.731935501098633\n",
      "test_ds_index_59: LJ038-0281\n",
      "[seq]text2wav\n",
      "['in the absence of very definite negative evidence, I think it is permissible to say that in an exhibit such as five seven three']\n",
      "phonemes_len: 132\n",
      "phnid_len: 265\n",
      "dt[s]: 0.89585998095572\n",
      "RTF: 0.1192626580616887\n",
      "[seq]wav2utmos\n"
     ]
    },
    {
     "name": "stderr",
     "output_type": "stream",
     "text": [
      " 59%|████████████████████████████████████████████████▋                                 | 60/101 [00:57<00:45,  1.10s/it]"
     ]
    },
    {
     "name": "stdout",
     "output_type": "stream",
     "text": [
      "utmosv1: 4.163468360900879\n",
      "test_ds_index_60: LJ045-0235\n",
      "[seq]text2wav\n",
      "['the testimony of the officers present indicates that he handled himself with considerable composure during his questioning.']\n",
      "phonemes_len: 127\n",
      "phnid_len: 255\n",
      "dt[s]: 0.8269434571266174\n",
      "RTF: 0.11910863836252296\n",
      "[seq]wav2utmos\n"
     ]
    },
    {
     "name": "stderr",
     "output_type": "stream",
     "text": [
      " 60%|█████████████████████████████████████████████████▌                                | 61/101 [00:59<00:46,  1.16s/it]"
     ]
    },
    {
     "name": "stdout",
     "output_type": "stream",
     "text": [
      "utmosv1: 4.074116230010986\n",
      "test_ds_index_61: LJ038-0255\n",
      "[seq]text2wav\n",
      "['Firearms identification.']\n",
      "phonemes_len: 30\n",
      "phnid_len: 61\n"
     ]
    },
    {
     "name": "stderr",
     "output_type": "stream",
     "text": [
      " 61%|██████████████████████████████████████████████████▎                               | 62/101 [00:59<00:36,  1.08it/s]"
     ]
    },
    {
     "name": "stdout",
     "output_type": "stream",
     "text": [
      "dt[s]: 0.22524303011596203\n",
      "RTF: 0.12125509799943757\n",
      "[seq]wav2utmos\n",
      "utmosv1: 3.935776710510254\n",
      "test_ds_index_62: LJ028-0205\n",
      "[seq]text2wav\n",
      "['In the month Tammuz, when Cyrus fought the troops of Akkad (Babylonia) at Opis on the river Salsallat,']\n",
      "phonemes_len: 105\n",
      "phnid_len: 211\n",
      "dt[s]: 0.7152180783450603\n",
      "RTF: 0.11778918668968526\n",
      "[seq]wav2utmos\n"
     ]
    },
    {
     "name": "stderr",
     "output_type": "stream",
     "text": [
      " 62%|███████████████████████████████████████████████████▏                              | 63/101 [01:00<00:36,  1.04it/s]"
     ]
    },
    {
     "name": "stdout",
     "output_type": "stream",
     "text": [
      "utmosv1: 3.560251235961914\n",
      "test_ds_index_63: LJ014-0260\n",
      "[seq]text2wav\n",
      "['In the West End he was a man of fashion, with a town house, a house at Brighton, and a cellar full of good wine at both.']\n",
      "phonemes_len: 121\n",
      "phnid_len: 243\n",
      "dt[s]: 0.8755803387612104\n",
      "RTF: 0.11839277417143772\n",
      "[seq]wav2utmos\n"
     ]
    },
    {
     "name": "stderr",
     "output_type": "stream",
     "text": [
      " 63%|███████████████████████████████████████████████████▉                              | 64/101 [01:01<00:39,  1.06s/it]"
     ]
    },
    {
     "name": "stdout",
     "output_type": "stream",
     "text": [
      "utmosv1: 4.272673606872559\n",
      "test_ds_index_64: LJ033-0166\n",
      "[seq]text2wav\n",
      "['Among other tests, the paper and tape were submitted to fiber analysis and spectrographic examination.']\n",
      "phonemes_len: 110\n",
      "phnid_len: 221\n",
      "dt[s]: 0.7645019963383675\n",
      "RTF: 0.11779732934971072\n",
      "[seq]wav2utmos\n"
     ]
    },
    {
     "name": "stderr",
     "output_type": "stream",
     "text": [
      " 64%|████████████████████████████████████████████████████▊                             | 65/101 [01:02<00:38,  1.08s/it]"
     ]
    },
    {
     "name": "stdout",
     "output_type": "stream",
     "text": [
      "utmosv1: 4.028083801269531\n",
      "test_ds_index_65: LJ037-0125\n",
      "[seq]text2wav\n",
      "['As Oswald ran south on Patton Avenue toward Jefferson Boulevard he was moving in the direction of a used-car lot']\n",
      "phonemes_len: 127\n",
      "phnid_len: 255\n",
      "dt[s]: 0.8234917595982552\n",
      "RTF: 0.11841345797123803\n",
      "[seq]wav2utmos\n"
     ]
    },
    {
     "name": "stderr",
     "output_type": "stream",
     "text": [
      " 65%|█████████████████████████████████████████████████████▌                            | 66/101 [01:04<00:39,  1.12s/it]"
     ]
    },
    {
     "name": "stdout",
     "output_type": "stream",
     "text": [
      "utmosv1: 3.819883108139038\n",
      "test_ds_index_66: LJ013-0142\n",
      "[seq]text2wav\n",
      "['Part of the freight were four hundred rough diamonds valued at four thousand pounds.']\n",
      "phonemes_len: 89\n",
      "phnid_len: 179\n",
      "dt[s]: 0.5436364561319351\n",
      "RTF: 0.11794694444376937\n",
      "[seq]wav2utmos\n"
     ]
    },
    {
     "name": "stderr",
     "output_type": "stream",
     "text": [
      " 66%|██████████████████████████████████████████████████████▍                           | 67/101 [01:04<00:34,  1.03s/it]"
     ]
    },
    {
     "name": "stdout",
     "output_type": "stream",
     "text": [
      "utmosv1: 4.248678207397461\n",
      "test_ds_index_67: LJ031-0199\n",
      "[seq]text2wav\n",
      "['President and Mrs. Johnson were flown by helicopter to the White House, from where Mrs. Johnson was driven to her residence under Secret Service escort.']\n",
      "phonemes_len: 167\n",
      "phnid_len: 335\n",
      "dt[s]: 1.0794716607779264\n",
      "RTF: 0.1202819277578897\n",
      "[seq]wav2utmos\n"
     ]
    },
    {
     "name": "stderr",
     "output_type": "stream",
     "text": [
      " 67%|███████████████████████████████████████████████████████▏                          | 68/101 [01:06<00:39,  1.19s/it]"
     ]
    },
    {
     "name": "stdout",
     "output_type": "stream",
     "text": [
      "utmosv1: 4.267280578613281\n",
      "test_ds_index_68: LJ004-0017\n",
      "[seq]text2wav\n",
      "['Some of the county jails, and one or two borough jails, had been rebuilt,']\n",
      "phonemes_len: 76\n",
      "phnid_len: 153\n",
      "dt[s]: 0.5519338306039572\n",
      "RTF: 0.11738176084893186\n",
      "[seq]wav2utmos\n"
     ]
    },
    {
     "name": "stderr",
     "output_type": "stream",
     "text": [
      " 68%|████████████████████████████████████████████████████████                          | 69/101 [01:07<00:34,  1.09s/it]"
     ]
    },
    {
     "name": "stdout",
     "output_type": "stream",
     "text": [
      "utmosv1: 3.343672275543213\n",
      "test_ds_index_69: LJ024-0115\n",
      "[seq]text2wav\n",
      "['To them I say: we cannot rely on an amendment as the immediate or only answer to our present difficulties.']\n",
      "phonemes_len: 118\n",
      "phnid_len: 237\n",
      "dt[s]: 0.8176181558519602\n",
      "RTF: 0.11835924590687842\n",
      "[seq]wav2utmos\n"
     ]
    },
    {
     "name": "stderr",
     "output_type": "stream",
     "text": [
      " 69%|████████████████████████████████████████████████████████▊                         | 70/101 [01:08<00:34,  1.12s/it]"
     ]
    },
    {
     "name": "stdout",
     "output_type": "stream",
     "text": [
      "utmosv1: 3.5458884239196777\n",
      "test_ds_index_70: LJ017-0171\n",
      "[seq]text2wav\n",
      "['Smethurst was therefore given a free pardon for the offense of murder,']\n",
      "phonemes_len: 69\n",
      "phnid_len: 139\n",
      "dt[s]: 0.4310737829655409\n",
      "RTF: 0.11749872570201464\n",
      "[seq]wav2utmos\n"
     ]
    },
    {
     "name": "stderr",
     "output_type": "stream",
     "text": [
      " 70%|█████████████████████████████████████████████████████████▋                        | 71/101 [01:09<00:30,  1.00s/it]"
     ]
    },
    {
     "name": "stdout",
     "output_type": "stream",
     "text": [
      "utmosv1: 4.3487935066223145\n",
      "test_ds_index_71: LJ017-0040\n",
      "[seq]text2wav\n",
      "['The trial of Catherine Winsor, the baby farmer,']\n",
      "phonemes_len: 48\n",
      "phnid_len: 97\n"
     ]
    },
    {
     "name": "stderr",
     "output_type": "stream",
     "text": [
      " 71%|██████████████████████████████████████████████████████████▍                       | 72/101 [01:09<00:24,  1.17it/s]"
     ]
    },
    {
     "name": "stdout",
     "output_type": "stream",
     "text": [
      "dt[s]: 0.33970929123461246\n",
      "RTF: 0.11704046674567507\n",
      "[seq]wav2utmos\n",
      "utmosv1: 4.297628879547119\n",
      "test_ds_index_72: LJ005-0044\n",
      "[seq]text2wav\n",
      "['the method by which they were worked, and the dietaries of the prisoners employed upon them.']\n",
      "phonemes_len: 90\n",
      "phnid_len: 181\n",
      "dt[s]: 0.5660859737545252\n",
      "RTF: 0.11749054707536973\n",
      "[seq]wav2utmos\n"
     ]
    },
    {
     "name": "stderr",
     "output_type": "stream",
     "text": [
      " 72%|███████████████████████████████████████████████████████████▎                      | 73/101 [01:10<00:23,  1.18it/s]"
     ]
    },
    {
     "name": "stdout",
     "output_type": "stream",
     "text": [
      "utmosv1: 3.8109190464019775\n",
      "test_ds_index_73: LJ007-0169\n",
      "[seq]text2wav\n",
      "['this picture of the existing state of Newgate']\n",
      "phonemes_len: 46\n",
      "phnid_len: 93\n"
     ]
    },
    {
     "name": "stderr",
     "output_type": "stream",
     "text": [
      " 73%|████████████████████████████████████████████████████████████                      | 74/101 [01:11<00:19,  1.36it/s]"
     ]
    },
    {
     "name": "stdout",
     "output_type": "stream",
     "text": [
      "dt[s]: 0.3090898636728525\n",
      "RTF: 0.11779990828931136\n",
      "[seq]wav2utmos\n",
      "utmosv1: 3.9330053329467773\n",
      "test_ds_index_74: LJ015-0153\n",
      "[seq]text2wav\n",
      "['Not content with giving where assistance was solicited, he himself sought out deserving cases and personally afforded relief.']\n",
      "phonemes_len: 133\n",
      "phnid_len: 267\n",
      "dt[s]: 0.9101900476962328\n",
      "RTF: 0.11932607110743634\n",
      "[seq]wav2utmos\n"
     ]
    },
    {
     "name": "stderr",
     "output_type": "stream",
     "text": [
      " 74%|████████████████████████████████████████████████████████████▉                     | 75/101 [01:12<00:23,  1.10it/s]"
     ]
    },
    {
     "name": "stdout",
     "output_type": "stream",
     "text": [
      "utmosv1: 4.353727340698242\n",
      "test_ds_index_75: LJ045-0043\n",
      "[seq]text2wav\n",
      "['In spite of fact I married Marina to hurt Ella (the girl that had rejected him) I found myself in love with Marina, end quote.']\n",
      "phonemes_len: 142\n",
      "phnid_len: 285\n",
      "dt[s]: 0.8921880815178156\n",
      "RTF: 0.11914212207768796\n",
      "[seq]wav2utmos\n"
     ]
    },
    {
     "name": "stderr",
     "output_type": "stream",
     "text": [
      " 75%|█████████████████████████████████████████████████████████████▋                    | 76/101 [01:13<00:25,  1.03s/it]"
     ]
    },
    {
     "name": "stdout",
     "output_type": "stream",
     "text": [
      "utmosv1: 3.1506128311157227\n",
      "test_ds_index_76: LJ050-0010\n",
      "[seq]text2wav\n",
      "['Daily supervision of the operations of the Secret Service within the Department of the Treasury should be improved.']\n",
      "phonemes_len: 116\n",
      "phnid_len: 233\n",
      "dt[s]: 0.7224647402763367\n",
      "RTF: 0.11807954461495807\n",
      "[seq]wav2utmos\n"
     ]
    },
    {
     "name": "stderr",
     "output_type": "stream",
     "text": [
      " 76%|██████████████████████████████████████████████████████████████▌                   | 77/101 [01:14<00:25,  1.04s/it]"
     ]
    },
    {
     "name": "stdout",
     "output_type": "stream",
     "text": [
      "utmosv1: 4.231925964355469\n",
      "test_ds_index_77: LJ006-0126\n",
      "[seq]text2wav\n",
      "[\"had been known to employ threats, declaring that he was often consulted by the governor as to a prisoner's character,\"]\n",
      "phonemes_len: 114\n",
      "phnid_len: 229\n",
      "dt[s]: 0.7762570511549711\n",
      "RTF: 0.12025396230024107\n",
      "[seq]wav2utmos\n"
     ]
    },
    {
     "name": "stderr",
     "output_type": "stream",
     "text": [
      " 77%|███████████████████████████████████████████████████████████████▎                  | 78/101 [01:15<00:24,  1.07s/it]"
     ]
    },
    {
     "name": "stdout",
     "output_type": "stream",
     "text": [
      "utmosv1: 4.089923858642578\n",
      "test_ds_index_78: LJ018-0356\n",
      "[seq]text2wav\n",
      "['But a conversation overheard between the two brothers in Newgate satisfactorily exonerated Thomas Wainwright.']\n",
      "phonemes_len: 120\n",
      "phnid_len: 241\n",
      "dt[s]: 0.7622243855148554\n",
      "RTF: 0.11786809709242146\n",
      "[seq]wav2utmos\n"
     ]
    },
    {
     "name": "stderr",
     "output_type": "stream",
     "text": [
      " 78%|████████████████████████████████████████████████████████████████▏                 | 79/101 [01:17<00:24,  1.09s/it]"
     ]
    },
    {
     "name": "stdout",
     "output_type": "stream",
     "text": [
      "utmosv1: 4.269610404968262\n",
      "test_ds_index_79: LJ040-0223\n",
      "[seq]text2wav\n",
      "['his lack of friends, the apparent unavailability of any agency assistance and the ineffectualness of his mother']\n",
      "phonemes_len: 114\n",
      "phnid_len: 229\n",
      "dt[s]: 0.7888073567301035\n",
      "RTF: 0.11857276816030474\n",
      "[seq]wav2utmos\n"
     ]
    },
    {
     "name": "stderr",
     "output_type": "stream",
     "text": [
      " 79%|████████████████████████████████████████████████████████████████▉                 | 80/101 [01:18<00:23,  1.12s/it]"
     ]
    },
    {
     "name": "stdout",
     "output_type": "stream",
     "text": [
      "utmosv1: 4.022464752197266\n",
      "test_ds_index_80: LJ008-0281\n",
      "[seq]text2wav\n",
      "['They found at Newgate, under disgraceful conditions as already described,']\n",
      "phonemes_len: 77\n",
      "phnid_len: 155\n",
      "dt[s]: 0.5507991090416908\n",
      "RTF: 0.11830891866397758\n",
      "[seq]wav2utmos\n"
     ]
    },
    {
     "name": "stderr",
     "output_type": "stream",
     "text": [
      " 80%|█████████████████████████████████████████████████████████████████▊                | 81/101 [01:19<00:20,  1.03s/it]"
     ]
    },
    {
     "name": "stdout",
     "output_type": "stream",
     "text": [
      "utmosv1: 4.06973123550415\n",
      "test_ds_index_81: LJ008-0222\n",
      "[seq]text2wav\n",
      "['of those who had shown the white, and those who had died game.']\n",
      "phonemes_len: 63\n",
      "phnid_len: 127\n",
      "dt[s]: 0.4240131061524153\n",
      "RTF: 0.1166819213091648\n",
      "[seq]wav2utmos\n"
     ]
    },
    {
     "name": "stderr",
     "output_type": "stream",
     "text": [
      " 81%|██████████████████████████████████████████████████████████████████▌               | 82/101 [01:19<00:17,  1.09it/s]"
     ]
    },
    {
     "name": "stdout",
     "output_type": "stream",
     "text": [
      "utmosv1: 4.022794723510742\n",
      "test_ds_index_82: LJ046-0123\n",
      "[seq]text2wav\n",
      "['for bizarre reasons or by writing or in some other way attempting to communicate with him in a threatening or abusive manner']\n",
      "phonemes_len: 131\n",
      "phnid_len: 263\n",
      "dt[s]: 0.824219262227416\n",
      "RTF: 0.12073524349034413\n",
      "[seq]wav2utmos\n"
     ]
    },
    {
     "name": "stderr",
     "output_type": "stream",
     "text": [
      " 82%|███████████████████████████████████████████████████████████████████▍              | 83/101 [01:20<00:18,  1.00s/it]"
     ]
    },
    {
     "name": "stdout",
     "output_type": "stream",
     "text": [
      "utmosv1: 4.003087043762207\n",
      "test_ds_index_83: LJ030-0044\n",
      "[seq]text2wav\n",
      "['Motorcycles. -- Next came four to six motorcycle policemen whose main purpose was to keep the crowd back.']\n",
      "phonemes_len: 117\n",
      "phnid_len: 235\n",
      "dt[s]: 0.8374630678445101\n",
      "RTF: 0.12042245308568608\n",
      "[seq]wav2utmos\n"
     ]
    },
    {
     "name": "stderr",
     "output_type": "stream",
     "text": [
      " 83%|████████████████████████████████████████████████████████████████████▏             | 84/101 [01:22<00:18,  1.07s/it]"
     ]
    },
    {
     "name": "stdout",
     "output_type": "stream",
     "text": [
      "utmosv1: 4.408638954162598\n",
      "test_ds_index_84: LJ018-0051\n",
      "[seq]text2wav\n",
      "['man cannot forgive man, only God can do so. Man is therefore only accountable to God.']\n",
      "phonemes_len: 98\n",
      "phnid_len: 197\n",
      "dt[s]: 0.7005033083260059\n",
      "RTF: 0.11830651002288933\n",
      "[seq]wav2utmos\n"
     ]
    },
    {
     "name": "stderr",
     "output_type": "stream",
     "text": [
      " 84%|█████████████████████████████████████████████████████████████████████             | 85/101 [01:23<00:16,  1.06s/it]"
     ]
    },
    {
     "name": "stdout",
     "output_type": "stream",
     "text": [
      "utmosv1: 3.7248198986053467\n",
      "test_ds_index_85: LJ042-0231\n",
      "[seq]text2wav\n",
      "['His second answer to this question was, quote, No of course not,']\n",
      "phonemes_len: 69\n",
      "phnid_len: 139\n",
      "dt[s]: 0.47977522015571594\n",
      "RTF: 0.1201290380227282\n",
      "[seq]wav2utmos\n"
     ]
    },
    {
     "name": "stderr",
     "output_type": "stream",
     "text": [
      " 85%|█████████████████████████████████████████████████████████████████████▊            | 86/101 [01:23<00:14,  1.04it/s]"
     ]
    },
    {
     "name": "stdout",
     "output_type": "stream",
     "text": [
      "utmosv1: 3.76829195022583\n",
      "test_ds_index_86: LJ011-0121\n",
      "[seq]text2wav\n",
      "['Suddenly, after being at the lowest depths, he emerged, and was found by his friends living in comfort in the Waterloo Road.']\n",
      "phonemes_len: 130\n",
      "phnid_len: 261\n",
      "dt[s]: 0.8848470374941826\n",
      "RTF: 0.11927130511997949\n",
      "[seq]wav2utmos\n"
     ]
    },
    {
     "name": "stderr",
     "output_type": "stream",
     "text": [
      " 86%|██████████████████████████████████████████████████████████████████████▋           | 87/101 [01:25<00:14,  1.06s/it]"
     ]
    },
    {
     "name": "stdout",
     "output_type": "stream",
     "text": [
      "utmosv1: 3.7799201011657715\n",
      "test_ds_index_87: LJ016-0186\n",
      "[seq]text2wav\n",
      "['invited the man with the cough to enter a neighboring house and try a little peppermint for it.']\n",
      "phonemes_len: 95\n",
      "phnid_len: 191\n",
      "dt[s]: 0.5969010535627604\n",
      "RTF: 0.11846259568565366\n",
      "[seq]wav2utmos\n"
     ]
    },
    {
     "name": "stderr",
     "output_type": "stream",
     "text": [
      " 87%|███████████████████████████████████████████████████████████████████████▍          | 88/101 [01:26<00:13,  1.01s/it]"
     ]
    },
    {
     "name": "stdout",
     "output_type": "stream",
     "text": [
      "utmosv1: 4.362225532531738\n",
      "test_ds_index_88: LJ011-0164\n",
      "[seq]text2wav\n",
      "[\"Miss Turner, greatly agitated, accompanied the messenger who had brought this news, a disguised servant of Wakefield's,\"]\n",
      "phonemes_len: 123\n",
      "phnid_len: 247\n",
      "dt[s]: 0.866525836288929\n",
      "RTF: 0.11941809181356802\n",
      "[seq]wav2utmos\n"
     ]
    },
    {
     "name": "stderr",
     "output_type": "stream",
     "text": [
      " 88%|████████████████████████████████████████████████████████████████████████▎         | 89/101 [01:27<00:13,  1.09s/it]"
     ]
    },
    {
     "name": "stdout",
     "output_type": "stream",
     "text": [
      "utmosv1: 4.027300834655762\n",
      "test_ds_index_89: LJ026-0039\n",
      "[seq]text2wav\n",
      "['the earliest organisms were protists and that from them animals and plants were evolved along divergent lines of descent.']\n",
      "phonemes_len: 131\n",
      "phnid_len: 263\n",
      "dt[s]: 0.8374744635075331\n",
      "RTF: 0.12103025325307457\n",
      "[seq]wav2utmos\n"
     ]
    },
    {
     "name": "stderr",
     "output_type": "stream",
     "text": [
      " 89%|█████████████████████████████████████████████████████████████████████████         | 90/101 [01:28<00:12,  1.13s/it]"
     ]
    },
    {
     "name": "stdout",
     "output_type": "stream",
     "text": [
      "utmosv1: 3.73225998878479\n",
      "test_ds_index_90: LJ003-0105\n",
      "[seq]text2wav\n",
      "['he was sent on to Newgate in a coach, handcuffed to a noted house-breaker, who was afterwards cast for death.']\n",
      "phonemes_len: 115\n",
      "phnid_len: 231\n",
      "dt[s]: 0.8135678637772799\n",
      "RTF: 0.11897264561418334\n",
      "[seq]wav2utmos\n"
     ]
    },
    {
     "name": "stderr",
     "output_type": "stream",
     "text": [
      " 90%|█████████████████████████████████████████████████████████████████████████▉        | 91/101 [01:29<00:11,  1.16s/it]"
     ]
    },
    {
     "name": "stdout",
     "output_type": "stream",
     "text": [
      "utmosv1: 4.338012218475342\n",
      "test_ds_index_91: LJ039-0104\n",
      "[seq]text2wav\n",
      "['firing fifty rounds each day for five days.']\n",
      "phonemes_len: 52\n",
      "phnid_len: 105\n",
      "dt[s]: 0.37309787049889565\n",
      "RTF: 0.11771417188216358\n",
      "[seq]wav2utmos\n"
     ]
    },
    {
     "name": "stderr",
     "output_type": "stream",
     "text": [
      " 91%|██████████████████████████████████████████████████████████████████████████▋       | 92/101 [01:30<00:08,  1.02it/s]"
     ]
    },
    {
     "name": "stdout",
     "output_type": "stream",
     "text": [
      "utmosv1: 3.6752524375915527\n",
      "test_ds_index_92: LJ002-0038\n",
      "[seq]text2wav\n",
      "['Of these wards, three were appropriated to the \"cabin side,\" so called because']\n",
      "phonemes_len: 84\n",
      "phnid_len: 169\n",
      "dt[s]: 0.5816476624459028\n",
      "RTF: 0.11815789870404775\n",
      "[seq]wav2utmos\n"
     ]
    },
    {
     "name": "stderr",
     "output_type": "stream",
     "text": [
      " 92%|███████████████████████████████████████████████████████████████████████████▌      | 93/101 [01:31<00:07,  1.06it/s]"
     ]
    },
    {
     "name": "stdout",
     "output_type": "stream",
     "text": [
      "utmosv1: 4.343118667602539\n",
      "test_ds_index_93: LJ046-0194\n",
      "[seq]text2wav\n",
      "['Members of the White House detail were expected to familiarize themselves with the descriptions and photographs of the highest risk cases.']\n",
      "phonemes_len: 139\n",
      "phnid_len: 279\n",
      "dt[s]: 1.001806553453207\n",
      "RTF: 0.12541920934572137\n",
      "[seq]wav2utmos\n"
     ]
    },
    {
     "name": "stderr",
     "output_type": "stream",
     "text": [
      " 93%|████████████████████████████████████████████████████████████████████████████▎     | 94/101 [01:32<00:07,  1.09s/it]"
     ]
    },
    {
     "name": "stdout",
     "output_type": "stream",
     "text": [
      "utmosv1: 4.176138877868652\n",
      "test_ds_index_94: LJ008-0115\n",
      "[seq]text2wav\n",
      "[\"After the yeoman had requested him to stand up, 'he pinioned him,' as the Newgate phrase is\"]\n",
      "phonemes_len: 94\n",
      "phnid_len: 189\n",
      "dt[s]: 0.6219944544136524\n",
      "RTF: 0.11723004752308734\n",
      "[seq]wav2utmos\n"
     ]
    },
    {
     "name": "stderr",
     "output_type": "stream",
     "text": [
      " 94%|█████████████████████████████████████████████████████████████████████████████▏    | 95/101 [01:33<00:06,  1.05s/it]"
     ]
    },
    {
     "name": "stdout",
     "output_type": "stream",
     "text": [
      "utmosv1: 4.417163372039795\n",
      "test_ds_index_95: LJ016-0104\n",
      "[seq]text2wav\n",
      "['whence they let themselves down into the street by the rope.']\n",
      "phonemes_len: 61\n",
      "phnid_len: 123\n"
     ]
    },
    {
     "name": "stderr",
     "output_type": "stream",
     "text": [
      " 95%|█████████████████████████████████████████████████████████████████████████████▉    | 96/101 [01:34<00:04,  1.11it/s]"
     ]
    },
    {
     "name": "stdout",
     "output_type": "stream",
     "text": [
      "dt[s]: 0.3758593164384365\n",
      "RTF: 0.11687299649519862\n",
      "[seq]wav2utmos\n",
      "utmosv1: 4.054162979125977\n",
      "test_ds_index_96: LJ019-0301\n",
      "[seq]text2wav\n",
      "['Some idea of the comparative uselessness of these small borough prisons was conveyed by some figures quoted by the committee.']\n",
      "phonemes_len: 127\n",
      "phnid_len: 255\n",
      "dt[s]: 0.8455275036394596\n",
      "RTF: 0.1205755992294216\n",
      "[seq]wav2utmos\n"
     ]
    },
    {
     "name": "stderr",
     "output_type": "stream",
     "text": [
      " 96%|██████████████████████████████████████████████████████████████████████████████▊   | 97/101 [01:35<00:04,  1.01s/it]"
     ]
    },
    {
     "name": "stdout",
     "output_type": "stream",
     "text": [
      "utmosv1: 4.2392144203186035\n",
      "test_ds_index_97: LJ028-0012\n",
      "[seq]text2wav\n",
      "['she realizes that she is bound on the long journey across the desert. Hour after hour she bears you over the hard monotonous plain.']\n",
      "phonemes_len: 138\n",
      "phnid_len: 277\n",
      "dt[s]: 0.9046963807195425\n",
      "RTF: 0.12213799957671626\n",
      "[seq]wav2utmos\n"
     ]
    },
    {
     "name": "stderr",
     "output_type": "stream",
     "text": [
      " 97%|███████████████████████████████████████████████████████████████████████████████▌  | 98/101 [01:36<00:03,  1.10s/it]"
     ]
    },
    {
     "name": "stdout",
     "output_type": "stream",
     "text": [
      "utmosv1: 3.899912118911743\n",
      "test_ds_index_98: LJ018-0059\n",
      "[seq]text2wav\n",
      "[\"He saw Mr. Briggs' watch-chain, and followed him instantly into the carriage, determined to have it at all costs.\"]\n",
      "phonemes_len: 120\n",
      "phnid_len: 241\n",
      "dt[s]: 0.8242191411554813\n",
      "RTF: 0.11812364849260584\n",
      "[seq]wav2utmos\n"
     ]
    },
    {
     "name": "stderr",
     "output_type": "stream",
     "text": [
      " 98%|████████████████████████████████████████████████████████████████████████████████▍ | 99/101 [01:37<00:02,  1.14s/it]"
     ]
    },
    {
     "name": "stdout",
     "output_type": "stream",
     "text": [
      "utmosv1: 3.95918869972229\n",
      "test_ds_index_99: LJ029-0081\n",
      "[seq]text2wav\n",
      "['The third possibility, the Trade Mart, a handsome new building with all the necessary facilities, presented security problems. It had numerous entrances,']\n",
      "phonemes_len: 163\n",
      "phnid_len: 327\n",
      "dt[s]: 1.2600683495402336\n",
      "RTF: 0.12153777255110124\n",
      "[seq]wav2utmos\n"
     ]
    },
    {
     "name": "stderr",
     "output_type": "stream",
     "text": [
      " 99%|████████████████████████████████████████████████████████████████████████████████▏| 100/101 [01:39<00:01,  1.37s/it]"
     ]
    },
    {
     "name": "stdout",
     "output_type": "stream",
     "text": [
      "utmosv1: 3.918611526489258\n",
      "test_ds_index_100: LJ017-0230\n",
      "[seq]text2wav\n",
      "[\"came out of the cabin, was caught near the 'companion' by the rest of the mutineers, and promptly dispatched with daggers.\"]\n",
      "phonemes_len: 121\n",
      "phnid_len: 243\n",
      "dt[s]: 0.8575560543686152\n",
      "RTF: 0.12229091860790023\n",
      "[seq]wav2utmos\n"
     ]
    },
    {
     "name": "stderr",
     "output_type": "stream",
     "text": [
      "100%|█████████████████████████████████████████████████████████████████████████████████| 101/101 [01:41<00:00,  1.00s/it]"
     ]
    },
    {
     "name": "stdout",
     "output_type": "stream",
     "text": [
      "utmosv1: 4.0134782791137695\n"
     ]
    },
    {
     "name": "stderr",
     "output_type": "stream",
     "text": [
      "\n"
     ]
    }
   ],
   "source": [
    "eval_list = []\n",
    "\n",
    "for i in tqdm(range(infer_data_num)):\n",
    "    test_ds_filename = test_ds_list[i]['name']\n",
    "    synth_wav_path = RESULT_WAV_DIR_PATH / f\"{test_ds_filename}.wav\"\n",
    "    print(f'test_ds_index_{i}: {test_ds_filename}')\n",
    "    # [seq]text2wav =========================================================\n",
    "    # load txt\n",
    "    print('[seq]text2wav')\n",
    "    text = test_ds_list[i]['text']\n",
    "    c, c_length, phonemes = nix.tokenize(text)\n",
    "    #phonemes_len_int = len(phonemes[0])\n",
    "    #phnid_len_int = len(c_length[0])\n",
    "    phonemes_len_int = len(phonemes[0])\n",
    "    phnid_len_int = c_length.item()\n",
    "    print(f'phonemes_len: {phonemes_len_int}')\n",
    "    print(f'phnid_len: {phnid_len_int}')\n",
    "    # [seq] synth speech\n",
    "    start_time = time.perf_counter()\n",
    "\n",
    "    audio = nix.vocalize(c, c_length)\n",
    "\n",
    "    end_time = time.perf_counter()\n",
    "\n",
    "    dt4wav = end_time - start_time\n",
    "    audio_playback_time = (len(audio[0,0]) / 22050)\n",
    "    RTF4wav = dt4wav / audio_playback_time\n",
    "    print(f'dt[s]: {dt4wav}')\n",
    "    print(f'RTF: {RTF4wav}')\n",
    "\n",
    "    write(\n",
    "        synth_wav_path,\n",
    "        sample_rate,\n",
    "        audio[0,0])\n",
    "\n",
    "    # [seq]wav2utmos =========================================================\n",
    "    print('[seq]wav2utmos')\n",
    "    waveform, samplerate = torchaudio.load(synth_wav_path)\n",
    "    utmosv1_score = predictor_utmosv1(waveform, samplerate)\n",
    "    utmosv1_score_float = utmosv1_score.item()\n",
    "    print(f'utmosv1: {utmosv1_score_float}')\n",
    "    \n",
    "    eval_dict = {\n",
    "        'name': test_ds_filename,\n",
    "        'wav_path': str(synth_wav_path),\n",
    "        'phonemes_len': phonemes_len_int,\n",
    "        'phnid_len': phnid_len_int,\n",
    "        'audio_playback_time': audio_playback_time,\n",
    "        'dt': dt4wav,\n",
    "        'RTF4wav': RTF4wav,\n",
    "        'utmos': utmosv1_score_float\n",
    "    }\n",
    "    eval_list.append(eval_dict)\n",
    "\n"
   ]
  },
  {
   "cell_type": "code",
   "execution_count": 11,
   "id": "27d1c1ab-cd2e-4d76-9051-7b80fe5f1309",
   "metadata": {},
   "outputs": [
    {
     "name": "stdout",
     "output_type": "stream",
     "text": [
      "Make result4eval/infer4colb/nix_deter/cpu/e500_n50/eval4mid_LJ_V1.json\n"
     ]
    }
   ],
   "source": [
    "#RESULT_JSON_PATH = RESULT_DIR_PATH / 'eval4mid.json'\n",
    "if RESULT_JSON_PATH.exists() == False:\n",
    "    with open(RESULT_JSON_PATH, 'w') as f:\n",
    "        for entry in eval_list:\n",
    "            f.write(json.dumps(entry) + '\\n')\n",
    "    print(f'Make {RESULT_JSON_PATH}')\n",
    "else:\n",
    "    print(f'Already Exists {RESULT_JSON_PATH}')"
   ]
  },
  {
   "cell_type": "markdown",
   "id": "4c5be811-fa2e-4b93-a4f2-42cb68b5b371",
   "metadata": {},
   "source": [
    "## recheck"
   ]
  },
  {
   "cell_type": "code",
   "execution_count": 12,
   "id": "e08c9c91-bb81-4fd9-bcc3-4d2a8a15cea2",
   "metadata": {},
   "outputs": [
    {
     "name": "stdout",
     "output_type": "stream",
     "text": [
      "Exist result4eval/infer4colb/nix_deter/cpu/e500_n50/eval4mid_LJ_V1.json\n"
     ]
    }
   ],
   "source": [
    "a = toybox.load_json(f'result4eval/infer4colb/{model_name}/cpu/e500_n50/eval4mid_{hifigan_versions}.json')"
   ]
  },
  {
   "cell_type": "code",
   "execution_count": 13,
   "id": "49901dda-4bc4-45d3-836f-9d45cfe3b465",
   "metadata": {},
   "outputs": [
    {
     "name": "stdout",
     "output_type": "stream",
     "text": [
      "100\n",
      "dt ---------------------------\n",
      "dt mean: 0.67199343\n",
      "dt var: 0.05393388599999999\n",
      "dt std: 0.2322367\n",
      "RTF ---------------------------\n",
      "RTF mean: 0.11887888999999999\n",
      "RTF var: 2.7823638999999997e-06\n",
      "RTF std: 0.0016680419\n",
      "utmos ---------------------------\n",
      "utmos mean: 4.041794299999999\n",
      "utmos var: 0.072824227\n",
      "utmos std: 0.26985964\n"
     ]
    }
   ],
   "source": [
    "dt_list = [a[n]['dt'] for n in range(len(a))]\n",
    "RTF4mel_list = [a[n]['RTF4wav'] for n in range(len(a))]\n",
    "utmos_list = [a[n]['utmos'] for n in range(len(a))]\n",
    "\n",
    "dt_nparr = np.array(dt_list[1:101])\n",
    "RTF4mel_nparr = np.array(RTF4mel_list[1:101])\n",
    "utmos_nparr = np.array(utmos_list[1:101])\n",
    "print(len(dt_nparr))\n",
    "\n",
    "significant_digits = 8\n",
    "\n",
    "# for culc difference time to infer text2mel\n",
    "dt_mean = toybox.round_significant_digits(np.mean(dt_nparr), significant_digits=significant_digits)\n",
    "dt_var = toybox.round_significant_digits(np.var(dt_nparr), significant_digits=significant_digits)\n",
    "dt_std = toybox.round_significant_digits(np.std(dt_nparr), significant_digits=significant_digits)\n",
    "print(f'dt ---------------------------')\n",
    "print(f'dt mean: {dt_mean}')\n",
    "print(f'dt var: {dt_var}')\n",
    "print(f'dt std: {dt_std}')\n",
    "\n",
    "# for culc RTF4mel to infer text2mel\n",
    "RTF4mel_mean = toybox.round_significant_digits(np.mean(RTF4mel_nparr), significant_digits=significant_digits)\n",
    "RTF4mel_var = toybox.round_significant_digits(np.var(RTF4mel_nparr), significant_digits=significant_digits)\n",
    "RTF4mel_std = toybox.round_significant_digits(np.std(RTF4mel_nparr), significant_digits=significant_digits)\n",
    "print(f'RTF ---------------------------')\n",
    "print(f'RTF mean: {RTF4mel_mean}')\n",
    "print(f'RTF var: {RTF4mel_var}')\n",
    "print(f'RTF std: {RTF4mel_std}')\n",
    "\n",
    "# for culc utmos to infer \n",
    "print(f'utmos ---------------------------')\n",
    "utmos_mean = toybox.round_significant_digits(np.mean(utmos_nparr), significant_digits=significant_digits)\n",
    "utmos_var = toybox.round_significant_digits(np.var(utmos_nparr), significant_digits=significant_digits)\n",
    "utmos_std = toybox.round_significant_digits(np.std(utmos_nparr), significant_digits=significant_digits)\n",
    "print(f'utmos mean: {utmos_mean}')\n",
    "print(f'utmos var: {utmos_var}')\n",
    "print(f'utmos std: {utmos_std}')"
   ]
  },
  {
   "cell_type": "code",
   "execution_count": null,
   "id": "9e0b3145-cba9-45ff-9f44-8df7cc5882e8",
   "metadata": {},
   "outputs": [],
   "source": []
  },
  {
   "cell_type": "markdown",
   "id": "d5ca776c-987d-454a-8f1d-dc0386ea7c67",
   "metadata": {},
   "source": [
    "## No process"
   ]
  },
  {
   "cell_type": "code",
   "execution_count": 44,
   "id": "e0a55d15-40e3-48c8-91a2-e68642c5587b",
   "metadata": {},
   "outputs": [
    {
     "name": "stdout",
     "output_type": "stream",
     "text": [
      "eval_jsonl_path: result4nixeval/stoch/eval4nix_utmosv1_stoch.json\n",
      "Exist result4nixeval/stoch/eval4nix_utmosv1_stoch.json\n"
     ]
    }
   ],
   "source": [
    "eval_jsonl_path = results_dir_path / f'eval4nix_utmosv1_{model_type}.json'\n",
    "print(f'eval_jsonl_path: {eval_jsonl_path}')\n",
    "\n",
    "if eval_jsonl_path.exists() == True:\n",
    "    print(f'Exist {eval_jsonl_path}')\n",
    "    import json\n",
    "    with open(eval_jsonl_path) as f:\n",
    "        eval_jsonl_list = [json.loads(l) for l in f]\n",
    "else:\n",
    "    print(f'No Exists {eval_jsonl_path}')"
   ]
  },
  {
   "cell_type": "code",
   "execution_count": 45,
   "id": "7f8c5480-03c4-4a95-a7ec-2038f3990327",
   "metadata": {},
   "outputs": [
    {
     "name": "stdout",
     "output_type": "stream",
     "text": [
      "[]\n"
     ]
    }
   ],
   "source": [
    "diff_result = list(filter(lambda x: x not in eval_list, eval_jsonl_list))\n",
    "print(diff_result)"
   ]
  },
  {
   "cell_type": "markdown",
   "id": "e74ef803-7ce4-4624-9324-b6813216631f",
   "metadata": {},
   "source": [
    "## check and culc Indicator"
   ]
  },
  {
   "cell_type": "code",
   "execution_count": 17,
   "id": "e3f6e67e-902a-4127-ba49-c69f09c79255",
   "metadata": {},
   "outputs": [
    {
     "name": "stdout",
     "output_type": "stream",
     "text": [
      "result4nixeval/stoch/eval4nix_utmosv1_stoch.json\n",
      "Already Exists result4nixeval/stoch/nix_wavs\n",
      "Already Exists result4nixeval/stoch\n"
     ]
    }
   ],
   "source": [
    "model_type = 'stoch' #'deter' or 'stoch'\n",
    "results_dir_path = Path(f'./result4nixeval/{model_type}')\n",
    "wav_dir_path = results_dir_path / 'nix_wavs'\n",
    "eval_json_path = results_dir_path / f'eval4nix_utmosv1_{model_type}.json'\n",
    "print(eval_json_path)\n",
    "\n",
    "if wav_dir_path.exists()==True:\n",
    "    print(f'Already Exists {wav_dir_path}')\n",
    "else:\n",
    "    print(f'No  {wav_dir_path}')    \n",
    "\n",
    "if results_dir_path.exists()==True:\n",
    "    print(f'Already Exists {results_dir_path}')\n",
    "else:\n",
    "    print(f'No {results_dir_path}')\n",
    "\n",
    "if eval_json_path.exists()==True:\n",
    "    with open(eval_json_path) as f:\n",
    "        eval_utmosv1_json = [json.loads(l) for l in f.readlines()]\n",
    "else:\n",
    "    print('No {eval_json_path}')"
   ]
  },
  {
   "cell_type": "code",
   "execution_count": 18,
   "id": "3e4d3da9-e5ae-4cc4-a5bf-5d3403387341",
   "metadata": {},
   "outputs": [],
   "source": [
    "#diff_result = list(filter(lambda x: x not in eval_jsonl_list, info_jsonl1))\n",
    "#print(diff_result)"
   ]
  },
  {
   "cell_type": "code",
   "execution_count": 19,
   "id": "45e36d58-e19f-477e-b9b2-ee9b486c5592",
   "metadata": {},
   "outputs": [],
   "source": [
    "def round_significant_digits(value, significant_digits=5):\n",
    "    if value == 0:\n",
    "        return 0\n",
    "\n",
    "    import math\n",
    "    scale = math.floor(-math.log10(abs(value)))  # Find the first nonzero after the decimal point\n",
    "    factor = 10 ** (scale + significant_digits - 1)  # Scale to hold 5 significant digits\n",
    "\n",
    "    rounded_value = round(value * factor,1) / factor  # Adjust and round off the scale\n",
    "    return rounded_value"
   ]
  },
  {
   "cell_type": "code",
   "execution_count": 20,
   "id": "ab012fac-0df8-4d7f-bae6-05d1fce0af0a",
   "metadata": {},
   "outputs": [
    {
     "name": "stdout",
     "output_type": "stream",
     "text": [
      "(100,)\n",
      "utmos mean: 4.0298\n",
      "utmos var: 0.082376\n",
      "utmos std: 0.28701\n"
     ]
    }
   ],
   "source": [
    "significant_digits = 5\n",
    "\n",
    "utmos_list = [eval_utmosv1_json[n]['utmos'] for n in range(len(eval_utmosv1_json))]\n",
    "utmos_nparr = np.array(utmos_list[1:101])\n",
    "print(utmos_nparr.shape)\n",
    "utmos_mean = round_significant_digits(np.mean(utmos_nparr), significant_digits=significant_digits)\n",
    "utmos_var = round_significant_digits(np.var(utmos_nparr), significant_digits=significant_digits)\n",
    "utmos_std = round_significant_digits(np.std(utmos_nparr), significant_digits=significant_digits)\n",
    "print(f'utmos mean: {utmos_mean}')\n",
    "print(f'utmos var: {utmos_var}')\n",
    "print(f'utmos std: {utmos_std}')"
   ]
  },
  {
   "cell_type": "code",
   "execution_count": 21,
   "id": "2a6d51ba-dd66-471a-b8b4-53f7bd47a80b",
   "metadata": {},
   "outputs": [
    {
     "data": {
      "text/plain": [
       "'\\nutmos mean: 4.0298\\nutmos var: 0.082376\\nutmos std: 0.28701\\n'"
      ]
     },
     "execution_count": 21,
     "metadata": {},
     "output_type": "execute_result"
    }
   ],
   "source": [
    "\"\"\"\n",
    "utmos mean: 4.0298\n",
    "utmos var: 0.082376\n",
    "utmos std: 0.28701\n",
    "\"\"\""
   ]
  },
  {
   "cell_type": "code",
   "execution_count": null,
   "id": "31c803e6-84cf-46f8-9f23-a73e9dbe2c84",
   "metadata": {},
   "outputs": [],
   "source": []
  }
 ],
 "metadata": {
  "kernelspec": {
   "display_name": "Python 3 (ipykernel)",
   "language": "python",
   "name": "python3"
  },
  "language_info": {
   "codemirror_mode": {
    "name": "ipython",
    "version": 3
   },
   "file_extension": ".py",
   "mimetype": "text/x-python",
   "name": "python",
   "nbconvert_exporter": "python",
   "pygments_lexer": "ipython3",
   "version": "3.10.16"
  }
 },
 "nbformat": 4,
 "nbformat_minor": 5
}

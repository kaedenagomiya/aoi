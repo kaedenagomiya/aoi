{
 "cells": [
  {
   "cell_type": "code",
   "execution_count": 1,
   "id": "b8a11a2f-ebdb-4cdd-98d9-aa683aeb4710",
   "metadata": {},
   "outputs": [
    {
     "name": "stdout",
     "output_type": "stream",
     "text": [
      "4\n"
     ]
    }
   ],
   "source": [
    "import os\n",
    "os.environ['OMP_NUM_THREADS'] = '4' \n",
    "print(os.environ['OMP_NUM_THREADS'])"
   ]
  },
  {
   "cell_type": "code",
   "execution_count": 2,
   "id": "e451ab9d-6679-4e6e-a7dc-e45ff83aa522",
   "metadata": {},
   "outputs": [
    {
     "name": "stderr",
     "output_type": "stream",
     "text": [
      "Failed to create secure directory (/run/user/40760/pulse): No such file or directory\n",
      "Failed to create secure directory (/run/user/40760/pulse): No such file or directory\n",
      "Failed to create secure directory (/run/user/40760/pulse): No such file or directory\n",
      "Failed to create secure directory (/run/user/40760/pulse): No such file or directory\n"
     ]
    }
   ],
   "source": [
    "import json\n",
    "import yaml\n",
    "import sys\n",
    "import time\n",
    "import IPython.display as ipd\n",
    "import pprint\n",
    "from pathlib import Path\n",
    "from tqdm import tqdm\n",
    "\n",
    "import os\n",
    "import random\n",
    "import numpy as np\n",
    "\n",
    "import onnxruntime\n",
    "from nix.models.TTS import NixTTSInference\n",
    "from IPython.display import Audio\n",
    "import soundfile as sf"
   ]
  },
  {
   "cell_type": "code",
   "execution_count": 3,
   "id": "3f8f4814-535d-4e17-a711-fa5cc356ecea",
   "metadata": {},
   "outputs": [],
   "source": [
    "seed = 1234\n",
    "random.seed(seed)\n",
    "np.random.seed(seed)\n",
    "os.environ['PYTHONHASHSEED'] = str(seed)"
   ]
  },
  {
   "cell_type": "code",
   "execution_count": 4,
   "id": "c75f1443-c215-4e29-87af-ad73750f8482",
   "metadata": {},
   "outputs": [
    {
     "name": "stdout",
     "output_type": "stream",
     "text": [
      "True\n"
     ]
    }
   ],
   "source": [
    "results_base_dir = Path('./result4eval')\n",
    "wav_base_dir = 'nix_wavs'\n",
    "print(results_base_dir.exists())\n",
    "#print(wav_base_dir.exists())"
   ]
  },
  {
   "cell_type": "code",
   "execution_count": 5,
   "id": "345ecf31-9062-4729-810b-f609c4cd88a8",
   "metadata": {},
   "outputs": [
    {
     "name": "stdout",
     "output_type": "stream",
     "text": [
      "Make result4eval/stoch/nix_wavs\n",
      "Already Exists result4eval/stoch\n"
     ]
    }
   ],
   "source": [
    "testc_json_path = Path('./ctensor4nix.json')\n",
    "flag4model = 'stoch' # deter or stoch\n",
    "\n",
    "# ./pretrained/nix-ljspeech-deterministic-v0.1\n",
    "# ./pretrained/nix-ljspeech-stochastic-v0.1\n",
    "if flag4model=='deter':\n",
    "    model_path = Path(f'./pretrained/nix-ljspeech-deterministic-v0.1')\n",
    "    results_dir_path = results_base_dir / flag4model\n",
    "    wav_dir_path = results_dir_path / wav_base_dir\n",
    "elif flag4model=='stoch':\n",
    "    model_path = Path(f'./pretrained/nix-ljspeech-stochastic-v0.1')\n",
    "    results_dir_path = results_base_dir / flag4model\n",
    "    wav_dir_path = results_dir_path / wav_base_dir\n",
    "else:\n",
    "    print('Do not supported.')\n",
    "\n",
    "if wav_dir_path.exists()==False:\n",
    "    wav_dir_path.mkdir(parents=True)\n",
    "    print(f'Make {wav_dir_path}')\n",
    "else:\n",
    "    print(f'Already Exists {wav_dir_path}')\n",
    "\n",
    "if results_dir_path.exists()==False:\n",
    "    results_dir_path.mkdir(parents=True)\n",
    "    print(f'Make {results_dir_path}')\n",
    "else:\n",
    "    print(f'Already Exists {results_dir_path}')\n",
    "\n",
    "# load ctensor4nix.json\n",
    "if testc_json_path.exists()==True:\n",
    "    with open(testc_json_path) as f:\n",
    "        info_jsonl = [json.loads(l) for l in f.readlines()]\n",
    "else:\n",
    "    print('Not Exists.')\n",
    "\n",
    "nix = NixTTSInference(model_dir = str(model_path))"
   ]
  },
  {
   "cell_type": "markdown",
   "id": "a701fe80-87db-4dc7-8d40-3d1eb3a50436",
   "metadata": {},
   "source": [
    "## test_run"
   ]
  },
  {
   "cell_type": "code",
   "execution_count": 6,
   "id": "db3ea04e-e31a-432a-806d-ad271fac30dc",
   "metadata": {},
   "outputs": [
    {
     "name": "stdout",
     "output_type": "stream",
     "text": [
      "c:[[  0  72   0  62   0  16   0  81   0  83   0  16   0  62   0 156   0  43\n",
      "    0 102   0  55   0  16   0 138   0  64   0  65   0 156   0 102   0  62\n",
      "    0 131   0  16   0 156   0  43   0 102   0  16   0  72   0  55   0  16\n",
      "    0 123   0 156   0  43   0 102   0 125   0 102   0 112   0  16   0  81\n",
      "    0  86   0 123   0  65   0 157   0 138   0  68   0  16   0  92   0 123\n",
      "    0 156   0  47   0 102   0  62   0  16   0  46   0  43   0 102   0  64\n",
      "    0 156   0  87   0 158   0  61   0 177   0 125   0  51   0  16   0 138\n",
      "    0  64   0  16   0  58   0 123   0 156   0  72   0  53   0  62   0 102\n",
      "    0  61   0  16   0  72   0  68   0  16   0 123   0 177   0  92   0 156\n",
      "    0  69   0 158   0 123   0  46   0  68   0  16   0  81   0 102   0  16\n",
      "    0 156   0  43   0 135   0  85   0  68   0  16   0 138   0  64   0  16\n",
      "    0  54   0 156   0  47   0 102   0  44   0  85   0   4   0]]\n",
      "c_length:[213]\n"
     ]
    }
   ],
   "source": [
    "# Tokenize input text\n",
    "#text ='Hello.'\n",
    "#c, c_length, phoneme = nix.tokenize(text)\n",
    "# Convert text to raw speech\n",
    "index = -2\n",
    "c = np.array(info_jsonl[index]['c'])\n",
    "c_length = np.array(info_jsonl[index]['c_length'])\n",
    "print(f'c:{c}')\n",
    "print(f'c_length:{c_length}')"
   ]
  },
  {
   "cell_type": "code",
   "execution_count": 8,
   "id": "620ee2be-2b93-4ae0-bcd4-23d808ec81b2",
   "metadata": {},
   "outputs": [
    {
     "data": {
      "text/plain": [
       "(1, 213)"
      ]
     },
     "execution_count": 8,
     "metadata": {},
     "output_type": "execute_result"
    }
   ],
   "source": [
    "c.shape"
   ]
  },
  {
   "cell_type": "code",
   "execution_count": 7,
   "id": "5bfffca9-08f5-4024-b754-e6279ac87649",
   "metadata": {},
   "outputs": [
    {
     "name": "stderr",
     "output_type": "stream",
     "text": [
      "\u001b[0;93m2024-11-27 11:47:07.693124371 [W:onnxruntime:, execution_frame.cc:870 VerifyOutputSizes] Expected shape from model of {-1,192,169} does not match actual shape of {1,192,213} for output 643\u001b[m\n",
      "\u001b[0;93m2024-11-27 11:47:07.725986718 [W:onnxruntime:, execution_frame.cc:870 VerifyOutputSizes] Expected shape from model of {-1,1,169} does not match actual shape of {1,1,213} for output duration_rounded\u001b[m\n",
      "\u001b[0;93m2024-11-27 11:47:07.726120844 [W:onnxruntime:, execution_frame.cc:870 VerifyOutputSizes] Expected shape from model of {1,359} does not match actual shape of {1,525} for output x_masks\u001b[m\n",
      "\u001b[0;93m2024-11-27 11:47:07.825287380 [W:onnxruntime:, execution_frame.cc:870 VerifyOutputSizes] Expected shape from model of {1,192,359} does not match actual shape of {1,192,525} for output logsig_z\u001b[m\n",
      "\u001b[0;93m2024-11-27 11:47:07.825566251 [W:onnxruntime:, execution_frame.cc:870 VerifyOutputSizes] Expected shape from model of {1,192,359} does not match actual shape of {1,192,525} for output mu_z\u001b[m\n",
      "\u001b[0;93m2024-11-27 11:47:07.829000629 [W:onnxruntime:, execution_frame.cc:870 VerifyOutputSizes] Expected shape from model of {1,192,359} does not match actual shape of {1,192,525} for output z\u001b[m\n"
     ]
    },
    {
     "name": "stdout",
     "output_type": "stream",
     "text": [
      "dt[s]: 0.9473499958403409\n",
      "RTF: 0.15542460869255592\n"
     ]
    }
   ],
   "source": [
    "start_time = time.perf_counter()\n",
    "\n",
    "xw = nix.vocalize(c, c_length)\n",
    "\n",
    "end_time = time.perf_counter()\n",
    "\n",
    "dt = end_time - start_time\n",
    "audio_playback_time = (len(xw[0,0]) / 22050)\n",
    "RTF = dt / audio_playback_time\n",
    "print(f'dt[s]: {dt}')\n",
    "print(f'RTF: {RTF}')\n",
    "# thread1:\n",
    "# dt[s]: 0.25655217794701457\n",
    "# RTF: 0.1463414611892506\n",
    "# thread1,['OMP_NUM_THREADS'] = '4':\n",
    "#dt[s]: 0.25247742515057325\n",
    "#RTF: 0.14401715709256366"
   ]
  },
  {
   "cell_type": "code",
   "execution_count": 10,
   "id": "fb15583e-d1b0-4be6-afb3-b8a97676d3f5",
   "metadata": {},
   "outputs": [
    {
     "name": "stdout",
     "output_type": "stream",
     "text": [
      "6.095238095238095\n"
     ]
    },
    {
     "data": {
      "text/html": [
       "\n",
       "                <audio  controls=\"controls\" >\n",
       "                    <source src=\"data:audio/wav;base64,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\" type=\"audio/wav\" />\n",
       "                    Your browser does not support the audio element.\n",
       "                </audio>\n",
       "              "
      ],
      "text/plain": [
       "<IPython.lib.display.Audio object>"
      ]
     },
     "execution_count": 10,
     "metadata": {},
     "output_type": "execute_result"
    }
   ],
   "source": [
    "# Listen to the generated speech\n",
    "#wav_path = './minus1.wav'\n",
    "#sf.write(wav_path, xw[0,0], samplerate=22050, subtype='PCM_16')\n",
    "print((len(xw[0,0]) / 22050))\n",
    "Audio(xw[0,0], rate = 22050)\n"
   ]
  },
  {
   "cell_type": "markdown",
   "id": "ef606b5c-6622-4130-992c-9f79770a5c5f",
   "metadata": {},
   "source": [
    "## [seq] infer"
   ]
  },
  {
   "cell_type": "code",
   "execution_count": 11,
   "id": "bb1a8d08-ea5a-41bb-9830-1c5fefac5fbc",
   "metadata": {},
   "outputs": [
    {
     "name": "stdout",
     "output_type": "stream",
     "text": [
      "infer_data_num: 101\n",
      "flag4model: stoch\n",
      "model_path: pretrained/nix-ljspeech-stochastic-v0.1\n",
      "results_dir_path: result4eval/stoch\n",
      "wav_dir_path: result4eval/stoch/nix_wavs\n",
      "info_jsonl_len: 200\n"
     ]
    }
   ],
   "source": [
    "infer_data_num: int = 101\n",
    "print(f'infer_data_num: {infer_data_num}')\n",
    "print(f'flag4model: {flag4model}')\n",
    "print(f'model_path: {model_path}')\n",
    "print(f'results_dir_path: {results_dir_path}')\n",
    "print(f'wav_dir_path: {wav_dir_path}')\n",
    "print(f'info_jsonl_len: {len(info_jsonl)}')"
   ]
  },
  {
   "cell_type": "code",
   "execution_count": 12,
   "id": "579e0784-762f-4ec9-831a-44962a7b567d",
   "metadata": {},
   "outputs": [
    {
     "name": "stderr",
     "output_type": "stream",
     "text": [
      "  0%|                                                                                                     | 0/101 [00:00<?, ?it/s]\u001b[0;93m2024-11-27 11:48:27.705807484 [W:onnxruntime:, execution_frame.cc:870 VerifyOutputSizes] Expected shape from model of {-1,192,169} does not match actual shape of {1,192,263} for output 643\u001b[m\n",
      "\u001b[0;93m2024-11-27 11:48:27.722208369 [W:onnxruntime:, execution_frame.cc:870 VerifyOutputSizes] Expected shape from model of {-1,1,169} does not match actual shape of {1,1,263} for output duration_rounded\u001b[m\n",
      "\u001b[0;93m2024-11-27 11:48:27.722310480 [W:onnxruntime:, execution_frame.cc:870 VerifyOutputSizes] Expected shape from model of {1,359} does not match actual shape of {1,621} for output x_masks\u001b[m\n",
      "\u001b[0;93m2024-11-27 11:48:27.756654858 [W:onnxruntime:, execution_frame.cc:870 VerifyOutputSizes] Expected shape from model of {1,192,359} does not match actual shape of {1,192,621} for output logsig_z\u001b[m\n",
      "\u001b[0;93m2024-11-27 11:48:27.756800562 [W:onnxruntime:, execution_frame.cc:870 VerifyOutputSizes] Expected shape from model of {1,192,359} does not match actual shape of {1,192,621} for output mu_z\u001b[m\n",
      "\u001b[0;93m2024-11-27 11:48:27.759226842 [W:onnxruntime:, execution_frame.cc:870 VerifyOutputSizes] Expected shape from model of {1,192,359} does not match actual shape of {1,192,621} for output z\u001b[m\n"
     ]
    },
    {
     "name": "stdout",
     "output_type": "stream",
     "text": [
      "c:[[  0  54   0 156   0  51   0 158   0  16   0  65   0 135   0  46   0  16\n",
      "    0  61   0 156   0  47   0 102   0  16   0  81   0 157   0  70   0 125\n",
      "    0 102   0  62   0  16   0  65   0 135   0  46   0  16   0  44   0  51\n",
      "    0 158   0  16   0  44   0 156   0  86   0 125   0  85   0  16   0  48\n",
      "    0  76   0 158   0 123   0  16   0  55   0 157   0  51   0 158   0  16\n",
      "    0 102   0  48   0  16   0 156   0  43   0 102   0  16   0  65   0  86\n",
      "    0  56   0  62   0  16   0  62   0  83   0  16   0 123   0 156   0 138\n",
      "    0 131   0  83   0   4   0  16   0 156   0  43   0 102   0  16   0  46\n",
      "    0 102   0  46   0  56   0 157   0  69   0 158   0  62   0  16   0  56\n",
      "    0 156   0  57   0 135   0  16   0  65   0 156   0  43   0 102   0   4\n",
      "    0  16   0 156   0  43   0 102   0  16   0  46   0 102   0  46   0  56\n",
      "    0 157   0  69   0 158   0  62   0  16   0  56   0 156   0  57   0 135\n",
      "    0  16   0  65   0 138   0  62   0  16   0  50   0  51   0 158   0  16\n",
      "    0  50   0  72   0  46   0  16   0 102   0  56   0  16   0  55   0 156\n",
      "    0  43   0 102   0  56   0  46   0   4   0]]\n",
      "c_length:[263]\n"
     ]
    },
    {
     "name": "stderr",
     "output_type": "stream",
     "text": [
      "  1%|▉                                                                                            | 1/101 [00:01<01:49,  1.10s/it]"
     ]
    },
    {
     "name": "stdout",
     "output_type": "stream",
     "text": [
      "dt[s]: 0.9196576047688723\n",
      "RTF: 0.15542460869255592\n",
      "c:[[  0  81   0  72   0  62   0  16   0 156   0  69   0 158   0 123   0  61\n",
      "    0  56   0 102   0  53   0  16   0  65   0 138   0  68   0  16   0  65\n",
      "    0 102   0  81   0 157   0 102   0  56   0  16   0  50   0  87   0 158\n",
      "    0  16   0 123   0 156   0  51   0 158   0  62   0 131   0  16   0 102\n",
      "    0  56   0  81   0  83   0  16   0  50   0 156   0  43   0 135   0  61\n",
      "    0   3   0]]\n",
      "c_length:[93]\n"
     ]
    },
    {
     "name": "stderr",
     "output_type": "stream",
     "text": [
      "\u001b[0;93m2024-11-27 11:48:28.784648461 [W:onnxruntime:, execution_frame.cc:870 VerifyOutputSizes] Expected shape from model of {-1,192,169} does not match actual shape of {1,192,93} for output 643\u001b[m\n",
      "\u001b[0;93m2024-11-27 11:48:28.789706516 [W:onnxruntime:, execution_frame.cc:870 VerifyOutputSizes] Expected shape from model of {-1,1,169} does not match actual shape of {1,1,93} for output duration_rounded\u001b[m\n",
      "\u001b[0;93m2024-11-27 11:48:28.789778038 [W:onnxruntime:, execution_frame.cc:870 VerifyOutputSizes] Expected shape from model of {1,359} does not match actual shape of {1,218} for output x_masks\u001b[m\n",
      "\u001b[0;93m2024-11-27 11:48:28.803210186 [W:onnxruntime:, execution_frame.cc:870 VerifyOutputSizes] Expected shape from model of {1,192,359} does not match actual shape of {1,192,218} for output logsig_z\u001b[m\n",
      "\u001b[0;93m2024-11-27 11:48:28.803383707 [W:onnxruntime:, execution_frame.cc:870 VerifyOutputSizes] Expected shape from model of {1,192,359} does not match actual shape of {1,192,218} for output mu_z\u001b[m\n",
      "\u001b[0;93m2024-11-27 11:48:28.804383235 [W:onnxruntime:, execution_frame.cc:870 VerifyOutputSizes] Expected shape from model of {1,192,359} does not match actual shape of {1,192,218} for output z\u001b[m\n",
      "  2%|█▊                                                                                           | 2/101 [00:01<01:03,  1.56it/s]"
     ]
    },
    {
     "name": "stdout",
     "output_type": "stream",
     "text": [
      "dt[s]: 0.3163703326135874\n",
      "RTF: 0.15542460869255592\n",
      "c:[[  0 102   0  62   0  16   0  65   0 138   0  68   0  16   0 156   0  76\n",
      "    0 158   0  54   0  55   0  57   0 135   0  61   0  62   0  16   0  62\n",
      "    0 156   0  63   0 158   0  16   0  54   0 156   0  47   0 102   0  62\n",
      "    0   4   0]]\n",
      "c_length:[57]\n"
     ]
    },
    {
     "name": "stderr",
     "output_type": "stream",
     "text": [
      "\u001b[0;93m2024-11-27 11:48:29.101252857 [W:onnxruntime:, execution_frame.cc:870 VerifyOutputSizes] Expected shape from model of {-1,192,169} does not match actual shape of {1,192,57} for output 643\u001b[m\n",
      "\u001b[0;93m2024-11-27 11:48:29.104218841 [W:onnxruntime:, execution_frame.cc:870 VerifyOutputSizes] Expected shape from model of {-1,1,169} does not match actual shape of {1,1,57} for output duration_rounded\u001b[m\n",
      "\u001b[0;93m2024-11-27 11:48:29.104275689 [W:onnxruntime:, execution_frame.cc:870 VerifyOutputSizes] Expected shape from model of {1,359} does not match actual shape of {1,144} for output x_masks\u001b[m\n",
      "\u001b[0;93m2024-11-27 11:48:29.111413249 [W:onnxruntime:, execution_frame.cc:870 VerifyOutputSizes] Expected shape from model of {1,192,359} does not match actual shape of {1,192,144} for output logsig_z\u001b[m\n",
      "\u001b[0;93m2024-11-27 11:48:29.111461611 [W:onnxruntime:, execution_frame.cc:870 VerifyOutputSizes] Expected shape from model of {1,192,359} does not match actual shape of {1,192,144} for output mu_z\u001b[m\n",
      "\u001b[0;93m2024-11-27 11:48:29.112062629 [W:onnxruntime:, execution_frame.cc:870 VerifyOutputSizes] Expected shape from model of {1,192,359} does not match actual shape of {1,192,144} for output z\u001b[m\n",
      "  3%|██▊                                                                                          | 3/101 [00:01<00:43,  2.25it/s]"
     ]
    },
    {
     "name": "stdout",
     "output_type": "stream",
     "text": [
      "dt[s]: 0.2043335889466107\n",
      "RTF: 0.15542460869255592\n",
      "c:[[  0  81   0  83   0  16   0 123   0 156   0  43   0 102   0  48   0  83\n",
      "    0  54   0  16   0  65   0 102   0  81   0 157   0  43   0 135   0  62\n",
      "    0  16   0  81   0  83   0  16   0  61   0  53   0 156   0  57   0 135\n",
      "    0  58   0  16   0  53   0 156   0  76   0  61   0  62   0  16   0 156\n",
      "    0  57   0 135   0  56   0  54   0  51   0  16   0  62   0  65   0 156\n",
      "    0  86   0  54   0  64   0  16   0  46   0 156   0  69   0 158   0  54\n",
      "    0  85   0  68   0   3   0  16   0  61   0 156   0  86   0  64   0  83\n",
      "    0  56   0  62   0  51   0 156   0  47   0 102   0  62   0  16   0  61\n",
      "    0 156   0  86   0  56   0  62   0  61   0   4   0]]\n",
      "c_length:[157]\n"
     ]
    },
    {
     "name": "stderr",
     "output_type": "stream",
     "text": [
      "\u001b[0;93m2024-11-27 11:48:29.314712218 [W:onnxruntime:, execution_frame.cc:870 VerifyOutputSizes] Expected shape from model of {-1,192,169} does not match actual shape of {1,192,157} for output 643\u001b[m\n",
      "\u001b[0;93m2024-11-27 11:48:29.320242285 [W:onnxruntime:, execution_frame.cc:870 VerifyOutputSizes] Expected shape from model of {-1,1,169} does not match actual shape of {1,1,157} for output duration_rounded\u001b[m\n",
      "\u001b[0;93m2024-11-27 11:48:29.320298373 [W:onnxruntime:, execution_frame.cc:870 VerifyOutputSizes] Expected shape from model of {1,359} does not match actual shape of {1,414} for output x_masks\u001b[m\n",
      "\u001b[0;93m2024-11-27 11:48:29.339095800 [W:onnxruntime:, execution_frame.cc:870 VerifyOutputSizes] Expected shape from model of {1,192,359} does not match actual shape of {1,192,414} for output logsig_z\u001b[m\n",
      "\u001b[0;93m2024-11-27 11:48:29.339401480 [W:onnxruntime:, execution_frame.cc:870 VerifyOutputSizes] Expected shape from model of {1,192,359} does not match actual shape of {1,192,414} for output mu_z\u001b[m\n",
      "\u001b[0;93m2024-11-27 11:48:29.340849642 [W:onnxruntime:, execution_frame.cc:870 VerifyOutputSizes] Expected shape from model of {1,192,359} does not match actual shape of {1,192,414} for output z\u001b[m\n",
      "  4%|███▋                                                                                         | 4/101 [00:02<00:48,  2.02it/s]"
     ]
    },
    {
     "name": "stdout",
     "output_type": "stream",
     "text": [
      "dt[s]: 0.5665389788337052\n",
      "RTF: 0.15542460869255592\n",
      "c:[[  0  92   0 156   0 138   0  64   0  85   0  56   0  85   0 123   0  16\n",
      "    0  72   0  56   0  46   0  16   0  55   0 102   0  61   0 156   0  86\n",
      "    0  61   0  16   0  53   0 156   0  69   0 158   0  56   0  72   0  54\n",
      "    0  51   0  16   0  72   0  56   0  46   0  16   0  61   0 156   0  86\n",
      "    0  56   0  83   0 125   0  85   0  16   0 123   0 156   0  72   0  54\n",
      "    0  48   0  16   0  46   0 156   0 138   0  44   0  83   0  54   0  52\n",
      "    0 157   0  63   0 158   0   4   0  16   0  52   0 156   0  69   0 158\n",
      "    0 123   0  44   0  83   0 123   0 157   0  57   0 135   0  16   0  50\n",
      "    0  72   0  46   0  16   0  53   0 156   0 138   0  55   0  16   0  65\n",
      "    0 102   0  81   0  81   0  83   0  16   0  58   0 123   0 156   0  86\n",
      "    0  68   0 102   0  46   0  83   0  56   0  62   0  16   0  48   0 123\n",
      "    0 138   0  55   0  16   0  48   0 156   0  76   0 158   0 123   0  62\n",
      "    0  16   0  65   0 156   0  87   0 158   0 119   0   4   0]]\n",
      "c_length:[231]\n"
     ]
    },
    {
     "name": "stderr",
     "output_type": "stream",
     "text": [
      "\u001b[0;93m2024-11-27 11:48:29.891983190 [W:onnxruntime:, execution_frame.cc:870 VerifyOutputSizes] Expected shape from model of {-1,192,169} does not match actual shape of {1,192,231} for output 643\u001b[m\n",
      "\u001b[0;93m2024-11-27 11:48:29.899728315 [W:onnxruntime:, execution_frame.cc:870 VerifyOutputSizes] Expected shape from model of {-1,1,169} does not match actual shape of {1,1,231} for output duration_rounded\u001b[m\n",
      "\u001b[0;93m2024-11-27 11:48:29.899793056 [W:onnxruntime:, execution_frame.cc:870 VerifyOutputSizes] Expected shape from model of {1,359} does not match actual shape of {1,546} for output x_masks\u001b[m\n",
      "\u001b[0;93m2024-11-27 11:48:29.925891732 [W:onnxruntime:, execution_frame.cc:870 VerifyOutputSizes] Expected shape from model of {1,192,359} does not match actual shape of {1,192,546} for output logsig_z\u001b[m\n",
      "\u001b[0;93m2024-11-27 11:48:29.926022760 [W:onnxruntime:, execution_frame.cc:870 VerifyOutputSizes] Expected shape from model of {1,192,359} does not match actual shape of {1,192,546} for output mu_z\u001b[m\n",
      "\u001b[0;93m2024-11-27 11:48:29.927917319 [W:onnxruntime:, execution_frame.cc:870 VerifyOutputSizes] Expected shape from model of {1,192,359} does not match actual shape of {1,192,546} for output z\u001b[m\n",
      "  5%|████▌                                                                                        | 5/101 [00:02<00:56,  1.69it/s]"
     ]
    },
    {
     "name": "stdout",
     "output_type": "stream",
     "text": [
      "dt[s]: 0.7549632065929472\n",
      "RTF: 0.15542460869255592\n",
      "c:[[  0  81   0  83   0  16   0  48   0 156   0  69   0 158   0  61   0  48\n",
      "    0  47   0 102   0  62   0  61   0  16   0  65   0 157   0 102   0  62\n",
      "    0 131   0  16   0  81   0  83   0  16   0  58   0 123   0 156   0  69\n",
      "    0 158   0  61   0  86   0  61   0  16   0 138   0  64   0  16   0  14\n",
      "    0  44   0 156   0  57   0 135   0  54   0  62   0 102   0 112   0  15\n",
      "    0  16   0 123   0 177   0  55   0 156   0  63   0 158   0  64   0  68\n",
      "    0  16   0  62   0 135   0  16   0  70   0  16   0  54   0 156   0  69\n",
      "    0 158   0 123   0  46   0 147   0  16   0  86   0  53   0  61   0  62\n",
      "    0 156   0  86   0  56   0  62   0  16   0  48   0 123   0 138   0  55\n",
      "    0  16   0  65   0 156   0  43   0 102   0  62   0  16   0  48   0  54\n",
      "    0 156   0  43   0 135   0  85   0   3   0  16   0  92   0 157   0  57\n",
      "    0 135   0  16   0  46   0 177   0 123   0 156   0  86   0  53   0  62\n",
      "    0  54   0  51   0  16   0  62   0  83   0  16   0  81   0  83   0  16\n",
      "    0  55   0 157   0  72   0  56   0  52   0  63   0 158   0  48   0 156\n",
      "    0  72   0  53   0  62   0 131   0  85   0 123   0  16   0 138   0  64\n",
      "    0  16   0  44   0 156   0  57   0 135   0  56   0   3   0]]\n",
      "c_length:[285]\n"
     ]
    },
    {
     "name": "stderr",
     "output_type": "stream",
     "text": [
      "\u001b[0;93m2024-11-27 11:48:30.656061284 [W:onnxruntime:, execution_frame.cc:870 VerifyOutputSizes] Expected shape from model of {-1,192,169} does not match actual shape of {1,192,285} for output 643\u001b[m\n",
      "\u001b[0;93m2024-11-27 11:48:30.664955969 [W:onnxruntime:, execution_frame.cc:870 VerifyOutputSizes] Expected shape from model of {-1,1,169} does not match actual shape of {1,1,285} for output duration_rounded\u001b[m\n",
      "\u001b[0;93m2024-11-27 11:48:30.665021750 [W:onnxruntime:, execution_frame.cc:870 VerifyOutputSizes] Expected shape from model of {1,359} does not match actual shape of {1,690} for output x_masks\u001b[m\n",
      "\u001b[0;93m2024-11-27 11:48:30.697688888 [W:onnxruntime:, execution_frame.cc:870 VerifyOutputSizes] Expected shape from model of {1,192,359} does not match actual shape of {1,192,690} for output logsig_z\u001b[m\n",
      "\u001b[0;93m2024-11-27 11:48:30.697853185 [W:onnxruntime:, execution_frame.cc:870 VerifyOutputSizes] Expected shape from model of {1,192,359} does not match actual shape of {1,192,690} for output mu_z\u001b[m\n",
      "\u001b[0;93m2024-11-27 11:48:30.700206685 [W:onnxruntime:, execution_frame.cc:870 VerifyOutputSizes] Expected shape from model of {1,192,359} does not match actual shape of {1,192,690} for output z\u001b[m\n",
      "  6%|█████▌                                                                                       | 6/101 [00:03<01:10,  1.36it/s]"
     ]
    },
    {
     "name": "stdout",
     "output_type": "stream",
     "text": [
      "dt[s]: 1.0102714477106929\n",
      "RTF: 0.15542460869255592\n",
      "c:[[  0  72   0  56   0  46   0  16   0  65   0 138   0  68   0  16   0  52\n",
      "    0 156   0  63   0 158   0  68   0  46   0  16   0  81   0  86   0 123\n",
      "    0  16   0  65   0 102   0  81   0  16   0  64   0 156   0  86   0 123\n",
      "    0  51   0  16   0  54   0 156   0 102   0 125   0  83   0  54   0  16\n",
      "    0  64   0 157   0  86   0 123   0 102   0 156   0  47   0 102   0 131\n",
      "    0  83   0  56   0  16   0 156   0  76   0 158   0  54   0  16   0 119\n",
      "    0 123   0  63   0 158   0  16   0  81   0  83   0  16   0  61   0 156\n",
      "    0 102   0  53   0  61   0  62   0  51   0 158   0  56   0 119   0  16\n",
      "    0  72   0  56   0  46   0  16   0  61   0 156   0  86   0  64   0  83\n",
      "    0  56   0  62   0 157   0  51   0 158   0  56   0 119   0  16   0  61\n",
      "    0 156   0  86   0  56   0  62   0 131   0  85   0 123   0  51   0  68\n",
      "    0   3   0  16   0  72   0  56   0  46   0  16   0 157   0 102   0  56\n",
      "    0  46   0 156   0  51   0 158   0  46   0  16   0 157   0 102   0  56\n",
      "    0  62   0 135   0  16   0  81   0 102   0  16   0 156   0  47   0 102\n",
      "    0  62   0  51   0 158   0  56   0 119   0   4   0]]\n",
      "c_length:[265]\n"
     ]
    },
    {
     "name": "stderr",
     "output_type": "stream",
     "text": [
      "\u001b[0;93m2024-11-27 11:48:31.676977672 [W:onnxruntime:, execution_frame.cc:870 VerifyOutputSizes] Expected shape from model of {-1,192,169} does not match actual shape of {1,192,265} for output 643\u001b[m\n",
      "\u001b[0;93m2024-11-27 11:48:31.686139706 [W:onnxruntime:, execution_frame.cc:870 VerifyOutputSizes] Expected shape from model of {-1,1,169} does not match actual shape of {1,1,265} for output duration_rounded\u001b[m\n",
      "\u001b[0;93m2024-11-27 11:48:31.686216493 [W:onnxruntime:, execution_frame.cc:870 VerifyOutputSizes] Expected shape from model of {1,359} does not match actual shape of {1,637} for output x_masks\u001b[m\n",
      "\u001b[0;93m2024-11-27 11:48:31.718164028 [W:onnxruntime:, execution_frame.cc:870 VerifyOutputSizes] Expected shape from model of {1,192,359} does not match actual shape of {1,192,637} for output logsig_z\u001b[m\n",
      "\u001b[0;93m2024-11-27 11:48:31.718315355 [W:onnxruntime:, execution_frame.cc:870 VerifyOutputSizes] Expected shape from model of {1,192,359} does not match actual shape of {1,192,637} for output mu_z\u001b[m\n",
      "\u001b[0;93m2024-11-27 11:48:31.720510707 [W:onnxruntime:, execution_frame.cc:870 VerifyOutputSizes] Expected shape from model of {1,192,359} does not match actual shape of {1,192,637} for output z\u001b[m\n",
      "  7%|██████▍                                                                                      | 7/101 [00:04<01:15,  1.25it/s]"
     ]
    },
    {
     "name": "stdout",
     "output_type": "stream",
     "text": [
      "dt[s]: 0.9174598190002143\n",
      "RTF: 0.15542460869255592\n",
      "c:[[  0 157   0 138   0  56   0  46   0  85   0  16   0  81   0 157   0  86\n",
      "    0  55   0  16   0  81   0  83   0  16   0  92   0 156   0 138   0  64\n",
      "    0  85   0  56   0  85   0  16   0  76   0 158   0 123   0  16   0  46\n",
      "    0 147   0 156   0  47   0 102   0  54   0  85   0  16   0  65   0 138\n",
      "    0  68   0  16   0  50   0 156   0  86   0  54   0  46   0  16   0  61\n",
      "    0  62   0 123   0 156   0 102   0  53   0  62   0  54   0  51   0  16\n",
      "    0 123   0 177   0  61   0  58   0 156   0  69   0 158   0  56   0  61\n",
      "    0 177   0  44   0  83   0  54   0   4   0]]\n",
      "c_length:[137]\n"
     ]
    },
    {
     "name": "stderr",
     "output_type": "stream",
     "text": [
      "\u001b[0;93m2024-11-27 11:48:32.594047628 [W:onnxruntime:, execution_frame.cc:870 VerifyOutputSizes] Expected shape from model of {-1,192,169} does not match actual shape of {1,192,137} for output 643\u001b[m\n",
      "\u001b[0;93m2024-11-27 11:48:32.599147055 [W:onnxruntime:, execution_frame.cc:870 VerifyOutputSizes] Expected shape from model of {-1,1,169} does not match actual shape of {1,1,137} for output duration_rounded\u001b[m\n",
      "\u001b[0;93m2024-11-27 11:48:32.599206737 [W:onnxruntime:, execution_frame.cc:870 VerifyOutputSizes] Expected shape from model of {1,359} does not match actual shape of {1,318} for output x_masks\u001b[m\n",
      "\u001b[0;93m2024-11-27 11:48:32.613804401 [W:onnxruntime:, execution_frame.cc:870 VerifyOutputSizes] Expected shape from model of {1,192,359} does not match actual shape of {1,192,318} for output logsig_z\u001b[m\n",
      "\u001b[0;93m2024-11-27 11:48:32.613916961 [W:onnxruntime:, execution_frame.cc:870 VerifyOutputSizes] Expected shape from model of {1,192,359} does not match actual shape of {1,192,318} for output mu_z\u001b[m\n",
      "\u001b[0;93m2024-11-27 11:48:32.615080699 [W:onnxruntime:, execution_frame.cc:870 VerifyOutputSizes] Expected shape from model of {1,192,359} does not match actual shape of {1,192,318} for output z\u001b[m\n",
      "  8%|███████▎                                                                                     | 8/101 [00:05<01:03,  1.46it/s]"
     ]
    },
    {
     "name": "stdout",
     "output_type": "stream",
     "text": [
      "dt[s]: 0.4360816371627152\n",
      "RTF: 0.15542460869255592\n",
      "c:[[  0  81   0  86   0 123   0  16   0 102   0  68   0  16   0  54   0 156\n",
      "    0  43   0 102   0  53   0  65   0  43   0 102   0  68   0  16   0  58\n",
      "    0 156   0  86   0  56   0  46   0 102   0 112   0  16   0  44   0 177\n",
      "    0  48   0 157   0  57   0 158   0 123   0  16   0  81   0  83   0  16\n",
      "    0  53   0 156   0  69   0 158   0 112   0  92   0 123   0  83   0  61\n",
      "    0]]\n",
      "c_length:[91]\n"
     ]
    },
    {
     "name": "stderr",
     "output_type": "stream",
     "text": [
      "\u001b[0;93m2024-11-27 11:48:33.035036003 [W:onnxruntime:, execution_frame.cc:870 VerifyOutputSizes] Expected shape from model of {-1,192,169} does not match actual shape of {1,192,91} for output 643\u001b[m\n",
      "\u001b[0;93m2024-11-27 11:48:33.038877678 [W:onnxruntime:, execution_frame.cc:870 VerifyOutputSizes] Expected shape from model of {-1,1,169} does not match actual shape of {1,1,91} for output duration_rounded\u001b[m\n",
      "\u001b[0;93m2024-11-27 11:48:33.038936221 [W:onnxruntime:, execution_frame.cc:870 VerifyOutputSizes] Expected shape from model of {1,359} does not match actual shape of {1,214} for output x_masks\u001b[m\n",
      "\u001b[0;93m2024-11-27 11:48:33.049189593 [W:onnxruntime:, execution_frame.cc:870 VerifyOutputSizes] Expected shape from model of {1,192,359} does not match actual shape of {1,192,214} for output logsig_z\u001b[m\n",
      "\u001b[0;93m2024-11-27 11:48:33.049270193 [W:onnxruntime:, execution_frame.cc:870 VerifyOutputSizes] Expected shape from model of {1,192,359} does not match actual shape of {1,192,214} for output mu_z\u001b[m\n",
      "\u001b[0;93m2024-11-27 11:48:33.050109081 [W:onnxruntime:, execution_frame.cc:870 VerifyOutputSizes] Expected shape from model of {1,192,359} does not match actual shape of {1,192,214} for output z\u001b[m\n",
      "  9%|████████▎                                                                                    | 9/101 [00:05<00:51,  1.77it/s]"
     ]
    },
    {
     "name": "stdout",
     "output_type": "stream",
     "text": [
      "dt[s]: 0.2958535561338067\n",
      "RTF: 0.15542460869255592\n",
      "c:[[  0  62   0  83   0  16   0  58   0  54   0 156   0  72   0  56   0  16\n",
      "    0  72   0  56   0  46   0  16   0  46   0 102   0  64   0 156   0  86\n",
      "    0  54   0  83   0  58   0  16   0  70   0  16   0  65   0 156   0  87\n",
      "    0 158   0  53   0  83   0  44   0  83   0  54   0  16   0  72   0  56\n",
      "    0  46   0  16   0 102   0  48   0 156   0 102   0 131   0  83   0  56\n",
      "    0  62   0  16   0 156   0  76   0 158   0 125   0  83   0  55   0 157\n",
      "    0  47   0 102   0 125   0 177   0  46   0  16   0  48   0 156   0  43\n",
      "    0 102   0  54   0  16   0  72   0  56   0  46   0  16   0 123   0 177\n",
      "    0  62   0 123   0 156   0  51   0 158   0  64   0  83   0  54   0  16\n",
      "    0  61   0 156   0 102   0  61   0  62   0  83   0  55   0   3   0  16\n",
      "    0 156   0  86   0  56   0  46   0  16   0  53   0  65   0 156   0  57\n",
      "    0 135   0  62   0   4   0]]\n",
      "c_length:[205]\n"
     ]
    },
    {
     "name": "stderr",
     "output_type": "stream",
     "text": [
      "\u001b[0;93m2024-11-27 11:48:33.340978116 [W:onnxruntime:, execution_frame.cc:870 VerifyOutputSizes] Expected shape from model of {-1,192,169} does not match actual shape of {1,192,205} for output 643\u001b[m\n",
      "\u001b[0;93m2024-11-27 11:48:33.348140093 [W:onnxruntime:, execution_frame.cc:870 VerifyOutputSizes] Expected shape from model of {-1,1,169} does not match actual shape of {1,1,205} for output duration_rounded\u001b[m\n",
      "\u001b[0;93m2024-11-27 11:48:33.348199467 [W:onnxruntime:, execution_frame.cc:870 VerifyOutputSizes] Expected shape from model of {1,359} does not match actual shape of {1,496} for output x_masks\u001b[m\n",
      "\u001b[0;93m2024-11-27 11:48:33.370427299 [W:onnxruntime:, execution_frame.cc:870 VerifyOutputSizes] Expected shape from model of {1,192,359} does not match actual shape of {1,192,496} for output logsig_z\u001b[m\n",
      "\u001b[0;93m2024-11-27 11:48:33.370562144 [W:onnxruntime:, execution_frame.cc:870 VerifyOutputSizes] Expected shape from model of {1,192,359} does not match actual shape of {1,192,496} for output mu_z\u001b[m\n",
      "\u001b[0;93m2024-11-27 11:48:33.372291920 [W:onnxruntime:, execution_frame.cc:870 VerifyOutputSizes] Expected shape from model of {1,192,359} does not match actual shape of {1,192,496} for output z\u001b[m\n",
      " 10%|█████████                                                                                   | 10/101 [00:06<00:55,  1.65it/s]"
     ]
    },
    {
     "name": "stdout",
     "output_type": "stream",
     "text": [
      "dt[s]: 0.6873921621590853\n",
      "RTF: 0.15542460869255592\n",
      "c:[[  0  72   0  56   0  46   0  16   0  72   0  62   0  16   0  54   0 156\n",
      "    0  86   0 112   0 119   0  16   0 123   0 156   0  51   0 158   0  62\n",
      "    0 131   0  62   0  16   0  70   0  16   0  58   0 156   0  76   0 102\n",
      "    0  56   0  62   0  16   0 156   0  69   0 158   0  58   0  83   0  68\n",
      "    0 157   0 102   0  62   0  16   0  81   0  83   0  16   0  62   0 156\n",
      "    0  69   0 158   0  58   0  16   0 138   0  64   0  81   0  83   0  16\n",
      "    0  44   0 156   0 102   0  54   0  46   0 102   0 112   0  16   0  53\n",
      "    0  83   0  56   0  62   0 156   0  47   0 102   0  56   0 102   0 112\n",
      "    0  16   0  81   0  83   0  16   0  53   0  83   0  56   0  46   0 156\n",
      "    0  86   0  55   0  46   0  16   0  65   0 156   0  76   0 158   0 123\n",
      "    0  46   0  68   0   4   0  16   0  81   0 102   0  61   0  16   0  50\n",
      "    0  70   0  46   0  44   0 102   0  56   0  16   0  70   0  16   0  58\n",
      "    0 156   0  86   0 123   0 102   0  54   0  83   0  61   0  16   0  72\n",
      "    0  56   0  46   0  16   0  58   0 156   0  47   0 102   0  56   0  48\n",
      "    0  83   0  54   0  16   0  62   0 156   0  72   0  61   0  53   0   1\n",
      "    0]]\n",
      "c_length:[271]\n"
     ]
    },
    {
     "name": "stderr",
     "output_type": "stream",
     "text": [
      "\u001b[0;93m2024-11-27 11:48:34.038480500 [W:onnxruntime:, execution_frame.cc:870 VerifyOutputSizes] Expected shape from model of {-1,192,169} does not match actual shape of {1,192,271} for output 643\u001b[m\n",
      "\u001b[0;93m2024-11-27 11:48:34.047126727 [W:onnxruntime:, execution_frame.cc:870 VerifyOutputSizes] Expected shape from model of {-1,1,169} does not match actual shape of {1,1,271} for output duration_rounded\u001b[m\n",
      "\u001b[0;93m2024-11-27 11:48:34.047192460 [W:onnxruntime:, execution_frame.cc:870 VerifyOutputSizes] Expected shape from model of {1,359} does not match actual shape of {1,671} for output x_masks\u001b[m\n",
      "\u001b[0;93m2024-11-27 11:48:34.078415221 [W:onnxruntime:, execution_frame.cc:870 VerifyOutputSizes] Expected shape from model of {1,192,359} does not match actual shape of {1,192,671} for output logsig_z\u001b[m\n",
      "\u001b[0;93m2024-11-27 11:48:34.078572679 [W:onnxruntime:, execution_frame.cc:870 VerifyOutputSizes] Expected shape from model of {1,192,359} does not match actual shape of {1,192,671} for output mu_z\u001b[m\n",
      "\u001b[0;93m2024-11-27 11:48:34.080863068 [W:onnxruntime:, execution_frame.cc:870 VerifyOutputSizes] Expected shape from model of {1,192,359} does not match actual shape of {1,192,671} for output z\u001b[m\n",
      " 11%|██████████                                                                                  | 11/101 [00:07<01:03,  1.41it/s]"
     ]
    },
    {
     "name": "stdout",
     "output_type": "stream",
     "text": [
      "dt[s]: 0.943093640729785\n",
      "RTF: 0.15542460869255592\n",
      "c:[[  0  56   0 156   0  57   0 135   0 125   0 177   0  48   0 157   0  43\n",
      "    0 102   0  46   0  16   0 138   0  64   0  16   0  65   0 156   0  47\n",
      "    0 102   0  54   0  51   0  68   0  16   0  61   0  62   0 156   0  47\n",
      "    0 102   0  62   0  55   0  83   0  56   0  62   0   3   0  16   0  81\n",
      "    0  83   0  16   0  58   0  83   0  54   0 156   0  51   0 158   0  61\n",
      "    0  16   0  44   0 123   0 156   0  76   0 158   0  62   0  16   0  50\n",
      "    0 157   0 102   0  55   0  16   0  62   0  83   0  16   0  81   0  83\n",
      "    0  16   0  58   0  83   0  54   0 156   0  51   0 158   0  61   0  16\n",
      "    0  61   0  62   0 156   0  47   0 102   0 131   0  83   0  56   0  16\n",
      "    0  81   0  72   0  62   0  16   0 157   0  72   0  48   0  62   0  85\n",
      "    0  56   0 156   0  63   0 158   0  56   0   4   0]]\n",
      "c_length:[193]\n"
     ]
    },
    {
     "name": "stderr",
     "output_type": "stream",
     "text": [
      "\u001b[0;93m2024-11-27 11:48:34.986948781 [W:onnxruntime:, execution_frame.cc:870 VerifyOutputSizes] Expected shape from model of {-1,192,169} does not match actual shape of {1,192,193} for output 643\u001b[m\n",
      "\u001b[0;93m2024-11-27 11:48:34.993676557 [W:onnxruntime:, execution_frame.cc:870 VerifyOutputSizes] Expected shape from model of {-1,1,169} does not match actual shape of {1,1,193} for output duration_rounded\u001b[m\n",
      "\u001b[0;93m2024-11-27 11:48:34.993741178 [W:onnxruntime:, execution_frame.cc:870 VerifyOutputSizes] Expected shape from model of {1,359} does not match actual shape of {1,471} for output x_masks\u001b[m\n",
      "\u001b[0;93m2024-11-27 11:48:35.015495746 [W:onnxruntime:, execution_frame.cc:870 VerifyOutputSizes] Expected shape from model of {1,192,359} does not match actual shape of {1,192,471} for output logsig_z\u001b[m\n",
      "\u001b[0;93m2024-11-27 11:48:35.015630384 [W:onnxruntime:, execution_frame.cc:870 VerifyOutputSizes] Expected shape from model of {1,192,359} does not match actual shape of {1,192,471} for output mu_z\u001b[m\n",
      "\u001b[0;93m2024-11-27 11:48:35.017269661 [W:onnxruntime:, execution_frame.cc:870 VerifyOutputSizes] Expected shape from model of {1,192,359} does not match actual shape of {1,192,471} for output z\u001b[m\n",
      " 12%|██████████▉                                                                                 | 12/101 [00:07<01:02,  1.43it/s]"
     ]
    },
    {
     "name": "stdout",
     "output_type": "stream",
     "text": [
      "dt[s]: 0.6621310347691178\n",
      "RTF: 0.15542460869255592\n",
      "c:[[  0  81   0  83   0  16   0  53   0  83   0  55   0 156   0 102   0 131\n",
      "    0  83   0  56   0  16   0  50   0  83   0  68   0  56   0  69   0 158\n",
      "    0  62   0  16   0 157   0 138   0  56   0  46   0  85   0  62   0 156\n",
      "    0  47   0 102   0  53   0  83   0  56   0  16   0  70   0  16   0  53\n",
      "    0 157   0  69   0 158   0  55   0  58   0 123   0  51   0  50   0 156\n",
      "    0  86   0  56   0  61   0 102   0  64   0  16   0  86   0  92   0  68\n",
      "    0 157   0  72   0  55   0 177   0  56   0 156   0  47   0 102   0 131\n",
      "    0  83   0  56   0  16   0 138   0  64   0  16   0 156   0  76   0 158\n",
      "    0  54   0  16   0  48   0 156   0  72   0  61   0 102   0  62   0  61\n",
      "    0  16   0 138   0  64   0  16   0  81   0 102   0  61   0  16   0  61\n",
      "    0 156   0 138   0  44   0  46   0 147   0  86   0  53   0  62   0   1\n",
      "    0]]\n",
      "c_length:[199]\n"
     ]
    },
    {
     "name": "stderr",
     "output_type": "stream",
     "text": [
      "\u001b[0;93m2024-11-27 11:48:35.658603999 [W:onnxruntime:, execution_frame.cc:870 VerifyOutputSizes] Expected shape from model of {-1,192,169} does not match actual shape of {1,192,199} for output 643\u001b[m\n",
      "\u001b[0;93m2024-11-27 11:48:35.666408042 [W:onnxruntime:, execution_frame.cc:870 VerifyOutputSizes] Expected shape from model of {-1,1,169} does not match actual shape of {1,1,199} for output duration_rounded\u001b[m\n",
      "\u001b[0;93m2024-11-27 11:48:35.666482957 [W:onnxruntime:, execution_frame.cc:870 VerifyOutputSizes] Expected shape from model of {1,359} does not match actual shape of {1,479} for output x_masks\u001b[m\n",
      "\u001b[0;93m2024-11-27 11:48:35.690821002 [W:onnxruntime:, execution_frame.cc:870 VerifyOutputSizes] Expected shape from model of {1,192,359} does not match actual shape of {1,192,479} for output logsig_z\u001b[m\n",
      "\u001b[0;93m2024-11-27 11:48:35.691030070 [W:onnxruntime:, execution_frame.cc:870 VerifyOutputSizes] Expected shape from model of {1,192,359} does not match actual shape of {1,192,479} for output mu_z\u001b[m\n",
      "\u001b[0;93m2024-11-27 11:48:35.692692067 [W:onnxruntime:, execution_frame.cc:870 VerifyOutputSizes] Expected shape from model of {1,192,359} does not match actual shape of {1,192,479} for output z\u001b[m\n",
      " 13%|███████████▊                                                                                | 13/101 [00:08<01:01,  1.44it/s]"
     ]
    },
    {
     "name": "stdout",
     "output_type": "stream",
     "text": [
      "dt[s]: 0.6760508581064641\n",
      "RTF: 0.15542460869255592\n",
      "c:[[  0  81   0  83   0  16   0  53   0  83   0  55   0 156   0 102   0 131\n",
      "    0  83   0  56   0  16   0  44   0 177   0  54   0 156   0  51   0 158\n",
      "    0  64   0  68   0  16   0  81   0  72   0  62   0  81   0  83   0  16\n",
      "    0  54   0  51   0 158   0 156   0  47   0 102   0  68   0  69   0 158\n",
      "    0  56   0  16   0  44   0 177   0  62   0  65   0 157   0  51   0 158\n",
      "    0  56   0  16   0 156   0  76   0 158   0  54   0  16   0  48   0 156\n",
      "    0  86   0  46   0  85   0 123   0  83   0  54   0  16   0 156   0  47\n",
      "    0 102   0  46   0 147   0  83   0  56   0  61   0  51   0  68   0  16\n",
      "    0 123   0 177   0  61   0  58   0 156   0  69   0 158   0  56   0  61\n",
      "    0 177   0  44   0  83   0  54   0  16   0  48   0  76   0 158   0 123\n",
      "    0  16   0  58   0 123   0 157   0  86   0  68   0 102   0  46   0 156\n",
      "    0  86   0  56   0 131   0  83   0  54   0  16   0  58   0 123   0  83\n",
      "    0  62   0 156   0  86   0  53   0 131   0  83   0  56   0  16   0 131\n",
      "    0 157   0 135   0  46   0  16   0  44   0  51   0 158   0  16   0 102\n",
      "    0  55   0  58   0 123   0 156   0  63   0 158   0  64   0  46   0   4\n",
      "    0]]\n",
      "c_length:[271]\n"
     ]
    },
    {
     "name": "stderr",
     "output_type": "stream",
     "text": [
      "\u001b[0;93m2024-11-27 11:48:36.342391081 [W:onnxruntime:, execution_frame.cc:870 VerifyOutputSizes] Expected shape from model of {-1,192,169} does not match actual shape of {1,192,271} for output 643\u001b[m\n",
      "\u001b[0;93m2024-11-27 11:48:36.350718720 [W:onnxruntime:, execution_frame.cc:870 VerifyOutputSizes] Expected shape from model of {-1,1,169} does not match actual shape of {1,1,271} for output duration_rounded\u001b[m\n",
      "\u001b[0;93m2024-11-27 11:48:36.350781772 [W:onnxruntime:, execution_frame.cc:870 VerifyOutputSizes] Expected shape from model of {1,359} does not match actual shape of {1,628} for output x_masks\u001b[m\n",
      "\u001b[0;93m2024-11-27 11:48:36.381072975 [W:onnxruntime:, execution_frame.cc:870 VerifyOutputSizes] Expected shape from model of {1,192,359} does not match actual shape of {1,192,628} for output logsig_z\u001b[m\n",
      "\u001b[0;93m2024-11-27 11:48:36.381219803 [W:onnxruntime:, execution_frame.cc:870 VerifyOutputSizes] Expected shape from model of {1,192,359} does not match actual shape of {1,192,628} for output mu_z\u001b[m\n",
      "\u001b[0;93m2024-11-27 11:48:36.383373572 [W:onnxruntime:, execution_frame.cc:870 VerifyOutputSizes] Expected shape from model of {1,192,359} does not match actual shape of {1,192,628} for output z\u001b[m\n",
      " 14%|████████████▊                                                                               | 14/101 [00:09<01:05,  1.33it/s]"
     ]
    },
    {
     "name": "stdout",
     "output_type": "stream",
     "text": [
      "dt[s]: 0.8819220587611198\n",
      "RTF: 0.15542460869255592\n",
      "c:[[  0  70   0  53   0 156   0  57   0 158   0 123   0  46   0 102   0 112\n",
      "    0  16   0  62   0  83   0  16   0  61   0 156   0  86   0  53   0 123\n",
      "    0  83   0  62   0 123   0  51   0  16   0  46   0 156   0 102   0  54\n",
      "    0  83   0  56   0   3   0]]\n",
      "c_length:[61]\n"
     ]
    },
    {
     "name": "stderr",
     "output_type": "stream",
     "text": [
      "\u001b[0;93m2024-11-27 11:48:37.223201142 [W:onnxruntime:, execution_frame.cc:870 VerifyOutputSizes] Expected shape from model of {-1,192,169} does not match actual shape of {1,192,61} for output 643\u001b[m\n",
      "\u001b[0;93m2024-11-27 11:48:37.226319573 [W:onnxruntime:, execution_frame.cc:870 VerifyOutputSizes] Expected shape from model of {-1,1,169} does not match actual shape of {1,1,61} for output duration_rounded\u001b[m\n",
      "\u001b[0;93m2024-11-27 11:48:37.226379544 [W:onnxruntime:, execution_frame.cc:870 VerifyOutputSizes] Expected shape from model of {1,359} does not match actual shape of {1,157} for output x_masks\u001b[m\n",
      "\u001b[0;93m2024-11-27 11:48:37.234173062 [W:onnxruntime:, execution_frame.cc:870 VerifyOutputSizes] Expected shape from model of {1,192,359} does not match actual shape of {1,192,157} for output logsig_z\u001b[m\n",
      "\u001b[0;93m2024-11-27 11:48:37.234223188 [W:onnxruntime:, execution_frame.cc:870 VerifyOutputSizes] Expected shape from model of {1,192,359} does not match actual shape of {1,192,157} for output mu_z\u001b[m\n",
      "\u001b[0;93m2024-11-27 11:48:37.234877605 [W:onnxruntime:, execution_frame.cc:870 VerifyOutputSizes] Expected shape from model of {1,192,359} does not match actual shape of {1,192,157} for output z\u001b[m\n",
      " 15%|█████████████▋                                                                              | 15/101 [00:09<00:51,  1.68it/s]"
     ]
    },
    {
     "name": "stdout",
     "output_type": "stream",
     "text": [
      "dt[s]: 0.2219693479128182\n",
      "RTF: 0.15542460869255592\n",
      "c:[[  0  62   0  83   0  16   0  55   0 157   0  47   0 102   0  53   0  16\n",
      "    0  61   0 156   0  87   0 158   0 148   0  56   0 175   0  16   0  81\n",
      "    0  72   0  62   0  16   0 156   0  76   0 158   0  54   0  16   0  58\n",
      "    0 123   0  83   0  62   0 156   0  86   0  53   0  62   0 102   0  64\n",
      "    0  16   0 102   0  56   0  62   0 156   0  86   0  54   0 102   0  46\n",
      "    0 147   0  83   0  56   0  61   0  16   0  72   0  53   0  62   0 156\n",
      "    0 102   0  64   0 177   0 125   0  51   0  68   0  16   0  69   0 158\n",
      "    0 123   0  16   0  53   0  57   0 135   0 156   0  76   0 158   0 123\n",
      "    0  46   0 102   0  56   0 157   0  47   0 102   0 125   0 177   0  46\n",
      "    0   4   0]]\n",
      "c_length:[165]\n"
     ]
    },
    {
     "name": "stderr",
     "output_type": "stream",
     "text": [
      "\u001b[0;93m2024-11-27 11:48:37.455649911 [W:onnxruntime:, execution_frame.cc:870 VerifyOutputSizes] Expected shape from model of {-1,192,169} does not match actual shape of {1,192,165} for output 643\u001b[m\n",
      "\u001b[0;93m2024-11-27 11:48:37.461440725 [W:onnxruntime:, execution_frame.cc:870 VerifyOutputSizes] Expected shape from model of {-1,1,169} does not match actual shape of {1,1,165} for output duration_rounded\u001b[m\n",
      "\u001b[0;93m2024-11-27 11:48:37.461501759 [W:onnxruntime:, execution_frame.cc:870 VerifyOutputSizes] Expected shape from model of {1,359} does not match actual shape of {1,383} for output x_masks\u001b[m\n",
      "\u001b[0;93m2024-11-27 11:48:37.478912035 [W:onnxruntime:, execution_frame.cc:870 VerifyOutputSizes] Expected shape from model of {1,192,359} does not match actual shape of {1,192,383} for output logsig_z\u001b[m\n",
      "\u001b[0;93m2024-11-27 11:48:37.479058577 [W:onnxruntime:, execution_frame.cc:870 VerifyOutputSizes] Expected shape from model of {1,192,359} does not match actual shape of {1,192,383} for output mu_z\u001b[m\n",
      "\u001b[0;93m2024-11-27 11:48:37.480421665 [W:onnxruntime:, execution_frame.cc:870 VerifyOutputSizes] Expected shape from model of {1,192,359} does not match actual shape of {1,192,383} for output z\u001b[m\n",
      " 16%|██████████████▌                                                                             | 16/101 [00:10<00:49,  1.73it/s]"
     ]
    },
    {
     "name": "stdout",
     "output_type": "stream",
     "text": [
      "dt[s]: 0.5276139387860894\n",
      "RTF: 0.15542460869255592\n",
      "c:[[  0 102   0  56   0  16   0  56   0 156   0  43   0 102   0  56   0  62\n",
      "    0  51   0 158   0  56   0  16   0 138   0  64   0  16   0  62   0  65\n",
      "    0 156   0  86   0  56   0  62   0  51   0 119   0 123   0 156   0  51\n",
      "    0 158   0  16   0  53   0 156   0  72   0 125   0 102   0  92   0  85\n",
      "    0 123   0  51   0  68   0  16   0 102   0 112   0  53   0  54   0 156\n",
      "    0  63   0 158   0  46   0 177   0  46   0  16   0  76   0  56   0  81\n",
      "    0  83   0  16   0  46   0 147   0 156   0  86   0  56   0  85   0 123\n",
      "    0  83   0  54   0  16   0 156   0  72   0  58   0  62   0 102   0  62\n",
      "    0 157   0  63   0 158   0  46   0  16   0  86   0  92   0  68   0 157\n",
      "    0  72   0  55   0 177   0  56   0 156   0  47   0 102   0 131   0  83\n",
      "    0  56   0  16   0  72   0  56   0  46   0  16   0  61   0  53   0 156\n",
      "    0  57   0 158   0 123   0  46   0  16   0  65   0 156   0 138   0  56\n",
      "    0  16   0  50   0 156   0 138   0  56   0  46   0 123   0 102   0  46\n",
      "    0  16   0  62   0  65   0 156   0  86   0  56   0  62   0  51   0  61\n",
      "    0 156   0  86   0  64   0  83   0  56   0  16   0  76   0  56   0  81\n",
      "    0  83   0  16   0  64   0 156   0  87   0 158   0  44   0  83   0  54\n",
      "    0  16   0  62   0 156   0  86   0  61   0  62   0   3   0  16   0  72\n",
      "    0  68   0  16   0  53   0  83   0  55   0  58   0 156   0  86   0 123\n",
      "    0  46   0]]\n",
      "c_length:[327]\n"
     ]
    },
    {
     "name": "stderr",
     "output_type": "stream",
     "text": [
      "\u001b[0;93m2024-11-27 11:48:37.996815508 [W:onnxruntime:, execution_frame.cc:870 VerifyOutputSizes] Expected shape from model of {-1,192,169} does not match actual shape of {1,192,327} for output 643\u001b[m\n",
      "\u001b[0;93m2024-11-27 11:48:38.006916187 [W:onnxruntime:, execution_frame.cc:870 VerifyOutputSizes] Expected shape from model of {-1,1,169} does not match actual shape of {1,1,327} for output duration_rounded\u001b[m\n",
      "\u001b[0;93m2024-11-27 11:48:38.006982044 [W:onnxruntime:, execution_frame.cc:870 VerifyOutputSizes] Expected shape from model of {1,359} does not match actual shape of {1,786} for output x_masks\u001b[m\n",
      "\u001b[0;93m2024-11-27 11:48:38.044076982 [W:onnxruntime:, execution_frame.cc:870 VerifyOutputSizes] Expected shape from model of {1,192,359} does not match actual shape of {1,192,786} for output logsig_z\u001b[m\n",
      "\u001b[0;93m2024-11-27 11:48:38.044261475 [W:onnxruntime:, execution_frame.cc:870 VerifyOutputSizes] Expected shape from model of {1,192,359} does not match actual shape of {1,192,786} for output mu_z\u001b[m\n",
      "\u001b[0;93m2024-11-27 11:48:38.046920919 [W:onnxruntime:, execution_frame.cc:870 VerifyOutputSizes] Expected shape from model of {1,192,359} does not match actual shape of {1,192,786} for output z\u001b[m\n",
      " 17%|███████████████▍                                                                            | 17/101 [00:11<01:02,  1.34it/s]"
     ]
    },
    {
     "name": "stdout",
     "output_type": "stream",
     "text": [
      "dt[s]: 1.113054416142404\n",
      "RTF: 0.15542460869255592\n",
      "c:[[  0  76   0 158   0  54   0  81   0 156   0  57   0 135   0  16   0  62\n",
      "    0 131   0 156   0  51   0 158   0  48   0  16   0 123   0 156   0  57\n",
      "    0 135   0  54   0  51   0  16   0  46   0 138   0  68   0  56   0 157\n",
      "    0  69   0 158   0  62   0  16   0  53   0  83   0  55   0  58   0  54\n",
      "    0 156   0  47   0 102   0  56   0  16   0  70   0  44   0 157   0  43\n",
      "    0 135   0  62   0  16   0  81   0  83   0  16   0  58   0 156   0  47\n",
      "    0 102   0  16   0  61   0  53   0 156   0  47   0 102   0  54   0  16\n",
      "    0  48   0  76   0 158   0 123   0  16   0  61   0 156   0  51   0 158\n",
      "    0  53   0 123   0 177   0  62   0  16   0  61   0 156   0  87   0 158\n",
      "    0  64   0 102   0  61   0  16   0 156   0  47   0 102   0  46   0 147\n",
      "    0  83   0  56   0  62   0  61   0   3   0]]\n",
      "c_length:[191]\n"
     ]
    },
    {
     "name": "stderr",
     "output_type": "stream",
     "text": [
      "\u001b[0;93m2024-11-27 11:48:39.127066179 [W:onnxruntime:, execution_frame.cc:870 VerifyOutputSizes] Expected shape from model of {-1,192,169} does not match actual shape of {1,192,191} for output 643\u001b[m\n",
      "\u001b[0;93m2024-11-27 11:48:39.133632845 [W:onnxruntime:, execution_frame.cc:870 VerifyOutputSizes] Expected shape from model of {-1,1,169} does not match actual shape of {1,1,191} for output duration_rounded\u001b[m\n",
      "\u001b[0;93m2024-11-27 11:48:39.133692664 [W:onnxruntime:, execution_frame.cc:870 VerifyOutputSizes] Expected shape from model of {1,359} does not match actual shape of {1,446} for output x_masks\u001b[m\n",
      "\u001b[0;93m2024-11-27 11:48:39.154026368 [W:onnxruntime:, execution_frame.cc:870 VerifyOutputSizes] Expected shape from model of {1,192,359} does not match actual shape of {1,192,446} for output logsig_z\u001b[m\n",
      "\u001b[0;93m2024-11-27 11:48:39.154154636 [W:onnxruntime:, execution_frame.cc:870 VerifyOutputSizes] Expected shape from model of {1,192,359} does not match actual shape of {1,192,446} for output mu_z\u001b[m\n",
      "\u001b[0;93m2024-11-27 11:48:39.155721055 [W:onnxruntime:, execution_frame.cc:870 VerifyOutputSizes] Expected shape from model of {1,192,359} does not match actual shape of {1,192,446} for output z\u001b[m\n",
      " 18%|████████████████▍                                                                           | 18/101 [00:12<00:58,  1.41it/s]"
     ]
    },
    {
     "name": "stdout",
     "output_type": "stream",
     "text": [
      "dt[s]: 0.6102216648869216\n",
      "RTF: 0.15542460869255592\n",
      "c:[[  0  50   0  51   0 158   0  16   0  65   0 156   0  87   0 158   0  53\n",
      "    0  62   0  16   0  58   0 123   0 156   0 102   0  56   0  61   0 102\n",
      "    0  58   0  83   0  54   0  51   0  16   0  76   0  56   0  81   0  83\n",
      "    0  16   0  48   0 156   0  87   0 158   0  61   0  62   0  16   0  72\n",
      "    0  56   0  46   0  16   0  61   0 156   0 102   0  53   0  61   0 119\n",
      "    0  16   0  48   0  54   0 156   0  57   0 158   0 123   0  68   0  16\n",
      "    0 138   0  64   0  81   0  83   0  16   0  44   0 156   0 102   0  54\n",
      "    0  46   0 102   0 112   0   3   0  16   0  92   0 156   0  72   0  81\n",
      "    0  85   0 123   0 102   0 112   0  16   0  44   0 156   0 135   0  53\n",
      "    0  61   0  16   0  54   0 156   0 102   0  61   0  62   0 177   0  46\n",
      "    0  16   0 157   0  76   0  56   0  16   0 156   0  76   0 158   0 123\n",
      "    0  46   0  85   0  68   0  16   0  72   0  56   0  46   0  16   0  46\n",
      "    0 177   0  54   0 156   0 102   0  64   0  85   0 123   0 102   0 112\n",
      "    0  16   0  81   0 157   0  86   0  55   0  16   0  62   0  83   0  16\n",
      "    0  81   0  83   0  16   0 131   0 156   0 102   0  58   0 102   0 112\n",
      "    0  16   0 123   0 156   0  63   0 158   0  55   0  16   0  76   0  56\n",
      "    0  81   0  83   0  16   0  48   0 156   0  87   0 158   0  61   0  62\n",
      "    0  16   0  48   0  54   0 156   0  57   0 158   0 123   0   4   0]]\n",
      "c_length:[323]\n"
     ]
    },
    {
     "name": "stderr",
     "output_type": "stream",
     "text": [
      "\u001b[0;93m2024-11-27 11:48:39.762313438 [W:onnxruntime:, execution_frame.cc:870 VerifyOutputSizes] Expected shape from model of {-1,192,169} does not match actual shape of {1,192,323} for output 643\u001b[m\n",
      "\u001b[0;93m2024-11-27 11:48:39.772311562 [W:onnxruntime:, execution_frame.cc:870 VerifyOutputSizes] Expected shape from model of {-1,1,169} does not match actual shape of {1,1,323} for output duration_rounded\u001b[m\n",
      "\u001b[0;93m2024-11-27 11:48:39.772377775 [W:onnxruntime:, execution_frame.cc:870 VerifyOutputSizes] Expected shape from model of {1,359} does not match actual shape of {1,796} for output x_masks\u001b[m\n",
      "\u001b[0;93m2024-11-27 11:48:39.809117880 [W:onnxruntime:, execution_frame.cc:870 VerifyOutputSizes] Expected shape from model of {1,192,359} does not match actual shape of {1,192,796} for output logsig_z\u001b[m\n",
      "\u001b[0;93m2024-11-27 11:48:39.809297800 [W:onnxruntime:, execution_frame.cc:870 VerifyOutputSizes] Expected shape from model of {1,192,359} does not match actual shape of {1,192,796} for output mu_z\u001b[m\n",
      "\u001b[0;93m2024-11-27 11:48:39.811995301 [W:onnxruntime:, execution_frame.cc:870 VerifyOutputSizes] Expected shape from model of {1,192,359} does not match actual shape of {1,192,796} for output z\u001b[m\n",
      " 19%|█████████████████▎                                                                          | 19/101 [00:13<01:09,  1.18it/s]"
     ]
    },
    {
     "name": "stdout",
     "output_type": "stream",
     "text": [
      "dt[s]: 1.1493457723408937\n",
      "RTF: 0.15542460869255592\n",
      "c:[[  0  61   0  58   0 156   0  86   0 131   0  83   0  54   0  16   0 156\n",
      "    0  47   0 102   0  46   0 147   0  83   0  56   0  62   0  16   0  54\n",
      "    0 156   0  76   0 158   0  61   0  83   0  56   0  16   0  55   0 157\n",
      "    0  47   0 102   0  46   0  16   0  61   0 156   0  87   0 158   0 148\n",
      "    0  56   0 175   0  16   0  81   0  72   0  62   0  81   0  83   0  16\n",
      "    0  46   0 156   0  72   0  54   0  83   0  61   0  16   0  58   0  83\n",
      "    0  54   0 156   0  51   0 158   0  61   0  16   0  53   0 156   0  86\n",
      "    0  58   0  62   0  16   0  81   0  83   0  16   0  58   0 156   0 138\n",
      "    0  44   0  54   0 102   0  53   0  16   0  72   0  56   0  46   0  16\n",
      "    0  58   0 123   0 156   0  86   0  61   0  16   0  70   0  65   0 156\n",
      "    0  47   0 102   0  16   0  48   0 123   0 138   0  55   0  81   0 102\n",
      "    0  16   0 102   0  55   0 156   0  51   0 158   0  46   0 102   0  83\n",
      "    0  62   0  16   0 156   0  86   0 123   0  51   0  83   0  16   0 138\n",
      "    0  64   0  81   0  83   0  16   0  50   0 156   0  69   0 158   0  61\n",
      "    0  58   0 102   0 125   0  83   0  54   0   4   0]]\n",
      "c_length:[265]\n"
     ]
    },
    {
     "name": "stderr",
     "output_type": "stream",
     "text": [
      "\u001b[0;93m2024-11-27 11:48:40.930909254 [W:onnxruntime:, execution_frame.cc:870 VerifyOutputSizes] Expected shape from model of {-1,192,169} does not match actual shape of {1,192,265} for output 643\u001b[m\n",
      "\u001b[0;93m2024-11-27 11:48:40.939822781 [W:onnxruntime:, execution_frame.cc:870 VerifyOutputSizes] Expected shape from model of {-1,1,169} does not match actual shape of {1,1,265} for output duration_rounded\u001b[m\n",
      "\u001b[0;93m2024-11-27 11:48:40.939890372 [W:onnxruntime:, execution_frame.cc:870 VerifyOutputSizes] Expected shape from model of {1,359} does not match actual shape of {1,618} for output x_masks\u001b[m\n",
      "\u001b[0;93m2024-11-27 11:48:40.971088669 [W:onnxruntime:, execution_frame.cc:870 VerifyOutputSizes] Expected shape from model of {1,192,359} does not match actual shape of {1,192,618} for output logsig_z\u001b[m\n",
      "\u001b[0;93m2024-11-27 11:48:40.971232002 [W:onnxruntime:, execution_frame.cc:870 VerifyOutputSizes] Expected shape from model of {1,192,359} does not match actual shape of {1,192,618} for output mu_z\u001b[m\n",
      "\u001b[0;93m2024-11-27 11:48:40.973345869 [W:onnxruntime:, execution_frame.cc:870 VerifyOutputSizes] Expected shape from model of {1,192,359} does not match actual shape of {1,192,618} for output z\u001b[m\n",
      " 20%|██████████████████▏                                                                         | 20/101 [00:14<01:09,  1.17it/s]"
     ]
    },
    {
     "name": "stdout",
     "output_type": "stream",
     "text": [
      "dt[s]: 0.8738256460055709\n",
      "RTF: 0.15542460869255592\n",
      "c:[[  0  62   0  83   0  16   0  55   0 157   0  47   0 102   0  53   0  16\n",
      "    0 102   0  62   0  16   0  44   0 156   0  69   0 158   0  55   0  58\n",
      "    0 123   0 156   0  63   0 158   0  48   0  16   0  70   0  92   0 156\n",
      "    0  86   0  56   0  61   0  62   0  16   0  81   0  83   0  16   0  53\n",
      "    0 156   0  76   0 158   0  68   0 177   0  68   0  16   0 138   0  64\n",
      "    0  16   0  56   0 156   0  43   0 102   0  56   0  62   0  51   0 158\n",
      "    0  56   0  16   0  62   0  65   0 156   0  86   0  56   0  62   0  51\n",
      "    0  56   0 156   0  43   0 102   0  56   0   4   0]]\n",
      "c_length:[139]\n"
     ]
    },
    {
     "name": "stderr",
     "output_type": "stream",
     "text": [
      "\u001b[0;93m2024-11-27 11:48:41.804553745 [W:onnxruntime:, execution_frame.cc:870 VerifyOutputSizes] Expected shape from model of {-1,192,169} does not match actual shape of {1,192,139} for output 643\u001b[m\n",
      "\u001b[0;93m2024-11-27 11:48:41.809693781 [W:onnxruntime:, execution_frame.cc:870 VerifyOutputSizes] Expected shape from model of {-1,1,169} does not match actual shape of {1,1,139} for output duration_rounded\u001b[m\n",
      "\u001b[0;93m2024-11-27 11:48:41.809753785 [W:onnxruntime:, execution_frame.cc:870 VerifyOutputSizes] Expected shape from model of {1,359} does not match actual shape of {1,328} for output x_masks\u001b[m\n",
      "\u001b[0;93m2024-11-27 11:48:41.824893946 [W:onnxruntime:, execution_frame.cc:870 VerifyOutputSizes] Expected shape from model of {1,192,359} does not match actual shape of {1,192,328} for output logsig_z\u001b[m\n",
      "\u001b[0;93m2024-11-27 11:48:41.825131169 [W:onnxruntime:, execution_frame.cc:870 VerifyOutputSizes] Expected shape from model of {1,192,359} does not match actual shape of {1,192,328} for output mu_z\u001b[m\n",
      "\u001b[0;93m2024-11-27 11:48:41.826302035 [W:onnxruntime:, execution_frame.cc:870 VerifyOutputSizes] Expected shape from model of {1,192,359} does not match actual shape of {1,192,328} for output z\u001b[m\n",
      " 21%|███████████████████▏                                                                        | 21/101 [00:14<00:59,  1.35it/s]"
     ]
    },
    {
     "name": "stdout",
     "output_type": "stream",
     "text": [
      "dt[s]: 0.45263182604685426\n",
      "RTF: 0.15542460869255592\n",
      "c:[[  0  65   0 157   0  43   0 102   0  54   0  16   0  50   0 156   0  69\n",
      "    0 158   0 123   0  46   0  65   0 102   0  53   0  16   0  72   0  56\n",
      "    0  46   0  16   0 156   0  72   0  62   0  65   0  86   0  54   0  16\n",
      "    0  65   0  87   0 158   0 123   0  16   0 102   0  56   0  16   0  56\n",
      "    0 156   0  63   0 158   0  92   0  47   0 102   0  62   0  16   0  70\n",
      "    0  65   0 156   0  47   0 102   0 125   0 102   0 112   0  16   0  62\n",
      "    0 123   0 156   0  43   0 102   0  83   0  54   0   3   0  16   0 156\n",
      "    0  72   0  53   0  62   0 102   0  64   0  16   0  61   0 156   0  87\n",
      "    0 158   0  62   0 131   0  16   0  65   0 138   0  68   0  16   0  55\n",
      "    0 157   0  47   0 102   0  46   0  16   0  48   0  76   0 158   0 123\n",
      "    0  16   0  61   0 156   0  72   0  65   0  85   0  46   0   3   0]]\n",
      "c_length:[197]\n"
     ]
    },
    {
     "name": "stderr",
     "output_type": "stream",
     "text": [
      "\u001b[0;93m2024-11-27 11:48:42.266256997 [W:onnxruntime:, execution_frame.cc:870 VerifyOutputSizes] Expected shape from model of {-1,192,169} does not match actual shape of {1,192,197} for output 643\u001b[m\n",
      "\u001b[0;93m2024-11-27 11:48:42.273143021 [W:onnxruntime:, execution_frame.cc:870 VerifyOutputSizes] Expected shape from model of {-1,1,169} does not match actual shape of {1,1,197} for output duration_rounded\u001b[m\n",
      "\u001b[0;93m2024-11-27 11:48:42.273203865 [W:onnxruntime:, execution_frame.cc:870 VerifyOutputSizes] Expected shape from model of {1,359} does not match actual shape of {1,504} for output x_masks\u001b[m\n",
      "\u001b[0;93m2024-11-27 11:48:42.296575711 [W:onnxruntime:, execution_frame.cc:870 VerifyOutputSizes] Expected shape from model of {1,192,359} does not match actual shape of {1,192,504} for output logsig_z\u001b[m\n",
      "\u001b[0;93m2024-11-27 11:48:42.296792300 [W:onnxruntime:, execution_frame.cc:870 VerifyOutputSizes] Expected shape from model of {1,192,359} does not match actual shape of {1,192,504} for output mu_z\u001b[m\n",
      "\u001b[0;93m2024-11-27 11:48:42.298535491 [W:onnxruntime:, execution_frame.cc:870 VerifyOutputSizes] Expected shape from model of {1,192,359} does not match actual shape of {1,192,504} for output z\u001b[m\n",
      " 22%|████████████████████                                                                        | 22/101 [00:15<00:57,  1.37it/s]"
     ]
    },
    {
     "name": "stdout",
     "output_type": "stream",
     "text": [
      "dt[s]: 0.694873187225312\n",
      "RTF: 0.15542460869255592\n",
      "c:[[  0  53   0  54   0 156   0  57   0 135   0  61   0  54   0  51   0  16\n",
      "    0 156   0  72   0  54   0  43   0 102   0  46   0  16   0  62   0  83\n",
      "    0  16   0  81   0 102   0  16   0 156   0  86   0  56   0   4   0 156\n",
      "    0  69   0 158   0 123   0   4   0 156   0  47   0 102   0   4   0]]\n",
      "c_length:[71]\n"
     ]
    },
    {
     "name": "stderr",
     "output_type": "stream",
     "text": [
      "\u001b[0;93m2024-11-27 11:48:42.963085611 [W:onnxruntime:, execution_frame.cc:870 VerifyOutputSizes] Expected shape from model of {-1,192,169} does not match actual shape of {1,192,71} for output 643\u001b[m\n",
      "\u001b[0;93m2024-11-27 11:48:42.966480133 [W:onnxruntime:, execution_frame.cc:870 VerifyOutputSizes] Expected shape from model of {-1,1,169} does not match actual shape of {1,1,71} for output duration_rounded\u001b[m\n",
      "\u001b[0;93m2024-11-27 11:48:42.966540051 [W:onnxruntime:, execution_frame.cc:870 VerifyOutputSizes] Expected shape from model of {1,359} does not match actual shape of {1,185} for output x_masks\u001b[m\n",
      "\u001b[0;93m2024-11-27 11:48:42.975699085 [W:onnxruntime:, execution_frame.cc:870 VerifyOutputSizes] Expected shape from model of {1,192,359} does not match actual shape of {1,192,185} for output logsig_z\u001b[m\n",
      "\u001b[0;93m2024-11-27 11:48:42.975752924 [W:onnxruntime:, execution_frame.cc:870 VerifyOutputSizes] Expected shape from model of {1,192,359} does not match actual shape of {1,192,185} for output mu_z\u001b[m\n",
      "\u001b[0;93m2024-11-27 11:48:42.976507205 [W:onnxruntime:, execution_frame.cc:870 VerifyOutputSizes] Expected shape from model of {1,192,359} does not match actual shape of {1,192,185} for output z\u001b[m\n",
      " 23%|████████████████████▉                                                                       | 23/101 [00:15<00:45,  1.70it/s]"
     ]
    },
    {
     "name": "stdout",
     "output_type": "stream",
     "text": [
      "dt[s]: 0.25606855005025864\n",
      "RTF: 0.15542460869255592\n",
      "c:[[  0  61   0 156   0  63   0 158   0  56   0  16   0 156   0  72   0  48\n",
      "    0  62   0  85   0  65   0  85   0  46   0  68   0  16   0  50   0 156\n",
      "    0  69   0 158   0  53   0  85   0  16   0  50   0 156   0  87   0 158\n",
      "    0  46   0  16   0  53   0 123   0 156   0  43   0 102   0  68   0  16\n",
      "    0 138   0  64   0  16   0  11   0  55   0 156   0  87   0 158   0  46\n",
      "    0  85   0   3   0  11   0]]\n",
      "c_length:[97]\n"
     ]
    },
    {
     "name": "stderr",
     "output_type": "stream",
     "text": [
      "\u001b[0;93m2024-11-27 11:48:43.226138291 [W:onnxruntime:, execution_frame.cc:870 VerifyOutputSizes] Expected shape from model of {-1,192,169} does not match actual shape of {1,192,97} for output 643\u001b[m\n",
      "\u001b[0;93m2024-11-27 11:48:43.230192281 [W:onnxruntime:, execution_frame.cc:870 VerifyOutputSizes] Expected shape from model of {-1,1,169} does not match actual shape of {1,1,97} for output duration_rounded\u001b[m\n",
      "\u001b[0;93m2024-11-27 11:48:43.230251608 [W:onnxruntime:, execution_frame.cc:870 VerifyOutputSizes] Expected shape from model of {1,359} does not match actual shape of {1,266} for output x_masks\u001b[m\n",
      "\u001b[0;93m2024-11-27 11:48:43.242675778 [W:onnxruntime:, execution_frame.cc:870 VerifyOutputSizes] Expected shape from model of {1,192,359} does not match actual shape of {1,192,266} for output logsig_z\u001b[m\n",
      "\u001b[0;93m2024-11-27 11:48:43.242761751 [W:onnxruntime:, execution_frame.cc:870 VerifyOutputSizes] Expected shape from model of {1,192,359} does not match actual shape of {1,192,266} for output mu_z\u001b[m\n",
      "\u001b[0;93m2024-11-27 11:48:43.243765723 [W:onnxruntime:, execution_frame.cc:870 VerifyOutputSizes] Expected shape from model of {1,192,359} does not match actual shape of {1,192,266} for output z\u001b[m\n",
      " 24%|█████████████████████▊                                                                      | 24/101 [00:15<00:40,  1.92it/s]"
     ]
    },
    {
     "name": "stdout",
     "output_type": "stream",
     "text": [
      "dt[s]: 0.36167078418657184\n",
      "RTF: 0.15542460869255592\n",
      "c:[[  0  70   0  56   0 156   0 138   0  81   0  85   0  16   0  46   0 147\n",
      "    0 156   0  47   0 102   0  54   0   3   0  16   0  81   0  72   0  62\n",
      "    0  16   0 138   0  64   0  16   0 156   0 102   0  54   0  62   0 131\n",
      "    0  86   0  61   0  62   0  85   0   3   0  16   0  65   0 138   0  68\n",
      "    0  16   0 156   0  76   0 158   0  54   0  61   0  57   0 135   0  16\n",
      "    0  65   0 156   0  87   0 158   0  81   0  51   0  16   0 138   0  64\n",
      "    0  16   0 156   0  76   0 158   0  54   0  16   0  53   0 157   0  69\n",
      "    0 158   0  55   0  83   0  56   0  46   0 156   0  47   0 102   0 131\n",
      "    0  83   0  56   0   4   0  16   0 102   0 125   0  16   0  86   0  92\n",
      "    0  68   0 156   0 102   0  44   0 102   0 125   0 177   0  46   0  16\n",
      "    0 156   0  76   0 158   0  54   0  16   0  81   0  83   0  16   0  92\n",
      "    0 156   0 135   0  46   0  16   0  58   0 156   0  76   0 102   0  56\n",
      "    0  62   0  61   0  16   0 138   0  64   0  16   0  81   0  72   0  62\n",
      "    0  16   0  72   0  62   0  16   0  44   0 156   0  86   0 123   0  51\n",
      "    0   4   0]]\n",
      "c_length:[255]\n"
     ]
    },
    {
     "name": "stderr",
     "output_type": "stream",
     "text": [
      "\u001b[0;93m2024-11-27 11:48:43.599652789 [W:onnxruntime:, execution_frame.cc:870 VerifyOutputSizes] Expected shape from model of {-1,192,169} does not match actual shape of {1,192,255} for output 643\u001b[m\n",
      "\u001b[0;93m2024-11-27 11:48:43.607898184 [W:onnxruntime:, execution_frame.cc:870 VerifyOutputSizes] Expected shape from model of {-1,1,169} does not match actual shape of {1,1,255} for output duration_rounded\u001b[m\n",
      "\u001b[0;93m2024-11-27 11:48:43.607961078 [W:onnxruntime:, execution_frame.cc:870 VerifyOutputSizes] Expected shape from model of {1,359} does not match actual shape of {1,651} for output x_masks\u001b[m\n",
      "\u001b[0;93m2024-11-27 11:48:43.638562993 [W:onnxruntime:, execution_frame.cc:870 VerifyOutputSizes] Expected shape from model of {1,192,359} does not match actual shape of {1,192,651} for output logsig_z\u001b[m\n",
      "\u001b[0;93m2024-11-27 11:48:43.638717035 [W:onnxruntime:, execution_frame.cc:870 VerifyOutputSizes] Expected shape from model of {1,192,359} does not match actual shape of {1,192,651} for output mu_z\u001b[m\n",
      "\u001b[0;93m2024-11-27 11:48:43.640953751 [W:onnxruntime:, execution_frame.cc:870 VerifyOutputSizes] Expected shape from model of {1,192,359} does not match actual shape of {1,192,651} for output z\u001b[m\n",
      " 25%|██████████████████████▊                                                                     | 25/101 [00:16<00:48,  1.57it/s]"
     ]
    },
    {
     "name": "stdout",
     "output_type": "stream",
     "text": [
      "dt[s]: 0.8989038816653192\n",
      "RTF: 0.15542460869255592\n",
      "c:[[  0  50   0 157   0  63   0 158   0  16   0 123   0 177   0  61   0  58\n",
      "    0 156   0  69   0 158   0  56   0  46   0 177   0  46   0  16   0  62\n",
      "    0  83   0  16   0  81   0 102   0  16   0 138   0  56   0  58   0  54\n",
      "    0 156   0  72   0  56   0  46   0  16   0 177   0  64   0 156   0  86\n",
      "    0  56   0  62   0  16   0  65   0 102   0  81   0  16   0  46   0 102\n",
      "    0  61   0  58   0 156   0  72   0  62   0 131   0   4   0]]\n",
      "c_length:[105]\n"
     ]
    },
    {
     "name": "stderr",
     "output_type": "stream",
     "text": [
      "\u001b[0;93m2024-11-27 11:48:44.500627944 [W:onnxruntime:, execution_frame.cc:870 VerifyOutputSizes] Expected shape from model of {-1,192,169} does not match actual shape of {1,192,105} for output 643\u001b[m\n",
      "\u001b[0;93m2024-11-27 11:48:44.504878692 [W:onnxruntime:, execution_frame.cc:870 VerifyOutputSizes] Expected shape from model of {-1,1,169} does not match actual shape of {1,1,105} for output duration_rounded\u001b[m\n",
      "\u001b[0;93m2024-11-27 11:48:44.504937280 [W:onnxruntime:, execution_frame.cc:870 VerifyOutputSizes] Expected shape from model of {1,359} does not match actual shape of {1,253} for output x_masks\u001b[m\n",
      "\u001b[0;93m2024-11-27 11:48:44.516595257 [W:onnxruntime:, execution_frame.cc:870 VerifyOutputSizes] Expected shape from model of {1,192,359} does not match actual shape of {1,192,253} for output logsig_z\u001b[m\n",
      "\u001b[0;93m2024-11-27 11:48:44.516689679 [W:onnxruntime:, execution_frame.cc:870 VerifyOutputSizes] Expected shape from model of {1,192,359} does not match actual shape of {1,192,253} for output mu_z\u001b[m\n",
      "\u001b[0;93m2024-11-27 11:48:44.517649884 [W:onnxruntime:, execution_frame.cc:870 VerifyOutputSizes] Expected shape from model of {1,192,359} does not match actual shape of {1,192,253} for output z\u001b[m\n",
      " 26%|███████████████████████▋                                                                    | 26/101 [00:17<00:41,  1.81it/s]"
     ]
    },
    {
     "name": "stdout",
     "output_type": "stream",
     "text": [
      "dt[s]: 0.3515062043443322\n",
      "RTF: 0.15542460869255592\n",
      "c:[[  0  81   0  83   0  16   0  62   0 156   0  43   0 102   0  55   0  16\n",
      "    0  81   0 156   0 138   0  61   0  16   0  61   0  58   0 156   0  86\n",
      "    0  56   0  62   0  16   0  64   0 156   0  86   0 123   0  51   0  46\n",
      "    0  16   0  53   0  83   0  56   0  61   0 156   0 102   0  46   0  85\n",
      "    0 123   0  83   0  44   0  54   0  51   0   3   0]]\n",
      "c_length:[85]\n"
     ]
    },
    {
     "name": "stderr",
     "output_type": "stream",
     "text": [
      "\u001b[0;93m2024-11-27 11:48:44.856628856 [W:onnxruntime:, execution_frame.cc:870 VerifyOutputSizes] Expected shape from model of {-1,192,169} does not match actual shape of {1,192,85} for output 643\u001b[m\n",
      "\u001b[0;93m2024-11-27 11:48:44.860406497 [W:onnxruntime:, execution_frame.cc:870 VerifyOutputSizes] Expected shape from model of {-1,1,169} does not match actual shape of {1,1,85} for output duration_rounded\u001b[m\n",
      "\u001b[0;93m2024-11-27 11:48:44.860466397 [W:onnxruntime:, execution_frame.cc:870 VerifyOutputSizes] Expected shape from model of {1,359} does not match actual shape of {1,211} for output x_masks\u001b[m\n",
      "\u001b[0;93m2024-11-27 11:48:44.870663858 [W:onnxruntime:, execution_frame.cc:870 VerifyOutputSizes] Expected shape from model of {1,192,359} does not match actual shape of {1,192,211} for output logsig_z\u001b[m\n",
      "\u001b[0;93m2024-11-27 11:48:44.870743988 [W:onnxruntime:, execution_frame.cc:870 VerifyOutputSizes] Expected shape from model of {1,192,359} does not match actual shape of {1,192,211} for output mu_z\u001b[m\n",
      "\u001b[0;93m2024-11-27 11:48:44.871578058 [W:onnxruntime:, execution_frame.cc:870 VerifyOutputSizes] Expected shape from model of {1,192,359} does not match actual shape of {1,192,211} for output z\u001b[m\n",
      " 27%|████████████████████████▌                                                                   | 27/101 [00:17<00:35,  2.10it/s]"
     ]
    },
    {
     "name": "stdout",
     "output_type": "stream",
     "text": [
      "dt[s]: 0.29473650688305497\n",
      "RTF: 0.15542460869255592\n",
      "c:[[  0 102   0  56   0  81   0 102   0  16   0 156   0  87   0 158   0  54\n",
      "    0  51   0  16   0  55   0 156   0  76   0 158   0 123   0  56   0 102\n",
      "    0 112   0  16   0 156   0  43   0 135   0  85   0  68   0  16   0 157\n",
      "    0  76   0  56   0  16   0  56   0  57   0 135   0  64   0 156   0  86\n",
      "    0  55   0  44   0  85   0  16   0  62   0  65   0 156   0  86   0  56\n",
      "    0  62   0  51   0  62   0 156   0  63   0 158   0   3   0  16   0  56\n",
      "    0 156   0  43   0 102   0  56   0  62   0  51   0 158   0  56   0  16\n",
      "    0  61   0 156   0 102   0  53   0  61   0  62   0  51   0 119   0 123\n",
      "    0 156   0  51   0 158   0   3   0]]\n",
      "c_length:[153]\n"
     ]
    },
    {
     "name": "stderr",
     "output_type": "stream",
     "text": [
      "\u001b[0;93m2024-11-27 11:48:45.159783030 [W:onnxruntime:, execution_frame.cc:870 VerifyOutputSizes] Expected shape from model of {-1,192,169} does not match actual shape of {1,192,153} for output 643\u001b[m\n",
      "\u001b[0;93m2024-11-27 11:48:45.165259728 [W:onnxruntime:, execution_frame.cc:870 VerifyOutputSizes] Expected shape from model of {-1,1,169} does not match actual shape of {1,1,153} for output duration_rounded\u001b[m\n",
      "\u001b[0;93m2024-11-27 11:48:45.165319356 [W:onnxruntime:, execution_frame.cc:870 VerifyOutputSizes] Expected shape from model of {1,359} does not match actual shape of {1,403} for output x_masks\u001b[m\n",
      "\u001b[0;93m2024-11-27 11:48:45.183984244 [W:onnxruntime:, execution_frame.cc:870 VerifyOutputSizes] Expected shape from model of {1,192,359} does not match actual shape of {1,192,403} for output logsig_z\u001b[m\n",
      "\u001b[0;93m2024-11-27 11:48:45.184124123 [W:onnxruntime:, execution_frame.cc:870 VerifyOutputSizes] Expected shape from model of {1,192,359} does not match actual shape of {1,192,403} for output mu_z\u001b[m\n",
      "\u001b[0;93m2024-11-27 11:48:45.185539593 [W:onnxruntime:, execution_frame.cc:870 VerifyOutputSizes] Expected shape from model of {1,192,359} does not match actual shape of {1,192,403} for output z\u001b[m\n",
      " 28%|█████████████████████████▌                                                                  | 28/101 [00:18<00:36,  2.00it/s]"
     ]
    },
    {
     "name": "stdout",
     "output_type": "stream",
     "text": [
      "dt[s]: 0.5506342020817101\n",
      "RTF: 0.15542460869255592\n",
      "c:[[  0 156   0  76   0 158   0  54   0  16   0  62   0 131   0 156   0  69\n",
      "    0 158   0 123   0  46   0 147   0  46   0  16   0  65   0 102   0  81\n",
      "    0  16   0  48   0 156   0  86   0  54   0  83   0  56   0  51   0  16\n",
      "    0  65   0  87   0 158   0 123   0  16   0 102   0  56   0  16   0  50\n",
      "    0 156   0  86   0  64   0  51   0  16   0 156   0  43   0 102   0  85\n",
      "    0  56   0  68   0   3   0  16   0  65   0 102   0  81   0 157   0  43\n",
      "    0 135   0  62   0  16   0  46   0 102   0  61   0  62   0 156   0 102\n",
      "    0 112   0  53   0 131   0  83   0  56   0  16   0 138   0  64   0  16\n",
      "    0 156   0  47   0 102   0  46   0 147   0   4   0]]\n",
      "c_length:[157]\n"
     ]
    },
    {
     "name": "stderr",
     "output_type": "stream",
     "text": [
      "\u001b[0;93m2024-11-27 11:48:45.717423225 [W:onnxruntime:, execution_frame.cc:870 VerifyOutputSizes] Expected shape from model of {-1,192,169} does not match actual shape of {1,192,157} for output 643\u001b[m\n",
      "\u001b[0;93m2024-11-27 11:48:45.722730216 [W:onnxruntime:, execution_frame.cc:870 VerifyOutputSizes] Expected shape from model of {-1,1,169} does not match actual shape of {1,1,157} for output duration_rounded\u001b[m\n",
      "\u001b[0;93m2024-11-27 11:48:45.722784352 [W:onnxruntime:, execution_frame.cc:870 VerifyOutputSizes] Expected shape from model of {1,359} does not match actual shape of {1,406} for output x_masks\u001b[m\n",
      "\u001b[0;93m2024-11-27 11:48:45.741346077 [W:onnxruntime:, execution_frame.cc:870 VerifyOutputSizes] Expected shape from model of {1,192,359} does not match actual shape of {1,192,406} for output logsig_z\u001b[m\n",
      "\u001b[0;93m2024-11-27 11:48:45.741483393 [W:onnxruntime:, execution_frame.cc:870 VerifyOutputSizes] Expected shape from model of {1,192,359} does not match actual shape of {1,192,406} for output mu_z\u001b[m\n",
      "\u001b[0;93m2024-11-27 11:48:45.742917646 [W:onnxruntime:, execution_frame.cc:870 VerifyOutputSizes] Expected shape from model of {1,192,359} does not match actual shape of {1,192,406} for output z\u001b[m\n",
      " 29%|██████████████████████████▍                                                                 | 29/101 [00:18<00:37,  1.92it/s]"
     ]
    },
    {
     "name": "stdout",
     "output_type": "stream",
     "text": [
      "dt[s]: 0.5604403647594154\n",
      "RTF: 0.15542460869255592\n",
      "c:[[  0 138   0  58   0  61   0  62   0 156   0  86   0 123   0  68   0  16\n",
      "    0 102   0  56   0  81   0  83   0  16   0  44   0 156   0  86   0  46\n",
      "    0 123   0  63   0 158   0  55   0  16   0  70   0  16   0 123   0 156\n",
      "    0  63   0 158   0  54   0  57   0 135   0  16   0  44   0 156   0  69\n",
      "    0 158   0  53   0  61   0  16   0  48   0  76   0 158   0 123   0  16\n",
      "    0  61   0 156   0  69   0 158   0  64   0  85   0 123   0 157   0 102\n",
      "    0  56   0  68   0  16   0  50   0  70   0  46   0  44   0 102   0  56\n",
      "    0  16   0  44   0 123   0 156   0  57   0 135   0  53   0  83   0  56\n",
      "    0  16   0 156   0  57   0 135   0  58   0  83   0  56   0   3   0]]\n",
      "c_length:[161]\n"
     ]
    },
    {
     "name": "stderr",
     "output_type": "stream",
     "text": [
      "\u001b[0;93m2024-11-27 11:48:46.285387180 [W:onnxruntime:, execution_frame.cc:870 VerifyOutputSizes] Expected shape from model of {-1,192,169} does not match actual shape of {1,192,161} for output 643\u001b[m\n",
      "\u001b[0;93m2024-11-27 11:48:46.291138822 [W:onnxruntime:, execution_frame.cc:870 VerifyOutputSizes] Expected shape from model of {-1,1,169} does not match actual shape of {1,1,161} for output duration_rounded\u001b[m\n",
      "\u001b[0;93m2024-11-27 11:48:46.291200031 [W:onnxruntime:, execution_frame.cc:870 VerifyOutputSizes] Expected shape from model of {1,359} does not match actual shape of {1,377} for output x_masks\u001b[m\n",
      "\u001b[0;93m2024-11-27 11:48:46.308507831 [W:onnxruntime:, execution_frame.cc:870 VerifyOutputSizes] Expected shape from model of {1,192,359} does not match actual shape of {1,192,377} for output logsig_z\u001b[m\n",
      "\u001b[0;93m2024-11-27 11:48:46.308640647 [W:onnxruntime:, execution_frame.cc:870 VerifyOutputSizes] Expected shape from model of {1,192,359} does not match actual shape of {1,192,377} for output mu_z\u001b[m\n",
      "\u001b[0;93m2024-11-27 11:48:46.309987009 [W:onnxruntime:, execution_frame.cc:870 VerifyOutputSizes] Expected shape from model of {1,192,359} does not match actual shape of {1,192,377} for output z\u001b[m\n",
      " 30%|███████████████████████████▎                                                                | 30/101 [00:19<00:36,  1.92it/s]"
     ]
    },
    {
     "name": "stdout",
     "output_type": "stream",
     "text": [
      "dt[s]: 0.5129729667678475\n",
      "RTF: 0.15542460869255592\n",
      "c:[[  0  54   0 156   0  86   0  62   0  16   0  55   0 157   0  51   0 158\n",
      "    0  16   0  53   0 156   0  76   0 158   0  54   0  16   0  52   0 135\n",
      "    0 123   0  16   0  70   0  62   0 156   0  86   0  56   0 131   0  83\n",
      "    0  56   0  16   0  62   0  83   0  16   0  81   0  83   0  16   0  48\n",
      "    0 156   0  72   0  53   0  62   0  16   0  81   0  72   0  62   0  81\n",
      "    0  83   0  16   0  56   0 156   0  72   0 131   0  83   0  56   0  83\n",
      "    0  54   0  16   0 102   0  56   0  46   0 156   0 138   0  61   0  62\n",
      "    0 123   0 102   0  83   0  54   0  16   0 123   0 177   0  53   0 156\n",
      "    0 138   0  64   0  85   0 123   0  51   0  16   0 156   0  72   0  53\n",
      "    0  62   0]]\n",
      "c_length:[165]\n"
     ]
    },
    {
     "name": "stderr",
     "output_type": "stream",
     "text": [
      "\u001b[0;93m2024-11-27 11:48:46.804598847 [W:onnxruntime:, execution_frame.cc:870 VerifyOutputSizes] Expected shape from model of {-1,192,169} does not match actual shape of {1,192,165} for output 643\u001b[m\n",
      "\u001b[0;93m2024-11-27 11:48:46.810155512 [W:onnxruntime:, execution_frame.cc:870 VerifyOutputSizes] Expected shape from model of {-1,1,169} does not match actual shape of {1,1,165} for output duration_rounded\u001b[m\n",
      "\u001b[0;93m2024-11-27 11:48:46.810211215 [W:onnxruntime:, execution_frame.cc:870 VerifyOutputSizes] Expected shape from model of {1,359} does not match actual shape of {1,407} for output x_masks\u001b[m\n",
      "\u001b[0;93m2024-11-27 11:48:46.828914053 [W:onnxruntime:, execution_frame.cc:870 VerifyOutputSizes] Expected shape from model of {1,192,359} does not match actual shape of {1,192,407} for output logsig_z\u001b[m\n",
      "\u001b[0;93m2024-11-27 11:48:46.829052683 [W:onnxruntime:, execution_frame.cc:870 VerifyOutputSizes] Expected shape from model of {1,192,359} does not match actual shape of {1,192,407} for output mu_z\u001b[m\n",
      "\u001b[0;93m2024-11-27 11:48:46.830496543 [W:onnxruntime:, execution_frame.cc:870 VerifyOutputSizes] Expected shape from model of {1,192,359} does not match actual shape of {1,192,407} for output z\u001b[m\n",
      " 31%|████████████████████████████▏                                                               | 31/101 [00:19<00:37,  1.85it/s]"
     ]
    },
    {
     "name": "stdout",
     "output_type": "stream",
     "text": [
      "dt[s]: 0.578381628729403\n",
      "RTF: 0.15542460869255592\n",
      "c:[[  0  62   0  83   0  16   0  48   0  83   0  61   0 156   0 102   0  54\n",
      "    0 177   0  62   0 157   0  47   0 102   0  62   0  16   0  50   0 102\n",
      "    0  68   0  16   0 157   0  69   0 158   0  58   0  85   0 123   0 156\n",
      "    0  47   0 102   0 131   0  83   0  56   0  68   0   3   0  16   0  44\n",
      "    0 123   0 156   0  63   0 158   0  85   0 123   0  16   0  83   0  44\n",
      "    0  62   0 156   0  47   0 102   0  56   0  46   0  16   0  70   0  16\n",
      "    0  48   0 156   0  76   0  54   0  61   0  16   0  55   0 156   0  72\n",
      "    0  61   0  62   0  85   0  16   0  53   0 156   0  51   0 158   0  16\n",
      "    0  48   0 123   0 138   0  55   0  16   0  44   0 156   0  87   0 158\n",
      "    0  56   0 102   0  62   0   3   0]]\n",
      "c_length:[171]\n"
     ]
    },
    {
     "name": "stderr",
     "output_type": "stream",
     "text": [
      "\u001b[0;93m2024-11-27 11:48:47.393101089 [W:onnxruntime:, execution_frame.cc:870 VerifyOutputSizes] Expected shape from model of {-1,192,169} does not match actual shape of {1,192,171} for output 643\u001b[m\n",
      "\u001b[0;93m2024-11-27 11:48:47.399942564 [W:onnxruntime:, execution_frame.cc:870 VerifyOutputSizes] Expected shape from model of {-1,1,169} does not match actual shape of {1,1,171} for output duration_rounded\u001b[m\n",
      "\u001b[0;93m2024-11-27 11:48:47.400019426 [W:onnxruntime:, execution_frame.cc:870 VerifyOutputSizes] Expected shape from model of {1,359} does not match actual shape of {1,447} for output x_masks\u001b[m\n",
      "\u001b[0;93m2024-11-27 11:48:47.422593074 [W:onnxruntime:, execution_frame.cc:870 VerifyOutputSizes] Expected shape from model of {1,192,359} does not match actual shape of {1,192,447} for output logsig_z\u001b[m\n",
      "\u001b[0;93m2024-11-27 11:48:47.422842749 [W:onnxruntime:, execution_frame.cc:870 VerifyOutputSizes] Expected shape from model of {1,192,359} does not match actual shape of {1,192,447} for output mu_z\u001b[m\n",
      "\u001b[0;93m2024-11-27 11:48:47.424394491 [W:onnxruntime:, execution_frame.cc:870 VerifyOutputSizes] Expected shape from model of {1,192,359} does not match actual shape of {1,192,447} for output z\u001b[m\n",
      " 32%|█████████████████████████████▏                                                              | 32/101 [00:20<00:39,  1.76it/s]"
     ]
    },
    {
     "name": "stdout",
     "output_type": "stream",
     "text": [
      "dt[s]: 0.6224701958708465\n",
      "RTF: 0.15542460869255592\n",
      "c:[[  0 102   0  56   0  16   0 102   0  62   0  61   0  16   0  58   0 123\n",
      "    0 156   0  51   0 158   0  72   0  55   0  44   0  83   0  54   0   3\n",
      "    0  16   0  81   0  83   0  16   0  53   0 157   0  69   0 158   0  56\n",
      "    0  61   0  62   0 102   0  62   0 156   0  63   0 158   0 131   0  83\n",
      "    0  56   0  16   0  61   0  62   0 156   0  47   0 102   0  62   0  61\n",
      "    0  16   0  81   0 157   0  70   0 125   0 102   0  62   0  16   0  65\n",
      "    0 138   0  68   0  16   0 102   0  56   0  62   0 156   0  86   0  56\n",
      "    0  46   0 177   0  46   0  16   0  62   0  83   0  16   0  48   0 156\n",
      "    0  76   0 158   0 123   0  55   0  16   0  70   0  16   0  55   0 156\n",
      "    0  57   0 158   0 123   0  16   0  58   0 156   0  87   0 158   0  48\n",
      "    0  86   0  53   0  62   0  16   0  52   0 156   0  63   0 158   0  56\n",
      "    0  51   0  83   0  56   0  16   0  72   0  56   0  46   0  16   0  58\n",
      "    0 123   0  83   0  55   0 156   0  57   0 135   0  62   0  16   0  81\n",
      "    0  83   0  16   0  46   0 147   0 156   0  86   0  56   0  85   0 123\n",
      "    0  83   0  54   0  16   0  65   0 156   0  86   0  54   0  48   0  86\n",
      "    0 123   0   1   0]]\n",
      "c_length:[275]\n"
     ]
    },
    {
     "name": "stderr",
     "output_type": "stream",
     "text": [
      "\u001b[0;93m2024-11-27 11:48:48.023857110 [W:onnxruntime:, execution_frame.cc:870 VerifyOutputSizes] Expected shape from model of {-1,192,169} does not match actual shape of {1,192,275} for output 643\u001b[m\n",
      "\u001b[0;93m2024-11-27 11:48:48.032630201 [W:onnxruntime:, execution_frame.cc:870 VerifyOutputSizes] Expected shape from model of {-1,1,169} does not match actual shape of {1,1,275} for output duration_rounded\u001b[m\n",
      "\u001b[0;93m2024-11-27 11:48:48.032695344 [W:onnxruntime:, execution_frame.cc:870 VerifyOutputSizes] Expected shape from model of {1,359} does not match actual shape of {1,632} for output x_masks\u001b[m\n",
      "\u001b[0;93m2024-11-27 11:48:48.062172461 [W:onnxruntime:, execution_frame.cc:870 VerifyOutputSizes] Expected shape from model of {1,192,359} does not match actual shape of {1,192,632} for output logsig_z\u001b[m\n",
      "\u001b[0;93m2024-11-27 11:48:48.062316647 [W:onnxruntime:, execution_frame.cc:870 VerifyOutputSizes] Expected shape from model of {1,192,359} does not match actual shape of {1,192,632} for output mu_z\u001b[m\n",
      "\u001b[0;93m2024-11-27 11:48:48.064489494 [W:onnxruntime:, execution_frame.cc:870 VerifyOutputSizes] Expected shape from model of {1,192,359} does not match actual shape of {1,192,632} for output z\u001b[m\n",
      " 33%|██████████████████████████████                                                              | 33/101 [00:21<00:45,  1.49it/s]"
     ]
    },
    {
     "name": "stdout",
     "output_type": "stream",
     "text": [
      "dt[s]: 0.9010368031449616\n",
      "RTF: 0.15542460869255592\n",
      "c:[[  0  50   0  51   0 158   0  16   0  50   0  72   0  46   0  16   0  70\n",
      "    0  16   0  46   0 156   0 138   0  44   0  83   0  54   0  16   0  70\n",
      "    0  54   0 156   0  43   0 135   0  83   0  56   0  61   0  16   0 138\n",
      "    0  64   0  16   0  44   0 123   0 156   0  86   0  46   0   3   0  16\n",
      "    0  46   0 177   0  46   0 156   0 138   0  53   0  62   0 177   0  46\n",
      "    0   3   0  16   0 138   0  64   0  16   0  53   0 156   0  57   0 158\n",
      "    0 123   0  61   0   3   0  16   0  48   0 123   0 138   0  55   0  81\n",
      "    0 102   0  16   0  76   0 158   0  54   0 123   0 157   0  86   0  46\n",
      "    0  51   0  16   0  62   0 156   0  63   0 158   0  16   0  54   0 156\n",
      "    0 102   0  55   0 102   0 125   0 177   0  46   0  16   0  58   0 156\n",
      "    0  57   0 158   0 123   0 131   0  83   0  56   0  16   0 138   0  64\n",
      "    0  81   0  83   0  16   0 123   0 156   0  86   0  61   0  62   0   3\n",
      "    0]]\n",
      "c_length:[217]\n"
     ]
    },
    {
     "name": "stderr",
     "output_type": "stream",
     "text": [
      "\u001b[0;93m2024-11-27 11:48:48.938263504 [W:onnxruntime:, execution_frame.cc:870 VerifyOutputSizes] Expected shape from model of {-1,192,169} does not match actual shape of {1,192,217} for output 643\u001b[m\n",
      "\u001b[0;93m2024-11-27 11:48:48.945644449 [W:onnxruntime:, execution_frame.cc:870 VerifyOutputSizes] Expected shape from model of {-1,1,169} does not match actual shape of {1,1,217} for output duration_rounded\u001b[m\n",
      "\u001b[0;93m2024-11-27 11:48:48.945706654 [W:onnxruntime:, execution_frame.cc:870 VerifyOutputSizes] Expected shape from model of {1,359} does not match actual shape of {1,552} for output x_masks\u001b[m\n",
      "\u001b[0;93m2024-11-27 11:48:48.971292875 [W:onnxruntime:, execution_frame.cc:870 VerifyOutputSizes] Expected shape from model of {1,192,359} does not match actual shape of {1,192,552} for output logsig_z\u001b[m\n",
      "\u001b[0;93m2024-11-27 11:48:48.971426167 [W:onnxruntime:, execution_frame.cc:870 VerifyOutputSizes] Expected shape from model of {1,192,359} does not match actual shape of {1,192,552} for output mu_z\u001b[m\n",
      "\u001b[0;93m2024-11-27 11:48:48.973331507 [W:onnxruntime:, execution_frame.cc:870 VerifyOutputSizes] Expected shape from model of {1,192,359} does not match actual shape of {1,192,552} for output z\u001b[m\n",
      " 34%|██████████████████████████████▉                                                             | 34/101 [00:22<00:47,  1.42it/s]"
     ]
    },
    {
     "name": "stdout",
     "output_type": "stream",
     "text": [
      "dt[s]: 0.7650961307808757\n",
      "RTF: 0.15542460869255592\n",
      "c:[[  0  65   0 157   0 102   0  62   0 131   0  16   0  92   0 156   0  47\n",
      "    0 102   0  64   0  16   0  50   0 157   0 102   0  55   0  16   0 156\n",
      "    0  72   0  53   0  61   0  86   0  61   0  16   0  62   0 135   0  16\n",
      "    0 156   0  76   0 158   0  54   0  16   0  58   0 156   0  69   0 158\n",
      "    0 123   0  62   0  61   0  16   0 138   0  64   0  81   0  83   0  16\n",
      "    0  55   0 156   0 102   0  54   0  68   0   3   0  16   0  81   0  83\n",
      "    0  16   0  58   0 156   0  72   0  53   0 102   0 112   0 123   0 156\n",
      "    0  63   0 158   0  55   0  16   0 102   0 112   0  53   0  54   0 156\n",
      "    0  63   0 158   0  46   0 177   0  46   0   4   0]]\n",
      "c_length:[157]\n"
     ]
    },
    {
     "name": "stderr",
     "output_type": "stream",
     "text": [
      "\u001b[0;93m2024-11-27 11:48:49.708913233 [W:onnxruntime:, execution_frame.cc:870 VerifyOutputSizes] Expected shape from model of {-1,192,169} does not match actual shape of {1,192,157} for output 643\u001b[m\n",
      "\u001b[0;93m2024-11-27 11:48:49.714240403 [W:onnxruntime:, execution_frame.cc:870 VerifyOutputSizes] Expected shape from model of {-1,1,169} does not match actual shape of {1,1,157} for output duration_rounded\u001b[m\n",
      "\u001b[0;93m2024-11-27 11:48:49.714295731 [W:onnxruntime:, execution_frame.cc:870 VerifyOutputSizes] Expected shape from model of {1,359} does not match actual shape of {1,396} for output x_masks\u001b[m\n",
      "\u001b[0;93m2024-11-27 11:48:49.732419381 [W:onnxruntime:, execution_frame.cc:870 VerifyOutputSizes] Expected shape from model of {1,192,359} does not match actual shape of {1,192,396} for output logsig_z\u001b[m\n",
      "\u001b[0;93m2024-11-27 11:48:49.732554731 [W:onnxruntime:, execution_frame.cc:870 VerifyOutputSizes] Expected shape from model of {1,192,359} does not match actual shape of {1,192,396} for output mu_z\u001b[m\n",
      "\u001b[0;93m2024-11-27 11:48:49.733955388 [W:onnxruntime:, execution_frame.cc:870 VerifyOutputSizes] Expected shape from model of {1,192,359} does not match actual shape of {1,192,396} for output z\u001b[m\n",
      " 35%|███████████████████████████████▉                                                            | 35/101 [00:22<00:43,  1.52it/s]"
     ]
    },
    {
     "name": "stdout",
     "output_type": "stream",
     "text": [
      "dt[s]: 0.5423234570771456\n",
      "RTF: 0.15542460869255592\n",
      "c:[[  0  55   0  85   0 123   0 156   0  51   0 158   0  56   0  83   0  16\n",
      "    0 156   0  69   0 158   0  61   0  65   0  83   0  54   0  46   0  16\n",
      "    0  62   0 156   0  86   0  61   0  62   0 177   0  48   0 157   0  43\n",
      "    0 102   0  46   0  16   0  81   0  72   0  62   0  16   0  72   0  62\n",
      "    0  16   0  81   0  72   0  62   0  16   0  62   0 156   0  43   0 102\n",
      "    0  55   0   3   0  16   0  53   0  65   0 156   0  57   0 135   0  62\n",
      "    0   3   0  16   0  55   0  43   0 102   0  16   0  50   0 156   0  69\n",
      "    0 158   0 123   0  62   0  16   0  46   0 123   0 156   0  69   0 158\n",
      "    0  58   0  62   0   4   0]]\n",
      "c_length:[151]\n"
     ]
    },
    {
     "name": "stderr",
     "output_type": "stream",
     "text": [
      "\u001b[0;93m2024-11-27 11:48:50.260425395 [W:onnxruntime:, execution_frame.cc:870 VerifyOutputSizes] Expected shape from model of {-1,192,169} does not match actual shape of {1,192,151} for output 643\u001b[m\n",
      "\u001b[0;93m2024-11-27 11:48:50.265873601 [W:onnxruntime:, execution_frame.cc:870 VerifyOutputSizes] Expected shape from model of {-1,1,169} does not match actual shape of {1,1,151} for output duration_rounded\u001b[m\n",
      "\u001b[0;93m2024-11-27 11:48:50.265933608 [W:onnxruntime:, execution_frame.cc:870 VerifyOutputSizes] Expected shape from model of {1,359} does not match actual shape of {1,384} for output x_masks\u001b[m\n",
      "\u001b[0;93m2024-11-27 11:48:50.283024189 [W:onnxruntime:, execution_frame.cc:870 VerifyOutputSizes] Expected shape from model of {1,192,359} does not match actual shape of {1,192,384} for output logsig_z\u001b[m\n",
      "\u001b[0;93m2024-11-27 11:48:50.283155507 [W:onnxruntime:, execution_frame.cc:870 VerifyOutputSizes] Expected shape from model of {1,192,359} does not match actual shape of {1,192,384} for output mu_z\u001b[m\n",
      "\u001b[0;93m2024-11-27 11:48:50.284519585 [W:onnxruntime:, execution_frame.cc:870 VerifyOutputSizes] Expected shape from model of {1,192,359} does not match actual shape of {1,192,384} for output z\u001b[m\n",
      " 36%|████████████████████████████████▊                                                           | 36/101 [00:23<00:40,  1.61it/s]"
     ]
    },
    {
     "name": "stdout",
     "output_type": "stream",
     "text": [
      "dt[s]: 0.5284377499483526\n",
      "RTF: 0.15542460869255592\n",
      "c:[[  0  81   0  83   0  16   0  54   0 156   0  72   0 125   0  85   0 123\n",
      "    0  16   0 156   0  86   0  56   0  46   0  16   0 138   0  64   0  81\n",
      "    0  83   0  16   0  56   0 156   0  43   0 102   0  56   0  62   0  51\n",
      "    0 158   0  56   0 119   0  16   0  61   0 156   0  86   0  56   0  62\n",
      "    0 131   0  85   0 123   0  51   0   3   0  16   0  61   0 156   0  86\n",
      "    0  64   0 123   0  83   0  54   0  16   0 138   0  64   0  65   0 156\n",
      "    0 102   0  62   0 131   0  16   0  61   0  62   0 156   0 102   0  54\n",
      "    0  16   0  48   0 156   0  76   0 158   0  54   0  16   0  48   0 156\n",
      "    0  69   0 158   0 123   0  16   0 131   0 156   0  76   0 158   0 123\n",
      "    0  62   0  16   0 138   0  64   0  16   0 157   0  43   0 135   0  85\n",
      "    0 123   0  16   0 156   0 102   0 112   0  92   0  54   0 102   0 131\n",
      "    0  16   0  43   0 102   0  46   0 156   0  51   0  83   0  54   0   3\n",
      "    0]]\n",
      "c_length:[217]\n"
     ]
    },
    {
     "name": "stderr",
     "output_type": "stream",
     "text": [
      "\u001b[0;93m2024-11-27 11:48:50.799451767 [W:onnxruntime:, execution_frame.cc:870 VerifyOutputSizes] Expected shape from model of {-1,192,169} does not match actual shape of {1,192,217} for output 643\u001b[m\n",
      "\u001b[0;93m2024-11-27 11:48:50.806590065 [W:onnxruntime:, execution_frame.cc:870 VerifyOutputSizes] Expected shape from model of {-1,1,169} does not match actual shape of {1,1,217} for output duration_rounded\u001b[m\n",
      "\u001b[0;93m2024-11-27 11:48:50.806648156 [W:onnxruntime:, execution_frame.cc:870 VerifyOutputSizes] Expected shape from model of {1,359} does not match actual shape of {1,517} for output x_masks\u001b[m\n",
      "\u001b[0;93m2024-11-27 11:48:50.831431895 [W:onnxruntime:, execution_frame.cc:870 VerifyOutputSizes] Expected shape from model of {1,192,359} does not match actual shape of {1,192,517} for output logsig_z\u001b[m\n",
      "\u001b[0;93m2024-11-27 11:48:50.831590936 [W:onnxruntime:, execution_frame.cc:870 VerifyOutputSizes] Expected shape from model of {1,192,359} does not match actual shape of {1,192,517} for output mu_z\u001b[m\n",
      "\u001b[0;93m2024-11-27 11:48:50.833373344 [W:onnxruntime:, execution_frame.cc:870 VerifyOutputSizes] Expected shape from model of {1,192,359} does not match actual shape of {1,192,517} for output z\u001b[m\n",
      " 37%|█████████████████████████████████▋                                                          | 37/101 [00:23<00:41,  1.54it/s]"
     ]
    },
    {
     "name": "stdout",
     "output_type": "stream",
     "text": [
      "dt[s]: 0.7137170066125691\n",
      "RTF: 0.15542460869255592\n",
      "c:[[  0  50   0  51   0 158   0  16   0 123   0 156   0  57   0 135   0  62\n",
      "    0  16   0 156   0  72   0  48   0  62   0  85   0  65   0  85   0  46\n",
      "    0  68   0  16   0  62   0  83   0  16   0  81   0 102   0  16   0 102\n",
      "    0  48   0 156   0  86   0  53   0  62   0  16   0  81   0  72   0  62\n",
      "    0  81   0  83   0  16   0  55   0 156   0  57   0 135   0  55   0  83\n",
      "    0  56   0  62   0  16   0  50   0  51   0 158   0  16   0  50   0  72\n",
      "    0  46   0  16   0 156   0  76   0  48   0  85   0  46   0  16   0  50\n",
      "    0 102   0  55   0  61   0 156   0  86   0  54   0  48   0   3   0  16\n",
      "    0  70   0  56   0  16   0 138   0  56   0  56   0 156   0  57   0 135\n",
      "    0  56   0  16   0  70   0  61   0 156   0  72   0  61   0 102   0  56\n",
      "    0  16   0  53   0 156   0  47   0 102   0  55   0  16   0  62   0 135\n",
      "    0  16   0 156   0  47   0 102   0  55   0  16   0  70   0  16   0  44\n",
      "    0  54   0 156   0  57   0 135   0  16   0  72   0  62   0  16   0  50\n",
      "    0 157   0 102   0  55   0   4   0]]\n",
      "c_length:[243]\n"
     ]
    },
    {
     "name": "stderr",
     "output_type": "stream",
     "text": [
      "\u001b[0;93m2024-11-27 11:48:51.522012995 [W:onnxruntime:, execution_frame.cc:870 VerifyOutputSizes] Expected shape from model of {-1,192,169} does not match actual shape of {1,192,243} for output 643\u001b[m\n",
      "\u001b[0;93m2024-11-27 11:48:51.530054839 [W:onnxruntime:, execution_frame.cc:870 VerifyOutputSizes] Expected shape from model of {-1,1,169} does not match actual shape of {1,1,243} for output duration_rounded\u001b[m\n",
      "\u001b[0;93m2024-11-27 11:48:51.530123869 [W:onnxruntime:, execution_frame.cc:870 VerifyOutputSizes] Expected shape from model of {1,359} does not match actual shape of {1,593} for output x_masks\u001b[m\n",
      "\u001b[0;93m2024-11-27 11:48:51.558128749 [W:onnxruntime:, execution_frame.cc:870 VerifyOutputSizes] Expected shape from model of {1,192,359} does not match actual shape of {1,192,593} for output logsig_z\u001b[m\n",
      "\u001b[0;93m2024-11-27 11:48:51.558264739 [W:onnxruntime:, execution_frame.cc:870 VerifyOutputSizes] Expected shape from model of {1,192,359} does not match actual shape of {1,192,593} for output mu_z\u001b[m\n",
      "\u001b[0;93m2024-11-27 11:48:51.560305554 [W:onnxruntime:, execution_frame.cc:870 VerifyOutputSizes] Expected shape from model of {1,192,359} does not match actual shape of {1,192,593} for output z\u001b[m\n",
      " 38%|██████████████████████████████████▌                                                         | 38/101 [00:24<00:44,  1.42it/s]"
     ]
    },
    {
     "name": "stdout",
     "output_type": "stream",
     "text": [
      "dt[s]: 0.8243652819655836\n",
      "RTF: 0.15542460869255592\n",
      "c:[[  0  92   0 156   0 135   0  46   0  16   0  65   0 138   0  68   0  16\n",
      "    0  48   0 156   0  69   0 158   0  54   0  57   0 135   0  46   0  16\n",
      "    0  62   0  83   0  16   0  50   0 102   0  68   0  16   0  61   0  62\n",
      "    0 156   0  47   0 102   0  44   0  83   0  54   0  68   0  16   0  44\n",
      "    0  43   0 102   0  16   0  70   0  16   0  58   0  83   0  54   0 156\n",
      "    0  51   0 158   0  61   0  55   0  83   0  56   0   3   0  16   0  44\n",
      "    0 157   0 138   0  62   0  16   0 156   0  69   0 158   0  44   0  61\n",
      "    0  62   0 177   0  56   0  83   0  62   0  54   0  51   0  16   0  46\n",
      "    0 177   0  56   0 156   0  43   0 102   0  46   0  16   0  81   0  83\n",
      "    0  16   0 119   0 156   0  86   0  48   0  62   0   4   0]]\n",
      "c_length:[177]\n"
     ]
    },
    {
     "name": "stderr",
     "output_type": "stream",
     "text": [
      "\u001b[0;93m2024-11-27 11:48:52.351482733 [W:onnxruntime:, execution_frame.cc:870 VerifyOutputSizes] Expected shape from model of {-1,192,169} does not match actual shape of {1,192,177} for output 643\u001b[m\n",
      "\u001b[0;93m2024-11-27 11:48:52.357834029 [W:onnxruntime:, execution_frame.cc:870 VerifyOutputSizes] Expected shape from model of {-1,1,169} does not match actual shape of {1,1,177} for output duration_rounded\u001b[m\n",
      "\u001b[0;93m2024-11-27 11:48:52.357893812 [W:onnxruntime:, execution_frame.cc:870 VerifyOutputSizes] Expected shape from model of {1,359} does not match actual shape of {1,451} for output x_masks\u001b[m\n",
      "\u001b[0;93m2024-11-27 11:48:52.378851248 [W:onnxruntime:, execution_frame.cc:870 VerifyOutputSizes] Expected shape from model of {1,192,359} does not match actual shape of {1,192,451} for output logsig_z\u001b[m\n",
      "\u001b[0;93m2024-11-27 11:48:52.378990207 [W:onnxruntime:, execution_frame.cc:870 VerifyOutputSizes] Expected shape from model of {1,192,359} does not match actual shape of {1,192,451} for output mu_z\u001b[m\n",
      "\u001b[0;93m2024-11-27 11:48:52.380578359 [W:onnxruntime:, execution_frame.cc:870 VerifyOutputSizes] Expected shape from model of {1,192,359} does not match actual shape of {1,192,451} for output z\u001b[m\n",
      " 39%|███████████████████████████████████▌                                                        | 39/101 [00:25<00:42,  1.47it/s]"
     ]
    },
    {
     "name": "stdout",
     "output_type": "stream",
     "text": [
      "dt[s]: 0.6179790222086012\n",
      "RTF: 0.15542460869255592\n",
      "c:[[  0 102   0  56   0  16   0  56   0 156   0  63   0 158   0  16   0 156\n",
      "    0  76   0 158   0 123   0  54   0  51   0  83   0  56   0  68   0   4\n",
      "    0  16   0 102   0  56   0  81   0  83   0  16   0  55   0 156   0 102\n",
      "    0  46   0  83   0  54   0  16   0 138   0  64   0  16   0  55   0 156\n",
      "    0  47   0 102   0  16   0 138   0  64   0  16   0  56   0 156   0  43\n",
      "    0 102   0  56   0  62   0  51   0 158   0  56   0  16   0  61   0 156\n",
      "    0 102   0  53   0  61   0  62   0  51   0 119   0 123   0 156   0  51\n",
      "    0 158   0   3   0  16   0 156   0  47   0 102   0  46   0 147   0  83\n",
      "    0  56   0  62   0  16   0  50   0 156   0  69   0 158   0  61   0  62\n",
      "    0  51   0  16   0  62   0 131   0 156   0  86   0  53   0  62   0  16\n",
      "    0 156   0  69   0 158   0  61   0  65   0  83   0  54   0  46   0  68\n",
      "    0  16   0  54   0 156   0  72   0  61   0  62   0  16   0  56   0 156\n",
      "    0  57   0 135   0  56   0  16   0 123   0 156   0  86   0  68   0 177\n",
      "    0  46   0  83   0  56   0  61   0  16   0  72   0  56   0  46   0  16\n",
      "    0  48   0 156   0  43   0 135   0  56   0  46   0  16   0  81   0  72\n",
      "    0  62   0  16   0  50   0  51   0 158   0  16   0  50   0  72   0  46\n",
      "    0  16   0  55   0 156   0  63   0 158   0  64   0  46   0   4   0]]\n",
      "c_length:[305]\n"
     ]
    },
    {
     "name": "stderr",
     "output_type": "stream",
     "text": [
      "\u001b[0;93m2024-11-27 11:48:52.981958186 [W:onnxruntime:, execution_frame.cc:870 VerifyOutputSizes] Expected shape from model of {-1,192,169} does not match actual shape of {1,192,305} for output 643\u001b[m\n",
      "\u001b[0;93m2024-11-27 11:48:52.991491031 [W:onnxruntime:, execution_frame.cc:870 VerifyOutputSizes] Expected shape from model of {-1,1,169} does not match actual shape of {1,1,305} for output duration_rounded\u001b[m\n",
      "\u001b[0;93m2024-11-27 11:48:52.991559513 [W:onnxruntime:, execution_frame.cc:870 VerifyOutputSizes] Expected shape from model of {1,359} does not match actual shape of {1,799} for output x_masks\u001b[m\n",
      "\u001b[0;93m2024-11-27 11:48:53.028831802 [W:onnxruntime:, execution_frame.cc:870 VerifyOutputSizes] Expected shape from model of {1,192,359} does not match actual shape of {1,192,799} for output logsig_z\u001b[m\n",
      "\u001b[0;93m2024-11-27 11:48:53.029012876 [W:onnxruntime:, execution_frame.cc:870 VerifyOutputSizes] Expected shape from model of {1,192,359} does not match actual shape of {1,192,799} for output mu_z\u001b[m\n",
      "\u001b[0;93m2024-11-27 11:48:53.031708694 [W:onnxruntime:, execution_frame.cc:870 VerifyOutputSizes] Expected shape from model of {1,192,359} does not match actual shape of {1,192,799} for output z\u001b[m\n",
      " 40%|████████████████████████████████████▍                                                       | 40/101 [00:26<00:49,  1.22it/s]"
     ]
    },
    {
     "name": "stdout",
     "output_type": "stream",
     "text": [
      "dt[s]: 1.1280071954242885\n",
      "RTF: 0.15542460869255592\n",
      "c:[[  0  65   0 157   0 102   0  62   0 131   0  16   0  48   0 156   0  43\n",
      "    0 102   0  56   0  83   0  54   0  51   0  16   0  46   0 177   0  53\n",
      "    0  54   0 156   0  43   0 102   0  56   0  46   0  16   0  62   0  83\n",
      "    0  16   0  55   0 156   0  69   0 158   0  46   0 177   0  48   0 157\n",
      "    0  43   0 102   0  16   0  81   0  83   0  16   0  46   0 102   0  61\n",
      "    0  62   0 131   0 156   0  69   0 158   0 123   0  46   0 147   0  16\n",
      "    0  72   0  56   0  46   0  16   0  61   0 157   0  57   0 135   0  16\n",
      "    0  70   0  46   0  64   0 156   0  43   0 102   0  68   0  46   0  16\n",
      "    0  50   0 157   0 102   0  55   0  16   0 102   0  56   0  16   0  70\n",
      "    0  16   0  54   0 156   0  86   0 125   0  85   0  16   0  46   0 156\n",
      "    0  47   0 102   0 125   0 177   0  46   0  16   0  46   0 147   0  63\n",
      "    0 158   0  54   0 156   0  43   0 102   0  16   0  56   0 156   0  43\n",
      "    0 102   0  56   0  62   0  51   0 158   0  56   0  16   0  61   0 156\n",
      "    0 102   0  53   0  61   0  62   0  51   0 119   0 123   0 156   0  51\n",
      "    0 158   0   4   0]]\n",
      "c_length:[257]\n"
     ]
    },
    {
     "name": "stderr",
     "output_type": "stream",
     "text": [
      "\u001b[0;93m2024-11-27 11:48:54.116691170 [W:onnxruntime:, execution_frame.cc:870 VerifyOutputSizes] Expected shape from model of {-1,192,169} does not match actual shape of {1,192,257} for output 643\u001b[m\n",
      "\u001b[0;93m2024-11-27 11:48:54.125066837 [W:onnxruntime:, execution_frame.cc:870 VerifyOutputSizes] Expected shape from model of {-1,1,169} does not match actual shape of {1,1,257} for output duration_rounded\u001b[m\n",
      "\u001b[0;93m2024-11-27 11:48:54.125131970 [W:onnxruntime:, execution_frame.cc:870 VerifyOutputSizes] Expected shape from model of {1,359} does not match actual shape of {1,568} for output x_masks\u001b[m\n",
      "\u001b[0;93m2024-11-27 11:48:54.151474455 [W:onnxruntime:, execution_frame.cc:870 VerifyOutputSizes] Expected shape from model of {1,192,359} does not match actual shape of {1,192,568} for output logsig_z\u001b[m\n",
      "\u001b[0;93m2024-11-27 11:48:54.151604039 [W:onnxruntime:, execution_frame.cc:870 VerifyOutputSizes] Expected shape from model of {1,192,359} does not match actual shape of {1,192,568} for output mu_z\u001b[m\n",
      "\u001b[0;93m2024-11-27 11:48:54.153557036 [W:onnxruntime:, execution_frame.cc:870 VerifyOutputSizes] Expected shape from model of {1,192,359} does not match actual shape of {1,192,568} for output z\u001b[m\n",
      " 41%|█████████████████████████████████████▎                                                      | 41/101 [00:27<00:48,  1.23it/s]"
     ]
    },
    {
     "name": "stdout",
     "output_type": "stream",
     "text": [
      "dt[s]: 0.7863511978648603\n",
      "RTF: 0.15542460869255592\n",
      "c:[[  0  50   0  51   0 158   0  16   0  53   0  83   0 112   0  53   0  54\n",
      "    0 156   0  63   0 158   0  46   0 177   0  46   0  16   0  81   0 156\n",
      "    0  72   0  62   0   3   0  16   0  53   0  65   0 156   0  57   0 135\n",
      "    0  62   0   3   0  16   0  81   0  83   0  16   0  46   0 147   0 156\n",
      "    0  86   0  56   0  85   0 123   0  83   0  54   0  16   0 123   0 156\n",
      "    0  43   0 102   0  48   0  54   0 102   0 112   0  16   0  53   0 157\n",
      "    0  72   0 123   0 102   0  53   0  62   0  85   0 123   0 156   0 102\n",
      "    0  61   0  62   0 102   0  53   0  61   0  16   0 138   0  64   0  81\n",
      "    0  83   0  16   0 123   0 156   0  43   0 102   0  48   0  83   0  54\n",
      "    0  16   0  69   0 158   0 123   0  16   0 138   0  64   0  81   0  83\n",
      "    0  16   0  61   0 156   0  47   0 102   0  55   0  16   0  62   0 156\n",
      "    0  43   0 102   0  58   0  16   0  72   0  68   0  16   0  81   0  57\n",
      "    0 135   0  68   0  16   0  48   0 156   0  43   0 135   0  56   0  46\n",
      "    0  16   0  76   0  56   0  81   0  83   0  16   0  44   0 156   0 135\n",
      "    0  54   0 102   0  62   0]]\n",
      "c_length:[259]\n"
     ]
    },
    {
     "name": "stderr",
     "output_type": "stream",
     "text": [
      "\u001b[0;93m2024-11-27 11:48:54.910546854 [W:onnxruntime:, execution_frame.cc:870 VerifyOutputSizes] Expected shape from model of {-1,192,169} does not match actual shape of {1,192,259} for output 643\u001b[m\n",
      "\u001b[0;93m2024-11-27 11:48:54.919036249 [W:onnxruntime:, execution_frame.cc:870 VerifyOutputSizes] Expected shape from model of {-1,1,169} does not match actual shape of {1,1,259} for output duration_rounded\u001b[m\n",
      "\u001b[0;93m2024-11-27 11:48:54.919100524 [W:onnxruntime:, execution_frame.cc:870 VerifyOutputSizes] Expected shape from model of {1,359} does not match actual shape of {1,641} for output x_masks\u001b[m\n",
      "\u001b[0;93m2024-11-27 11:48:54.949345339 [W:onnxruntime:, execution_frame.cc:870 VerifyOutputSizes] Expected shape from model of {1,192,359} does not match actual shape of {1,192,641} for output logsig_z\u001b[m\n",
      "\u001b[0;93m2024-11-27 11:48:54.949492031 [W:onnxruntime:, execution_frame.cc:870 VerifyOutputSizes] Expected shape from model of {1,192,359} does not match actual shape of {1,192,641} for output mu_z\u001b[m\n",
      "\u001b[0;93m2024-11-27 11:48:54.951688832 [W:onnxruntime:, execution_frame.cc:870 VerifyOutputSizes] Expected shape from model of {1,192,359} does not match actual shape of {1,192,641} for output z\u001b[m\n",
      " 42%|██████████████████████████████████████▎                                                     | 42/101 [00:28<00:49,  1.19it/s]"
     ]
    },
    {
     "name": "stdout",
     "output_type": "stream",
     "text": [
      "dt[s]: 0.9083253950811923\n",
      "RTF: 0.15542460869255592\n",
      "c:[[  0  50   0 102   0  68   0  16   0  53   0 156   0  43   0 135   0  56\n",
      "    0  62   0  83   0  56   0  83   0  56   0  61   0  16   0  50   0  72\n",
      "    0  46   0  16   0  70   0  56   0  16   0  86   0  53   0  61   0  58\n",
      "    0 123   0 156   0  86   0 131   0  83   0  56   0  16   0 138   0  64\n",
      "    0  16   0  55   0 156   0  57   0 135   0  61   0  62   0  16   0  61\n",
      "    0 138   0  44   0  46   0 156   0  63   0 158   0  46   0  16   0 123\n",
      "    0 157   0  86   0  68   0 102   0  92   0  56   0 156   0  47   0 102\n",
      "    0 131   0  83   0  56   0   4   0]]\n",
      "c_length:[135]\n"
     ]
    },
    {
     "name": "stderr",
     "output_type": "stream",
     "text": [
      "\u001b[0;93m2024-11-27 11:48:55.825045321 [W:onnxruntime:, execution_frame.cc:870 VerifyOutputSizes] Expected shape from model of {-1,192,169} does not match actual shape of {1,192,135} for output 643\u001b[m\n",
      "\u001b[0;93m2024-11-27 11:48:55.830802213 [W:onnxruntime:, execution_frame.cc:870 VerifyOutputSizes] Expected shape from model of {-1,1,169} does not match actual shape of {1,1,135} for output duration_rounded\u001b[m\n",
      "\u001b[0;93m2024-11-27 11:48:55.830877523 [W:onnxruntime:, execution_frame.cc:870 VerifyOutputSizes] Expected shape from model of {1,359} does not match actual shape of {1,318} for output x_masks\u001b[m\n",
      "\u001b[0;93m2024-11-27 11:48:55.847522015 [W:onnxruntime:, execution_frame.cc:870 VerifyOutputSizes] Expected shape from model of {1,192,359} does not match actual shape of {1,192,318} for output logsig_z\u001b[m\n",
      "\u001b[0;93m2024-11-27 11:48:55.847755087 [W:onnxruntime:, execution_frame.cc:870 VerifyOutputSizes] Expected shape from model of {1,192,359} does not match actual shape of {1,192,318} for output mu_z\u001b[m\n",
      "\u001b[0;93m2024-11-27 11:48:55.848900752 [W:onnxruntime:, execution_frame.cc:870 VerifyOutputSizes] Expected shape from model of {1,192,359} does not match actual shape of {1,192,318} for output z\u001b[m\n",
      " 43%|███████████████████████████████████████▏                                                    | 43/101 [00:28<00:42,  1.38it/s]"
     ]
    },
    {
     "name": "stdout",
     "output_type": "stream",
     "text": [
      "dt[s]: 0.44511186284944415\n",
      "RTF: 0.15542460869255592\n",
      "c:[[  0  81   0  86   0 123   0  65   0 157   0 138   0  68   0  16   0  56\n",
      "    0 156   0  57   0 135   0  16   0  61   0 157   0  86   0  58   0  85\n",
      "    0 123   0 156   0  47   0 102   0 131   0  83   0  56   0  16   0 156\n",
      "    0  51   0 158   0  64   0  83   0  56   0  16   0  48   0  85   0  81\n",
      "    0  83   0  16   0  65   0 156   0 102   0  55   0 102   0  56   0  16\n",
      "    0 157   0 138   0  56   0  46   0  85   0  16   0  61   0 156   0  86\n",
      "    0  56   0  62   0  83   0  56   0  61   0  16   0 138   0  64   0  16\n",
      "    0  46   0 156   0  86   0 119   0   3   0  16   0  50   0 157   0  63\n",
      "    0 158   0  16   0  54   0 156   0 102   0  64   0  46   0  16   0 102\n",
      "    0  56   0  16   0  70   0  16   0  53   0 156   0  69   0 158   0  55\n",
      "    0  83   0  56   0  16   0  72   0  56   0  46   0  16   0  58   0  85\n",
      "    0  58   0 156   0  86   0  62   0 131   0  63   0 158   0  83   0  54\n",
      "    0  51   0  16   0  53   0 123   0 156   0  43   0 135   0  46   0 177\n",
      "    0  46   0  16   0  65   0 156   0  76   0 158   0 123   0  46   0   4\n",
      "    0]]\n",
      "c_length:[253]\n"
     ]
    },
    {
     "name": "stderr",
     "output_type": "stream",
     "text": [
      "\u001b[0;93m2024-11-27 11:48:56.277975854 [W:onnxruntime:, execution_frame.cc:870 VerifyOutputSizes] Expected shape from model of {-1,192,169} does not match actual shape of {1,192,253} for output 643\u001b[m\n",
      "\u001b[0;93m2024-11-27 11:48:56.286160451 [W:onnxruntime:, execution_frame.cc:870 VerifyOutputSizes] Expected shape from model of {-1,1,169} does not match actual shape of {1,1,253} for output duration_rounded\u001b[m\n",
      "\u001b[0;93m2024-11-27 11:48:56.286227072 [W:onnxruntime:, execution_frame.cc:870 VerifyOutputSizes] Expected shape from model of {1,359} does not match actual shape of {1,581} for output x_masks\u001b[m\n",
      "\u001b[0;93m2024-11-27 11:48:56.313954986 [W:onnxruntime:, execution_frame.cc:870 VerifyOutputSizes] Expected shape from model of {1,192,359} does not match actual shape of {1,192,581} for output logsig_z\u001b[m\n",
      "\u001b[0;93m2024-11-27 11:48:56.314091886 [W:onnxruntime:, execution_frame.cc:870 VerifyOutputSizes] Expected shape from model of {1,192,359} does not match actual shape of {1,192,581} for output mu_z\u001b[m\n",
      "\u001b[0;93m2024-11-27 11:48:56.316098819 [W:onnxruntime:, execution_frame.cc:870 VerifyOutputSizes] Expected shape from model of {1,192,359} does not match actual shape of {1,192,581} for output z\u001b[m\n",
      " 44%|████████████████████████████████████████                                                    | 44/101 [00:29<00:42,  1.33it/s]"
     ]
    },
    {
     "name": "stdout",
     "output_type": "stream",
     "text": [
      "dt[s]: 0.8070412673987448\n",
      "RTF: 0.15542460869255592\n",
      "c:[[  0 156   0  72   0  48   0  62   0  85   0  16   0  81   0  83   0  16\n",
      "    0  55   0 156   0  72   0 123   0 102   0  46   0 147   0  16   0  70\n",
      "    0  16   0  53   0  54   0 156   0  57   0 135   0  61   0  16   0 156\n",
      "    0 102   0  56   0  62   0 102   0  55   0  83   0  61   0  51   0  16\n",
      "    0  65   0 138   0  68   0  16   0  61   0  62   0 156   0 102   0  54\n",
      "    0  16   0  55   0  47   0 102   0  56   0  62   0 156   0  47   0 102\n",
      "    0  56   0  46   0  16   0  44   0 177   0  62   0  65   0 157   0  51\n",
      "    0 158   0  56   0  16   0  57   0 135   0  53   0 156   0  69   0 158\n",
      "    0  56   0  85   0  16   0  72   0  56   0  46   0  16   0  81   0  83\n",
      "    0  16   0  55   0 156   0  72   0  56   0 102   0 112   0  68   0   4\n",
      "    0]]\n",
      "c_length:[181]\n"
     ]
    },
    {
     "name": "stderr",
     "output_type": "stream",
     "text": [
      "\u001b[0;93m2024-11-27 11:48:57.089848876 [W:onnxruntime:, execution_frame.cc:870 VerifyOutputSizes] Expected shape from model of {-1,192,169} does not match actual shape of {1,192,181} for output 643\u001b[m\n",
      "\u001b[0;93m2024-11-27 11:48:57.096236402 [W:onnxruntime:, execution_frame.cc:870 VerifyOutputSizes] Expected shape from model of {-1,1,169} does not match actual shape of {1,1,181} for output duration_rounded\u001b[m\n",
      "\u001b[0;93m2024-11-27 11:48:57.096298471 [W:onnxruntime:, execution_frame.cc:870 VerifyOutputSizes] Expected shape from model of {1,359} does not match actual shape of {1,464} for output x_masks\u001b[m\n",
      "\u001b[0;93m2024-11-27 11:48:57.116913911 [W:onnxruntime:, execution_frame.cc:870 VerifyOutputSizes] Expected shape from model of {1,192,359} does not match actual shape of {1,192,464} for output logsig_z\u001b[m\n",
      "\u001b[0;93m2024-11-27 11:48:57.117054137 [W:onnxruntime:, execution_frame.cc:870 VerifyOutputSizes] Expected shape from model of {1,192,359} does not match actual shape of {1,192,464} for output mu_z\u001b[m\n",
      "\u001b[0;93m2024-11-27 11:48:57.118665679 [W:onnxruntime:, execution_frame.cc:870 VerifyOutputSizes] Expected shape from model of {1,192,359} does not match actual shape of {1,192,464} for output z\u001b[m\n",
      " 45%|████████████████████████████████████████▉                                                   | 45/101 [00:30<00:40,  1.39it/s]"
     ]
    },
    {
     "name": "stdout",
     "output_type": "stream",
     "text": [
      "dt[s]: 0.6388795310631394\n",
      "RTF: 0.15542460869255592\n",
      "c:[[  0  72   0  68   0  16   0  62   0 156   0  43   0 102   0  55   0  16\n",
      "    0  58   0 156   0  72   0  61   0  62   0   3   0  16   0  50   0  43\n",
      "    0 135   0 156   0  86   0  64   0  85   0   3   0  16   0  81   0  51\n",
      "    0 158   0  68   0  16   0  55   0 156   0  72   0  46   0 147   0 102\n",
      "    0  61   0  62   0 123   0 157   0  47   0 102   0  62   0  61   0  16\n",
      "    0  55   0 157   0  47   0 102   0  46   0  16   0  56   0 156   0  57\n",
      "    0 135   0  16   0 156   0  86   0  48   0  85   0  62   0  16   0  72\n",
      "    0  62   0  16   0 123   0 177   0  48   0 156   0  76   0 158   0 123\n",
      "    0  55   0   4   0]]\n",
      "c_length:[149]\n"
     ]
    },
    {
     "name": "stderr",
     "output_type": "stream",
     "text": [
      "\u001b[0;93m2024-11-27 11:48:57.734200517 [W:onnxruntime:, execution_frame.cc:870 VerifyOutputSizes] Expected shape from model of {-1,192,169} does not match actual shape of {1,192,149} for output 643\u001b[m\n",
      "\u001b[0;93m2024-11-27 11:48:57.739603569 [W:onnxruntime:, execution_frame.cc:870 VerifyOutputSizes] Expected shape from model of {-1,1,169} does not match actual shape of {1,1,149} for output duration_rounded\u001b[m\n",
      "\u001b[0;93m2024-11-27 11:48:57.739663279 [W:onnxruntime:, execution_frame.cc:870 VerifyOutputSizes] Expected shape from model of {1,359} does not match actual shape of {1,410} for output x_masks\u001b[m\n",
      "\u001b[0;93m2024-11-27 11:48:57.758307894 [W:onnxruntime:, execution_frame.cc:870 VerifyOutputSizes] Expected shape from model of {1,192,359} does not match actual shape of {1,192,410} for output logsig_z\u001b[m\n",
      "\u001b[0;93m2024-11-27 11:48:57.758444374 [W:onnxruntime:, execution_frame.cc:870 VerifyOutputSizes] Expected shape from model of {1,192,359} does not match actual shape of {1,192,410} for output mu_z\u001b[m\n",
      "\u001b[0;93m2024-11-27 11:48:57.759894083 [W:onnxruntime:, execution_frame.cc:870 VerifyOutputSizes] Expected shape from model of {1,192,359} does not match actual shape of {1,192,410} for output z\u001b[m\n",
      " 46%|█████████████████████████████████████████▉                                                  | 46/101 [00:30<00:37,  1.47it/s]"
     ]
    },
    {
     "name": "stdout",
     "output_type": "stream",
     "text": [
      "dt[s]: 0.568823094945401\n",
      "RTF: 0.15542460869255592\n",
      "c:[[  0 102   0  62   0  16   0  65   0 138   0  68   0  16   0  70   0  92\n",
      "    0 156   0  86   0  56   0  61   0  62   0  16   0  53   0 156   0  69\n",
      "    0 158   0  55   0  83   0  56   0  16   0  61   0 156   0  86   0  56\n",
      "    0  61   0  16   0  62   0  83   0  16   0  62   0 131   0 156   0  69\n",
      "    0 158   0 123   0  46   0 147   0  16   0  50   0  87   0 158   0  16\n",
      "    0  65   0 102   0  81   0  16   0  55   0 156   0  87   0 158   0  46\n",
      "    0  85   0 123   0 102   0 112   0  16   0  81   0 102   0  16   0 156\n",
      "    0  57   0 135   0  56   0  54   0  51   0  16   0  48   0 123   0 156\n",
      "    0  86   0  56   0  46   0  16   0 131   0  51   0 158   0  16   0  50\n",
      "    0  72   0  46   0  16   0 102   0  56   0  81   0  83   0  16   0  65\n",
      "    0 156   0  87   0 158   0  54   0  46   0   1   0]]\n",
      "c_length:[193]\n"
     ]
    },
    {
     "name": "stderr",
     "output_type": "stream",
     "text": [
      "\u001b[0;93m2024-11-27 11:48:58.320023415 [W:onnxruntime:, execution_frame.cc:870 VerifyOutputSizes] Expected shape from model of {-1,192,169} does not match actual shape of {1,192,193} for output 643\u001b[m\n",
      "\u001b[0;93m2024-11-27 11:48:58.326521102 [W:onnxruntime:, execution_frame.cc:870 VerifyOutputSizes] Expected shape from model of {-1,1,169} does not match actual shape of {1,1,193} for output duration_rounded\u001b[m\n",
      "\u001b[0;93m2024-11-27 11:48:58.326579189 [W:onnxruntime:, execution_frame.cc:870 VerifyOutputSizes] Expected shape from model of {1,359} does not match actual shape of {1,436} for output x_masks\u001b[m\n",
      "\u001b[0;93m2024-11-27 11:48:58.346712486 [W:onnxruntime:, execution_frame.cc:870 VerifyOutputSizes] Expected shape from model of {1,192,359} does not match actual shape of {1,192,436} for output logsig_z\u001b[m\n",
      "\u001b[0;93m2024-11-27 11:48:58.346917433 [W:onnxruntime:, execution_frame.cc:870 VerifyOutputSizes] Expected shape from model of {1,192,359} does not match actual shape of {1,192,436} for output mu_z\u001b[m\n",
      "\u001b[0;93m2024-11-27 11:48:58.348441872 [W:onnxruntime:, execution_frame.cc:870 VerifyOutputSizes] Expected shape from model of {1,192,359} does not match actual shape of {1,192,436} for output z\u001b[m\n",
      " 47%|██████████████████████████████████████████▊                                                 | 47/101 [00:31<00:35,  1.52it/s]"
     ]
    },
    {
     "name": "stdout",
     "output_type": "stream",
     "text": [
      "dt[s]: 0.6002089916728437\n",
      "RTF: 0.15542460869255592\n",
      "c:[[  0  44   0 157   0 138   0  62   0  16   0  81   0 102   0  16   0  70\n",
      "    0  62   0 156   0  86   0  55   0  58   0  62   0  16   0  48   0 156\n",
      "    0  47   0 102   0  54   0  68   0   1   0  16   0  50   0  51   0 158\n",
      "    0  16   0  62   0 123   0 156   0  86   0  55   0  44   0  83   0  54\n",
      "    0  68   0   3   0  16   0  50   0 102   0  68   0  16   0  56   0 156\n",
      "    0  51   0 158   0  68   0  16   0  56   0 156   0  69   0 158   0  53\n",
      "    0  16   0  62   0  83   0  92   0 156   0  86   0  81   0  85   0   3\n",
      "    0  16   0  72   0  56   0  46   0  16   0  50   0 102   0  68   0  16\n",
      "    0  50   0 156   0  86   0  46   0  16   0  46   0 123   0 156   0  63\n",
      "    0 158   0  58   0  61   0  16   0  72   0  68   0  16   0  50   0  51\n",
      "    0 158   0  16   0 156   0  86   0  56   0  62   0  85   0  68   0  16\n",
      "    0  81   0  83   0  16   0  53   0  83   0  56   0  46   0 156   0  86\n",
      "    0  55   0  46   0  16   0  58   0  52   0 156   0  63   0 158   0   4\n",
      "    0]]\n",
      "c_length:[235]\n"
     ]
    },
    {
     "name": "stderr",
     "output_type": "stream",
     "text": [
      "\u001b[0;93m2024-11-27 11:48:58.929321994 [W:onnxruntime:, execution_frame.cc:870 VerifyOutputSizes] Expected shape from model of {-1,192,169} does not match actual shape of {1,192,235} for output 643\u001b[m\n",
      "\u001b[0;93m2024-11-27 11:48:58.937177047 [W:onnxruntime:, execution_frame.cc:870 VerifyOutputSizes] Expected shape from model of {-1,1,169} does not match actual shape of {1,1,235} for output duration_rounded\u001b[m\n",
      "\u001b[0;93m2024-11-27 11:48:58.937244063 [W:onnxruntime:, execution_frame.cc:870 VerifyOutputSizes] Expected shape from model of {1,359} does not match actual shape of {1,630} for output x_masks\u001b[m\n",
      "\u001b[0;93m2024-11-27 11:48:58.966501482 [W:onnxruntime:, execution_frame.cc:870 VerifyOutputSizes] Expected shape from model of {1,192,359} does not match actual shape of {1,192,630} for output logsig_z\u001b[m\n",
      "\u001b[0;93m2024-11-27 11:48:58.966645979 [W:onnxruntime:, execution_frame.cc:870 VerifyOutputSizes] Expected shape from model of {1,192,359} does not match actual shape of {1,192,630} for output mu_z\u001b[m\n",
      "\u001b[0;93m2024-11-27 11:48:58.968811173 [W:onnxruntime:, execution_frame.cc:870 VerifyOutputSizes] Expected shape from model of {1,192,359} does not match actual shape of {1,192,630} for output z\u001b[m\n",
      " 48%|███████████████████████████████████████████▋                                                | 48/101 [00:32<00:38,  1.38it/s]"
     ]
    },
    {
     "name": "stdout",
     "output_type": "stream",
     "text": [
      "dt[s]: 0.8789140819571912\n",
      "RTF: 0.15542460869255592\n",
      "c:[[  0  72   0  68   0  16   0  50   0  51   0 158   0  16   0  53   0 123\n",
      "    0 156   0  76   0  61   0  62   0  16   0  81   0 102   0  16   0 157\n",
      "    0 102   0  56   0  62   0  85   0  61   0 156   0  86   0  53   0 131\n",
      "    0  83   0  56   0  16   0  70   0  16   0  44   0  54   0 156   0  69\n",
      "    0 158   0  53   0  16   0 156   0  51   0 158   0  61   0  62   0  16\n",
      "    0 138   0  64   0  16   0  62   0 156   0  86   0  56   0 119   0  16\n",
      "    0  72   0  56   0  46   0  16   0  58   0 156   0  72   0 148   0  56\n",
      "    0 175   0   3   0  16   0  50   0  51   0 158   0  16   0  61   0 156\n",
      "    0  76   0 158   0  16   0  70   0  16   0  58   0  83   0  54   0 156\n",
      "    0  51   0 158   0  61   0  55   0  83   0  56   0  16   0  61   0  62\n",
      "    0 156   0  72   0  56   0  46   0 102   0 112   0  16   0  44   0  43\n",
      "    0 102   0  16   0  81   0  83   0  16   0  54   0 156   0  86   0  48\n",
      "    0  62   0  16   0  46   0 156   0  57   0 158   0 123   0  16   0 138\n",
      "    0  64   0  81   0  83   0  16   0  58   0  83   0  54   0 156   0  51\n",
      "    0 158   0  61   0  16   0  53   0 156   0  69   0 158   0 123   0  16\n",
      "    0  58   0 156   0  69   0 158   0 123   0  53   0  62   0  16   0  70\n",
      "    0  54   0 156   0  76   0 112   0  16   0  81   0  83   0  16   0  61\n",
      "    0 156   0  43   0 135   0 119   0  16   0  61   0 156   0  43   0 102\n",
      "    0  46   0  16   0 138   0  64   0  16   0  62   0 156   0  86   0  56\n",
      "    0 119   0   4   0]]\n",
      "c_length:[347]\n"
     ]
    },
    {
     "name": "stderr",
     "output_type": "stream",
     "text": [
      "\u001b[0;93m2024-11-27 11:48:59.819816248 [W:onnxruntime:, execution_frame.cc:870 VerifyOutputSizes] Expected shape from model of {-1,192,169} does not match actual shape of {1,192,347} for output 643\u001b[m\n",
      "\u001b[0;93m2024-11-27 11:48:59.830415052 [W:onnxruntime:, execution_frame.cc:870 VerifyOutputSizes] Expected shape from model of {-1,1,169} does not match actual shape of {1,1,347} for output duration_rounded\u001b[m\n",
      "\u001b[0;93m2024-11-27 11:48:59.830483359 [W:onnxruntime:, execution_frame.cc:870 VerifyOutputSizes] Expected shape from model of {1,359} does not match actual shape of {1,827} for output x_masks\u001b[m\n",
      "\u001b[0;93m2024-11-27 11:48:59.869777145 [W:onnxruntime:, execution_frame.cc:870 VerifyOutputSizes] Expected shape from model of {1,192,359} does not match actual shape of {1,192,827} for output logsig_z\u001b[m\n",
      "\u001b[0;93m2024-11-27 11:48:59.869976661 [W:onnxruntime:, execution_frame.cc:870 VerifyOutputSizes] Expected shape from model of {1,192,359} does not match actual shape of {1,192,827} for output mu_z\u001b[m\n",
      "\u001b[0;93m2024-11-27 11:48:59.872773971 [W:onnxruntime:, execution_frame.cc:870 VerifyOutputSizes] Expected shape from model of {1,192,359} does not match actual shape of {1,192,827} for output z\u001b[m\n",
      " 49%|████████████████████████████████████████████▋                                               | 49/101 [00:33<00:45,  1.15it/s]"
     ]
    },
    {
     "name": "stdout",
     "output_type": "stream",
     "text": [
      "dt[s]: 1.1977584091946483\n",
      "RTF: 0.15542460869255592\n",
      "c:[[  0  81   0  83   0  16   0  65   0 156   0  76   0 158   0 123   0  46\n",
      "    0  83   0  56   0  16   0 138   0  64   0  81   0  83   0  16   0  48\n",
      "    0  54   0 156   0  51   0 158   0  62   0  16   0  72   0  62   0  16\n",
      "    0  81   0  83   0  16   0  53   0  83   0  55   0 156   0  86   0  56\n",
      "    0  61   0  55   0  83   0  56   0  62   0  16   0 138   0  64   0  81\n",
      "    0 102   0  16   0 156   0  47   0 102   0  62   0  51   0 158   0  56\n",
      "    0 119   0  16   0  61   0 156   0  86   0  56   0  62   0 131   0  85\n",
      "    0 123   0  51   0   3   0  16   0  69   0 158   0 123   0  16   0  62\n",
      "    0 156   0  63   0 158   0  16   0  65   0 156   0  86   0  54   0  16\n",
      "    0  56   0 156   0  57   0 135   0  56   0  16   0  62   0  83   0  16\n",
      "    0  56   0 156   0  51   0 158   0  46   0  16   0  55   0 156   0  57\n",
      "    0 158   0 123   0  16   0  81   0 157   0  72   0  56   0  83   0  16\n",
      "    0  58   0 156   0  72   0  61   0 102   0 112   0  16   0 123   0 156\n",
      "    0  86   0  48   0 123   0  83   0  56   0  61   0   4   0]]\n",
      "c_length:[249]\n"
     ]
    },
    {
     "name": "stderr",
     "output_type": "stream",
     "text": [
      "\u001b[0;93m2024-11-27 11:49:01.023689651 [W:onnxruntime:, execution_frame.cc:870 VerifyOutputSizes] Expected shape from model of {-1,192,169} does not match actual shape of {1,192,249} for output 643\u001b[m\n",
      "\u001b[0;93m2024-11-27 11:49:01.031819758 [W:onnxruntime:, execution_frame.cc:870 VerifyOutputSizes] Expected shape from model of {-1,1,169} does not match actual shape of {1,1,249} for output duration_rounded\u001b[m\n",
      "\u001b[0;93m2024-11-27 11:49:01.031886490 [W:onnxruntime:, execution_frame.cc:870 VerifyOutputSizes] Expected shape from model of {1,359} does not match actual shape of {1,614} for output x_masks\u001b[m\n",
      "\u001b[0;93m2024-11-27 11:49:01.060567794 [W:onnxruntime:, execution_frame.cc:870 VerifyOutputSizes] Expected shape from model of {1,192,359} does not match actual shape of {1,192,614} for output logsig_z\u001b[m\n",
      "\u001b[0;93m2024-11-27 11:49:01.060712521 [W:onnxruntime:, execution_frame.cc:870 VerifyOutputSizes] Expected shape from model of {1,192,359} does not match actual shape of {1,192,614} for output mu_z\u001b[m\n",
      "\u001b[0;93m2024-11-27 11:49:01.062814698 [W:onnxruntime:, execution_frame.cc:870 VerifyOutputSizes] Expected shape from model of {1,192,359} does not match actual shape of {1,192,614} for output z\u001b[m\n",
      " 50%|█████████████████████████████████████████████▌                                              | 50/101 [00:34<00:44,  1.15it/s]"
     ]
    },
    {
     "name": "stdout",
     "output_type": "stream",
     "text": [
      "dt[s]: 0.8529533646069467\n",
      "RTF: 0.15542460869255592\n",
      "c:[[  0  50   0  51   0 158   0  16   0  46   0 156   0 102   0  61   0  62\n",
      "    0 123   0 102   0  44   0  52   0 157   0  63   0 158   0 125   0 177\n",
      "    0  46   0  16   0  54   0 156   0 102   0 125   0  85   0 123   0 177\n",
      "    0  62   0 131   0  85   0 123   0  16   0 102   0  56   0  16   0  46\n",
      "    0 156   0  43   0 135   0  56   0  62   0  43   0 135   0  56   0  16\n",
      "    0  56   0 156   0  63   0 158   0  16   0 156   0  76   0 158   0 123\n",
      "    0  54   0  51   0  83   0  56   0  68   0  16   0 157   0  76   0  56\n",
      "    0  16   0 156   0  76   0 158   0  92   0  83   0  61   0  62   0  16\n",
      "    0  56   0 156   0  43   0 102   0  56   0   3   0  16   0  56   0 156\n",
      "    0  43   0 102   0  56   0  62   0  51   0 158   0  56   0  16   0  61\n",
      "    0 156   0 102   0  53   0  61   0  62   0  51   0 119   0 123   0 156\n",
      "    0  51   0 158   0   3   0]]\n",
      "c_length:[205]\n"
     ]
    },
    {
     "name": "stderr",
     "output_type": "stream",
     "text": [
      "\u001b[0;93m2024-11-27 11:49:01.881909352 [W:onnxruntime:, execution_frame.cc:870 VerifyOutputSizes] Expected shape from model of {-1,192,169} does not match actual shape of {1,192,205} for output 643\u001b[m\n",
      "\u001b[0;93m2024-11-27 11:49:01.888845931 [W:onnxruntime:, execution_frame.cc:870 VerifyOutputSizes] Expected shape from model of {-1,1,169} does not match actual shape of {1,1,205} for output duration_rounded\u001b[m\n",
      "\u001b[0;93m2024-11-27 11:49:01.888901537 [W:onnxruntime:, execution_frame.cc:870 VerifyOutputSizes] Expected shape from model of {1,359} does not match actual shape of {1,507} for output x_masks\u001b[m\n",
      "\u001b[0;93m2024-11-27 11:49:01.912613885 [W:onnxruntime:, execution_frame.cc:870 VerifyOutputSizes] Expected shape from model of {1,192,359} does not match actual shape of {1,192,507} for output logsig_z\u001b[m\n",
      "\u001b[0;93m2024-11-27 11:49:01.912749395 [W:onnxruntime:, execution_frame.cc:870 VerifyOutputSizes] Expected shape from model of {1,192,359} does not match actual shape of {1,192,507} for output mu_z\u001b[m\n",
      "\u001b[0;93m2024-11-27 11:49:01.914509465 [W:onnxruntime:, execution_frame.cc:870 VerifyOutputSizes] Expected shape from model of {1,192,359} does not match actual shape of {1,192,507} for output z\u001b[m\n",
      " 50%|██████████████████████████████████████████████▍                                             | 51/101 [00:34<00:40,  1.22it/s]"
     ]
    },
    {
     "name": "stdout",
     "output_type": "stream",
     "text": [
      "dt[s]: 0.6979100238531828\n",
      "RTF: 0.15542460869255592\n",
      "c:[[  0  50   0 157   0  63   0 158   0  68   0  16   0  54   0 156   0  43\n",
      "    0 102   0  48   0  16   0  50   0  51   0 158   0  16   0  50   0  72\n",
      "    0  46   0  16   0 102   0  56   0 131   0 156   0 135   0 123   0  46\n",
      "    0  16   0  48   0  76   0 158   0 123   0  16   0 119   0 156   0  87\n",
      "    0 158   0  62   0  51   0 158   0  56   0  16   0 119   0 156   0  43\n",
      "    0 135   0  68   0  83   0  56   0  46   0  16   0  58   0 156   0  43\n",
      "    0 135   0  56   0  46   0  68   0   4   0]]\n",
      "c_length:[119]\n"
     ]
    },
    {
     "name": "stderr",
     "output_type": "stream",
     "text": [
      "\u001b[0;93m2024-11-27 11:49:02.584070071 [W:onnxruntime:, execution_frame.cc:870 VerifyOutputSizes] Expected shape from model of {-1,192,169} does not match actual shape of {1,192,119} for output 643\u001b[m\n",
      "\u001b[0;93m2024-11-27 11:49:02.588680676 [W:onnxruntime:, execution_frame.cc:870 VerifyOutputSizes] Expected shape from model of {-1,1,169} does not match actual shape of {1,1,119} for output duration_rounded\u001b[m\n",
      "\u001b[0;93m2024-11-27 11:49:02.588741883 [W:onnxruntime:, execution_frame.cc:870 VerifyOutputSizes] Expected shape from model of {1,359} does not match actual shape of {1,307} for output x_masks\u001b[m\n",
      "\u001b[0;93m2024-11-27 11:49:02.603199073 [W:onnxruntime:, execution_frame.cc:870 VerifyOutputSizes] Expected shape from model of {1,192,359} does not match actual shape of {1,192,307} for output logsig_z\u001b[m\n",
      "\u001b[0;93m2024-11-27 11:49:02.603303314 [W:onnxruntime:, execution_frame.cc:870 VerifyOutputSizes] Expected shape from model of {1,192,359} does not match actual shape of {1,192,307} for output mu_z\u001b[m\n",
      "\u001b[0;93m2024-11-27 11:49:02.604423395 [W:onnxruntime:, execution_frame.cc:870 VerifyOutputSizes] Expected shape from model of {1,192,359} does not match actual shape of {1,192,307} for output z\u001b[m\n",
      " 51%|███████████████████████████████████████████████▎                                            | 52/101 [00:35<00:34,  1.43it/s]"
     ]
    },
    {
     "name": "stdout",
     "output_type": "stream",
     "text": [
      "dt[s]: 0.4180333628319204\n",
      "RTF: 0.15542460869255592\n",
      "c:[[  0  81   0  51   0 158   0  68   0  16   0  58   0 123   0 156   0 102\n",
      "    0  56   0  62   0  61   0  16   0  65   0  87   0 158   0 123   0  16\n",
      "    0  86   0  92   0  68   0 156   0  72   0  55   0 102   0  56   0  46\n",
      "    0  16   0 157   0 102   0  56   0  46   0 177   0  58   0 156   0  86\n",
      "    0  56   0  46   0  83   0  56   0  62   0  54   0  51   0  16   0  44\n",
      "    0  43   0 102   0  16   0 123   0 156   0  69   0 158   0  56   0  83\n",
      "    0  54   0  46   0  16   0  46   0 147   0 156   0  51   0 158   0   4\n",
      "    0  16   0  65   0 156   0 102   0  62   0  55   0  83   0  61   0  16\n",
      "    0 138   0  64   0  81   0 102   0  16   0 157   0  86   0  48   0  44\n",
      "    0 157   0  51   0 158   0 156   0  43   0 102   0   3   0]]\n",
      "c_length:[177]\n"
     ]
    },
    {
     "name": "stderr",
     "output_type": "stream",
     "text": [
      "\u001b[0;93m2024-11-27 11:49:03.011245814 [W:onnxruntime:, execution_frame.cc:870 VerifyOutputSizes] Expected shape from model of {-1,192,169} does not match actual shape of {1,192,177} for output 643\u001b[m\n",
      "\u001b[0;93m2024-11-27 11:49:03.017100679 [W:onnxruntime:, execution_frame.cc:870 VerifyOutputSizes] Expected shape from model of {-1,1,169} does not match actual shape of {1,1,177} for output duration_rounded\u001b[m\n",
      "\u001b[0;93m2024-11-27 11:49:03.017159324 [W:onnxruntime:, execution_frame.cc:870 VerifyOutputSizes] Expected shape from model of {1,359} does not match actual shape of {1,441} for output x_masks\u001b[m\n",
      "\u001b[0;93m2024-11-27 11:49:03.037362678 [W:onnxruntime:, execution_frame.cc:870 VerifyOutputSizes] Expected shape from model of {1,192,359} does not match actual shape of {1,192,441} for output logsig_z\u001b[m\n",
      "\u001b[0;93m2024-11-27 11:49:03.037498042 [W:onnxruntime:, execution_frame.cc:870 VerifyOutputSizes] Expected shape from model of {1,192,359} does not match actual shape of {1,192,441} for output mu_z\u001b[m\n",
      "\u001b[0;93m2024-11-27 11:49:03.039046056 [W:onnxruntime:, execution_frame.cc:870 VerifyOutputSizes] Expected shape from model of {1,192,359} does not match actual shape of {1,192,441} for output z\u001b[m\n",
      " 52%|████████████████████████████████████████████████▎                                           | 53/101 [00:35<00:32,  1.48it/s]"
     ]
    },
    {
     "name": "stdout",
     "output_type": "stream",
     "text": [
      "dt[s]: 0.6055694771930575\n",
      "RTF: 0.15542460869255592\n",
      "c:[[  0  44   0  43   0 102   0  16   0  61   0  83   0  44   0 156   0  72\n",
      "    0  61   0  62   0 131   0  83   0  56   0  16   0 156   0  86   0  48\n",
      "    0   4   0  16   0  54   0  72   0  62   0 156   0  57   0 135   0  56\n",
      "    0  83   0   3   0  16   0  61   0 156   0  63   0 158   0  58   0  85\n",
      "    0  64   0 157   0  43   0 102   0  68   0  85   0 123   0  16   0 138\n",
      "    0  64   0  81   0  83   0  16   0  54   0 156   0  47   0 102   0  62\n",
      "    0  83   0  56   0  62   0  16   0  48   0 156   0 102   0 112   0  92\n",
      "    0  85   0  58   0 123   0 157   0 102   0  56   0  62   0  16   0  61\n",
      "    0 156   0  86   0  53   0 131   0  83   0  56   0  16   0 138   0  64\n",
      "    0  81   0 102   0  16   0 156   0  86   0  48   0  44   0 156   0  43\n",
      "    0 102   0  68   0  16   0  43   0 102   0  46   0 156   0  86   0  56\n",
      "    0  62   0 102   0  48   0 102   0  53   0 156   0  47   0 102   0 131\n",
      "    0  83   0  56   0  16   0  46   0 177   0  64   0 156   0 102   0 147\n",
      "    0  83   0  56   0   4   0]]\n",
      "c_length:[241]\n"
     ]
    },
    {
     "name": "stderr",
     "output_type": "stream",
     "text": [
      "\u001b[0;93m2024-11-27 11:49:03.626276966 [W:onnxruntime:, execution_frame.cc:870 VerifyOutputSizes] Expected shape from model of {-1,192,169} does not match actual shape of {1,192,241} for output 643\u001b[m\n",
      "\u001b[0;93m2024-11-27 11:49:03.634281872 [W:onnxruntime:, execution_frame.cc:870 VerifyOutputSizes] Expected shape from model of {-1,1,169} does not match actual shape of {1,1,241} for output duration_rounded\u001b[m\n",
      "\u001b[0;93m2024-11-27 11:49:03.634347542 [W:onnxruntime:, execution_frame.cc:870 VerifyOutputSizes] Expected shape from model of {1,359} does not match actual shape of {1,603} for output x_masks\u001b[m\n",
      "\u001b[0;93m2024-11-27 11:49:03.662419196 [W:onnxruntime:, execution_frame.cc:870 VerifyOutputSizes] Expected shape from model of {1,192,359} does not match actual shape of {1,192,603} for output logsig_z\u001b[m\n",
      "\u001b[0;93m2024-11-27 11:49:03.662559570 [W:onnxruntime:, execution_frame.cc:870 VerifyOutputSizes] Expected shape from model of {1,192,359} does not match actual shape of {1,192,603} for output mu_z\u001b[m\n",
      "\u001b[0;93m2024-11-27 11:49:03.664649821 [W:onnxruntime:, execution_frame.cc:870 VerifyOutputSizes] Expected shape from model of {1,192,359} does not match actual shape of {1,192,603} for output z\u001b[m\n",
      " 53%|█████████████████████████████████████████████████▏                                          | 54/101 [00:36<00:34,  1.37it/s]"
     ]
    },
    {
     "name": "stdout",
     "output_type": "stream",
     "text": [
      "dt[s]: 0.8489419240504503\n",
      "RTF: 0.15542460869255592\n",
      "c:[[  0  62   0  83   0  16   0  65   0 157   0 102   0  62   0 131   0  16\n",
      "    0  50   0  51   0 158   0  16   0  65   0 138   0  68   0  16   0 157\n",
      "    0 102   0  56   0  62   0 123   0  83   0  46   0 156   0  63   0 158\n",
      "    0  61   0  62   0  16   0  44   0  43   0 102   0  16   0  70   0  16\n",
      "    0  65   0 156   0  86   0  54   0  56   0 156   0  57   0 135   0  56\n",
      "    0  16   0  62   0 156   0  47   0 102   0  54   0  85   0 123   0  16\n",
      "    0 102   0  56   0  16   0  61   0 156   0  72   0  64   0 102   0  54\n",
      "    0  16   0 123   0 156   0  57   0 135   0   4   0]]\n",
      "c_length:[139]\n"
     ]
    },
    {
     "name": "stderr",
     "output_type": "stream",
     "text": [
      "\u001b[0;93m2024-11-27 11:49:04.477915114 [W:onnxruntime:, execution_frame.cc:870 VerifyOutputSizes] Expected shape from model of {-1,192,169} does not match actual shape of {1,192,139} for output 643\u001b[m\n",
      "\u001b[0;93m2024-11-27 11:49:04.482787479 [W:onnxruntime:, execution_frame.cc:870 VerifyOutputSizes] Expected shape from model of {-1,1,169} does not match actual shape of {1,1,139} for output duration_rounded\u001b[m\n",
      "\u001b[0;93m2024-11-27 11:49:04.482843304 [W:onnxruntime:, execution_frame.cc:870 VerifyOutputSizes] Expected shape from model of {1,359} does not match actual shape of {1,304} for output x_masks\u001b[m\n",
      "\u001b[0;93m2024-11-27 11:49:04.496543958 [W:onnxruntime:, execution_frame.cc:870 VerifyOutputSizes] Expected shape from model of {1,192,359} does not match actual shape of {1,192,304} for output logsig_z\u001b[m\n",
      "\u001b[0;93m2024-11-27 11:49:04.496645785 [W:onnxruntime:, execution_frame.cc:870 VerifyOutputSizes] Expected shape from model of {1,192,359} does not match actual shape of {1,192,304} for output mu_z\u001b[m\n",
      "\u001b[0;93m2024-11-27 11:49:04.497757146 [W:onnxruntime:, execution_frame.cc:870 VerifyOutputSizes] Expected shape from model of {1,192,359} does not match actual shape of {1,192,304} for output z\u001b[m\n",
      " 54%|██████████████████████████████████████████████████                                          | 55/101 [00:37<00:29,  1.57it/s]"
     ]
    },
    {
     "name": "stdout",
     "output_type": "stream",
     "text": [
      "dt[s]: 0.41526673175394535\n",
      "RTF: 0.15542460869255592\n",
      "c:[[  0  62   0 156   0  87   0 158   0  56   0  16   0  81   0  83   0  16\n",
      "    0  58   0 156   0  72   0  56   0  68   0  16   0  65   0 156   0 138\n",
      "    0  56   0  61   0  16   0  65   0 157   0  43   0 102   0  54   0  16\n",
      "    0  44   0 156   0  47   0 102   0  53   0 102   0 112   0   3   0  16\n",
      "    0  55   0 156   0  63   0 158   0  64   0 102   0 112   0  16   0  81\n",
      "    0 157   0  86   0  55   0  16   0  72   0  68   0  16   0  46   0 147\n",
      "    0 156   0  86   0  56   0  62   0  54   0  51   0  16   0  72   0  68\n",
      "    0  16   0  58   0 156   0  69   0 158   0  61   0 177   0  44   0  83\n",
      "    0  54   0   4   0]]\n",
      "c_length:[149]\n"
     ]
    },
    {
     "name": "stderr",
     "output_type": "stream",
     "text": [
      "\u001b[0;93m2024-11-27 11:49:04.899240034 [W:onnxruntime:, execution_frame.cc:870 VerifyOutputSizes] Expected shape from model of {-1,192,169} does not match actual shape of {1,192,149} for output 643\u001b[m\n",
      "\u001b[0;93m2024-11-27 11:49:04.904357884 [W:onnxruntime:, execution_frame.cc:870 VerifyOutputSizes] Expected shape from model of {-1,1,169} does not match actual shape of {1,1,149} for output duration_rounded\u001b[m\n",
      "\u001b[0;93m2024-11-27 11:49:04.904412869 [W:onnxruntime:, execution_frame.cc:870 VerifyOutputSizes] Expected shape from model of {1,359} does not match actual shape of {1,362} for output x_masks\u001b[m\n",
      "\u001b[0;93m2024-11-27 11:49:04.921053133 [W:onnxruntime:, execution_frame.cc:870 VerifyOutputSizes] Expected shape from model of {1,192,359} does not match actual shape of {1,192,362} for output logsig_z\u001b[m\n",
      "\u001b[0;93m2024-11-27 11:49:04.921174478 [W:onnxruntime:, execution_frame.cc:870 VerifyOutputSizes] Expected shape from model of {1,192,359} does not match actual shape of {1,192,362} for output mu_z\u001b[m\n",
      "\u001b[0;93m2024-11-27 11:49:04.922464182 [W:onnxruntime:, execution_frame.cc:870 VerifyOutputSizes] Expected shape from model of {1,192,359} does not match actual shape of {1,192,362} for output z\u001b[m\n",
      " 55%|███████████████████████████████████████████████████                                         | 56/101 [00:37<00:26,  1.67it/s]"
     ]
    },
    {
     "name": "stdout",
     "output_type": "stream",
     "text": [
      "dt[s]: 0.502277169842273\n",
      "RTF: 0.15542460869255592\n",
      "c:[[  0  81   0 102   0  16   0 156   0  87   0 158   0  54   0 102   0 102\n",
      "    0  61   0  62   0  16   0  44   0 156   0 135   0  53   0  16   0  58\n",
      "    0 123   0 156   0 102   0  56   0  62   0 177   0  46   0  16   0  65\n",
      "    0 102   0  81   0  16   0  55   0 156   0  63   0 158   0  64   0  83\n",
      "    0  44   0  83   0  54   0  16   0  62   0 156   0  43   0 102   0  58\n",
      "    0  61   0   3   0  16   0  81   0  83   0  16   0  92   0  52   0 156\n",
      "    0  63   0 158   0  62   0  83   0  56   0  44   0 157   0  87   0 158\n",
      "    0  92   0   3   0  16   0 156   0  76   0 158   0 123   0  16   0  11\n",
      "    0  48   0 156   0  76   0 158   0 123   0 125   0  51   0  62   0 156\n",
      "    0  63   0 158   0  16   0  54   0 156   0  43   0 102   0  56   0  16\n",
      "    0  44   0 156   0  43   0 102   0  44   0  83   0  54   0  11   0  16\n",
      "    0 138   0  64   0  16   0  70   0  44   0 157   0  43   0 135   0  62\n",
      "    0  16   0  48   0 156   0  57   0 158   0 123   0  62   0  51   0 158\n",
      "    0  56   0  16   0  48   0 156   0 102   0  48   0  62   0  51   0  48\n",
      "    0 156   0  43   0 102   0  64   0   3   0]]\n",
      "c_length:[263]\n"
     ]
    },
    {
     "name": "stderr",
     "output_type": "stream",
     "text": [
      "\u001b[0;93m2024-11-27 11:49:05.412370938 [W:onnxruntime:, execution_frame.cc:870 VerifyOutputSizes] Expected shape from model of {-1,192,169} does not match actual shape of {1,192,263} for output 643\u001b[m\n",
      "\u001b[0;93m2024-11-27 11:49:05.420575030 [W:onnxruntime:, execution_frame.cc:870 VerifyOutputSizes] Expected shape from model of {-1,1,169} does not match actual shape of {1,1,263} for output duration_rounded\u001b[m\n",
      "\u001b[0;93m2024-11-27 11:49:05.420635073 [W:onnxruntime:, execution_frame.cc:870 VerifyOutputSizes] Expected shape from model of {1,359} does not match actual shape of {1,644} for output x_masks\u001b[m\n",
      "\u001b[0;93m2024-11-27 11:49:05.450839586 [W:onnxruntime:, execution_frame.cc:870 VerifyOutputSizes] Expected shape from model of {1,192,359} does not match actual shape of {1,192,644} for output logsig_z\u001b[m\n",
      "\u001b[0;93m2024-11-27 11:49:05.450991054 [W:onnxruntime:, execution_frame.cc:870 VerifyOutputSizes] Expected shape from model of {1,192,359} does not match actual shape of {1,192,644} for output mu_z\u001b[m\n",
      "\u001b[0;93m2024-11-27 11:49:05.453206864 [W:onnxruntime:, execution_frame.cc:870 VerifyOutputSizes] Expected shape from model of {1,192,359} does not match actual shape of {1,192,644} for output z\u001b[m\n",
      " 56%|███████████████████████████████████████████████████▉                                        | 57/101 [00:38<00:30,  1.45it/s]"
     ]
    },
    {
     "name": "stdout",
     "output_type": "stream",
     "text": [
      "dt[s]: 0.8937127329409122\n",
      "RTF: 0.15542460869255592\n",
      "c:[[  0 102   0  56   0  61   0  62   0 123   0 156   0 138   0  53   0  62\n",
      "    0  16   0  81   0  83   0  16   0  58   0 123   0 156   0 102   0  68\n",
      "    0  83   0  56   0  85   0  68   0   3   0  16   0  53   0  65   0 156\n",
      "    0  57   0 135   0  62   0   3   0  16   0  92   0 156   0 102   0  64\n",
      "    0  16   0  61   0  58   0 156   0 102   0 123   0 102   0  62   0 131\n",
      "    0 157   0  63   0 158   0  83   0  54   0  16   0  70   0  46   0  64\n",
      "    0 156   0  43   0 102   0  61   0  16   0  72   0  56   0  46   0  16\n",
      "    0  70   0  46   0  55   0 156   0 102   0  56   0 102   0  61   0  62\n",
      "    0  85   0  16   0 123   0 177   0  54   0 156   0 102   0  46   0 147\n",
      "    0  83   0  61   0  16   0  53   0  69   0 158   0  56   0  61   0  83\n",
      "    0  54   0 156   0  47   0 102   0 131   0  83   0  56   0   3   0  16\n",
      "    0 156   0  86   0  56   0  46   0  16   0  53   0  65   0 156   0  57\n",
      "    0 135   0  62   0   4   0  16   0  62   0 135   0  16   0 156   0  76\n",
      "    0 158   0  54   0  16   0  50   0 157   0  63   0 158   0  16   0  55\n",
      "    0 157   0  43   0 102   0  62   0  16   0  56   0 156   0  51   0 158\n",
      "    0  46   0  16   0  81   0 157   0  86   0  55   0   1   0]]\n",
      "c_length:[285]\n"
     ]
    },
    {
     "name": "stderr",
     "output_type": "stream",
     "text": [
      "\u001b[0;93m2024-11-27 11:49:06.314725651 [W:onnxruntime:, execution_frame.cc:870 VerifyOutputSizes] Expected shape from model of {-1,192,169} does not match actual shape of {1,192,285} for output 643\u001b[m\n",
      "\u001b[0;93m2024-11-27 11:49:06.323329082 [W:onnxruntime:, execution_frame.cc:870 VerifyOutputSizes] Expected shape from model of {-1,1,169} does not match actual shape of {1,1,285} for output duration_rounded\u001b[m\n",
      "\u001b[0;93m2024-11-27 11:49:06.323387338 [W:onnxruntime:, execution_frame.cc:870 VerifyOutputSizes] Expected shape from model of {1,359} does not match actual shape of {1,723} for output x_masks\u001b[m\n",
      "\u001b[0;93m2024-11-27 11:49:06.357539279 [W:onnxruntime:, execution_frame.cc:870 VerifyOutputSizes] Expected shape from model of {1,192,359} does not match actual shape of {1,192,723} for output logsig_z\u001b[m\n",
      "\u001b[0;93m2024-11-27 11:49:06.357703253 [W:onnxruntime:, execution_frame.cc:870 VerifyOutputSizes] Expected shape from model of {1,192,359} does not match actual shape of {1,192,723} for output mu_z\u001b[m\n",
      "\u001b[0;93m2024-11-27 11:49:06.360165292 [W:onnxruntime:, execution_frame.cc:870 VerifyOutputSizes] Expected shape from model of {1,192,359} does not match actual shape of {1,192,723} for output z\u001b[m\n",
      " 57%|████████████████████████████████████████████████████▊                                       | 58/101 [00:39<00:34,  1.26it/s]"
     ]
    },
    {
     "name": "stdout",
     "output_type": "stream",
     "text": [
      "dt[s]: 1.0347439902834594\n",
      "RTF: 0.15542460869255592\n",
      "c:[[  0 102   0  56   0  16   0  46   0 156   0  43   0 102   0  83   0  62\n",
      "    0  85   0 123   0  51   0  68   0   3   0  16   0  70   0  92   0 156\n",
      "    0  86   0  56   0   3   0  16   0  81   0  83   0  16   0  61   0 156\n",
      "    0  47   0 102   0  55   0  16   0  65   0 156   0  43   0 102   0  46\n",
      "    0  16   0  46   0  43   0 102   0  64   0 156   0  87   0 158   0  61\n",
      "    0 177   0 125   0  51   0  16   0 138   0  64   0  16   0  58   0 123\n",
      "    0 156   0  72   0  53   0  62   0 102   0  61   0  16   0  83   0  44\n",
      "    0  62   0 156   0  47   0 102   0  56   0  46   0   4   0]]\n",
      "c_length:[141]\n"
     ]
    },
    {
     "name": "stderr",
     "output_type": "stream",
     "text": [
      "\u001b[0;93m2024-11-27 11:49:07.355254559 [W:onnxruntime:, execution_frame.cc:870 VerifyOutputSizes] Expected shape from model of {-1,192,169} does not match actual shape of {1,192,141} for output 643\u001b[m\n",
      "\u001b[0;93m2024-11-27 11:49:07.361167144 [W:onnxruntime:, execution_frame.cc:870 VerifyOutputSizes] Expected shape from model of {-1,1,169} does not match actual shape of {1,1,141} for output duration_rounded\u001b[m\n",
      "\u001b[0;93m2024-11-27 11:49:07.361242606 [W:onnxruntime:, execution_frame.cc:870 VerifyOutputSizes] Expected shape from model of {1,359} does not match actual shape of {1,401} for output x_masks\u001b[m\n",
      "\u001b[0;93m2024-11-27 11:49:07.381926294 [W:onnxruntime:, execution_frame.cc:870 VerifyOutputSizes] Expected shape from model of {1,192,359} does not match actual shape of {1,192,401} for output logsig_z\u001b[m\n",
      "\u001b[0;93m2024-11-27 11:49:07.382225311 [W:onnxruntime:, execution_frame.cc:870 VerifyOutputSizes] Expected shape from model of {1,192,359} does not match actual shape of {1,192,401} for output mu_z\u001b[m\n",
      "\u001b[0;93m2024-11-27 11:49:07.383636520 [W:onnxruntime:, execution_frame.cc:870 VerifyOutputSizes] Expected shape from model of {1,192,359} does not match actual shape of {1,192,401} for output z\u001b[m\n",
      " 58%|█████████████████████████████████████████████████████▋                                      | 59/101 [00:40<00:30,  1.38it/s]"
     ]
    },
    {
     "name": "stdout",
     "output_type": "stream",
     "text": [
      "dt[s]: 0.5604253620840609\n",
      "RTF: 0.15542460869255592\n",
      "c:[[  0 102   0  56   0  81   0 102   0  16   0 156   0  72   0  44   0  61\n",
      "    0  83   0  56   0  61   0  16   0 138   0  64   0  16   0  64   0 156\n",
      "    0  86   0 123   0  51   0  16   0  46   0 156   0  86   0  48   0 102\n",
      "    0  56   0  83   0  62   0  16   0  56   0 156   0  86   0  92   0  83\n",
      "    0  62   0 157   0 102   0  64   0  16   0 156   0  86   0  64   0 102\n",
      "    0  46   0  83   0  56   0  61   0   3   0  16   0 156   0  43   0 102\n",
      "    0  16   0 119   0 156   0 102   0 112   0  53   0  16   0 102   0 125\n",
      "    0  16   0 102   0  68   0  16   0  58   0  85   0  55   0 156   0 102\n",
      "    0  61   0 177   0  44   0  83   0  54   0  16   0  62   0  83   0  16\n",
      "    0  61   0 156   0  47   0 102   0  16   0  81   0  72   0  62   0  16\n",
      "    0 102   0  56   0  16   0  70   0  56   0  16   0  86   0  92   0  68\n",
      "    0 156   0 102   0  44   0 102   0  62   0  16   0  61   0 156   0 138\n",
      "    0  62   0 131   0  16   0  70   0  68   0  16   0  48   0 156   0  43\n",
      "    0 102   0  64   0  16   0  61   0 156   0  86   0  64   0  83   0  56\n",
      "    0  16   0 119   0 123   0 156   0  51   0 158   0]]\n",
      "c_length:[265]\n"
     ]
    },
    {
     "name": "stderr",
     "output_type": "stream",
     "text": [
      "\u001b[0;93m2024-11-27 11:49:07.925469620 [W:onnxruntime:, execution_frame.cc:870 VerifyOutputSizes] Expected shape from model of {-1,192,169} does not match actual shape of {1,192,265} for output 643\u001b[m\n",
      "\u001b[0;93m2024-11-27 11:49:07.933702391 [W:onnxruntime:, execution_frame.cc:870 VerifyOutputSizes] Expected shape from model of {-1,1,169} does not match actual shape of {1,1,265} for output duration_rounded\u001b[m\n",
      "\u001b[0;93m2024-11-27 11:49:07.933765470 [W:onnxruntime:, execution_frame.cc:870 VerifyOutputSizes] Expected shape from model of {1,359} does not match actual shape of {1,664} for output x_masks\u001b[m\n",
      "\u001b[0;93m2024-11-27 11:49:07.964880512 [W:onnxruntime:, execution_frame.cc:870 VerifyOutputSizes] Expected shape from model of {1,192,359} does not match actual shape of {1,192,664} for output logsig_z\u001b[m\n",
      "\u001b[0;93m2024-11-27 11:49:07.965032058 [W:onnxruntime:, execution_frame.cc:870 VerifyOutputSizes] Expected shape from model of {1,192,359} does not match actual shape of {1,192,664} for output mu_z\u001b[m\n",
      "\u001b[0;93m2024-11-27 11:49:07.967298854 [W:onnxruntime:, execution_frame.cc:870 VerifyOutputSizes] Expected shape from model of {1,192,359} does not match actual shape of {1,192,664} for output z\u001b[m\n",
      " 59%|██████████████████████████████████████████████████████▋                                     | 60/101 [00:41<00:32,  1.26it/s]"
     ]
    },
    {
     "name": "stdout",
     "output_type": "stream",
     "text": [
      "dt[s]: 0.9294922929257154\n",
      "RTF: 0.15542460869255592\n",
      "c:[[  0  81   0  83   0  16   0  62   0 156   0  86   0  61   0  62   0 177\n",
      "    0  55   0  83   0  56   0  51   0  16   0 138   0  64   0  81   0 102\n",
      "    0  16   0 156   0  69   0 158   0  48   0 102   0  61   0  85   0  68\n",
      "    0  16   0  58   0 123   0 156   0  86   0  68   0  83   0  56   0  62\n",
      "    0  16   0 156   0 102   0  56   0  46   0 177   0  53   0 157   0  47\n",
      "    0 102   0  62   0  61   0  16   0  81   0  72   0  62   0  16   0  50\n",
      "    0  51   0 158   0  16   0  50   0 156   0  72   0  56   0  46   0  83\n",
      "    0  54   0  46   0  16   0  50   0 102   0  55   0  61   0 156   0  86\n",
      "    0  54   0  48   0  16   0  65   0 102   0  81   0  16   0  53   0  83\n",
      "    0  56   0  61   0 156   0 102   0  46   0  85   0 123   0  83   0  44\n",
      "    0  83   0  54   0  16   0  53   0  83   0  55   0  58   0 156   0  57\n",
      "    0 135   0 147   0  85   0  16   0  46   0 156   0 135   0 123   0 123\n",
      "    0 102   0 112   0  16   0  50   0 102   0  68   0  16   0  53   0  65\n",
      "    0 156   0  86   0  61   0  62   0 131   0  83   0  56   0 102   0 112\n",
      "    0   4   0]]\n",
      "c_length:[255]\n"
     ]
    },
    {
     "name": "stderr",
     "output_type": "stream",
     "text": [
      "\u001b[0;93m2024-11-27 11:49:08.869710859 [W:onnxruntime:, execution_frame.cc:870 VerifyOutputSizes] Expected shape from model of {-1,192,169} does not match actual shape of {1,192,255} for output 643\u001b[m\n",
      "\u001b[0;93m2024-11-27 11:49:08.877669630 [W:onnxruntime:, execution_frame.cc:870 VerifyOutputSizes] Expected shape from model of {-1,1,169} does not match actual shape of {1,1,255} for output duration_rounded\u001b[m\n",
      "\u001b[0;93m2024-11-27 11:49:08.877729939 [W:onnxruntime:, execution_frame.cc:870 VerifyOutputSizes] Expected shape from model of {1,359} does not match actual shape of {1,601} for output x_masks\u001b[m\n",
      "\u001b[0;93m2024-11-27 11:49:08.905846848 [W:onnxruntime:, execution_frame.cc:870 VerifyOutputSizes] Expected shape from model of {1,192,359} does not match actual shape of {1,192,601} for output logsig_z\u001b[m\n",
      "\u001b[0;93m2024-11-27 11:49:08.905989450 [W:onnxruntime:, execution_frame.cc:870 VerifyOutputSizes] Expected shape from model of {1,192,359} does not match actual shape of {1,192,601} for output mu_z\u001b[m\n",
      "\u001b[0;93m2024-11-27 11:49:08.908060800 [W:onnxruntime:, execution_frame.cc:870 VerifyOutputSizes] Expected shape from model of {1,192,359} does not match actual shape of {1,192,601} for output z\u001b[m\n",
      " 60%|███████████████████████████████████████████████████████▌                                    | 61/101 [00:42<00:32,  1.24it/s]"
     ]
    },
    {
     "name": "stdout",
     "output_type": "stream",
     "text": [
      "dt[s]: 0.8345358707010746\n",
      "RTF: 0.15542460869255592\n",
      "c:[[  0  48   0 156   0  43   0 102   0  85   0 123   0  69   0 158   0 123\n",
      "    0  55   0  68   0  16   0  43   0 102   0  46   0 156   0  86   0  56\n",
      "    0  62   0 102   0  48   0 102   0  53   0 156   0  47   0 102   0 131\n",
      "    0  83   0  56   0   4   0]]\n",
      "c_length:[61]\n"
     ]
    },
    {
     "name": "stderr",
     "output_type": "stream",
     "text": [
      "\u001b[0;93m2024-11-27 11:49:09.703796989 [W:onnxruntime:, execution_frame.cc:870 VerifyOutputSizes] Expected shape from model of {-1,192,169} does not match actual shape of {1,192,61} for output 643\u001b[m\n",
      "\u001b[0;93m2024-11-27 11:49:09.706606952 [W:onnxruntime:, execution_frame.cc:870 VerifyOutputSizes] Expected shape from model of {-1,1,169} does not match actual shape of {1,1,61} for output duration_rounded\u001b[m\n",
      "\u001b[0;93m2024-11-27 11:49:09.706659942 [W:onnxruntime:, execution_frame.cc:870 VerifyOutputSizes] Expected shape from model of {1,359} does not match actual shape of {1,163} for output x_masks\u001b[m\n",
      "\u001b[0;93m2024-11-27 11:49:09.715187782 [W:onnxruntime:, execution_frame.cc:870 VerifyOutputSizes] Expected shape from model of {1,192,359} does not match actual shape of {1,192,163} for output logsig_z\u001b[m\n",
      "\u001b[0;93m2024-11-27 11:49:09.715238123 [W:onnxruntime:, execution_frame.cc:870 VerifyOutputSizes] Expected shape from model of {1,192,359} does not match actual shape of {1,192,163} for output mu_z\u001b[m\n",
      "\u001b[0;93m2024-11-27 11:49:09.715927202 [W:onnxruntime:, execution_frame.cc:870 VerifyOutputSizes] Expected shape from model of {1,192,359} does not match actual shape of {1,192,163} for output z\u001b[m\n",
      " 61%|████████████████████████████████████████████████████████▍                                   | 62/101 [00:42<00:24,  1.57it/s]"
     ]
    },
    {
     "name": "stdout",
     "output_type": "stream",
     "text": [
      "dt[s]: 0.22800300316885114\n",
      "RTF: 0.15542460869255592\n",
      "c:[[  0 102   0  56   0  81   0  83   0  16   0  55   0 156   0 138   0  56\n",
      "    0 119   0  16   0  62   0 156   0  72   0  55   0 138   0  68   0   3\n",
      "    0  16   0  65   0 157   0  86   0  56   0  16   0  61   0 156   0  43\n",
      "    0 102   0 123   0  83   0  61   0  16   0  48   0 156   0  76   0 158\n",
      "    0  62   0  16   0  81   0  83   0  16   0  62   0 123   0 156   0  63\n",
      "    0 158   0  58   0  61   0  16   0 138   0  64   0  16   0 156   0  72\n",
      "    0  53   0  72   0  46   0  16   0  44   0 157   0  72   0  44   0 102\n",
      "    0  54   0 156   0  57   0 135   0  56   0  51   0  83   0  16   0  72\n",
      "    0 125   0  16   0 156   0  57   0 135   0  58   0  51   0  68   0  16\n",
      "    0  76   0  56   0  81   0  83   0  16   0 123   0 156   0 102   0  64\n",
      "    0  85   0  16   0  61   0 156   0  72   0  54   0  61   0  70   0  54\n",
      "    0 157   0  72   0  62   0   3   0]]\n",
      "c_length:[207]\n"
     ]
    },
    {
     "name": "stderr",
     "output_type": "stream",
     "text": [
      "\u001b[0;93m2024-11-27 11:49:09.943425244 [W:onnxruntime:, execution_frame.cc:870 VerifyOutputSizes] Expected shape from model of {-1,192,169} does not match actual shape of {1,192,207} for output 643\u001b[m\n",
      "\u001b[0;93m2024-11-27 11:49:09.950644218 [W:onnxruntime:, execution_frame.cc:870 VerifyOutputSizes] Expected shape from model of {-1,1,169} does not match actual shape of {1,1,207} for output duration_rounded\u001b[m\n",
      "\u001b[0;93m2024-11-27 11:49:09.950703321 [W:onnxruntime:, execution_frame.cc:870 VerifyOutputSizes] Expected shape from model of {1,359} does not match actual shape of {1,533} for output x_masks\u001b[m\n",
      "\u001b[0;93m2024-11-27 11:49:09.975882378 [W:onnxruntime:, execution_frame.cc:870 VerifyOutputSizes] Expected shape from model of {1,192,359} does not match actual shape of {1,192,533} for output logsig_z\u001b[m\n",
      "\u001b[0;93m2024-11-27 11:49:09.976075439 [W:onnxruntime:, execution_frame.cc:870 VerifyOutputSizes] Expected shape from model of {1,192,359} does not match actual shape of {1,192,533} for output mu_z\u001b[m\n",
      "\u001b[0;93m2024-11-27 11:49:09.977916895 [W:onnxruntime:, execution_frame.cc:870 VerifyOutputSizes] Expected shape from model of {1,192,359} does not match actual shape of {1,192,533} for output z\u001b[m\n",
      " 62%|█████████████████████████████████████████████████████████▍                                  | 63/101 [00:42<00:25,  1.50it/s]"
     ]
    },
    {
     "name": "stdout",
     "output_type": "stream",
     "text": [
      "dt[s]: 0.7334960401058197\n",
      "RTF: 0.15542460869255592\n",
      "c:[[  0 102   0  56   0  81   0  83   0  16   0  65   0 156   0  86   0  61\n",
      "    0  62   0  16   0 156   0  86   0  56   0  46   0  16   0  50   0  51\n",
      "    0 158   0  16   0  65   0 138   0  68   0  70   0  16   0  55   0 156\n",
      "    0  72   0  56   0  16   0 138   0  64   0  16   0  48   0 156   0  72\n",
      "    0 131   0  83   0  56   0   3   0  16   0  65   0 102   0  81   0  16\n",
      "    0  70   0  16   0  62   0 156   0  43   0 135   0  56   0  16   0  50\n",
      "    0 156   0  43   0 135   0  61   0   3   0  16   0  70   0  16   0  50\n",
      "    0 156   0  43   0 135   0  61   0  16   0  72   0  62   0  16   0  44\n",
      "    0 123   0 156   0  43   0 102   0  62   0  83   0  56   0   3   0  16\n",
      "    0  72   0  56   0  46   0  16   0  70   0  16   0  61   0 156   0  86\n",
      "    0  54   0  85   0  16   0  48   0 156   0 135   0  54   0  16   0 138\n",
      "    0  64   0  16   0  92   0 156   0 135   0  46   0  16   0  65   0 156\n",
      "    0  43   0 102   0  56   0  16   0  72   0  62   0  16   0  44   0 156\n",
      "    0  57   0 135   0 119   0   4   0]]\n",
      "c_length:[243]\n"
     ]
    },
    {
     "name": "stderr",
     "output_type": "stream",
     "text": [
      "\u001b[0;93m2024-11-27 11:49:10.686925370 [W:onnxruntime:, execution_frame.cc:870 VerifyOutputSizes] Expected shape from model of {-1,192,169} does not match actual shape of {1,192,243} for output 643\u001b[m\n",
      "\u001b[0;93m2024-11-27 11:49:10.694699896 [W:onnxruntime:, execution_frame.cc:870 VerifyOutputSizes] Expected shape from model of {-1,1,169} does not match actual shape of {1,1,243} for output duration_rounded\u001b[m\n",
      "\u001b[0;93m2024-11-27 11:49:10.694763859 [W:onnxruntime:, execution_frame.cc:870 VerifyOutputSizes] Expected shape from model of {1,359} does not match actual shape of {1,629} for output x_masks\u001b[m\n",
      "\u001b[0;93m2024-11-27 11:49:10.724200132 [W:onnxruntime:, execution_frame.cc:870 VerifyOutputSizes] Expected shape from model of {1,192,359} does not match actual shape of {1,192,629} for output logsig_z\u001b[m\n",
      "\u001b[0;93m2024-11-27 11:49:10.724344997 [W:onnxruntime:, execution_frame.cc:870 VerifyOutputSizes] Expected shape from model of {1,192,359} does not match actual shape of {1,192,629} for output mu_z\u001b[m\n",
      "\u001b[0;93m2024-11-27 11:49:10.726497566 [W:onnxruntime:, execution_frame.cc:870 VerifyOutputSizes] Expected shape from model of {1,192,359} does not match actual shape of {1,192,629} for output z\u001b[m\n",
      " 63%|██████████████████████████████████████████████████████████▎                                 | 64/101 [00:43<00:27,  1.37it/s]"
     ]
    },
    {
     "name": "stdout",
     "output_type": "stream",
     "text": [
      "dt[s]: 0.8772485968656838\n",
      "RTF: 0.15542460869255592\n",
      "c:[[  0  70   0  55   0 157   0 138   0 112   0  16   0 156   0 138   0  81\n",
      "    0  85   0  16   0  62   0 156   0  86   0  61   0  62   0  61   0   3\n",
      "    0  16   0  81   0  83   0  16   0  58   0 156   0  47   0 102   0  58\n",
      "    0  85   0  16   0  72   0  56   0  46   0  16   0  62   0 156   0  47\n",
      "    0 102   0  58   0  16   0  65   0  87   0 158   0  16   0  61   0  83\n",
      "    0  44   0  55   0 156   0 102   0 125   0 177   0  46   0  16   0  62\n",
      "    0  83   0  16   0  48   0 156   0  43   0 102   0  44   0  85   0 123\n",
      "    0  16   0  70   0  56   0 156   0  72   0  54   0  83   0  61   0 157\n",
      "    0 102   0  61   0  16   0  72   0  56   0  46   0  16   0  61   0  58\n",
      "    0 157   0  86   0  53   0  62   0 123   0  83   0  92   0 123   0 156\n",
      "    0  72   0  48   0 102   0  53   0  16   0  86   0  92   0  68   0 157\n",
      "    0  72   0  55   0 177   0  56   0 156   0  47   0 102   0 131   0  83\n",
      "    0  56   0   4   0]]\n",
      "c_length:[221]\n"
     ]
    },
    {
     "name": "stderr",
     "output_type": "stream",
     "text": [
      "\u001b[0;93m2024-11-27 11:49:11.570493480 [W:onnxruntime:, execution_frame.cc:870 VerifyOutputSizes] Expected shape from model of {-1,192,169} does not match actual shape of {1,192,221} for output 643\u001b[m\n",
      "\u001b[0;93m2024-11-27 11:49:11.577949699 [W:onnxruntime:, execution_frame.cc:870 VerifyOutputSizes] Expected shape from model of {-1,1,169} does not match actual shape of {1,1,221} for output duration_rounded\u001b[m\n",
      "\u001b[0;93m2024-11-27 11:49:11.578013244 [W:onnxruntime:, execution_frame.cc:870 VerifyOutputSizes] Expected shape from model of {1,359} does not match actual shape of {1,555} for output x_masks\u001b[m\n",
      "\u001b[0;93m2024-11-27 11:49:11.604198608 [W:onnxruntime:, execution_frame.cc:870 VerifyOutputSizes] Expected shape from model of {1,192,359} does not match actual shape of {1,192,555} for output logsig_z\u001b[m\n",
      "\u001b[0;93m2024-11-27 11:49:11.604350714 [W:onnxruntime:, execution_frame.cc:870 VerifyOutputSizes] Expected shape from model of {1,192,359} does not match actual shape of {1,192,555} for output mu_z\u001b[m\n",
      "\u001b[0;93m2024-11-27 11:49:11.606277870 [W:onnxruntime:, execution_frame.cc:870 VerifyOutputSizes] Expected shape from model of {1,192,359} does not match actual shape of {1,192,555} for output z\u001b[m\n",
      " 64%|███████████████████████████████████████████████████████████▏                                | 65/101 [00:44<00:26,  1.34it/s]"
     ]
    },
    {
     "name": "stdout",
     "output_type": "stream",
     "text": [
      "dt[s]: 0.7694070967845619\n",
      "RTF: 0.15542460869255592\n",
      "c:[[  0  72   0  68   0  16   0 156   0  69   0 158   0  61   0  65   0  83\n",
      "    0  54   0  46   0  16   0 123   0 156   0  72   0  56   0  16   0  61\n",
      "    0 156   0  43   0 135   0 119   0  16   0 157   0  76   0  56   0  16\n",
      "    0  58   0 156   0  72   0 148   0  56   0 175   0  16   0 156   0  72\n",
      "    0  64   0  83   0  56   0 157   0  63   0 158   0  16   0  62   0  83\n",
      "    0  65   0 156   0  76   0 158   0 123   0  46   0  16   0  46   0 147\n",
      "    0 156   0  86   0  48   0  85   0  61   0  83   0  56   0  16   0  44\n",
      "    0 156   0  63   0 158   0  54   0 102   0  64   0 157   0  69   0 158\n",
      "    0 123   0  46   0  16   0  50   0  51   0 158   0  16   0  65   0 138\n",
      "    0  68   0  16   0  55   0 156   0  63   0 158   0  64   0 102   0 112\n",
      "    0  16   0 102   0  56   0  81   0  83   0  16   0  46   0 177   0 123\n",
      "    0 156   0  86   0  53   0 131   0  83   0  56   0  16   0  83   0  64\n",
      "    0  83   0  16   0  52   0 156   0  63   0 158   0  68   0  46   0  53\n",
      "    0 156   0  69   0 158   0 123   0  16   0  54   0 156   0  69   0 158\n",
      "    0  62   0]]\n",
      "c_length:[255]\n"
     ]
    },
    {
     "name": "stderr",
     "output_type": "stream",
     "text": [
      "\u001b[0;93m2024-11-27 11:49:12.350131974 [W:onnxruntime:, execution_frame.cc:870 VerifyOutputSizes] Expected shape from model of {-1,192,169} does not match actual shape of {1,192,255} for output 643\u001b[m\n",
      "\u001b[0;93m2024-11-27 11:49:12.358086514 [W:onnxruntime:, execution_frame.cc:870 VerifyOutputSizes] Expected shape from model of {-1,1,169} does not match actual shape of {1,1,255} for output duration_rounded\u001b[m\n",
      "\u001b[0;93m2024-11-27 11:49:12.358143947 [W:onnxruntime:, execution_frame.cc:870 VerifyOutputSizes] Expected shape from model of {1,359} does not match actual shape of {1,613} for output x_masks\u001b[m\n",
      "\u001b[0;93m2024-11-27 11:49:12.386821500 [W:onnxruntime:, execution_frame.cc:870 VerifyOutputSizes] Expected shape from model of {1,192,359} does not match actual shape of {1,192,613} for output logsig_z\u001b[m\n",
      "\u001b[0;93m2024-11-27 11:49:12.386961350 [W:onnxruntime:, execution_frame.cc:870 VerifyOutputSizes] Expected shape from model of {1,192,359} does not match actual shape of {1,192,613} for output mu_z\u001b[m\n",
      "\u001b[0;93m2024-11-27 11:49:12.389064504 [W:onnxruntime:, execution_frame.cc:870 VerifyOutputSizes] Expected shape from model of {1,192,359} does not match actual shape of {1,192,613} for output z\u001b[m\n",
      " 65%|████████████████████████████████████████████████████████████                                | 66/101 [00:45<00:27,  1.28it/s]"
     ]
    },
    {
     "name": "stdout",
     "output_type": "stream",
     "text": [
      "dt[s]: 0.846033614128828\n",
      "RTF: 0.15542460869255592\n",
      "c:[[  0  58   0 156   0  69   0 158   0 123   0  62   0  16   0 138   0  64\n",
      "    0  81   0  83   0  16   0  48   0 123   0 156   0  47   0 102   0  62\n",
      "    0  16   0  65   0  87   0 158   0  16   0  48   0 156   0  57   0 158\n",
      "    0 123   0  16   0  50   0 156   0 138   0  56   0  46   0 123   0 102\n",
      "    0  46   0  16   0 123   0 156   0 138   0  48   0  16   0  46   0 156\n",
      "    0  43   0 102   0  83   0  55   0  83   0  56   0  46   0  68   0  16\n",
      "    0  64   0 156   0  72   0  54   0  52   0  63   0 158   0  46   0  16\n",
      "    0  72   0  62   0  16   0  48   0 156   0  57   0 158   0 123   0  16\n",
      "    0 119   0 156   0  43   0 135   0  68   0  83   0  56   0  46   0  16\n",
      "    0  58   0 156   0  43   0 135   0  56   0  46   0  68   0   4   0]]\n",
      "c_length:[179]\n"
     ]
    },
    {
     "name": "stderr",
     "output_type": "stream",
     "text": [
      "\u001b[0;93m2024-11-27 11:49:13.203085172 [W:onnxruntime:, execution_frame.cc:870 VerifyOutputSizes] Expected shape from model of {-1,192,169} does not match actual shape of {1,192,179} for output 643\u001b[m\n",
      "\u001b[0;93m2024-11-27 11:49:13.209559043 [W:onnxruntime:, execution_frame.cc:870 VerifyOutputSizes] Expected shape from model of {-1,1,169} does not match actual shape of {1,1,179} for output duration_rounded\u001b[m\n",
      "\u001b[0;93m2024-11-27 11:49:13.209620194 [W:onnxruntime:, execution_frame.cc:870 VerifyOutputSizes] Expected shape from model of {1,359} does not match actual shape of {1,417} for output x_masks\u001b[m\n",
      "\u001b[0;93m2024-11-27 11:49:13.229093616 [W:onnxruntime:, execution_frame.cc:870 VerifyOutputSizes] Expected shape from model of {1,192,359} does not match actual shape of {1,192,417} for output logsig_z\u001b[m\n",
      "\u001b[0;93m2024-11-27 11:49:13.229221611 [W:onnxruntime:, execution_frame.cc:870 VerifyOutputSizes] Expected shape from model of {1,192,359} does not match actual shape of {1,192,417} for output mu_z\u001b[m\n",
      "\u001b[0;93m2024-11-27 11:49:13.230684023 [W:onnxruntime:, execution_frame.cc:870 VerifyOutputSizes] Expected shape from model of {1,192,359} does not match actual shape of {1,192,417} for output z\u001b[m\n",
      " 66%|█████████████████████████████████████████████████████████████                               | 67/101 [00:46<00:24,  1.39it/s]"
     ]
    },
    {
     "name": "stdout",
     "output_type": "stream",
     "text": [
      "dt[s]: 0.5773520190268755\n",
      "RTF: 0.15542460869255592\n",
      "c:[[  0  58   0 123   0 156   0  86   0  68   0 102   0  46   0  83   0  56\n",
      "    0  62   0  16   0  72   0  56   0  46   0  16   0  55   0 102   0  61\n",
      "    0 156   0  86   0  61   0  16   0  46   0 147   0 156   0  69   0 158\n",
      "    0  56   0  61   0  83   0  56   0  16   0  65   0  87   0 158   0  16\n",
      "    0  48   0  54   0 156   0  57   0 135   0  56   0  16   0  44   0  43\n",
      "    0 102   0  16   0  50   0 156   0  86   0  54   0 102   0  53   0 157\n",
      "    0  69   0 158   0  58   0  62   0  85   0  16   0  62   0  83   0  16\n",
      "    0  81   0  83   0  16   0  65   0 156   0  43   0 102   0  62   0  16\n",
      "    0  50   0 156   0  43   0 135   0  61   0   3   0  16   0  48   0 123\n",
      "    0 138   0  55   0  16   0  65   0 156   0  86   0 123   0  16   0  55\n",
      "    0 102   0  61   0 156   0  86   0  61   0  16   0  46   0 147   0 156\n",
      "    0  69   0 158   0  56   0  61   0  83   0  56   0  16   0  65   0 138\n",
      "    0  68   0  16   0  46   0 123   0 156   0 102   0  64   0  83   0  56\n",
      "    0  16   0  62   0  83   0  16   0  50   0  87   0 158   0  16   0 123\n",
      "    0 156   0  86   0  68   0 177   0  46   0  83   0  56   0  61   0  16\n",
      "    0 157   0 138   0  56   0  46   0  85   0  16   0  61   0 156   0  51\n",
      "    0 158   0  53   0 123   0 177   0  62   0  16   0  61   0 156   0  87\n",
      "    0 158   0  64   0 102   0  61   0  16   0 156   0  86   0  61   0  53\n",
      "    0  76   0 158   0 123   0  62   0   4   0]]\n",
      "c_length:[335]\n"
     ]
    },
    {
     "name": "stderr",
     "output_type": "stream",
     "text": [
      "\u001b[0;93m2024-11-27 11:49:13.794315663 [W:onnxruntime:, execution_frame.cc:870 VerifyOutputSizes] Expected shape from model of {-1,192,169} does not match actual shape of {1,192,335} for output 643\u001b[m\n",
      "\u001b[0;93m2024-11-27 11:49:13.804640293 [W:onnxruntime:, execution_frame.cc:870 VerifyOutputSizes] Expected shape from model of {-1,1,169} does not match actual shape of {1,1,335} for output duration_rounded\u001b[m\n",
      "\u001b[0;93m2024-11-27 11:49:13.804707153 [W:onnxruntime:, execution_frame.cc:870 VerifyOutputSizes] Expected shape from model of {1,359} does not match actual shape of {1,804} for output x_masks\u001b[m\n",
      "\u001b[0;93m2024-11-27 11:49:13.842292277 [W:onnxruntime:, execution_frame.cc:870 VerifyOutputSizes] Expected shape from model of {1,192,359} does not match actual shape of {1,192,804} for output logsig_z\u001b[m\n",
      "\u001b[0;93m2024-11-27 11:49:13.842493225 [W:onnxruntime:, execution_frame.cc:870 VerifyOutputSizes] Expected shape from model of {1,192,359} does not match actual shape of {1,192,804} for output mu_z\u001b[m\n",
      "\u001b[0;93m2024-11-27 11:49:13.845210587 [W:onnxruntime:, execution_frame.cc:870 VerifyOutputSizes] Expected shape from model of {1,192,359} does not match actual shape of {1,192,804} for output z\u001b[m\n",
      " 67%|█████████████████████████████████████████████████████████████▉                              | 68/101 [00:47<00:28,  1.18it/s]"
     ]
    },
    {
     "name": "stdout",
     "output_type": "stream",
     "text": [
      "dt[s]: 1.1403907900676131\n",
      "RTF: 0.15542460869255592\n",
      "c:[[  0  61   0 157   0 138   0  55   0  16   0 138   0  64   0  81   0  83\n",
      "    0  16   0  53   0 156   0  43   0 135   0  56   0  62   0  51   0  16\n",
      "    0  46   0 147   0 156   0  47   0 102   0  54   0  68   0   3   0  16\n",
      "    0  72   0  56   0  46   0  16   0  65   0 156   0 138   0  56   0  16\n",
      "    0  76   0 158   0 123   0  16   0  62   0 156   0  63   0 158   0  16\n",
      "    0  44   0 156   0 138   0 123   0  57   0 135   0  16   0  46   0 147\n",
      "    0 156   0  47   0 102   0  54   0  68   0   3   0  16   0  50   0  70\n",
      "    0  46   0  44   0 102   0  56   0  16   0 123   0 177   0  44   0 156\n",
      "    0 102   0  54   0  62   0   3   0]]\n",
      "c_length:[153]\n"
     ]
    },
    {
     "name": "stderr",
     "output_type": "stream",
     "text": [
      "\u001b[0;93m2024-11-27 11:49:14.935843974 [W:onnxruntime:, execution_frame.cc:870 VerifyOutputSizes] Expected shape from model of {-1,192,169} does not match actual shape of {1,192,153} for output 643\u001b[m\n",
      "\u001b[0;93m2024-11-27 11:49:14.941066297 [W:onnxruntime:, execution_frame.cc:870 VerifyOutputSizes] Expected shape from model of {-1,1,169} does not match actual shape of {1,1,153} for output duration_rounded\u001b[m\n",
      "\u001b[0;93m2024-11-27 11:49:14.941119373 [W:onnxruntime:, execution_frame.cc:870 VerifyOutputSizes] Expected shape from model of {1,359} does not match actual shape of {1,407} for output x_masks\u001b[m\n",
      "\u001b[0;93m2024-11-27 11:49:14.959773016 [W:onnxruntime:, execution_frame.cc:870 VerifyOutputSizes] Expected shape from model of {1,192,359} does not match actual shape of {1,192,407} for output logsig_z\u001b[m\n",
      "\u001b[0;93m2024-11-27 11:49:14.959908519 [W:onnxruntime:, execution_frame.cc:870 VerifyOutputSizes] Expected shape from model of {1,192,359} does not match actual shape of {1,192,407} for output mu_z\u001b[m\n",
      "\u001b[0;93m2024-11-27 11:49:14.961344772 [W:onnxruntime:, execution_frame.cc:870 VerifyOutputSizes] Expected shape from model of {1,192,359} does not match actual shape of {1,192,407} for output z\u001b[m\n",
      " 68%|██████████████████████████████████████████████████████████████▊                             | 69/101 [00:47<00:24,  1.31it/s]"
     ]
    },
    {
     "name": "stdout",
     "output_type": "stream",
     "text": [
      "dt[s]: 0.5592332999221981\n",
      "RTF: 0.15542460869255592\n",
      "c:[[  0  62   0  83   0  16   0  81   0 157   0  86   0  55   0  16   0 156\n",
      "    0  43   0 102   0  16   0  61   0 156   0  47   0 102   0   2   0  16\n",
      "    0  65   0  51   0 158   0  16   0  53   0  72   0  56   0 156   0  69\n",
      "    0 158   0  62   0  16   0 123   0 177   0  54   0 156   0  43   0 102\n",
      "    0  16   0 157   0  76   0  56   0  16   0  70   0  56   0  16   0  70\n",
      "    0  55   0 156   0  86   0  56   0  46   0  55   0  83   0  56   0  62\n",
      "    0  16   0  72   0  68   0  16   0  81   0 102   0  16   0 102   0  55\n",
      "    0 156   0  51   0 158   0  46   0 102   0  83   0  62   0  16   0  76\n",
      "    0 158   0 123   0  16   0 156   0  57   0 135   0  56   0  54   0  51\n",
      "    0  16   0 156   0  72   0  56   0  61   0  85   0  16   0  62   0 135\n",
      "    0  16   0 157   0  43   0 135   0  85   0  16   0  58   0 123   0 156\n",
      "    0  86   0  68   0  83   0  56   0  62   0  16   0  46   0 156   0 102\n",
      "    0  48   0 102   0  53   0 157   0 138   0  54   0  62   0  51   0  68\n",
      "    0   4   0]]\n",
      "c_length:[237]\n"
     ]
    },
    {
     "name": "stderr",
     "output_type": "stream",
     "text": [
      "\u001b[0;93m2024-11-27 11:49:15.505579142 [W:onnxruntime:, execution_frame.cc:870 VerifyOutputSizes] Expected shape from model of {-1,192,169} does not match actual shape of {1,192,237} for output 643\u001b[m\n",
      "\u001b[0;93m2024-11-27 11:49:15.513442765 [W:onnxruntime:, execution_frame.cc:870 VerifyOutputSizes] Expected shape from model of {-1,1,169} does not match actual shape of {1,1,237} for output duration_rounded\u001b[m\n",
      "\u001b[0;93m2024-11-27 11:49:15.513508677 [W:onnxruntime:, execution_frame.cc:870 VerifyOutputSizes] Expected shape from model of {1,359} does not match actual shape of {1,611} for output x_masks\u001b[m\n",
      "\u001b[0;93m2024-11-27 11:49:15.542168383 [W:onnxruntime:, execution_frame.cc:870 VerifyOutputSizes] Expected shape from model of {1,192,359} does not match actual shape of {1,192,611} for output logsig_z\u001b[m\n",
      "\u001b[0;93m2024-11-27 11:49:15.542316447 [W:onnxruntime:, execution_frame.cc:870 VerifyOutputSizes] Expected shape from model of {1,192,359} does not match actual shape of {1,192,611} for output mu_z\u001b[m\n",
      "\u001b[0;93m2024-11-27 11:49:15.544419361 [W:onnxruntime:, execution_frame.cc:870 VerifyOutputSizes] Expected shape from model of {1,192,359} does not match actual shape of {1,192,611} for output z\u001b[m\n",
      " 69%|███████████████████████████████████████████████████████████████▊                            | 70/101 [00:48<00:24,  1.25it/s]"
     ]
    },
    {
     "name": "stdout",
     "output_type": "stream",
     "text": [
      "dt[s]: 0.8658504909835756\n",
      "RTF: 0.15542460869255592\n",
      "c:[[  0  61   0  55   0 156   0  86   0 119   0  87   0 158   0  61   0  62\n",
      "    0  16   0  65   0 138   0  68   0  16   0  81   0 156   0  86   0 123\n",
      "    0  48   0  57   0 158   0 123   0  16   0  92   0 156   0 102   0  64\n",
      "    0  83   0  56   0  16   0  70   0  16   0  48   0 123   0 156   0  51\n",
      "    0 158   0  16   0  58   0 156   0  69   0 158   0 123   0  46   0  83\n",
      "    0  56   0  16   0  48   0  85   0  81   0 102   0  16   0  83   0  48\n",
      "    0 156   0  86   0  56   0  61   0  16   0 138   0  64   0  16   0  55\n",
      "    0 156   0  87   0 158   0  46   0  85   0   3   0]]\n",
      "c_length:[139]\n"
     ]
    },
    {
     "name": "stderr",
     "output_type": "stream",
     "text": [
      "\u001b[0;93m2024-11-27 11:49:16.374988308 [W:onnxruntime:, execution_frame.cc:870 VerifyOutputSizes] Expected shape from model of {-1,192,169} does not match actual shape of {1,192,139} for output 643\u001b[m\n",
      "\u001b[0;93m2024-11-27 11:49:16.379864703 [W:onnxruntime:, execution_frame.cc:870 VerifyOutputSizes] Expected shape from model of {-1,1,169} does not match actual shape of {1,1,139} for output duration_rounded\u001b[m\n",
      "\u001b[0;93m2024-11-27 11:49:16.379917915 [W:onnxruntime:, execution_frame.cc:870 VerifyOutputSizes] Expected shape from model of {1,359} does not match actual shape of {1,328} for output x_masks\u001b[m\n",
      "\u001b[0;93m2024-11-27 11:49:16.394922685 [W:onnxruntime:, execution_frame.cc:870 VerifyOutputSizes] Expected shape from model of {1,192,359} does not match actual shape of {1,192,328} for output logsig_z\u001b[m\n",
      "\u001b[0;93m2024-11-27 11:49:16.395002132 [W:onnxruntime:, execution_frame.cc:870 VerifyOutputSizes] Expected shape from model of {1,192,359} does not match actual shape of {1,192,328} for output mu_z\u001b[m\n",
      "\u001b[0;93m2024-11-27 11:49:16.396207483 [W:onnxruntime:, execution_frame.cc:870 VerifyOutputSizes] Expected shape from model of {1,192,359} does not match actual shape of {1,192,328} for output z\u001b[m\n",
      " 70%|████████████████████████████████████████████████████████████████▋                           | 71/101 [00:49<00:20,  1.44it/s]"
     ]
    },
    {
     "name": "stdout",
     "output_type": "stream",
     "text": [
      "dt[s]: 0.4543642280623317\n",
      "RTF: 0.15542460869255592\n",
      "c:[[  0  81   0  83   0  16   0  62   0 123   0 156   0  43   0 102   0  83\n",
      "    0  54   0  16   0 138   0  64   0  16   0  53   0 156   0  72   0 119\n",
      "    0 123   0 102   0  56   0  16   0  65   0 156   0 102   0  56   0  61\n",
      "    0  85   0   3   0  16   0  81   0  83   0  16   0  44   0 156   0  47\n",
      "    0 102   0  44   0  51   0  16   0  48   0 156   0  69   0 158   0 123\n",
      "    0  55   0  85   0   3   0]]\n",
      "c_length:[97]\n"
     ]
    },
    {
     "name": "stderr",
     "output_type": "stream",
     "text": [
      "\u001b[0;93m2024-11-27 11:49:16.833867055 [W:onnxruntime:, execution_frame.cc:870 VerifyOutputSizes] Expected shape from model of {-1,192,169} does not match actual shape of {1,192,97} for output 643\u001b[m\n",
      "\u001b[0;93m2024-11-27 11:49:16.837664200 [W:onnxruntime:, execution_frame.cc:870 VerifyOutputSizes] Expected shape from model of {-1,1,169} does not match actual shape of {1,1,97} for output duration_rounded\u001b[m\n",
      "\u001b[0;93m2024-11-27 11:49:16.837714998 [W:onnxruntime:, execution_frame.cc:870 VerifyOutputSizes] Expected shape from model of {1,359} does not match actual shape of {1,261} for output x_masks\u001b[m\n",
      "\u001b[0;93m2024-11-27 11:49:16.850153744 [W:onnxruntime:, execution_frame.cc:870 VerifyOutputSizes] Expected shape from model of {1,192,359} does not match actual shape of {1,192,261} for output logsig_z\u001b[m\n",
      "\u001b[0;93m2024-11-27 11:49:16.850245123 [W:onnxruntime:, execution_frame.cc:870 VerifyOutputSizes] Expected shape from model of {1,192,359} does not match actual shape of {1,192,261} for output mu_z\u001b[m\n",
      "\u001b[0;93m2024-11-27 11:49:16.851232080 [W:onnxruntime:, execution_frame.cc:870 VerifyOutputSizes] Expected shape from model of {1,192,359} does not match actual shape of {1,192,261} for output z\u001b[m\n",
      " 71%|█████████████████████████████████████████████████████████████████▌                          | 72/101 [00:49<00:17,  1.67it/s]"
     ]
    },
    {
     "name": "stdout",
     "output_type": "stream",
     "text": [
      "dt[s]: 0.3582361717708409\n",
      "RTF: 0.15542460869255592\n",
      "c:[[  0  81   0  83   0  16   0  55   0 156   0  86   0 119   0  83   0  46\n",
      "    0  16   0  44   0  43   0 102   0  16   0  65   0 157   0 102   0  62\n",
      "    0 131   0  16   0  81   0  47   0 102   0  16   0  65   0  87   0 158\n",
      "    0  16   0  65   0 156   0  87   0 158   0  53   0  62   0   3   0  16\n",
      "    0  72   0  56   0  46   0  16   0  81   0  83   0  16   0  46   0 156\n",
      "    0  43   0 102   0  83   0  62   0  85   0 123   0  51   0  68   0  16\n",
      "    0 138   0  64   0  81   0  83   0  16   0  58   0 123   0 156   0 102\n",
      "    0  68   0  83   0  56   0  85   0  68   0  16   0  86   0  55   0  58\n",
      "    0  54   0 156   0  76   0 102   0  46   0  16   0  83   0  58   0 157\n",
      "    0  69   0 158   0  56   0  16   0  81   0 157   0  86   0  55   0   4\n",
      "    0]]\n",
      "c_length:[181]\n"
     ]
    },
    {
     "name": "stderr",
     "output_type": "stream",
     "text": [
      "\u001b[0;93m2024-11-27 11:49:17.210707175 [W:onnxruntime:, execution_frame.cc:870 VerifyOutputSizes] Expected shape from model of {-1,192,169} does not match actual shape of {1,192,181} for output 643\u001b[m\n",
      "\u001b[0;93m2024-11-27 11:49:17.216801382 [W:onnxruntime:, execution_frame.cc:870 VerifyOutputSizes] Expected shape from model of {-1,1,169} does not match actual shape of {1,1,181} for output duration_rounded\u001b[m\n",
      "\u001b[0;93m2024-11-27 11:49:17.216857655 [W:onnxruntime:, execution_frame.cc:870 VerifyOutputSizes] Expected shape from model of {1,359} does not match actual shape of {1,432} for output x_masks\u001b[m\n",
      "\u001b[0;93m2024-11-27 11:49:17.236095345 [W:onnxruntime:, execution_frame.cc:870 VerifyOutputSizes] Expected shape from model of {1,192,359} does not match actual shape of {1,192,432} for output logsig_z\u001b[m\n",
      "\u001b[0;93m2024-11-27 11:49:17.236223665 [W:onnxruntime:, execution_frame.cc:870 VerifyOutputSizes] Expected shape from model of {1,192,359} does not match actual shape of {1,192,432} for output mu_z\u001b[m\n",
      "\u001b[0;93m2024-11-27 11:49:17.237738603 [W:onnxruntime:, execution_frame.cc:870 VerifyOutputSizes] Expected shape from model of {1,192,359} does not match actual shape of {1,192,432} for output z\u001b[m\n",
      " 72%|██████████████████████████████████████████████████████████████████▍                         | 73/101 [00:50<00:16,  1.66it/s]"
     ]
    },
    {
     "name": "stdout",
     "output_type": "stream",
     "text": [
      "dt[s]: 0.5932161463424563\n",
      "RTF: 0.15542460869255592\n",
      "c:[[  0  81   0 102   0  61   0  16   0  58   0 156   0 102   0  53   0  62\n",
      "    0 131   0  85   0 123   0  16   0 138   0  64   0  81   0 102   0  16\n",
      "    0  86   0  92   0  68   0 156   0 102   0  61   0  62   0 102   0 112\n",
      "    0  16   0  61   0  62   0 156   0  47   0 102   0  62   0  16   0 138\n",
      "    0  64   0  16   0  56   0 156   0  63   0 158   0  92   0  47   0 102\n",
      "    0  62   0]]\n",
      "c_length:[93]\n"
     ]
    },
    {
     "name": "stderr",
     "output_type": "stream",
     "text": [
      "\u001b[0;93m2024-11-27 11:49:17.815743882 [W:onnxruntime:, execution_frame.cc:870 VerifyOutputSizes] Expected shape from model of {-1,192,169} does not match actual shape of {1,192,93} for output 643\u001b[m\n",
      "\u001b[0;93m2024-11-27 11:49:17.819393543 [W:onnxruntime:, execution_frame.cc:870 VerifyOutputSizes] Expected shape from model of {-1,1,169} does not match actual shape of {1,1,93} for output duration_rounded\u001b[m\n",
      "\u001b[0;93m2024-11-27 11:49:17.819444502 [W:onnxruntime:, execution_frame.cc:870 VerifyOutputSizes] Expected shape from model of {1,359} does not match actual shape of {1,236} for output x_masks\u001b[m\n",
      "\u001b[0;93m2024-11-27 11:49:17.830537654 [W:onnxruntime:, execution_frame.cc:870 VerifyOutputSizes] Expected shape from model of {1,192,359} does not match actual shape of {1,192,236} for output logsig_z\u001b[m\n",
      "\u001b[0;93m2024-11-27 11:49:17.830621294 [W:onnxruntime:, execution_frame.cc:870 VerifyOutputSizes] Expected shape from model of {1,192,359} does not match actual shape of {1,192,236} for output mu_z\u001b[m\n",
      "\u001b[0;93m2024-11-27 11:49:17.831532022 [W:onnxruntime:, execution_frame.cc:870 VerifyOutputSizes] Expected shape from model of {1,192,359} does not match actual shape of {1,192,236} for output z\u001b[m\n",
      " 73%|███████████████████████████████████████████████████████████████████▍                        | 74/101 [00:50<00:14,  1.92it/s]"
     ]
    },
    {
     "name": "stdout",
     "output_type": "stream",
     "text": [
      "dt[s]: 0.3249541982077062\n",
      "RTF: 0.15542460869255592\n",
      "c:[[  0  56   0 157   0  69   0 158   0  62   0  16   0  53   0 156   0  69\n",
      "    0 158   0  56   0  62   0  86   0  56   0  62   0  16   0  65   0 102\n",
      "    0  81   0  16   0  92   0 156   0 102   0  64   0 102   0 112   0  16\n",
      "    0  65   0 157   0  86   0 123   0  16   0  70   0  61   0 156   0 102\n",
      "    0  61   0  62   0  83   0  56   0  61   0  16   0  65   0 138   0  68\n",
      "    0  16   0  61   0  83   0  54   0 156   0 102   0  61   0 102   0 125\n",
      "    0 177   0  46   0   3   0  16   0  50   0  51   0 158   0  16   0  50\n",
      "    0 102   0  55   0  61   0 156   0  86   0  54   0  48   0  16   0  61\n",
      "    0 156   0  76   0 158   0  62   0  16   0 156   0  43   0 135   0  62\n",
      "    0  16   0  46   0 102   0  68   0 156   0  87   0 158   0  64   0 102\n",
      "    0 112   0  16   0  53   0 156   0  47   0 102   0  61   0 177   0  68\n",
      "    0  16   0  72   0  56   0  46   0  16   0  58   0 156   0  87   0 158\n",
      "    0  61   0  83   0  56   0  83   0  54   0  51   0  16   0  70   0  48\n",
      "    0 156   0  57   0 158   0 123   0  46   0 177   0  46   0  16   0 123\n",
      "    0 177   0  54   0 156   0  51   0 158   0  48   0   4   0]]\n",
      "c_length:[267]\n"
     ]
    },
    {
     "name": "stderr",
     "output_type": "stream",
     "text": [
      "\u001b[0;93m2024-11-27 11:49:18.154021652 [W:onnxruntime:, execution_frame.cc:870 VerifyOutputSizes] Expected shape from model of {-1,192,169} does not match actual shape of {1,192,267} for output 643\u001b[m\n",
      "\u001b[0;93m2024-11-27 11:49:18.162617866 [W:onnxruntime:, execution_frame.cc:870 VerifyOutputSizes] Expected shape from model of {-1,1,169} does not match actual shape of {1,1,267} for output duration_rounded\u001b[m\n",
      "\u001b[0;93m2024-11-27 11:49:18.162685033 [W:onnxruntime:, execution_frame.cc:870 VerifyOutputSizes] Expected shape from model of {1,359} does not match actual shape of {1,654} for output x_masks\u001b[m\n",
      "\u001b[0;93m2024-11-27 11:49:18.193101717 [W:onnxruntime:, execution_frame.cc:870 VerifyOutputSizes] Expected shape from model of {1,192,359} does not match actual shape of {1,192,654} for output logsig_z\u001b[m\n",
      "\u001b[0;93m2024-11-27 11:49:18.193253138 [W:onnxruntime:, execution_frame.cc:870 VerifyOutputSizes] Expected shape from model of {1,192,359} does not match actual shape of {1,192,654} for output mu_z\u001b[m\n",
      "\u001b[0;93m2024-11-27 11:49:18.195499723 [W:onnxruntime:, execution_frame.cc:870 VerifyOutputSizes] Expected shape from model of {1,192,359} does not match actual shape of {1,192,654} for output z\u001b[m\n",
      " 74%|████████████████████████████████████████████████████████████████████▎                       | 75/101 [00:51<00:16,  1.55it/s]"
     ]
    },
    {
     "name": "stdout",
     "output_type": "stream",
     "text": [
      "dt[s]: 0.9115365380421281\n",
      "RTF: 0.15542460869255592\n",
      "c:[[  0 102   0  56   0  16   0  61   0  58   0 156   0  43   0 102   0  62\n",
      "    0  16   0 138   0  64   0  16   0  48   0 156   0  72   0  53   0  62\n",
      "    0  16   0 156   0  43   0 102   0  16   0  55   0 156   0  72   0 123\n",
      "    0  51   0  46   0  16   0  55   0  85   0 123   0 156   0  51   0 158\n",
      "    0  56   0  83   0  16   0  62   0  83   0  16   0  50   0 156   0  87\n",
      "    0 158   0  62   0  16   0 156   0  86   0  54   0  83   0  16   0  81\n",
      "    0  83   0  16   0  92   0 156   0  87   0 158   0  54   0  16   0  81\n",
      "    0  72   0  62   0  16   0  50   0  72   0  46   0  16   0 123   0 177\n",
      "    0  46   0 147   0 156   0  86   0  53   0  62   0 177   0  46   0  16\n",
      "    0  50   0 157   0 102   0  55   0  16   0 156   0  43   0 102   0  16\n",
      "    0  48   0 156   0  43   0 135   0  56   0  46   0  16   0  55   0  43\n",
      "    0 102   0  61   0 156   0  86   0  54   0  48   0  16   0 102   0  56\n",
      "    0  16   0  54   0 156   0 138   0  64   0  16   0  65   0 102   0  81\n",
      "    0  16   0  55   0  85   0 123   0 156   0  51   0 158   0  56   0  83\n",
      "    0   3   0  16   0 156   0  86   0  56   0  46   0  16   0  53   0  65\n",
      "    0 156   0  57   0 135   0  62   0   4   0]]\n",
      "c_length:[281]\n"
     ]
    },
    {
     "name": "stderr",
     "output_type": "stream",
     "text": [
      "\u001b[0;93m2024-11-27 11:49:19.084922012 [W:onnxruntime:, execution_frame.cc:870 VerifyOutputSizes] Expected shape from model of {-1,192,169} does not match actual shape of {1,192,281} for output 643\u001b[m\n",
      "\u001b[0;93m2024-11-27 11:49:19.093806301 [W:onnxruntime:, execution_frame.cc:870 VerifyOutputSizes] Expected shape from model of {-1,1,169} does not match actual shape of {1,1,281} for output duration_rounded\u001b[m\n",
      "\u001b[0;93m2024-11-27 11:49:19.093874125 [W:onnxruntime:, execution_frame.cc:870 VerifyOutputSizes] Expected shape from model of {1,359} does not match actual shape of {1,658} for output x_masks\u001b[m\n",
      "\u001b[0;93m2024-11-27 11:49:19.124809738 [W:onnxruntime:, execution_frame.cc:870 VerifyOutputSizes] Expected shape from model of {1,192,359} does not match actual shape of {1,192,658} for output logsig_z\u001b[m\n",
      "\u001b[0;93m2024-11-27 11:49:19.124965347 [W:onnxruntime:, execution_frame.cc:870 VerifyOutputSizes] Expected shape from model of {1,192,359} does not match actual shape of {1,192,658} for output mu_z\u001b[m\n",
      "\u001b[0;93m2024-11-27 11:49:19.127228472 [W:onnxruntime:, execution_frame.cc:870 VerifyOutputSizes] Expected shape from model of {1,192,359} does not match actual shape of {1,192,658} for output z\u001b[m\n",
      " 75%|█████████████████████████████████████████████████████████████████████▏                      | 76/101 [00:52<00:18,  1.37it/s]"
     ]
    },
    {
     "name": "stdout",
     "output_type": "stream",
     "text": [
      "dt[s]: 0.9192848126403987\n",
      "RTF: 0.15542460869255592\n",
      "c:[[  0  46   0 156   0  47   0 102   0  54   0  51   0  16   0  61   0  63\n",
      "    0 158   0  58   0  85   0  64   0 156   0 102   0 147   0  83   0  56\n",
      "    0  16   0 138   0  64   0  81   0 102   0  16   0 157   0  69   0 158\n",
      "    0  58   0  85   0 123   0 156   0  47   0 102   0 131   0  83   0  56\n",
      "    0  68   0  16   0 138   0  64   0  81   0  83   0  16   0  61   0 156\n",
      "    0  51   0 158   0  53   0 123   0 177   0  62   0  16   0  61   0 156\n",
      "    0  87   0 158   0  64   0 102   0  61   0  16   0  65   0 102   0  81\n",
      "    0 157   0 102   0  56   0  16   0  81   0  83   0  16   0  46   0 177\n",
      "    0  58   0 156   0  69   0 158   0 123   0  62   0  55   0  83   0  56\n",
      "    0  62   0  16   0 138   0  64   0  81   0  83   0  16   0  62   0 123\n",
      "    0 156   0  86   0 147   0  85   0 123   0  51   0  16   0 131   0 157\n",
      "    0 135   0  46   0  16   0  44   0  51   0 158   0  16   0 102   0  55\n",
      "    0  58   0 123   0 156   0  63   0 158   0  64   0  46   0   4   0]]\n",
      "c_length:[233]\n"
     ]
    },
    {
     "name": "stderr",
     "output_type": "stream",
     "text": [
      "\u001b[0;93m2024-11-27 11:49:20.010053415 [W:onnxruntime:, execution_frame.cc:870 VerifyOutputSizes] Expected shape from model of {-1,192,169} does not match actual shape of {1,192,233} for output 643\u001b[m\n",
      "\u001b[0;93m2024-11-27 11:49:20.017827017 [W:onnxruntime:, execution_frame.cc:870 VerifyOutputSizes] Expected shape from model of {-1,1,169} does not match actual shape of {1,1,233} for output duration_rounded\u001b[m\n",
      "\u001b[0;93m2024-11-27 11:49:20.017891419 [W:onnxruntime:, execution_frame.cc:870 VerifyOutputSizes] Expected shape from model of {1,359} does not match actual shape of {1,531} for output x_masks\u001b[m\n",
      "\u001b[0;93m2024-11-27 11:49:20.043338999 [W:onnxruntime:, execution_frame.cc:870 VerifyOutputSizes] Expected shape from model of {1,192,359} does not match actual shape of {1,192,531} for output logsig_z\u001b[m\n",
      "\u001b[0;93m2024-11-27 11:49:20.043462663 [W:onnxruntime:, execution_frame.cc:870 VerifyOutputSizes] Expected shape from model of {1,192,359} does not match actual shape of {1,192,531} for output mu_z\u001b[m\n",
      "\u001b[0;93m2024-11-27 11:49:20.045296692 [W:onnxruntime:, execution_frame.cc:870 VerifyOutputSizes] Expected shape from model of {1,192,359} does not match actual shape of {1,192,531} for output z\u001b[m\n",
      " 76%|██████████████████████████████████████████████████████████████████████▏                     | 77/101 [00:53<00:17,  1.36it/s]"
     ]
    },
    {
     "name": "stdout",
     "output_type": "stream",
     "text": [
      "dt[s]: 0.7343541379086673\n",
      "RTF: 0.15542460869255592\n",
      "c:[[  0  50   0  70   0  46   0  44   0 102   0  56   0  16   0  56   0 156\n",
      "    0  57   0 135   0  56   0  16   0  62   0 135   0  16   0  86   0  55\n",
      "    0  58   0  54   0 156   0  76   0 102   0  16   0 119   0 123   0 156\n",
      "    0  86   0  62   0  61   0   3   0  16   0  46   0 177   0  53   0  54\n",
      "    0 156   0  86   0 123   0 102   0 112   0  16   0  81   0  72   0  62\n",
      "    0  16   0  50   0  51   0 158   0  16   0  65   0 138   0  68   0  16\n",
      "    0 156   0  76   0  48   0  83   0  56   0  16   0  53   0  83   0  56\n",
      "    0  61   0 156   0 138   0  54   0  62   0 177   0  46   0  16   0  44\n",
      "    0  43   0 102   0  16   0  81   0  83   0  16   0  92   0 156   0 138\n",
      "    0  64   0  85   0  56   0  85   0 123   0  16   0  72   0  68   0  16\n",
      "    0  62   0 135   0  16   0  70   0  16   0  58   0 123   0 156   0 102\n",
      "    0  68   0  83   0  56   0  85   0  68   0  16   0  53   0 156   0  72\n",
      "    0 123   0 102   0  53   0  62   0  85   0   3   0]]\n",
      "c_length:[229]\n"
     ]
    },
    {
     "name": "stderr",
     "output_type": "stream",
     "text": [
      "\u001b[0;93m2024-11-27 11:49:20.751837610 [W:onnxruntime:, execution_frame.cc:870 VerifyOutputSizes] Expected shape from model of {-1,192,169} does not match actual shape of {1,192,229} for output 643\u001b[m\n",
      "\u001b[0;93m2024-11-27 11:49:20.759546706 [W:onnxruntime:, execution_frame.cc:870 VerifyOutputSizes] Expected shape from model of {-1,1,169} does not match actual shape of {1,1,229} for output duration_rounded\u001b[m\n",
      "\u001b[0;93m2024-11-27 11:49:20.759611575 [W:onnxruntime:, execution_frame.cc:870 VerifyOutputSizes] Expected shape from model of {1,359} does not match actual shape of {1,571} for output x_masks\u001b[m\n",
      "\u001b[0;93m2024-11-27 11:49:20.786377909 [W:onnxruntime:, execution_frame.cc:870 VerifyOutputSizes] Expected shape from model of {1,192,359} does not match actual shape of {1,192,571} for output logsig_z\u001b[m\n",
      "\u001b[0;93m2024-11-27 11:49:20.786512359 [W:onnxruntime:, execution_frame.cc:870 VerifyOutputSizes] Expected shape from model of {1,192,359} does not match actual shape of {1,192,571} for output mu_z\u001b[m\n",
      "\u001b[0;93m2024-11-27 11:49:20.788484833 [W:onnxruntime:, execution_frame.cc:870 VerifyOutputSizes] Expected shape from model of {1,192,359} does not match actual shape of {1,192,571} for output z\u001b[m\n",
      " 77%|███████████████████████████████████████████████████████████████████████                     | 78/101 [00:53<00:17,  1.32it/s]"
     ]
    },
    {
     "name": "stdout",
     "output_type": "stream",
     "text": [
      "dt[s]: 0.8015055828727782\n",
      "RTF: 0.15542460869255592\n",
      "c:[[  0  44   0 157   0 138   0  62   0  16   0  70   0  16   0  53   0  69\n",
      "    0 158   0  56   0  64   0  85   0  61   0 156   0  47   0 102   0 131\n",
      "    0  83   0  56   0  16   0 157   0  57   0 135   0  64   0  85   0  50\n",
      "    0 156   0  87   0 158   0  46   0  16   0  44   0 177   0  62   0  65\n",
      "    0 157   0  51   0 158   0  56   0  16   0  81   0  83   0  16   0  62\n",
      "    0 156   0  63   0 158   0  16   0  44   0 123   0 156   0 138   0  81\n",
      "    0  85   0  68   0  16   0 102   0  56   0  16   0  56   0 156   0  63\n",
      "    0 158   0  92   0  47   0 102   0  62   0  16   0  61   0 157   0  72\n",
      "    0 125   0 102   0  61   0  48   0 156   0  72   0  53   0  62   0  85\n",
      "    0 123   0  83   0  54   0  51   0  16   0  86   0  92   0  68   0 156\n",
      "    0  69   0 158   0  56   0  85   0 123   0 157   0  47   0 102   0 125\n",
      "    0 177   0  46   0  16   0  62   0 156   0  69   0 158   0  55   0  83\n",
      "    0  61   0  16   0  65   0 156   0  47   0 102   0  56   0 123   0  43\n",
      "    0 102   0  62   0   4   0]]\n",
      "c_length:[241]\n"
     ]
    },
    {
     "name": "stderr",
     "output_type": "stream",
     "text": [
      "\u001b[0;93m2024-11-27 11:49:21.564682508 [W:onnxruntime:, execution_frame.cc:870 VerifyOutputSizes] Expected shape from model of {-1,192,169} does not match actual shape of {1,192,241} for output 643\u001b[m\n",
      "\u001b[0;93m2024-11-27 11:49:21.573076880 [W:onnxruntime:, execution_frame.cc:870 VerifyOutputSizes] Expected shape from model of {-1,1,169} does not match actual shape of {1,1,241} for output duration_rounded\u001b[m\n",
      "\u001b[0;93m2024-11-27 11:49:21.573152980 [W:onnxruntime:, execution_frame.cc:870 VerifyOutputSizes] Expected shape from model of {1,359} does not match actual shape of {1,569} for output x_masks\u001b[m\n",
      "\u001b[0;93m2024-11-27 11:49:21.602231261 [W:onnxruntime:, execution_frame.cc:870 VerifyOutputSizes] Expected shape from model of {1,192,359} does not match actual shape of {1,192,569} for output logsig_z\u001b[m\n",
      "\u001b[0;93m2024-11-27 11:49:21.602369355 [W:onnxruntime:, execution_frame.cc:870 VerifyOutputSizes] Expected shape from model of {1,192,359} does not match actual shape of {1,192,569} for output mu_z\u001b[m\n",
      "\u001b[0;93m2024-11-27 11:49:21.604340491 [W:onnxruntime:, execution_frame.cc:870 VerifyOutputSizes] Expected shape from model of {1,192,359} does not match actual shape of {1,192,569} for output z\u001b[m\n",
      " 78%|███████████████████████████████████████████████████████████████████████▉                    | 79/101 [00:54<00:16,  1.30it/s]"
     ]
    },
    {
     "name": "stdout",
     "output_type": "stream",
     "text": [
      "dt[s]: 0.7971236216835678\n",
      "RTF: 0.15542460869255592\n",
      "c:[[  0  50   0 102   0  68   0  16   0  54   0 156   0  72   0  53   0  16\n",
      "    0 138   0  64   0  16   0  48   0 123   0 156   0  86   0  56   0  46\n",
      "    0  68   0   3   0  16   0  81   0 102   0  16   0  70   0  58   0 156\n",
      "    0  72   0 123   0  83   0  56   0  62   0  16   0 138   0  56   0  70\n",
      "    0  64   0 157   0  47   0 102   0  54   0  83   0  44   0 156   0 102\n",
      "    0  54   0 177   0 125   0  51   0  16   0 138   0  64   0  16   0 157\n",
      "    0  86   0  56   0  51   0  16   0 156   0  47   0 102   0  46   0 147\n",
      "    0  83   0  56   0  61   0  51   0  16   0  70   0  61   0 156   0 102\n",
      "    0  61   0  62   0  83   0  56   0  61   0  16   0  72   0  56   0  46\n",
      "    0  16   0  81   0 102   0  16   0 102   0  56   0 102   0  48   0 156\n",
      "    0  86   0  53   0  62   0 131   0  63   0 158   0  83   0  54   0  56\n",
      "    0  83   0  61   0  16   0 138   0  64   0  16   0  50   0 102   0  68\n",
      "    0  16   0  55   0 156   0 138   0  81   0  85   0]]\n",
      "c_length:[229]\n"
     ]
    },
    {
     "name": "stderr",
     "output_type": "stream",
     "text": [
      "\u001b[0;93m2024-11-27 11:49:22.369405229 [W:onnxruntime:, execution_frame.cc:870 VerifyOutputSizes] Expected shape from model of {-1,192,169} does not match actual shape of {1,192,229} for output 643\u001b[m\n",
      "\u001b[0;93m2024-11-27 11:49:22.376862260 [W:onnxruntime:, execution_frame.cc:870 VerifyOutputSizes] Expected shape from model of {-1,1,169} does not match actual shape of {1,1,229} for output duration_rounded\u001b[m\n",
      "\u001b[0;93m2024-11-27 11:49:22.376923873 [W:onnxruntime:, execution_frame.cc:870 VerifyOutputSizes] Expected shape from model of {1,359} does not match actual shape of {1,587} for output x_masks\u001b[m\n",
      "\u001b[0;93m2024-11-27 11:49:22.404320867 [W:onnxruntime:, execution_frame.cc:870 VerifyOutputSizes] Expected shape from model of {1,192,359} does not match actual shape of {1,192,587} for output logsig_z\u001b[m\n",
      "\u001b[0;93m2024-11-27 11:49:22.404461351 [W:onnxruntime:, execution_frame.cc:870 VerifyOutputSizes] Expected shape from model of {1,192,359} does not match actual shape of {1,192,587} for output mu_z\u001b[m\n",
      "\u001b[0;93m2024-11-27 11:49:22.406488253 [W:onnxruntime:, execution_frame.cc:870 VerifyOutputSizes] Expected shape from model of {1,192,359} does not match actual shape of {1,192,587} for output z\u001b[m\n",
      " 79%|████████████████████████████████████████████████████████████████████████▊                   | 80/101 [00:55<00:16,  1.27it/s]"
     ]
    },
    {
     "name": "stdout",
     "output_type": "stream",
     "text": [
      "dt[s]: 0.8160876468755305\n",
      "RTF: 0.15542460869255592\n",
      "c:[[  0  81   0  47   0 102   0  16   0  48   0 156   0  43   0 135   0  56\n",
      "    0  46   0  16   0  72   0  62   0  16   0  56   0 156   0  63   0 158\n",
      "    0  92   0  47   0 102   0  62   0   3   0  16   0 157   0 138   0  56\n",
      "    0  46   0  85   0  16   0  46   0 102   0  61   0  92   0 123   0 156\n",
      "    0  47   0 102   0  61   0  48   0  83   0  54   0  16   0  53   0  83\n",
      "    0  56   0  46   0 156   0 102   0 131   0  83   0  56   0  68   0  16\n",
      "    0  72   0  68   0  16   0  76   0 158   0  54   0 123   0 157   0  86\n",
      "    0  46   0  51   0  16   0  46   0 177   0  61   0  53   0 123   0 156\n",
      "    0  43   0 102   0  44   0  46   0   3   0]]\n",
      "c_length:[155]\n"
     ]
    },
    {
     "name": "stderr",
     "output_type": "stream",
     "text": [
      "\u001b[0;93m2024-11-27 11:49:23.189252172 [W:onnxruntime:, execution_frame.cc:870 VerifyOutputSizes] Expected shape from model of {-1,192,169} does not match actual shape of {1,192,155} for output 643\u001b[m\n",
      "\u001b[0;93m2024-11-27 11:49:23.194801925 [W:onnxruntime:, execution_frame.cc:870 VerifyOutputSizes] Expected shape from model of {-1,1,169} does not match actual shape of {1,1,155} for output duration_rounded\u001b[m\n",
      "\u001b[0;93m2024-11-27 11:49:23.194861068 [W:onnxruntime:, execution_frame.cc:870 VerifyOutputSizes] Expected shape from model of {1,359} does not match actual shape of {1,400} for output x_masks\u001b[m\n",
      "\u001b[0;93m2024-11-27 11:49:23.212878682 [W:onnxruntime:, execution_frame.cc:870 VerifyOutputSizes] Expected shape from model of {1,192,359} does not match actual shape of {1,192,400} for output logsig_z\u001b[m\n",
      "\u001b[0;93m2024-11-27 11:49:23.213172516 [W:onnxruntime:, execution_frame.cc:870 VerifyOutputSizes] Expected shape from model of {1,192,359} does not match actual shape of {1,192,400} for output mu_z\u001b[m\n",
      "\u001b[0;93m2024-11-27 11:49:23.214574137 [W:onnxruntime:, execution_frame.cc:870 VerifyOutputSizes] Expected shape from model of {1,192,359} does not match actual shape of {1,192,400} for output z\u001b[m\n",
      " 80%|█████████████████████████████████████████████████████████████████████████▊                  | 81/101 [00:56<00:14,  1.39it/s]"
     ]
    },
    {
     "name": "stdout",
     "output_type": "stream",
     "text": [
      "dt[s]: 0.5567167648114264\n",
      "RTF: 0.15542460869255592\n",
      "c:[[  0 138   0  64   0  16   0  81   0  57   0 135   0  68   0  16   0  50\n",
      "    0 157   0  63   0 158   0  16   0  50   0  72   0  46   0  16   0 131\n",
      "    0 156   0  57   0 135   0  56   0  16   0  81   0  83   0  16   0  65\n",
      "    0 156   0  43   0 102   0  62   0   3   0  16   0  72   0  56   0  46\n",
      "    0  16   0  81   0  57   0 135   0  68   0  16   0  50   0 157   0  63\n",
      "    0 158   0  16   0  50   0  72   0  46   0  16   0  46   0 156   0  43\n",
      "    0 102   0  46   0  16   0  92   0 156   0  47   0 102   0  55   0   4\n",
      "    0]]\n",
      "c_length:[127]\n"
     ]
    },
    {
     "name": "stderr",
     "output_type": "stream",
     "text": [
      "\u001b[0;93m2024-11-27 11:49:23.751382174 [W:onnxruntime:, execution_frame.cc:870 VerifyOutputSizes] Expected shape from model of {-1,192,169} does not match actual shape of {1,192,127} for output 643\u001b[m\n",
      "\u001b[0;93m2024-11-27 11:49:23.756145653 [W:onnxruntime:, execution_frame.cc:870 VerifyOutputSizes] Expected shape from model of {-1,1,169} does not match actual shape of {1,1,127} for output duration_rounded\u001b[m\n",
      "\u001b[0;93m2024-11-27 11:49:23.756203493 [W:onnxruntime:, execution_frame.cc:870 VerifyOutputSizes] Expected shape from model of {1,359} does not match actual shape of {1,308} for output x_masks\u001b[m\n",
      "\u001b[0;93m2024-11-27 11:49:23.770534165 [W:onnxruntime:, execution_frame.cc:870 VerifyOutputSizes] Expected shape from model of {1,192,359} does not match actual shape of {1,192,308} for output logsig_z\u001b[m\n",
      "\u001b[0;93m2024-11-27 11:49:23.770642895 [W:onnxruntime:, execution_frame.cc:870 VerifyOutputSizes] Expected shape from model of {1,192,359} does not match actual shape of {1,192,308} for output mu_z\u001b[m\n",
      "\u001b[0;93m2024-11-27 11:49:23.771778062 [W:onnxruntime:, execution_frame.cc:870 VerifyOutputSizes] Expected shape from model of {1,192,359} does not match actual shape of {1,192,308} for output z\u001b[m\n",
      " 81%|██████████████████████████████████████████████████████████████████████████▋                 | 82/101 [00:56<00:12,  1.58it/s]"
     ]
    },
    {
     "name": "stdout",
     "output_type": "stream",
     "text": [
      "dt[s]: 0.42144781397655606\n",
      "RTF: 0.15542460869255592\n",
      "c:[[  0  48   0  76   0 158   0 123   0  16   0  44   0 177   0  68   0 156\n",
      "    0  69   0 158   0 123   0  16   0 123   0 156   0  51   0 158   0  68\n",
      "    0  83   0  56   0  68   0  16   0  76   0 158   0 123   0  16   0  44\n",
      "    0  43   0 102   0  16   0 123   0 156   0  43   0 102   0 125   0 102\n",
      "    0 112   0  16   0  76   0 158   0 123   0  16   0 102   0  56   0  16\n",
      "    0  61   0 157   0 138   0  55   0  16   0 156   0 138   0  81   0  85\n",
      "    0  16   0  65   0 156   0  47   0 102   0  16   0  70   0  62   0 156\n",
      "    0  86   0  55   0  58   0  62   0 102   0 112   0  16   0  62   0  83\n",
      "    0  16   0  53   0  83   0  55   0  52   0 156   0  63   0 158   0  56\n",
      "    0 177   0  53   0 157   0  47   0 102   0  62   0  16   0  65   0 102\n",
      "    0  81   0  16   0  50   0 157   0 102   0  55   0  16   0 102   0  56\n",
      "    0  16   0  70   0  16   0 119   0 123   0 156   0  86   0 148   0  56\n",
      "    0 175   0 102   0 112   0  16   0  76   0 158   0 123   0  16   0  70\n",
      "    0  44   0  52   0 156   0  63   0 158   0  61   0 102   0  64   0  16\n",
      "    0  55   0 156   0  72   0  56   0  85   0]]\n",
      "c_length:[263]\n"
     ]
    },
    {
     "name": "stderr",
     "output_type": "stream",
     "text": [
      "\u001b[0;93m2024-11-27 11:49:24.185511605 [W:onnxruntime:, execution_frame.cc:870 VerifyOutputSizes] Expected shape from model of {-1,192,169} does not match actual shape of {1,192,263} for output 643\u001b[m\n",
      "\u001b[0;93m2024-11-27 11:49:24.193710161 [W:onnxruntime:, execution_frame.cc:870 VerifyOutputSizes] Expected shape from model of {-1,1,169} does not match actual shape of {1,1,263} for output duration_rounded\u001b[m\n",
      "\u001b[0;93m2024-11-27 11:49:24.193767796 [W:onnxruntime:, execution_frame.cc:870 VerifyOutputSizes] Expected shape from model of {1,359} does not match actual shape of {1,596} for output x_masks\u001b[m\n",
      "\u001b[0;93m2024-11-27 11:49:24.221722048 [W:onnxruntime:, execution_frame.cc:870 VerifyOutputSizes] Expected shape from model of {1,192,359} does not match actual shape of {1,192,596} for output logsig_z\u001b[m\n",
      "\u001b[0;93m2024-11-27 11:49:24.221862313 [W:onnxruntime:, execution_frame.cc:870 VerifyOutputSizes] Expected shape from model of {1,192,359} does not match actual shape of {1,192,596} for output mu_z\u001b[m\n",
      "\u001b[0;93m2024-11-27 11:49:24.223905235 [W:onnxruntime:, execution_frame.cc:870 VerifyOutputSizes] Expected shape from model of {1,192,359} does not match actual shape of {1,192,596} for output z\u001b[m\n",
      " 82%|███████████████████████████████████████████████████████████████████████████▌                | 83/101 [00:57<00:12,  1.45it/s]"
     ]
    },
    {
     "name": "stdout",
     "output_type": "stream",
     "text": [
      "dt[s]: 0.823063937947154\n",
      "RTF: 0.15542460869255592\n",
      "c:[[  0  55   0 156   0  57   0 135   0 125   0  85   0  61   0 157   0  43\n",
      "    0 102   0  53   0  83   0  54   0  68   0   4   0  16   0  56   0 156\n",
      "    0  86   0  53   0  61   0  62   0  16   0  53   0 156   0  47   0 102\n",
      "    0  55   0  16   0  48   0 156   0  57   0 158   0 123   0  16   0  62\n",
      "    0  83   0  16   0  61   0 156   0 102   0  53   0  61   0  16   0  55\n",
      "    0 156   0  57   0 135   0 125   0  85   0  61   0 157   0  43   0 102\n",
      "    0  53   0  83   0  54   0  16   0  58   0  83   0  54   0 156   0  51\n",
      "    0 158   0  61   0  55   0  86   0  56   0  16   0  50   0 157   0  63\n",
      "    0 158   0  68   0  16   0  55   0 156   0  47   0 102   0  56   0  16\n",
      "    0  58   0 156   0  87   0 158   0  58   0  83   0  61   0  16   0  65\n",
      "    0 138   0  68   0  16   0  62   0  83   0  16   0  53   0 156   0  51\n",
      "    0 158   0  58   0  16   0  81   0  83   0  16   0  53   0 123   0 156\n",
      "    0  43   0 135   0  46   0  16   0  44   0 156   0  72   0  53   0   4\n",
      "    0]]\n",
      "c_length:[235]\n"
     ]
    },
    {
     "name": "stderr",
     "output_type": "stream",
     "text": [
      "\u001b[0;93m2024-11-27 11:49:25.015008236 [W:onnxruntime:, execution_frame.cc:870 VerifyOutputSizes] Expected shape from model of {-1,192,169} does not match actual shape of {1,192,235} for output 643\u001b[m\n",
      "\u001b[0;93m2024-11-27 11:49:25.022543386 [W:onnxruntime:, execution_frame.cc:870 VerifyOutputSizes] Expected shape from model of {-1,1,169} does not match actual shape of {1,1,235} for output duration_rounded\u001b[m\n",
      "\u001b[0;93m2024-11-27 11:49:25.022603437 [W:onnxruntime:, execution_frame.cc:870 VerifyOutputSizes] Expected shape from model of {1,359} does not match actual shape of {1,583} for output x_masks\u001b[m\n",
      "\u001b[0;93m2024-11-27 11:49:25.049926442 [W:onnxruntime:, execution_frame.cc:870 VerifyOutputSizes] Expected shape from model of {1,192,359} does not match actual shape of {1,192,583} for output logsig_z\u001b[m\n",
      "\u001b[0;93m2024-11-27 11:49:25.050063439 [W:onnxruntime:, execution_frame.cc:870 VerifyOutputSizes] Expected shape from model of {1,192,359} does not match actual shape of {1,192,583} for output mu_z\u001b[m\n",
      "\u001b[0;93m2024-11-27 11:49:25.052080406 [W:onnxruntime:, execution_frame.cc:870 VerifyOutputSizes] Expected shape from model of {1,192,359} does not match actual shape of {1,192,583} for output z\u001b[m\n",
      " 83%|████████████████████████████████████████████████████████████████████████████▌               | 84/101 [00:58<00:12,  1.36it/s]"
     ]
    },
    {
     "name": "stdout",
     "output_type": "stream",
     "text": [
      "dt[s]: 0.8260947079397738\n",
      "RTF: 0.15542460869255592\n",
      "c:[[  0  55   0 156   0  72   0  56   0  16   0  53   0  72   0  56   0 156\n",
      "    0  69   0 158   0  62   0  16   0  48   0  85   0  92   0 156   0 102\n",
      "    0  64   0  16   0  55   0 156   0  72   0  56   0   3   0  16   0 156\n",
      "    0  57   0 135   0  56   0  54   0  51   0  16   0  92   0 156   0  69\n",
      "    0 158   0  46   0  16   0  53   0  72   0  56   0  16   0  46   0 156\n",
      "    0  63   0 158   0  16   0  61   0  57   0 135   0   4   0  16   0  55\n",
      "    0 156   0  72   0  56   0  16   0 102   0  68   0  16   0  81   0 156\n",
      "    0  86   0 123   0  48   0  57   0 158   0 123   0  16   0 156   0  57\n",
      "    0 135   0  56   0  54   0  51   0  16   0  70   0  53   0 156   0  43\n",
      "    0 135   0  56   0  62   0  83   0  44   0  83   0  54   0  16   0  62\n",
      "    0  83   0  16   0  92   0 156   0  69   0 158   0  46   0   4   0]]\n",
      "c_length:[197]\n"
     ]
    },
    {
     "name": "stderr",
     "output_type": "stream",
     "text": [
      "\u001b[0;93m2024-11-27 11:49:25.846488187 [W:onnxruntime:, execution_frame.cc:870 VerifyOutputSizes] Expected shape from model of {-1,192,169} does not match actual shape of {1,192,197} for output 643\u001b[m\n",
      "\u001b[0;93m2024-11-27 11:49:25.853109389 [W:onnxruntime:, execution_frame.cc:870 VerifyOutputSizes] Expected shape from model of {-1,1,169} does not match actual shape of {1,1,197} for output duration_rounded\u001b[m\n",
      "\u001b[0;93m2024-11-27 11:49:25.853166862 [W:onnxruntime:, execution_frame.cc:870 VerifyOutputSizes] Expected shape from model of {1,359} does not match actual shape of {1,529} for output x_masks\u001b[m\n",
      "\u001b[0;93m2024-11-27 11:49:25.878240434 [W:onnxruntime:, execution_frame.cc:870 VerifyOutputSizes] Expected shape from model of {1,192,359} does not match actual shape of {1,192,529} for output logsig_z\u001b[m\n",
      "\u001b[0;93m2024-11-27 11:49:25.878384256 [W:onnxruntime:, execution_frame.cc:870 VerifyOutputSizes] Expected shape from model of {1,192,359} does not match actual shape of {1,192,529} for output mu_z\u001b[m\n",
      "\u001b[0;93m2024-11-27 11:49:25.880220215 [W:onnxruntime:, execution_frame.cc:870 VerifyOutputSizes] Expected shape from model of {1,192,359} does not match actual shape of {1,192,529} for output z\u001b[m\n",
      " 84%|█████████████████████████████████████████████████████████████████████████████▍              | 85/101 [00:58<00:11,  1.36it/s]"
     ]
    },
    {
     "name": "stdout",
     "output_type": "stream",
     "text": [
      "dt[s]: 0.7256335690617561\n",
      "RTF: 0.15542460869255592\n",
      "c:[[  0  50   0 102   0  68   0  16   0  61   0 156   0  86   0  53   0  83\n",
      "    0  56   0  46   0  16   0 156   0  72   0  56   0  61   0  85   0  16\n",
      "    0  62   0  83   0  16   0  81   0 102   0  61   0  16   0  53   0  65\n",
      "    0 156   0  86   0  61   0  62   0 131   0  83   0  56   0  16   0  65\n",
      "    0 138   0  68   0   3   0  16   0  53   0  65   0 156   0  57   0 135\n",
      "    0  62   0   3   0  16   0  56   0 156   0  57   0 135   0  16   0 138\n",
      "    0  64   0  16   0  53   0 156   0  57   0 158   0 123   0  61   0  16\n",
      "    0  56   0 156   0  69   0 158   0  62   0   3   0]]\n",
      "c_length:[139]\n"
     ]
    },
    {
     "name": "stderr",
     "output_type": "stream",
     "text": [
      "\u001b[0;93m2024-11-27 11:49:26.577515989 [W:onnxruntime:, execution_frame.cc:870 VerifyOutputSizes] Expected shape from model of {-1,192,169} does not match actual shape of {1,192,139} for output 643\u001b[m\n",
      "\u001b[0;93m2024-11-27 11:49:26.582371457 [W:onnxruntime:, execution_frame.cc:870 VerifyOutputSizes] Expected shape from model of {-1,1,169} does not match actual shape of {1,1,139} for output duration_rounded\u001b[m\n",
      "\u001b[0;93m2024-11-27 11:49:26.582427261 [W:onnxruntime:, execution_frame.cc:870 VerifyOutputSizes] Expected shape from model of {1,359} does not match actual shape of {1,362} for output x_masks\u001b[m\n",
      "\u001b[0;93m2024-11-27 11:49:26.599061932 [W:onnxruntime:, execution_frame.cc:870 VerifyOutputSizes] Expected shape from model of {1,192,359} does not match actual shape of {1,192,362} for output logsig_z\u001b[m\n",
      "\u001b[0;93m2024-11-27 11:49:26.599191847 [W:onnxruntime:, execution_frame.cc:870 VerifyOutputSizes] Expected shape from model of {1,192,359} does not match actual shape of {1,192,362} for output mu_z\u001b[m\n",
      "\u001b[0;93m2024-11-27 11:49:26.600481614 [W:onnxruntime:, execution_frame.cc:870 VerifyOutputSizes] Expected shape from model of {1,192,359} does not match actual shape of {1,192,362} for output z\u001b[m\n",
      " 85%|██████████████████████████████████████████████████████████████████████████████▎             | 86/101 [00:59<00:09,  1.50it/s]"
     ]
    },
    {
     "name": "stdout",
     "output_type": "stream",
     "text": [
      "dt[s]: 0.4991302718408406\n",
      "RTF: 0.15542460869255592\n",
      "c:[[  0  61   0 156   0 138   0  46   0  83   0  56   0  54   0  51   0   3\n",
      "    0  16   0 156   0  72   0  48   0  62   0  85   0  16   0  44   0 157\n",
      "    0  51   0 158   0 102   0 112   0  16   0  72   0  62   0  16   0  81\n",
      "    0  83   0  16   0  54   0 156   0  57   0 135   0 102   0  61   0  62\n",
      "    0  16   0  46   0 156   0  86   0  58   0 119   0  61   0   3   0  16\n",
      "    0  50   0  51   0 158   0  16   0 102   0  55   0 156   0  87   0 158\n",
      "    0  46   0 147   0  46   0   3   0  16   0  72   0  56   0  46   0  16\n",
      "    0  65   0 138   0  68   0  16   0  48   0 156   0  43   0 135   0  56\n",
      "    0  46   0  16   0  44   0  43   0 102   0  16   0  50   0 102   0  68\n",
      "    0  16   0  48   0 123   0 156   0  86   0  56   0  46   0  68   0  16\n",
      "    0  54   0 156   0 102   0  64   0 102   0 112   0  16   0 102   0  56\n",
      "    0  16   0  53   0 156   0 138   0  55   0  48   0  85   0  62   0  16\n",
      "    0 102   0  56   0  81   0  83   0  16   0  65   0 156   0  76   0 158\n",
      "    0 125   0  85   0  54   0 157   0  63   0 158   0  16   0 123   0 156\n",
      "    0  57   0 135   0  46   0   4   0]]\n",
      "c_length:[261]\n"
     ]
    },
    {
     "name": "stderr",
     "output_type": "stream",
     "text": [
      "\u001b[0;93m2024-11-27 11:49:27.088538810 [W:onnxruntime:, execution_frame.cc:870 VerifyOutputSizes] Expected shape from model of {-1,192,169} does not match actual shape of {1,192,261} for output 643\u001b[m\n",
      "\u001b[0;93m2024-11-27 11:49:27.096979392 [W:onnxruntime:, execution_frame.cc:870 VerifyOutputSizes] Expected shape from model of {-1,1,169} does not match actual shape of {1,1,261} for output duration_rounded\u001b[m\n",
      "\u001b[0;93m2024-11-27 11:49:27.097044243 [W:onnxruntime:, execution_frame.cc:870 VerifyOutputSizes] Expected shape from model of {1,359} does not match actual shape of {1,664} for output x_masks\u001b[m\n",
      "\u001b[0;93m2024-11-27 11:49:27.127544875 [W:onnxruntime:, execution_frame.cc:870 VerifyOutputSizes] Expected shape from model of {1,192,359} does not match actual shape of {1,192,664} for output logsig_z\u001b[m\n",
      "\u001b[0;93m2024-11-27 11:49:27.127697188 [W:onnxruntime:, execution_frame.cc:870 VerifyOutputSizes] Expected shape from model of {1,192,359} does not match actual shape of {1,192,664} for output mu_z\u001b[m\n",
      "\u001b[0;93m2024-11-27 11:49:27.129960008 [W:onnxruntime:, execution_frame.cc:870 VerifyOutputSizes] Expected shape from model of {1,192,359} does not match actual shape of {1,192,664} for output z\u001b[m\n",
      " 86%|███████████████████████████████████████████████████████████████████████████████▏            | 87/101 [01:00<00:10,  1.31it/s]"
     ]
    },
    {
     "name": "stdout",
     "output_type": "stream",
     "text": [
      "dt[s]: 0.9737176839262247\n",
      "RTF: 0.15542460869255592\n",
      "c:[[  0 102   0  56   0  64   0 156   0  43   0 102   0 125   0 177   0  46\n",
      "    0  16   0  81   0  83   0  16   0  55   0 156   0  72   0  56   0  16\n",
      "    0  65   0 102   0  81   0  81   0  83   0  16   0  53   0 156   0  76\n",
      "    0  48   0  16   0  62   0 135   0  16   0 156   0  86   0  56   0  62\n",
      "    0  85   0 123   0  16   0  70   0  16   0  56   0 156   0  47   0 102\n",
      "    0  44   0  85   0 123   0 102   0 112   0  16   0  50   0 156   0  43\n",
      "    0 135   0  61   0  16   0  72   0  56   0  46   0  16   0  62   0 123\n",
      "    0 156   0  43   0 102   0  16   0  70   0  16   0  54   0 156   0 102\n",
      "    0 125   0  83   0  54   0  16   0  58   0 156   0  86   0  58   0  85\n",
      "    0  55   0 157   0 102   0  56   0  62   0  16   0  48   0  76   0 158\n",
      "    0 123   0  16   0 102   0  62   0   4   0]]\n",
      "c_length:[191]\n"
     ]
    },
    {
     "name": "stderr",
     "output_type": "stream",
     "text": [
      "\u001b[0;93m2024-11-27 11:49:28.067583608 [W:onnxruntime:, execution_frame.cc:870 VerifyOutputSizes] Expected shape from model of {-1,192,169} does not match actual shape of {1,192,191} for output 643\u001b[m\n",
      "\u001b[0;93m2024-11-27 11:49:28.073987595 [W:onnxruntime:, execution_frame.cc:870 VerifyOutputSizes] Expected shape from model of {-1,1,169} does not match actual shape of {1,1,191} for output duration_rounded\u001b[m\n",
      "\u001b[0;93m2024-11-27 11:49:28.074043840 [W:onnxruntime:, execution_frame.cc:870 VerifyOutputSizes] Expected shape from model of {1,359} does not match actual shape of {1,453} for output x_masks\u001b[m\n",
      "\u001b[0;93m2024-11-27 11:49:28.095045770 [W:onnxruntime:, execution_frame.cc:870 VerifyOutputSizes] Expected shape from model of {1,192,359} does not match actual shape of {1,192,453} for output logsig_z\u001b[m\n",
      "\u001b[0;93m2024-11-27 11:49:28.095175165 [W:onnxruntime:, execution_frame.cc:870 VerifyOutputSizes] Expected shape from model of {1,192,359} does not match actual shape of {1,192,453} for output mu_z\u001b[m\n",
      "\u001b[0;93m2024-11-27 11:49:28.096762497 [W:onnxruntime:, execution_frame.cc:870 VerifyOutputSizes] Expected shape from model of {1,192,359} does not match actual shape of {1,192,453} for output z\u001b[m\n",
      " 87%|████████████████████████████████████████████████████████████████████████████████▏           | 88/101 [01:01<00:09,  1.39it/s]"
     ]
    },
    {
     "name": "stdout",
     "output_type": "stream",
     "text": [
      "dt[s]: 0.6219970560632646\n",
      "RTF: 0.15542460869255592\n",
      "c:[[  0  55   0 156   0 102   0  61   0  16   0  62   0 156   0  87   0 158\n",
      "    0  56   0  85   0   3   0  16   0  92   0 123   0 156   0  47   0 102\n",
      "    0  62   0  54   0  51   0  16   0 156   0  72   0  46   0 147   0 177\n",
      "    0  62   0 157   0  47   0 102   0 125   0 177   0  46   0   3   0  16\n",
      "    0  70   0  53   0 156   0 138   0  55   0  58   0  83   0  56   0  51\n",
      "    0  46   0  16   0  81   0  83   0  16   0  55   0 156   0  86   0  61\n",
      "    0 102   0  56   0  46   0 147   0  85   0  16   0  50   0 157   0  63\n",
      "    0 158   0  16   0  50   0  72   0  46   0  16   0  44   0 123   0 156\n",
      "    0  76   0 158   0  62   0  16   0  81   0 102   0  61   0  16   0  56\n",
      "    0 156   0  63   0 158   0  68   0   3   0  16   0  70   0  16   0  46\n",
      "    0 102   0  61   0  92   0 156   0  43   0 102   0  68   0  46   0  16\n",
      "    0  61   0 156   0  87   0 158   0  64   0  83   0  56   0  62   0  16\n",
      "    0 138   0  64   0  16   0  65   0 156   0  47   0 102   0  53   0  48\n",
      "    0  51   0 158   0  54   0  46   0  68   0   3   0]]\n",
      "c_length:[247]\n"
     ]
    },
    {
     "name": "stderr",
     "output_type": "stream",
     "text": [
      "\u001b[0;93m2024-11-27 11:49:28.698963518 [W:onnxruntime:, execution_frame.cc:870 VerifyOutputSizes] Expected shape from model of {-1,192,169} does not match actual shape of {1,192,247} for output 643\u001b[m\n",
      "\u001b[0;93m2024-11-27 11:49:28.707100871 [W:onnxruntime:, execution_frame.cc:870 VerifyOutputSizes] Expected shape from model of {-1,1,169} does not match actual shape of {1,1,247} for output duration_rounded\u001b[m\n",
      "\u001b[0;93m2024-11-27 11:49:28.707165803 [W:onnxruntime:, execution_frame.cc:870 VerifyOutputSizes] Expected shape from model of {1,359} does not match actual shape of {1,630} for output x_masks\u001b[m\n",
      "\u001b[0;93m2024-11-27 11:49:28.736520404 [W:onnxruntime:, execution_frame.cc:870 VerifyOutputSizes] Expected shape from model of {1,192,359} does not match actual shape of {1,192,630} for output logsig_z\u001b[m\n",
      "\u001b[0;93m2024-11-27 11:49:28.736666158 [W:onnxruntime:, execution_frame.cc:870 VerifyOutputSizes] Expected shape from model of {1,192,359} does not match actual shape of {1,192,630} for output mu_z\u001b[m\n",
      "\u001b[0;93m2024-11-27 11:49:28.738822985 [W:onnxruntime:, execution_frame.cc:870 VerifyOutputSizes] Expected shape from model of {1,192,359} does not match actual shape of {1,192,630} for output z\u001b[m\n",
      " 88%|█████████████████████████████████████████████████████████████████████████████████           | 89/101 [01:01<00:09,  1.29it/s]"
     ]
    },
    {
     "name": "stdout",
     "output_type": "stream",
     "text": [
      "dt[s]: 0.8967451876960695\n",
      "RTF: 0.15542460869255592\n",
      "c:[[  0  81   0 102   0  16   0 156   0  87   0 158   0  54   0 102   0 102\n",
      "    0  61   0  62   0  16   0 156   0  76   0 158   0 123   0  92   0  83\n",
      "    0  56   0 157   0 102   0  68   0  83   0  55   0  68   0  16   0  65\n",
      "    0  87   0 158   0  16   0  58   0 123   0 156   0  69   0 158   0 125\n",
      "    0 102   0  61   0  62   0  61   0  16   0  72   0  56   0  46   0  16\n",
      "    0  81   0  72   0  62   0  16   0  48   0 123   0 138   0  55   0  16\n",
      "    0  81   0 157   0  86   0  55   0  16   0 156   0  72   0  56   0 102\n",
      "    0  55   0  83   0  54   0  68   0  16   0  72   0  56   0  46   0  16\n",
      "    0  58   0  54   0 156   0  72   0  56   0  62   0  61   0  16   0  65\n",
      "    0  87   0 158   0 123   0  16   0 102   0  64   0 156   0  69   0 158\n",
      "    0  54   0  64   0  46   0  16   0  70   0  54   0 156   0  76   0 112\n",
      "    0  16   0  46   0  43   0 102   0  64   0 156   0  87   0 158   0  46\n",
      "    0 147   0  83   0  56   0  62   0  16   0  54   0 156   0  43   0 102\n",
      "    0  56   0  68   0  16   0 138   0  64   0  16   0  46   0 177   0  61\n",
      "    0 156   0  86   0  56   0  62   0   4   0]]\n",
      "c_length:[263]\n"
     ]
    },
    {
     "name": "stderr",
     "output_type": "stream",
     "text": [
      "\u001b[0;93m2024-11-27 11:49:29.606220305 [W:onnxruntime:, execution_frame.cc:870 VerifyOutputSizes] Expected shape from model of {-1,192,169} does not match actual shape of {1,192,263} for output 643\u001b[m\n",
      "\u001b[0;93m2024-11-27 11:49:29.614422872 [W:onnxruntime:, execution_frame.cc:870 VerifyOutputSizes] Expected shape from model of {-1,1,169} does not match actual shape of {1,1,263} for output duration_rounded\u001b[m\n",
      "\u001b[0;93m2024-11-27 11:49:29.614478598 [W:onnxruntime:, execution_frame.cc:870 VerifyOutputSizes] Expected shape from model of {1,359} does not match actual shape of {1,626} for output x_masks\u001b[m\n",
      "\u001b[0;93m2024-11-27 11:49:29.643872319 [W:onnxruntime:, execution_frame.cc:870 VerifyOutputSizes] Expected shape from model of {1,192,359} does not match actual shape of {1,192,626} for output logsig_z\u001b[m\n",
      "\u001b[0;93m2024-11-27 11:49:29.644023030 [W:onnxruntime:, execution_frame.cc:870 VerifyOutputSizes] Expected shape from model of {1,192,359} does not match actual shape of {1,192,626} for output mu_z\u001b[m\n",
      "\u001b[0;93m2024-11-27 11:49:29.646166981 [W:onnxruntime:, execution_frame.cc:870 VerifyOutputSizes] Expected shape from model of {1,192,359} does not match actual shape of {1,192,626} for output z\u001b[m\n",
      " 89%|█████████████████████████████████████████████████████████████████████████████████▉          | 90/101 [01:02<00:08,  1.24it/s]"
     ]
    },
    {
     "name": "stdout",
     "output_type": "stream",
     "text": [
      "dt[s]: 0.8682265128009021\n",
      "RTF: 0.15542460869255592\n",
      "c:[[  0  50   0  51   0 158   0  16   0  65   0 138   0  68   0  16   0  61\n",
      "    0 156   0  86   0  56   0  62   0  16   0 157   0  76   0  56   0  16\n",
      "    0  62   0  83   0  16   0  56   0 156   0  63   0 158   0  92   0  47\n",
      "    0 102   0  62   0  16   0 102   0  56   0  16   0  70   0  16   0  53\n",
      "    0 156   0  57   0 135   0  62   0 131   0   3   0  16   0  50   0 156\n",
      "    0  72   0  56   0  46   0  53   0 138   0  48   0  62   0  16   0  62\n",
      "    0 135   0  16   0  70   0  16   0  56   0 156   0  57   0 135   0 125\n",
      "    0 177   0  46   0  16   0  50   0 156   0  43   0 135   0  61   0  44\n",
      "    0 123   0 156   0  47   0 102   0  53   0  85   0   3   0  16   0  50\n",
      "    0 157   0  63   0 158   0  16   0  65   0 138   0  68   0  16   0 156\n",
      "    0  72   0  48   0  62   0  85   0  65   0  85   0  46   0  68   0  16\n",
      "    0  53   0 156   0  72   0  61   0  62   0  16   0  48   0  76   0 158\n",
      "    0 123   0  16   0  46   0 156   0  86   0 119   0   4   0]]\n",
      "c_length:[231]\n"
     ]
    },
    {
     "name": "stderr",
     "output_type": "stream",
     "text": [
      "\u001b[0;93m2024-11-27 11:49:30.480920979 [W:onnxruntime:, execution_frame.cc:870 VerifyOutputSizes] Expected shape from model of {-1,192,169} does not match actual shape of {1,192,231} for output 643\u001b[m\n",
      "\u001b[0;93m2024-11-27 11:49:30.488368767 [W:onnxruntime:, execution_frame.cc:870 VerifyOutputSizes] Expected shape from model of {-1,1,169} does not match actual shape of {1,1,231} for output duration_rounded\u001b[m\n",
      "\u001b[0;93m2024-11-27 11:49:30.488425470 [W:onnxruntime:, execution_frame.cc:870 VerifyOutputSizes] Expected shape from model of {1,359} does not match actual shape of {1,603} for output x_masks\u001b[m\n",
      "\u001b[0;93m2024-11-27 11:49:30.516533783 [W:onnxruntime:, execution_frame.cc:870 VerifyOutputSizes] Expected shape from model of {1,192,359} does not match actual shape of {1,192,603} for output logsig_z\u001b[m\n",
      "\u001b[0;93m2024-11-27 11:49:30.516674310 [W:onnxruntime:, execution_frame.cc:870 VerifyOutputSizes] Expected shape from model of {1,192,359} does not match actual shape of {1,192,603} for output mu_z\u001b[m\n",
      "\u001b[0;93m2024-11-27 11:49:30.518749400 [W:onnxruntime:, execution_frame.cc:870 VerifyOutputSizes] Expected shape from model of {1,192,359} does not match actual shape of {1,192,603} for output z\u001b[m\n",
      " 90%|██████████████████████████████████████████████████████████████████████████████████▉         | 91/101 [01:03<00:08,  1.22it/s]"
     ]
    },
    {
     "name": "stdout",
     "output_type": "stream",
     "text": [
      "dt[s]: 0.843527683056891\n",
      "RTF: 0.15542460869255592\n",
      "c:[[  0  48   0 156   0  43   0 102   0  85   0 123   0 102   0 112   0  16\n",
      "    0  48   0 156   0 102   0  48   0  62   0  51   0  16   0 123   0 156\n",
      "    0  43   0 135   0  56   0  46   0  68   0  16   0 156   0  51   0 158\n",
      "    0  62   0 131   0  16   0  46   0 156   0  47   0 102   0  16   0  48\n",
      "    0  76   0 158   0 123   0  16   0  48   0 156   0  43   0 102   0  64\n",
      "    0  16   0  46   0 156   0  47   0 102   0  68   0   4   0]]\n",
      "c_length:[105]\n"
     ]
    },
    {
     "name": "stderr",
     "output_type": "stream",
     "text": [
      "\u001b[0;93m2024-11-27 11:49:31.326380225 [W:onnxruntime:, execution_frame.cc:870 VerifyOutputSizes] Expected shape from model of {-1,192,169} does not match actual shape of {1,192,105} for output 643\u001b[m\n",
      "\u001b[0;93m2024-11-27 11:49:31.330353648 [W:onnxruntime:, execution_frame.cc:870 VerifyOutputSizes] Expected shape from model of {-1,1,169} does not match actual shape of {1,1,105} for output duration_rounded\u001b[m\n",
      "\u001b[0;93m2024-11-27 11:49:31.330409202 [W:onnxruntime:, execution_frame.cc:870 VerifyOutputSizes] Expected shape from model of {1,359} does not match actual shape of {1,266} for output x_masks\u001b[m\n",
      "\u001b[0;93m2024-11-27 11:49:31.342995506 [W:onnxruntime:, execution_frame.cc:870 VerifyOutputSizes] Expected shape from model of {1,192,359} does not match actual shape of {1,192,266} for output logsig_z\u001b[m\n",
      "\u001b[0;93m2024-11-27 11:49:31.343095489 [W:onnxruntime:, execution_frame.cc:870 VerifyOutputSizes] Expected shape from model of {1,192,359} does not match actual shape of {1,192,266} for output mu_z\u001b[m\n",
      "\u001b[0;93m2024-11-27 11:49:31.344098594 [W:onnxruntime:, execution_frame.cc:870 VerifyOutputSizes] Expected shape from model of {1,192,359} does not match actual shape of {1,192,266} for output z\u001b[m\n",
      " 91%|███████████████████████████████████████████████████████████████████████████████████▊        | 92/101 [01:04<00:06,  1.46it/s]"
     ]
    },
    {
     "name": "stdout",
     "output_type": "stream",
     "text": [
      "dt[s]: 0.3656763769686222\n",
      "RTF: 0.15542460869255592\n",
      "c:[[  0 138   0  64   0  16   0  81   0  51   0 158   0  68   0  16   0  65\n",
      "    0 156   0  76   0 158   0 123   0  46   0  68   0   3   0  16   0 119\n",
      "    0 123   0 156   0  51   0 158   0  16   0  65   0  87   0 158   0 123\n",
      "    0  16   0  70   0  58   0 123   0 156   0  57   0 135   0  58   0 123\n",
      "    0 102   0 157   0  47   0 102   0 125   0 177   0  46   0  16   0  62\n",
      "    0  83   0  16   0  81   0  83   0  16   0  11   0  53   0 156   0  72\n",
      "    0  44   0 102   0  56   0  16   0  61   0 156   0  43   0 102   0  46\n",
      "    0   3   0  11   0  16   0  61   0 157   0  57   0 135   0  16   0  53\n",
      "    0 156   0  76   0 158   0  54   0  46   0  16   0  44   0 102   0  53\n",
      "    0 156   0 138   0  68   0]]\n",
      "c_length:[169]\n"
     ]
    },
    {
     "name": "stderr",
     "output_type": "stream",
     "text": [
      "\u001b[0;93m2024-11-27 11:49:31.706540839 [W:onnxruntime:, execution_frame.cc:870 VerifyOutputSizes] Expected shape from model of {1,359} does not match actual shape of {1,425} for output x_masks\u001b[m\n",
      "\u001b[0;93m2024-11-27 11:49:31.726204157 [W:onnxruntime:, execution_frame.cc:870 VerifyOutputSizes] Expected shape from model of {1,192,359} does not match actual shape of {1,192,425} for output logsig_z\u001b[m\n",
      "\u001b[0;93m2024-11-27 11:49:31.726351070 [W:onnxruntime:, execution_frame.cc:870 VerifyOutputSizes] Expected shape from model of {1,192,359} does not match actual shape of {1,192,425} for output mu_z\u001b[m\n",
      "\u001b[0;93m2024-11-27 11:49:31.727859247 [W:onnxruntime:, execution_frame.cc:870 VerifyOutputSizes] Expected shape from model of {1,192,359} does not match actual shape of {1,192,425} for output z\u001b[m\n",
      " 92%|████████████████████████████████████████████████████████████████████████████████████▋       | 93/101 [01:04<00:05,  1.52it/s]"
     ]
    },
    {
     "name": "stdout",
     "output_type": "stream",
     "text": [
      "dt[s]: 0.5844431021250784\n",
      "RTF: 0.15542460869255592\n",
      "c:[[  0  55   0 156   0  86   0  55   0  44   0  85   0  68   0  16   0 138\n",
      "    0  64   0  81   0  83   0  16   0  65   0 156   0  43   0 102   0  62\n",
      "    0  16   0  50   0 156   0  43   0 135   0  61   0  16   0  46   0  51\n",
      "    0 158   0  62   0 156   0  47   0 102   0  54   0  16   0  65   0  87\n",
      "    0 158   0 123   0  16   0  86   0  53   0  61   0  58   0 156   0  86\n",
      "    0  53   0  62   0 177   0  46   0  16   0  62   0  83   0  16   0  48\n",
      "    0  83   0  55   0 156   0 102   0  54   0 102   0 123   0 157   0  43\n",
      "    0 102   0  68   0  16   0  81   0  86   0  55   0  61   0 156   0  86\n",
      "    0  54   0  64   0  68   0  16   0  65   0 102   0  81   0  81   0  83\n",
      "    0  16   0  46   0 177   0  61   0  53   0 123   0 156   0 102   0  58\n",
      "    0 131   0  83   0  56   0  68   0  16   0  72   0  56   0  46   0  16\n",
      "    0  48   0 156   0  57   0 135   0 125   0  83   0  92   0 123   0 157\n",
      "    0  72   0  48   0  68   0  16   0 138   0  64   0  81   0  83   0  16\n",
      "    0  50   0 156   0  43   0 102   0 102   0  61   0  62   0  16   0 123\n",
      "    0 156   0 102   0  61   0  53   0  16   0  53   0 156   0  47   0 102\n",
      "    0  61   0 177   0  68   0   4   0]]\n",
      "c_length:[279]\n"
     ]
    },
    {
     "name": "stderr",
     "output_type": "stream",
     "text": [
      "\u001b[0;93m2024-11-27 11:49:32.297167732 [W:onnxruntime:, execution_frame.cc:870 VerifyOutputSizes] Expected shape from model of {-1,192,169} does not match actual shape of {1,192,279} for output 643\u001b[m\n",
      "\u001b[0;93m2024-11-27 11:49:32.306028449 [W:onnxruntime:, execution_frame.cc:870 VerifyOutputSizes] Expected shape from model of {-1,1,169} does not match actual shape of {1,1,279} for output duration_rounded\u001b[m\n",
      "\u001b[0;93m2024-11-27 11:49:32.306094465 [W:onnxruntime:, execution_frame.cc:870 VerifyOutputSizes] Expected shape from model of {1,359} does not match actual shape of {1,707} for output x_masks\u001b[m\n",
      "\u001b[0;93m2024-11-27 11:49:32.339286928 [W:onnxruntime:, execution_frame.cc:870 VerifyOutputSizes] Expected shape from model of {1,192,359} does not match actual shape of {1,192,707} for output logsig_z\u001b[m\n",
      "\u001b[0;93m2024-11-27 11:49:32.339451182 [W:onnxruntime:, execution_frame.cc:870 VerifyOutputSizes] Expected shape from model of {1,192,359} does not match actual shape of {1,192,707} for output mu_z\u001b[m\n",
      "\u001b[0;93m2024-11-27 11:49:32.341854829 [W:onnxruntime:, execution_frame.cc:870 VerifyOutputSizes] Expected shape from model of {1,192,359} does not match actual shape of {1,192,707} for output z\u001b[m\n",
      " 93%|█████████████████████████████████████████████████████████████████████████████████████▌      | 94/101 [01:05<00:05,  1.32it/s]"
     ]
    },
    {
     "name": "stdout",
     "output_type": "stream",
     "text": [
      "dt[s]: 0.9920109310187399\n",
      "RTF: 0.15542460869255592\n",
      "c:[[  0 156   0  72   0  48   0  62   0  85   0  16   0  81   0  83   0  16\n",
      "    0  52   0 156   0  57   0 135   0  55   0  83   0  56   0  16   0  50\n",
      "    0  72   0  46   0  16   0 123   0 177   0  53   0  65   0 156   0  86\n",
      "    0  61   0  62   0 177   0  46   0  16   0  50   0 157   0 102   0  55\n",
      "    0  16   0  62   0  83   0  16   0  61   0  62   0 156   0  72   0  56\n",
      "    0  46   0  16   0 156   0 138   0  58   0   3   0  16   0  50   0  51\n",
      "    0 158   0  16   0  58   0 156   0 102   0  56   0  51   0  83   0  56\n",
      "    0  46   0  16   0  50   0 157   0 102   0  55   0   3   0  72   0  68\n",
      "    0  16   0  81   0  83   0  16   0  56   0 156   0  63   0 158   0  92\n",
      "    0  47   0 102   0  62   0  16   0  48   0 123   0 156   0  47   0 102\n",
      "    0  68   0  16   0 102   0  68   0]]\n",
      "c_length:[189]\n"
     ]
    },
    {
     "name": "stderr",
     "output_type": "stream",
     "text": [
      "\u001b[0;93m2024-11-27 11:49:33.292687697 [W:onnxruntime:, execution_frame.cc:870 VerifyOutputSizes] Expected shape from model of {-1,192,169} does not match actual shape of {1,192,189} for output 643\u001b[m\n",
      "\u001b[0;93m2024-11-27 11:49:33.299269480 [W:onnxruntime:, execution_frame.cc:870 VerifyOutputSizes] Expected shape from model of {-1,1,169} does not match actual shape of {1,1,189} for output duration_rounded\u001b[m\n",
      "\u001b[0;93m2024-11-27 11:49:33.299331978 [W:onnxruntime:, execution_frame.cc:870 VerifyOutputSizes] Expected shape from model of {1,359} does not match actual shape of {1,490} for output x_masks\u001b[m\n",
      "\u001b[0;93m2024-11-27 11:49:33.321925438 [W:onnxruntime:, execution_frame.cc:870 VerifyOutputSizes] Expected shape from model of {1,192,359} does not match actual shape of {1,192,490} for output logsig_z\u001b[m\n",
      "\u001b[0;93m2024-11-27 11:49:33.322065386 [W:onnxruntime:, execution_frame.cc:870 VerifyOutputSizes] Expected shape from model of {1,192,359} does not match actual shape of {1,192,490} for output mu_z\u001b[m\n",
      "\u001b[0;93m2024-11-27 11:49:33.323776470 [W:onnxruntime:, execution_frame.cc:870 VerifyOutputSizes] Expected shape from model of {1,192,359} does not match actual shape of {1,192,490} for output z\u001b[m\n",
      " 94%|██████████████████████████████████████████████████████████████████████████████████████▌     | 95/101 [01:06<00:04,  1.35it/s]"
     ]
    },
    {
     "name": "stdout",
     "output_type": "stream",
     "text": [
      "dt[s]: 0.6793131600134075\n",
      "RTF: 0.15542460869255592\n",
      "c:[[  0  65   0 156   0  86   0  56   0  61   0  16   0  81   0  47   0 102\n",
      "    0  16   0  54   0 156   0  86   0  62   0  16   0  81   0  86   0  55\n",
      "    0  61   0 156   0  86   0  54   0  64   0  68   0  16   0  46   0 157\n",
      "    0  43   0 135   0  56   0  16   0 157   0 102   0  56   0  62   0 135\n",
      "    0  16   0  81   0  83   0  16   0  61   0  62   0 123   0 156   0  51\n",
      "    0 158   0  62   0  16   0  44   0  43   0 102   0  16   0  81   0  83\n",
      "    0  16   0 123   0 156   0  57   0 135   0  58   0   4   0]]\n",
      "c_length:[123]\n"
     ]
    },
    {
     "name": "stderr",
     "output_type": "stream",
     "text": [
      "\u001b[0;93m2024-11-27 11:49:33.978398911 [W:onnxruntime:, execution_frame.cc:870 VerifyOutputSizes] Expected shape from model of {-1,192,169} does not match actual shape of {1,192,123} for output 643\u001b[m\n",
      "\u001b[0;93m2024-11-27 11:49:33.983069542 [W:onnxruntime:, execution_frame.cc:870 VerifyOutputSizes] Expected shape from model of {-1,1,169} does not match actual shape of {1,1,123} for output duration_rounded\u001b[m\n",
      "\u001b[0;93m2024-11-27 11:49:33.983129780 [W:onnxruntime:, execution_frame.cc:870 VerifyOutputSizes] Expected shape from model of {1,359} does not match actual shape of {1,283} for output x_masks\u001b[m\n",
      "\u001b[0;93m2024-11-27 11:49:33.996376651 [W:onnxruntime:, execution_frame.cc:870 VerifyOutputSizes] Expected shape from model of {1,192,359} does not match actual shape of {1,192,283} for output logsig_z\u001b[m\n",
      "\u001b[0;93m2024-11-27 11:49:33.996479042 [W:onnxruntime:, execution_frame.cc:870 VerifyOutputSizes] Expected shape from model of {1,192,359} does not match actual shape of {1,192,283} for output mu_z\u001b[m\n",
      "\u001b[0;93m2024-11-27 11:49:33.997531219 [W:onnxruntime:, execution_frame.cc:870 VerifyOutputSizes] Expected shape from model of {1,192,359} does not match actual shape of {1,192,283} for output z\u001b[m\n",
      " 95%|███████████████████████████████████████████████████████████████████████████████████████▍    | 96/101 [01:06<00:03,  1.58it/s]"
     ]
    },
    {
     "name": "stdout",
     "output_type": "stream",
     "text": [
      "dt[s]: 0.38627024879679084\n",
      "RTF: 0.15542460869255592\n",
      "c:[[  0  61   0 157   0 138   0  55   0  16   0  43   0 102   0  46   0 156\n",
      "    0  51   0  83   0  16   0 138   0  64   0  81   0  83   0  16   0  53\n",
      "    0  83   0  55   0  58   0 156   0  72   0 123   0  83   0  62   0 157\n",
      "    0 102   0  64   0  16   0  52   0 156   0  63   0 158   0  61   0  54\n",
      "    0  83   0  61   0  56   0  83   0  61   0  16   0 138   0  64   0  16\n",
      "    0  81   0  51   0 158   0  68   0  16   0  61   0  55   0 156   0  76\n",
      "    0 158   0  54   0  16   0  44   0 156   0 138   0 123   0  57   0 135\n",
      "    0  16   0  58   0 123   0 156   0 102   0  68   0  83   0  56   0  68\n",
      "    0  16   0  65   0 138   0  68   0  16   0  53   0  83   0  56   0  64\n",
      "    0 156   0  47   0 102   0  46   0  16   0  44   0  43   0 102   0  16\n",
      "    0  61   0 157   0 138   0  55   0  16   0  48   0 156   0 102   0  92\n",
      "    0  52   0  85   0  68   0  16   0  53   0  65   0 156   0  57   0 135\n",
      "    0 125   0 177   0  46   0  16   0  44   0  43   0 102   0  16   0  81\n",
      "    0  83   0  16   0  53   0  83   0  55   0 156   0 102   0 125   0  51\n",
      "    0   4   0]]\n",
      "c_length:[255]\n"
     ]
    },
    {
     "name": "stderr",
     "output_type": "stream",
     "text": [
      "\u001b[0;93m2024-11-27 11:49:34.375510582 [W:onnxruntime:, execution_frame.cc:870 VerifyOutputSizes] Expected shape from model of {-1,192,169} does not match actual shape of {1,192,255} for output 643\u001b[m\n",
      "\u001b[0;93m2024-11-27 11:49:34.383437646 [W:onnxruntime:, execution_frame.cc:870 VerifyOutputSizes] Expected shape from model of {-1,1,169} does not match actual shape of {1,1,255} for output duration_rounded\u001b[m\n",
      "\u001b[0;93m2024-11-27 11:49:34.383495296 [W:onnxruntime:, execution_frame.cc:870 VerifyOutputSizes] Expected shape from model of {1,359} does not match actual shape of {1,600} for output x_masks\u001b[m\n",
      "\u001b[0;93m2024-11-27 11:49:34.411122029 [W:onnxruntime:, execution_frame.cc:870 VerifyOutputSizes] Expected shape from model of {1,192,359} does not match actual shape of {1,192,600} for output logsig_z\u001b[m\n",
      "\u001b[0;93m2024-11-27 11:49:34.411256929 [W:onnxruntime:, execution_frame.cc:870 VerifyOutputSizes] Expected shape from model of {1,192,359} does not match actual shape of {1,192,600} for output mu_z\u001b[m\n",
      "\u001b[0;93m2024-11-27 11:49:34.413312229 [W:onnxruntime:, execution_frame.cc:870 VerifyOutputSizes] Expected shape from model of {1,192,359} does not match actual shape of {1,192,600} for output z\u001b[m\n",
      " 96%|████████████████████████████████████████████████████████████████████████████████████████▎   | 97/101 [01:07<00:02,  1.44it/s]"
     ]
    },
    {
     "name": "stdout",
     "output_type": "stream",
     "text": [
      "dt[s]: 0.8326223939657211\n",
      "RTF: 0.15542460869255592\n",
      "c:[[  0 131   0  51   0 158   0  16   0 123   0 156   0  51   0 158   0  83\n",
      "    0  54   0  43   0 102   0  68   0 177   0  68   0  16   0  81   0  72\n",
      "    0  62   0  16   0 131   0  51   0 158   0  16   0 102   0  68   0  16\n",
      "    0  44   0 156   0  43   0 135   0  56   0  46   0  16   0  76   0  56\n",
      "    0  81   0  83   0  16   0  54   0 156   0  76   0 112   0  16   0  46\n",
      "    0 147   0 156   0  87   0 158   0  56   0  51   0  16   0  83   0  53\n",
      "    0 123   0 157   0  69   0 158   0  61   0  16   0  81   0  83   0  16\n",
      "    0  46   0 156   0  86   0  68   0  85   0  62   0   4   0  16   0 156\n",
      "    0  43   0 135   0  85   0 123   0  16   0 156   0  72   0  48   0  62\n",
      "    0  85   0 123   0  16   0 156   0  43   0 135   0  85   0  16   0 131\n",
      "    0  51   0 158   0  16   0  44   0 156   0  86   0 123   0  68   0  16\n",
      "    0  52   0  63   0 158   0  16   0 157   0  57   0 135   0  64   0  85\n",
      "    0  16   0  81   0  83   0  16   0  50   0 156   0  69   0 158   0 123\n",
      "    0  46   0  16   0  55   0  83   0  56   0 156   0  69   0 158   0  62\n",
      "    0  83   0  56   0  83   0  61   0  16   0  58   0  54   0 156   0  47\n",
      "    0 102   0  56   0   4   0]]\n",
      "c_length:[277]\n"
     ]
    },
    {
     "name": "stderr",
     "output_type": "stream",
     "text": [
      "\u001b[0;93m2024-11-27 11:49:35.217717950 [W:onnxruntime:, execution_frame.cc:870 VerifyOutputSizes] Expected shape from model of {-1,192,169} does not match actual shape of {1,192,277} for output 643\u001b[m\n",
      "\u001b[0;93m2024-11-27 11:49:35.226495307 [W:onnxruntime:, execution_frame.cc:870 VerifyOutputSizes] Expected shape from model of {-1,1,169} does not match actual shape of {1,1,277} for output duration_rounded\u001b[m\n",
      "\u001b[0;93m2024-11-27 11:49:35.226561565 [W:onnxruntime:, execution_frame.cc:870 VerifyOutputSizes] Expected shape from model of {1,359} does not match actual shape of {1,694} for output x_masks\u001b[m\n",
      "\u001b[0;93m2024-11-27 11:49:35.258762631 [W:onnxruntime:, execution_frame.cc:870 VerifyOutputSizes] Expected shape from model of {1,192,359} does not match actual shape of {1,192,694} for output logsig_z\u001b[m\n",
      "\u001b[0;93m2024-11-27 11:49:35.258918481 [W:onnxruntime:, execution_frame.cc:870 VerifyOutputSizes] Expected shape from model of {1,192,359} does not match actual shape of {1,192,694} for output mu_z\u001b[m\n",
      "\u001b[0;93m2024-11-27 11:49:35.261285497 [W:onnxruntime:, execution_frame.cc:870 VerifyOutputSizes] Expected shape from model of {1,192,359} does not match actual shape of {1,192,694} for output z\u001b[m\n",
      " 97%|█████████████████████████████████████████████████████████████████████████████████████████▎  | 98/101 [01:08<00:02,  1.28it/s]"
     ]
    },
    {
     "name": "stdout",
     "output_type": "stream",
     "text": [
      "dt[s]: 0.959813236258924\n",
      "RTF: 0.15542460869255592\n",
      "c:[[  0  50   0  51   0 158   0  16   0  61   0 156   0  76   0 158   0  16\n",
      "    0  55   0 156   0 102   0  61   0  62   0  85   0  16   0  44   0 123\n",
      "    0 156   0 102   0  92   0  68   0  16   0  65   0 156   0  69   0 158\n",
      "    0  62   0 131   0  62   0 131   0 156   0  47   0 102   0  56   0   3\n",
      "    0  16   0  72   0  56   0  46   0  16   0  48   0 156   0  69   0 158\n",
      "    0  54   0  57   0 135   0  46   0  16   0  50   0 157   0 102   0  55\n",
      "    0  16   0 156   0 102   0  56   0  61   0  62   0  83   0  56   0  62\n",
      "    0  54   0  51   0  16   0 157   0 102   0  56   0  62   0 135   0  16\n",
      "    0  81   0  83   0  16   0  53   0 156   0  72   0 123   0 102   0  46\n",
      "    0 147   0   3   0  16   0  46   0 102   0  62   0 156   0  87   0 158\n",
      "    0  55   0 102   0  56   0  46   0  16   0  62   0  83   0  16   0  50\n",
      "    0  72   0  64   0  16   0 102   0 125   0  16   0  72   0 125   0  16\n",
      "    0 156   0  76   0 158   0  54   0  16   0  53   0 156   0  76   0  61\n",
      "    0  62   0  61   0   4   0]]\n",
      "c_length:[241]\n"
     ]
    },
    {
     "name": "stderr",
     "output_type": "stream",
     "text": [
      "\u001b[0;93m2024-11-27 11:49:36.193168389 [W:onnxruntime:, execution_frame.cc:870 VerifyOutputSizes] Expected shape from model of {-1,192,169} does not match actual shape of {1,192,241} for output 643\u001b[m\n",
      "\u001b[0;93m2024-11-27 11:49:36.200846330 [W:onnxruntime:, execution_frame.cc:870 VerifyOutputSizes] Expected shape from model of {-1,1,169} does not match actual shape of {1,1,241} for output duration_rounded\u001b[m\n",
      "\u001b[0;93m2024-11-27 11:49:36.200906063 [W:onnxruntime:, execution_frame.cc:870 VerifyOutputSizes] Expected shape from model of {1,359} does not match actual shape of {1,631} for output x_masks\u001b[m\n",
      "\u001b[0;93m2024-11-27 11:49:36.230205152 [W:onnxruntime:, execution_frame.cc:870 VerifyOutputSizes] Expected shape from model of {1,192,359} does not match actual shape of {1,192,631} for output logsig_z\u001b[m\n",
      "\u001b[0;93m2024-11-27 11:49:36.230351031 [W:onnxruntime:, execution_frame.cc:870 VerifyOutputSizes] Expected shape from model of {1,192,359} does not match actual shape of {1,192,631} for output mu_z\u001b[m\n",
      "\u001b[0;93m2024-11-27 11:49:36.232518268 [W:onnxruntime:, execution_frame.cc:870 VerifyOutputSizes] Expected shape from model of {1,192,359} does not match actual shape of {1,192,631} for output z\u001b[m\n",
      " 98%|██████████████████████████████████████████████████████████████████████████████████████████▏ | 99/101 [01:09<00:01,  1.23it/s]"
     ]
    },
    {
     "name": "stdout",
     "output_type": "stream",
     "text": [
      "dt[s]: 0.8711909018456936\n",
      "RTF: 0.15542460869255592\n",
      "c:[[  0  81   0  83   0  16   0 119   0 156   0  87   0 158   0  46   0  16\n",
      "    0  58   0 157   0  69   0 158   0  61   0  83   0  44   0 156   0 102\n",
      "    0  54   0 177   0 125   0  51   0   3   0  16   0  81   0  83   0  16\n",
      "    0  62   0 123   0 156   0  47   0 102   0  46   0  16   0  55   0 156\n",
      "    0  69   0 158   0 123   0  62   0   3   0  16   0  70   0  16   0  50\n",
      "    0 156   0  72   0  56   0  46   0  61   0 138   0  55   0  16   0  56\n",
      "    0 156   0  63   0 158   0  16   0  44   0 156   0 102   0  54   0  46\n",
      "    0 102   0 112   0  16   0  65   0 102   0  81   0  16   0 156   0  76\n",
      "    0 158   0  54   0  16   0  81   0  83   0  16   0  56   0 156   0  86\n",
      "    0  61   0 177   0  61   0  85   0 123   0  51   0  16   0  48   0  83\n",
      "    0  61   0 156   0 102   0  54   0 177   0 125   0  51   0  68   0   3\n",
      "    0  16   0  58   0 123   0 102   0  68   0 156   0  86   0  56   0  62\n",
      "    0 177   0  46   0  16   0  61   0 177   0  53   0  52   0 156   0 135\n",
      "    0 123   0 123   0 177   0 125   0  51   0  16   0  58   0 123   0 156\n",
      "    0  69   0 158   0  44   0  54   0  83   0  55   0  68   0   4   0  16\n",
      "    0 102   0  62   0  16   0  50   0  72   0  46   0  16   0  56   0 156\n",
      "    0  63   0 158   0  55   0  85   0 123   0  83   0  61   0  16   0 156\n",
      "    0  86   0  56   0  62   0 123   0  83   0  56   0  61   0 177   0  68\n",
      "    0   3   0]]\n",
      "c_length:[327]\n"
     ]
    },
    {
     "name": "stderr",
     "output_type": "stream",
     "text": [
      "\u001b[0;93m2024-11-27 11:49:37.075958457 [W:onnxruntime:, execution_frame.cc:870 VerifyOutputSizes] Expected shape from model of {-1,192,169} does not match actual shape of {1,192,327} for output 643\u001b[m\n",
      "\u001b[0;93m2024-11-27 11:49:37.085605911 [W:onnxruntime:, execution_frame.cc:870 VerifyOutputSizes] Expected shape from model of {-1,1,169} does not match actual shape of {1,1,327} for output duration_rounded\u001b[m\n",
      "\u001b[0;93m2024-11-27 11:49:37.085665982 [W:onnxruntime:, execution_frame.cc:870 VerifyOutputSizes] Expected shape from model of {1,359} does not match actual shape of {1,893} for output x_masks\u001b[m\n",
      "\u001b[0;93m2024-11-27 11:49:37.128570869 [W:onnxruntime:, execution_frame.cc:870 VerifyOutputSizes] Expected shape from model of {1,192,359} does not match actual shape of {1,192,893} for output logsig_z\u001b[m\n",
      "\u001b[0;93m2024-11-27 11:49:37.128776311 [W:onnxruntime:, execution_frame.cc:870 VerifyOutputSizes] Expected shape from model of {1,192,359} does not match actual shape of {1,192,893} for output mu_z\u001b[m\n",
      "\u001b[0;93m2024-11-27 11:49:37.131774594 [W:onnxruntime:, execution_frame.cc:870 VerifyOutputSizes] Expected shape from model of {1,192,359} does not match actual shape of {1,192,893} for output z\u001b[m\n",
      " 99%|██████████████████████████████████████████████████████████████████████████████████████████ | 100/101 [01:10<00:00,  1.05it/s]"
     ]
    },
    {
     "name": "stdout",
     "output_type": "stream",
     "text": [
      "dt[s]: 1.2832226366735995\n",
      "RTF: 0.15542460869255592\n",
      "c:[[  0  53   0 156   0  47   0 102   0  55   0  16   0 157   0  43   0 135\n",
      "    0 125   0  83   0  64   0  16   0  81   0  83   0  16   0  53   0 156\n",
      "    0  72   0  44   0 102   0  56   0   3   0  16   0  65   0 138   0  68\n",
      "    0  16   0  53   0 156   0  76   0 158   0  62   0  16   0  56   0 157\n",
      "    0 102   0 123   0  16   0  81   0  83   0  16   0  53   0  83   0  55\n",
      "    0  58   0 156   0  72   0  56   0  51   0  83   0  56   0  16   0  44\n",
      "    0  43   0 102   0  16   0  81   0  83   0  16   0 123   0 156   0  86\n",
      "    0  61   0  62   0  16   0 138   0  64   0  81   0  83   0  16   0  55\n",
      "    0  52   0 157   0  63   0 158   0  62   0 102   0  56   0 156   0 102\n",
      "    0 123   0  68   0   3   0  16   0  72   0  56   0  46   0  16   0  58\n",
      "    0 123   0 156   0  69   0 158   0  55   0  58   0  62   0  54   0  51\n",
      "    0  16   0  46   0 102   0  61   0  58   0 156   0  72   0  62   0 131\n",
      "    0  62   0  16   0  65   0 102   0  81   0  16   0  46   0 156   0  72\n",
      "    0  92   0  85   0  68   0   4   0]]\n",
      "c_length:[243]\n"
     ]
    },
    {
     "name": "stderr",
     "output_type": "stream",
     "text": [
      "\u001b[0;93m2024-11-27 11:49:38.365370484 [W:onnxruntime:, execution_frame.cc:870 VerifyOutputSizes] Expected shape from model of {-1,192,169} does not match actual shape of {1,192,243} for output 643\u001b[m\n",
      "\u001b[0;93m2024-11-27 11:49:38.373088345 [W:onnxruntime:, execution_frame.cc:870 VerifyOutputSizes] Expected shape from model of {-1,1,169} does not match actual shape of {1,1,243} for output duration_rounded\u001b[m\n",
      "\u001b[0;93m2024-11-27 11:49:38.373148958 [W:onnxruntime:, execution_frame.cc:870 VerifyOutputSizes] Expected shape from model of {1,359} does not match actual shape of {1,629} for output x_masks\u001b[m\n",
      "\u001b[0;93m2024-11-27 11:49:38.402536655 [W:onnxruntime:, execution_frame.cc:870 VerifyOutputSizes] Expected shape from model of {1,192,359} does not match actual shape of {1,192,629} for output logsig_z\u001b[m\n",
      "\u001b[0;93m2024-11-27 11:49:38.402700390 [W:onnxruntime:, execution_frame.cc:870 VerifyOutputSizes] Expected shape from model of {1,192,359} does not match actual shape of {1,192,629} for output mu_z\u001b[m\n",
      "\u001b[0;93m2024-11-27 11:49:38.404858764 [W:onnxruntime:, execution_frame.cc:870 VerifyOutputSizes] Expected shape from model of {1,192,359} does not match actual shape of {1,192,629} for output z\u001b[m\n",
      "100%|███████████████████████████████████████████████████████████████████████████████████████████| 101/101 [01:11<00:00,  1.41it/s]"
     ]
    },
    {
     "name": "stdout",
     "output_type": "stream",
     "text": [
      "dt[s]: 0.888827133923769\n",
      "RTF: 0.15542460869255592\n",
      "eval_json_path: result4eval/stoch/eval4nix_stoch.json\n",
      "Make result4eval/stoch/eval4nix_stoch.json\n",
      "fin\n"
     ]
    },
    {
     "name": "stderr",
     "output_type": "stream",
     "text": [
      "\n"
     ]
    }
   ],
   "source": [
    "eval_list = []\n",
    "\n",
    "for index in tqdm(range(infer_data_num)):\n",
    "    # load ctensor\n",
    "    c = np.array(info_jsonl[index]['c'])\n",
    "    c_length = np.array(info_jsonl[index]['c_length'])\n",
    "    print(f'c:{c}')\n",
    "    print(f'c_length:{c_length}')\n",
    "\n",
    "    # inference\n",
    "    start_time = time.perf_counter()\n",
    "\n",
    "    xw = nix.vocalize(c, c_length)\n",
    "\n",
    "    end_time = time.perf_counter()\n",
    "\n",
    "    dt = end_time - start_time\n",
    "    audio_playback_time = (len(xw[0,0]) / 22050)\n",
    "    RTF4wav = dt / audio_playback_time\n",
    "    print(f'dt[s]: {dt}')\n",
    "    print(f'RTF: {RTF}')\n",
    "\n",
    "    wav_path = wav_dir_path / f'{info_jsonl[index][\"name\"]}.wav'\n",
    "    eval_dict = {\n",
    "        'name': info_jsonl[index]['name'],\n",
    "        'path': str(wav_path),\n",
    "        'text': info_jsonl[index]['text'],\n",
    "        'audio_playback_time': audio_playback_time,\n",
    "        'dt': dt,\n",
    "        'RTF4wav': RTF4wav,\n",
    "    }\n",
    "    eval_list.append(eval_dict)\n",
    "    # save wav\n",
    "    sf.write(wav_path, xw[0,0], samplerate=22050, subtype='PCM_16')\n",
    "\n",
    "\n",
    "\n",
    "eval_json_path = results_dir_path / f'eval4nix_{flag4model}.json'\n",
    "print(f'eval_json_path: {eval_json_path}')\n",
    "if eval_json_path.exists() == False:\n",
    "    with open(eval_json_path, 'w') as f:\n",
    "        for entry in eval_list:\n",
    "            f.write(json.dumps(entry) + '\\n')\n",
    "    print(f'Make {eval_json_path}')\n",
    "else:\n",
    "    print(f'Already Exists {eval_json_path}')\n",
    "print('fin')"
   ]
  },
  {
   "cell_type": "code",
   "execution_count": 13,
   "id": "0f08215a-fdda-4b83-87ad-d83a825941e5",
   "metadata": {},
   "outputs": [
    {
     "data": {
      "text/plain": [
       "{'name': 'LJ045-0049',\n",
       " 'path': 'result4eval/stoch/nix_wavs/LJ045-0049.wav',\n",
       " 'text': 'Lee would say that it would be better for me if I went to Russia. I did not know why. I did not know what he had in mind.',\n",
       " 'audio_playback_time': 7.209795918367347,\n",
       " 'dt': 0.9196576047688723,\n",
       " 'RTF4wav': 0.12755667638608112}"
      ]
     },
     "execution_count": 13,
     "metadata": {},
     "output_type": "execute_result"
    }
   ],
   "source": [
    "eval_list[0]"
   ]
  },
  {
   "cell_type": "markdown",
   "id": "045d5f2c-baab-483a-bd4a-a9ba380b4afa",
   "metadata": {},
   "source": [
    "## recheck"
   ]
  },
  {
   "cell_type": "code",
   "execution_count": 14,
   "id": "ce614ac1-c9de-4703-8a93-91c1af0b6264",
   "metadata": {},
   "outputs": [
    {
     "name": "stdout",
     "output_type": "stream",
     "text": [
      "eval_jsonl_path: result4eval/stoch/eval4nix_stoch.json\n",
      "Exist result4eval/stoch/eval4nix_stoch.json\n"
     ]
    }
   ],
   "source": [
    "eval_jsonl_path = results_dir_path / f'eval4nix_{flag4model}.json'\n",
    "print(f'eval_jsonl_path: {eval_jsonl_path}')\n",
    "\n",
    "if eval_jsonl_path.exists() == True:\n",
    "    print(f'Exist {eval_jsonl_path}')\n",
    "    import json\n",
    "    with open(eval_jsonl_path) as f:\n",
    "        eval_jsonl_list = [json.loads(l) for l in f]\n",
    "else:\n",
    "    print(f'No Exists {eval_jsonl_path}')"
   ]
  },
  {
   "cell_type": "code",
   "execution_count": 15,
   "id": "ab4cf750-4b9d-4792-af75-ac8087d649ef",
   "metadata": {},
   "outputs": [
    {
     "name": "stdout",
     "output_type": "stream",
     "text": [
      "[]\n"
     ]
    }
   ],
   "source": [
    "diff_result = list(filter(lambda x: x not in eval_list, eval_jsonl_list))\n",
    "print(diff_result)"
   ]
  },
  {
   "cell_type": "markdown",
   "id": "5ab50f7b-661d-42df-b82d-c07faa72afe7",
   "metadata": {},
   "source": [
    "## calc Indicator"
   ]
  },
  {
   "cell_type": "code",
   "execution_count": 16,
   "id": "7380da5c-ab2e-4fc7-91a5-4b3233cb0c8f",
   "metadata": {},
   "outputs": [],
   "source": [
    "def round_significant_digits(value, significant_digits=5):\n",
    "    if value == 0:\n",
    "        return 0\n",
    "\n",
    "    import math\n",
    "    scale = math.floor(-math.log10(abs(value)))  # Find the first nonzero after the decimal point\n",
    "    factor = 10 ** (scale + significant_digits - 1)  # Scale to hold 5 significant digits\n",
    "\n",
    "    rounded_value = round(value * factor,1) / factor  # Adjust and round off the scale\n",
    "    return rounded_value"
   ]
  },
  {
   "cell_type": "code",
   "execution_count": 17,
   "id": "cf8b9899-7326-45ed-bbb2-a75fbadb9a92",
   "metadata": {},
   "outputs": [],
   "source": [
    "dt_list = [eval_jsonl_list[n]['dt'] for n in range(len(eval_jsonl_list))]\n",
    "RTF4wav_list = [eval_jsonl_list[n]['RTF4wav'] for n in range(len(eval_jsonl_list))]\n",
    "dt_nparr = np.array(dt_list[1:101])\n",
    "RTF4wav_nparr = np.array(RTF4wav_list[1:101])"
   ]
  },
  {
   "cell_type": "code",
   "execution_count": 18,
   "id": "4298822c-8c68-47c0-84d2-bd88424a54e7",
   "metadata": {},
   "outputs": [
    {
     "name": "stdout",
     "output_type": "stream",
     "text": [
      "dt ---------------------------\n",
      "dt mean: 0.6963699999999999\n",
      "dt var: 0.057168000000000004\n",
      "dt std: 0.2391\n",
      " RTF ---------------------------\n",
      "RTF mean: 0.12002\n",
      "RTF var: 3.7763e-06\n",
      "RTF std: 0.0019433\n"
     ]
    }
   ],
   "source": [
    "significant_digits = 5\n",
    "\n",
    "# for culc difference time to infer text2mel\n",
    "dt_mean = round_significant_digits(np.mean(dt_nparr), significant_digits=significant_digits)\n",
    "dt_var = round_significant_digits(np.var(dt_nparr), significant_digits=significant_digits)\n",
    "dt_std = round_significant_digits(np.std(dt_nparr), significant_digits=significant_digits)\n",
    "print(f'dt ---------------------------')\n",
    "print(f'dt mean: {dt_mean}')\n",
    "print(f'dt var: {dt_var}')\n",
    "print(f'dt std: {dt_std}')\n",
    "\n",
    "# for culc RTF4mel to infer text2mel\n",
    "RTF4wav_mean = round_significant_digits(np.mean(RTF4wav_nparr), significant_digits=significant_digits)\n",
    "RTF4wav_var = round_significant_digits(np.var(RTF4wav_nparr), significant_digits=significant_digits)\n",
    "RTF4wav_std = round_significant_digits(np.std(RTF4wav_nparr), significant_digits=significant_digits)\n",
    "print(f' RTF ---------------------------')\n",
    "print(f'RTF mean: {RTF4wav_mean}')\n",
    "print(f'RTF var: {RTF4wav_var}')\n",
    "print(f'RTF std: {RTF4wav_std}')"
   ]
  },
  {
   "cell_type": "code",
   "execution_count": null,
   "id": "88d1dd4c-2ed8-4769-8d40-ab4cbe21757f",
   "metadata": {},
   "outputs": [],
   "source": []
  },
  {
   "cell_type": "code",
   "execution_count": null,
   "id": "3af42777-0f1f-46ef-b5a6-72fbac3dc688",
   "metadata": {},
   "outputs": [],
   "source": []
  }
 ],
 "metadata": {
  "kernelspec": {
   "display_name": "Python 3 (ipykernel)",
   "language": "python",
   "name": "python3"
  },
  "language_info": {
   "codemirror_mode": {
    "name": "ipython",
    "version": 3
   },
   "file_extension": ".py",
   "mimetype": "text/x-python",
   "name": "python",
   "nbconvert_exporter": "python",
   "pygments_lexer": "ipython3",
   "version": "3.10.14"
  }
 },
 "nbformat": 4,
 "nbformat_minor": 5
}
